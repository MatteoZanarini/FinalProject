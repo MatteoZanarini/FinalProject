{
 "cells": [
  {
   "cell_type": "markdown",
   "metadata": {},
   "source": [
    "# BUSINESS ANALYTICS OF A BIBYCLES COMPANY"
   ]
  },
  {
   "cell_type": "markdown",
   "metadata": {},
   "source": [
    "# 1. Introduction\n",
    "\n",
    "## Report goal\n",
    "There is fictional cycling company that sells bicycles in different countries around the world. They would like to increase their revenue and improve their business. To do this, they provided a dataset with all their transactions in the years 2013-2014. This dataset includes product-level information about sales, profits, market segments, and geographic distribution.\n",
    "\n",
    "The main idea is to use these details to gain new insights to create or improve the marketing and sales strategy.\n",
    "\n",
    "Specifically, it will be analyze:\n",
    "- the sales trends over time using a line chart to highlight seasonality or trends;\n",
    "- the sales difference across regions using a heat map or bar chart;\n",
    "- the top-selling products using visualization charts (pie chart or bar chart);\n",
    "- the relationship between discounts and sales or profits using a scatter plot or by creating a linear model regression.\n",
    "\n",
    "## Database description\n",
    "The database is composed by 700 rows and 16 columns, each row is a sale made:\n",
    "| Name                | Type       | Description                                        |  Non-Null Count | \n",
    "|---------------------|------------|----------------------------------------------------|-----------------|\n",
    "| Segment             | object     | Market segment to which the sale belongs           | 700 non-null    |\n",
    "| Country             | object     | Country where the sale was made                    | 700 non-null    | \n",
    "| Product             | object     | Type of product sold in the sale                   | 700 non-null    | \n",
    "| Discount band       | object     | Discount band size applied in the sale             | 700 non-null    |\n",
    "| Unit sold           | int64      | Quantity of unit sold in the sale                  | 700 non-null    |\n",
    "| Manufactoring price | int64      | The production price per unit for the product sold | 700 non-null    |\n",
    "| Sale price          | int64      | The sale price per unit for the product sold       | 700 non-null    |\n",
    "| Gross sales         | int64      | Total amount of sales before any discounts         | 700 non-null    |\n",
    "| Discounts           | int64      | Amount of discount applied                         | 700 non-null    |\n",
    "| Sales               | int64      | The sale after the discount                        | 700 non-null    |\n",
    "| COGS                | object     | Cost of Goods Sold                                 | 700 non-null    |\n",
    "| Profit              | int64      | Profit made, the difference between sales and COGS | 700 non-null    |\n",
    "| Date                | datetime64 | The date the sale was made                         | 700 non-null    |\n",
    "| Month number        | int64      | The month name of the sale                         | 700 non-null    |\n",
    "| Month name          | object     | The month number of the sale                       | 700 non-null    |\n",
    "| Year                | int64      | The year of the sale                               | 700 non-null    |\n",
    "\n"
   ]
  },
  {
   "cell_type": "markdown",
   "metadata": {},
   "source": [
    "#### Packages"
   ]
  },
  {
   "cell_type": "code",
   "execution_count": 781,
   "metadata": {},
   "outputs": [],
   "source": [
    "import plotly.express as px\n",
    "import plotly.graph_objects as go\n",
    "import plotly.figure_factory as ff\n",
    "import numpy as np\n",
    "from sklearn.ensemble import RandomForestRegressor\n",
    "from sklearn.metrics import mean_absolute_error, r2_score\n",
    "import statsmodels.api as sm\n",
    "from xgboost import XGBRegressor\n"
   ]
  },
  {
   "cell_type": "markdown",
   "metadata": {},
   "source": [
    "# 2. Loading and inspection of the dataset"
   ]
  },
  {
   "cell_type": "markdown",
   "metadata": {},
   "source": [
    "Import the libraries"
   ]
  },
  {
   "cell_type": "code",

   "execution_count": 782,
   "metadata": {},
   "outputs": [
    {
     "name": "stdout",
     "output_type": "stream",
     "text": [
      "Warning: Looks like you're using an outdated `kagglehub` version (installed: 0.3.6), please consider upgrading to the latest version (0.3.7).\n",
      "Path to dataset files: C:\\Users\\pzele\\.cache\\kagglehub\\datasets\\atharvaarya25\\financials\\versions\\1\n"
     ]
    }
   ],
   "source": [
    "import os\n",
    "import kagglehub\n",
    "import pandas as pd\n",
    "import matplotlib.pyplot as plt\n",
    "import seaborn as sns\n",
    "from sklearn.linear_model import LinearRegression\n",
    "import statsmodels.api as sm"
   ]
  },
  {
   "cell_type": "markdown",
   "metadata": {},
   "source": [
    "Data import with API"
   ]
  },
  {
   "cell_type": "code",

   "execution_count": 783,
   "metadata": {},
   "outputs": [
    {
     "name": "stdout",
     "output_type": "stream",
     "text": [
      "Warning: Looks like you're using an outdated `kagglehub` version (installed: 0.3.6), please consider upgrading to the latest version (0.3.7).\n",
      "Dataset successfully loaded!\n"
     ]
    },
    {
     "data": {
      "text/html": [
       "<div>\n",
       "<style scoped>\n",
       "    .dataframe tbody tr th:only-of-type {\n",
       "        vertical-align: middle;\n",
       "    }\n",
       "\n",
       "    .dataframe tbody tr th {\n",
       "        vertical-align: top;\n",
       "    }\n",
       "\n",
       "    .dataframe thead th {\n",
       "        text-align: right;\n",
       "    }\n",
       "</style>\n",
       "<table border=\"1\" class=\"dataframe\">\n",
       "  <thead>\n",
       "    <tr style=\"text-align: right;\">\n",
       "      <th></th>\n",
       "      <th>Segment</th>\n",
       "      <th>Country</th>\n",
       "      <th>Product</th>\n",
       "      <th>Discount Band</th>\n",
       "      <th>Units Sold</th>\n",
       "      <th>Manufacturing Price</th>\n",
       "      <th>Sale Price</th>\n",
       "      <th>Gross Sales</th>\n",
       "      <th>Discounts</th>\n",
       "      <th>Sales</th>\n",
       "      <th>COGS</th>\n",
       "      <th>Profit</th>\n",
       "      <th>Date</th>\n",
       "      <th>Month Number</th>\n",
       "      <th>Month Name</th>\n",
       "      <th>Year</th>\n",
       "    </tr>\n",
       "  </thead>\n",
       "  <tbody>\n",
       "    <tr>\n",
       "      <th>0</th>\n",
       "      <td>Government</td>\n",
       "      <td>Canada</td>\n",
       "      <td>Carretera</td>\n",
       "      <td>None</td>\n",
       "      <td>$1,618.50</td>\n",
       "      <td>$3.00</td>\n",
       "      <td>$20.00</td>\n",
       "      <td>$32,370.00</td>\n",
       "      <td>$-</td>\n",
       "      <td>$32,370.00</td>\n",
       "      <td>$16,185.00</td>\n",
       "      <td>$16,185.00</td>\n",
       "      <td>01/01/2014</td>\n",
       "      <td>1</td>\n",
       "      <td>January</td>\n",
       "      <td>2014</td>\n",
       "    </tr>\n",
       "    <tr>\n",
       "      <th>1</th>\n",
       "      <td>Government</td>\n",
       "      <td>Germany</td>\n",
       "      <td>Carretera</td>\n",
       "      <td>None</td>\n",
       "      <td>$1,321.00</td>\n",
       "      <td>$3.00</td>\n",
       "      <td>$20.00</td>\n",
       "      <td>$26,420.00</td>\n",
       "      <td>$-</td>\n",
       "      <td>$26,420.00</td>\n",
       "      <td>$13,210.00</td>\n",
       "      <td>$13,210.00</td>\n",
       "      <td>01/01/2014</td>\n",
       "      <td>1</td>\n",
       "      <td>January</td>\n",
       "      <td>2014</td>\n",
       "    </tr>\n",
       "    <tr>\n",
       "      <th>2</th>\n",
       "      <td>Midmarket</td>\n",
       "      <td>France</td>\n",
       "      <td>Carretera</td>\n",
       "      <td>None</td>\n",
       "      <td>$2,178.00</td>\n",
       "      <td>$3.00</td>\n",
       "      <td>$15.00</td>\n",
       "      <td>$32,670.00</td>\n",
       "      <td>$-</td>\n",
       "      <td>$32,670.00</td>\n",
       "      <td>$21,780.00</td>\n",
       "      <td>$10,890.00</td>\n",
       "      <td>01/06/2014</td>\n",
       "      <td>6</td>\n",
       "      <td>June</td>\n",
       "      <td>2014</td>\n",
       "    </tr>\n",
       "  </tbody>\n",
       "</table>\n",
       "</div>"
      ],
      "text/plain": [
       "      Segment  Country     Product   Discount Band   Units Sold   \\\n",
       "0  Government   Canada   Carretera            None    $1,618.50    \n",
       "1  Government  Germany   Carretera            None    $1,321.00    \n",
       "2   Midmarket   France   Carretera            None    $2,178.00    \n",
       "\n",
       "   Manufacturing Price   Sale Price   Gross Sales   Discounts         Sales   \\\n",
       "0                $3.00       $20.00    $32,370.00        $-      $32,370.00    \n",
       "1                $3.00       $20.00    $26,420.00        $-      $26,420.00    \n",
       "2                $3.00       $15.00    $32,670.00        $-      $32,670.00    \n",
       "\n",
       "          COGS        Profit         Date  Month Number  Month Name   Year  \n",
       "0   $16,185.00    $16,185.00   01/01/2014             1     January   2014  \n",
       "1   $13,210.00    $13,210.00   01/01/2014             1     January   2014  \n",
       "2   $21,780.00    $10,890.00   01/06/2014             6        June   2014  "
      ]
     },

     "execution_count": 783,

     "metadata": {},
     "output_type": "display_data"
    }
   ],
   "source": [
    "# Download latest version\n",
    "path = kagglehub.dataset_download(\"atharvaarya25/financials\")\n",
    "df = pd.read_csv(f\"{path}/Financials.csv\")\n",
    "\n",
    "print(\"Dataset successfully loaded!\")\n",
    "display(df.head(3))"
   ]
  },
  {
   "cell_type": "markdown",
   "metadata": {},
   "source": [
    "Dataset overview"
   ]
  },
  {
   "cell_type": "code",

   "execution_count": 784,
   "metadata": {},
   "outputs": [],
   "source": [
    "# copy of the dataset\n",
    "df_copy = df.copy(deep=True)"
   ]
  },
  {
   "cell_type": "code",

   "execution_count": 785,
   "metadata": {},
   "outputs": [
    {
     "data": {
      "text/plain": [
       "(700, 16)"
      ]
     },

     "execution_count": 785,
     "metadata": {},
     "output_type": "execute_result"
    }
   ],
   "source": [
    "# number or rows and columns\n",
    "df.shape"
   ]
  },
  {
   "cell_type": "code",
   "execution_count": 786,
   "metadata": {},
   "outputs": [
    {
     "name": "stdout",
     "output_type": "stream",
     "text": [
      "<class 'pandas.core.frame.DataFrame'>\n",
      "RangeIndex: 700 entries, 0 to 699\n",
      "Data columns (total 16 columns):\n",
      " #   Column                 Non-Null Count  Dtype \n",
      "---  ------                 --------------  ----- \n",
      " 0   Segment                700 non-null    object\n",
      " 1   Country                700 non-null    object\n",
      " 2    Product               700 non-null    object\n",
      " 3    Discount Band         700 non-null    object\n",
      " 4    Units Sold            700 non-null    object\n",
      " 5    Manufacturing Price   700 non-null    object\n",
      " 6    Sale Price            700 non-null    object\n",
      " 7    Gross Sales           700 non-null    object\n",
      " 8    Discounts             700 non-null    object\n",
      " 9     Sales                700 non-null    object\n",
      " 10   COGS                  700 non-null    object\n",
      " 11   Profit                700 non-null    object\n",
      " 12  Date                   700 non-null    object\n",
      " 13  Month Number           700 non-null    int64 \n",
      " 14   Month Name            700 non-null    object\n",
      " 15  Year                   700 non-null    int64 \n",
      "dtypes: int64(2), object(14)\n",
      "memory usage: 87.6+ KB\n"
     ]
    }
   ],
   "source": [
    "df.info()"
   ]
  },
  {
   "cell_type": "code",
   "execution_count": 23,
   "metadata": {},
   "outputs": [
    {
     "data": {
      "text/html": [
       "<div>\n",
       "<style scoped>\n",
       "    .dataframe tbody tr th:only-of-type {\n",
       "        vertical-align: middle;\n",
       "    }\n",
       "\n",
       "    .dataframe tbody tr th {\n",
       "        vertical-align: top;\n",
       "    }\n",
       "\n",
       "    .dataframe thead th {\n",
       "        text-align: right;\n",
       "    }\n",
       "</style>\n",
       "<table border=\"1\" class=\"dataframe\">\n",
       "  <thead>\n",
       "    <tr style=\"text-align: right;\">\n",
       "      <th></th>\n",
       "      <th>Segment</th>\n",
       "      <th>Country</th>\n",
       "      <th>Product</th>\n",
       "      <th>Discount Band</th>\n",
       "      <th>Units Sold</th>\n",
       "      <th>Manufacturing Price</th>\n",
       "      <th>Sale Price</th>\n",
       "      <th>Gross Sales</th>\n",
       "      <th>Discounts</th>\n",
       "      <th>Sales</th>\n",
       "      <th>COGS</th>\n",
       "      <th>Profit</th>\n",
       "      <th>Date</th>\n",
       "      <th>Month Number</th>\n",
       "      <th>Month Name</th>\n",
       "      <th>Year</th>\n",
       "    </tr>\n",
       "  </thead>\n",
       "  <tbody>\n",
       "    <tr>\n",
       "      <th>695</th>\n",
       "      <td>Small Business</td>\n",
       "      <td>France</td>\n",
       "      <td>Amarilla</td>\n",
       "      <td>High</td>\n",
       "      <td>2475</td>\n",
       "      <td>260</td>\n",
       "      <td>300</td>\n",
       "      <td>742500</td>\n",
       "      <td>111375</td>\n",
       "      <td>631125</td>\n",
       "      <td>618750</td>\n",
       "      <td>12375</td>\n",
       "      <td>2014-03-01</td>\n",
       "      <td>3</td>\n",
       "      <td>March</td>\n",
       "      <td>2014</td>\n",
       "    </tr>\n",
       "    <tr>\n",
       "      <th>696</th>\n",
       "      <td>Small Business</td>\n",
       "      <td>Mexico</td>\n",
       "      <td>Amarilla</td>\n",
       "      <td>High</td>\n",
       "      <td>546</td>\n",
       "      <td>260</td>\n",
       "      <td>300</td>\n",
       "      <td>163800</td>\n",
       "      <td>24570</td>\n",
       "      <td>139230</td>\n",
       "      <td>136500</td>\n",
       "      <td>2730</td>\n",
       "      <td>2014-10-01</td>\n",
       "      <td>10</td>\n",
       "      <td>October</td>\n",
       "      <td>2014</td>\n",
       "    </tr>\n",
       "    <tr>\n",
       "      <th>697</th>\n",
       "      <td>Government</td>\n",
       "      <td>Mexico</td>\n",
       "      <td>Montana</td>\n",
       "      <td>High</td>\n",
       "      <td>1368</td>\n",
       "      <td>5</td>\n",
       "      <td>7</td>\n",
       "      <td>9576</td>\n",
       "      <td>1436</td>\n",
       "      <td>8139</td>\n",
       "      <td>6840</td>\n",
       "      <td>1299</td>\n",
       "      <td>2014-02-01</td>\n",
       "      <td>2</td>\n",
       "      <td>February</td>\n",
       "      <td>2014</td>\n",
       "    </tr>\n",
       "    <tr>\n",
       "      <th>698</th>\n",
       "      <td>Government</td>\n",
       "      <td>Canada</td>\n",
       "      <td>Paseo</td>\n",
       "      <td>High</td>\n",
       "      <td>723</td>\n",
       "      <td>10</td>\n",
       "      <td>7</td>\n",
       "      <td>5061</td>\n",
       "      <td>759</td>\n",
       "      <td>4301</td>\n",
       "      <td>3615</td>\n",
       "      <td>686</td>\n",
       "      <td>2014-04-01</td>\n",
       "      <td>4</td>\n",
       "      <td>April</td>\n",
       "      <td>2014</td>\n",
       "    </tr>\n",
       "    <tr>\n",
       "      <th>699</th>\n",
       "      <td>Channel Partners</td>\n",
       "      <td>United States of America</td>\n",
       "      <td>VTT</td>\n",
       "      <td>High</td>\n",
       "      <td>1806</td>\n",
       "      <td>250</td>\n",
       "      <td>12</td>\n",
       "      <td>21672</td>\n",
       "      <td>3250</td>\n",
       "      <td>18421</td>\n",
       "      <td>5418</td>\n",
       "      <td>13003</td>\n",
       "      <td>2014-05-01</td>\n",
       "      <td>5</td>\n",
       "      <td>May</td>\n",
       "      <td>2014</td>\n",
       "    </tr>\n",
       "  </tbody>\n",
       "</table>\n",
       "</div>"
      ],
      "text/plain": [
       "              Segment                   Country     Product Discount Band  \\\n",
       "695    Small Business                    France   Amarilla          High    \n",
       "696    Small Business                    Mexico   Amarilla          High    \n",
       "697        Government                    Mexico    Montana          High    \n",
       "698        Government                    Canada      Paseo          High    \n",
       "699  Channel Partners  United States of America        VTT          High    \n",
       "\n",
       "     Units Sold  Manufacturing Price  Sale Price  Gross Sales  Discounts  \\\n",
       "695        2475                  260         300       742500     111375   \n",
       "696         546                  260         300       163800      24570   \n",
       "697        1368                    5           7         9576       1436   \n",
       "698         723                   10           7         5061        759   \n",
       "699        1806                  250          12        21672       3250   \n",
       "\n",
       "      Sales    COGS  Profit       Date  Month Number  Month Name  Year  \n",
       "695  631125  618750   12375 2014-03-01             3      March   2014  \n",
       "696  139230  136500    2730 2014-10-01            10    October   2014  \n",
       "697    8139    6840    1299 2014-02-01             2   February   2014  \n",
       "698    4301    3615     686 2014-04-01             4      April   2014  \n",
       "699   18421    5418   13003 2014-05-01             5        May   2014  "
      ]
     },
     "execution_count": 23,
     "metadata": {},
     "output_type": "execute_result"
    }
   ],
   "source": [
    "df.tail()"
   ]
  },
  {
   "cell_type": "markdown",
   "metadata": {},
   "source": [
    "# 3. Cleaning of the dataset"
   ]
  },
  {
   "cell_type": "markdown",
   "metadata": {},
   "source": [
    "Cleaning the column names"
   ]
  },
  {
   "cell_type": "code",

   "execution_count": 787,
   "metadata": {},
   "outputs": [
    {
     "data": {
      "text/plain": [
       "Index(['Segment', 'Country', ' Product ', ' Discount Band ', ' Units Sold ',\n",
       "       ' Manufacturing Price ', ' Sale Price ', ' Gross Sales ', ' Discounts ',\n",
       "       '  Sales ', ' COGS ', ' Profit ', 'Date', 'Month Number',\n",
       "       ' Month Name ', 'Year'],\n",
       "      dtype='object')"
      ]
     },

     "execution_count": 787,
     "metadata": {},
     "output_type": "execute_result"
    }
   ],
   "source": [
    "# check the column names\n",
    "df.columns"
   ]
  },
  {
   "cell_type": "code",

   "execution_count": 788,
   "metadata": {},
   "outputs": [
    {
     "data": {
      "text/plain": [
       "Index([' Product ', ' Discount Band ', ' Units Sold ', ' Manufacturing Price ',\n",
       "       ' Sale Price ', ' Gross Sales ', ' Discounts ', '  Sales ', ' COGS ',\n",
       "       ' Profit ', ' Month Name '],\n",
       "      dtype='object')"
      ]
     },

     "execution_count": 788,
     "metadata": {},
     "output_type": "execute_result"
    }
   ],
   "source": [
    "# column names with anomalous spaces\n",
    "columns_whiteSpaceName = df.columns[df.columns.str.startswith(\" \") | df.columns.str.endswith(\" \")]\n",
    "columns_whiteSpaceName"
   ]
  },
  {
   "cell_type": "code",

   "execution_count": 789,
   "metadata": {},
   "outputs": [],
   "source": [
    "# remove white spaces\n",
    "df.columns = df.columns.str.strip()"
   ]
  },
  {
   "cell_type": "markdown",
   "metadata": {},
   "source": [
    "Cleaning the column values"
   ]
  },
  {
   "cell_type": "code",

   "execution_count": 790,
   "metadata": {},
   "outputs": [
    {
     "data": {
      "text/plain": [
       "Segment                object\n",
       "Country                object\n",
       "Product                object\n",
       "Discount Band          object\n",
       "Units Sold             object\n",
       "Manufacturing Price    object\n",
       "Sale Price             object\n",
       "Gross Sales            object\n",
       "Discounts              object\n",
       "Sales                  object\n",
       "COGS                   object\n",
       "Profit                 object\n",
       "Date                   object\n",
       "Month Number            int64\n",
       "Month Name             object\n",
       "Year                    int64\n",
       "dtype: object"
      ]
     },

     "execution_count": 790,
     "metadata": {},
     "output_type": "execute_result"
    }
   ],
   "source": [
    "# columns type\n",
    "df.dtypes"
   ]
  },
  {
   "cell_type": "code",
   "execution_count": 791,
   "metadata": {},
   "outputs": [
    {
     "data": {
      "text/html": [
       "<div>\n",
       "<style scoped>\n",
       "    .dataframe tbody tr th:only-of-type {\n",
       "        vertical-align: middle;\n",
       "    }\n",
       "\n",
       "    .dataframe tbody tr th {\n",
       "        vertical-align: top;\n",
       "    }\n",
       "\n",
       "    .dataframe thead th {\n",
       "        text-align: right;\n",
       "    }\n",
       "</style>\n",
       "<table border=\"1\" class=\"dataframe\">\n",
       "  <thead>\n",
       "    <tr style=\"text-align: right;\">\n",
       "      <th></th>\n",
       "      <th>Segment</th>\n",
       "      <th>Country</th>\n",
       "      <th>Product</th>\n",
       "      <th>Discount Band</th>\n",
       "      <th>Units Sold</th>\n",
       "      <th>Manufacturing Price</th>\n",
       "      <th>Sale Price</th>\n",
       "      <th>Gross Sales</th>\n",
       "      <th>Discounts</th>\n",
       "      <th>Sales</th>\n",
       "      <th>COGS</th>\n",
       "      <th>Profit</th>\n",
       "      <th>Date</th>\n",
       "      <th>Month Number</th>\n",
       "      <th>Month Name</th>\n",
       "      <th>Year</th>\n",
       "    </tr>\n",
       "  </thead>\n",
       "  <tbody>\n",
       "    <tr>\n",
       "      <th>0</th>\n",
       "      <td>Government</td>\n",
       "      <td>Canada</td>\n",
       "      <td>Carretera</td>\n",
       "      <td>None</td>\n",
       "      <td>$1,618.50</td>\n",
       "      <td>$3.00</td>\n",
       "      <td>$20.00</td>\n",
       "      <td>$32,370.00</td>\n",
       "      <td>$-</td>\n",
       "      <td>$32,370.00</td>\n",
       "      <td>$16,185.00</td>\n",
       "      <td>$16,185.00</td>\n",
       "      <td>01/01/2014</td>\n",
       "      <td>1</td>\n",
       "      <td>January</td>\n",
       "      <td>2014</td>\n",
       "    </tr>\n",
       "    <tr>\n",
       "      <th>1</th>\n",
       "      <td>Government</td>\n",
       "      <td>Germany</td>\n",
       "      <td>Carretera</td>\n",
       "      <td>None</td>\n",
       "      <td>$1,321.00</td>\n",
       "      <td>$3.00</td>\n",
       "      <td>$20.00</td>\n",
       "      <td>$26,420.00</td>\n",
       "      <td>$-</td>\n",
       "      <td>$26,420.00</td>\n",
       "      <td>$13,210.00</td>\n",
       "      <td>$13,210.00</td>\n",
       "      <td>01/01/2014</td>\n",
       "      <td>1</td>\n",
       "      <td>January</td>\n",
       "      <td>2014</td>\n",
       "    </tr>\n",
       "    <tr>\n",
       "      <th>2</th>\n",
       "      <td>Midmarket</td>\n",
       "      <td>France</td>\n",
       "      <td>Carretera</td>\n",
       "      <td>None</td>\n",
       "      <td>$2,178.00</td>\n",
       "      <td>$3.00</td>\n",
       "      <td>$15.00</td>\n",
       "      <td>$32,670.00</td>\n",
       "      <td>$-</td>\n",
       "      <td>$32,670.00</td>\n",
       "      <td>$21,780.00</td>\n",
       "      <td>$10,890.00</td>\n",
       "      <td>01/06/2014</td>\n",
       "      <td>6</td>\n",
       "      <td>June</td>\n",
       "      <td>2014</td>\n",
       "    </tr>\n",
       "  </tbody>\n",
       "</table>\n",
       "</div>"
      ],
      "text/plain": [
       "      Segment  Country      Product Discount Band   Units Sold  \\\n",
       "0  Government   Canada   Carretera          None    $1,618.50    \n",
       "1  Government  Germany   Carretera          None    $1,321.00    \n",
       "2   Midmarket   France   Carretera          None    $2,178.00    \n",
       "\n",
       "  Manufacturing Price Sale Price   Gross Sales Discounts         Sales  \\\n",
       "0              $3.00     $20.00    $32,370.00      $-      $32,370.00    \n",
       "1              $3.00     $20.00    $26,420.00      $-      $26,420.00    \n",
       "2              $3.00     $15.00    $32,670.00      $-      $32,670.00    \n",
       "\n",
       "           COGS        Profit        Date  Month Number Month Name  Year  \n",
       "0   $16,185.00    $16,185.00   01/01/2014             1   January   2014  \n",
       "1   $13,210.00    $13,210.00   01/01/2014             1   January   2014  \n",
       "2   $21,780.00    $10,890.00   01/06/2014             6      June   2014  "
      ]
     },
     "execution_count": 791,
     "metadata": {},
     "output_type": "execute_result"
    }
   ],
   "source": [
    "df.head(3)"
   ]
  },
  {
   "cell_type": "code",

   "execution_count": 792,
   "metadata": {},
   "outputs": [
    {
     "data": {
      "text/html": [
       "<div>\n",
       "<style scoped>\n",
       "    .dataframe tbody tr th:only-of-type {\n",
       "        vertical-align: middle;\n",
       "    }\n",
       "\n",
       "    .dataframe tbody tr th {\n",
       "        vertical-align: top;\n",
       "    }\n",
       "\n",
       "    .dataframe thead th {\n",
       "        text-align: right;\n",
       "    }\n",
       "</style>\n",
       "<table border=\"1\" class=\"dataframe\">\n",
       "  <thead>\n",
       "    <tr style=\"text-align: right;\">\n",
       "      <th></th>\n",
       "      <th>Segment</th>\n",
       "      <th>Country</th>\n",
       "      <th>Product</th>\n",
       "      <th>Discount Band</th>\n",
       "      <th>Units Sold</th>\n",
       "      <th>Manufacturing Price</th>\n",
       "      <th>Sale Price</th>\n",
       "      <th>Gross Sales</th>\n",
       "      <th>Discounts</th>\n",
       "      <th>Sales</th>\n",
       "      <th>COGS</th>\n",
       "      <th>Profit</th>\n",
       "      <th>Date</th>\n",
       "      <th>Month Number</th>\n",
       "      <th>Month Name</th>\n",
       "      <th>Year</th>\n",
       "    </tr>\n",
       "  </thead>\n",
       "  <tbody>\n",
       "    <tr>\n",
       "      <th>0</th>\n",
       "      <td>Government</td>\n",
       "      <td>Canada</td>\n",
       "      <td>Carretera</td>\n",
       "      <td>None</td>\n",
       "      <td>1618.50</td>\n",
       "      <td>3.00</td>\n",
       "      <td>20.00</td>\n",
       "      <td>32370.00</td>\n",
       "      <td>-</td>\n",
       "      <td>32370.00</td>\n",
       "      <td>16185.00</td>\n",
       "      <td>16185.00</td>\n",
       "      <td>01/01/2014</td>\n",
       "      <td>1</td>\n",
       "      <td>January</td>\n",
       "      <td>2014</td>\n",
       "    </tr>\n",
       "    <tr>\n",
       "      <th>1</th>\n",
       "      <td>Government</td>\n",
       "      <td>Germany</td>\n",
       "      <td>Carretera</td>\n",
       "      <td>None</td>\n",
       "      <td>1321.00</td>\n",
       "      <td>3.00</td>\n",
       "      <td>20.00</td>\n",
       "      <td>26420.00</td>\n",
       "      <td>-</td>\n",
       "      <td>26420.00</td>\n",
       "      <td>13210.00</td>\n",
       "      <td>13210.00</td>\n",
       "      <td>01/01/2014</td>\n",
       "      <td>1</td>\n",
       "      <td>January</td>\n",
       "      <td>2014</td>\n",
       "    </tr>\n",
       "    <tr>\n",
       "      <th>2</th>\n",
       "      <td>Midmarket</td>\n",
       "      <td>France</td>\n",
       "      <td>Carretera</td>\n",
       "      <td>None</td>\n",
       "      <td>2178.00</td>\n",
       "      <td>3.00</td>\n",
       "      <td>15.00</td>\n",
       "      <td>32670.00</td>\n",
       "      <td>-</td>\n",
       "      <td>32670.00</td>\n",
       "      <td>21780.00</td>\n",
       "      <td>10890.00</td>\n",
       "      <td>01/06/2014</td>\n",
       "      <td>6</td>\n",
       "      <td>June</td>\n",
       "      <td>2014</td>\n",
       "    </tr>\n",
       "  </tbody>\n",
       "</table>\n",
       "</div>"
      ],
      "text/plain": [
       "      Segment  Country      Product Discount Band Units Sold  \\\n",
       "0  Government   Canada   Carretera          None     1618.50   \n",
       "1  Government  Germany   Carretera          None     1321.00   \n",
       "2   Midmarket   France   Carretera          None     2178.00   \n",
       "\n",
       "  Manufacturing Price Sale Price Gross Sales Discounts     Sales      COGS  \\\n",
       "0                3.00      20.00    32370.00         -  32370.00  16185.00   \n",
       "1                3.00      20.00    26420.00         -  26420.00  13210.00   \n",
       "2                3.00      15.00    32670.00         -  32670.00  21780.00   \n",
       "\n",
       "     Profit        Date  Month Number Month Name  Year  \n",
       "0  16185.00  01/01/2014             1   January   2014  \n",
       "1  13210.00  01/01/2014             1   January   2014  \n",
       "2  10890.00  01/06/2014             6      June   2014  "
      ]
     },

     "execution_count": 792,
     "metadata": {},
     "output_type": "execute_result"
    }
   ],
   "source": [
    "# remove $ and space\n",
    "columns_withDollar = ['Units Sold', 'Manufacturing Price', 'Sale Price', 'Gross Sales', 'Discounts', 'Sales', 'COGS', 'Profit']\n",
    "\n",
    "for col in columns_withDollar:\n",
    "    if df[col].dtype == 'object':\n",
    "        df[col] = df[col].str.replace('$', '')\n",
    "        df[col] = df[col].str.replace(',', '')\n",
    "        df[col] = df[col].apply(lambda x: x.strip())\n",
    "\n",
    "df.head(3)"
   ]
  },
  {
   "cell_type": "code",

   "execution_count": 793,
   "metadata": {},
   "outputs": [],
   "source": [
    "# changing Discount column\n",
    "df['Discounts'] = df['Discounts'].replace('-', 0)"
   ]
  },
  {
   "cell_type": "code",

   "execution_count": 794,
   "metadata": {},
   "outputs": [
    {
     "name": "stdout",
     "output_type": "stream",
     "text": [
      "Check column: Units Sold\n",
      "[]\n",
      "Check column: Manufacturing Price\n",
      "[]\n",
      "Check column: Sale Price\n",
      "[]\n",
      "Check column: Gross Sales\n",
      "[]\n",
      "Check column: Discounts\n",
      "[]\n",
      "Check column: Sales\n",
      "[]\n",
      "Check column: COGS\n",
      "[]\n",
      "Check column: Profit\n",
      "['-' '(4533.75)' '(3740.00)' '(2981.25)' '(1076.25)' '(880.00)'\n",
      " '(1008.75)' '(2217.50)' '(2380.00)' '(6887.50)' '(4968.75)' '(9375.00)'\n",
      " '(13173.75)' '(7826.25)' '(6168.75)' '(3727.50)' '(7700.00)' '(5570.00)'\n",
      " '(11606.25)' '(17481.25)' '(3543.75)' '(13187.50)' '(5481.25)'\n",
      " '(25841.25)' '(11115.00)' '(13530.00)' '(11970.00)' '(14370.00)'\n",
      " '(2557.50)' '(18967.50)' '(4342.50)' '(21358.75)' '(4847.50)'\n",
      " '(27693.75)' '(12538.75)' '(8286.25)' '(24160.00)' '(21560.00)'\n",
      " '(23870.00)' '(17808.75)' '(18663.75)' '(12787.50)' '(35262.50)'\n",
      " '(19687.50)' '(35550.00)' '(16142.50)' '(38046.25)' '(14918.75)'\n",
      " '(9116.25)' '(33522.50)' '(40617.50)' '(7590.00)']\n"
     ]
    }
   ],
   "source": [
    "# check again for unusual symbols\n",
    "for col in columns_withDollar:\n",
    "    print(f\"Check column: {col}\")\n",
    "    print(df[col][df[col].str.contains(r'^\\s*$|^-|^\\$|\\(|\\)', na=False)].unique())"
   ]
  },
  {
   "cell_type": "code",

   "execution_count": 795,
   "metadata": {},
   "outputs": [
    {
     "data": {
      "text/plain": [
       "np.int64(5)"
      ]
     },
     "execution_count": 795,
     "metadata": {},
     "output_type": "execute_result"
    }
   ],
   "source": [
    "(df['Profit']=='-').sum()\n",
    "# there are only 5 values in Profit column with \"-\", they will be considered as NaN values"
   ]
  },
  {
   "cell_type": "code",
   "execution_count": 796,
   "metadata": {},
   "outputs": [],
   "source": [
    "# change Profit column\n",
    "df['Profit'] = df['Profit'].str.strip('()')\n",
    "df['Profit'] = df['Profit'].replace('-', 0)"
   ]
  },
  {
   "cell_type": "code",

   "execution_count": 797,
   "metadata": {},
   "outputs": [],
   "source": [
    "# change column types\n",
    "for col in columns_withDollar:\n",
    "    if df[col].dtype == 'object':\n",
    "        df[col] = df[col].astype(float)"
   ]
  },
  {
   "cell_type": "code",

   "execution_count": 798,
   "metadata": {},
   "outputs": [],
   "source": [
    "# Date column in date type\n",
    "df['Date'] = pd.to_datetime(df['Date'], format='%d/%m/%Y')"
   ]
  },
  {
   "cell_type": "code",

   "execution_count": 799,
   "metadata": {},
   "outputs": [
    {
     "name": "stdout",
     "output_type": "stream",
     "text": [
      "<class 'pandas.core.frame.DataFrame'>\n",
      "RangeIndex: 700 entries, 0 to 699\n",
      "Data columns (total 16 columns):\n",
      " #   Column               Non-Null Count  Dtype         \n",
      "---  ------               --------------  -----         \n",
      " 0   Segment              700 non-null    object        \n",
      " 1   Country              700 non-null    object        \n",
      " 2   Product              700 non-null    object        \n",
      " 3   Discount Band        700 non-null    object        \n",
      " 4   Units Sold           700 non-null    float64       \n",
      " 5   Manufacturing Price  700 non-null    float64       \n",
      " 6   Sale Price           700 non-null    float64       \n",
      " 7   Gross Sales          700 non-null    float64       \n",
      " 8   Discounts            700 non-null    float64       \n",
      " 9   Sales                700 non-null    float64       \n",
      " 10  COGS                 700 non-null    float64       \n",
      " 11  Profit               700 non-null    float64       \n",
      " 12  Date                 700 non-null    datetime64[ns]\n",
      " 13  Month Number         700 non-null    int64         \n",
      " 14  Month Name           700 non-null    object        \n",
      " 15  Year                 700 non-null    int64         \n",
      "dtypes: datetime64[ns](1), float64(8), int64(2), object(5)\n",
      "memory usage: 87.6+ KB\n"
     ]
    }
   ],
   "source": [
    "df.info()"
   ]
  },
  {
   "cell_type": "code",

   "execution_count": 800,
   "metadata": {},
   "outputs": [],
   "source": [
    "df = df.dropna()\n",
    "\n",
    "# change column types\n",
    "for col in columns_withDollar:\n",
    "    if df[col].dtype == 'float':\n",
    "        df[col] = df[col].astype(int)"
   ]
  },
  {
   "cell_type": "code",

   "execution_count": 801,
   "metadata": {},
   "outputs": [
    {
     "data": {
      "text/html": [
       "<div>\n",
       "<style scoped>\n",
       "    .dataframe tbody tr th:only-of-type {\n",
       "        vertical-align: middle;\n",
       "    }\n",
       "\n",
       "    .dataframe tbody tr th {\n",
       "        vertical-align: top;\n",
       "    }\n",
       "\n",
       "    .dataframe thead th {\n",
       "        text-align: right;\n",
       "    }\n",
       "</style>\n",
       "<table border=\"1\" class=\"dataframe\">\n",
       "  <thead>\n",
       "    <tr style=\"text-align: right;\">\n",
       "      <th></th>\n",
       "      <th>Units Sold</th>\n",
       "      <th>Manufacturing Price</th>\n",
       "      <th>Sale Price</th>\n",
       "      <th>Gross Sales</th>\n",
       "      <th>Discounts</th>\n",
       "      <th>Sales</th>\n",
       "      <th>COGS</th>\n",
       "      <th>Profit</th>\n",
       "    </tr>\n",
       "  </thead>\n",
       "  <tbody>\n",
       "    <tr>\n",
       "      <th>count</th>\n",
       "      <td>700.00</td>\n",
       "      <td>700.00</td>\n",
       "      <td>700.00</td>\n",
       "      <td>700.00</td>\n",
       "      <td>700.00</td>\n",
       "      <td>700.00</td>\n",
       "      <td>700.00</td>\n",
       "      <td>700.00</td>\n",
       "    </tr>\n",
       "    <tr>\n",
       "      <th>mean</th>\n",
       "      <td>1608.27</td>\n",
       "      <td>96.48</td>\n",
       "      <td>118.43</td>\n",
       "      <td>182759.42</td>\n",
       "      <td>13150.09</td>\n",
       "      <td>169608.77</td>\n",
       "      <td>145475.21</td>\n",
       "      <td>26354.48</td>\n",
       "    </tr>\n",
       "    <tr>\n",
       "      <th>std</th>\n",
       "      <td>867.41</td>\n",
       "      <td>108.60</td>\n",
       "      <td>136.78</td>\n",
       "      <td>254262.28</td>\n",
       "      <td>22962.99</td>\n",
       "      <td>236726.46</td>\n",
       "      <td>203865.51</td>\n",
       "      <td>41426.89</td>\n",
       "    </tr>\n",
       "    <tr>\n",
       "      <th>min</th>\n",
       "      <td>200.00</td>\n",
       "      <td>3.00</td>\n",
       "      <td>7.00</td>\n",
       "      <td>1799.00</td>\n",
       "      <td>0.00</td>\n",
       "      <td>1655.00</td>\n",
       "      <td>918.00</td>\n",
       "      <td>0.00</td>\n",
       "    </tr>\n",
       "    <tr>\n",
       "      <th>25%</th>\n",
       "      <td>905.00</td>\n",
       "      <td>5.00</td>\n",
       "      <td>12.00</td>\n",
       "      <td>17391.75</td>\n",
       "      <td>800.25</td>\n",
       "      <td>15928.00</td>\n",
       "      <td>7490.00</td>\n",
       "      <td>3815.25</td>\n",
       "    </tr>\n",
       "    <tr>\n",
       "      <th>50%</th>\n",
       "      <td>1542.50</td>\n",
       "      <td>10.00</td>\n",
       "      <td>20.00</td>\n",
       "      <td>37980.00</td>\n",
       "      <td>2585.00</td>\n",
       "      <td>35539.50</td>\n",
       "      <td>22506.00</td>\n",
       "      <td>11110.50</td>\n",
       "    </tr>\n",
       "    <tr>\n",
       "      <th>75%</th>\n",
       "      <td>2228.75</td>\n",
       "      <td>250.00</td>\n",
       "      <td>300.00</td>\n",
       "      <td>279025.00</td>\n",
       "      <td>15956.25</td>\n",
       "      <td>261077.50</td>\n",
       "      <td>245607.50</td>\n",
       "      <td>23756.00</td>\n",
       "    </tr>\n",
       "    <tr>\n",
       "      <th>max</th>\n",
       "      <td>4492.00</td>\n",
       "      <td>260.00</td>\n",
       "      <td>350.00</td>\n",
       "      <td>1207500.00</td>\n",
       "      <td>149677.00</td>\n",
       "      <td>1159200.00</td>\n",
       "      <td>950625.00</td>\n",
       "      <td>262200.00</td>\n",
       "    </tr>\n",
       "  </tbody>\n",
       "</table>\n",
       "</div>"
      ],
      "text/plain": [
       "       Units Sold  Manufacturing Price  Sale Price  Gross Sales  Discounts  \\\n",
       "count      700.00               700.00      700.00       700.00     700.00   \n",
       "mean      1608.27                96.48      118.43    182759.42   13150.09   \n",
       "std        867.41               108.60      136.78    254262.28   22962.99   \n",
       "min        200.00                 3.00        7.00      1799.00       0.00   \n",
       "25%        905.00                 5.00       12.00     17391.75     800.25   \n",
       "50%       1542.50                10.00       20.00     37980.00    2585.00   \n",
       "75%       2228.75               250.00      300.00    279025.00   15956.25   \n",
       "max       4492.00               260.00      350.00   1207500.00  149677.00   \n",
       "\n",
       "            Sales       COGS     Profit  \n",
       "count      700.00     700.00     700.00  \n",
       "mean    169608.77  145475.21   26354.48  \n",
       "std     236726.46  203865.51   41426.89  \n",
       "min       1655.00     918.00       0.00  \n",
       "25%      15928.00    7490.00    3815.25  \n",
       "50%      35539.50   22506.00   11110.50  \n",
       "75%     261077.50  245607.50   23756.00  \n",
       "max    1159200.00  950625.00  262200.00  "
      ]
     },

     "execution_count": 801,
     "metadata": {},
     "output_type": "execute_result"
    }
   ],
   "source": [
    "# controll of the values\n",
    "round(df[columns_withDollar].describe(), 2)\n",
    "\n",
    "# It seems not to be strange values, cleaning data completed"
   ]
  },
  {
   "cell_type": "markdown",
   "metadata": {},
   "source": [
    "# 4. Exploratory Data Analysis"
   ]
  },
  {
   "cell_type": "code",
   "execution_count": 802,
   "metadata": {},
   "outputs": [],
   "source": [
    "df_copy2 = df.copy(deep=True)"
   ]
  },
  {
   "cell_type": "code",

   "execution_count": 803,
   "metadata": {},
   "outputs": [],
   "source": [
    "# set Date column as index\n",
    "df = df.set_index(\"Date\")"
   ]
  },
  {
   "cell_type": "code",

   "execution_count": 804,
   "metadata": {},
   "outputs": [],
   "source": [
    "df = df.drop([\"Month Number\", \"Month Name\", \"Year\"], axis=1)"
   ]
  },
  {
   "cell_type": "markdown",
   "metadata": {},
   "source": [
    "Descriptive statistics"
   ]
  },
  {

   "cell_type": "code",
   "execution_count": 805,
   "metadata": {},
   "outputs": [],
   "source": [
    "import matplotlib.pyplot as plt\n",
    "import seaborn as sns"
   ]
  },
  {

   "cell_type": "markdown",
   "metadata": {},
   "source": [
    "- categorical variables"
   ]
  },
  {
   "cell_type": "code",

   "execution_count": 806,

   "metadata": {},
   "outputs": [
    {
     "data": {
      "image/png": "[encoded data removed]",
      "text/plain": [
       "<Figure size 1800x1200 with 4 Axes>"
      ]
     },
     "metadata": {},
     "output_type": "display_data"
    }
   ],
   "source": [
    "# selection of the categorical variables\n",
    "categorical_columns = df.select_dtypes(include='object').columns\n",
    "\n",
    "fig, axes = plt.subplots(2, 2, figsize=(18, 12))\n",
    "axes = axes.ravel()\n",
    "\n",
    "# barplot for the categorical vars\n",
    "for i, col in enumerate(categorical_columns):\n",
    "    sns.countplot(x=col, data=df, ax=axes[i])\n",
    "    axes[i].set_title(f'Distribution of {col}')\n",
    "    axes[i].set_xlabel(col)\n",
    "    axes[i].set_ylabel('Frequency')\n",
    "    axes[i].grid(axis='y')"
   ]
  },
  {
   "cell_type": "code",

   "execution_count": 807,
   "metadata": {},
   "outputs": [],
   "source": [
    "# percentage table\n",
    "def percentageTable(col): \n",
    "    percentage = round(df[col].value_counts(normalize=True)*100, 2)\n",
    "    \n",
    "    table = pd.DataFrame({\n",
    "        'Category': percentage.index,\n",
    "        'Percentage (%)': percentage.values\n",
    "        })\n",
    "    print(f\"Variable {col}\")\n",
    "    print(table.to_string(index=False))\n",
    "    print(\"\\n\")"
   ]
  },
  {
   "cell_type": "code",

   "execution_count": 808,
   "metadata": {},
   "outputs": [
    {
     "name": "stdout",
     "output_type": "stream",
     "text": [
      "Variable Segment\n",
      "        Category  Percentage (%)\n",
      "      Government           42.86\n",
      "       Midmarket           14.29\n",
      "Channel Partners           14.29\n",
      "      Enterprise           14.29\n",
      "  Small Business           14.29\n",
      "\n",
      "\n"
     ]
    }
   ],
   "source": [
    "# Segment\n",
    "percentageTable('Segment')"
   ]
  },
  {
   "cell_type": "code",

   "execution_count": 809,
   "metadata": {},
   "outputs": [
    {
     "name": "stdout",
     "output_type": "stream",
     "text": [
      "Variable Country\n",
      "                Category  Percentage (%)\n",
      "                  Canada            20.0\n",
      "                 Germany            20.0\n",
      "                  France            20.0\n",
      "                  Mexico            20.0\n",
      "United States of America            20.0\n",
      "\n",
      "\n"
     ]
    }
   ],
   "source": [
    "# Country\n",
    "percentageTable('Country')"
   ]
  },
  {
   "cell_type": "code",

   "execution_count": 810,
   "metadata": {},
   "outputs": [
    {
     "name": "stdout",
     "output_type": "stream",
     "text": [
      "Variable Product\n",
      "   Category  Percentage (%)\n",
      "     Paseo            28.86\n",
      "      Velo            15.57\n",
      "       VTT            15.57\n",
      "  Amarilla            13.43\n",
      "   Montana            13.29\n",
      " Carretera            13.29\n",
      "\n",
      "\n"
     ]
    }
   ],
   "source": [
    "# Product\n",
    "percentageTable('Product')"
   ]
  },
  {
   "cell_type": "code",

   "execution_count": 811,
   "metadata": {},
   "outputs": [
    {
     "name": "stdout",
     "output_type": "stream",
     "text": [
      "Variable Discount Band\n",
      "Category  Percentage (%)\n",
      "   High            35.00\n",
      " Medium            34.57\n",
      "    Low            22.86\n",
      "   None             7.57\n",
      "\n",
      "\n"
     ]
    }
   ],
   "source": [
    "# Discount Band\n",
    "percentageTable('Discount Band')"
   ]
  },
  {
   "cell_type": "markdown",
   "metadata": {},
   "source": [
    "- quantitative variables"
   ]
  },
  {
   "cell_type": "code",

   "execution_count": 812,
   "metadata": {},
   "outputs": [],
   "source": [
    "# selection of the quantitative variables\n",
    "numerical_columns = df.select_dtypes(include='number').columns"
   ]
  },
  {
   "cell_type": "code",

   "execution_count": 813,
   "metadata": {},
   "outputs": [
    {
     "data": {
      "image/png": "[encoded data removed]",
      "text/plain": [
       "<Figure size 1200x1200 with 8 Axes>"
      ]
     },
     "metadata": {},
     "output_type": "display_data"
    }
   ],
   "source": [
    "fig, axes = plt.subplots(2, 4, figsize=(12, 12))\n",
    "axes = axes.ravel()\n",
    "\n",
    "#  boxlot of the quantitativa vars\n",
    "for i, col in enumerate(numerical_columns):\n",
    "    sns.boxplot(y=df[col], ax=axes[i])  # Boxplot per la variabile corrente\n",
    "    axes[i].set_title(f'{col}')\n",
    "    axes[i].set_ylabel(col)\n",
    "    axes[i].grid(axis='y')"
   ]
  },
  {
   "cell_type": "code",

   "execution_count": 814,
   "metadata": {},
   "outputs": [
    {
     "data": {
      "image/png": "[encoded data removed]",
      "text/plain": [
       "<Figure size 1800x1500 with 8 Axes>"
      ]
     },
     "metadata": {},
     "output_type": "display_data"
    }
   ],
   "source": [
    "fig, axes = plt.subplots(2, 4, figsize=(18, 15))\n",
    "axes = axes.ravel()\n",
    "\n",
    "# histogram and distribution of the quantitativa vars\n",
    "for i, col in enumerate(numerical_columns):\n",
    "    sns.histplot(df[col], kde=True, bins=15, ax=axes[i])  # Specifica l'asse\n",
    "    axes[i].set_title(f'Distribution of {col}')\n",
    "    axes[i].set_xlabel(col)\n",
    "    axes[i].set_ylabel('Frequency')\n",
    "    axes[i].grid(axis='y')"
   ]
  },
  {
   "cell_type": "markdown",
   "metadata": {},
   "source": [
    "- geographical representation"
   ]
  },
  {
   "cell_type": "code",
   "execution_count": 55,
   "metadata": {},
   "outputs": [],
   "source": [
    "import geopandas as gpd\n",
    "import pandas as pd\n",
    "import matplotlib.pyplot as plt"
   ]
  },
  {
   "cell_type": "code",
   "execution_count": 64,
   "metadata": {},
   "outputs": [],
   "source": [
    "world = gpd.read_file(\"https://github.com/nvkelso/natural-earth-vector/raw/master/geojson/ne_110m_admin_0_countries.geojson\")"
   ]
  },
  {
   "cell_type": "code",
   "execution_count": 68,
   "metadata": {},
   "outputs": [],
   "source": [
    "df_country = df[[\"Country\", \"Profit\"]]\n",
    "df_map = df.groupby('Country', as_index=False)['Profit'].sum()"
   ]
  },
  {
   "cell_type": "code",
   "execution_count": 70,
   "metadata": {},
   "outputs": [],
   "source": [
    "world = world.merge(df_map, left_on=\"NAME\", right_on=\"Country\", how=\"left\")"
   ]
  },
  {
   "cell_type": "code",
   "execution_count": 78,
   "metadata": {},
   "outputs": [],
   "source": [
    "world['Profit'] = world['Profit'].fillna(0)"
   ]
  },
  {
   "cell_type": "code",
   "execution_count": null,
   "metadata": {},
   "outputs": [
    {
     "data": {
      "image/png": "[encoded data removed]",
      "text/plain": [
       "<Figure size 1500x800 with 2 Axes>"
      ]
     },
     "metadata": {},
     "output_type": "display_data"
    }
   ],
   "source": [
    "fig, ax = plt.subplots(1, 1, figsize=(15, 8))\n",
    "world.plot(column=\"Profit\", cmap=\"Reds\", linewidth=0.8, edgecolor=\"black\", legend=True, ax=ax)\n",
    "ax.set_title(\"Profit per Country\", fontsize=15)\n",
    "plt.show()"
   ]
  },
  {
   "cell_type": "markdown",
   "metadata": {},
   "source": [
    "# 5. Statistical analysis"
   ]
  },
  {
   "cell_type": "markdown",
   "metadata": {},
   "source": [
    "sales trends over time using a line chart to highlight seasonality or trends"
   ]
  },
  {
   "cell_type": "code",

   "execution_count": 815,
   "metadata": {},
   "outputs": [],
   "source": [
    "df.index = pd.to_datetime(df.index)"
   ]
  },
  {
   "cell_type": "code",

   "execution_count": 816,
   "metadata": {},
   "outputs": [
    {
     "name": "stdout",
     "output_type": "stream",
     "text": [
      "               Segment  Country      Product Discount Band  Units Sold  \\\n",
      "Date                                                                     \n",
      "2014-01-01  Government   Canada   Carretera          None         1618   \n",
      "2014-01-01  Government  Germany   Carretera          None         1321   \n",
      "2014-06-01   Midmarket   France   Carretera          None         2178   \n",
      "2014-06-01   Midmarket  Germany   Carretera          None          888   \n",
      "2014-06-01   Midmarket   Mexico   Carretera          None         2470   \n",
      "\n",
      "            Manufacturing Price  Sale Price  Gross Sales  Discounts  Sales  \\\n",
      "Date                                                                         \n",
      "2014-01-01                    3          20        32370          0  32370   \n",
      "2014-01-01                    3          20        26420          0  26420   \n",
      "2014-06-01                    3          15        32670          0  32670   \n",
      "2014-06-01                    3          15        13320          0  13320   \n",
      "2014-06-01                    3          15        37050          0  37050   \n",
      "\n",
      "             COGS  Profit  \n",
      "Date                       \n",
      "2014-01-01  16185   16185  \n",
      "2014-01-01  13210   13210  \n",
      "2014-06-01  21780   10890  \n",
      "2014-06-01   8880    4440  \n",
      "2014-06-01  24700   12350  \n"
     ]
    }
   ],
   "source": [
    "print(df.head())"
   ]
  },
  {
   "cell_type": "code",
   "execution_count": 817,
   "metadata": {},
   "outputs": [],
   "source": [
    "monthly_sales = df.groupby(df.index.to_period('M'))['Sales'].sum()"
   ]
  },
  {
   "cell_type": "code",

   "execution_count": 818,
   "metadata": {},
   "outputs": [
    {
     "name": "stdout",
     "output_type": "stream",
     "text": [
      "Date\n",
      "2013-09     4483990\n",
      "2013-10     9295588\n",
      "2013-11     7267195\n",
      "2013-12     5368433\n",
      "2014-01     6607750\n",
      "2014-02     7297523\n",
      "2014-03     5491449\n",
      "2014-04     6835884\n",
      "2014-05     6210202\n",
      "2014-06     9518876\n",
      "2014-07     7744349\n",
      "2014-08     5864614\n",
      "2014-09     6398687\n",
      "2014-10    12375798\n",
      "2014-11     5384202\n",
      "2014-12    11725642\n",
      "Freq: M, Name: Sales, dtype: int64\n"
     ]
    }
   ],
   "source": [
    "print(monthly_sales)"
   ]
  },
  {
   "cell_type": "code",
   "execution_count": 819,

   "metadata": {},
   "outputs": [
    {
     "data": {

      "application/vnd.plotly.v1+json": {
       "config": {
        "plotlyServerURL": "https://plot.ly"
       },
       "data": [
        {
         "line": {
          "color": "blue",
          "width": 2
         },
         "marker": {
          "color": "blue",
          "line": {
           "color": "black",
           "width": 1
          },
          "size": 8
         },
         "mode": "lines+markers",
         "name": "Total Sales",
         "type": "scatter",
         "x": [
          "2013-09",
          "2013-10",
          "2013-11",
          "2013-12",
          "2014-01",
          "2014-02",
          "2014-03",
          "2014-04",
          "2014-05",
          "2014-06",
          "2014-07",
          "2014-08",
          "2014-09",
          "2014-10",
          "2014-11",
          "2014-12"
         ],
         "y": {
          "bdata": "lmtEAOTWjQB7424AcepRAIbTZADzWW8A+cpTAKxOaACawl4AHD+RAF0rdgCmfFkA36JhAPbWvAAKKFIASuuyAA==",
          "dtype": "i4"
         }
        }
       ],
       "layout": {
        "height": 600,
        "template": {
         "data": {
          "bar": [
           {
            "error_x": {
             "color": "#2a3f5f"
            },
            "error_y": {
             "color": "#2a3f5f"
            },
            "marker": {
             "line": {
              "color": "white",
              "width": 0.5
             },
             "pattern": {
              "fillmode": "overlay",
              "size": 10,
              "solidity": 0.2
             }
            },
            "type": "bar"
           }
          ],
          "barpolar": [
           {
            "marker": {
             "line": {
              "color": "white",
              "width": 0.5
             },
             "pattern": {
              "fillmode": "overlay",
              "size": 10,
              "solidity": 0.2
             }
            },
            "type": "barpolar"
           }
          ],
          "carpet": [
           {
            "aaxis": {
             "endlinecolor": "#2a3f5f",
             "gridcolor": "#C8D4E3",
             "linecolor": "#C8D4E3",
             "minorgridcolor": "#C8D4E3",
             "startlinecolor": "#2a3f5f"
            },
            "baxis": {
             "endlinecolor": "#2a3f5f",
             "gridcolor": "#C8D4E3",
             "linecolor": "#C8D4E3",
             "minorgridcolor": "#C8D4E3",
             "startlinecolor": "#2a3f5f"
            },
            "type": "carpet"
           }
          ],
          "choropleth": [
           {
            "colorbar": {
             "outlinewidth": 0,
             "ticks": ""
            },
            "type": "choropleth"
           }
          ],
          "contour": [
           {
            "colorbar": {
             "outlinewidth": 0,
             "ticks": ""
            },
            "colorscale": [
             [
              0,
              "#0d0887"
             ],
             [
              0.1111111111111111,
              "#46039f"
             ],
             [
              0.2222222222222222,
              "#7201a8"
             ],
             [
              0.3333333333333333,
              "#9c179e"
             ],
             [
              0.4444444444444444,
              "#bd3786"
             ],
             [
              0.5555555555555556,
              "#d8576b"
             ],
             [
              0.6666666666666666,
              "#ed7953"
             ],
             [
              0.7777777777777778,
              "#fb9f3a"
             ],
             [
              0.8888888888888888,
              "#fdca26"
             ],
             [
              1,
              "#f0f921"
             ]
            ],
            "type": "contour"
           }
          ],
          "contourcarpet": [
           {
            "colorbar": {
             "outlinewidth": 0,
             "ticks": ""
            },
            "type": "contourcarpet"
           }
          ],
          "heatmap": [
           {
            "colorbar": {
             "outlinewidth": 0,
             "ticks": ""
            },
            "colorscale": [
             [
              0,
              "#0d0887"
             ],
             [
              0.1111111111111111,
              "#46039f"
             ],
             [
              0.2222222222222222,
              "#7201a8"
             ],
             [
              0.3333333333333333,
              "#9c179e"
             ],
             [
              0.4444444444444444,
              "#bd3786"
             ],
             [
              0.5555555555555556,
              "#d8576b"
             ],
             [
              0.6666666666666666,
              "#ed7953"
             ],
             [
              0.7777777777777778,
              "#fb9f3a"
             ],
             [
              0.8888888888888888,
              "#fdca26"
             ],
             [
              1,
              "#f0f921"
             ]
            ],
            "type": "heatmap"
           }
          ],
          "histogram": [
           {
            "marker": {
             "pattern": {
              "fillmode": "overlay",
              "size": 10,
              "solidity": 0.2
             }
            },
            "type": "histogram"
           }
          ],
          "histogram2d": [
           {
            "colorbar": {
             "outlinewidth": 0,
             "ticks": ""
            },
            "colorscale": [
             [
              0,
              "#0d0887"
             ],
             [
              0.1111111111111111,
              "#46039f"
             ],
             [
              0.2222222222222222,
              "#7201a8"
             ],
             [
              0.3333333333333333,
              "#9c179e"
             ],
             [
              0.4444444444444444,
              "#bd3786"
             ],
             [
              0.5555555555555556,
              "#d8576b"
             ],
             [
              0.6666666666666666,
              "#ed7953"
             ],
             [
              0.7777777777777778,
              "#fb9f3a"
             ],
             [
              0.8888888888888888,
              "#fdca26"
             ],
             [
              1,
              "#f0f921"
             ]
            ],
            "type": "histogram2d"
           }
          ],
          "histogram2dcontour": [
           {
            "colorbar": {
             "outlinewidth": 0,
             "ticks": ""
            },
            "colorscale": [
             [
              0,
              "#0d0887"
             ],
             [
              0.1111111111111111,
              "#46039f"
             ],
             [
              0.2222222222222222,
              "#7201a8"
             ],
             [
              0.3333333333333333,
              "#9c179e"
             ],
             [
              0.4444444444444444,
              "#bd3786"
             ],
             [
              0.5555555555555556,
              "#d8576b"
             ],
             [
              0.6666666666666666,
              "#ed7953"
             ],
             [
              0.7777777777777778,
              "#fb9f3a"
             ],
             [
              0.8888888888888888,
              "#fdca26"
             ],
             [
              1,
              "#f0f921"
             ]
            ],
            "type": "histogram2dcontour"
           }
          ],
          "mesh3d": [
           {
            "colorbar": {
             "outlinewidth": 0,
             "ticks": ""
            },
            "type": "mesh3d"
           }
          ],
          "parcoords": [
           {
            "line": {
             "colorbar": {
              "outlinewidth": 0,
              "ticks": ""
             }
            },
            "type": "parcoords"
           }
          ],
          "pie": [
           {
            "automargin": true,
            "type": "pie"
           }
          ],
          "scatter": [
           {
            "fillpattern": {
             "fillmode": "overlay",
             "size": 10,
             "solidity": 0.2
            },
            "type": "scatter"
           }
          ],
          "scatter3d": [
           {
            "line": {
             "colorbar": {
              "outlinewidth": 0,
              "ticks": ""
             }
            },
            "marker": {
             "colorbar": {
              "outlinewidth": 0,
              "ticks": ""
             }
            },
            "type": "scatter3d"
           }
          ],
          "scattercarpet": [
           {
            "marker": {
             "colorbar": {
              "outlinewidth": 0,
              "ticks": ""
             }
            },
            "type": "scattercarpet"
           }
          ],
          "scattergeo": [
           {
            "marker": {
             "colorbar": {
              "outlinewidth": 0,
              "ticks": ""
             }
            },
            "type": "scattergeo"
           }
          ],
          "scattergl": [
           {
            "marker": {
             "colorbar": {
              "outlinewidth": 0,
              "ticks": ""
             }
            },
            "type": "scattergl"
           }
          ],
          "scattermap": [
           {
            "marker": {
             "colorbar": {
              "outlinewidth": 0,
              "ticks": ""
             }
            },
            "type": "scattermap"
           }
          ],
          "scattermapbox": [
           {
            "marker": {
             "colorbar": {
              "outlinewidth": 0,
              "ticks": ""
             }
            },
            "type": "scattermapbox"
           }
          ],
          "scatterpolar": [
           {
            "marker": {
             "colorbar": {
              "outlinewidth": 0,
              "ticks": ""
             }
            },
            "type": "scatterpolar"
           }
          ],
          "scatterpolargl": [
           {
            "marker": {
             "colorbar": {
              "outlinewidth": 0,
              "ticks": ""
             }
            },
            "type": "scatterpolargl"
           }
          ],
          "scatterternary": [
           {
            "marker": {
             "colorbar": {
              "outlinewidth": 0,
              "ticks": ""
             }
            },
            "type": "scatterternary"
           }
          ],
          "surface": [
           {
            "colorbar": {
             "outlinewidth": 0,
             "ticks": ""
            },
            "colorscale": [
             [
              0,
              "#0d0887"
             ],
             [
              0.1111111111111111,
              "#46039f"
             ],
             [
              0.2222222222222222,
              "#7201a8"
             ],
             [
              0.3333333333333333,
              "#9c179e"
             ],
             [
              0.4444444444444444,
              "#bd3786"
             ],
             [
              0.5555555555555556,
              "#d8576b"
             ],
             [
              0.6666666666666666,
              "#ed7953"
             ],
             [
              0.7777777777777778,
              "#fb9f3a"
             ],
             [
              0.8888888888888888,
              "#fdca26"
             ],
             [
              1,
              "#f0f921"
             ]
            ],
            "type": "surface"
           }
          ],
          "table": [
           {
            "cells": {
             "fill": {
              "color": "#EBF0F8"
             },
             "line": {
              "color": "white"
             }
            },
            "header": {
             "fill": {
              "color": "#C8D4E3"
             },
             "line": {
              "color": "white"
             }
            },
            "type": "table"
           }
          ]
         },
         "layout": {
          "annotationdefaults": {
           "arrowcolor": "#2a3f5f",
           "arrowhead": 0,
           "arrowwidth": 1
          },
          "autotypenumbers": "strict",
          "coloraxis": {
           "colorbar": {
            "outlinewidth": 0,
            "ticks": ""
           }
          },
          "colorscale": {
           "diverging": [
            [
             0,
             "#8e0152"
            ],
            [
             0.1,
             "#c51b7d"
            ],
            [
             0.2,
             "#de77ae"
            ],
            [
             0.3,
             "#f1b6da"
            ],
            [
             0.4,
             "#fde0ef"
            ],
            [
             0.5,
             "#f7f7f7"
            ],
            [
             0.6,
             "#e6f5d0"
            ],
            [
             0.7,
             "#b8e186"
            ],
            [
             0.8,
             "#7fbc41"
            ],
            [
             0.9,
             "#4d9221"
            ],
            [
             1,
             "#276419"
            ]
           ],
           "sequential": [
            [
             0,
             "#0d0887"
            ],
            [
             0.1111111111111111,
             "#46039f"
            ],
            [
             0.2222222222222222,
             "#7201a8"
            ],
            [
             0.3333333333333333,
             "#9c179e"
            ],
            [
             0.4444444444444444,
             "#bd3786"
            ],
            [
             0.5555555555555556,
             "#d8576b"
            ],
            [
             0.6666666666666666,
             "#ed7953"
            ],
            [
             0.7777777777777778,
             "#fb9f3a"
            ],
            [
             0.8888888888888888,
             "#fdca26"
            ],
            [
             1,
             "#f0f921"
            ]
           ],
           "sequentialminus": [
            [
             0,
             "#0d0887"
            ],
            [
             0.1111111111111111,
             "#46039f"
            ],
            [
             0.2222222222222222,
             "#7201a8"
            ],
            [
             0.3333333333333333,
             "#9c179e"
            ],
            [
             0.4444444444444444,
             "#bd3786"
            ],
            [
             0.5555555555555556,
             "#d8576b"
            ],
            [
             0.6666666666666666,
             "#ed7953"
            ],
            [
             0.7777777777777778,
             "#fb9f3a"
            ],
            [
             0.8888888888888888,
             "#fdca26"
            ],
            [
             1,
             "#f0f921"
            ]
           ]
          },
          "colorway": [
           "#636efa",
           "#EF553B",
           "#00cc96",
           "#ab63fa",
           "#FFA15A",
           "#19d3f3",
           "#FF6692",
           "#B6E880",
           "#FF97FF",
           "#FECB52"
          ],
          "font": {
           "color": "#2a3f5f"
          },
          "geo": {
           "bgcolor": "white",
           "lakecolor": "white",
           "landcolor": "white",
           "showlakes": true,
           "showland": true,
           "subunitcolor": "#C8D4E3"
          },
          "hoverlabel": {
           "align": "left"
          },
          "hovermode": "closest",
          "mapbox": {
           "style": "light"
          },
          "paper_bgcolor": "white",
          "plot_bgcolor": "white",
          "polar": {
           "angularaxis": {
            "gridcolor": "#EBF0F8",
            "linecolor": "#EBF0F8",
            "ticks": ""
           },
           "bgcolor": "white",
           "radialaxis": {
            "gridcolor": "#EBF0F8",
            "linecolor": "#EBF0F8",
            "ticks": ""
           }
          },
          "scene": {
           "xaxis": {
            "backgroundcolor": "white",
            "gridcolor": "#DFE8F3",
            "gridwidth": 2,
            "linecolor": "#EBF0F8",
            "showbackground": true,
            "ticks": "",
            "zerolinecolor": "#EBF0F8"
           },
           "yaxis": {
            "backgroundcolor": "white",
            "gridcolor": "#DFE8F3",
            "gridwidth": 2,
            "linecolor": "#EBF0F8",
            "showbackground": true,
            "ticks": "",
            "zerolinecolor": "#EBF0F8"
           },
           "zaxis": {
            "backgroundcolor": "white",
            "gridcolor": "#DFE8F3",
            "gridwidth": 2,
            "linecolor": "#EBF0F8",
            "showbackground": true,
            "ticks": "",
            "zerolinecolor": "#EBF0F8"
           }
          },
          "shapedefaults": {
           "line": {
            "color": "#2a3f5f"
           }
          },
          "ternary": {
           "aaxis": {
            "gridcolor": "#DFE8F3",
            "linecolor": "#A2B1C6",
            "ticks": ""
           },
           "baxis": {
            "gridcolor": "#DFE8F3",
            "linecolor": "#A2B1C6",
            "ticks": ""
           },
           "bgcolor": "white",
           "caxis": {
            "gridcolor": "#DFE8F3",
            "linecolor": "#A2B1C6",
            "ticks": ""
           }
          },
          "title": {
           "x": 0.05
          },
          "xaxis": {
           "automargin": true,
           "gridcolor": "#EBF0F8",
           "linecolor": "#EBF0F8",
           "ticks": "",
           "title": {
            "standoff": 15
           },
           "zerolinecolor": "#EBF0F8",
           "zerolinewidth": 2
          },
          "yaxis": {
           "automargin": true,
           "gridcolor": "#EBF0F8",
           "linecolor": "#EBF0F8",
           "ticks": "",
           "title": {
            "standoff": 15
           },
           "zerolinecolor": "#EBF0F8",
           "zerolinewidth": 2
          }
         }
        },
        "title": {
         "font": {
          "size": 20
         },
         "text": "Sales Trends Over Time",
         "x": 0.5,
         "xanchor": "center"
        },
        "width": 1000,
        "xaxis": {
         "showgrid": true,
         "tickangle": -45,
         "tickfont": {
          "size": 12
         },
         "title": {
          "font": {
           "size": 16
          },
          "text": "Month"
         }
        },
        "yaxis": {
         "showgrid": true,
         "tickfont": {
          "size": 12
         },
         "title": {
          "font": {
           "size": 16
          },
          "text": "Total Sales"
         }
        }
       }
      }

     },
     "metadata": {},
     "output_type": "display_data"
    }
   ],
   "source": [
    "fig = go.Figure()\n",
    "\n",
    "# Add the sales data as a line plot\n",
    "fig.add_trace(go.Scatter(\n",
    "    x=monthly_sales.index.astype(str),\n",
    "    y=monthly_sales.values,\n",
    "    mode='lines+markers',\n",
    "    name='Total Sales',\n",
    "    line=dict(color='blue', width=2),\n",
    "    marker=dict(size=8, color='blue', line=dict(width=1, color='black'))\n",
    "))\n",
    "\n",
    "fig.update_layout(\n",
    "    title=dict(\n",
    "        text=\"Sales Trends Over Time\",\n",
    "        font=dict(size=20),\n",
    "        x=0.5,  # Center the title\n",
    "        xanchor='center'\n",
    "    ),\n",
    "    xaxis=dict(\n",
    "        title=dict(\n",
    "            text=\"Month\",\n",
    "            font=dict(size=16)\n",
    "        ),\n",
    "        tickangle=-45,\n",
    "        showgrid=True,\n",
    "        tickfont=dict(size=12)\n",
    "    ),\n",
    "    yaxis=dict(\n",
    "        title=dict(\n",
    "            text=\"Total Sales\",\n",
    "            font=dict(size=16)\n",
    "        ),\n",
    "        showgrid=True,\n",
    "        tickfont=dict(size=12)\n",
    "    ),\n",
    "    template='plotly_white',\n",
    "    width=1000,\n",
    "    height=600\n",
    ")\n",
    "\n",
    "fig.show()"
   ]
  },
  {
   "cell_type": "markdown",
   "metadata": {},
   "source": [
    "sales difference across regions using a heat map or bar chart"
   ]
  },
  {
   "cell_type": "code",

   "execution_count": 820,

   "metadata": {},
   "outputs": [],
   "source": [
    "country_sales = df.groupby('Country')['Sales'].sum().sort_values()"
   ]
  },
  {
   "cell_type": "code",

   "execution_count": 821,
   "metadata": {},
   "outputs": [
    {
     "data": {
      "application/vnd.plotly.v1+json": {
       "config": {
        "plotlyServerURL": "https://plot.ly"
       },
       "data": [
        {
         "marker": {
          "cmax": 25029787,
          "cmin": 20547312,
          "color": {
           "bdata": "8IY5Aew0ZQGyJG4BPcF7AZvsfQE=",
           "dtype": "i4"
          },
          "colorscale": [
           [
            0,
            "rgb(165,0,38)"
           ],
           [
            0.1,
            "rgb(215,48,39)"
           ],
           [
            0.2,
            "rgb(244,109,67)"
           ],
           [
            0.3,
            "rgb(253,174,97)"
           ],
           [
            0.4,
            "rgb(254,224,139)"
           ],
           [
            0.5,
            "rgb(255,255,191)"
           ],
           [
            0.6,
            "rgb(217,239,139)"
           ],
           [
            0.7,
            "rgb(166,217,106)"
           ],
           [
            0.8,
            "rgb(102,189,99)"
           ],
           [
            0.9,
            "rgb(26,152,80)"
           ],
           [
            1,
            "rgb(0,104,55)"
           ]
          ],
          "showscale": true
         },
         "name": "Total Sales",
         "type": "bar",
         "x": [
          "Mexico",
          "Germany",
          "France",
          "Canada",
          "United States of America"
         ],
         "y": {
          "bdata": "8IY5Aew0ZQGyJG4BPcF7AZvsfQE=",
          "dtype": "i4"
         }
        }
       ],
       "layout": {
        "height": 600,
        "template": {
         "data": {
          "bar": [
           {
            "error_x": {
             "color": "#2a3f5f"
            },
            "error_y": {
             "color": "#2a3f5f"
            },
            "marker": {
             "line": {
              "color": "white",
              "width": 0.5
             },
             "pattern": {
              "fillmode": "overlay",
              "size": 10,
              "solidity": 0.2
             }
            },
            "type": "bar"
           }
          ],
          "barpolar": [
           {
            "marker": {
             "line": {
              "color": "white",
              "width": 0.5
             },
             "pattern": {
              "fillmode": "overlay",
              "size": 10,
              "solidity": 0.2
             }
            },
            "type": "barpolar"
           }
          ],
          "carpet": [
           {
            "aaxis": {
             "endlinecolor": "#2a3f5f",
             "gridcolor": "#C8D4E3",
             "linecolor": "#C8D4E3",
             "minorgridcolor": "#C8D4E3",
             "startlinecolor": "#2a3f5f"
            },
            "baxis": {
             "endlinecolor": "#2a3f5f",
             "gridcolor": "#C8D4E3",
             "linecolor": "#C8D4E3",
             "minorgridcolor": "#C8D4E3",
             "startlinecolor": "#2a3f5f"
            },
            "type": "carpet"
           }
          ],
          "choropleth": [
           {
            "colorbar": {
             "outlinewidth": 0,
             "ticks": ""
            },
            "type": "choropleth"
           }
          ],
          "contour": [
           {
            "colorbar": {
             "outlinewidth": 0,
             "ticks": ""
            },
            "colorscale": [
             [
              0,
              "#0d0887"
             ],
             [
              0.1111111111111111,
              "#46039f"
             ],
             [
              0.2222222222222222,
              "#7201a8"
             ],
             [
              0.3333333333333333,
              "#9c179e"
             ],
             [
              0.4444444444444444,
              "#bd3786"
             ],
             [
              0.5555555555555556,
              "#d8576b"
             ],
             [
              0.6666666666666666,
              "#ed7953"
             ],
             [
              0.7777777777777778,
              "#fb9f3a"
             ],
             [
              0.8888888888888888,
              "#fdca26"
             ],
             [
              1,
              "#f0f921"
             ]
            ],
            "type": "contour"
           }
          ],
          "contourcarpet": [
           {
            "colorbar": {
             "outlinewidth": 0,
             "ticks": ""
            },
            "type": "contourcarpet"
           }
          ],
          "heatmap": [
           {
            "colorbar": {
             "outlinewidth": 0,
             "ticks": ""
            },
            "colorscale": [
             [
              0,
              "#0d0887"
             ],
             [
              0.1111111111111111,
              "#46039f"
             ],
             [
              0.2222222222222222,
              "#7201a8"
             ],
             [
              0.3333333333333333,
              "#9c179e"
             ],
             [
              0.4444444444444444,
              "#bd3786"
             ],
             [
              0.5555555555555556,
              "#d8576b"
             ],
             [
              0.6666666666666666,
              "#ed7953"
             ],
             [
              0.7777777777777778,
              "#fb9f3a"
             ],
             [
              0.8888888888888888,
              "#fdca26"
             ],
             [
              1,
              "#f0f921"
             ]
            ],
            "type": "heatmap"
           }
          ],
          "histogram": [
           {
            "marker": {
             "pattern": {
              "fillmode": "overlay",
              "size": 10,
              "solidity": 0.2
             }
            },
            "type": "histogram"
           }
          ],
          "histogram2d": [
           {
            "colorbar": {
             "outlinewidth": 0,
             "ticks": ""
            },
            "colorscale": [
             [
              0,
              "#0d0887"
             ],
             [
              0.1111111111111111,
              "#46039f"
             ],
             [
              0.2222222222222222,
              "#7201a8"
             ],
             [
              0.3333333333333333,
              "#9c179e"
             ],
             [
              0.4444444444444444,
              "#bd3786"
             ],
             [
              0.5555555555555556,
              "#d8576b"
             ],
             [
              0.6666666666666666,
              "#ed7953"
             ],
             [
              0.7777777777777778,
              "#fb9f3a"
             ],
             [
              0.8888888888888888,
              "#fdca26"
             ],
             [
              1,
              "#f0f921"
             ]
            ],
            "type": "histogram2d"
           }
          ],
          "histogram2dcontour": [
           {
            "colorbar": {
             "outlinewidth": 0,
             "ticks": ""
            },
            "colorscale": [
             [
              0,
              "#0d0887"
             ],
             [
              0.1111111111111111,
              "#46039f"
             ],
             [
              0.2222222222222222,
              "#7201a8"
             ],
             [
              0.3333333333333333,
              "#9c179e"
             ],
             [
              0.4444444444444444,
              "#bd3786"
             ],
             [
              0.5555555555555556,
              "#d8576b"
             ],
             [
              0.6666666666666666,
              "#ed7953"
             ],
             [
              0.7777777777777778,
              "#fb9f3a"
             ],
             [
              0.8888888888888888,
              "#fdca26"
             ],
             [
              1,
              "#f0f921"
             ]
            ],
            "type": "histogram2dcontour"
           }
          ],
          "mesh3d": [
           {
            "colorbar": {
             "outlinewidth": 0,
             "ticks": ""
            },
            "type": "mesh3d"
           }
          ],
          "parcoords": [
           {
            "line": {
             "colorbar": {
              "outlinewidth": 0,
              "ticks": ""
             }
            },
            "type": "parcoords"
           }
          ],
          "pie": [
           {
            "automargin": true,
            "type": "pie"
           }
          ],
          "scatter": [
           {
            "fillpattern": {
             "fillmode": "overlay",
             "size": 10,
             "solidity": 0.2
            },
            "type": "scatter"
           }
          ],
          "scatter3d": [
           {
            "line": {
             "colorbar": {
              "outlinewidth": 0,
              "ticks": ""
             }
            },
            "marker": {
             "colorbar": {
              "outlinewidth": 0,
              "ticks": ""
             }
            },
            "type": "scatter3d"
           }
          ],
          "scattercarpet": [
           {
            "marker": {
             "colorbar": {
              "outlinewidth": 0,
              "ticks": ""
             }
            },
            "type": "scattercarpet"
           }
          ],
          "scattergeo": [
           {
            "marker": {
             "colorbar": {
              "outlinewidth": 0,
              "ticks": ""
             }
            },
            "type": "scattergeo"
           }
          ],
          "scattergl": [
           {
            "marker": {
             "colorbar": {
              "outlinewidth": 0,
              "ticks": ""
             }
            },
            "type": "scattergl"
           }
          ],
          "scattermap": [
           {
            "marker": {
             "colorbar": {
              "outlinewidth": 0,
              "ticks": ""
             }
            },
            "type": "scattermap"
           }
          ],
          "scattermapbox": [
           {
            "marker": {
             "colorbar": {
              "outlinewidth": 0,
              "ticks": ""
             }
            },
            "type": "scattermapbox"
           }
          ],
          "scatterpolar": [
           {
            "marker": {
             "colorbar": {
              "outlinewidth": 0,
              "ticks": ""
             }
            },
            "type": "scatterpolar"
           }
          ],
          "scatterpolargl": [
           {
            "marker": {
             "colorbar": {
              "outlinewidth": 0,
              "ticks": ""
             }
            },
            "type": "scatterpolargl"
           }
          ],
          "scatterternary": [
           {
            "marker": {
             "colorbar": {
              "outlinewidth": 0,
              "ticks": ""
             }
            },
            "type": "scatterternary"
           }
          ],
          "surface": [
           {
            "colorbar": {
             "outlinewidth": 0,
             "ticks": ""
            },
            "colorscale": [
             [
              0,
              "#0d0887"
             ],
             [
              0.1111111111111111,
              "#46039f"
             ],
             [
              0.2222222222222222,
              "#7201a8"
             ],
             [
              0.3333333333333333,
              "#9c179e"
             ],
             [
              0.4444444444444444,
              "#bd3786"
             ],
             [
              0.5555555555555556,
              "#d8576b"
             ],
             [
              0.6666666666666666,
              "#ed7953"
             ],
             [
              0.7777777777777778,
              "#fb9f3a"
             ],
             [
              0.8888888888888888,
              "#fdca26"
             ],
             [
              1,
              "#f0f921"
             ]
            ],
            "type": "surface"
           }
          ],
          "table": [
           {
            "cells": {
             "fill": {
              "color": "#EBF0F8"
             },
             "line": {
              "color": "white"
             }
            },
            "header": {
             "fill": {
              "color": "#C8D4E3"
             },
             "line": {
              "color": "white"
             }
            },
            "type": "table"
           }
          ]
         },
         "layout": {
          "annotationdefaults": {
           "arrowcolor": "#2a3f5f",
           "arrowhead": 0,
           "arrowwidth": 1
          },
          "autotypenumbers": "strict",
          "coloraxis": {
           "colorbar": {
            "outlinewidth": 0,
            "ticks": ""
           }
          },
          "colorscale": {
           "diverging": [
            [
             0,
             "#8e0152"
            ],
            [
             0.1,
             "#c51b7d"
            ],
            [
             0.2,
             "#de77ae"
            ],
            [
             0.3,
             "#f1b6da"
            ],
            [
             0.4,
             "#fde0ef"
            ],
            [
             0.5,
             "#f7f7f7"
            ],
            [
             0.6,
             "#e6f5d0"
            ],
            [
             0.7,
             "#b8e186"
            ],
            [
             0.8,
             "#7fbc41"
            ],
            [
             0.9,
             "#4d9221"
            ],
            [
             1,
             "#276419"
            ]
           ],
           "sequential": [
            [
             0,
             "#0d0887"
            ],
            [
             0.1111111111111111,
             "#46039f"
            ],
            [
             0.2222222222222222,
             "#7201a8"
            ],
            [
             0.3333333333333333,
             "#9c179e"
            ],
            [
             0.4444444444444444,
             "#bd3786"
            ],
            [
             0.5555555555555556,
             "#d8576b"
            ],
            [
             0.6666666666666666,
             "#ed7953"
            ],
            [
             0.7777777777777778,
             "#fb9f3a"
            ],
            [
             0.8888888888888888,
             "#fdca26"
            ],
            [
             1,
             "#f0f921"
            ]
           ],
           "sequentialminus": [
            [
             0,
             "#0d0887"
            ],
            [
             0.1111111111111111,
             "#46039f"
            ],
            [
             0.2222222222222222,
             "#7201a8"
            ],
            [
             0.3333333333333333,
             "#9c179e"
            ],
            [
             0.4444444444444444,
             "#bd3786"
            ],
            [
             0.5555555555555556,
             "#d8576b"
            ],
            [
             0.6666666666666666,
             "#ed7953"
            ],
            [
             0.7777777777777778,
             "#fb9f3a"
            ],
            [
             0.8888888888888888,
             "#fdca26"
            ],
            [
             1,
             "#f0f921"
            ]
           ]
          },
          "colorway": [
           "#636efa",
           "#EF553B",
           "#00cc96",
           "#ab63fa",
           "#FFA15A",
           "#19d3f3",
           "#FF6692",
           "#B6E880",
           "#FF97FF",
           "#FECB52"
          ],
          "font": {
           "color": "#2a3f5f"
          },
          "geo": {
           "bgcolor": "white",
           "lakecolor": "white",
           "landcolor": "white",
           "showlakes": true,
           "showland": true,
           "subunitcolor": "#C8D4E3"
          },
          "hoverlabel": {
           "align": "left"
          },
          "hovermode": "closest",
          "mapbox": {
           "style": "light"
          },
          "paper_bgcolor": "white",
          "plot_bgcolor": "white",
          "polar": {
           "angularaxis": {
            "gridcolor": "#EBF0F8",
            "linecolor": "#EBF0F8",
            "ticks": ""
           },
           "bgcolor": "white",
           "radialaxis": {
            "gridcolor": "#EBF0F8",
            "linecolor": "#EBF0F8",
            "ticks": ""
           }
          },
          "scene": {
           "xaxis": {
            "backgroundcolor": "white",
            "gridcolor": "#DFE8F3",
            "gridwidth": 2,
            "linecolor": "#EBF0F8",
            "showbackground": true,
            "ticks": "",
            "zerolinecolor": "#EBF0F8"
           },
           "yaxis": {
            "backgroundcolor": "white",
            "gridcolor": "#DFE8F3",
            "gridwidth": 2,
            "linecolor": "#EBF0F8",
            "showbackground": true,
            "ticks": "",
            "zerolinecolor": "#EBF0F8"
           },
           "zaxis": {
            "backgroundcolor": "white",
            "gridcolor": "#DFE8F3",
            "gridwidth": 2,
            "linecolor": "#EBF0F8",
            "showbackground": true,
            "ticks": "",
            "zerolinecolor": "#EBF0F8"
           }
          },
          "shapedefaults": {
           "line": {
            "color": "#2a3f5f"
           }
          },
          "ternary": {
           "aaxis": {
            "gridcolor": "#DFE8F3",
            "linecolor": "#A2B1C6",
            "ticks": ""
           },
           "baxis": {
            "gridcolor": "#DFE8F3",
            "linecolor": "#A2B1C6",
            "ticks": ""
           },
           "bgcolor": "white",
           "caxis": {
            "gridcolor": "#DFE8F3",
            "linecolor": "#A2B1C6",
            "ticks": ""
           }
          },
          "title": {
           "x": 0.05
          },
          "xaxis": {
           "automargin": true,
           "gridcolor": "#EBF0F8",
           "linecolor": "#EBF0F8",
           "ticks": "",
           "title": {
            "standoff": 15
           },
           "zerolinecolor": "#EBF0F8",
           "zerolinewidth": 2
          },
          "yaxis": {
           "automargin": true,
           "gridcolor": "#EBF0F8",
           "linecolor": "#EBF0F8",
           "ticks": "",
           "title": {
            "standoff": 15
           },
           "zerolinecolor": "#EBF0F8",
           "zerolinewidth": 2
          }
         }
        },
        "title": {
         "font": {
          "size": 20
         },
         "text": "Sales Difference Across Countries",
         "x": 0.5,
         "xanchor": "center"
        },
        "width": 1000,
        "xaxis": {
         "tickangle": -45,
         "tickfont": {
          "size": 12
         },
         "title": {
          "font": {
           "size": 16
          },
          "text": "Country"
         }
        },
        "yaxis": {
         "tickfont": {
          "size": 12
         },
         "title": {
          "font": {
           "size": 16
          },
          "text": "Total Sales"
         }
        }
       }
      }

     },
     "metadata": {},
     "output_type": "display_data"
    }
   ],
   "source": [
    "fig = go.Figure()\n",
    "\n",
    "fig.add_trace(go.Bar(\n",
    "    x=country_sales.index,\n",
    "    y=country_sales.values,\n",
    "    marker=dict(\n",
    "        color=country_sales.values,\n",
    "        colorscale='RdYlGn',\n",
    "        cmin=country_sales.values.min(),\n",
    "        cmax=country_sales.values.max(),\n",
    "        showscale=True\n",
    "    ),\n",
    "    name='Total Sales'\n",
    "))\n",
    "\n",
    "fig.update_layout(\n",
    "    title=dict(\n",
    "        text=\"Sales Difference Across Countries\",\n",
    "        font=dict(size=20),\n",
    "        x=0.5,\n",
    "        xanchor='center'\n",
    "    ),\n",
    "    xaxis=dict(\n",
    "        title=dict(\n",
    "            text=\"Country\",\n",
    "            font=dict(size=16)\n",
    "        ),\n",
    "        tickangle=-45,\n",
    "        tickfont=dict(size=12)\n",
    "    ),\n",
    "    yaxis=dict(\n",
    "        title=dict(\n",
    "            text=\"Total Sales\",\n",
    "            font=dict(size=16)\n",
    "        ),\n",
    "        tickfont=dict(size=12)\n",
    "    ),\n",
    "    template='plotly_white',\n",
    "    width=1000,\n",
    "    height=600\n",
    ")\n",
    "\n",
    "# Show the chart\n",
    "fig.show()"
   ]
  },
  {
   "cell_type": "code",

   "execution_count": 822,
   "metadata": {},
   "outputs": [],
   "source": [
    "regional_sales = df.groupby(['Country', 'Segment'])['Sales'].sum().unstack()"
   ]
  },
  {
   "cell_type": "code",

   "execution_count": 823,
   "metadata": {},
   "outputs": [
    {
     "data": {

      "application/vnd.plotly.v1+json": {
       "config": {
        "plotlyServerURL": "https://plot.ly"
       },
       "data": [
        {
         "colorbar": {
          "len": 0.5,
          "thickness": 20,
          "tickfont": {
           "color": "black",
           "size": 12
          },
          "title": {
           "font": {
            "color": "black",
            "size": 14
           },
           "text": "Total Sales"
          }
         },
         "colorscale": [
          [
           0,
           "red"
          ],
          [
           0.5,
           "white"
          ],
          [
           1,
           "green"
          ]
         ],
         "text": {
          "bdata": "lX4HAP6JPADf5aMA/8gHAMwJjABwrQUAJOY1ABUOuQCDDwkAhnNwACIiBQB75zwAzcGuABqZBABo0G8Ag5MDAFR2LABcaJUAmcwHACRIbAC8lwUAhmJCAEgIgADiGQcAL9CuAA==",
          "dtype": "i4",
          "shape": "5, 5"
         },
         "textfont": {
          "color": "black",
          "size": 12
         },
         "texttemplate": "%{text:,}",
         "type": "heatmap",
         "x": [
          "Channel Partners",
          "Enterprise",
          "Government",
          "Midmarket",
          "Small Business"
         ],
         "y": [
          "Canada",
          "France",
          "Germany",
          "Mexico",
          "United States of America"
         ],
         "z": {
          "bdata": "lX4HAP6JPADf5aMA/8gHAMwJjABwrQUAJOY1ABUOuQCDDwkAhnNwACIiBQB75zwAzcGuABqZBABo0G8Ag5MDAFR2LABcaJUAmcwHACRIbAC8lwUAhmJCAEgIgADiGQcAL9CuAA==",
          "dtype": "i4",
          "shape": "5, 5"
         },
         "zmid": 4714807.28
        }
       ],
       "layout": {
        "height": 700,
        "margin": {
         "b": 70,
         "l": 120,
         "r": 20,
         "t": 70
        },
        "template": {
         "data": {
          "bar": [
           {
            "error_x": {
             "color": "#2a3f5f"
            },
            "error_y": {
             "color": "#2a3f5f"
            },
            "marker": {
             "line": {
              "color": "white",
              "width": 0.5
             },
             "pattern": {
              "fillmode": "overlay",
              "size": 10,
              "solidity": 0.2
             }
            },
            "type": "bar"
           }
          ],
          "barpolar": [
           {
            "marker": {
             "line": {
              "color": "white",
              "width": 0.5
             },
             "pattern": {
              "fillmode": "overlay",
              "size": 10,
              "solidity": 0.2
             }
            },
            "type": "barpolar"
           }
          ],
          "carpet": [
           {
            "aaxis": {
             "endlinecolor": "#2a3f5f",
             "gridcolor": "#C8D4E3",
             "linecolor": "#C8D4E3",
             "minorgridcolor": "#C8D4E3",
             "startlinecolor": "#2a3f5f"
            },
            "baxis": {
             "endlinecolor": "#2a3f5f",
             "gridcolor": "#C8D4E3",
             "linecolor": "#C8D4E3",
             "minorgridcolor": "#C8D4E3",
             "startlinecolor": "#2a3f5f"
            },
            "type": "carpet"
           }
          ],
          "choropleth": [
           {
            "colorbar": {
             "outlinewidth": 0,
             "ticks": ""
            },
            "type": "choropleth"
           }
          ],
          "contour": [
           {
            "colorbar": {
             "outlinewidth": 0,
             "ticks": ""
            },
            "colorscale": [
             [
              0,
              "#0d0887"
             ],
             [
              0.1111111111111111,
              "#46039f"
             ],
             [
              0.2222222222222222,
              "#7201a8"
             ],
             [
              0.3333333333333333,
              "#9c179e"
             ],
             [
              0.4444444444444444,
              "#bd3786"
             ],
             [
              0.5555555555555556,
              "#d8576b"
             ],
             [
              0.6666666666666666,
              "#ed7953"
             ],
             [
              0.7777777777777778,
              "#fb9f3a"
             ],
             [
              0.8888888888888888,
              "#fdca26"
             ],
             [
              1,
              "#f0f921"
             ]
            ],
            "type": "contour"
           }
          ],
          "contourcarpet": [
           {
            "colorbar": {
             "outlinewidth": 0,
             "ticks": ""
            },
            "type": "contourcarpet"
           }
          ],
          "heatmap": [
           {
            "colorbar": {
             "outlinewidth": 0,
             "ticks": ""
            },
            "colorscale": [
             [
              0,
              "#0d0887"
             ],
             [
              0.1111111111111111,
              "#46039f"
             ],
             [
              0.2222222222222222,
              "#7201a8"
             ],
             [
              0.3333333333333333,
              "#9c179e"
             ],
             [
              0.4444444444444444,
              "#bd3786"
             ],
             [
              0.5555555555555556,
              "#d8576b"
             ],
             [
              0.6666666666666666,
              "#ed7953"
             ],
             [
              0.7777777777777778,
              "#fb9f3a"
             ],
             [
              0.8888888888888888,
              "#fdca26"
             ],
             [
              1,
              "#f0f921"
             ]
            ],
            "type": "heatmap"
           }
          ],
          "histogram": [
           {
            "marker": {
             "pattern": {
              "fillmode": "overlay",
              "size": 10,
              "solidity": 0.2
             }
            },
            "type": "histogram"
           }
          ],
          "histogram2d": [
           {
            "colorbar": {
             "outlinewidth": 0,
             "ticks": ""
            },
            "colorscale": [
             [
              0,
              "#0d0887"
             ],
             [
              0.1111111111111111,
              "#46039f"
             ],
             [
              0.2222222222222222,
              "#7201a8"
             ],
             [
              0.3333333333333333,
              "#9c179e"
             ],
             [
              0.4444444444444444,
              "#bd3786"
             ],
             [
              0.5555555555555556,
              "#d8576b"
             ],
             [
              0.6666666666666666,
              "#ed7953"
             ],
             [
              0.7777777777777778,
              "#fb9f3a"
             ],
             [
              0.8888888888888888,
              "#fdca26"
             ],
             [
              1,
              "#f0f921"
             ]
            ],
            "type": "histogram2d"
           }
          ],
          "histogram2dcontour": [
           {
            "colorbar": {
             "outlinewidth": 0,
             "ticks": ""
            },
            "colorscale": [
             [
              0,
              "#0d0887"
             ],
             [
              0.1111111111111111,
              "#46039f"
             ],
             [
              0.2222222222222222,
              "#7201a8"
             ],
             [
              0.3333333333333333,
              "#9c179e"
             ],
             [
              0.4444444444444444,
              "#bd3786"
             ],
             [
              0.5555555555555556,
              "#d8576b"
             ],
             [
              0.6666666666666666,
              "#ed7953"
             ],
             [
              0.7777777777777778,
              "#fb9f3a"
             ],
             [
              0.8888888888888888,
              "#fdca26"
             ],
             [
              1,
              "#f0f921"
             ]
            ],
            "type": "histogram2dcontour"
           }
          ],
          "mesh3d": [
           {
            "colorbar": {
             "outlinewidth": 0,
             "ticks": ""
            },
            "type": "mesh3d"
           }
          ],
          "parcoords": [
           {
            "line": {
             "colorbar": {
              "outlinewidth": 0,
              "ticks": ""
             }
            },
            "type": "parcoords"
           }
          ],
          "pie": [
           {
            "automargin": true,
            "type": "pie"
           }
          ],
          "scatter": [
           {
            "fillpattern": {
             "fillmode": "overlay",
             "size": 10,
             "solidity": 0.2
            },
            "type": "scatter"
           }
          ],
          "scatter3d": [
           {
            "line": {
             "colorbar": {
              "outlinewidth": 0,
              "ticks": ""
             }
            },
            "marker": {
             "colorbar": {
              "outlinewidth": 0,
              "ticks": ""
             }
            },
            "type": "scatter3d"
           }
          ],
          "scattercarpet": [
           {
            "marker": {
             "colorbar": {
              "outlinewidth": 0,
              "ticks": ""
             }
            },
            "type": "scattercarpet"
           }
          ],
          "scattergeo": [
           {
            "marker": {
             "colorbar": {
              "outlinewidth": 0,
              "ticks": ""
             }
            },
            "type": "scattergeo"
           }
          ],
          "scattergl": [
           {
            "marker": {
             "colorbar": {
              "outlinewidth": 0,
              "ticks": ""
             }
            },
            "type": "scattergl"
           }
          ],
          "scattermap": [
           {
            "marker": {
             "colorbar": {
              "outlinewidth": 0,
              "ticks": ""
             }
            },
            "type": "scattermap"
           }
          ],
          "scattermapbox": [
           {
            "marker": {
             "colorbar": {
              "outlinewidth": 0,
              "ticks": ""
             }
            },
            "type": "scattermapbox"
           }
          ],
          "scatterpolar": [
           {
            "marker": {
             "colorbar": {
              "outlinewidth": 0,
              "ticks": ""
             }
            },
            "type": "scatterpolar"
           }
          ],
          "scatterpolargl": [
           {
            "marker": {
             "colorbar": {
              "outlinewidth": 0,
              "ticks": ""
             }
            },
            "type": "scatterpolargl"
           }
          ],
          "scatterternary": [
           {
            "marker": {
             "colorbar": {
              "outlinewidth": 0,
              "ticks": ""
             }
            },
            "type": "scatterternary"
           }
          ],
          "surface": [
           {
            "colorbar": {
             "outlinewidth": 0,
             "ticks": ""
            },
            "colorscale": [
             [
              0,
              "#0d0887"
             ],
             [
              0.1111111111111111,
              "#46039f"
             ],
             [
              0.2222222222222222,
              "#7201a8"
             ],
             [
              0.3333333333333333,
              "#9c179e"
             ],
             [
              0.4444444444444444,
              "#bd3786"
             ],
             [
              0.5555555555555556,
              "#d8576b"
             ],
             [
              0.6666666666666666,
              "#ed7953"
             ],
             [
              0.7777777777777778,
              "#fb9f3a"
             ],
             [
              0.8888888888888888,
              "#fdca26"
             ],
             [
              1,
              "#f0f921"
             ]
            ],
            "type": "surface"
           }
          ],
          "table": [
           {
            "cells": {
             "fill": {
              "color": "#EBF0F8"
             },
             "line": {
              "color": "white"
             }
            },
            "header": {
             "fill": {
              "color": "#C8D4E3"
             },
             "line": {
              "color": "white"
             }
            },
            "type": "table"
           }
          ]
         },
         "layout": {
          "annotationdefaults": {
           "arrowcolor": "#2a3f5f",
           "arrowhead": 0,
           "arrowwidth": 1
          },
          "autotypenumbers": "strict",
          "coloraxis": {
           "colorbar": {
            "outlinewidth": 0,
            "ticks": ""
           }
          },
          "colorscale": {
           "diverging": [
            [
             0,
             "#8e0152"
            ],
            [
             0.1,
             "#c51b7d"
            ],
            [
             0.2,
             "#de77ae"
            ],
            [
             0.3,
             "#f1b6da"
            ],
            [
             0.4,
             "#fde0ef"
            ],
            [
             0.5,
             "#f7f7f7"
            ],
            [
             0.6,
             "#e6f5d0"
            ],
            [
             0.7,
             "#b8e186"
            ],
            [
             0.8,
             "#7fbc41"
            ],
            [
             0.9,
             "#4d9221"
            ],
            [
             1,
             "#276419"
            ]
           ],
           "sequential": [
            [
             0,
             "#0d0887"
            ],
            [
             0.1111111111111111,
             "#46039f"
            ],
            [
             0.2222222222222222,
             "#7201a8"
            ],
            [
             0.3333333333333333,
             "#9c179e"
            ],
            [
             0.4444444444444444,
             "#bd3786"
            ],
            [
             0.5555555555555556,
             "#d8576b"
            ],
            [
             0.6666666666666666,
             "#ed7953"
            ],
            [
             0.7777777777777778,
             "#fb9f3a"
            ],
            [
             0.8888888888888888,
             "#fdca26"
            ],
            [
             1,
             "#f0f921"
            ]
           ],
           "sequentialminus": [
            [
             0,
             "#0d0887"
            ],
            [
             0.1111111111111111,
             "#46039f"
            ],
            [
             0.2222222222222222,
             "#7201a8"
            ],
            [
             0.3333333333333333,
             "#9c179e"
            ],
            [
             0.4444444444444444,
             "#bd3786"
            ],
            [
             0.5555555555555556,
             "#d8576b"
            ],
            [
             0.6666666666666666,
             "#ed7953"
            ],
            [
             0.7777777777777778,
             "#fb9f3a"
            ],
            [
             0.8888888888888888,
             "#fdca26"
            ],
            [
             1,
             "#f0f921"
            ]
           ]
          },
          "colorway": [
           "#636efa",
           "#EF553B",
           "#00cc96",
           "#ab63fa",
           "#FFA15A",
           "#19d3f3",
           "#FF6692",
           "#B6E880",
           "#FF97FF",
           "#FECB52"
          ],
          "font": {
           "color": "#2a3f5f"
          },
          "geo": {
           "bgcolor": "white",
           "lakecolor": "white",
           "landcolor": "white",
           "showlakes": true,
           "showland": true,
           "subunitcolor": "#C8D4E3"
          },
          "hoverlabel": {
           "align": "left"
          },
          "hovermode": "closest",
          "mapbox": {
           "style": "light"
          },
          "paper_bgcolor": "white",
          "plot_bgcolor": "white",
          "polar": {
           "angularaxis": {
            "gridcolor": "#EBF0F8",
            "linecolor": "#EBF0F8",
            "ticks": ""
           },
           "bgcolor": "white",
           "radialaxis": {
            "gridcolor": "#EBF0F8",
            "linecolor": "#EBF0F8",
            "ticks": ""
           }
          },
          "scene": {
           "xaxis": {
            "backgroundcolor": "white",
            "gridcolor": "#DFE8F3",
            "gridwidth": 2,
            "linecolor": "#EBF0F8",
            "showbackground": true,
            "ticks": "",
            "zerolinecolor": "#EBF0F8"
           },
           "yaxis": {
            "backgroundcolor": "white",
            "gridcolor": "#DFE8F3",
            "gridwidth": 2,
            "linecolor": "#EBF0F8",
            "showbackground": true,
            "ticks": "",
            "zerolinecolor": "#EBF0F8"
           },
           "zaxis": {
            "backgroundcolor": "white",
            "gridcolor": "#DFE8F3",
            "gridwidth": 2,
            "linecolor": "#EBF0F8",
            "showbackground": true,
            "ticks": "",
            "zerolinecolor": "#EBF0F8"
           }
          },
          "shapedefaults": {
           "line": {
            "color": "#2a3f5f"
           }
          },
          "ternary": {
           "aaxis": {
            "gridcolor": "#DFE8F3",
            "linecolor": "#A2B1C6",
            "ticks": ""
           },
           "baxis": {
            "gridcolor": "#DFE8F3",
            "linecolor": "#A2B1C6",
            "ticks": ""
           },
           "bgcolor": "white",
           "caxis": {
            "gridcolor": "#DFE8F3",
            "linecolor": "#A2B1C6",
            "ticks": ""
           }
          },
          "title": {
           "x": 0.05
          },
          "xaxis": {
           "automargin": true,
           "gridcolor": "#EBF0F8",
           "linecolor": "#EBF0F8",
           "ticks": "",
           "title": {
            "standoff": 15
           },
           "zerolinecolor": "#EBF0F8",
           "zerolinewidth": 2
          },
          "yaxis": {
           "automargin": true,
           "gridcolor": "#EBF0F8",
           "linecolor": "#EBF0F8",
           "ticks": "",
           "title": {
            "standoff": 15
           },
           "zerolinecolor": "#EBF0F8",
           "zerolinewidth": 2
          }
         }
        },
        "title": {
         "font": {
          "color": "black",
          "size": 20
         },
         "text": "Heatmap of Sales Difference Across Regions",
         "x": 0.5
        },
        "width": 1000,
        "xaxis": {
         "side": "bottom",
         "tickangle": 45,
         "tickfont": {
          "color": "black",
          "size": 12
         },
         "title": {
          "font": {
           "color": "black",
           "size": 16
          },
          "text": "Segment"
         }
        },
        "yaxis": {
         "tickfont": {
          "color": "black",
          "size": 12
         },
         "title": {
          "font": {
           "color": "black",
           "size": 16
          },
          "text": "Country"
         }
        }
       }
      }

     },
     "metadata": {},
     "output_type": "display_data"
    }
   ],
   "source": [
    "fig = go.Figure(data=go.Heatmap(\n",
    "    z=regional_sales.values,\n",
    "    x=regional_sales.columns,\n",
    "    y=regional_sales.index,\n",
    "    colorscale=[[0, 'red'], [0.5, 'white'], [1, 'green']],\n",
    "    text=regional_sales.values,\n",
    "    texttemplate=\"%{text:,}\",\n",
    "    textfont=dict(size=12, color=\"black\"),\n",
    "    colorbar=dict(\n",
    "        title=dict(\n",
    "            text=\"Total Sales\",\n",
    "            font=dict(size=14, color=\"black\")\n",
    "        ),\n",
    "        tickfont=dict(size=12, color=\"black\"),\n",
    "        thickness=20,\n",
    "        len=0.5\n",
    "    ),\n",
    "    zmid=regional_sales.values.mean()\n",
    "))\n",
    "\n",
    "fig.update_layout(\n",
    "    title=dict(\n",
    "        text=\"Heatmap of Sales Difference Across Regions\",\n",
    "        font=dict(size=20, color=\"black\"),\n",
    "        x=0.5\n",
    "    ),\n",
    "    xaxis=dict(\n",
    "        title=dict(\n",
    "            text=\"Segment\",\n",
    "            font=dict(size=16, color=\"black\")\n",
    "        ),\n",
    "        tickangle=45,\n",
    "        tickfont=dict(size=12, color=\"black\"),\n",
    "        side=\"bottom\"\n",
    "    ),\n",
    "    yaxis=dict(\n",
    "        title=dict(\n",
    "            text=\"Country\",\n",
    "            font=dict(size=16, color=\"black\")\n",
    "        ),\n",
    "        tickfont=dict(size=12, color=\"black\")\n",
    "    ),\n",
    "    template=\"plotly_white\",\n",
    "    width=1000,\n",
    "    height=700,\n",
    "    margin=dict(l=120, r=20, t=70, b=70)\n",
    ")\n",
    "\n",
    "fig.show()"
   ]
  },
  {
   "cell_type": "markdown",
   "metadata": {},
   "source": [
    "top-selling products using visualization charts (pie chart or bar chart)"
   ]
  },
  {
   "cell_type": "code",

   "execution_count": 824,

   "metadata": {},
   "outputs": [],
   "source": [
    "product_sales = df.groupby('Product')['Sales'].sum().sort_values(ascending=False)"
   ]
  },
  {
   "cell_type": "code",

   "execution_count": 825,

   "metadata": {},
   "outputs": [
    {
     "data": {

      "application/vnd.plotly.v1+json": {
       "config": {
        "plotlyServerURL": "https://plot.ly"
       },
       "data": [
        {
         "hoverinfo": "label+percent",
         "labels": [
          " Carretera ",
          " Carretera ",
          " Carretera ",
          " Carretera ",
          " Carretera ",
          " Carretera ",
          " Montana ",
          " Montana ",
          " Montana ",
          " Montana ",
          " Montana ",
          " Montana ",
          " Montana ",
          " Montana ",
          " Montana ",
          " Montana ",
          " Paseo ",
          " Paseo ",
          " Paseo ",
          " Paseo ",
          " Paseo ",
          " Paseo ",
          " Paseo ",
          " Paseo ",
          " Paseo ",
          " Paseo ",
          " Paseo ",
          " Paseo ",
          " Paseo ",
          " Paseo ",
          " Paseo ",
          " Velo ",
          " Velo ",
          " Velo ",
          " Velo ",
          " Velo ",
          " Velo ",
          " Velo ",
          " VTT ",
          " VTT ",
          " VTT ",
          " VTT ",
          " VTT ",
          " VTT ",
          " VTT ",
          " Amarilla ",
          " Amarilla ",
          " Amarilla ",
          " Amarilla ",
          " Amarilla ",
          " Amarilla ",
          " Amarilla ",
          " Amarilla ",
          " Paseo ",
          " Paseo ",
          " Paseo ",
          " Velo ",
          " VTT ",
          " Carretera ",
          " Carretera ",
          " Carretera ",
          " Carretera ",
          " Carretera ",
          " Carretera ",
          " Carretera ",
          " Carretera ",
          " Carretera ",
          " Carretera ",
          " Montana ",
          " Montana ",
          " Montana ",
          " Montana ",
          " Montana ",
          " Montana ",
          " Paseo ",
          " Paseo ",
          " Paseo ",
          " Paseo ",
          " Paseo ",
          " Paseo ",
          " Paseo ",
          " Paseo ",
          " Paseo ",
          " Velo ",
          " Velo ",
          " Velo ",
          " Velo ",
          " Velo ",
          " VTT ",
          " VTT ",
          " VTT ",
          " VTT ",
          " VTT ",
          " VTT ",
          " VTT ",
          " VTT ",
          " Amarilla ",
          " Amarilla ",
          " Carretera ",
          " Carretera ",
          " Carretera ",
          " Carretera ",
          " Carretera ",
          " Montana ",
          " Montana ",
          " Montana ",
          " Montana ",
          " Paseo ",
          " Paseo ",
          " Paseo ",
          " Paseo ",
          " Paseo ",
          " Paseo ",
          " Paseo ",
          " Paseo ",
          " Paseo ",
          " Paseo ",
          " Paseo ",
          " Paseo ",
          " Paseo ",
          " Paseo ",
          " Paseo ",
          " Paseo ",
          " Velo ",
          " Velo ",
          " Velo ",
          " Velo ",
          " Velo ",
          " Velo ",
          " Velo ",
          " Velo ",
          " VTT ",
          " VTT ",
          " VTT ",
          " VTT ",
          " VTT ",
          " VTT ",
          " Amarilla ",
          " Amarilla ",
          " Amarilla ",
          " Amarilla ",
          " Amarilla ",
          " Amarilla ",
          " Amarilla ",
          " Carretera ",
          " Carretera ",
          " Carretera ",
          " Carretera ",
          " Carretera ",
          " Montana ",
          " Montana ",
          " Montana ",
          " Montana ",
          " Montana ",
          " Montana ",
          " Paseo ",
          " Paseo ",
          " Paseo ",
          " Paseo ",
          " Paseo ",
          " Paseo ",
          " Paseo ",
          " Paseo ",
          " Paseo ",
          " Paseo ",
          " Velo ",
          " VTT ",
          " VTT ",
          " VTT ",
          " VTT ",
          " VTT ",
          " VTT ",
          " Carretera ",
          " Paseo ",
          " Velo ",
          " VTT ",
          " Montana ",
          " Paseo ",
          " Paseo ",
          " Velo ",
          " Carretera ",
          " Carretera ",
          " Carretera ",
          " Montana ",
          " Montana ",
          " Montana ",
          " Montana ",
          " Paseo ",
          " Paseo ",
          " Paseo ",
          " Paseo ",
          " Paseo ",
          " Paseo ",
          " Paseo ",
          " Paseo ",
          " Paseo ",
          " Paseo ",
          " Velo ",
          " Velo ",
          " Velo ",
          " VTT ",
          " VTT ",
          " VTT ",
          " VTT ",
          " Amarilla ",
          " Amarilla ",
          " Amarilla ",
          " Amarilla ",
          " Montana ",
          " Paseo ",
          " Paseo ",
          " Paseo ",
          " Paseo ",
          " Velo ",
          " VTT ",
          " Amarilla ",
          " Amarilla ",
          " Amarilla ",
          " Carretera ",
          " Carretera ",
          " Carretera ",
          " Carretera ",
          " Carretera ",
          " Carretera ",
          " Carretera ",
          " Carretera ",
          " Montana ",
          " Montana ",
          " Montana ",
          " Montana ",
          " Montana ",
          " Paseo ",
          " Paseo ",
          " Paseo ",
          " Paseo ",
          " Paseo ",
          " Paseo ",
          " Paseo ",
          " Paseo ",
          " Paseo ",
          " Paseo ",
          " Paseo ",
          " Paseo ",
          " Paseo ",
          " Paseo ",
          " Paseo ",
          " Paseo ",
          " Velo ",
          " Velo ",
          " Velo ",
          " Velo ",
          " Velo ",
          " Velo ",
          " Velo ",
          " Velo ",
          " Velo ",
          " Velo ",
          " VTT ",
          " VTT ",
          " VTT ",
          " VTT ",
          " VTT ",
          " VTT ",
          " Amarilla ",
          " Amarilla ",
          " Amarilla ",
          " Amarilla ",
          " Paseo ",
          " Carretera ",
          " Carretera ",
          " Carretera ",
          " Carretera ",
          " Carretera ",
          " Carretera ",
          " Carretera ",
          " Montana ",
          " Montana ",
          " Montana ",
          " Montana ",
          " Paseo ",
          " Paseo ",
          " Paseo ",
          " Velo ",
          " Velo ",
          " Velo ",
          " Velo ",
          " Velo ",
          " Velo ",
          " Velo ",
          " VTT ",
          " VTT ",
          " VTT ",
          " VTT ",
          " VTT ",
          " Amarilla ",
          " Amarilla ",
          " Amarilla ",
          " Amarilla ",
          " Amarilla ",
          " Montana ",
          " Paseo ",
          " Paseo ",
          " Paseo ",
          " Paseo ",
          " Velo ",
          " Velo ",
          " VTT ",
          " Carretera ",
          " Carretera ",
          " Carretera ",
          " Montana ",
          " Montana ",
          " Paseo ",
          " Velo ",
          " Velo ",
          " Velo ",
          " Velo ",
          " VTT ",
          " VTT ",
          " VTT ",
          " Amarilla ",
          " Carretera ",
          " Carretera ",
          " Carretera ",
          " Montana ",
          " Montana ",
          " Montana ",
          " Paseo ",
          " Paseo ",
          " Paseo ",
          " Paseo ",
          " Paseo ",
          " Paseo ",
          " Paseo ",
          " Paseo ",
          " Paseo ",
          " Paseo ",
          " Velo ",
          " Velo ",
          " Velo ",
          " Velo ",
          " Velo ",
          " Velo ",
          " Velo ",
          " VTT ",
          " VTT ",
          " VTT ",
          " Amarilla ",
          " Amarilla ",
          " Amarilla ",
          " Amarilla ",
          " Amarilla ",
          " Montana ",
          " Montana ",
          " Paseo ",
          " Amarilla ",
          " Carretera ",
          " Carretera ",
          " Carretera ",
          " Montana ",
          " Montana ",
          " Montana ",
          " Montana ",
          " Montana ",
          " Montana ",
          " Paseo ",
          " Paseo ",
          " Paseo ",
          " Paseo ",
          " Paseo ",
          " Paseo ",
          " Paseo ",
          " Paseo ",
          " Paseo ",
          " Paseo ",
          " Paseo ",
          " Paseo ",
          " Paseo ",
          " Velo ",
          " Velo ",
          " Velo ",
          " Velo ",
          " Velo ",
          " VTT ",
          " VTT ",
          " VTT ",
          " VTT ",
          " VTT ",
          " VTT ",
          " Amarilla ",
          " Amarilla ",
          " Amarilla ",
          " Amarilla ",
          " Amarilla ",
          " Amarilla ",
          " Amarilla ",
          " Amarilla ",
          " VTT ",
          " Carretera ",
          " Carretera ",
          " Montana ",
          " Montana ",
          " Montana ",
          " Montana ",
          " Montana ",
          " Montana ",
          " Montana ",
          " Montana ",
          " Paseo ",
          " Paseo ",
          " Paseo ",
          " Paseo ",
          " Paseo ",
          " Paseo ",
          " Paseo ",
          " Paseo ",
          " Paseo ",
          " Velo ",
          " Velo ",
          " Velo ",
          " Velo ",
          " Velo ",
          " Velo ",
          " VTT ",
          " VTT ",
          " VTT ",
          " VTT ",
          " VTT ",
          " VTT ",
          " VTT ",
          " VTT ",
          " Amarilla ",
          " Amarilla ",
          " Amarilla ",
          " Amarilla ",
          " Carretera ",
          " Carretera ",
          " Carretera ",
          " Carretera ",
          " Paseo ",
          " Paseo ",
          " Paseo ",
          " Velo ",
          " Velo ",
          " VTT ",
          " VTT ",
          " VTT ",
          " Amarilla ",
          " Amarilla ",
          " Amarilla ",
          " Carretera ",
          " Montana ",
          " Paseo ",
          " Carretera ",
          " Carretera ",
          " Montana ",
          " Montana ",
          " Montana ",
          " Paseo ",
          " Paseo ",
          " Paseo ",
          " Paseo ",
          " Velo ",
          " Velo ",
          " Velo ",
          " Velo ",
          " Velo ",
          " Velo ",
          " Velo ",
          " Velo ",
          " Velo ",
          " Velo ",
          " VTT ",
          " VTT ",
          " VTT ",
          " VTT ",
          " VTT ",
          " VTT ",
          " VTT ",
          " VTT ",
          " Amarilla ",
          " Amarilla ",
          " Amarilla ",
          " Amarilla ",
          " Amarilla ",
          " Amarilla ",
          " Amarilla ",
          " Amarilla ",
          " Amarilla ",
          " Carretera ",
          " Paseo ",
          " Paseo ",
          " Velo ",
          " Velo ",
          " VTT ",
          " VTT ",
          " Amarilla ",
          " Amarilla ",
          " Carretera ",
          " Carretera ",
          " Carretera ",
          " Carretera ",
          " Carretera ",
          " Carretera ",
          " Montana ",
          " Montana ",
          " Montana ",
          " Paseo ",
          " Paseo ",
          " Paseo ",
          " Paseo ",
          " Paseo ",
          " Paseo ",
          " Paseo ",
          " Paseo ",
          " Paseo ",
          " Paseo ",
          " Velo ",
          " Velo ",
          " Velo ",
          " Velo ",
          " VTT ",
          " VTT ",
          " VTT ",
          " Amarilla ",
          " Amarilla ",
          " Amarilla ",
          " Amarilla ",
          " Amarilla ",
          " Amarilla ",
          " Paseo ",
          " Carretera ",
          " Carretera ",
          " Carretera ",
          " Carretera ",
          " Montana ",
          " Montana ",
          " Montana ",
          " Montana ",
          " Montana ",
          " Montana ",
          " Paseo ",
          " Paseo ",
          " Paseo ",
          " Paseo ",
          " Paseo ",
          " Paseo ",
          " Paseo ",
          " Paseo ",
          " Paseo ",
          " Paseo ",
          " Paseo ",
          " Velo ",
          " Velo ",
          " Velo ",
          " VTT ",
          " VTT ",
          " VTT ",
          " VTT ",
          " VTT ",
          " VTT ",
          " Amarilla ",
          " Amarilla ",
          " Amarilla ",
          " Amarilla ",
          " Carretera ",
          " Montana ",
          " Paseo ",
          " VTT ",
          " VTT ",
          " Amarilla ",
          " Carretera ",
          " VTT ",
          " Carretera ",
          " Carretera ",
          " Carretera ",
          " Montana ",
          " Montana ",
          " Montana ",
          " Montana ",
          " Montana ",
          " Paseo ",
          " Paseo ",
          " Paseo ",
          " Paseo ",
          " Paseo ",
          " Paseo ",
          " Paseo ",
          " Paseo ",
          " Paseo ",
          " Paseo ",
          " Paseo ",
          " Paseo ",
          " Velo ",
          " Velo ",
          " Velo ",
          " Velo ",
          " Velo ",
          " Velo ",
          " Velo ",
          " Velo ",
          " VTT ",
          " VTT ",
          " Amarilla ",
          " Amarilla ",
          " Amarilla ",
          " Amarilla ",
          " Carretera ",
          " Carretera ",
          " Carretera ",
          " Carretera ",
          " Montana ",
          " Montana ",
          " Paseo ",
          " Paseo ",
          " Paseo ",
          " Paseo ",
          " VTT ",
          " Amarilla ",
          " Amarilla ",
          " Carretera ",
          " Carretera ",
          " Carretera ",
          " Carretera ",
          " Carretera ",
          " Carretera ",
          " Carretera ",
          " Montana ",
          " Montana ",
          " Montana ",
          " Montana ",
          " Montana ",
          " Montana ",
          " Paseo ",
          " Paseo ",
          " Paseo ",
          " Paseo ",
          " Paseo ",
          " Paseo ",
          " Paseo ",
          " Paseo ",
          " Paseo ",
          " Velo ",
          " Velo ",
          " Velo ",
          " Velo ",
          " Velo ",
          " VTT ",
          " VTT ",
          " VTT ",
          " VTT ",
          " VTT ",
          " VTT ",
          " Amarilla ",
          " Amarilla ",
          " Amarilla ",
          " Amarilla ",
          " Amarilla ",
          " Amarilla ",
          " Amarilla ",
          " Amarilla ",
          " Carretera ",
          " Carretera ",
          " Carretera ",
          " Montana ",
          " Paseo ",
          " Paseo ",
          " Paseo ",
          " Paseo ",
          " Paseo ",
          " Paseo ",
          " Paseo ",
          " Paseo ",
          " Paseo ",
          " Paseo ",
          " Paseo ",
          " Paseo ",
          " Velo ",
          " Velo ",
          " Velo ",
          " Velo ",
          " Velo ",
          " Velo ",
          " VTT ",
          " VTT ",
          " VTT ",
          " VTT ",
          " VTT ",
          " VTT ",
          " VTT ",
          " Amarilla ",
          " Amarilla ",
          " Montana ",
          " Paseo ",
          " VTT "
         ],
         "marker": {
          "colors": [
           "rgb(102, 197, 204)",
           "rgb(246, 207, 113)",
           "rgb(248, 156, 116)",
           "rgb(220, 176, 242)",
           "rgb(135, 197, 95)",
           "rgb(158, 185, 243)",
           "rgb(254, 136, 177)",
           "rgb(201, 219, 116)",
           "rgb(139, 224, 164)",
           "rgb(180, 151, 231)",
           "rgb(179, 179, 179)"
          ],
          "line": {
           "color": "white",
           "width": 2
          }
         },
         "textfont": {
          "size": 16
         },
         "textinfo": "percent+label",
         "type": "pie",
         "values": {
          "bdata": "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",
          "dtype": "i4"
         }
        }
       ],
       "layout": {
        "height": 800,
        "showlegend": true,
        "template": {
         "data": {
          "bar": [
           {
            "error_x": {
             "color": "#2a3f5f"
            },
            "error_y": {
             "color": "#2a3f5f"
            },
            "marker": {
             "line": {
              "color": "white",
              "width": 0.5
             },
             "pattern": {
              "fillmode": "overlay",
              "size": 10,
              "solidity": 0.2
             }
            },
            "type": "bar"
           }
          ],
          "barpolar": [
           {
            "marker": {
             "line": {
              "color": "white",
              "width": 0.5
             },
             "pattern": {
              "fillmode": "overlay",
              "size": 10,
              "solidity": 0.2
             }
            },
            "type": "barpolar"
           }
          ],
          "carpet": [
           {
            "aaxis": {
             "endlinecolor": "#2a3f5f",
             "gridcolor": "#C8D4E3",
             "linecolor": "#C8D4E3",
             "minorgridcolor": "#C8D4E3",
             "startlinecolor": "#2a3f5f"
            },
            "baxis": {
             "endlinecolor": "#2a3f5f",
             "gridcolor": "#C8D4E3",
             "linecolor": "#C8D4E3",
             "minorgridcolor": "#C8D4E3",
             "startlinecolor": "#2a3f5f"
            },
            "type": "carpet"
           }
          ],
          "choropleth": [
           {
            "colorbar": {
             "outlinewidth": 0,
             "ticks": ""
            },
            "type": "choropleth"
           }
          ],
          "contour": [
           {
            "colorbar": {
             "outlinewidth": 0,
             "ticks": ""
            },
            "colorscale": [
             [
              0,
              "#0d0887"
             ],
             [
              0.1111111111111111,
              "#46039f"
             ],
             [
              0.2222222222222222,
              "#7201a8"
             ],
             [
              0.3333333333333333,
              "#9c179e"
             ],
             [
              0.4444444444444444,
              "#bd3786"
             ],
             [
              0.5555555555555556,
              "#d8576b"
             ],
             [
              0.6666666666666666,
              "#ed7953"
             ],
             [
              0.7777777777777778,
              "#fb9f3a"
             ],
             [
              0.8888888888888888,
              "#fdca26"
             ],
             [
              1,
              "#f0f921"
             ]
            ],
            "type": "contour"
           }
          ],
          "contourcarpet": [
           {
            "colorbar": {
             "outlinewidth": 0,
             "ticks": ""
            },
            "type": "contourcarpet"
           }
          ],
          "heatmap": [
           {
            "colorbar": {
             "outlinewidth": 0,
             "ticks": ""
            },
            "colorscale": [
             [
              0,
              "#0d0887"
             ],
             [
              0.1111111111111111,
              "#46039f"
             ],
             [
              0.2222222222222222,
              "#7201a8"
             ],
             [
              0.3333333333333333,
              "#9c179e"
             ],
             [
              0.4444444444444444,
              "#bd3786"
             ],
             [
              0.5555555555555556,
              "#d8576b"
             ],
             [
              0.6666666666666666,
              "#ed7953"
             ],
             [
              0.7777777777777778,
              "#fb9f3a"
             ],
             [
              0.8888888888888888,
              "#fdca26"
             ],
             [
              1,
              "#f0f921"
             ]
            ],
            "type": "heatmap"
           }
          ],
          "histogram": [
           {
            "marker": {
             "pattern": {
              "fillmode": "overlay",
              "size": 10,
              "solidity": 0.2
             }
            },
            "type": "histogram"
           }
          ],
          "histogram2d": [
           {
            "colorbar": {
             "outlinewidth": 0,
             "ticks": ""
            },
            "colorscale": [
             [
              0,
              "#0d0887"
             ],
             [
              0.1111111111111111,
              "#46039f"
             ],
             [
              0.2222222222222222,
              "#7201a8"
             ],
             [
              0.3333333333333333,
              "#9c179e"
             ],
             [
              0.4444444444444444,
              "#bd3786"
             ],
             [
              0.5555555555555556,
              "#d8576b"
             ],
             [
              0.6666666666666666,
              "#ed7953"
             ],
             [
              0.7777777777777778,
              "#fb9f3a"
             ],
             [
              0.8888888888888888,
              "#fdca26"
             ],
             [
              1,
              "#f0f921"
             ]
            ],
            "type": "histogram2d"
           }
          ],
          "histogram2dcontour": [
           {
            "colorbar": {
             "outlinewidth": 0,
             "ticks": ""
            },
            "colorscale": [
             [
              0,
              "#0d0887"
             ],
             [
              0.1111111111111111,
              "#46039f"
             ],
             [
              0.2222222222222222,
              "#7201a8"
             ],
             [
              0.3333333333333333,
              "#9c179e"
             ],
             [
              0.4444444444444444,
              "#bd3786"
             ],
             [
              0.5555555555555556,
              "#d8576b"
             ],
             [
              0.6666666666666666,
              "#ed7953"
             ],
             [
              0.7777777777777778,
              "#fb9f3a"
             ],
             [
              0.8888888888888888,
              "#fdca26"
             ],
             [
              1,
              "#f0f921"
             ]
            ],
            "type": "histogram2dcontour"
           }
          ],
          "mesh3d": [
           {
            "colorbar": {
             "outlinewidth": 0,
             "ticks": ""
            },
            "type": "mesh3d"
           }
          ],
          "parcoords": [
           {
            "line": {
             "colorbar": {
              "outlinewidth": 0,
              "ticks": ""
             }
            },
            "type": "parcoords"
           }
          ],
          "pie": [
           {
            "automargin": true,
            "type": "pie"
           }
          ],
          "scatter": [
           {
            "fillpattern": {
             "fillmode": "overlay",
             "size": 10,
             "solidity": 0.2
            },
            "type": "scatter"
           }
          ],
          "scatter3d": [
           {
            "line": {
             "colorbar": {
              "outlinewidth": 0,
              "ticks": ""
             }
            },
            "marker": {
             "colorbar": {
              "outlinewidth": 0,
              "ticks": ""
             }
            },
            "type": "scatter3d"
           }
          ],
          "scattercarpet": [
           {
            "marker": {
             "colorbar": {
              "outlinewidth": 0,
              "ticks": ""
             }
            },
            "type": "scattercarpet"
           }
          ],
          "scattergeo": [
           {
            "marker": {
             "colorbar": {
              "outlinewidth": 0,
              "ticks": ""
             }
            },
            "type": "scattergeo"
           }
          ],
          "scattergl": [
           {
            "marker": {
             "colorbar": {
              "outlinewidth": 0,
              "ticks": ""
             }
            },
            "type": "scattergl"
           }
          ],
          "scattermap": [
           {
            "marker": {
             "colorbar": {
              "outlinewidth": 0,
              "ticks": ""
             }
            },
            "type": "scattermap"
           }
          ],
          "scattermapbox": [
           {
            "marker": {
             "colorbar": {
              "outlinewidth": 0,
              "ticks": ""
             }
            },
            "type": "scattermapbox"
           }
          ],
          "scatterpolar": [
           {
            "marker": {
             "colorbar": {
              "outlinewidth": 0,
              "ticks": ""
             }
            },
            "type": "scatterpolar"
           }
          ],
          "scatterpolargl": [
           {
            "marker": {
             "colorbar": {
              "outlinewidth": 0,
              "ticks": ""
             }
            },
            "type": "scatterpolargl"
           }
          ],
          "scatterternary": [
           {
            "marker": {
             "colorbar": {
              "outlinewidth": 0,
              "ticks": ""
             }
            },
            "type": "scatterternary"
           }
          ],
          "surface": [
           {
            "colorbar": {
             "outlinewidth": 0,
             "ticks": ""
            },
            "colorscale": [
             [
              0,
              "#0d0887"
             ],
             [
              0.1111111111111111,
              "#46039f"
             ],
             [
              0.2222222222222222,
              "#7201a8"
             ],
             [
              0.3333333333333333,
              "#9c179e"
             ],
             [
              0.4444444444444444,
              "#bd3786"
             ],
             [
              0.5555555555555556,
              "#d8576b"
             ],
             [
              0.6666666666666666,
              "#ed7953"
             ],
             [
              0.7777777777777778,
              "#fb9f3a"
             ],
             [
              0.8888888888888888,
              "#fdca26"
             ],
             [
              1,
              "#f0f921"
             ]
            ],
            "type": "surface"
           }
          ],
          "table": [
           {
            "cells": {
             "fill": {
              "color": "#EBF0F8"
             },
             "line": {
              "color": "white"
             }
            },
            "header": {
             "fill": {
              "color": "#C8D4E3"
             },
             "line": {
              "color": "white"
             }
            },
            "type": "table"
           }
          ]
         },
         "layout": {
          "annotationdefaults": {
           "arrowcolor": "#2a3f5f",
           "arrowhead": 0,
           "arrowwidth": 1
          },
          "autotypenumbers": "strict",
          "coloraxis": {
           "colorbar": {
            "outlinewidth": 0,
            "ticks": ""
           }
          },
          "colorscale": {
           "diverging": [
            [
             0,
             "#8e0152"
            ],
            [
             0.1,
             "#c51b7d"
            ],
            [
             0.2,
             "#de77ae"
            ],
            [
             0.3,
             "#f1b6da"
            ],
            [
             0.4,
             "#fde0ef"
            ],
            [
             0.5,
             "#f7f7f7"
            ],
            [
             0.6,
             "#e6f5d0"
            ],
            [
             0.7,
             "#b8e186"
            ],
            [
             0.8,
             "#7fbc41"
            ],
            [
             0.9,
             "#4d9221"
            ],
            [
             1,
             "#276419"
            ]
           ],
           "sequential": [
            [
             0,
             "#0d0887"
            ],
            [
             0.1111111111111111,
             "#46039f"
            ],
            [
             0.2222222222222222,
             "#7201a8"
            ],
            [
             0.3333333333333333,
             "#9c179e"
            ],
            [
             0.4444444444444444,
             "#bd3786"
            ],
            [
             0.5555555555555556,
             "#d8576b"
            ],
            [
             0.6666666666666666,
             "#ed7953"
            ],
            [
             0.7777777777777778,
             "#fb9f3a"
            ],
            [
             0.8888888888888888,
             "#fdca26"
            ],
            [
             1,
             "#f0f921"
            ]
           ],
           "sequentialminus": [
            [
             0,
             "#0d0887"
            ],
            [
             0.1111111111111111,
             "#46039f"
            ],
            [
             0.2222222222222222,
             "#7201a8"
            ],
            [
             0.3333333333333333,
             "#9c179e"
            ],
            [
             0.4444444444444444,
             "#bd3786"
            ],
            [
             0.5555555555555556,
             "#d8576b"
            ],
            [
             0.6666666666666666,
             "#ed7953"
            ],
            [
             0.7777777777777778,
             "#fb9f3a"
            ],
            [
             0.8888888888888888,
             "#fdca26"
            ],
            [
             1,
             "#f0f921"
            ]
           ]
          },
          "colorway": [
           "#636efa",
           "#EF553B",
           "#00cc96",
           "#ab63fa",
           "#FFA15A",
           "#19d3f3",
           "#FF6692",
           "#B6E880",
           "#FF97FF",
           "#FECB52"
          ],
          "font": {
           "color": "#2a3f5f"
          },
          "geo": {
           "bgcolor": "white",
           "lakecolor": "white",
           "landcolor": "white",
           "showlakes": true,
           "showland": true,
           "subunitcolor": "#C8D4E3"
          },
          "hoverlabel": {
           "align": "left"
          },
          "hovermode": "closest",
          "mapbox": {
           "style": "light"
          },
          "paper_bgcolor": "white",
          "plot_bgcolor": "white",
          "polar": {
           "angularaxis": {
            "gridcolor": "#EBF0F8",
            "linecolor": "#EBF0F8",
            "ticks": ""
           },
           "bgcolor": "white",
           "radialaxis": {
            "gridcolor": "#EBF0F8",
            "linecolor": "#EBF0F8",
            "ticks": ""
           }
          },
          "scene": {
           "xaxis": {
            "backgroundcolor": "white",
            "gridcolor": "#DFE8F3",
            "gridwidth": 2,
            "linecolor": "#EBF0F8",
            "showbackground": true,
            "ticks": "",
            "zerolinecolor": "#EBF0F8"
           },
           "yaxis": {
            "backgroundcolor": "white",
            "gridcolor": "#DFE8F3",
            "gridwidth": 2,
            "linecolor": "#EBF0F8",
            "showbackground": true,
            "ticks": "",
            "zerolinecolor": "#EBF0F8"
           },
           "zaxis": {
            "backgroundcolor": "white",
            "gridcolor": "#DFE8F3",
            "gridwidth": 2,
            "linecolor": "#EBF0F8",
            "showbackground": true,
            "ticks": "",
            "zerolinecolor": "#EBF0F8"
           }
          },
          "shapedefaults": {
           "line": {
            "color": "#2a3f5f"
           }
          },
          "ternary": {
           "aaxis": {
            "gridcolor": "#DFE8F3",
            "linecolor": "#A2B1C6",
            "ticks": ""
           },
           "baxis": {
            "gridcolor": "#DFE8F3",
            "linecolor": "#A2B1C6",
            "ticks": ""
           },
           "bgcolor": "white",
           "caxis": {
            "gridcolor": "#DFE8F3",
            "linecolor": "#A2B1C6",
            "ticks": ""
           }
          },
          "title": {
           "x": 0.05
          },
          "xaxis": {
           "automargin": true,
           "gridcolor": "#EBF0F8",
           "linecolor": "#EBF0F8",
           "ticks": "",
           "title": {
            "standoff": 15
           },
           "zerolinecolor": "#EBF0F8",
           "zerolinewidth": 2
          },
          "yaxis": {
           "automargin": true,
           "gridcolor": "#EBF0F8",
           "linecolor": "#EBF0F8",
           "ticks": "",
           "title": {
            "standoff": 15
           },
           "zerolinecolor": "#EBF0F8",
           "zerolinewidth": 2
          }
         }
        },
        "title": {
         "font": {
          "size": 20
         },
         "text": "Top-Selling Products",
         "x": 0.5
        },
        "width": 1000
       }
      }

     },
     "metadata": {},
     "output_type": "display_data"
    }
   ],
   "source": [
    "fig = go.Figure(data=[go.Pie(\n",
    "    labels=df['Product'],\n",
    "    values=df['Sales'],\n",
    "    hoverinfo='label+percent',\n",
    "    textinfo='percent+label',\n",
    "    textfont_size=16,\n",
    "    marker=dict(colors=px.colors.qualitative.Pastel, line=dict(color='white', width=2))\n",
    ")])\n",
    "\n",
    "fig.update_layout(\n",
    "    title=dict(\n",
    "        text=\"Top-Selling Products\",\n",
    "        font=dict(size=20),\n",
    "        x=0.5\n",
    "    ),\n",
    "    template='plotly_white',\n",
    "    showlegend=True,\n",
    "    width=1000,\n",
    "    height=800\n",
    ")\n",
    "\n",
    "fig.show()"
   ]
  },
  {
   "cell_type": "markdown",
   "metadata": {},
   "source": [
    "relationship between discounts and sales or profits using a scatter plot or by creating a linear model regression"
   ]
  },
  {
   "cell_type": "code",

   "execution_count": 826,

   "metadata": {},
   "outputs": [
    {
     "data": {

      "application/vnd.plotly.v1+json": {
       "config": {
        "plotlyServerURL": "https://plot.ly"
       },
       "data": [
        {
         "hovertemplate": "Country=Canada<br>Discounts=%{x}<br>Sales=%{y}<extra></extra>",
         "legendgroup": "Canada",
         "marker": {
          "color": "#636efa",
          "symbol": "circle"
         },
         "mode": "markers",
         "name": "Canada",
         "orientation": "v",
         "showlegend": true,
         "type": "scatter",
         "x": {
          "bdata": "AAAAAAAAAAAAAAAAAAAAAAAAAAAAAAAAAAAAAAAAAAAAAAAAAAAAAAAAAAAAAAAAXAAAAK0AAACAAAAAgQQAAJIAAADmDAAAQAcAADYBAAD8TQAAxAIAADYBAADoLAAA/E0AAKYaAACmGgAA6CwAAEYBAAD8GQAAbR0AAG0dAADiQQAA8gEAAAYJAAAeAwAAnAQAAB4DAACmBAAAggAAAHsGAABECAAAPGEAADYDAACyBQAAsgUAAPJTAABtBQAACgcAAG0FAAC8JQAA8lMAAP8JAAB3BgAAdwYAAOQbAAD/CQAASKsAAC4GAAAtBQAALAIAAAcDAAAHAwAALAIAAJ6LAAAscwAApQoAADk4AAAdBgAAEQEAAI8AAABsBAAASHgAAD4CAAAQyAAAbAQAAGJzAAALkQEAygkAAPYDAABicwAAGJABAOoYAAAlnAAAJZwAAAMCAACZCAAAjl0AAHx7AABAMgEAgBAAAKlgAAB5AgAA/AkAAA4KAACJcAAAfzwBAMIUAACSFAAAFrAAAHAFAAA5GQAAkI0AAOgSAAD4CAAA3AsAADZmAAD4CAAAhw8AAAykAACvDAAAzNMBAHtkAADrCwAArwwAAMzTAQB7ZAAA6wsAAE5pAACOGgAAcPUAAN4SAABbqgEASCYAAHwBAADeEgAAQxQAAEwOAAD8hQAAlA4AACIsAAAiLAAAcPUAALCRAABMDgAALw4AAH0WAAAkCgAAW9gAAPcCAAA=",
          "dtype": "i4"
         },
         "xaxis": "x",
         "y": {
          "bdata": "cn4AAAh2AACDFQUAdagAANAWAAAIdgAAZjYJABh+AAD0jQAAdagAAOwoCQD0jQAA5SMAAA5DAACJMQAALb4BAKE4AAAK/QQATGMBAH07AAA87Q4AsIcAAH07AABomAgAPO0OAN4ZBQDeGQUAaJgIAEkpAAA5SAMAh7cDAIe3AwA2UggA+T4AAMsjAQDWSgAApG4AANZKAACWbwAAQwwAAIybAABzxgAAoB0JAAQ9AABBbAAAQWwAAPY6BgAXZwAAvoUAABdnAAD0zAIA9joGAKScAABMZQAATGUAAPS0AQCknAAAaHsKACFSAADERAAA3BwAADooAAA6KAAA3BwAAOo+BwAk+gUAcI0AAP/qAgA6UQAARgwAAHcGAADjMgAAPGcFAMkZAAC4/AgA4zIAAKaOBAAC1w8AAWMAABYoAACmjgQAac0PAPD7AADQKgYA0CoGAGEUAADwVgAA/kkDAGBXBABAxAoAhZQAAPFlAwAGFAAAz1AAAFpRAACDjgMAvwAKAPWnAAB1pgAAspAFAP8rAAATzAAAIA4EAKaKAADJQQAA/1YAAIztAgDJQQAA5HEAAN1JBADkVAAApDoMAHegAgDHTwAA5FQAAKQ6DAB3oAIAx08AAMDAAgAhowAAsOMFAOZzAAANOwoAKOsAAB8JAADmcwAAd3wAANRXAAAMNwMAk1kAABoPAQAaDwEAsOMFAPB+AwDUVwAAYlAAAHN/AAB5OQAABsoEAM0QAAA=",
          "dtype": "i4"
         },
         "yaxis": "y"
        },
        {
         "hovertemplate": "Country=Germany<br>Discounts=%{x}<br>Sales=%{y}<extra></extra>",
         "legendgroup": "Germany",
         "marker": {
          "color": "#EF553B",
          "symbol": "circle"
         },
         "mode": "markers",
         "name": "Germany",
         "orientation": "v",
         "showlegend": true,
         "type": "scatter",
         "x": {
          "bdata": "AAAAAAAAAAAAAAAAAAAAAAAAAAAAAAAAAAAAAAAAAAAAAAAAAAAAAAAAAAAAAAAAAAAAAAAAAAAAAAAAAAAAAFsAAABwAAAAWwAAABIAAACOCwAABAUAAIAoAADmBwAAGlEAAKtOAADmBwAABAUAAKtOAAASBgAAOhYAABpRAAAMBgAAORgAAJsBAAC0SQAA/RgAADkYAAD/FgAAawMAAP0YAAD/FgAAawMAAHwDAAC8XgAAJFcAALxeAABOQgAASmgAAJUBAADgAQAAlQEAAJ0CAABjAQAAfQUAADMGAACzEwAAPkkAAPkIAABJXAAAPkkAAPwZAADEdwAAYQUAACAGAACxBAAARAcAAHNVAAASeAAAH1wAABEEAABVRwAANwMAAPkhAAAIBAAAVQMAAMECAABlAgAAiQgAAH4DAABFBQAAFgwAALjqAAAdBQAAHQUAACguAACJCAAAgAkAAFUDAAA6IwAAfQcAANKgAABxGAEAtgMAAB0FAACpBAAAqgYAAOIAAADiAAAA4gEAAP0DAAD9AgAA4gEAAEkHAACq/wAAEAwAAG8CAABvAgAAHHcAAFtqAQAzcwAAthkAALYZAAD+qQAAHL8AAFoOAABaDgAAfQQAAPF6AACAGwAAcz8AACwGAAAHBQAALAYAAMkKAAASAQAARwIAABIBAABpDAAAf+UAABCgAQCpygAAd08AAJINAAB3TwAAUwoAAFMEAABTCgAAbigAAA==",
          "dtype": "i4"
         },
         "xaxis": "x",
         "y": {
          "bdata": "NGcAAAg0AACOFAgA9zUAAGxIAACuOgAAZF8FADQRAACOFAgATGUAAGRfBQBsSAAACIUAAAg0AABNDAgAGi4AAIwjAABUKwAAjCMAAB4HAADqdwQAxPUAAIDABwAegwEA+oUPALsODwAegwEAxPUAALsODwByKQEAGkEEAPqFDwCEwwAAMw8DAO4zAAAhTwkABCgDADMPAwCa5wIAi24AAAQoAwCa5wIAi24AALdwAACg4QgAYCsIAKDhCABQNwYA8MYJABseAACjIwAAGx4AALIxAABkGgAASmgAAMl1AABXdgEAmm8FAHuqAABr2QYAmm8FAB6XAQBUVAcARVQAAABgAACCSQAAj2AAAEFvBABCOwYA5ccEAAk2AAC1swMAuCoAAGDDAQBcLgAAUyYAAKsfAACLGwAALmIAADMoAACZPAAAAYsAAESLCgDQOgAA0DoAAMwSAgAuYgAAQG0AAFMmAAAuZAEAt0sAABdaBgCTEwsAiSUAALgzAAAiLwAAZUMAAPUIAAD1CAAA8hAAAOkjAADlGgAA8hAAAJVBAAD6/AgAl2wAALATAACwEwAAtMMDAMlzCwARpAMACdAAAAnQAABqXwUAeHkFAEFpAABBaQAACh4AAMM2AwAPuAAAoqgBAE8pAAClIQAATykAAC5IAACVBgAAAg4AAJUGAAA9TAAAw4EFAND7CQBpfAQAUcIBAOZMAABRwgEAhToAAIEYAACFOgAAGuUAAA==",
          "dtype": "i4"
         },
         "yaxis": "y"
        },
        {
         "hovertemplate": "Country=France<br>Discounts=%{x}<br>Sales=%{y}<extra></extra>",
         "legendgroup": "France",
         "marker": {
          "color": "#00cc96",
          "symbol": "circle"
         },
         "mode": "markers",
         "name": "France",
         "orientation": "v",
         "showlegend": true,
         "type": "scatter",
         "x": {
          "bdata": "AAAAAAAAAAAAAAAAAAAAAAAAAAAAAAAAAAAAAAAAAAAAAAAAFAEAAFgBAABIAAAALAAAAEABAAB2HQAAEwEAANcDAAB2HQAABAMAANcDAACECAAAMAAAACwBAACEFQAArAEAAP0AAAD9AAAAeAEAACk+AACsAgAAcgAAANoSAACWVQAArAIAANoSAABMBQAADncAAJ8BAAAOdwAAXwQAABsGAABmAwAApF4AABcFAAA6OgAArQcAADARAADrAgAAKwYAADARAAAJBAAAZgMAAFwNAABNAgAAuHoAALh6AADaVQAATKoAANpVAAA6OgAATQIAAEyqAAA8CAAAPAgAAK8HAAD5AQAAtAUAAMAkAADpsgAAzgoAAOmyAADAJAAAnggAAGUIAAAXiAAAzgoAAKtOAAA+EwEATAIAALkLAABwkgAAMCQAANY+AACsKQAA/8wAAPYhAACbUQAAeAYAAKSLAABsCQAAeAYAAEwIAADbEgAASgEAAF1IAAAkDAAARA8AALIMAABdVwAA9mMAALIMAAAkDAAA9mMAAC0GAACdBwAALQYAABuDAACBDAAAG4MAABsYAADwCAAA90wAAFT5AADIpgAAhAUBAD4bAAA6CwAAoxcAAOQEAAAlPgEAlQkAAHMeAAA6BAAAOgQAAB8BAAAkCQAAJAkAAO5FAACgBgAA4m8BADH1AAA+EAAAoAYAAPxVAABvAwAA1hgAAI8wAABvAwAAD7MBAA==",
          "dtype": "i4"
         },
         "xaxis": "x",
         "y": {
          "bdata": "nn8AAFyUAAArIAAA3HADAJ5/AACyJwgAtNgJAMSvDgBclAAAymoAAC+FAADhGwAATBEAAPN7AADTZAsAYmoAAG98AQDTZAsA2yoBAG98AQAMSwMAnhIAAHo5AABEHgQA/1EAAHYwAAB2MAAAC0gAANzZBwBvVgAAbQ4AAJBhAgBXzwoAb1YAAJBhAgAufwAAUCkLAPgmAABQKQsADVMAAAF0AACaQAAAOgYHALVgAABSUgQA15EAAJBGAQB8NwAAMXUAAJBGAQCrTAAAmkAAAFrRAAAPJAAAmIIHAJiCBwACQQUA/GsKAAJBBQA7kAMADyQAAPxrCgAHgQAAB4EAABhmAAA3GgAAyUsAAEDoAQDzSAkAkY8AAPNICQBA6AEAfHIAAIdvAAANEAcAkY8AACkVBADKSA4AahoAANGGAAAIlAYAKKABAJ3SAgA63wEAvRgIAGJXAQAhOQMAbEEAAOyDBQBLXwAAbEEAAOdTAACsvgAADQ0AAEWLAgBEbQAAZIkAAEZyAABFEgMApoMDAEZyAABEbQAApoMDAPoxAACePQAA+jEAAMkkBAAwZQAAySQEAAnDAABXSAAAvW4CAGgkBwAQxwQAyH0HAMfHAABUUgAAWq0AAOAjAAAfUQgAIkAAAMfLAABPHAAATxwAAOMGAAAnOAAAJzgAAJStAQC0KAAA2tMIAC3iBQDGYwAAtCgAAEHnAQB1EwAAv4wAACsTAQB1EwAAVaEJAA==",
          "dtype": "i4"
         },
         "yaxis": "y"
        },
        {
         "hovertemplate": "Country=Mexico<br>Discounts=%{x}<br>Sales=%{y}<extra></extra>",
         "legendgroup": "Mexico",
         "marker": {
          "color": "#ab63fa",
          "symbol": "circle"
         },
         "mode": "markers",
         "name": "Mexico",
         "orientation": "v",
         "showlegend": true,
         "type": "scatter",
         "x": {
          "bdata": "AAAAAAAAAAAAAAAAAAAAAAAAAAAAAAAAAAAAAAAAAACLEAAAygUAABkTAABMAQAA5ggAABkAAADKBQAAGRMAAKUAAAA2EAAAdwYAAPIUAAAEAQAA8hQAANkAAAAEAQAAdwYAAAw1AADOGQAAsQIAAFlDAABxAQAAwgQAAMIEAACMAwAAjAMAAP5lAACtAwAArQMAAE0CAAChAgAALQgAADgxAAB0QAAAKV4AAGEIAACUAQAAZFAAAHUCAAB1AgAAQwUAALuJAAAvAgAAYgIAAAcKAACtBwAAEAkAAFQDAABX4QAAKDwAAPiUAACEKwAAoOYAALQSAABBBAAA+JQAAIg7AACg5gAAKAUAAIg7AACMAQAAhw4BAGcpAQCMAQAASgEAALlcAACKJgAA6QsAAEgBAABMBwAA2w0AAEgBAABMBwAAQkUAAKYQAADBAwAAoDIAAO4PAAAuBQAAIwgAAOcNAACkCQAAyQwAADgEAAC8MwAAwR0AAJcWAADdMgAAvDMAAOcNAABckQAAVH4AAPAHAAAUEAAAXJEAAFR+AAB8CAAAFBAAAFguAQBixAAArAIAAI8LAADe5AAAfAgAAI8LAAD3DgAArgMAAOcWAAB6AwAArgMAAH8CAADbjAEAfwIAADUcAABqgwAA18AAAJwGAADYAgAAqmsAABwLAACcBgAAVw8AAPpfAABlCgAArUgCAB+5AQCEAwAA+l8AAJwFAAA=",
          "dtype": "i4"
         },
         "xaxis": "x",
         "y": {
          "bdata": "upAAALqQAACoYgQAEjkAACUYAABwmwMA2JAAANMoAADBZQYAHj0CANxiBwBtgAAAPHEDAMwJAAAePQIA3GIHALIfAABWGgMAxzwBAGoCBADLMQAAagIEAKYpAADLMQAAxzwBAEwnCgBu8AQAHlcAAJOBCACuLgAAPnIAAD5yAAApVQAAKVUAANCPCQDZRQAA2UUAALcrAAACMgAAW5sAACinAwCcyAQAC/0GAEGfAADDGAAAdOsEAIAmAACAJgAAeFIAAMdtCABDIgAAsR8AAECFAAACZgAAc3gAAD8sAADNsQsAzLMCACSxBgBu9AEAMFwKAB/XAAD0MAAAJLEGAJysAgAwXAoATDsAAJysAgCnDwAAVa8KABa/CwCnDwAAEA0AAIypAwCuhQEAbngAAPYMAADLSQAAIIwAAPYMAADLSQAAUm8CANqVAADNIQAAoMcBAF6PAADtKQAA2kEAAHtwAAADTgAAdmcAACgiAACUogEAwPAAAMy2AACJmwEAlKIBAHtwAAD4KQQAaJ4DADs6AADodQAA+CkEAGieAwA4PgAA6HUAADCpCAAkoAUAmBMAAMRUAABcjgYAOD4AAMRUAADEbQAAoRgAAEWZAABJFwAAoRgAALgQAADhXwoAuBAAAEatAABCJwMAmaAEAJwoAAB4EQAAYJUCAEREAACcKAAAO14AAN4fAgDrOgAALPEMALLDCQDsEwAA3h8CAMsfAAA=",
          "dtype": "i4"
         },
         "yaxis": "y"
        },
        {
         "hovertemplate": "Country=United States of America<br>Discounts=%{x}<br>Sales=%{y}<extra></extra>",
         "legendgroup": "United States of America",
         "marker": {
          "color": "#FFA15A",
          "symbol": "circle"
         },
         "mode": "markers",
         "name": "United States of America",
         "orientation": "v",
         "showlegend": true,
         "type": "scatter",
         "x": {
          "bdata": "AAAAAAAAAAAAAAAAAAAAAAAAAAAAAAAAAAAAAAAAAADeAAAAsQAAAJwBAAD3GgAARh0AADwDAADjAAAAOgEAAIwDAAALIgAAPAMAAIwDAADuAAAAEgEAAHICAAASAQAAQQIAABkBAAByAgAARgcAAO4BAAC8AgAA7QEAAPxjAABMAgAA/A4AAMiIAACsvAAATAMAAJIBAAD8DgAAvwIAABYTAACSAQAAEToAAMcAAACMWAAADEkAAC4DAAAROgAAJykAAAUVAABnCgAAoAEAACcpAAAQCwAABRUAAPEEAABnCgAAxwAAAD0FAAAjBwAAbgAAAKgHAACjOwAAtlAAAKM7AAC6BwAADQQAAA0EAAAMAQAAiKgAAAUMAADFBwAAjHAAAIxwAAADCAAAAwgAAHsBAABbBgAAwEsAAFsGAAC6AgAA6noAAGETAADqegAAQAgAAEymAADpxAAA1P4AANcGAADPAQAAXQYAAM8BAAA8qAAAOzwBABZYAAChBAAA7k0AANQMAQDFfwEA1AwBAEUcAAC+XgEAvwQAAJ8UAAAkAQAAwgQAAHzrAQDEoQAAxKEAAN2LAABMLAAA6hEAAI0TAACNEwAAn64AAJ0EAAAdBQAA0hoAABATAAB4CwAAeAsAAH4OAAA5DQAAtKUAAB8TAABJ4QAAoAYAAJiTAQDioAEAtKUAAGrCAAAfEwAAIQMAAJebAQBtBgAAdsQBAJCyAABtBgAAIQMAALIMAAA=",
          "dtype": "i4"
         },
         "xaxis": "x",
         "y": {
          "bdata": "CSQAAEEfAADAKgAAcWEFAIxbAABcZAAAQR8AAAkkAAA5VgAAdUQAAIWfAACFbQoAElILAH5AAQDSVwAAnXkAAG5fAQBBKg0AfkABAG5fAQBNXAAAdTQAAOV3AAB1NAAAiW4AAPE1AADldwAAZmQBAKFeAACHWAAARD4AANSgDAAzNwAAoGcBAMDSDAAgsBEAM08AAL4lAACgZwEA7EEAABDKAQC+JQAAQ08EAM4OAABykgYA5GsFAHI8AABDTwQA5Q0DAGOPAQClxQAA5B4AAOUNAwAw0gAAY48BAONdAAClxQAAzg4AABFSAADPbwAAwgYAAPt3AABPpgMAgPAEAE+mAwAPeQAAgT8AAIE/AADoDQAAFb8IALefAAA+ZwAARNcFAETXBQAkXAAAJFwAAA4RAAAhSQAAIGcDACFJAABfHwAAztoEAPPDAADO2gQAb1MAAHSRBgD7xgcAnRAKACxFAABIEAAASjkAAEgQAAAi6gUAEx4LAMYYAwCpKQAAXr0CAHRzCQDtfQ0AdHMJAHH+AACuVAwAbSYAANmmAAA/CQAA6CIAADgUDgBIogQASKIEAKoBBADYRAEAYYMAANuCAADbggAAo5AEAOAeAAA4IgAAgbMAABt1AABzRgAAc0YAAApZAAA6UQAA5PkDAHh1AADlZwUAtygAADivCQDaAAoA5PkDAEKqBAB4dQAAuxEAAFocCQBqJAAA8gMKAN3zAwBqJAAAuxEAAPVHAAA=",
          "dtype": "i4"
         },
         "yaxis": "y"
        }
       ],
       "layout": {
        "height": 600,
        "legend": {
         "font": {
          "size": 12
         },
         "title": {
          "font": {
           "size": 14
          },
          "text": "Country"
         },
         "tracegroupgap": 0
        },
        "template": {
         "data": {
          "bar": [
           {
            "error_x": {
             "color": "#2a3f5f"
            },
            "error_y": {
             "color": "#2a3f5f"
            },
            "marker": {
             "line": {
              "color": "white",
              "width": 0.5
             },
             "pattern": {
              "fillmode": "overlay",
              "size": 10,
              "solidity": 0.2
             }
            },
            "type": "bar"
           }
          ],
          "barpolar": [
           {
            "marker": {
             "line": {
              "color": "white",
              "width": 0.5
             },
             "pattern": {
              "fillmode": "overlay",
              "size": 10,
              "solidity": 0.2
             }
            },
            "type": "barpolar"
           }
          ],
          "carpet": [
           {
            "aaxis": {
             "endlinecolor": "#2a3f5f",
             "gridcolor": "#C8D4E3",
             "linecolor": "#C8D4E3",
             "minorgridcolor": "#C8D4E3",
             "startlinecolor": "#2a3f5f"
            },
            "baxis": {
             "endlinecolor": "#2a3f5f",
             "gridcolor": "#C8D4E3",
             "linecolor": "#C8D4E3",
             "minorgridcolor": "#C8D4E3",
             "startlinecolor": "#2a3f5f"
            },
            "type": "carpet"
           }
          ],
          "choropleth": [
           {
            "colorbar": {
             "outlinewidth": 0,
             "ticks": ""
            },
            "type": "choropleth"
           }
          ],
          "contour": [
           {
            "colorbar": {
             "outlinewidth": 0,
             "ticks": ""
            },
            "colorscale": [
             [
              0,
              "#0d0887"
             ],
             [
              0.1111111111111111,
              "#46039f"
             ],
             [
              0.2222222222222222,
              "#7201a8"
             ],
             [
              0.3333333333333333,
              "#9c179e"
             ],
             [
              0.4444444444444444,
              "#bd3786"
             ],
             [
              0.5555555555555556,
              "#d8576b"
             ],
             [
              0.6666666666666666,
              "#ed7953"
             ],
             [
              0.7777777777777778,
              "#fb9f3a"
             ],
             [
              0.8888888888888888,
              "#fdca26"
             ],
             [
              1,
              "#f0f921"
             ]
            ],
            "type": "contour"
           }
          ],
          "contourcarpet": [
           {
            "colorbar": {
             "outlinewidth": 0,
             "ticks": ""
            },
            "type": "contourcarpet"
           }
          ],
          "heatmap": [
           {
            "colorbar": {
             "outlinewidth": 0,
             "ticks": ""
            },
            "colorscale": [
             [
              0,
              "#0d0887"
             ],
             [
              0.1111111111111111,
              "#46039f"
             ],
             [
              0.2222222222222222,
              "#7201a8"
             ],
             [
              0.3333333333333333,
              "#9c179e"
             ],
             [
              0.4444444444444444,
              "#bd3786"
             ],
             [
              0.5555555555555556,
              "#d8576b"
             ],
             [
              0.6666666666666666,
              "#ed7953"
             ],
             [
              0.7777777777777778,
              "#fb9f3a"
             ],
             [
              0.8888888888888888,
              "#fdca26"
             ],
             [
              1,
              "#f0f921"
             ]
            ],
            "type": "heatmap"
           }
          ],
          "histogram": [
           {
            "marker": {
             "pattern": {
              "fillmode": "overlay",
              "size": 10,
              "solidity": 0.2
             }
            },
            "type": "histogram"
           }
          ],
          "histogram2d": [
           {
            "colorbar": {
             "outlinewidth": 0,
             "ticks": ""
            },
            "colorscale": [
             [
              0,
              "#0d0887"
             ],
             [
              0.1111111111111111,
              "#46039f"
             ],
             [
              0.2222222222222222,
              "#7201a8"
             ],
             [
              0.3333333333333333,
              "#9c179e"
             ],
             [
              0.4444444444444444,
              "#bd3786"
             ],
             [
              0.5555555555555556,
              "#d8576b"
             ],
             [
              0.6666666666666666,
              "#ed7953"
             ],
             [
              0.7777777777777778,
              "#fb9f3a"
             ],
             [
              0.8888888888888888,
              "#fdca26"
             ],
             [
              1,
              "#f0f921"
             ]
            ],
            "type": "histogram2d"
           }
          ],
          "histogram2dcontour": [
           {
            "colorbar": {
             "outlinewidth": 0,
             "ticks": ""
            },
            "colorscale": [
             [
              0,
              "#0d0887"
             ],
             [
              0.1111111111111111,
              "#46039f"
             ],
             [
              0.2222222222222222,
              "#7201a8"
             ],
             [
              0.3333333333333333,
              "#9c179e"
             ],
             [
              0.4444444444444444,
              "#bd3786"
             ],
             [
              0.5555555555555556,
              "#d8576b"
             ],
             [
              0.6666666666666666,
              "#ed7953"
             ],
             [
              0.7777777777777778,
              "#fb9f3a"
             ],
             [
              0.8888888888888888,
              "#fdca26"
             ],
             [
              1,
              "#f0f921"
             ]
            ],
            "type": "histogram2dcontour"
           }
          ],
          "mesh3d": [
           {
            "colorbar": {
             "outlinewidth": 0,
             "ticks": ""
            },
            "type": "mesh3d"
           }
          ],
          "parcoords": [
           {
            "line": {
             "colorbar": {
              "outlinewidth": 0,
              "ticks": ""
             }
            },
            "type": "parcoords"
           }
          ],
          "pie": [
           {
            "automargin": true,
            "type": "pie"
           }
          ],
          "scatter": [
           {
            "fillpattern": {
             "fillmode": "overlay",
             "size": 10,
             "solidity": 0.2
            },
            "type": "scatter"
           }
          ],
          "scatter3d": [
           {
            "line": {
             "colorbar": {
              "outlinewidth": 0,
              "ticks": ""
             }
            },
            "marker": {
             "colorbar": {
              "outlinewidth": 0,
              "ticks": ""
             }
            },
            "type": "scatter3d"
           }
          ],
          "scattercarpet": [
           {
            "marker": {
             "colorbar": {
              "outlinewidth": 0,
              "ticks": ""
             }
            },
            "type": "scattercarpet"
           }
          ],
          "scattergeo": [
           {
            "marker": {
             "colorbar": {
              "outlinewidth": 0,
              "ticks": ""
             }
            },
            "type": "scattergeo"
           }
          ],
          "scattergl": [
           {
            "marker": {
             "colorbar": {
              "outlinewidth": 0,
              "ticks": ""
             }
            },
            "type": "scattergl"
           }
          ],
          "scattermap": [
           {
            "marker": {
             "colorbar": {
              "outlinewidth": 0,
              "ticks": ""
             }
            },
            "type": "scattermap"
           }
          ],
          "scattermapbox": [
           {
            "marker": {
             "colorbar": {
              "outlinewidth": 0,
              "ticks": ""
             }
            },
            "type": "scattermapbox"
           }
          ],
          "scatterpolar": [
           {
            "marker": {
             "colorbar": {
              "outlinewidth": 0,
              "ticks": ""
             }
            },
            "type": "scatterpolar"
           }
          ],
          "scatterpolargl": [
           {
            "marker": {
             "colorbar": {
              "outlinewidth": 0,
              "ticks": ""
             }
            },
            "type": "scatterpolargl"
           }
          ],
          "scatterternary": [
           {
            "marker": {
             "colorbar": {
              "outlinewidth": 0,
              "ticks": ""
             }
            },
            "type": "scatterternary"
           }
          ],
          "surface": [
           {
            "colorbar": {
             "outlinewidth": 0,
             "ticks": ""
            },
            "colorscale": [
             [
              0,
              "#0d0887"
             ],
             [
              0.1111111111111111,
              "#46039f"
             ],
             [
              0.2222222222222222,
              "#7201a8"
             ],
             [
              0.3333333333333333,
              "#9c179e"
             ],
             [
              0.4444444444444444,
              "#bd3786"
             ],
             [
              0.5555555555555556,
              "#d8576b"
             ],
             [
              0.6666666666666666,
              "#ed7953"
             ],
             [
              0.7777777777777778,
              "#fb9f3a"
             ],
             [
              0.8888888888888888,
              "#fdca26"
             ],
             [
              1,
              "#f0f921"
             ]
            ],
            "type": "surface"
           }
          ],
          "table": [
           {
            "cells": {
             "fill": {
              "color": "#EBF0F8"
             },
             "line": {
              "color": "white"
             }
            },
            "header": {
             "fill": {
              "color": "#C8D4E3"
             },
             "line": {
              "color": "white"
             }
            },
            "type": "table"
           }
          ]
         },
         "layout": {
          "annotationdefaults": {
           "arrowcolor": "#2a3f5f",
           "arrowhead": 0,
           "arrowwidth": 1
          },
          "autotypenumbers": "strict",
          "coloraxis": {
           "colorbar": {
            "outlinewidth": 0,
            "ticks": ""
           }
          },
          "colorscale": {
           "diverging": [
            [
             0,
             "#8e0152"
            ],
            [
             0.1,
             "#c51b7d"
            ],
            [
             0.2,
             "#de77ae"
            ],
            [
             0.3,
             "#f1b6da"
            ],
            [
             0.4,
             "#fde0ef"
            ],
            [
             0.5,
             "#f7f7f7"
            ],
            [
             0.6,
             "#e6f5d0"
            ],
            [
             0.7,
             "#b8e186"
            ],
            [
             0.8,
             "#7fbc41"
            ],
            [
             0.9,
             "#4d9221"
            ],
            [
             1,
             "#276419"
            ]
           ],
           "sequential": [
            [
             0,
             "#0d0887"
            ],
            [
             0.1111111111111111,
             "#46039f"
            ],
            [
             0.2222222222222222,
             "#7201a8"
            ],
            [
             0.3333333333333333,
             "#9c179e"
            ],
            [
             0.4444444444444444,
             "#bd3786"
            ],
            [
             0.5555555555555556,
             "#d8576b"
            ],
            [
             0.6666666666666666,
             "#ed7953"
            ],
            [
             0.7777777777777778,
             "#fb9f3a"
            ],
            [
             0.8888888888888888,
             "#fdca26"
            ],
            [
             1,
             "#f0f921"
            ]
           ],
           "sequentialminus": [
            [
             0,
             "#0d0887"
            ],
            [
             0.1111111111111111,
             "#46039f"
            ],
            [
             0.2222222222222222,
             "#7201a8"
            ],
            [
             0.3333333333333333,
             "#9c179e"
            ],
            [
             0.4444444444444444,
             "#bd3786"
            ],
            [
             0.5555555555555556,
             "#d8576b"
            ],
            [
             0.6666666666666666,
             "#ed7953"
            ],
            [
             0.7777777777777778,
             "#fb9f3a"
            ],
            [
             0.8888888888888888,
             "#fdca26"
            ],
            [
             1,
             "#f0f921"
            ]
           ]
          },
          "colorway": [
           "#636efa",
           "#EF553B",
           "#00cc96",
           "#ab63fa",
           "#FFA15A",
           "#19d3f3",
           "#FF6692",
           "#B6E880",
           "#FF97FF",
           "#FECB52"
          ],
          "font": {
           "color": "#2a3f5f"
          },
          "geo": {
           "bgcolor": "white",
           "lakecolor": "white",
           "landcolor": "white",
           "showlakes": true,
           "showland": true,
           "subunitcolor": "#C8D4E3"
          },
          "hoverlabel": {
           "align": "left"
          },
          "hovermode": "closest",
          "mapbox": {
           "style": "light"
          },
          "paper_bgcolor": "white",
          "plot_bgcolor": "white",
          "polar": {
           "angularaxis": {
            "gridcolor": "#EBF0F8",
            "linecolor": "#EBF0F8",
            "ticks": ""
           },
           "bgcolor": "white",
           "radialaxis": {
            "gridcolor": "#EBF0F8",
            "linecolor": "#EBF0F8",
            "ticks": ""
           }
          },
          "scene": {
           "xaxis": {
            "backgroundcolor": "white",
            "gridcolor": "#DFE8F3",
            "gridwidth": 2,
            "linecolor": "#EBF0F8",
            "showbackground": true,
            "ticks": "",
            "zerolinecolor": "#EBF0F8"
           },
           "yaxis": {
            "backgroundcolor": "white",
            "gridcolor": "#DFE8F3",
            "gridwidth": 2,
            "linecolor": "#EBF0F8",
            "showbackground": true,
            "ticks": "",
            "zerolinecolor": "#EBF0F8"
           },
           "zaxis": {
            "backgroundcolor": "white",
            "gridcolor": "#DFE8F3",
            "gridwidth": 2,
            "linecolor": "#EBF0F8",
            "showbackground": true,
            "ticks": "",
            "zerolinecolor": "#EBF0F8"
           }
          },
          "shapedefaults": {
           "line": {
            "color": "#2a3f5f"
           }
          },
          "ternary": {
           "aaxis": {
            "gridcolor": "#DFE8F3",
            "linecolor": "#A2B1C6",
            "ticks": ""
           },
           "baxis": {
            "gridcolor": "#DFE8F3",
            "linecolor": "#A2B1C6",
            "ticks": ""
           },
           "bgcolor": "white",
           "caxis": {
            "gridcolor": "#DFE8F3",
            "linecolor": "#A2B1C6",
            "ticks": ""
           }
          },
          "title": {
           "x": 0.05
          },
          "xaxis": {
           "automargin": true,
           "gridcolor": "#EBF0F8",
           "linecolor": "#EBF0F8",
           "ticks": "",
           "title": {
            "standoff": 15
           },
           "zerolinecolor": "#EBF0F8",
           "zerolinewidth": 2
          },
          "yaxis": {
           "automargin": true,
           "gridcolor": "#EBF0F8",
           "linecolor": "#EBF0F8",
           "ticks": "",
           "title": {
            "standoff": 15
           },
           "zerolinecolor": "#EBF0F8",
           "zerolinewidth": 2
          }
         }
        },
        "title": {
         "font": {
          "size": 20
         },
         "text": "Relationship Between Discounts and Sales",
         "x": 0.5,
         "xanchor": "center"
        },
        "width": 800,
        "xaxis": {
         "anchor": "y",
         "domain": [
          0,
          1
         ],
         "tickfont": {
          "size": 12
         },
         "title": {
          "font": {
           "size": 16
          },
          "text": "Discounts"
         }
        },
        "yaxis": {
         "anchor": "x",
         "domain": [
          0,
          1
         ],
         "tickfont": {
          "size": 12
         },
         "title": {
          "font": {
           "size": 16
          },
          "text": "Sales"
         }
        }
       }
      }

     },
     "metadata": {},
     "output_type": "display_data"
    }
   ],
   "source": [
    "fig = px.scatter(\n",
    "    df, \n",
    "    x='Discounts', \n",
    "    y='Sales', \n",
    "    color='Country', \n",
    "    title=\"Relationship Between Discounts and Sales\",\n",
    "    labels={\"Discounts\": \"Discounts\", \"Sales\": \"Sales\"},\n",
    "    template=\"plotly_white\"\n",
    ")\n",
    "\n",
    "fig.update_layout(\n",
    "    title=dict(\n",
    "        text=\"Relationship Between Discounts and Sales\",\n",
    "        font=dict(size=20),\n",
    "        x=0.5,\n",
    "        xanchor='center'\n",
    "    ),\n",
    "    xaxis=dict(\n",
    "        title=dict(text=\"Discounts\", font=dict(size=16)),\n",
    "        tickfont=dict(size=12)\n",
    "    ),\n",
    "    yaxis=dict(\n",
    "        title=dict(text=\"Sales\", font=dict(size=16)),\n",
    "        tickfont=dict(size=12)\n",
    "    ),\n",
    "    legend=dict(\n",
    "        title=dict(text=\"Country\", font=dict(size=14)),\n",
    "        font=dict(size=12)\n",
    "    ),\n",
    "    width=800,\n",
    "    height=600\n",
    ")\n",
    "\n",
    "fig.show()"
   ]
  },
  {
   "cell_type": "code",

   "execution_count": 827,
   "metadata": {},
   "outputs": [],
   "source": [
    "from sklearn.linear_model import LinearRegression"
   ]
  },
  {
   "cell_type": "code",
   "execution_count": 828,

   "metadata": {},
   "outputs": [],
   "source": [
    "X = df[['Discounts']]\n",
    "y = df['Sales']"
   ]
  },
  {
   "cell_type": "code",

   "execution_count": 829,

   "metadata": {},
   "outputs": [
    {
     "data": {
      "text/html": [
       "<style>#sk-container-id-18 {\n",
       "  /* Definition of color scheme common for light and dark mode */\n",
       "  --sklearn-color-text: #000;\n",
       "  --sklearn-color-text-muted: #666;\n",
       "  --sklearn-color-line: gray;\n",
       "  /* Definition of color scheme for unfitted estimators */\n",
       "  --sklearn-color-unfitted-level-0: #fff5e6;\n",
       "  --sklearn-color-unfitted-level-1: #f6e4d2;\n",
       "  --sklearn-color-unfitted-level-2: #ffe0b3;\n",
       "  --sklearn-color-unfitted-level-3: chocolate;\n",
       "  /* Definition of color scheme for fitted estimators */\n",
       "  --sklearn-color-fitted-level-0: #f0f8ff;\n",
       "  --sklearn-color-fitted-level-1: #d4ebff;\n",
       "  --sklearn-color-fitted-level-2: #b3dbfd;\n",
       "  --sklearn-color-fitted-level-3: cornflowerblue;\n",
       "\n",
       "  /* Specific color for light theme */\n",
       "  --sklearn-color-text-on-default-background: var(--sg-text-color, var(--theme-code-foreground, var(--jp-content-font-color1, black)));\n",
       "  --sklearn-color-background: var(--sg-background-color, var(--theme-background, var(--jp-layout-color0, white)));\n",
       "  --sklearn-color-border-box: var(--sg-text-color, var(--theme-code-foreground, var(--jp-content-font-color1, black)));\n",
       "  --sklearn-color-icon: #696969;\n",
       "\n",
       "  @media (prefers-color-scheme: dark) {\n",
       "    /* Redefinition of color scheme for dark theme */\n",
       "    --sklearn-color-text-on-default-background: var(--sg-text-color, var(--theme-code-foreground, var(--jp-content-font-color1, white)));\n",
       "    --sklearn-color-background: var(--sg-background-color, var(--theme-background, var(--jp-layout-color0, #111)));\n",
       "    --sklearn-color-border-box: var(--sg-text-color, var(--theme-code-foreground, var(--jp-content-font-color1, white)));\n",
       "    --sklearn-color-icon: #878787;\n",
       "  }\n",
       "}\n",
       "\n",
       "#sk-container-id-18 {\n",
       "  color: var(--sklearn-color-text);\n",
       "}\n",
       "\n",
       "#sk-container-id-18 pre {\n",
       "  padding: 0;\n",
       "}\n",
       "\n",
       "#sk-container-id-18 input.sk-hidden--visually {\n",
       "  border: 0;\n",
       "  clip: rect(1px 1px 1px 1px);\n",
       "  clip: rect(1px, 1px, 1px, 1px);\n",
       "  height: 1px;\n",
       "  margin: -1px;\n",
       "  overflow: hidden;\n",
       "  padding: 0;\n",
       "  position: absolute;\n",
       "  width: 1px;\n",
       "}\n",
       "\n",
       "#sk-container-id-18 div.sk-dashed-wrapped {\n",
       "  border: 1px dashed var(--sklearn-color-line);\n",
       "  margin: 0 0.4em 0.5em 0.4em;\n",
       "  box-sizing: border-box;\n",
       "  padding-bottom: 0.4em;\n",
       "  background-color: var(--sklearn-color-background);\n",
       "}\n",
       "\n",
       "#sk-container-id-18 div.sk-container {\n",
       "  /* jupyter's `normalize.less` sets `[hidden] { display: none; }`\n",
       "     but bootstrap.min.css set `[hidden] { display: none !important; }`\n",
       "     so we also need the `!important` here to be able to override the\n",
       "     default hidden behavior on the sphinx rendered scikit-learn.org.\n",
       "     See: https://github.com/scikit-learn/scikit-learn/issues/21755 */\n",
       "  display: inline-block !important;\n",
       "  position: relative;\n",
       "}\n",
       "\n",
       "#sk-container-id-18 div.sk-text-repr-fallback {\n",
       "  display: none;\n",
       "}\n",
       "\n",
       "div.sk-parallel-item,\n",
       "div.sk-serial,\n",
       "div.sk-item {\n",
       "  /* draw centered vertical line to link estimators */\n",
       "  background-image: linear-gradient(var(--sklearn-color-text-on-default-background), var(--sklearn-color-text-on-default-background));\n",
       "  background-size: 2px 100%;\n",
       "  background-repeat: no-repeat;\n",
       "  background-position: center center;\n",
       "}\n",
       "\n",
       "/* Parallel-specific style estimator block */\n",
       "\n",
       "#sk-container-id-18 div.sk-parallel-item::after {\n",
       "  content: \"\";\n",
       "  width: 100%;\n",
       "  border-bottom: 2px solid var(--sklearn-color-text-on-default-background);\n",
       "  flex-grow: 1;\n",
       "}\n",
       "\n",
       "#sk-container-id-18 div.sk-parallel {\n",
       "  display: flex;\n",
       "  align-items: stretch;\n",
       "  justify-content: center;\n",
       "  background-color: var(--sklearn-color-background);\n",
       "  position: relative;\n",
       "}\n",
       "\n",
       "#sk-container-id-18 div.sk-parallel-item {\n",
       "  display: flex;\n",
       "  flex-direction: column;\n",
       "}\n",
       "\n",
       "#sk-container-id-18 div.sk-parallel-item:first-child::after {\n",
       "  align-self: flex-end;\n",
       "  width: 50%;\n",
       "}\n",
       "\n",
       "#sk-container-id-18 div.sk-parallel-item:last-child::after {\n",
       "  align-self: flex-start;\n",
       "  width: 50%;\n",
       "}\n",
       "\n",
       "#sk-container-id-18 div.sk-parallel-item:only-child::after {\n",
       "  width: 0;\n",
       "}\n",
       "\n",
       "/* Serial-specific style estimator block */\n",
       "\n",
       "#sk-container-id-18 div.sk-serial {\n",
       "  display: flex;\n",
       "  flex-direction: column;\n",
       "  align-items: center;\n",
       "  background-color: var(--sklearn-color-background);\n",
       "  padding-right: 1em;\n",
       "  padding-left: 1em;\n",
       "}\n",
       "\n",
       "\n",
       "/* Toggleable style: style used for estimator/Pipeline/ColumnTransformer box that is\n",
       "clickable and can be expanded/collapsed.\n",
       "- Pipeline and ColumnTransformer use this feature and define the default style\n",
       "- Estimators will overwrite some part of the style using the `sk-estimator` class\n",
       "*/\n",
       "\n",
       "/* Pipeline and ColumnTransformer style (default) */\n",
       "\n",
       "#sk-container-id-18 div.sk-toggleable {\n",
       "  /* Default theme specific background. It is overwritten whether we have a\n",
       "  specific estimator or a Pipeline/ColumnTransformer */\n",
       "  background-color: var(--sklearn-color-background);\n",
       "}\n",
       "\n",
       "/* Toggleable label */\n",
       "#sk-container-id-18 label.sk-toggleable__label {\n",
       "  cursor: pointer;\n",
       "  display: flex;\n",
       "  width: 100%;\n",
       "  margin-bottom: 0;\n",
       "  padding: 0.5em;\n",
       "  box-sizing: border-box;\n",
       "  text-align: center;\n",
       "  align-items: start;\n",
       "  justify-content: space-between;\n",
       "  gap: 0.5em;\n",
       "}\n",
       "\n",
       "#sk-container-id-18 label.sk-toggleable__label .caption {\n",
       "  font-size: 0.6rem;\n",
       "  font-weight: lighter;\n",
       "  color: var(--sklearn-color-text-muted);\n",
       "}\n",
       "\n",
       "#sk-container-id-18 label.sk-toggleable__label-arrow:before {\n",
       "  /* Arrow on the left of the label */\n",
       "  content: \"▸\";\n",
       "  float: left;\n",
       "  margin-right: 0.25em;\n",
       "  color: var(--sklearn-color-icon);\n",
       "}\n",
       "\n",
       "#sk-container-id-18 label.sk-toggleable__label-arrow:hover:before {\n",
       "  color: var(--sklearn-color-text);\n",
       "}\n",
       "\n",
       "/* Toggleable content - dropdown */\n",
       "\n",
       "#sk-container-id-18 div.sk-toggleable__content {\n",
       "  max-height: 0;\n",
       "  max-width: 0;\n",
       "  overflow: hidden;\n",
       "  text-align: left;\n",
       "  /* unfitted */\n",
       "  background-color: var(--sklearn-color-unfitted-level-0);\n",
       "}\n",
       "\n",
       "#sk-container-id-18 div.sk-toggleable__content.fitted {\n",
       "  /* fitted */\n",
       "  background-color: var(--sklearn-color-fitted-level-0);\n",
       "}\n",
       "\n",
       "#sk-container-id-18 div.sk-toggleable__content pre {\n",
       "  margin: 0.2em;\n",
       "  border-radius: 0.25em;\n",
       "  color: var(--sklearn-color-text);\n",
       "  /* unfitted */\n",
       "  background-color: var(--sklearn-color-unfitted-level-0);\n",
       "}\n",
       "\n",
       "#sk-container-id-18 div.sk-toggleable__content.fitted pre {\n",
       "  /* unfitted */\n",
       "  background-color: var(--sklearn-color-fitted-level-0);\n",
       "}\n",
       "\n",
       "#sk-container-id-18 input.sk-toggleable__control:checked~div.sk-toggleable__content {\n",
       "  /* Expand drop-down */\n",
       "  max-height: 200px;\n",
       "  max-width: 100%;\n",
       "  overflow: auto;\n",
       "}\n",
       "\n",
       "#sk-container-id-18 input.sk-toggleable__control:checked~label.sk-toggleable__label-arrow:before {\n",
       "  content: \"▾\";\n",
       "}\n",
       "\n",
       "/* Pipeline/ColumnTransformer-specific style */\n",
       "\n",
       "#sk-container-id-18 div.sk-label input.sk-toggleable__control:checked~label.sk-toggleable__label {\n",
       "  color: var(--sklearn-color-text);\n",
       "  background-color: var(--sklearn-color-unfitted-level-2);\n",
       "}\n",
       "\n",
       "#sk-container-id-18 div.sk-label.fitted input.sk-toggleable__control:checked~label.sk-toggleable__label {\n",
       "  background-color: var(--sklearn-color-fitted-level-2);\n",
       "}\n",
       "\n",
       "/* Estimator-specific style */\n",
       "\n",
       "/* Colorize estimator box */\n",
       "#sk-container-id-18 div.sk-estimator input.sk-toggleable__control:checked~label.sk-toggleable__label {\n",
       "  /* unfitted */\n",
       "  background-color: var(--sklearn-color-unfitted-level-2);\n",
       "}\n",
       "\n",
       "#sk-container-id-18 div.sk-estimator.fitted input.sk-toggleable__control:checked~label.sk-toggleable__label {\n",
       "  /* fitted */\n",
       "  background-color: var(--sklearn-color-fitted-level-2);\n",
       "}\n",
       "\n",
       "#sk-container-id-18 div.sk-label label.sk-toggleable__label,\n",
       "#sk-container-id-18 div.sk-label label {\n",
       "  /* The background is the default theme color */\n",
       "  color: var(--sklearn-color-text-on-default-background);\n",
       "}\n",
       "\n",
       "/* On hover, darken the color of the background */\n",
       "#sk-container-id-18 div.sk-label:hover label.sk-toggleable__label {\n",
       "  color: var(--sklearn-color-text);\n",
       "  background-color: var(--sklearn-color-unfitted-level-2);\n",
       "}\n",
       "\n",
       "/* Label box, darken color on hover, fitted */\n",
       "#sk-container-id-18 div.sk-label.fitted:hover label.sk-toggleable__label.fitted {\n",
       "  color: var(--sklearn-color-text);\n",
       "  background-color: var(--sklearn-color-fitted-level-2);\n",
       "}\n",
       "\n",
       "/* Estimator label */\n",
       "\n",
       "#sk-container-id-18 div.sk-label label {\n",
       "  font-family: monospace;\n",
       "  font-weight: bold;\n",
       "  display: inline-block;\n",
       "  line-height: 1.2em;\n",
       "}\n",
       "\n",
       "#sk-container-id-18 div.sk-label-container {\n",
       "  text-align: center;\n",
       "}\n",
       "\n",
       "/* Estimator-specific */\n",
       "#sk-container-id-18 div.sk-estimator {\n",
       "  font-family: monospace;\n",
       "  border: 1px dotted var(--sklearn-color-border-box);\n",
       "  border-radius: 0.25em;\n",
       "  box-sizing: border-box;\n",
       "  margin-bottom: 0.5em;\n",
       "  /* unfitted */\n",
       "  background-color: var(--sklearn-color-unfitted-level-0);\n",
       "}\n",
       "\n",
       "#sk-container-id-18 div.sk-estimator.fitted {\n",
       "  /* fitted */\n",
       "  background-color: var(--sklearn-color-fitted-level-0);\n",
       "}\n",
       "\n",
       "/* on hover */\n",
       "#sk-container-id-18 div.sk-estimator:hover {\n",
       "  /* unfitted */\n",
       "  background-color: var(--sklearn-color-unfitted-level-2);\n",
       "}\n",
       "\n",
       "#sk-container-id-18 div.sk-estimator.fitted:hover {\n",
       "  /* fitted */\n",
       "  background-color: var(--sklearn-color-fitted-level-2);\n",
       "}\n",
       "\n",
       "/* Specification for estimator info (e.g. \"i\" and \"?\") */\n",
       "\n",
       "/* Common style for \"i\" and \"?\" */\n",
       "\n",
       ".sk-estimator-doc-link,\n",
       "a:link.sk-estimator-doc-link,\n",
       "a:visited.sk-estimator-doc-link {\n",
       "  float: right;\n",
       "  font-size: smaller;\n",
       "  line-height: 1em;\n",
       "  font-family: monospace;\n",
       "  background-color: var(--sklearn-color-background);\n",
       "  border-radius: 1em;\n",
       "  height: 1em;\n",
       "  width: 1em;\n",
       "  text-decoration: none !important;\n",
       "  margin-left: 0.5em;\n",
       "  text-align: center;\n",
       "  /* unfitted */\n",
       "  border: var(--sklearn-color-unfitted-level-1) 1pt solid;\n",
       "  color: var(--sklearn-color-unfitted-level-1);\n",
       "}\n",
       "\n",
       ".sk-estimator-doc-link.fitted,\n",
       "a:link.sk-estimator-doc-link.fitted,\n",
       "a:visited.sk-estimator-doc-link.fitted {\n",
       "  /* fitted */\n",
       "  border: var(--sklearn-color-fitted-level-1) 1pt solid;\n",
       "  color: var(--sklearn-color-fitted-level-1);\n",
       "}\n",
       "\n",
       "/* On hover */\n",
       "div.sk-estimator:hover .sk-estimator-doc-link:hover,\n",
       ".sk-estimator-doc-link:hover,\n",
       "div.sk-label-container:hover .sk-estimator-doc-link:hover,\n",
       ".sk-estimator-doc-link:hover {\n",
       "  /* unfitted */\n",
       "  background-color: var(--sklearn-color-unfitted-level-3);\n",
       "  color: var(--sklearn-color-background);\n",
       "  text-decoration: none;\n",
       "}\n",
       "\n",
       "div.sk-estimator.fitted:hover .sk-estimator-doc-link.fitted:hover,\n",
       ".sk-estimator-doc-link.fitted:hover,\n",
       "div.sk-label-container:hover .sk-estimator-doc-link.fitted:hover,\n",
       ".sk-estimator-doc-link.fitted:hover {\n",
       "  /* fitted */\n",
       "  background-color: var(--sklearn-color-fitted-level-3);\n",
       "  color: var(--sklearn-color-background);\n",
       "  text-decoration: none;\n",
       "}\n",
       "\n",
       "/* Span, style for the box shown on hovering the info icon */\n",
       ".sk-estimator-doc-link span {\n",
       "  display: none;\n",
       "  z-index: 9999;\n",
       "  position: relative;\n",
       "  font-weight: normal;\n",
       "  right: .2ex;\n",
       "  padding: .5ex;\n",
       "  margin: .5ex;\n",
       "  width: min-content;\n",
       "  min-width: 20ex;\n",
       "  max-width: 50ex;\n",
       "  color: var(--sklearn-color-text);\n",
       "  box-shadow: 2pt 2pt 4pt #999;\n",
       "  /* unfitted */\n",
       "  background: var(--sklearn-color-unfitted-level-0);\n",
       "  border: .5pt solid var(--sklearn-color-unfitted-level-3);\n",
       "}\n",
       "\n",
       ".sk-estimator-doc-link.fitted span {\n",
       "  /* fitted */\n",
       "  background: var(--sklearn-color-fitted-level-0);\n",
       "  border: var(--sklearn-color-fitted-level-3);\n",
       "}\n",
       "\n",
       ".sk-estimator-doc-link:hover span {\n",
       "  display: block;\n",
       "}\n",
       "\n",
       "/* \"?\"-specific style due to the `<a>` HTML tag */\n",
       "\n",
       "#sk-container-id-18 a.estimator_doc_link {\n",
       "  float: right;\n",
       "  font-size: 1rem;\n",
       "  line-height: 1em;\n",
       "  font-family: monospace;\n",
       "  background-color: var(--sklearn-color-background);\n",
       "  border-radius: 1rem;\n",
       "  height: 1rem;\n",
       "  width: 1rem;\n",
       "  text-decoration: none;\n",
       "  /* unfitted */\n",
       "  color: var(--sklearn-color-unfitted-level-1);\n",
       "  border: var(--sklearn-color-unfitted-level-1) 1pt solid;\n",
       "}\n",
       "\n",
       "#sk-container-id-18 a.estimator_doc_link.fitted {\n",
       "  /* fitted */\n",
       "  border: var(--sklearn-color-fitted-level-1) 1pt solid;\n",
       "  color: var(--sklearn-color-fitted-level-1);\n",
       "}\n",
       "\n",
       "/* On hover */\n",
       "#sk-container-id-18 a.estimator_doc_link:hover {\n",
       "  /* unfitted */\n",
       "  background-color: var(--sklearn-color-unfitted-level-3);\n",
       "  color: var(--sklearn-color-background);\n",
       "  text-decoration: none;\n",
       "}\n",
       "\n",
       "#sk-container-id-18 a.estimator_doc_link.fitted:hover {\n",
       "  /* fitted */\n",
       "  background-color: var(--sklearn-color-fitted-level-3);\n",
       "}\n",
       "</style><div id=\"sk-container-id-18\" class=\"sk-top-container\"><div class=\"sk-text-repr-fallback\"><pre>LinearRegression()</pre><b>In a Jupyter environment, please rerun this cell to show the HTML representation or trust the notebook. <br />On GitHub, the HTML representation is unable to render, please try loading this page with nbviewer.org.</b></div><div class=\"sk-container\" hidden><div class=\"sk-item\"><div class=\"sk-estimator fitted sk-toggleable\"><input class=\"sk-toggleable__control sk-hidden--visually\" id=\"sk-estimator-id-18\" type=\"checkbox\" checked><label for=\"sk-estimator-id-18\" class=\"sk-toggleable__label fitted sk-toggleable__label-arrow\"><div><div>LinearRegression</div></div><div><a class=\"sk-estimator-doc-link fitted\" rel=\"noreferrer\" target=\"_blank\" href=\"https://scikit-learn.org/1.6/modules/generated/sklearn.linear_model.LinearRegression.html\">?<span>Documentation for LinearRegression</span></a><span class=\"sk-estimator-doc-link fitted\">i<span>Fitted</span></span></div></label><div class=\"sk-toggleable__content fitted\"><pre>LinearRegression()</pre></div> </div></div></div></div>"
      ],
      "text/plain": [
       "LinearRegression()"
      ]
     },

     "execution_count": 829,

     "metadata": {},
     "output_type": "execute_result"
    }
   ],
   "source": [
    "model = LinearRegression()\n",
    "model.fit(X, y)"
   ]
  },
  {
   "cell_type": "code",

   "execution_count": 830,

   "metadata": {},
   "outputs": [],
   "source": [
    "df['Sales_Predicted'] = model.predict(X)"
   ]
  },
  {
   "cell_type": "code",

   "execution_count": 831,

   "metadata": {},
   "outputs": [
    {
     "data": {

      "application/vnd.plotly.v1+json": {
       "config": {
        "plotlyServerURL": "https://plot.ly"
       },
       "data": [
        {
         "hovertemplate": "Discounts: %{x}<br>Sales: %{y}<extra></extra>",
         "marker": {
          "color": "blue",
          "size": 6
         },
         "mode": "markers",
         "name": "Actual",
         "type": "scatter",
         "x": {
          "bdata": "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",
          "dtype": "i4"
         },
         "y": {
          "bdata": "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",
          "dtype": "i4"
         }
        },
        {
         "hovertemplate": "Discounts: %{x}<br>Predicted Sales: %{y}<extra></extra>",
         "line": {
          "color": "red",
          "width": 2
         },
         "mode": "lines",
         "name": "Predicted",
         "type": "scatter",
         "x": {
          "bdata": "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",
          "dtype": "i4"
         },
         "y": {
          "bdata": "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",
          "dtype": "f8"
         }
        }
       ],
       "layout": {
        "height": 600,
        "template": {
         "data": {
          "bar": [
           {
            "error_x": {
             "color": "#2a3f5f"
            },
            "error_y": {
             "color": "#2a3f5f"
            },
            "marker": {
             "line": {
              "color": "white",
              "width": 0.5
             },
             "pattern": {
              "fillmode": "overlay",
              "size": 10,
              "solidity": 0.2
             }
            },
            "type": "bar"
           }
          ],
          "barpolar": [
           {
            "marker": {
             "line": {
              "color": "white",
              "width": 0.5
             },
             "pattern": {
              "fillmode": "overlay",
              "size": 10,
              "solidity": 0.2
             }
            },
            "type": "barpolar"
           }
          ],
          "carpet": [
           {
            "aaxis": {
             "endlinecolor": "#2a3f5f",
             "gridcolor": "#C8D4E3",
             "linecolor": "#C8D4E3",
             "minorgridcolor": "#C8D4E3",
             "startlinecolor": "#2a3f5f"
            },
            "baxis": {
             "endlinecolor": "#2a3f5f",
             "gridcolor": "#C8D4E3",
             "linecolor": "#C8D4E3",
             "minorgridcolor": "#C8D4E3",
             "startlinecolor": "#2a3f5f"
            },
            "type": "carpet"
           }
          ],
          "choropleth": [
           {
            "colorbar": {
             "outlinewidth": 0,
             "ticks": ""
            },
            "type": "choropleth"
           }
          ],
          "contour": [
           {
            "colorbar": {
             "outlinewidth": 0,
             "ticks": ""
            },
            "colorscale": [
             [
              0,
              "#0d0887"
             ],
             [
              0.1111111111111111,
              "#46039f"
             ],
             [
              0.2222222222222222,
              "#7201a8"
             ],
             [
              0.3333333333333333,
              "#9c179e"
             ],
             [
              0.4444444444444444,
              "#bd3786"
             ],
             [
              0.5555555555555556,
              "#d8576b"
             ],
             [
              0.6666666666666666,
              "#ed7953"
             ],
             [
              0.7777777777777778,
              "#fb9f3a"
             ],
             [
              0.8888888888888888,
              "#fdca26"
             ],
             [
              1,
              "#f0f921"
             ]
            ],
            "type": "contour"
           }
          ],
          "contourcarpet": [
           {
            "colorbar": {
             "outlinewidth": 0,
             "ticks": ""
            },
            "type": "contourcarpet"
           }
          ],
          "heatmap": [
           {
            "colorbar": {
             "outlinewidth": 0,
             "ticks": ""
            },
            "colorscale": [
             [
              0,
              "#0d0887"
             ],
             [
              0.1111111111111111,
              "#46039f"
             ],
             [
              0.2222222222222222,
              "#7201a8"
             ],
             [
              0.3333333333333333,
              "#9c179e"
             ],
             [
              0.4444444444444444,
              "#bd3786"
             ],
             [
              0.5555555555555556,
              "#d8576b"
             ],
             [
              0.6666666666666666,
              "#ed7953"
             ],
             [
              0.7777777777777778,
              "#fb9f3a"
             ],
             [
              0.8888888888888888,
              "#fdca26"
             ],
             [
              1,
              "#f0f921"
             ]
            ],
            "type": "heatmap"
           }
          ],
          "histogram": [
           {
            "marker": {
             "pattern": {
              "fillmode": "overlay",
              "size": 10,
              "solidity": 0.2
             }
            },
            "type": "histogram"
           }
          ],
          "histogram2d": [
           {
            "colorbar": {
             "outlinewidth": 0,
             "ticks": ""
            },
            "colorscale": [
             [
              0,
              "#0d0887"
             ],
             [
              0.1111111111111111,
              "#46039f"
             ],
             [
              0.2222222222222222,
              "#7201a8"
             ],
             [
              0.3333333333333333,
              "#9c179e"
             ],
             [
              0.4444444444444444,
              "#bd3786"
             ],
             [
              0.5555555555555556,
              "#d8576b"
             ],
             [
              0.6666666666666666,
              "#ed7953"
             ],
             [
              0.7777777777777778,
              "#fb9f3a"
             ],
             [
              0.8888888888888888,
              "#fdca26"
             ],
             [
              1,
              "#f0f921"
             ]
            ],
            "type": "histogram2d"
           }
          ],
          "histogram2dcontour": [
           {
            "colorbar": {
             "outlinewidth": 0,
             "ticks": ""
            },
            "colorscale": [
             [
              0,
              "#0d0887"
             ],
             [
              0.1111111111111111,
              "#46039f"
             ],
             [
              0.2222222222222222,
              "#7201a8"
             ],
             [
              0.3333333333333333,
              "#9c179e"
             ],
             [
              0.4444444444444444,
              "#bd3786"
             ],
             [
              0.5555555555555556,
              "#d8576b"
             ],
             [
              0.6666666666666666,
              "#ed7953"
             ],
             [
              0.7777777777777778,
              "#fb9f3a"
             ],
             [
              0.8888888888888888,
              "#fdca26"
             ],
             [
              1,
              "#f0f921"
             ]
            ],
            "type": "histogram2dcontour"
           }
          ],
          "mesh3d": [
           {
            "colorbar": {
             "outlinewidth": 0,
             "ticks": ""
            },
            "type": "mesh3d"
           }
          ],
          "parcoords": [
           {
            "line": {
             "colorbar": {
              "outlinewidth": 0,
              "ticks": ""
             }
            },
            "type": "parcoords"
           }
          ],
          "pie": [
           {
            "automargin": true,
            "type": "pie"
           }
          ],
          "scatter": [
           {
            "fillpattern": {
             "fillmode": "overlay",
             "size": 10,
             "solidity": 0.2
            },
            "type": "scatter"
           }
          ],
          "scatter3d": [
           {
            "line": {
             "colorbar": {
              "outlinewidth": 0,
              "ticks": ""
             }
            },
            "marker": {
             "colorbar": {
              "outlinewidth": 0,
              "ticks": ""
             }
            },
            "type": "scatter3d"
           }
          ],
          "scattercarpet": [
           {
            "marker": {
             "colorbar": {
              "outlinewidth": 0,
              "ticks": ""
             }
            },
            "type": "scattercarpet"
           }
          ],
          "scattergeo": [
           {
            "marker": {
             "colorbar": {
              "outlinewidth": 0,
              "ticks": ""
             }
            },
            "type": "scattergeo"
           }
          ],
          "scattergl": [
           {
            "marker": {
             "colorbar": {
              "outlinewidth": 0,
              "ticks": ""
             }
            },
            "type": "scattergl"
           }
          ],
          "scattermap": [
           {
            "marker": {
             "colorbar": {
              "outlinewidth": 0,
              "ticks": ""
             }
            },
            "type": "scattermap"
           }
          ],
          "scattermapbox": [
           {
            "marker": {
             "colorbar": {
              "outlinewidth": 0,
              "ticks": ""
             }
            },
            "type": "scattermapbox"
           }
          ],
          "scatterpolar": [
           {
            "marker": {
             "colorbar": {
              "outlinewidth": 0,
              "ticks": ""
             }
            },
            "type": "scatterpolar"
           }
          ],
          "scatterpolargl": [
           {
            "marker": {
             "colorbar": {
              "outlinewidth": 0,
              "ticks": ""
             }
            },
            "type": "scatterpolargl"
           }
          ],
          "scatterternary": [
           {
            "marker": {
             "colorbar": {
              "outlinewidth": 0,
              "ticks": ""
             }
            },
            "type": "scatterternary"
           }
          ],
          "surface": [
           {
            "colorbar": {
             "outlinewidth": 0,
             "ticks": ""
            },
            "colorscale": [
             [
              0,
              "#0d0887"
             ],
             [
              0.1111111111111111,
              "#46039f"
             ],
             [
              0.2222222222222222,
              "#7201a8"
             ],
             [
              0.3333333333333333,
              "#9c179e"
             ],
             [
              0.4444444444444444,
              "#bd3786"
             ],
             [
              0.5555555555555556,
              "#d8576b"
             ],
             [
              0.6666666666666666,
              "#ed7953"
             ],
             [
              0.7777777777777778,
              "#fb9f3a"
             ],
             [
              0.8888888888888888,
              "#fdca26"
             ],
             [
              1,
              "#f0f921"
             ]
            ],
            "type": "surface"
           }
          ],
          "table": [
           {
            "cells": {
             "fill": {
              "color": "#EBF0F8"
             },
             "line": {
              "color": "white"
             }
            },
            "header": {
             "fill": {
              "color": "#C8D4E3"
             },
             "line": {
              "color": "white"
             }
            },
            "type": "table"
           }
          ]
         },
         "layout": {
          "annotationdefaults": {
           "arrowcolor": "#2a3f5f",
           "arrowhead": 0,
           "arrowwidth": 1
          },
          "autotypenumbers": "strict",
          "coloraxis": {
           "colorbar": {
            "outlinewidth": 0,
            "ticks": ""
           }
          },
          "colorscale": {
           "diverging": [
            [
             0,
             "#8e0152"
            ],
            [
             0.1,
             "#c51b7d"
            ],
            [
             0.2,
             "#de77ae"
            ],
            [
             0.3,
             "#f1b6da"
            ],
            [
             0.4,
             "#fde0ef"
            ],
            [
             0.5,
             "#f7f7f7"
            ],
            [
             0.6,
             "#e6f5d0"
            ],
            [
             0.7,
             "#b8e186"
            ],
            [
             0.8,
             "#7fbc41"
            ],
            [
             0.9,
             "#4d9221"
            ],
            [
             1,
             "#276419"
            ]
           ],
           "sequential": [
            [
             0,
             "#0d0887"
            ],
            [
             0.1111111111111111,
             "#46039f"
            ],
            [
             0.2222222222222222,
             "#7201a8"
            ],
            [
             0.3333333333333333,
             "#9c179e"
            ],
            [
             0.4444444444444444,
             "#bd3786"
            ],
            [
             0.5555555555555556,
             "#d8576b"
            ],
            [
             0.6666666666666666,
             "#ed7953"
            ],
            [
             0.7777777777777778,
             "#fb9f3a"
            ],
            [
             0.8888888888888888,
             "#fdca26"
            ],
            [
             1,
             "#f0f921"
            ]
           ],
           "sequentialminus": [
            [
             0,
             "#0d0887"
            ],
            [
             0.1111111111111111,
             "#46039f"
            ],
            [
             0.2222222222222222,
             "#7201a8"
            ],
            [
             0.3333333333333333,
             "#9c179e"
            ],
            [
             0.4444444444444444,
             "#bd3786"
            ],
            [
             0.5555555555555556,
             "#d8576b"
            ],
            [
             0.6666666666666666,
             "#ed7953"
            ],
            [
             0.7777777777777778,
             "#fb9f3a"
            ],
            [
             0.8888888888888888,
             "#fdca26"
            ],
            [
             1,
             "#f0f921"
            ]
           ]
          },
          "colorway": [
           "#636efa",
           "#EF553B",
           "#00cc96",
           "#ab63fa",
           "#FFA15A",
           "#19d3f3",
           "#FF6692",
           "#B6E880",
           "#FF97FF",
           "#FECB52"
          ],
          "font": {
           "color": "#2a3f5f"
          },
          "geo": {
           "bgcolor": "white",
           "lakecolor": "white",
           "landcolor": "white",
           "showlakes": true,
           "showland": true,
           "subunitcolor": "#C8D4E3"
          },
          "hoverlabel": {
           "align": "left"
          },
          "hovermode": "closest",
          "mapbox": {
           "style": "light"
          },
          "paper_bgcolor": "white",
          "plot_bgcolor": "white",
          "polar": {
           "angularaxis": {
            "gridcolor": "#EBF0F8",
            "linecolor": "#EBF0F8",
            "ticks": ""
           },
           "bgcolor": "white",
           "radialaxis": {
            "gridcolor": "#EBF0F8",
            "linecolor": "#EBF0F8",
            "ticks": ""
           }
          },
          "scene": {
           "xaxis": {
            "backgroundcolor": "white",
            "gridcolor": "#DFE8F3",
            "gridwidth": 2,
            "linecolor": "#EBF0F8",
            "showbackground": true,
            "ticks": "",
            "zerolinecolor": "#EBF0F8"
           },
           "yaxis": {
            "backgroundcolor": "white",
            "gridcolor": "#DFE8F3",
            "gridwidth": 2,
            "linecolor": "#EBF0F8",
            "showbackground": true,
            "ticks": "",
            "zerolinecolor": "#EBF0F8"
           },
           "zaxis": {
            "backgroundcolor": "white",
            "gridcolor": "#DFE8F3",
            "gridwidth": 2,
            "linecolor": "#EBF0F8",
            "showbackground": true,
            "ticks": "",
            "zerolinecolor": "#EBF0F8"
           }
          },
          "shapedefaults": {
           "line": {
            "color": "#2a3f5f"
           }
          },
          "ternary": {
           "aaxis": {
            "gridcolor": "#DFE8F3",
            "linecolor": "#A2B1C6",
            "ticks": ""
           },
           "baxis": {
            "gridcolor": "#DFE8F3",
            "linecolor": "#A2B1C6",
            "ticks": ""
           },
           "bgcolor": "white",
           "caxis": {
            "gridcolor": "#DFE8F3",
            "linecolor": "#A2B1C6",
            "ticks": ""
           }
          },
          "title": {
           "x": 0.05
          },
          "xaxis": {
           "automargin": true,
           "gridcolor": "#EBF0F8",
           "linecolor": "#EBF0F8",
           "ticks": "",
           "title": {
            "standoff": 15
           },
           "zerolinecolor": "#EBF0F8",
           "zerolinewidth": 2
          },
          "yaxis": {
           "automargin": true,
           "gridcolor": "#EBF0F8",
           "linecolor": "#EBF0F8",
           "ticks": "",
           "title": {
            "standoff": 15
           },
           "zerolinecolor": "#EBF0F8",
           "zerolinewidth": 2
          }
         }
        },
        "title": {
         "font": {
          "size": 20
         },
         "text": "Linear Regression: Discounts vs Sales",
         "x": 0.5,
         "xanchor": "center"
        },
        "width": 1000,
        "xaxis": {
         "showgrid": true,
         "tickangle": -45,
         "tickfont": {
          "size": 12
         },
         "title": {
          "font": {
           "size": 16
          },
          "text": "Discounts"
         }
        },
        "yaxis": {
         "showgrid": true,
         "tickfont": {
          "size": 12
         },
         "title": {
          "font": {
           "size": 16
          },
          "text": "Sales"
         }
        }
       }
      }

     },
     "metadata": {},
     "output_type": "display_data"
    }
   ],
   "source": [
    "fig = go.Figure()\n",
    "\n",
    "fig.add_trace(go.Scatter(\n",
    "    x=df['Discounts'], \n",
    "    y=df['Sales'], \n",
    "    mode='markers', \n",
    "    name='Actual', \n",
    "    marker=dict(color='blue', size=6),\n",
    "    hovertemplate=\"Discounts: %{x}<br>Sales: %{y}<extra></extra>\"\n",
    "))\n",
    "\n",
    "fig.add_trace(go.Scatter(\n",
    "    x=df['Discounts'], \n",
    "    y=df['Sales_Predicted'], \n",
    "    mode='lines', \n",
    "    name='Predicted', \n",
    "    line=dict(color='red', width=2),\n",
    "    hovertemplate=\"Discounts: %{x}<br>Predicted Sales: %{y}<extra></extra>\"\n",
    "))\n",
    "\n",
    "fig.update_layout(\n",
    "    title=dict(\n",
    "        text=\"Linear Regression: Discounts vs Sales\",\n",
    "        font=dict(size=20),\n",
    "        x=0.5,\n",
    "        xanchor='center'\n",
    "    ),\n",
    "    xaxis=dict(\n",
    "        title=dict(text=\"Discounts\", font=dict(size=16)),\n",
    "        tickangle=-45,\n",
    "        showgrid=True,\n",
    "        tickfont=dict(size=12)\n",
    "    ),\n",
    "    yaxis=dict(\n",
    "        title=dict(text=\"Sales\", font=dict(size=16)),\n",
    "        showgrid=True,\n",
    "        tickfont=dict(size=12)\n",
    "    ),\n",
    "    template='plotly_white',\n",
    "    width=1000,\n",
    "    height=600\n",
    ")\n",
    "\n",
    "fig.show()"
   ]
  },
  {
   "cell_type": "code",

   "execution_count": 832,
   "metadata": {},
   "outputs": [],
   "source": [
    "import statsmodels.api as sm"
   ]
  },
  {
   "cell_type": "code",
   "execution_count": 833,

   "metadata": {},
   "outputs": [],
   "source": [
    "X = sm.add_constant(X)"
   ]
  },
  {
   "cell_type": "code",

   "execution_count": 834,

   "metadata": {},
   "outputs": [],
   "source": [
    "model = sm.OLS(y, X).fit()"
   ]
  },
  {
   "cell_type": "code",

   "execution_count": 835,

   "metadata": {},
   "outputs": [
    {
     "name": "stdout",
     "output_type": "stream",
     "text": [
      "                            OLS Regression Results                            \n",
      "==============================================================================\n",
      "Dep. Variable:                  Sales   R-squared:                       0.553\n",
      "Model:                            OLS   Adj. R-squared:                  0.552\n",

      "Method:                 Least Squares   F-statistic:                     857.4\n",
      "Date:                Wed, 05 Feb 2025   Prob (F-statistic):          2.70e-123\n",
      "Time:                        05:47:49   Log-Likelihood:                -9308.3\n",
      "No. Observations:                 695   AIC:                         1.862e+04\n",
      "Df Residuals:                     693   BIC:                         1.863e+04\n",

      "Df Model:                           1                                         \n",
      "Covariance Type:            nonrobust                                         \n",
      "==============================================================================\n",
      "                 coef    std err          t      P>|t|      [0.025      0.975]\n",
      "------------------------------------------------------------------------------\n",
      "const       6.882e+04   6901.873      9.972      0.000    5.53e+04    8.24e+04\n",
      "Discounts      7.6642      0.261     29.369      0.000       7.152       8.177\n",
      "==============================================================================\n",
      "Omnibus:                      416.558   Durbin-Watson:                   1.477\n",
      "Prob(Omnibus):                  0.000   Jarque-Bera (JB):             2999.316\n",
      "Skew:                           2.691   Prob(JB):                         0.00\n",
      "Kurtosis:                      11.594   Cond. No.                     3.05e+04\n",
      "==============================================================================\n",
      "\n",
      "Notes:\n",
      "[1] Standard Errors assume that the covariance matrix of the errors is correctly specified.\n",
      "[2] The condition number is large, 3.05e+04. This might indicate that there are\n",
      "strong multicollinearity or other numerical problems.\n"
     ]
    }
   ],
   "source": [
    "print(model.summary())"
   ]
  },
  {
   "cell_type": "markdown",
   "metadata": {},
   "source": [
    "### Correlation "
   ]
  },
  {
   "cell_type": "code",
   "execution_count": 836,
   "metadata": {},
   "outputs": [],
   "source": [
    "df_model = pd.get_dummies(df, columns=['Segment', 'Country', 'Product'], drop_first=True)"
   ]
  },
  {
   "cell_type": "code",
   "execution_count": 837,
   "metadata": {},
   "outputs": [],
   "source": [
    "df_model = df_model.replace({' None ': None}, regex=True)"
   ]
  },
  {
   "cell_type": "code",
   "execution_count": 838,
   "metadata": {},
   "outputs": [],
   "source": [
    "df_model['Discount Band'] = df_model['Discount Band'].str.strip()\n"
   ]
  },
  {
   "cell_type": "code",
   "execution_count": 839,
   "metadata": {},
   "outputs": [],
   "source": [
    "df_model = pd.get_dummies(df_model, columns=['Discount Band'], drop_first=True)"
   ]
  },
  {
   "cell_type": "code",
   "execution_count": 840,
   "metadata": {},
   "outputs": [],
   "source": [
    "correlation_matrix = df_model.corr()"
   ]
  },
  {
   "cell_type": "code",
   "execution_count": 841,
   "metadata": {},
   "outputs": [
    {
     "name": "stdout",
     "output_type": "stream",
     "text": [
      "                                  Units Sold  Manufacturing Price  Sale Price  \\\n",
      "Units Sold                              1.00                -0.03       -0.07   \n",
      "Manufacturing Price                    -0.03                 1.00        0.07   \n",
      "Sale Price                             -0.07                 0.07        1.00   \n",
      "Gross Sales                             0.33                 0.05        0.81   \n",
      "Discounts                               0.25                 0.02        0.64   \n",
      "Sales                                   0.33                 0.05        0.81   \n",
      "COGS                                    0.33                 0.05        0.80   \n",
      "Profit                                  0.27                 0.07        0.68   \n",
      "Sales_Predicted                         0.25                 0.02        0.64   \n",
      "Segment_Enterprise                      0.04                 0.00        0.02   \n",
      "Segment_Government                     -0.04                 0.00        0.05   \n",
      "Segment_Midmarket                       0.05                -0.03       -0.31   \n",
      "Segment_Small Business                 -0.04                 0.03        0.54   \n",
      "Country_France                          0.06                -0.00        0.00   \n",
      "Country_Germany                        -0.10                -0.00        0.00   \n",
      "Country_Mexico                         -0.09                -0.00       -0.00   \n",
      "Country_United States of America        0.03                 0.02        0.00   \n",
      "Product_ Carretera                     -0.01                -0.34       -0.02   \n",
      "Product_ Montana                        0.02                -0.33       -0.00   \n",
      "Product_ Paseo                          0.05                -0.51       -0.05   \n",
      "Product_ VTT                           -0.03                 0.61        0.06   \n",
      "Product_ Velo                          -0.06                 0.09       -0.01   \n",
      "Discount Band_Low                       0.02                -0.06        0.06   \n",
      "Discount Band_Medium                   -0.03                 0.02       -0.01   \n",
      "\n",
      "                                  Gross Sales  Discounts  Sales  COGS  Profit  \\\n",
      "Units Sold                               0.33       0.25   0.33  0.33    0.27   \n",
      "Manufacturing Price                      0.05       0.02   0.05  0.05    0.07   \n",
      "Sale Price                               0.81       0.64   0.81  0.80    0.68   \n",
      "Gross Sales                              1.00       0.78   1.00  0.99    0.83   \n",
      "Discounts                                0.78       1.00   0.74  0.78    0.44   \n",
      "Sales                                    1.00       0.74   1.00  0.99    0.85   \n",
      "COGS                                     0.99       0.78   0.99  1.00    0.78   \n",
      "Profit                                   0.83       0.44   0.85  0.78    1.00   \n",
      "Sales_Predicted                          0.78       1.00   0.74  0.78    0.44   \n",
      "Segment_Enterprise                       0.05       0.03   0.05  0.11   -0.16   \n",
      "Segment_Government                       0.02      -0.01   0.02 -0.04    0.24   \n",
      "Segment_Midmarket                       -0.25      -0.20  -0.25 -0.26   -0.20   \n",
      "Segment_Small Business                   0.44       0.39   0.44  0.48    0.15   \n",
      "Country_France                           0.00      -0.02   0.01  0.00    0.03   \n",
      "Country_Germany                         -0.01      -0.07  -0.00 -0.01    0.02   \n",
      "Country_Mexico                          -0.04      -0.01  -0.04 -0.04   -0.04   \n",
      "Country_United States of America         0.02       0.06   0.02  0.03   -0.03   \n",
      "Product_ Carretera                      -0.03      -0.02  -0.03 -0.03   -0.02   \n",
      "Product_ Montana                        -0.01      -0.01  -0.01 -0.00   -0.02   \n",
      "Product_ Paseo                          -0.02      -0.01  -0.02 -0.02   -0.02   \n",
      "Product_ VTT                             0.03       0.00   0.03  0.03    0.04   \n",
      "Product_ Velo                           -0.00       0.02  -0.00  0.00   -0.03   \n",
      "Discount Band_Low                        0.09      -0.18   0.11  0.09    0.17   \n",
      "Discount Band_Medium                    -0.03      -0.02  -0.03 -0.03   -0.04   \n",
      "\n",
      "                                  Sales_Predicted  Segment_Enterprise  ...  \\\n",
      "Units Sold                                   0.25                0.04  ...   \n",
      "Manufacturing Price                          0.02                0.00  ...   \n",
      "Sale Price                                   0.64                0.02  ...   \n",
      "Gross Sales                                  0.78                0.05  ...   \n",
      "Discounts                                    1.00                0.03  ...   \n",
      "Sales                                        0.74                0.05  ...   \n",
      "COGS                                         0.78                0.11  ...   \n",
      "Profit                                       0.44               -0.16  ...   \n",
      "Sales_Predicted                              1.00                0.03  ...   \n",
      "Segment_Enterprise                           0.03                1.00  ...   \n",
      "Segment_Government                          -0.01               -0.35  ...   \n",
      "Segment_Midmarket                           -0.20               -0.16  ...   \n",
      "Segment_Small Business                       0.39               -0.16  ...   \n",
      "Country_France                              -0.02               -0.00  ...   \n",
      "Country_Germany                             -0.07               -0.00  ...   \n",
      "Country_Mexico                              -0.01               -0.02  ...   \n",
      "Country_United States of America             0.06                0.01  ...   \n",
      "Product_ Carretera                          -0.02                0.03  ...   \n",
      "Product_ Montana                            -0.01               -0.02  ...   \n",
      "Product_ Paseo                              -0.01               -0.04  ...   \n",
      "Product_ VTT                                 0.00               -0.01  ...   \n",
      "Product_ Velo                                0.02                0.07  ...   \n",
      "Discount Band_Low                           -0.18                0.10  ...   \n",
      "Discount Band_Medium                        -0.02               -0.07  ...   \n",
      "\n",
      "                                  Country_Germany  Country_Mexico  \\\n",
      "Units Sold                                  -0.10           -0.09   \n",
      "Manufacturing Price                         -0.00           -0.00   \n",
      "Sale Price                                   0.00           -0.00   \n",
      "Gross Sales                                 -0.01           -0.04   \n",
      "Discounts                                   -0.07           -0.01   \n",
      "Sales                                       -0.00           -0.04   \n",
      "COGS                                        -0.01           -0.04   \n",
      "Profit                                       0.02           -0.04   \n",
      "Sales_Predicted                             -0.07           -0.01   \n",
      "Segment_Enterprise                          -0.00           -0.02   \n",
      "Segment_Government                           0.00            0.01   \n",
      "Segment_Midmarket                            0.00            0.00   \n",
      "Segment_Small Business                      -0.00            0.00   \n",
      "Country_France                              -0.25           -0.25   \n",
      "Country_Germany                              1.00           -0.25   \n",
      "Country_Mexico                              -0.25            1.00   \n",
      "Country_United States of America            -0.25           -0.25   \n",
      "Product_ Carretera                           0.01           -0.00   \n",
      "Product_ Montana                            -0.00            0.01   \n",
      "Product_ Paseo                              -0.01           -0.00   \n",
      "Product_ VTT                                 0.00           -0.01   \n",
      "Product_ Velo                                0.00            0.01   \n",
      "Discount Band_Low                            0.02           -0.03   \n",
      "Discount Band_Medium                         0.01           -0.01   \n",
      "\n",
      "                                  Country_United States of America  \\\n",
      "Units Sold                                                    0.03   \n",
      "Manufacturing Price                                           0.02   \n",
      "Sale Price                                                    0.00   \n",
      "Gross Sales                                                   0.02   \n",
      "Discounts                                                     0.06   \n",
      "Sales                                                         0.02   \n",
      "COGS                                                          0.03   \n",
      "Profit                                                       -0.03   \n",
      "Sales_Predicted                                               0.06   \n",
      "Segment_Enterprise                                            0.01   \n",
      "Segment_Government                                           -0.00   \n",
      "Segment_Midmarket                                            -0.00   \n",
      "Segment_Small Business                                       -0.00   \n",
      "Country_France                                               -0.25   \n",
      "Country_Germany                                              -0.25   \n",
      "Country_Mexico                                               -0.25   \n",
      "Country_United States of America                              1.00   \n",
      "Product_ Carretera                                           -0.02   \n",
      "Product_ Montana                                             -0.02   \n",
      "Product_ Paseo                                               -0.00   \n",
      "Product_ VTT                                                  0.01   \n",
      "Product_ Velo                                                 0.01   \n",
      "Discount Band_Low                                             0.02   \n",
      "Discount Band_Medium                                         -0.01   \n",
      "\n",
      "                                  Product_ Carretera   Product_ Montana   \\\n",
      "Units Sold                                      -0.01               0.02   \n",
      "Manufacturing Price                             -0.34              -0.33   \n",
      "Sale Price                                      -0.02              -0.00   \n",
      "Gross Sales                                     -0.03              -0.01   \n",
      "Discounts                                       -0.02              -0.01   \n",
      "Sales                                           -0.03              -0.01   \n",
      "COGS                                            -0.03              -0.00   \n",
      "Profit                                          -0.02              -0.02   \n",
      "Sales_Predicted                                 -0.02              -0.01   \n",
      "Segment_Enterprise                               0.03              -0.02   \n",
      "Segment_Government                              -0.04               0.02   \n",
      "Segment_Midmarket                               -0.02              -0.01   \n",
      "Segment_Small Business                          -0.02               0.02   \n",
      "Country_France                                  -0.01               0.02   \n",
      "Country_Germany                                  0.01              -0.00   \n",
      "Country_Mexico                                  -0.00               0.01   \n",
      "Country_United States of America                -0.02              -0.02   \n",
      "Product_ Carretera                               1.00              -0.15   \n",
      "Product_ Montana                                -0.15               1.00   \n",
      "Product_ Paseo                                  -0.25              -0.25   \n",
      "Product_ VTT                                    -0.17              -0.17   \n",
      "Product_ Velo                                   -0.17              -0.17   \n",
      "Discount Band_Low                                0.03               0.00   \n",
      "Discount Band_Medium                            -0.02              -0.00   \n",
      "\n",
      "                                  Product_ Paseo   Product_ VTT   \\\n",
      "Units Sold                                   0.05          -0.03   \n",
      "Manufacturing Price                         -0.51           0.61   \n",
      "Sale Price                                  -0.05           0.06   \n",
      "Gross Sales                                 -0.02           0.03   \n",
      "Discounts                                   -0.01           0.00   \n",
      "Sales                                       -0.02           0.03   \n",
      "COGS                                        -0.02           0.03   \n",
      "Profit                                      -0.02           0.04   \n",
      "Sales_Predicted                             -0.01           0.00   \n",
      "Segment_Enterprise                          -0.04          -0.01   \n",
      "Segment_Government                           0.01          -0.01   \n",
      "Segment_Midmarket                            0.07          -0.02   \n",
      "Segment_Small Business                      -0.02           0.06   \n",
      "Country_France                              -0.01           0.00   \n",
      "Country_Germany                             -0.01           0.00   \n",
      "Country_Mexico                              -0.00          -0.01   \n",
      "Country_United States of America            -0.00           0.01   \n",
      "Product_ Carretera                          -0.25          -0.17   \n",
      "Product_ Montana                            -0.25          -0.17   \n",
      "Product_ Paseo                               1.00          -0.27   \n",
      "Product_ VTT                                -0.27           1.00   \n",
      "Product_ Velo                               -0.27          -0.19   \n",
      "Discount Band_Low                            0.05           0.02   \n",
      "Discount Band_Medium                        -0.03          -0.01   \n",
      "\n",
      "                                  Product_ Velo   Discount Band_Low  \\\n",
      "Units Sold                                 -0.06               0.02   \n",
      "Manufacturing Price                         0.09              -0.06   \n",
      "Sale Price                                 -0.01               0.06   \n",
      "Gross Sales                                -0.00               0.09   \n",
      "Discounts                                   0.02              -0.18   \n",
      "Sales                                      -0.00               0.11   \n",
      "COGS                                        0.00               0.09   \n",
      "Profit                                     -0.03               0.17   \n",
      "Sales_Predicted                             0.02              -0.18   \n",
      "Segment_Enterprise                          0.07               0.10   \n",
      "Segment_Government                         -0.01              -0.07   \n",
      "Segment_Midmarket                          -0.02              -0.04   \n",
      "Segment_Small Business                     -0.02               0.02   \n",
      "Country_France                              0.00              -0.01   \n",
      "Country_Germany                             0.00               0.02   \n",
      "Country_Mexico                              0.01              -0.03   \n",
      "Country_United States of America            0.01               0.02   \n",
      "Product_ Carretera                         -0.17               0.03   \n",
      "Product_ Montana                           -0.17               0.00   \n",
      "Product_ Paseo                             -0.27               0.05   \n",
      "Product_ VTT                               -0.19               0.02   \n",
      "Product_ Velo                               1.00              -0.04   \n",
      "Discount Band_Low                          -0.04               1.00   \n",
      "Discount Band_Medium                        0.05              -0.39   \n",
      "\n",
      "                                  Discount Band_Medium  \n",
      "Units Sold                                       -0.03  \n",
      "Manufacturing Price                               0.02  \n",
      "Sale Price                                       -0.01  \n",
      "Gross Sales                                      -0.03  \n",
      "Discounts                                        -0.02  \n",
      "Sales                                            -0.03  \n",
      "COGS                                             -0.03  \n",
      "Profit                                           -0.04  \n",
      "Sales_Predicted                                  -0.02  \n",
      "Segment_Enterprise                               -0.07  \n",
      "Segment_Government                                0.09  \n",
      "Segment_Midmarket                                -0.06  \n",
      "Segment_Small Business                            0.04  \n",
      "Country_France                                    0.05  \n",
      "Country_Germany                                   0.01  \n",
      "Country_Mexico                                   -0.01  \n",
      "Country_United States of America                 -0.01  \n",
      "Product_ Carretera                               -0.02  \n",
      "Product_ Montana                                 -0.00  \n",
      "Product_ Paseo                                   -0.03  \n",
      "Product_ VTT                                     -0.01  \n",
      "Product_ Velo                                     0.05  \n",
      "Discount Band_Low                                -0.39  \n",
      "Discount Band_Medium                              1.00  \n",
      "\n",
      "[24 rows x 24 columns]\n"
     ]
    }
   ],
   "source": [
    "print(correlation_matrix.round(2))"
   ]
  },
  {
   "cell_type": "code",
   "execution_count": 842,
   "metadata": {},
   "outputs": [
    {
     "data": {
      "application/vnd.plotly.v1+json": {
       "config": {
        "plotlyServerURL": "https://plot.ly"
       },
       "data": [
        {
         "coloraxis": "coloraxis",
         "hovertemplate": "x: %{x}<br>y: %{y}<br>color: %{z}<extra></extra>",
         "name": "0",
         "texttemplate": "%{z:.2f}",
         "type": "heatmap",
         "x": [
          "Units Sold",
          "Manufacturing Price",
          "Sale Price",
          "Gross Sales",
          "Discounts",
          "Sales",
          "COGS",
          "Profit",
          "Sales_Predicted",
          "Segment_Enterprise",
          "Segment_Government",
          "Segment_Midmarket",
          "Segment_Small Business",
          "Country_France",
          "Country_Germany",
          "Country_Mexico",
          "Country_United States of America",
          "Product_ Carretera ",
          "Product_ Montana ",
          "Product_ Paseo ",
          "Product_ VTT ",
          "Product_ Velo ",
          "Discount Band_Low",
          "Discount Band_Medium"
         ],
         "xaxis": "x",
         "y": [
          "Units Sold",
          "Manufacturing Price",
          "Sale Price",
          "Gross Sales",
          "Discounts",
          "Sales",
          "COGS",
          "Profit",
          "Sales_Predicted",
          "Segment_Enterprise",
          "Segment_Government",
          "Segment_Midmarket",
          "Segment_Small Business",
          "Country_France",
          "Country_Germany",
          "Country_Mexico",
          "Country_United States of America",
          "Product_ Carretera ",
          "Product_ Montana ",
          "Product_ Paseo ",
          "Product_ VTT ",
          "Product_ Velo ",
          "Discount Band_Low",
          "Discount Band_Medium"
         ],
         "yaxis": "y",
         "z": {
          "bdata": "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",
          "dtype": "f8",
          "shape": "24, 24"
         }
        }
       ],
       "layout": {
        "coloraxis": {
         "colorscale": [
          [
           0,
           "rgb(5,48,97)"
          ],
          [
           0.1,
           "rgb(33,102,172)"
          ],
          [
           0.2,
           "rgb(67,147,195)"
          ],
          [
           0.3,
           "rgb(146,197,222)"
          ],
          [
           0.4,
           "rgb(209,229,240)"
          ],
          [
           0.5,
           "rgb(247,247,247)"
          ],
          [
           0.6,
           "rgb(253,219,199)"
          ],
          [
           0.7,
           "rgb(244,165,130)"
          ],
          [
           0.8,
           "rgb(214,96,77)"
          ],
          [
           0.9,
           "rgb(178,24,43)"
          ],
          [
           1,
           "rgb(103,0,31)"
          ]
         ]
        },
        "height": 1000,
        "template": {
         "data": {
          "bar": [
           {
            "error_x": {
             "color": "#2a3f5f"
            },
            "error_y": {
             "color": "#2a3f5f"
            },
            "marker": {
             "line": {
              "color": "#E5ECF6",
              "width": 0.5
             },
             "pattern": {
              "fillmode": "overlay",
              "size": 10,
              "solidity": 0.2
             }
            },
            "type": "bar"
           }
          ],
          "barpolar": [
           {
            "marker": {
             "line": {
              "color": "#E5ECF6",
              "width": 0.5
             },
             "pattern": {
              "fillmode": "overlay",
              "size": 10,
              "solidity": 0.2
             }
            },
            "type": "barpolar"
           }
          ],
          "carpet": [
           {
            "aaxis": {
             "endlinecolor": "#2a3f5f",
             "gridcolor": "white",
             "linecolor": "white",
             "minorgridcolor": "white",
             "startlinecolor": "#2a3f5f"
            },
            "baxis": {
             "endlinecolor": "#2a3f5f",
             "gridcolor": "white",
             "linecolor": "white",
             "minorgridcolor": "white",
             "startlinecolor": "#2a3f5f"
            },
            "type": "carpet"
           }
          ],
          "choropleth": [
           {
            "colorbar": {
             "outlinewidth": 0,
             "ticks": ""
            },
            "type": "choropleth"
           }
          ],
          "contour": [
           {
            "colorbar": {
             "outlinewidth": 0,
             "ticks": ""
            },
            "colorscale": [
             [
              0,
              "#0d0887"
             ],
             [
              0.1111111111111111,
              "#46039f"
             ],
             [
              0.2222222222222222,
              "#7201a8"
             ],
             [
              0.3333333333333333,
              "#9c179e"
             ],
             [
              0.4444444444444444,
              "#bd3786"
             ],
             [
              0.5555555555555556,
              "#d8576b"
             ],
             [
              0.6666666666666666,
              "#ed7953"
             ],
             [
              0.7777777777777778,
              "#fb9f3a"
             ],
             [
              0.8888888888888888,
              "#fdca26"
             ],
             [
              1,
              "#f0f921"
             ]
            ],
            "type": "contour"
           }
          ],
          "contourcarpet": [
           {
            "colorbar": {
             "outlinewidth": 0,
             "ticks": ""
            },
            "type": "contourcarpet"
           }
          ],
          "heatmap": [
           {
            "colorbar": {
             "outlinewidth": 0,
             "ticks": ""
            },
            "colorscale": [
             [
              0,
              "#0d0887"
             ],
             [
              0.1111111111111111,
              "#46039f"
             ],
             [
              0.2222222222222222,
              "#7201a8"
             ],
             [
              0.3333333333333333,
              "#9c179e"
             ],
             [
              0.4444444444444444,
              "#bd3786"
             ],
             [
              0.5555555555555556,
              "#d8576b"
             ],
             [
              0.6666666666666666,
              "#ed7953"
             ],
             [
              0.7777777777777778,
              "#fb9f3a"
             ],
             [
              0.8888888888888888,
              "#fdca26"
             ],
             [
              1,
              "#f0f921"
             ]
            ],
            "type": "heatmap"
           }
          ],
          "histogram": [
           {
            "marker": {
             "pattern": {
              "fillmode": "overlay",
              "size": 10,
              "solidity": 0.2
             }
            },
            "type": "histogram"
           }
          ],
          "histogram2d": [
           {
            "colorbar": {
             "outlinewidth": 0,
             "ticks": ""
            },
            "colorscale": [
             [
              0,
              "#0d0887"
             ],
             [
              0.1111111111111111,
              "#46039f"
             ],
             [
              0.2222222222222222,
              "#7201a8"
             ],
             [
              0.3333333333333333,
              "#9c179e"
             ],
             [
              0.4444444444444444,
              "#bd3786"
             ],
             [
              0.5555555555555556,
              "#d8576b"
             ],
             [
              0.6666666666666666,
              "#ed7953"
             ],
             [
              0.7777777777777778,
              "#fb9f3a"
             ],
             [
              0.8888888888888888,
              "#fdca26"
             ],
             [
              1,
              "#f0f921"
             ]
            ],
            "type": "histogram2d"
           }
          ],
          "histogram2dcontour": [
           {
            "colorbar": {
             "outlinewidth": 0,
             "ticks": ""
            },
            "colorscale": [
             [
              0,
              "#0d0887"
             ],
             [
              0.1111111111111111,
              "#46039f"
             ],
             [
              0.2222222222222222,
              "#7201a8"
             ],
             [
              0.3333333333333333,
              "#9c179e"
             ],
             [
              0.4444444444444444,
              "#bd3786"
             ],
             [
              0.5555555555555556,
              "#d8576b"
             ],
             [
              0.6666666666666666,
              "#ed7953"
             ],
             [
              0.7777777777777778,
              "#fb9f3a"
             ],
             [
              0.8888888888888888,
              "#fdca26"
             ],
             [
              1,
              "#f0f921"
             ]
            ],
            "type": "histogram2dcontour"
           }
          ],
          "mesh3d": [
           {
            "colorbar": {
             "outlinewidth": 0,
             "ticks": ""
            },
            "type": "mesh3d"
           }
          ],
          "parcoords": [
           {
            "line": {
             "colorbar": {
              "outlinewidth": 0,
              "ticks": ""
             }
            },
            "type": "parcoords"
           }
          ],
          "pie": [
           {
            "automargin": true,
            "type": "pie"
           }
          ],
          "scatter": [
           {
            "fillpattern": {
             "fillmode": "overlay",
             "size": 10,
             "solidity": 0.2
            },
            "type": "scatter"
           }
          ],
          "scatter3d": [
           {
            "line": {
             "colorbar": {
              "outlinewidth": 0,
              "ticks": ""
             }
            },
            "marker": {
             "colorbar": {
              "outlinewidth": 0,
              "ticks": ""
             }
            },
            "type": "scatter3d"
           }
          ],
          "scattercarpet": [
           {
            "marker": {
             "colorbar": {
              "outlinewidth": 0,
              "ticks": ""
             }
            },
            "type": "scattercarpet"
           }
          ],
          "scattergeo": [
           {
            "marker": {
             "colorbar": {
              "outlinewidth": 0,
              "ticks": ""
             }
            },
            "type": "scattergeo"
           }
          ],
          "scattergl": [
           {
            "marker": {
             "colorbar": {
              "outlinewidth": 0,
              "ticks": ""
             }
            },
            "type": "scattergl"
           }
          ],
          "scattermap": [
           {
            "marker": {
             "colorbar": {
              "outlinewidth": 0,
              "ticks": ""
             }
            },
            "type": "scattermap"
           }
          ],
          "scattermapbox": [
           {
            "marker": {
             "colorbar": {
              "outlinewidth": 0,
              "ticks": ""
             }
            },
            "type": "scattermapbox"
           }
          ],
          "scatterpolar": [
           {
            "marker": {
             "colorbar": {
              "outlinewidth": 0,
              "ticks": ""
             }
            },
            "type": "scatterpolar"
           }
          ],
          "scatterpolargl": [
           {
            "marker": {
             "colorbar": {
              "outlinewidth": 0,
              "ticks": ""
             }
            },
            "type": "scatterpolargl"
           }
          ],
          "scatterternary": [
           {
            "marker": {
             "colorbar": {
              "outlinewidth": 0,
              "ticks": ""
             }
            },
            "type": "scatterternary"
           }
          ],
          "surface": [
           {
            "colorbar": {
             "outlinewidth": 0,
             "ticks": ""
            },
            "colorscale": [
             [
              0,
              "#0d0887"
             ],
             [
              0.1111111111111111,
              "#46039f"
             ],
             [
              0.2222222222222222,
              "#7201a8"
             ],
             [
              0.3333333333333333,
              "#9c179e"
             ],
             [
              0.4444444444444444,
              "#bd3786"
             ],
             [
              0.5555555555555556,
              "#d8576b"
             ],
             [
              0.6666666666666666,
              "#ed7953"
             ],
             [
              0.7777777777777778,
              "#fb9f3a"
             ],
             [
              0.8888888888888888,
              "#fdca26"
             ],
             [
              1,
              "#f0f921"
             ]
            ],
            "type": "surface"
           }
          ],
          "table": [
           {
            "cells": {
             "fill": {
              "color": "#EBF0F8"
             },
             "line": {
              "color": "white"
             }
            },
            "header": {
             "fill": {
              "color": "#C8D4E3"
             },
             "line": {
              "color": "white"
             }
            },
            "type": "table"
           }
          ]
         },
         "layout": {
          "annotationdefaults": {
           "arrowcolor": "#2a3f5f",
           "arrowhead": 0,
           "arrowwidth": 1
          },
          "autotypenumbers": "strict",
          "coloraxis": {
           "colorbar": {
            "outlinewidth": 0,
            "ticks": ""
           }
          },
          "colorscale": {
           "diverging": [
            [
             0,
             "#8e0152"
            ],
            [
             0.1,
             "#c51b7d"
            ],
            [
             0.2,
             "#de77ae"
            ],
            [
             0.3,
             "#f1b6da"
            ],
            [
             0.4,
             "#fde0ef"
            ],
            [
             0.5,
             "#f7f7f7"
            ],
            [
             0.6,
             "#e6f5d0"
            ],
            [
             0.7,
             "#b8e186"
            ],
            [
             0.8,
             "#7fbc41"
            ],
            [
             0.9,
             "#4d9221"
            ],
            [
             1,
             "#276419"
            ]
           ],
           "sequential": [
            [
             0,
             "#0d0887"
            ],
            [
             0.1111111111111111,
             "#46039f"
            ],
            [
             0.2222222222222222,
             "#7201a8"
            ],
            [
             0.3333333333333333,
             "#9c179e"
            ],
            [
             0.4444444444444444,
             "#bd3786"
            ],
            [
             0.5555555555555556,
             "#d8576b"
            ],
            [
             0.6666666666666666,
             "#ed7953"
            ],
            [
             0.7777777777777778,
             "#fb9f3a"
            ],
            [
             0.8888888888888888,
             "#fdca26"
            ],
            [
             1,
             "#f0f921"
            ]
           ],
           "sequentialminus": [
            [
             0,
             "#0d0887"
            ],
            [
             0.1111111111111111,
             "#46039f"
            ],
            [
             0.2222222222222222,
             "#7201a8"
            ],
            [
             0.3333333333333333,
             "#9c179e"
            ],
            [
             0.4444444444444444,
             "#bd3786"
            ],
            [
             0.5555555555555556,
             "#d8576b"
            ],
            [
             0.6666666666666666,
             "#ed7953"
            ],
            [
             0.7777777777777778,
             "#fb9f3a"
            ],
            [
             0.8888888888888888,
             "#fdca26"
            ],
            [
             1,
             "#f0f921"
            ]
           ]
          },
          "colorway": [
           "#636efa",
           "#EF553B",
           "#00cc96",
           "#ab63fa",
           "#FFA15A",
           "#19d3f3",
           "#FF6692",
           "#B6E880",
           "#FF97FF",
           "#FECB52"
          ],
          "font": {
           "color": "#2a3f5f"
          },
          "geo": {
           "bgcolor": "white",
           "lakecolor": "white",
           "landcolor": "#E5ECF6",
           "showlakes": true,
           "showland": true,
           "subunitcolor": "white"
          },
          "hoverlabel": {
           "align": "left"
          },
          "hovermode": "closest",
          "mapbox": {
           "style": "light"
          },
          "paper_bgcolor": "white",
          "plot_bgcolor": "#E5ECF6",
          "polar": {
           "angularaxis": {
            "gridcolor": "white",
            "linecolor": "white",
            "ticks": ""
           },
           "bgcolor": "#E5ECF6",
           "radialaxis": {
            "gridcolor": "white",
            "linecolor": "white",
            "ticks": ""
           }
          },
          "scene": {
           "xaxis": {
            "backgroundcolor": "#E5ECF6",
            "gridcolor": "white",
            "gridwidth": 2,
            "linecolor": "white",
            "showbackground": true,
            "ticks": "",
            "zerolinecolor": "white"
           },
           "yaxis": {
            "backgroundcolor": "#E5ECF6",
            "gridcolor": "white",
            "gridwidth": 2,
            "linecolor": "white",
            "showbackground": true,
            "ticks": "",
            "zerolinecolor": "white"
           },
           "zaxis": {
            "backgroundcolor": "#E5ECF6",
            "gridcolor": "white",
            "gridwidth": 2,
            "linecolor": "white",
            "showbackground": true,
            "ticks": "",
            "zerolinecolor": "white"
           }
          },
          "shapedefaults": {
           "line": {
            "color": "#2a3f5f"
           }
          },
          "ternary": {
           "aaxis": {
            "gridcolor": "white",
            "linecolor": "white",
            "ticks": ""
           },
           "baxis": {
            "gridcolor": "white",
            "linecolor": "white",
            "ticks": ""
           },
           "bgcolor": "#E5ECF6",
           "caxis": {
            "gridcolor": "white",
            "linecolor": "white",
            "ticks": ""
           }
          },
          "title": {
           "x": 0.05
          },
          "xaxis": {
           "automargin": true,
           "gridcolor": "white",
           "linecolor": "white",
           "ticks": "",
           "title": {
            "standoff": 15
           },
           "zerolinecolor": "white",
           "zerolinewidth": 2
          },
          "yaxis": {
           "automargin": true,
           "gridcolor": "white",
           "linecolor": "white",
           "ticks": "",
           "title": {
            "standoff": 15
           },
           "zerolinecolor": "white",
           "zerolinewidth": 2
          }
         }
        },
        "title": {
         "text": "Correlation Matrix Heatmap"
        },
        "width": 1000,
        "xaxis": {
         "anchor": "y",
         "domain": [
          0,
          1
         ],
         "title": {
          "text": "Features"
         }
        },
        "yaxis": {
         "anchor": "x",
         "autorange": "reversed",
         "domain": [
          0,
          1
         ],
         "title": {
          "text": "Features"
         }
        }
       }
      }
     },
     "metadata": {},
     "output_type": "display_data"
    }
   ],
   "source": [
    "fig = px.imshow(\n",
    "    correlation_matrix,\n",
    "    text_auto=\".2f\",\n",
    "    color_continuous_scale=\"RdBu_r\",\n",
    "    title=\"Correlation Matrix Heatmap\",\n",
    "    aspect=\"auto\"\n",
    ")\n",
    "\n",
    "fig.update_layout(\n",
    "    xaxis_title=\"Features\",\n",
    "    yaxis_title=\"Features\",\n",
    "    width=1000,\n",
    "    height=1000,\n",
    ")\n",
    "\n",
    "fig.show()\n"
   ]
  },
  {
   "cell_type": "markdown",
   "metadata": {},
   "source": [
    "### Predicitive model"
   ]
  },
  {
   "cell_type": "markdown",
   "metadata": {},
   "source": [
    "#### Linear Regression"
   ]
  },
  {
   "cell_type": "code",
   "execution_count": 843,
   "metadata": {},
   "outputs": [],
   "source": [
    "X = df_model.drop(columns=['Sales', 'Sales_Predicted', 'Gross Sales', 'COGS', 'Profit', 'Sale Price', 'Units Sold'])\n",
    "\n",
    "y = df_model['Sales']\n",
    "\n",
    "X_validation = X.iloc[-20:]\n",
    "y_validation = y.iloc[-20:]\n",
    "\n",
    "X_train = X.iloc[:-20]\n",
    "y_train = y.iloc[:-20]\n"
   ]
  },
  {
   "cell_type": "code",
   "execution_count": 844,
   "metadata": {},
   "outputs": [
    {
     "data": {
      "text/html": [
       "<style>#sk-container-id-19 {\n",
       "  /* Definition of color scheme common for light and dark mode */\n",
       "  --sklearn-color-text: #000;\n",
       "  --sklearn-color-text-muted: #666;\n",
       "  --sklearn-color-line: gray;\n",
       "  /* Definition of color scheme for unfitted estimators */\n",
       "  --sklearn-color-unfitted-level-0: #fff5e6;\n",
       "  --sklearn-color-unfitted-level-1: #f6e4d2;\n",
       "  --sklearn-color-unfitted-level-2: #ffe0b3;\n",
       "  --sklearn-color-unfitted-level-3: chocolate;\n",
       "  /* Definition of color scheme for fitted estimators */\n",
       "  --sklearn-color-fitted-level-0: #f0f8ff;\n",
       "  --sklearn-color-fitted-level-1: #d4ebff;\n",
       "  --sklearn-color-fitted-level-2: #b3dbfd;\n",
       "  --sklearn-color-fitted-level-3: cornflowerblue;\n",
       "\n",
       "  /* Specific color for light theme */\n",
       "  --sklearn-color-text-on-default-background: var(--sg-text-color, var(--theme-code-foreground, var(--jp-content-font-color1, black)));\n",
       "  --sklearn-color-background: var(--sg-background-color, var(--theme-background, var(--jp-layout-color0, white)));\n",
       "  --sklearn-color-border-box: var(--sg-text-color, var(--theme-code-foreground, var(--jp-content-font-color1, black)));\n",
       "  --sklearn-color-icon: #696969;\n",
       "\n",
       "  @media (prefers-color-scheme: dark) {\n",
       "    /* Redefinition of color scheme for dark theme */\n",
       "    --sklearn-color-text-on-default-background: var(--sg-text-color, var(--theme-code-foreground, var(--jp-content-font-color1, white)));\n",
       "    --sklearn-color-background: var(--sg-background-color, var(--theme-background, var(--jp-layout-color0, #111)));\n",
       "    --sklearn-color-border-box: var(--sg-text-color, var(--theme-code-foreground, var(--jp-content-font-color1, white)));\n",
       "    --sklearn-color-icon: #878787;\n",
       "  }\n",
       "}\n",
       "\n",
       "#sk-container-id-19 {\n",
       "  color: var(--sklearn-color-text);\n",
       "}\n",
       "\n",
       "#sk-container-id-19 pre {\n",
       "  padding: 0;\n",
       "}\n",
       "\n",
       "#sk-container-id-19 input.sk-hidden--visually {\n",
       "  border: 0;\n",
       "  clip: rect(1px 1px 1px 1px);\n",
       "  clip: rect(1px, 1px, 1px, 1px);\n",
       "  height: 1px;\n",
       "  margin: -1px;\n",
       "  overflow: hidden;\n",
       "  padding: 0;\n",
       "  position: absolute;\n",
       "  width: 1px;\n",
       "}\n",
       "\n",
       "#sk-container-id-19 div.sk-dashed-wrapped {\n",
       "  border: 1px dashed var(--sklearn-color-line);\n",
       "  margin: 0 0.4em 0.5em 0.4em;\n",
       "  box-sizing: border-box;\n",
       "  padding-bottom: 0.4em;\n",
       "  background-color: var(--sklearn-color-background);\n",
       "}\n",
       "\n",
       "#sk-container-id-19 div.sk-container {\n",
       "  /* jupyter's `normalize.less` sets `[hidden] { display: none; }`\n",
       "     but bootstrap.min.css set `[hidden] { display: none !important; }`\n",
       "     so we also need the `!important` here to be able to override the\n",
       "     default hidden behavior on the sphinx rendered scikit-learn.org.\n",
       "     See: https://github.com/scikit-learn/scikit-learn/issues/21755 */\n",
       "  display: inline-block !important;\n",
       "  position: relative;\n",
       "}\n",
       "\n",
       "#sk-container-id-19 div.sk-text-repr-fallback {\n",
       "  display: none;\n",
       "}\n",
       "\n",
       "div.sk-parallel-item,\n",
       "div.sk-serial,\n",
       "div.sk-item {\n",
       "  /* draw centered vertical line to link estimators */\n",
       "  background-image: linear-gradient(var(--sklearn-color-text-on-default-background), var(--sklearn-color-text-on-default-background));\n",
       "  background-size: 2px 100%;\n",
       "  background-repeat: no-repeat;\n",
       "  background-position: center center;\n",
       "}\n",
       "\n",
       "/* Parallel-specific style estimator block */\n",
       "\n",
       "#sk-container-id-19 div.sk-parallel-item::after {\n",
       "  content: \"\";\n",
       "  width: 100%;\n",
       "  border-bottom: 2px solid var(--sklearn-color-text-on-default-background);\n",
       "  flex-grow: 1;\n",
       "}\n",
       "\n",
       "#sk-container-id-19 div.sk-parallel {\n",
       "  display: flex;\n",
       "  align-items: stretch;\n",
       "  justify-content: center;\n",
       "  background-color: var(--sklearn-color-background);\n",
       "  position: relative;\n",
       "}\n",
       "\n",
       "#sk-container-id-19 div.sk-parallel-item {\n",
       "  display: flex;\n",
       "  flex-direction: column;\n",
       "}\n",
       "\n",
       "#sk-container-id-19 div.sk-parallel-item:first-child::after {\n",
       "  align-self: flex-end;\n",
       "  width: 50%;\n",
       "}\n",
       "\n",
       "#sk-container-id-19 div.sk-parallel-item:last-child::after {\n",
       "  align-self: flex-start;\n",
       "  width: 50%;\n",
       "}\n",
       "\n",
       "#sk-container-id-19 div.sk-parallel-item:only-child::after {\n",
       "  width: 0;\n",
       "}\n",
       "\n",
       "/* Serial-specific style estimator block */\n",
       "\n",
       "#sk-container-id-19 div.sk-serial {\n",
       "  display: flex;\n",
       "  flex-direction: column;\n",
       "  align-items: center;\n",
       "  background-color: var(--sklearn-color-background);\n",
       "  padding-right: 1em;\n",
       "  padding-left: 1em;\n",
       "}\n",
       "\n",
       "\n",
       "/* Toggleable style: style used for estimator/Pipeline/ColumnTransformer box that is\n",
       "clickable and can be expanded/collapsed.\n",
       "- Pipeline and ColumnTransformer use this feature and define the default style\n",
       "- Estimators will overwrite some part of the style using the `sk-estimator` class\n",
       "*/\n",
       "\n",
       "/* Pipeline and ColumnTransformer style (default) */\n",
       "\n",
       "#sk-container-id-19 div.sk-toggleable {\n",
       "  /* Default theme specific background. It is overwritten whether we have a\n",
       "  specific estimator or a Pipeline/ColumnTransformer */\n",
       "  background-color: var(--sklearn-color-background);\n",
       "}\n",
       "\n",
       "/* Toggleable label */\n",
       "#sk-container-id-19 label.sk-toggleable__label {\n",
       "  cursor: pointer;\n",
       "  display: flex;\n",
       "  width: 100%;\n",
       "  margin-bottom: 0;\n",
       "  padding: 0.5em;\n",
       "  box-sizing: border-box;\n",
       "  text-align: center;\n",
       "  align-items: start;\n",
       "  justify-content: space-between;\n",
       "  gap: 0.5em;\n",
       "}\n",
       "\n",
       "#sk-container-id-19 label.sk-toggleable__label .caption {\n",
       "  font-size: 0.6rem;\n",
       "  font-weight: lighter;\n",
       "  color: var(--sklearn-color-text-muted);\n",
       "}\n",
       "\n",
       "#sk-container-id-19 label.sk-toggleable__label-arrow:before {\n",
       "  /* Arrow on the left of the label */\n",
       "  content: \"▸\";\n",
       "  float: left;\n",
       "  margin-right: 0.25em;\n",
       "  color: var(--sklearn-color-icon);\n",
       "}\n",
       "\n",
       "#sk-container-id-19 label.sk-toggleable__label-arrow:hover:before {\n",
       "  color: var(--sklearn-color-text);\n",
       "}\n",
       "\n",
       "/* Toggleable content - dropdown */\n",
       "\n",
       "#sk-container-id-19 div.sk-toggleable__content {\n",
       "  max-height: 0;\n",
       "  max-width: 0;\n",
       "  overflow: hidden;\n",
       "  text-align: left;\n",
       "  /* unfitted */\n",
       "  background-color: var(--sklearn-color-unfitted-level-0);\n",
       "}\n",
       "\n",
       "#sk-container-id-19 div.sk-toggleable__content.fitted {\n",
       "  /* fitted */\n",
       "  background-color: var(--sklearn-color-fitted-level-0);\n",
       "}\n",
       "\n",
       "#sk-container-id-19 div.sk-toggleable__content pre {\n",
       "  margin: 0.2em;\n",
       "  border-radius: 0.25em;\n",
       "  color: var(--sklearn-color-text);\n",
       "  /* unfitted */\n",
       "  background-color: var(--sklearn-color-unfitted-level-0);\n",
       "}\n",
       "\n",
       "#sk-container-id-19 div.sk-toggleable__content.fitted pre {\n",
       "  /* unfitted */\n",
       "  background-color: var(--sklearn-color-fitted-level-0);\n",
       "}\n",
       "\n",
       "#sk-container-id-19 input.sk-toggleable__control:checked~div.sk-toggleable__content {\n",
       "  /* Expand drop-down */\n",
       "  max-height: 200px;\n",
       "  max-width: 100%;\n",
       "  overflow: auto;\n",
       "}\n",
       "\n",
       "#sk-container-id-19 input.sk-toggleable__control:checked~label.sk-toggleable__label-arrow:before {\n",
       "  content: \"▾\";\n",
       "}\n",
       "\n",
       "/* Pipeline/ColumnTransformer-specific style */\n",
       "\n",
       "#sk-container-id-19 div.sk-label input.sk-toggleable__control:checked~label.sk-toggleable__label {\n",
       "  color: var(--sklearn-color-text);\n",
       "  background-color: var(--sklearn-color-unfitted-level-2);\n",
       "}\n",
       "\n",
       "#sk-container-id-19 div.sk-label.fitted input.sk-toggleable__control:checked~label.sk-toggleable__label {\n",
       "  background-color: var(--sklearn-color-fitted-level-2);\n",
       "}\n",
       "\n",
       "/* Estimator-specific style */\n",
       "\n",
       "/* Colorize estimator box */\n",
       "#sk-container-id-19 div.sk-estimator input.sk-toggleable__control:checked~label.sk-toggleable__label {\n",
       "  /* unfitted */\n",
       "  background-color: var(--sklearn-color-unfitted-level-2);\n",
       "}\n",
       "\n",
       "#sk-container-id-19 div.sk-estimator.fitted input.sk-toggleable__control:checked~label.sk-toggleable__label {\n",
       "  /* fitted */\n",
       "  background-color: var(--sklearn-color-fitted-level-2);\n",
       "}\n",
       "\n",
       "#sk-container-id-19 div.sk-label label.sk-toggleable__label,\n",
       "#sk-container-id-19 div.sk-label label {\n",
       "  /* The background is the default theme color */\n",
       "  color: var(--sklearn-color-text-on-default-background);\n",
       "}\n",
       "\n",
       "/* On hover, darken the color of the background */\n",
       "#sk-container-id-19 div.sk-label:hover label.sk-toggleable__label {\n",
       "  color: var(--sklearn-color-text);\n",
       "  background-color: var(--sklearn-color-unfitted-level-2);\n",
       "}\n",
       "\n",
       "/* Label box, darken color on hover, fitted */\n",
       "#sk-container-id-19 div.sk-label.fitted:hover label.sk-toggleable__label.fitted {\n",
       "  color: var(--sklearn-color-text);\n",
       "  background-color: var(--sklearn-color-fitted-level-2);\n",
       "}\n",
       "\n",
       "/* Estimator label */\n",
       "\n",
       "#sk-container-id-19 div.sk-label label {\n",
       "  font-family: monospace;\n",
       "  font-weight: bold;\n",
       "  display: inline-block;\n",
       "  line-height: 1.2em;\n",
       "}\n",
       "\n",
       "#sk-container-id-19 div.sk-label-container {\n",
       "  text-align: center;\n",
       "}\n",
       "\n",
       "/* Estimator-specific */\n",
       "#sk-container-id-19 div.sk-estimator {\n",
       "  font-family: monospace;\n",
       "  border: 1px dotted var(--sklearn-color-border-box);\n",
       "  border-radius: 0.25em;\n",
       "  box-sizing: border-box;\n",
       "  margin-bottom: 0.5em;\n",
       "  /* unfitted */\n",
       "  background-color: var(--sklearn-color-unfitted-level-0);\n",
       "}\n",
       "\n",
       "#sk-container-id-19 div.sk-estimator.fitted {\n",
       "  /* fitted */\n",
       "  background-color: var(--sklearn-color-fitted-level-0);\n",
       "}\n",
       "\n",
       "/* on hover */\n",
       "#sk-container-id-19 div.sk-estimator:hover {\n",
       "  /* unfitted */\n",
       "  background-color: var(--sklearn-color-unfitted-level-2);\n",
       "}\n",
       "\n",
       "#sk-container-id-19 div.sk-estimator.fitted:hover {\n",
       "  /* fitted */\n",
       "  background-color: var(--sklearn-color-fitted-level-2);\n",
       "}\n",
       "\n",
       "/* Specification for estimator info (e.g. \"i\" and \"?\") */\n",
       "\n",
       "/* Common style for \"i\" and \"?\" */\n",
       "\n",
       ".sk-estimator-doc-link,\n",
       "a:link.sk-estimator-doc-link,\n",
       "a:visited.sk-estimator-doc-link {\n",
       "  float: right;\n",
       "  font-size: smaller;\n",
       "  line-height: 1em;\n",
       "  font-family: monospace;\n",
       "  background-color: var(--sklearn-color-background);\n",
       "  border-radius: 1em;\n",
       "  height: 1em;\n",
       "  width: 1em;\n",
       "  text-decoration: none !important;\n",
       "  margin-left: 0.5em;\n",
       "  text-align: center;\n",
       "  /* unfitted */\n",
       "  border: var(--sklearn-color-unfitted-level-1) 1pt solid;\n",
       "  color: var(--sklearn-color-unfitted-level-1);\n",
       "}\n",
       "\n",
       ".sk-estimator-doc-link.fitted,\n",
       "a:link.sk-estimator-doc-link.fitted,\n",
       "a:visited.sk-estimator-doc-link.fitted {\n",
       "  /* fitted */\n",
       "  border: var(--sklearn-color-fitted-level-1) 1pt solid;\n",
       "  color: var(--sklearn-color-fitted-level-1);\n",
       "}\n",
       "\n",
       "/* On hover */\n",
       "div.sk-estimator:hover .sk-estimator-doc-link:hover,\n",
       ".sk-estimator-doc-link:hover,\n",
       "div.sk-label-container:hover .sk-estimator-doc-link:hover,\n",
       ".sk-estimator-doc-link:hover {\n",
       "  /* unfitted */\n",
       "  background-color: var(--sklearn-color-unfitted-level-3);\n",
       "  color: var(--sklearn-color-background);\n",
       "  text-decoration: none;\n",
       "}\n",
       "\n",
       "div.sk-estimator.fitted:hover .sk-estimator-doc-link.fitted:hover,\n",
       ".sk-estimator-doc-link.fitted:hover,\n",
       "div.sk-label-container:hover .sk-estimator-doc-link.fitted:hover,\n",
       ".sk-estimator-doc-link.fitted:hover {\n",
       "  /* fitted */\n",
       "  background-color: var(--sklearn-color-fitted-level-3);\n",
       "  color: var(--sklearn-color-background);\n",
       "  text-decoration: none;\n",
       "}\n",
       "\n",
       "/* Span, style for the box shown on hovering the info icon */\n",
       ".sk-estimator-doc-link span {\n",
       "  display: none;\n",
       "  z-index: 9999;\n",
       "  position: relative;\n",
       "  font-weight: normal;\n",
       "  right: .2ex;\n",
       "  padding: .5ex;\n",
       "  margin: .5ex;\n",
       "  width: min-content;\n",
       "  min-width: 20ex;\n",
       "  max-width: 50ex;\n",
       "  color: var(--sklearn-color-text);\n",
       "  box-shadow: 2pt 2pt 4pt #999;\n",
       "  /* unfitted */\n",
       "  background: var(--sklearn-color-unfitted-level-0);\n",
       "  border: .5pt solid var(--sklearn-color-unfitted-level-3);\n",
       "}\n",
       "\n",
       ".sk-estimator-doc-link.fitted span {\n",
       "  /* fitted */\n",
       "  background: var(--sklearn-color-fitted-level-0);\n",
       "  border: var(--sklearn-color-fitted-level-3);\n",
       "}\n",
       "\n",
       ".sk-estimator-doc-link:hover span {\n",
       "  display: block;\n",
       "}\n",
       "\n",
       "/* \"?\"-specific style due to the `<a>` HTML tag */\n",
       "\n",
       "#sk-container-id-19 a.estimator_doc_link {\n",
       "  float: right;\n",
       "  font-size: 1rem;\n",
       "  line-height: 1em;\n",
       "  font-family: monospace;\n",
       "  background-color: var(--sklearn-color-background);\n",
       "  border-radius: 1rem;\n",
       "  height: 1rem;\n",
       "  width: 1rem;\n",
       "  text-decoration: none;\n",
       "  /* unfitted */\n",
       "  color: var(--sklearn-color-unfitted-level-1);\n",
       "  border: var(--sklearn-color-unfitted-level-1) 1pt solid;\n",
       "}\n",
       "\n",
       "#sk-container-id-19 a.estimator_doc_link.fitted {\n",
       "  /* fitted */\n",
       "  border: var(--sklearn-color-fitted-level-1) 1pt solid;\n",
       "  color: var(--sklearn-color-fitted-level-1);\n",
       "}\n",
       "\n",
       "/* On hover */\n",
       "#sk-container-id-19 a.estimator_doc_link:hover {\n",
       "  /* unfitted */\n",
       "  background-color: var(--sklearn-color-unfitted-level-3);\n",
       "  color: var(--sklearn-color-background);\n",
       "  text-decoration: none;\n",
       "}\n",
       "\n",
       "#sk-container-id-19 a.estimator_doc_link.fitted:hover {\n",
       "  /* fitted */\n",
       "  background-color: var(--sklearn-color-fitted-level-3);\n",
       "}\n",
       "</style><div id=\"sk-container-id-19\" class=\"sk-top-container\"><div class=\"sk-text-repr-fallback\"><pre>LinearRegression()</pre><b>In a Jupyter environment, please rerun this cell to show the HTML representation or trust the notebook. <br />On GitHub, the HTML representation is unable to render, please try loading this page with nbviewer.org.</b></div><div class=\"sk-container\" hidden><div class=\"sk-item\"><div class=\"sk-estimator fitted sk-toggleable\"><input class=\"sk-toggleable__control sk-hidden--visually\" id=\"sk-estimator-id-19\" type=\"checkbox\" checked><label for=\"sk-estimator-id-19\" class=\"sk-toggleable__label fitted sk-toggleable__label-arrow\"><div><div>LinearRegression</div></div><div><a class=\"sk-estimator-doc-link fitted\" rel=\"noreferrer\" target=\"_blank\" href=\"https://scikit-learn.org/1.6/modules/generated/sklearn.linear_model.LinearRegression.html\">?<span>Documentation for LinearRegression</span></a><span class=\"sk-estimator-doc-link fitted\">i<span>Fitted</span></span></div></label><div class=\"sk-toggleable__content fitted\"><pre>LinearRegression()</pre></div> </div></div></div></div>"
      ],
      "text/plain": [
       "LinearRegression()"
      ]
     },
     "execution_count": 844,
     "metadata": {},
     "output_type": "execute_result"
    }
   ],
   "source": [
    "lr_model = LinearRegression()\n",
    "\n",
    "lr_model.fit(X_train, y_train)"
   ]
  },
  {
   "cell_type": "code",
   "execution_count": 845,
   "metadata": {},
   "outputs": [],
   "source": [
    "y_pred = lr_model.predict(X_validation)"
   ]
  },
  {
   "cell_type": "code",
   "execution_count": 846,
   "metadata": {},
   "outputs": [],
   "source": [
    "X_train = pd.get_dummies(X_train, drop_first=True)"
   ]
  },
  {
   "cell_type": "code",
   "execution_count": 847,
   "metadata": {},
   "outputs": [],
   "source": [
    "X_train = np.nan_to_num(X_train, nan=0.0, posinf=0.0, neginf=0.0)\n",
    "y_train = np.nan_to_num(y_train, nan=0.0, posinf=0.0, neginf=0.0)"
   ]
  },
  {
   "cell_type": "code",
   "execution_count": 848,
   "metadata": {},
   "outputs": [],
   "source": [
    "X_train = np.nan_to_num(X_train.astype(float), nan=0.0, posinf=0.0, neginf=0.0)\n",
    "y_train = np.nan_to_num(y_train.astype(float), nan=0.0, posinf=0.0, neginf=0.0)"
   ]
  },
  {
   "cell_type": "code",
   "execution_count": 849,
   "metadata": {},
   "outputs": [],
   "source": [
    "X_train[np.isinf(X_train)] = 0\n",
    "y_train[np.isinf(y_train)] = 0"
   ]
  },
  {
   "cell_type": "code",
   "execution_count": 850,
   "metadata": {},
   "outputs": [],
   "source": [
    "X_train_with_const = sm.add_constant(X_train)"
   ]
  },
  {
   "cell_type": "code",
   "execution_count": 851,
   "metadata": {},
   "outputs": [],
   "source": [
    "X_train_with_const = np.array(X_train_with_const, dtype=float)\n",
    "y_train = np.array(y_train, dtype=float)"
   ]
  },
  {
   "cell_type": "code",
   "execution_count": 852,
   "metadata": {},
   "outputs": [],
   "source": [
    "ols_model = sm.OLS(y_train, X_train_with_const).fit()"
   ]
  },
  {
   "cell_type": "code",
   "execution_count": 853,
   "metadata": {},
   "outputs": [],
   "source": [
    "feature_names = df_model.drop(columns=['Sales', 'Sales_Predicted', 'Gross Sales', 'COGS', 'Profit', 'Sale Price', 'Units Sold']).columns.tolist()"
   ]
  },
  {
   "cell_type": "code",
   "execution_count": 854,
   "metadata": {},
   "outputs": [
    {
     "name": "stdout",
     "output_type": "stream",
     "text": [
      "   Variable                           Feature\n",
      "0        x1               Manufacturing Price\n",
      "1        x2                         Discounts\n",
      "2        x3                Segment_Enterprise\n",
      "3        x4                Segment_Government\n",
      "4        x5                 Segment_Midmarket\n",
      "5        x6            Segment_Small Business\n",
      "6        x7                    Country_France\n",
      "7        x8                   Country_Germany\n",
      "8        x9                    Country_Mexico\n",
      "9       x10  Country_United States of America\n",
      "10      x11               Product_ Carretera \n",
      "11      x12                 Product_ Montana \n",
      "12      x13                   Product_ Paseo \n",
      "13      x14                     Product_ VTT \n",
      "14      x15                    Product_ Velo \n",
      "15      x16                 Discount Band_Low\n",
      "16      x17              Discount Band_Medium\n",
      "17    const                             const\n"
     ]
    }
   ],
   "source": [
    "X_train = pd.DataFrame(X_train, columns=feature_names)\n",
    "\n",
    "X_train_with_const = sm.add_constant(X_train)\n",
    "X_train_with_const = pd.DataFrame(X_train_with_const, columns=[\"const\"] + X_train.columns.tolist())\n",
    "\n",
    "features = X_train_with_const.columns.tolist()\n",
    "\n",
    "feature_mapping = {f\"x{i}\": feature for i, feature in enumerate(features[1:], start=1)}\n",
    "feature_mapping[\"const\"] = \"const\"\n",
    "\n",
    "mapping_df = pd.DataFrame(list(feature_mapping.items()), columns=[\"Variable\", \"Feature\"])\n",
    "\n",
    "print(mapping_df)"
   ]
  },
  {
   "cell_type": "code",
   "execution_count": 855,
   "metadata": {},
   "outputs": [
    {
     "name": "stdout",
     "output_type": "stream",
     "text": [
      "                            OLS Regression Results                            \n",
      "==============================================================================\n",
      "Dep. Variable:                      y   R-squared:                       0.662\n",
      "Model:                            OLS   Adj. R-squared:                  0.654\n",
      "Method:                 Least Squares   F-statistic:                     80.63\n",
      "Date:                Wed, 05 Feb 2025   Prob (F-statistic):          4.15e-143\n",
      "Time:                        05:47:49   Log-Likelihood:                -8948.5\n",
      "No. Observations:                 675   AIC:                         1.793e+04\n",
      "Df Residuals:                     658   BIC:                         1.801e+04\n",
      "Df Model:                          16                                         \n",
      "Covariance Type:            nonrobust                                         \n",
      "==============================================================================\n",
      "                 coef    std err          t      P>|t|      [0.025      0.975]\n",
      "------------------------------------------------------------------------------\n",
      "const      -4.327e+04    1.5e+04     -2.879      0.004   -7.28e+04   -1.38e+04\n",
      "x1           131.5305     66.931      1.965      0.050       0.106     262.955\n",
      "x2             7.4661      0.278     26.893      0.000       6.921       8.011\n",
      "x3           7.51e+04   2.09e+04      3.587      0.000     3.4e+04    1.16e+05\n",
      "x4          7.893e+04   1.69e+04      4.678      0.000    4.58e+04    1.12e+05\n",
      "x5           1.56e+04   2.03e+04      0.769      0.442   -2.42e+04    5.55e+04\n",
      "x6          1.629e+05   2.23e+04      7.319      0.000    1.19e+05    2.07e+05\n",
      "x7          1.194e+04   1.71e+04      0.699      0.485   -2.16e+04    4.55e+04\n",
      "x8          1.892e+04    1.7e+04      1.111      0.267   -1.45e+04    5.23e+04\n",
      "x9         -1.255e+04    1.7e+04     -0.736      0.462    -4.6e+04    2.09e+04\n",
      "x10        -1.387e+04   1.71e+04     -0.813      0.416   -4.74e+04    1.96e+04\n",
      "x11         -1.54e+04   1.26e+04     -1.223      0.222   -4.01e+04    9324.393\n",
      "x12        -5702.0119    1.3e+04     -0.440      0.660   -3.11e+04    1.97e+04\n",
      "x13        -9717.6975   1.03e+04     -0.942      0.346      -3e+04    1.05e+04\n",
      "x14        -2.275e+04      2e+04     -1.140      0.255   -6.19e+04    1.64e+04\n",
      "x15        -2.272e+04   1.49e+04     -1.526      0.128    -5.2e+04    6518.696\n",
      "x16         1.501e+05   1.47e+04     10.185      0.000    1.21e+05    1.79e+05\n",
      "x17         3.374e+04   1.26e+04      2.674      0.008    8969.208    5.85e+04\n",
      "==============================================================================\n",
      "Omnibus:                      359.122   Durbin-Watson:                   1.737\n",
      "Prob(Omnibus):                  0.000   Jarque-Bera (JB):             2499.408\n",
      "Skew:                           2.326   Prob(JB):                         0.00\n",
      "Kurtosis:                      11.199   Cond. No.                     1.47e+20\n",
      "==============================================================================\n",
      "\n",
      "Notes:\n",
      "[1] Standard Errors assume that the covariance matrix of the errors is correctly specified.\n",
      "[2] The smallest eigenvalue is 2.13e-29. This might indicate that there are\n",
      "strong multicollinearity problems or that the design matrix is singular.\n"
     ]
    }
   ],
   "source": [
    "print(ols_model.summary())"
   ]
  },
  {
   "cell_type": "code",
   "execution_count": 856,
   "metadata": {},
   "outputs": [
    {
     "data": {
      "application/vnd.plotly.v1+json": {
       "config": {
        "plotlyServerURL": "https://plot.ly"
       },
       "data": [
        {
         "line": {
          "color": "blue"
         },
         "marker": {
          "color": "blue",
          "size": 8
         },
         "mode": "lines+markers",
         "name": "Actual Sales",
         "type": "scatter",
         "x": [
          1,
          2,
          3,
          4,
          5,
          6,
          7,
          8,
          9,
          10,
          11,
          12,
          13,
          14,
          15,
          16,
          17,
          18,
          19,
          20
         ],
         "y": {
          "bdata": "aiQAAHUTAADsEwAAv4wAACsTAQDyAwoA3fMDAGokAAB5OQAAgRgAALsRAACFOgAABsoEABrlAAB1EwAAVaEJAN4fAgDLHwAAzRAAAPVHAAA=",
          "dtype": "i4"
         }
        },
        {
         "line": {
          "color": "red"
         },
         "marker": {
          "color": "red",
          "size": 8
         },
         "mode": "lines+markers",
         "name": "Predicted Sales",
         "type": "scatter",
         "x": [
          1,
          2,
          3,
          4,
          5,
          6,
          7,
          8,
          9,
          10,
          11,
          12,
          13,
          14,
          15,
          16,
          17,
          18,
          19,
          20
         ],
         "y": {
          "bdata": "K0Dw8aMB6sBYI2aZvVfmQAsG40CGXevAoNMazvY32EC+R5r6P6b/QA7KZLfxZy1ByAR1Nc6AFUG+gUB120rpwMB9czba0u9AwOtHiQjYwkDkyVTx14HiQLBlfrH+ntRATQVAtfLMG0Fqd0ixPd0AQZSMwcaOZO9AzCqisxlvLkEMyIEZEtETQYAMUwwHHNxA0MrVc6IT4EAIbmvc4DXWwA==",
          "dtype": "f8"
         }
        }
       ],
       "layout": {
        "height": 600,
        "legend": {
         "title": {
          "text": "Legend"
         }
        },
        "template": {
         "data": {
          "bar": [
           {
            "error_x": {
             "color": "#2a3f5f"
            },
            "error_y": {
             "color": "#2a3f5f"
            },
            "marker": {
             "line": {
              "color": "white",
              "width": 0.5
             },
             "pattern": {
              "fillmode": "overlay",
              "size": 10,
              "solidity": 0.2
             }
            },
            "type": "bar"
           }
          ],
          "barpolar": [
           {
            "marker": {
             "line": {
              "color": "white",
              "width": 0.5
             },
             "pattern": {
              "fillmode": "overlay",
              "size": 10,
              "solidity": 0.2
             }
            },
            "type": "barpolar"
           }
          ],
          "carpet": [
           {
            "aaxis": {
             "endlinecolor": "#2a3f5f",
             "gridcolor": "#C8D4E3",
             "linecolor": "#C8D4E3",
             "minorgridcolor": "#C8D4E3",
             "startlinecolor": "#2a3f5f"
            },
            "baxis": {
             "endlinecolor": "#2a3f5f",
             "gridcolor": "#C8D4E3",
             "linecolor": "#C8D4E3",
             "minorgridcolor": "#C8D4E3",
             "startlinecolor": "#2a3f5f"
            },
            "type": "carpet"
           }
          ],
          "choropleth": [
           {
            "colorbar": {
             "outlinewidth": 0,
             "ticks": ""
            },
            "type": "choropleth"
           }
          ],
          "contour": [
           {
            "colorbar": {
             "outlinewidth": 0,
             "ticks": ""
            },
            "colorscale": [
             [
              0,
              "#0d0887"
             ],
             [
              0.1111111111111111,
              "#46039f"
             ],
             [
              0.2222222222222222,
              "#7201a8"
             ],
             [
              0.3333333333333333,
              "#9c179e"
             ],
             [
              0.4444444444444444,
              "#bd3786"
             ],
             [
              0.5555555555555556,
              "#d8576b"
             ],
             [
              0.6666666666666666,
              "#ed7953"
             ],
             [
              0.7777777777777778,
              "#fb9f3a"
             ],
             [
              0.8888888888888888,
              "#fdca26"
             ],
             [
              1,
              "#f0f921"
             ]
            ],
            "type": "contour"
           }
          ],
          "contourcarpet": [
           {
            "colorbar": {
             "outlinewidth": 0,
             "ticks": ""
            },
            "type": "contourcarpet"
           }
          ],
          "heatmap": [
           {
            "colorbar": {
             "outlinewidth": 0,
             "ticks": ""
            },
            "colorscale": [
             [
              0,
              "#0d0887"
             ],
             [
              0.1111111111111111,
              "#46039f"
             ],
             [
              0.2222222222222222,
              "#7201a8"
             ],
             [
              0.3333333333333333,
              "#9c179e"
             ],
             [
              0.4444444444444444,
              "#bd3786"
             ],
             [
              0.5555555555555556,
              "#d8576b"
             ],
             [
              0.6666666666666666,
              "#ed7953"
             ],
             [
              0.7777777777777778,
              "#fb9f3a"
             ],
             [
              0.8888888888888888,
              "#fdca26"
             ],
             [
              1,
              "#f0f921"
             ]
            ],
            "type": "heatmap"
           }
          ],
          "histogram": [
           {
            "marker": {
             "pattern": {
              "fillmode": "overlay",
              "size": 10,
              "solidity": 0.2
             }
            },
            "type": "histogram"
           }
          ],
          "histogram2d": [
           {
            "colorbar": {
             "outlinewidth": 0,
             "ticks": ""
            },
            "colorscale": [
             [
              0,
              "#0d0887"
             ],
             [
              0.1111111111111111,
              "#46039f"
             ],
             [
              0.2222222222222222,
              "#7201a8"
             ],
             [
              0.3333333333333333,
              "#9c179e"
             ],
             [
              0.4444444444444444,
              "#bd3786"
             ],
             [
              0.5555555555555556,
              "#d8576b"
             ],
             [
              0.6666666666666666,
              "#ed7953"
             ],
             [
              0.7777777777777778,
              "#fb9f3a"
             ],
             [
              0.8888888888888888,
              "#fdca26"
             ],
             [
              1,
              "#f0f921"
             ]
            ],
            "type": "histogram2d"
           }
          ],
          "histogram2dcontour": [
           {
            "colorbar": {
             "outlinewidth": 0,
             "ticks": ""
            },
            "colorscale": [
             [
              0,
              "#0d0887"
             ],
             [
              0.1111111111111111,
              "#46039f"
             ],
             [
              0.2222222222222222,
              "#7201a8"
             ],
             [
              0.3333333333333333,
              "#9c179e"
             ],
             [
              0.4444444444444444,
              "#bd3786"
             ],
             [
              0.5555555555555556,
              "#d8576b"
             ],
             [
              0.6666666666666666,
              "#ed7953"
             ],
             [
              0.7777777777777778,
              "#fb9f3a"
             ],
             [
              0.8888888888888888,
              "#fdca26"
             ],
             [
              1,
              "#f0f921"
             ]
            ],
            "type": "histogram2dcontour"
           }
          ],
          "mesh3d": [
           {
            "colorbar": {
             "outlinewidth": 0,
             "ticks": ""
            },
            "type": "mesh3d"
           }
          ],
          "parcoords": [
           {
            "line": {
             "colorbar": {
              "outlinewidth": 0,
              "ticks": ""
             }
            },
            "type": "parcoords"
           }
          ],
          "pie": [
           {
            "automargin": true,
            "type": "pie"
           }
          ],
          "scatter": [
           {
            "fillpattern": {
             "fillmode": "overlay",
             "size": 10,
             "solidity": 0.2
            },
            "type": "scatter"
           }
          ],
          "scatter3d": [
           {
            "line": {
             "colorbar": {
              "outlinewidth": 0,
              "ticks": ""
             }
            },
            "marker": {
             "colorbar": {
              "outlinewidth": 0,
              "ticks": ""
             }
            },
            "type": "scatter3d"
           }
          ],
          "scattercarpet": [
           {
            "marker": {
             "colorbar": {
              "outlinewidth": 0,
              "ticks": ""
             }
            },
            "type": "scattercarpet"
           }
          ],
          "scattergeo": [
           {
            "marker": {
             "colorbar": {
              "outlinewidth": 0,
              "ticks": ""
             }
            },
            "type": "scattergeo"
           }
          ],
          "scattergl": [
           {
            "marker": {
             "colorbar": {
              "outlinewidth": 0,
              "ticks": ""
             }
            },
            "type": "scattergl"
           }
          ],
          "scattermap": [
           {
            "marker": {
             "colorbar": {
              "outlinewidth": 0,
              "ticks": ""
             }
            },
            "type": "scattermap"
           }
          ],
          "scattermapbox": [
           {
            "marker": {
             "colorbar": {
              "outlinewidth": 0,
              "ticks": ""
             }
            },
            "type": "scattermapbox"
           }
          ],
          "scatterpolar": [
           {
            "marker": {
             "colorbar": {
              "outlinewidth": 0,
              "ticks": ""
             }
            },
            "type": "scatterpolar"
           }
          ],
          "scatterpolargl": [
           {
            "marker": {
             "colorbar": {
              "outlinewidth": 0,
              "ticks": ""
             }
            },
            "type": "scatterpolargl"
           }
          ],
          "scatterternary": [
           {
            "marker": {
             "colorbar": {
              "outlinewidth": 0,
              "ticks": ""
             }
            },
            "type": "scatterternary"
           }
          ],
          "surface": [
           {
            "colorbar": {
             "outlinewidth": 0,
             "ticks": ""
            },
            "colorscale": [
             [
              0,
              "#0d0887"
             ],
             [
              0.1111111111111111,
              "#46039f"
             ],
             [
              0.2222222222222222,
              "#7201a8"
             ],
             [
              0.3333333333333333,
              "#9c179e"
             ],
             [
              0.4444444444444444,
              "#bd3786"
             ],
             [
              0.5555555555555556,
              "#d8576b"
             ],
             [
              0.6666666666666666,
              "#ed7953"
             ],
             [
              0.7777777777777778,
              "#fb9f3a"
             ],
             [
              0.8888888888888888,
              "#fdca26"
             ],
             [
              1,
              "#f0f921"
             ]
            ],
            "type": "surface"
           }
          ],
          "table": [
           {
            "cells": {
             "fill": {
              "color": "#EBF0F8"
             },
             "line": {
              "color": "white"
             }
            },
            "header": {
             "fill": {
              "color": "#C8D4E3"
             },
             "line": {
              "color": "white"
             }
            },
            "type": "table"
           }
          ]
         },
         "layout": {
          "annotationdefaults": {
           "arrowcolor": "#2a3f5f",
           "arrowhead": 0,
           "arrowwidth": 1
          },
          "autotypenumbers": "strict",
          "coloraxis": {
           "colorbar": {
            "outlinewidth": 0,
            "ticks": ""
           }
          },
          "colorscale": {
           "diverging": [
            [
             0,
             "#8e0152"
            ],
            [
             0.1,
             "#c51b7d"
            ],
            [
             0.2,
             "#de77ae"
            ],
            [
             0.3,
             "#f1b6da"
            ],
            [
             0.4,
             "#fde0ef"
            ],
            [
             0.5,
             "#f7f7f7"
            ],
            [
             0.6,
             "#e6f5d0"
            ],
            [
             0.7,
             "#b8e186"
            ],
            [
             0.8,
             "#7fbc41"
            ],
            [
             0.9,
             "#4d9221"
            ],
            [
             1,
             "#276419"
            ]
           ],
           "sequential": [
            [
             0,
             "#0d0887"
            ],
            [
             0.1111111111111111,
             "#46039f"
            ],
            [
             0.2222222222222222,
             "#7201a8"
            ],
            [
             0.3333333333333333,
             "#9c179e"
            ],
            [
             0.4444444444444444,
             "#bd3786"
            ],
            [
             0.5555555555555556,
             "#d8576b"
            ],
            [
             0.6666666666666666,
             "#ed7953"
            ],
            [
             0.7777777777777778,
             "#fb9f3a"
            ],
            [
             0.8888888888888888,
             "#fdca26"
            ],
            [
             1,
             "#f0f921"
            ]
           ],
           "sequentialminus": [
            [
             0,
             "#0d0887"
            ],
            [
             0.1111111111111111,
             "#46039f"
            ],
            [
             0.2222222222222222,
             "#7201a8"
            ],
            [
             0.3333333333333333,
             "#9c179e"
            ],
            [
             0.4444444444444444,
             "#bd3786"
            ],
            [
             0.5555555555555556,
             "#d8576b"
            ],
            [
             0.6666666666666666,
             "#ed7953"
            ],
            [
             0.7777777777777778,
             "#fb9f3a"
            ],
            [
             0.8888888888888888,
             "#fdca26"
            ],
            [
             1,
             "#f0f921"
            ]
           ]
          },
          "colorway": [
           "#636efa",
           "#EF553B",
           "#00cc96",
           "#ab63fa",
           "#FFA15A",
           "#19d3f3",
           "#FF6692",
           "#B6E880",
           "#FF97FF",
           "#FECB52"
          ],
          "font": {
           "color": "#2a3f5f"
          },
          "geo": {
           "bgcolor": "white",
           "lakecolor": "white",
           "landcolor": "white",
           "showlakes": true,
           "showland": true,
           "subunitcolor": "#C8D4E3"
          },
          "hoverlabel": {
           "align": "left"
          },
          "hovermode": "closest",
          "mapbox": {
           "style": "light"
          },
          "paper_bgcolor": "white",
          "plot_bgcolor": "white",
          "polar": {
           "angularaxis": {
            "gridcolor": "#EBF0F8",
            "linecolor": "#EBF0F8",
            "ticks": ""
           },
           "bgcolor": "white",
           "radialaxis": {
            "gridcolor": "#EBF0F8",
            "linecolor": "#EBF0F8",
            "ticks": ""
           }
          },
          "scene": {
           "xaxis": {
            "backgroundcolor": "white",
            "gridcolor": "#DFE8F3",
            "gridwidth": 2,
            "linecolor": "#EBF0F8",
            "showbackground": true,
            "ticks": "",
            "zerolinecolor": "#EBF0F8"
           },
           "yaxis": {
            "backgroundcolor": "white",
            "gridcolor": "#DFE8F3",
            "gridwidth": 2,
            "linecolor": "#EBF0F8",
            "showbackground": true,
            "ticks": "",
            "zerolinecolor": "#EBF0F8"
           },
           "zaxis": {
            "backgroundcolor": "white",
            "gridcolor": "#DFE8F3",
            "gridwidth": 2,
            "linecolor": "#EBF0F8",
            "showbackground": true,
            "ticks": "",
            "zerolinecolor": "#EBF0F8"
           }
          },
          "shapedefaults": {
           "line": {
            "color": "#2a3f5f"
           }
          },
          "ternary": {
           "aaxis": {
            "gridcolor": "#DFE8F3",
            "linecolor": "#A2B1C6",
            "ticks": ""
           },
           "baxis": {
            "gridcolor": "#DFE8F3",
            "linecolor": "#A2B1C6",
            "ticks": ""
           },
           "bgcolor": "white",
           "caxis": {
            "gridcolor": "#DFE8F3",
            "linecolor": "#A2B1C6",
            "ticks": ""
           }
          },
          "title": {
           "x": 0.05
          },
          "xaxis": {
           "automargin": true,
           "gridcolor": "#EBF0F8",
           "linecolor": "#EBF0F8",
           "ticks": "",
           "title": {
            "standoff": 15
           },
           "zerolinecolor": "#EBF0F8",
           "zerolinewidth": 2
          },
          "yaxis": {
           "automargin": true,
           "gridcolor": "#EBF0F8",
           "linecolor": "#EBF0F8",
           "ticks": "",
           "title": {
            "standoff": 15
           },
           "zerolinecolor": "#EBF0F8",
           "zerolinewidth": 2
          }
         }
        },
        "title": {
         "text": "Linear Regression: Predicted vs Actual Sales"
        },
        "width": 800,
        "xaxis": {
         "range": [
          0,
          21
         ],
         "tickvals": [
          0,
          5,
          10,
          15,
          20
         ],
         "title": {
          "text": "Row Index (Last 20 Rows)"
         }
        },
        "yaxis": {
         "rangemode": "tozero",
         "title": {
          "text": "Sales"
         }
        }
       }
      }
     },
     "metadata": {},
     "output_type": "display_data"
    }
   ],
   "source": [
    "fig = go.Figure()\n",
    "\n",
    "fig.add_trace(go.Scatter(\n",
    "    x=list(range(1, 21)), \n",
    "    y=y_validation.values, \n",
    "    mode='lines+markers', \n",
    "    name='Actual Sales',\n",
    "    line=dict(color='blue'),\n",
    "    marker=dict(color='blue', size=8)\n",
    "))\n",
    "\n",
    "fig.add_trace(go.Scatter(\n",
    "    x=list(range(1, 21)), \n",
    "    y=y_pred, \n",
    "    mode='lines+markers', \n",
    "    name='Predicted Sales',\n",
    "    line=dict(color='red'),\n",
    "    marker=dict(color='red', size=8)\n",
    "))\n",
    "\n",
    "fig.update_layout(\n",
    "    title=\"Linear Regression: Predicted vs Actual Sales\",\n",
    "    xaxis_title=\"Row Index (Last 20 Rows)\",\n",
    "    yaxis_title=\"Sales\",\n",
    "    legend_title=\"Legend\",\n",
    "    template=\"plotly_white\",\n",
    "    width=800,\n",
    "    height=600,\n",
    "    xaxis=dict(\n",
    "        tickvals=[0, 5, 10, 15, 20],\n",
    "        range=[0, 21]\n",
    "    ),\n",
    "    yaxis=dict(\n",
    "        rangemode=\"tozero\"\n",
    "    )\n",
    ")\n",
    "\n",
    "fig.show()"
   ]
  },
  {
   "cell_type": "markdown",
   "metadata": {},
   "source": [
    "#### Random Forest Regressor"
   ]
  },
  {
   "cell_type": "code",
   "execution_count": 857,
   "metadata": {},
   "outputs": [
    {
     "name": "stdout",
     "output_type": "stream",
     "text": [
      "Mean Absolute Error (MAE): 16393.933500000003\n",
      "R-squared (R2): 0.9812336038699904\n"
     ]
    }
   ],
   "source": [
    "rf_model = RandomForestRegressor(random_state=42)\n",
    "\n",
    "rf_model.fit(X_train, y_train)\n",
    "\n",
    "y_pred = rf_model.predict(X_validation)\n",
    "\n",
    "mae = mean_absolute_error(y_validation, y_pred)\n",
    "r2 = r2_score(y_validation, y_pred)\n",
    "\n",
    "print(f\"Mean Absolute Error (MAE): {mae}\")\n",
    "print(f\"R-squared (R2): {r2}\")"
   ]
  },
  {
   "cell_type": "code",
   "execution_count": 858,
   "metadata": {},
   "outputs": [
    {
     "name": "stdout",
     "output_type": "stream",
     "text": [
      "                             Feature  Importance\n",
      "1                          Discounts    0.745666\n",
      "15                 Discount Band_Low    0.111450\n",
      "16              Discount Band_Medium    0.024939\n",
      "5             Segment_Small Business    0.022586\n",
      "2                 Segment_Enterprise    0.018996\n",
      "0                Manufacturing Price    0.015925\n",
      "6                     Country_France    0.012752\n",
      "3                 Segment_Government    0.011505\n",
      "9   Country_United States of America    0.011160\n",
      "7                    Country_Germany    0.005248\n",
      "8                     Country_Mexico    0.004333\n",
      "12                   Product_ Paseo     0.003568\n",
      "13                     Product_ VTT     0.003365\n",
      "11                 Product_ Montana     0.003227\n",
      "14                    Product_ Velo     0.002797\n",
      "4                  Segment_Midmarket    0.001466\n",
      "10               Product_ Carretera     0.001015\n"
     ]
    }
   ],
   "source": [
    "feature_importances = rf_model.feature_importances_\n",
    "feature_names = X_train.columns\n",
    "\n",
    "importance_df = pd.DataFrame({\n",
    "    'Feature': feature_names,\n",
    "    'Importance': feature_importances\n",
    "}).sort_values(by='Importance', ascending=False)\n",
    "\n",
    "print(importance_df)"
   ]
  },
  {
   "cell_type": "code",
   "execution_count": 859,
   "metadata": {},
   "outputs": [
    {
     "data": {
      "application/vnd.plotly.v1+json": {
       "config": {
        "plotlyServerURL": "https://plot.ly"
       },
       "data": [
        {
         "hovertemplate": "Importance Score=%{x}<br>Features=%{y}<extra></extra>",
         "legendgroup": "",
         "marker": {
          "color": "#636efa",
          "pattern": {
           "shape": ""
          }
         },
         "name": "",
         "orientation": "h",
         "showlegend": false,
         "textposition": "auto",
         "type": "bar",
         "x": {
          "bdata": "o8aH7X7c5z/czQw5Aoi8P591D7G3iZk/EtsTc+gglz/4mWUTzHOTP3sFdqW6TpA/Vx/lUZkdij/cYtxGsI+HP9YQtg0C24Y/crYQcC9/dT9vASXO579xP5d4JLW2Om0/o9xi8SKQaz/kP4xAQXBqP++6QyyV6mY/puEgLnIDWD8aSu1bnKFQPw==",
          "dtype": "f8"
         },
         "xaxis": "x",
         "y": [
          "Discounts",
          "Discount Band_Low",
          "Discount Band_Medium",
          "Segment_Small Business",
          "Segment_Enterprise",
          "Manufacturing Price",
          "Country_France",
          "Segment_Government",
          "Country_United States of America",
          "Country_Germany",
          "Country_Mexico",
          "Product_ Paseo ",
          "Product_ VTT ",
          "Product_ Montana ",
          "Product_ Velo ",
          "Segment_Midmarket",
          "Product_ Carretera "
         ],
         "yaxis": "y"
        }
       ],
       "layout": {
        "barmode": "relative",
        "height": 600,
        "legend": {
         "tracegroupgap": 0
        },
        "template": {
         "data": {
          "bar": [
           {
            "error_x": {
             "color": "#2a3f5f"
            },
            "error_y": {
             "color": "#2a3f5f"
            },
            "marker": {
             "line": {
              "color": "white",
              "width": 0.5
             },
             "pattern": {
              "fillmode": "overlay",
              "size": 10,
              "solidity": 0.2
             }
            },
            "type": "bar"
           }
          ],
          "barpolar": [
           {
            "marker": {
             "line": {
              "color": "white",
              "width": 0.5
             },
             "pattern": {
              "fillmode": "overlay",
              "size": 10,
              "solidity": 0.2
             }
            },
            "type": "barpolar"
           }
          ],
          "carpet": [
           {
            "aaxis": {
             "endlinecolor": "#2a3f5f",
             "gridcolor": "#C8D4E3",
             "linecolor": "#C8D4E3",
             "minorgridcolor": "#C8D4E3",
             "startlinecolor": "#2a3f5f"
            },
            "baxis": {
             "endlinecolor": "#2a3f5f",
             "gridcolor": "#C8D4E3",
             "linecolor": "#C8D4E3",
             "minorgridcolor": "#C8D4E3",
             "startlinecolor": "#2a3f5f"
            },
            "type": "carpet"
           }
          ],
          "choropleth": [
           {
            "colorbar": {
             "outlinewidth": 0,
             "ticks": ""
            },
            "type": "choropleth"
           }
          ],
          "contour": [
           {
            "colorbar": {
             "outlinewidth": 0,
             "ticks": ""
            },
            "colorscale": [
             [
              0,
              "#0d0887"
             ],
             [
              0.1111111111111111,
              "#46039f"
             ],
             [
              0.2222222222222222,
              "#7201a8"
             ],
             [
              0.3333333333333333,
              "#9c179e"
             ],
             [
              0.4444444444444444,
              "#bd3786"
             ],
             [
              0.5555555555555556,
              "#d8576b"
             ],
             [
              0.6666666666666666,
              "#ed7953"
             ],
             [
              0.7777777777777778,
              "#fb9f3a"
             ],
             [
              0.8888888888888888,
              "#fdca26"
             ],
             [
              1,
              "#f0f921"
             ]
            ],
            "type": "contour"
           }
          ],
          "contourcarpet": [
           {
            "colorbar": {
             "outlinewidth": 0,
             "ticks": ""
            },
            "type": "contourcarpet"
           }
          ],
          "heatmap": [
           {
            "colorbar": {
             "outlinewidth": 0,
             "ticks": ""
            },
            "colorscale": [
             [
              0,
              "#0d0887"
             ],
             [
              0.1111111111111111,
              "#46039f"
             ],
             [
              0.2222222222222222,
              "#7201a8"
             ],
             [
              0.3333333333333333,
              "#9c179e"
             ],
             [
              0.4444444444444444,
              "#bd3786"
             ],
             [
              0.5555555555555556,
              "#d8576b"
             ],
             [
              0.6666666666666666,
              "#ed7953"
             ],
             [
              0.7777777777777778,
              "#fb9f3a"
             ],
             [
              0.8888888888888888,
              "#fdca26"
             ],
             [
              1,
              "#f0f921"
             ]
            ],
            "type": "heatmap"
           }
          ],
          "histogram": [
           {
            "marker": {
             "pattern": {
              "fillmode": "overlay",
              "size": 10,
              "solidity": 0.2
             }
            },
            "type": "histogram"
           }
          ],
          "histogram2d": [
           {
            "colorbar": {
             "outlinewidth": 0,
             "ticks": ""
            },
            "colorscale": [
             [
              0,
              "#0d0887"
             ],
             [
              0.1111111111111111,
              "#46039f"
             ],
             [
              0.2222222222222222,
              "#7201a8"
             ],
             [
              0.3333333333333333,
              "#9c179e"
             ],
             [
              0.4444444444444444,
              "#bd3786"
             ],
             [
              0.5555555555555556,
              "#d8576b"
             ],
             [
              0.6666666666666666,
              "#ed7953"
             ],
             [
              0.7777777777777778,
              "#fb9f3a"
             ],
             [
              0.8888888888888888,
              "#fdca26"
             ],
             [
              1,
              "#f0f921"
             ]
            ],
            "type": "histogram2d"
           }
          ],
          "histogram2dcontour": [
           {
            "colorbar": {
             "outlinewidth": 0,
             "ticks": ""
            },
            "colorscale": [
             [
              0,
              "#0d0887"
             ],
             [
              0.1111111111111111,
              "#46039f"
             ],
             [
              0.2222222222222222,
              "#7201a8"
             ],
             [
              0.3333333333333333,
              "#9c179e"
             ],
             [
              0.4444444444444444,
              "#bd3786"
             ],
             [
              0.5555555555555556,
              "#d8576b"
             ],
             [
              0.6666666666666666,
              "#ed7953"
             ],
             [
              0.7777777777777778,
              "#fb9f3a"
             ],
             [
              0.8888888888888888,
              "#fdca26"
             ],
             [
              1,
              "#f0f921"
             ]
            ],
            "type": "histogram2dcontour"
           }
          ],
          "mesh3d": [
           {
            "colorbar": {
             "outlinewidth": 0,
             "ticks": ""
            },
            "type": "mesh3d"
           }
          ],
          "parcoords": [
           {
            "line": {
             "colorbar": {
              "outlinewidth": 0,
              "ticks": ""
             }
            },
            "type": "parcoords"
           }
          ],
          "pie": [
           {
            "automargin": true,
            "type": "pie"
           }
          ],
          "scatter": [
           {
            "fillpattern": {
             "fillmode": "overlay",
             "size": 10,
             "solidity": 0.2
            },
            "type": "scatter"
           }
          ],
          "scatter3d": [
           {
            "line": {
             "colorbar": {
              "outlinewidth": 0,
              "ticks": ""
             }
            },
            "marker": {
             "colorbar": {
              "outlinewidth": 0,
              "ticks": ""
             }
            },
            "type": "scatter3d"
           }
          ],
          "scattercarpet": [
           {
            "marker": {
             "colorbar": {
              "outlinewidth": 0,
              "ticks": ""
             }
            },
            "type": "scattercarpet"
           }
          ],
          "scattergeo": [
           {
            "marker": {
             "colorbar": {
              "outlinewidth": 0,
              "ticks": ""
             }
            },
            "type": "scattergeo"
           }
          ],
          "scattergl": [
           {
            "marker": {
             "colorbar": {
              "outlinewidth": 0,
              "ticks": ""
             }
            },
            "type": "scattergl"
           }
          ],
          "scattermap": [
           {
            "marker": {
             "colorbar": {
              "outlinewidth": 0,
              "ticks": ""
             }
            },
            "type": "scattermap"
           }
          ],
          "scattermapbox": [
           {
            "marker": {
             "colorbar": {
              "outlinewidth": 0,
              "ticks": ""
             }
            },
            "type": "scattermapbox"
           }
          ],
          "scatterpolar": [
           {
            "marker": {
             "colorbar": {
              "outlinewidth": 0,
              "ticks": ""
             }
            },
            "type": "scatterpolar"
           }
          ],
          "scatterpolargl": [
           {
            "marker": {
             "colorbar": {
              "outlinewidth": 0,
              "ticks": ""
             }
            },
            "type": "scatterpolargl"
           }
          ],
          "scatterternary": [
           {
            "marker": {
             "colorbar": {
              "outlinewidth": 0,
              "ticks": ""
             }
            },
            "type": "scatterternary"
           }
          ],
          "surface": [
           {
            "colorbar": {
             "outlinewidth": 0,
             "ticks": ""
            },
            "colorscale": [
             [
              0,
              "#0d0887"
             ],
             [
              0.1111111111111111,
              "#46039f"
             ],
             [
              0.2222222222222222,
              "#7201a8"
             ],
             [
              0.3333333333333333,
              "#9c179e"
             ],
             [
              0.4444444444444444,
              "#bd3786"
             ],
             [
              0.5555555555555556,
              "#d8576b"
             ],
             [
              0.6666666666666666,
              "#ed7953"
             ],
             [
              0.7777777777777778,
              "#fb9f3a"
             ],
             [
              0.8888888888888888,
              "#fdca26"
             ],
             [
              1,
              "#f0f921"
             ]
            ],
            "type": "surface"
           }
          ],
          "table": [
           {
            "cells": {
             "fill": {
              "color": "#EBF0F8"
             },
             "line": {
              "color": "white"
             }
            },
            "header": {
             "fill": {
              "color": "#C8D4E3"
             },
             "line": {
              "color": "white"
             }
            },
            "type": "table"
           }
          ]
         },
         "layout": {
          "annotationdefaults": {
           "arrowcolor": "#2a3f5f",
           "arrowhead": 0,
           "arrowwidth": 1
          },
          "autotypenumbers": "strict",
          "coloraxis": {
           "colorbar": {
            "outlinewidth": 0,
            "ticks": ""
           }
          },
          "colorscale": {
           "diverging": [
            [
             0,
             "#8e0152"
            ],
            [
             0.1,
             "#c51b7d"
            ],
            [
             0.2,
             "#de77ae"
            ],
            [
             0.3,
             "#f1b6da"
            ],
            [
             0.4,
             "#fde0ef"
            ],
            [
             0.5,
             "#f7f7f7"
            ],
            [
             0.6,
             "#e6f5d0"
            ],
            [
             0.7,
             "#b8e186"
            ],
            [
             0.8,
             "#7fbc41"
            ],
            [
             0.9,
             "#4d9221"
            ],
            [
             1,
             "#276419"
            ]
           ],
           "sequential": [
            [
             0,
             "#0d0887"
            ],
            [
             0.1111111111111111,
             "#46039f"
            ],
            [
             0.2222222222222222,
             "#7201a8"
            ],
            [
             0.3333333333333333,
             "#9c179e"
            ],
            [
             0.4444444444444444,
             "#bd3786"
            ],
            [
             0.5555555555555556,
             "#d8576b"
            ],
            [
             0.6666666666666666,
             "#ed7953"
            ],
            [
             0.7777777777777778,
             "#fb9f3a"
            ],
            [
             0.8888888888888888,
             "#fdca26"
            ],
            [
             1,
             "#f0f921"
            ]
           ],
           "sequentialminus": [
            [
             0,
             "#0d0887"
            ],
            [
             0.1111111111111111,
             "#46039f"
            ],
            [
             0.2222222222222222,
             "#7201a8"
            ],
            [
             0.3333333333333333,
             "#9c179e"
            ],
            [
             0.4444444444444444,
             "#bd3786"
            ],
            [
             0.5555555555555556,
             "#d8576b"
            ],
            [
             0.6666666666666666,
             "#ed7953"
            ],
            [
             0.7777777777777778,
             "#fb9f3a"
            ],
            [
             0.8888888888888888,
             "#fdca26"
            ],
            [
             1,
             "#f0f921"
            ]
           ]
          },
          "colorway": [
           "#636efa",
           "#EF553B",
           "#00cc96",
           "#ab63fa",
           "#FFA15A",
           "#19d3f3",
           "#FF6692",
           "#B6E880",
           "#FF97FF",
           "#FECB52"
          ],
          "font": {
           "color": "#2a3f5f"
          },
          "geo": {
           "bgcolor": "white",
           "lakecolor": "white",
           "landcolor": "white",
           "showlakes": true,
           "showland": true,
           "subunitcolor": "#C8D4E3"
          },
          "hoverlabel": {
           "align": "left"
          },
          "hovermode": "closest",
          "mapbox": {
           "style": "light"
          },
          "paper_bgcolor": "white",
          "plot_bgcolor": "white",
          "polar": {
           "angularaxis": {
            "gridcolor": "#EBF0F8",
            "linecolor": "#EBF0F8",
            "ticks": ""
           },
           "bgcolor": "white",
           "radialaxis": {
            "gridcolor": "#EBF0F8",
            "linecolor": "#EBF0F8",
            "ticks": ""
           }
          },
          "scene": {
           "xaxis": {
            "backgroundcolor": "white",
            "gridcolor": "#DFE8F3",
            "gridwidth": 2,
            "linecolor": "#EBF0F8",
            "showbackground": true,
            "ticks": "",
            "zerolinecolor": "#EBF0F8"
           },
           "yaxis": {
            "backgroundcolor": "white",
            "gridcolor": "#DFE8F3",
            "gridwidth": 2,
            "linecolor": "#EBF0F8",
            "showbackground": true,
            "ticks": "",
            "zerolinecolor": "#EBF0F8"
           },
           "zaxis": {
            "backgroundcolor": "white",
            "gridcolor": "#DFE8F3",
            "gridwidth": 2,
            "linecolor": "#EBF0F8",
            "showbackground": true,
            "ticks": "",
            "zerolinecolor": "#EBF0F8"
           }
          },
          "shapedefaults": {
           "line": {
            "color": "#2a3f5f"
           }
          },
          "ternary": {
           "aaxis": {
            "gridcolor": "#DFE8F3",
            "linecolor": "#A2B1C6",
            "ticks": ""
           },
           "baxis": {
            "gridcolor": "#DFE8F3",
            "linecolor": "#A2B1C6",
            "ticks": ""
           },
           "bgcolor": "white",
           "caxis": {
            "gridcolor": "#DFE8F3",
            "linecolor": "#A2B1C6",
            "ticks": ""
           }
          },
          "title": {
           "x": 0.05
          },
          "xaxis": {
           "automargin": true,
           "gridcolor": "#EBF0F8",
           "linecolor": "#EBF0F8",
           "ticks": "",
           "title": {
            "standoff": 15
           },
           "zerolinecolor": "#EBF0F8",
           "zerolinewidth": 2
          },
          "yaxis": {
           "automargin": true,
           "gridcolor": "#EBF0F8",
           "linecolor": "#EBF0F8",
           "ticks": "",
           "title": {
            "standoff": 15
           },
           "zerolinecolor": "#EBF0F8",
           "zerolinewidth": 2
          }
         }
        },
        "title": {
         "text": "Feature Importances (XGBoost)"
        },
        "width": 800,
        "xaxis": {
         "anchor": "y",
         "domain": [
          0,
          1
         ],
         "title": {
          "text": "Importance Score"
         }
        },
        "yaxis": {
         "anchor": "x",
         "categoryorder": "total ascending",
         "domain": [
          0,
          1
         ],
         "title": {
          "text": "Features"
         }
        }
       }
      }
     },
     "metadata": {},
     "output_type": "display_data"
    }
   ],
   "source": [
    "\n",
    "fig = px.bar(\n",
    "    importance_df,\n",
    "    x='Importance',\n",
    "    y='Feature',\n",
    "    orientation='h',\n",
    "    title='Feature Importances (XGBoost)',\n",
    "    labels={'Importance': 'Importance Score', 'Feature': 'Features'},\n",
    "    template='plotly_white'\n",
    ")\n",
    "\n",
    "fig.update_layout(\n",
    "    height=600,\n",
    "    width=800,\n",
    "    yaxis=dict(categoryorder='total ascending')\n",
    ")\n",
    "\n",
    "fig.show()"
   ]
  },
  {
   "cell_type": "code",
   "execution_count": 860,
   "metadata": {},
   "outputs": [
    {
     "data": {
      "application/vnd.plotly.v1+json": {
       "config": {
        "plotlyServerURL": "https://plot.ly"
       },
       "data": [
        {
         "marker": {
          "size": 8,
          "symbol": "circle"
         },
         "mode": "lines+markers",
         "name": "Actual Sales",
         "type": "scatter",
         "x": [
          1,
          2,
          3,
          4,
          5,
          6,
          7,
          8,
          9,
          10,
          11,
          12,
          13,
          14,
          15,
          16,
          17,
          18,
          19,
          20
         ],
         "y": {
          "bdata": "aiQAAHUTAADsEwAAv4wAACsTAQDyAwoA3fMDAGokAAB5OQAAgRgAALsRAACFOgAABsoEABrlAAB1EwAAVaEJAN4fAgDLHwAAzRAAAPVHAAA=",
          "dtype": "i4"
         }
        },
        {
         "marker": {
          "size": 8,
          "symbol": "x"
         },
         "mode": "lines+markers",
         "name": "Predicted Sales",
         "type": "scatter",
         "x": [
          1,
          2,
          3,
          4,
          5,
          6,
          7,
          8,
          9,
          10,
          11,
          12,
          13,
          14,
          15,
          16,
          17,
          18,
          19,
          20
         ],
         "y": {
          "bdata": "exSuR+Hax0CamZmZWSW4QK5H4XrUQ7lAXI/C9ThT50DhehSu86L5QK5H4Xo/KiVB7FG4HmqhFEF7FK5HYUXHQHE9CtdTR9JA9ihcj+K9wEAK16NwfXm1QPYoXI+SKdFAUrgehcOnFUHD9ShcSyryQNejcD2KFrlACtej8O8lJEGF61G4uDYHQUjhehQu2cZAw/UoXM/wtEBI4XoU3p/WQA==",
          "dtype": "f8"
         }
        }
       ],
       "layout": {
        "height": 600,
        "legend": {
         "title": {
          "text": "Legend"
         }
        },
        "template": {
         "data": {
          "bar": [
           {
            "error_x": {
             "color": "#2a3f5f"
            },
            "error_y": {
             "color": "#2a3f5f"
            },
            "marker": {
             "line": {
              "color": "white",
              "width": 0.5
             },
             "pattern": {
              "fillmode": "overlay",
              "size": 10,
              "solidity": 0.2
             }
            },
            "type": "bar"
           }
          ],
          "barpolar": [
           {
            "marker": {
             "line": {
              "color": "white",
              "width": 0.5
             },
             "pattern": {
              "fillmode": "overlay",
              "size": 10,
              "solidity": 0.2
             }
            },
            "type": "barpolar"
           }
          ],
          "carpet": [
           {
            "aaxis": {
             "endlinecolor": "#2a3f5f",
             "gridcolor": "#C8D4E3",
             "linecolor": "#C8D4E3",
             "minorgridcolor": "#C8D4E3",
             "startlinecolor": "#2a3f5f"
            },
            "baxis": {
             "endlinecolor": "#2a3f5f",
             "gridcolor": "#C8D4E3",
             "linecolor": "#C8D4E3",
             "minorgridcolor": "#C8D4E3",
             "startlinecolor": "#2a3f5f"
            },
            "type": "carpet"
           }
          ],
          "choropleth": [
           {
            "colorbar": {
             "outlinewidth": 0,
             "ticks": ""
            },
            "type": "choropleth"
           }
          ],
          "contour": [
           {
            "colorbar": {
             "outlinewidth": 0,
             "ticks": ""
            },
            "colorscale": [
             [
              0,
              "#0d0887"
             ],
             [
              0.1111111111111111,
              "#46039f"
             ],
             [
              0.2222222222222222,
              "#7201a8"
             ],
             [
              0.3333333333333333,
              "#9c179e"
             ],
             [
              0.4444444444444444,
              "#bd3786"
             ],
             [
              0.5555555555555556,
              "#d8576b"
             ],
             [
              0.6666666666666666,
              "#ed7953"
             ],
             [
              0.7777777777777778,
              "#fb9f3a"
             ],
             [
              0.8888888888888888,
              "#fdca26"
             ],
             [
              1,
              "#f0f921"
             ]
            ],
            "type": "contour"
           }
          ],
          "contourcarpet": [
           {
            "colorbar": {
             "outlinewidth": 0,
             "ticks": ""
            },
            "type": "contourcarpet"
           }
          ],
          "heatmap": [
           {
            "colorbar": {
             "outlinewidth": 0,
             "ticks": ""
            },
            "colorscale": [
             [
              0,
              "#0d0887"
             ],
             [
              0.1111111111111111,
              "#46039f"
             ],
             [
              0.2222222222222222,
              "#7201a8"
             ],
             [
              0.3333333333333333,
              "#9c179e"
             ],
             [
              0.4444444444444444,
              "#bd3786"
             ],
             [
              0.5555555555555556,
              "#d8576b"
             ],
             [
              0.6666666666666666,
              "#ed7953"
             ],
             [
              0.7777777777777778,
              "#fb9f3a"
             ],
             [
              0.8888888888888888,
              "#fdca26"
             ],
             [
              1,
              "#f0f921"
             ]
            ],
            "type": "heatmap"
           }
          ],
          "histogram": [
           {
            "marker": {
             "pattern": {
              "fillmode": "overlay",
              "size": 10,
              "solidity": 0.2
             }
            },
            "type": "histogram"
           }
          ],
          "histogram2d": [
           {
            "colorbar": {
             "outlinewidth": 0,
             "ticks": ""
            },
            "colorscale": [
             [
              0,
              "#0d0887"
             ],
             [
              0.1111111111111111,
              "#46039f"
             ],
             [
              0.2222222222222222,
              "#7201a8"
             ],
             [
              0.3333333333333333,
              "#9c179e"
             ],
             [
              0.4444444444444444,
              "#bd3786"
             ],
             [
              0.5555555555555556,
              "#d8576b"
             ],
             [
              0.6666666666666666,
              "#ed7953"
             ],
             [
              0.7777777777777778,
              "#fb9f3a"
             ],
             [
              0.8888888888888888,
              "#fdca26"
             ],
             [
              1,
              "#f0f921"
             ]
            ],
            "type": "histogram2d"
           }
          ],
          "histogram2dcontour": [
           {
            "colorbar": {
             "outlinewidth": 0,
             "ticks": ""
            },
            "colorscale": [
             [
              0,
              "#0d0887"
             ],
             [
              0.1111111111111111,
              "#46039f"
             ],
             [
              0.2222222222222222,
              "#7201a8"
             ],
             [
              0.3333333333333333,
              "#9c179e"
             ],
             [
              0.4444444444444444,
              "#bd3786"
             ],
             [
              0.5555555555555556,
              "#d8576b"
             ],
             [
              0.6666666666666666,
              "#ed7953"
             ],
             [
              0.7777777777777778,
              "#fb9f3a"
             ],
             [
              0.8888888888888888,
              "#fdca26"
             ],
             [
              1,
              "#f0f921"
             ]
            ],
            "type": "histogram2dcontour"
           }
          ],
          "mesh3d": [
           {
            "colorbar": {
             "outlinewidth": 0,
             "ticks": ""
            },
            "type": "mesh3d"
           }
          ],
          "parcoords": [
           {
            "line": {
             "colorbar": {
              "outlinewidth": 0,
              "ticks": ""
             }
            },
            "type": "parcoords"
           }
          ],
          "pie": [
           {
            "automargin": true,
            "type": "pie"
           }
          ],
          "scatter": [
           {
            "fillpattern": {
             "fillmode": "overlay",
             "size": 10,
             "solidity": 0.2
            },
            "type": "scatter"
           }
          ],
          "scatter3d": [
           {
            "line": {
             "colorbar": {
              "outlinewidth": 0,
              "ticks": ""
             }
            },
            "marker": {
             "colorbar": {
              "outlinewidth": 0,
              "ticks": ""
             }
            },
            "type": "scatter3d"
           }
          ],
          "scattercarpet": [
           {
            "marker": {
             "colorbar": {
              "outlinewidth": 0,
              "ticks": ""
             }
            },
            "type": "scattercarpet"
           }
          ],
          "scattergeo": [
           {
            "marker": {
             "colorbar": {
              "outlinewidth": 0,
              "ticks": ""
             }
            },
            "type": "scattergeo"
           }
          ],
          "scattergl": [
           {
            "marker": {
             "colorbar": {
              "outlinewidth": 0,
              "ticks": ""
             }
            },
            "type": "scattergl"
           }
          ],
          "scattermap": [
           {
            "marker": {
             "colorbar": {
              "outlinewidth": 0,
              "ticks": ""
             }
            },
            "type": "scattermap"
           }
          ],
          "scattermapbox": [
           {
            "marker": {
             "colorbar": {
              "outlinewidth": 0,
              "ticks": ""
             }
            },
            "type": "scattermapbox"
           }
          ],
          "scatterpolar": [
           {
            "marker": {
             "colorbar": {
              "outlinewidth": 0,
              "ticks": ""
             }
            },
            "type": "scatterpolar"
           }
          ],
          "scatterpolargl": [
           {
            "marker": {
             "colorbar": {
              "outlinewidth": 0,
              "ticks": ""
             }
            },
            "type": "scatterpolargl"
           }
          ],
          "scatterternary": [
           {
            "marker": {
             "colorbar": {
              "outlinewidth": 0,
              "ticks": ""
             }
            },
            "type": "scatterternary"
           }
          ],
          "surface": [
           {
            "colorbar": {
             "outlinewidth": 0,
             "ticks": ""
            },
            "colorscale": [
             [
              0,
              "#0d0887"
             ],
             [
              0.1111111111111111,
              "#46039f"
             ],
             [
              0.2222222222222222,
              "#7201a8"
             ],
             [
              0.3333333333333333,
              "#9c179e"
             ],
             [
              0.4444444444444444,
              "#bd3786"
             ],
             [
              0.5555555555555556,
              "#d8576b"
             ],
             [
              0.6666666666666666,
              "#ed7953"
             ],
             [
              0.7777777777777778,
              "#fb9f3a"
             ],
             [
              0.8888888888888888,
              "#fdca26"
             ],
             [
              1,
              "#f0f921"
             ]
            ],
            "type": "surface"
           }
          ],
          "table": [
           {
            "cells": {
             "fill": {
              "color": "#EBF0F8"
             },
             "line": {
              "color": "white"
             }
            },
            "header": {
             "fill": {
              "color": "#C8D4E3"
             },
             "line": {
              "color": "white"
             }
            },
            "type": "table"
           }
          ]
         },
         "layout": {
          "annotationdefaults": {
           "arrowcolor": "#2a3f5f",
           "arrowhead": 0,
           "arrowwidth": 1
          },
          "autotypenumbers": "strict",
          "coloraxis": {
           "colorbar": {
            "outlinewidth": 0,
            "ticks": ""
           }
          },
          "colorscale": {
           "diverging": [
            [
             0,
             "#8e0152"
            ],
            [
             0.1,
             "#c51b7d"
            ],
            [
             0.2,
             "#de77ae"
            ],
            [
             0.3,
             "#f1b6da"
            ],
            [
             0.4,
             "#fde0ef"
            ],
            [
             0.5,
             "#f7f7f7"
            ],
            [
             0.6,
             "#e6f5d0"
            ],
            [
             0.7,
             "#b8e186"
            ],
            [
             0.8,
             "#7fbc41"
            ],
            [
             0.9,
             "#4d9221"
            ],
            [
             1,
             "#276419"
            ]
           ],
           "sequential": [
            [
             0,
             "#0d0887"
            ],
            [
             0.1111111111111111,
             "#46039f"
            ],
            [
             0.2222222222222222,
             "#7201a8"
            ],
            [
             0.3333333333333333,
             "#9c179e"
            ],
            [
             0.4444444444444444,
             "#bd3786"
            ],
            [
             0.5555555555555556,
             "#d8576b"
            ],
            [
             0.6666666666666666,
             "#ed7953"
            ],
            [
             0.7777777777777778,
             "#fb9f3a"
            ],
            [
             0.8888888888888888,
             "#fdca26"
            ],
            [
             1,
             "#f0f921"
            ]
           ],
           "sequentialminus": [
            [
             0,
             "#0d0887"
            ],
            [
             0.1111111111111111,
             "#46039f"
            ],
            [
             0.2222222222222222,
             "#7201a8"
            ],
            [
             0.3333333333333333,
             "#9c179e"
            ],
            [
             0.4444444444444444,
             "#bd3786"
            ],
            [
             0.5555555555555556,
             "#d8576b"
            ],
            [
             0.6666666666666666,
             "#ed7953"
            ],
            [
             0.7777777777777778,
             "#fb9f3a"
            ],
            [
             0.8888888888888888,
             "#fdca26"
            ],
            [
             1,
             "#f0f921"
            ]
           ]
          },
          "colorway": [
           "#636efa",
           "#EF553B",
           "#00cc96",
           "#ab63fa",
           "#FFA15A",
           "#19d3f3",
           "#FF6692",
           "#B6E880",
           "#FF97FF",
           "#FECB52"
          ],
          "font": {
           "color": "#2a3f5f"
          },
          "geo": {
           "bgcolor": "white",
           "lakecolor": "white",
           "landcolor": "white",
           "showlakes": true,
           "showland": true,
           "subunitcolor": "#C8D4E3"
          },
          "hoverlabel": {
           "align": "left"
          },
          "hovermode": "closest",
          "mapbox": {
           "style": "light"
          },
          "paper_bgcolor": "white",
          "plot_bgcolor": "white",
          "polar": {
           "angularaxis": {
            "gridcolor": "#EBF0F8",
            "linecolor": "#EBF0F8",
            "ticks": ""
           },
           "bgcolor": "white",
           "radialaxis": {
            "gridcolor": "#EBF0F8",
            "linecolor": "#EBF0F8",
            "ticks": ""
           }
          },
          "scene": {
           "xaxis": {
            "backgroundcolor": "white",
            "gridcolor": "#DFE8F3",
            "gridwidth": 2,
            "linecolor": "#EBF0F8",
            "showbackground": true,
            "ticks": "",
            "zerolinecolor": "#EBF0F8"
           },
           "yaxis": {
            "backgroundcolor": "white",
            "gridcolor": "#DFE8F3",
            "gridwidth": 2,
            "linecolor": "#EBF0F8",
            "showbackground": true,
            "ticks": "",
            "zerolinecolor": "#EBF0F8"
           },
           "zaxis": {
            "backgroundcolor": "white",
            "gridcolor": "#DFE8F3",
            "gridwidth": 2,
            "linecolor": "#EBF0F8",
            "showbackground": true,
            "ticks": "",
            "zerolinecolor": "#EBF0F8"
           }
          },
          "shapedefaults": {
           "line": {
            "color": "#2a3f5f"
           }
          },
          "ternary": {
           "aaxis": {
            "gridcolor": "#DFE8F3",
            "linecolor": "#A2B1C6",
            "ticks": ""
           },
           "baxis": {
            "gridcolor": "#DFE8F3",
            "linecolor": "#A2B1C6",
            "ticks": ""
           },
           "bgcolor": "white",
           "caxis": {
            "gridcolor": "#DFE8F3",
            "linecolor": "#A2B1C6",
            "ticks": ""
           }
          },
          "title": {
           "x": 0.05
          },
          "xaxis": {
           "automargin": true,
           "gridcolor": "#EBF0F8",
           "linecolor": "#EBF0F8",
           "ticks": "",
           "title": {
            "standoff": 15
           },
           "zerolinecolor": "#EBF0F8",
           "zerolinewidth": 2
          },
          "yaxis": {
           "automargin": true,
           "gridcolor": "#EBF0F8",
           "linecolor": "#EBF0F8",
           "ticks": "",
           "title": {
            "standoff": 15
           },
           "zerolinecolor": "#EBF0F8",
           "zerolinewidth": 2
          }
         }
        },
        "title": {
         "text": "Random Forest Regressor: Predicted vs. Actual Sales"
        },
        "width": 800,
        "xaxis": {
         "title": {
          "text": "Row Index (Last 20 Rows)"
         }
        },
        "yaxis": {
         "title": {
          "text": "Sales"
         }
        }
       }
      }
     },
     "metadata": {},
     "output_type": "display_data"
    }
   ],
   "source": [
    "fig = go.Figure()\n",
    "\n",
    "fig.add_trace(go.Scatter(\n",
    "    x=list(range(1, 21)),\n",
    "    y=y_validation.values,\n",
    "    mode='lines+markers',\n",
    "    name='Actual Sales',\n",
    "    marker=dict(symbol='circle', size=8)\n",
    "))\n",
    "\n",
    "fig.add_trace(go.Scatter(\n",
    "    x=list(range(1, 21)),\n",
    "    y=y_pred,\n",
    "    mode='lines+markers',\n",
    "    name='Predicted Sales',\n",
    "    marker=dict(symbol='x', size=8)\n",
    "))\n",
    "\n",
    "fig.update_layout(\n",
    "    title=\"Random Forest Regressor: Predicted vs. Actual Sales\",\n",
    "    xaxis_title=\"Row Index (Last 20 Rows)\",\n",
    "    yaxis_title=\"Sales\",\n",
    "    legend_title=\"Legend\",\n",
    "    template=\"plotly_white\",\n",
    "    width=800,\n",
    "    height=600\n",
    ")\n",
    "\n",
    "fig.show()"
   ]
  },
  {
   "cell_type": "markdown",
   "metadata": {},
   "source": [
    "#### Gradient Boosting Model"
   ]
  },
  {
   "cell_type": "code",
   "execution_count": 861,
   "metadata": {},
   "outputs": [],
   "source": [
    "model = XGBRegressor()\n",
    "model.fit(X_train, y_train)\n",
    "y_pred = model.predict(X_validation)"
   ]
  },
  {
   "cell_type": "code",
   "execution_count": 862,
   "metadata": {},
   "outputs": [
    {
     "name": "stdout",
     "output_type": "stream",
     "text": [
      "Mean Absolute Error (MAE): 15643.8466796875\n",
      "R-squared (R2): 0.97846919298172\n"
     ]
    }
   ],
   "source": [
    "mae = mean_absolute_error(y_validation, y_pred)\n",
    "r2 = r2_score(y_validation, y_pred)\n",
    "\n",
    "print(f\"Mean Absolute Error (MAE): {mae}\")\n",
    "print(f\"R-squared (R2): {r2}\")"
   ]
  },
  {
   "cell_type": "code",
   "execution_count": 863,
   "metadata": {},
   "outputs": [
    {
     "name": "stdout",
     "output_type": "stream",
     "text": [
      "\n",
      "Feature Importances:\n",
      "                             Feature  Importance\n",
      "15                 Discount Band_Low    0.411934\n",
      "1                          Discounts    0.194263\n",
      "16              Discount Band_Medium    0.096468\n",
      "5             Segment_Small Business    0.091422\n",
      "2                 Segment_Enterprise    0.070063\n",
      "3                 Segment_Government    0.024032\n",
      "8                     Country_Mexico    0.019273\n",
      "6                     Country_France    0.018443\n",
      "11                 Product_ Montana     0.016770\n",
      "9   Country_United States of America    0.013969\n",
      "7                    Country_Germany    0.013452\n",
      "12                   Product_ Paseo     0.011361\n",
      "0                Manufacturing Price    0.007292\n",
      "4                  Segment_Midmarket    0.004274\n",
      "13                     Product_ VTT     0.004016\n",
      "14                    Product_ Velo     0.002968\n",
      "10               Product_ Carretera     0.000000\n"
     ]
    }
   ],
   "source": [
    "if not isinstance(X_train, pd.DataFrame):\n",
    "    X_train = pd.DataFrame(X_train, columns=feature_names)\n",
    "\n",
    "feature_importances = model.feature_importances_\n",
    "\n",
    "importance_df = pd.DataFrame({\n",
    "    'Feature': X_train.columns,\n",
    "    'Importance': feature_importances\n",
    "}).sort_values(by='Importance', ascending=False)\n",
    "\n",
    "print(\"\\nFeature Importances:\")\n",
    "print(importance_df)"
   ]
  },
  {
   "cell_type": "code",
   "execution_count": 864,
   "metadata": {},
   "outputs": [
    {
     "data": {
      "application/vnd.plotly.v1+json": {
       "config": {
        "plotlyServerURL": "https://plot.ly"
       },
       "data": [
        {
         "hovertemplate": "Importance Score=%{x}<br>Feature=%{y}<extra></extra>",
         "legendgroup": "",
         "marker": {
          "color": "#636efa",
          "pattern": {
           "shape": ""
          }
         },
         "name": "",
         "orientation": "h",
         "showlegend": false,
         "textposition": "auto",
         "type": "bar",
         "x": {
          "bdata": "AunSPsXsRj4pkcU9Ozu7PSN9jz2P38Q8muGdPKsVlzyvYYk8zN9kPLZlXDzLIjo8K/HuO+ANjDtWmIM7fYlCOwAAAAA=",
          "dtype": "f4"
         },
         "xaxis": "x",
         "y": [
          "Discount Band_Low",
          "Discounts",
          "Discount Band_Medium",
          "Segment_Small Business",
          "Segment_Enterprise",
          "Segment_Government",
          "Country_Mexico",
          "Country_France",
          "Product_ Montana ",
          "Country_United States of America",
          "Country_Germany",
          "Product_ Paseo ",
          "Manufacturing Price",
          "Segment_Midmarket",
          "Product_ VTT ",
          "Product_ Velo ",
          "Product_ Carretera "
         ],
         "yaxis": "y"
        }
       ],
       "layout": {
        "barmode": "relative",
        "height": 600,
        "legend": {
         "tracegroupgap": 0
        },
        "template": {
         "data": {
          "bar": [
           {
            "error_x": {
             "color": "#2a3f5f"
            },
            "error_y": {
             "color": "#2a3f5f"
            },
            "marker": {
             "line": {
              "color": "white",
              "width": 0.5
             },
             "pattern": {
              "fillmode": "overlay",
              "size": 10,
              "solidity": 0.2
             }
            },
            "type": "bar"
           }
          ],
          "barpolar": [
           {
            "marker": {
             "line": {
              "color": "white",
              "width": 0.5
             },
             "pattern": {
              "fillmode": "overlay",
              "size": 10,
              "solidity": 0.2
             }
            },
            "type": "barpolar"
           }
          ],
          "carpet": [
           {
            "aaxis": {
             "endlinecolor": "#2a3f5f",
             "gridcolor": "#C8D4E3",
             "linecolor": "#C8D4E3",
             "minorgridcolor": "#C8D4E3",
             "startlinecolor": "#2a3f5f"
            },
            "baxis": {
             "endlinecolor": "#2a3f5f",
             "gridcolor": "#C8D4E3",
             "linecolor": "#C8D4E3",
             "minorgridcolor": "#C8D4E3",
             "startlinecolor": "#2a3f5f"
            },
            "type": "carpet"
           }
          ],
          "choropleth": [
           {
            "colorbar": {
             "outlinewidth": 0,
             "ticks": ""
            },
            "type": "choropleth"
           }
          ],
          "contour": [
           {
            "colorbar": {
             "outlinewidth": 0,
             "ticks": ""
            },
            "colorscale": [
             [
              0,
              "#0d0887"
             ],
             [
              0.1111111111111111,
              "#46039f"
             ],
             [
              0.2222222222222222,
              "#7201a8"
             ],
             [
              0.3333333333333333,
              "#9c179e"
             ],
             [
              0.4444444444444444,
              "#bd3786"
             ],
             [
              0.5555555555555556,
              "#d8576b"
             ],
             [
              0.6666666666666666,
              "#ed7953"
             ],
             [
              0.7777777777777778,
              "#fb9f3a"
             ],
             [
              0.8888888888888888,
              "#fdca26"
             ],
             [
              1,
              "#f0f921"
             ]
            ],
            "type": "contour"
           }
          ],
          "contourcarpet": [
           {
            "colorbar": {
             "outlinewidth": 0,
             "ticks": ""
            },
            "type": "contourcarpet"
           }
          ],
          "heatmap": [
           {
            "colorbar": {
             "outlinewidth": 0,
             "ticks": ""
            },
            "colorscale": [
             [
              0,
              "#0d0887"
             ],
             [
              0.1111111111111111,
              "#46039f"
             ],
             [
              0.2222222222222222,
              "#7201a8"
             ],
             [
              0.3333333333333333,
              "#9c179e"
             ],
             [
              0.4444444444444444,
              "#bd3786"
             ],
             [
              0.5555555555555556,
              "#d8576b"
             ],
             [
              0.6666666666666666,
              "#ed7953"
             ],
             [
              0.7777777777777778,
              "#fb9f3a"
             ],
             [
              0.8888888888888888,
              "#fdca26"
             ],
             [
              1,
              "#f0f921"
             ]
            ],
            "type": "heatmap"
           }
          ],
          "histogram": [
           {
            "marker": {
             "pattern": {
              "fillmode": "overlay",
              "size": 10,
              "solidity": 0.2
             }
            },
            "type": "histogram"
           }
          ],
          "histogram2d": [
           {
            "colorbar": {
             "outlinewidth": 0,
             "ticks": ""
            },
            "colorscale": [
             [
              0,
              "#0d0887"
             ],
             [
              0.1111111111111111,
              "#46039f"
             ],
             [
              0.2222222222222222,
              "#7201a8"
             ],
             [
              0.3333333333333333,
              "#9c179e"
             ],
             [
              0.4444444444444444,
              "#bd3786"
             ],
             [
              0.5555555555555556,
              "#d8576b"
             ],
             [
              0.6666666666666666,
              "#ed7953"
             ],
             [
              0.7777777777777778,
              "#fb9f3a"
             ],
             [
              0.8888888888888888,
              "#fdca26"
             ],
             [
              1,
              "#f0f921"
             ]
            ],
            "type": "histogram2d"
           }
          ],
          "histogram2dcontour": [
           {
            "colorbar": {
             "outlinewidth": 0,
             "ticks": ""
            },
            "colorscale": [
             [
              0,
              "#0d0887"
             ],
             [
              0.1111111111111111,
              "#46039f"
             ],
             [
              0.2222222222222222,
              "#7201a8"
             ],
             [
              0.3333333333333333,
              "#9c179e"
             ],
             [
              0.4444444444444444,
              "#bd3786"
             ],
             [
              0.5555555555555556,
              "#d8576b"
             ],
             [
              0.6666666666666666,
              "#ed7953"
             ],
             [
              0.7777777777777778,
              "#fb9f3a"
             ],
             [
              0.8888888888888888,
              "#fdca26"
             ],
             [
              1,
              "#f0f921"
             ]
            ],
            "type": "histogram2dcontour"
           }
          ],
          "mesh3d": [
           {
            "colorbar": {
             "outlinewidth": 0,
             "ticks": ""
            },
            "type": "mesh3d"
           }
          ],
          "parcoords": [
           {
            "line": {
             "colorbar": {
              "outlinewidth": 0,
              "ticks": ""
             }
            },
            "type": "parcoords"
           }
          ],
          "pie": [
           {
            "automargin": true,
            "type": "pie"
           }
          ],
          "scatter": [
           {
            "fillpattern": {
             "fillmode": "overlay",
             "size": 10,
             "solidity": 0.2
            },
            "type": "scatter"
           }
          ],
          "scatter3d": [
           {
            "line": {
             "colorbar": {
              "outlinewidth": 0,
              "ticks": ""
             }
            },
            "marker": {
             "colorbar": {
              "outlinewidth": 0,
              "ticks": ""
             }
            },
            "type": "scatter3d"
           }
          ],
          "scattercarpet": [
           {
            "marker": {
             "colorbar": {
              "outlinewidth": 0,
              "ticks": ""
             }
            },
            "type": "scattercarpet"
           }
          ],
          "scattergeo": [
           {
            "marker": {
             "colorbar": {
              "outlinewidth": 0,
              "ticks": ""
             }
            },
            "type": "scattergeo"
           }
          ],
          "scattergl": [
           {
            "marker": {
             "colorbar": {
              "outlinewidth": 0,
              "ticks": ""
             }
            },
            "type": "scattergl"
           }
          ],
          "scattermap": [
           {
            "marker": {
             "colorbar": {
              "outlinewidth": 0,
              "ticks": ""
             }
            },
            "type": "scattermap"
           }
          ],
          "scattermapbox": [
           {
            "marker": {
             "colorbar": {
              "outlinewidth": 0,
              "ticks": ""
             }
            },
            "type": "scattermapbox"
           }
          ],
          "scatterpolar": [
           {
            "marker": {
             "colorbar": {
              "outlinewidth": 0,
              "ticks": ""
             }
            },
            "type": "scatterpolar"
           }
          ],
          "scatterpolargl": [
           {
            "marker": {
             "colorbar": {
              "outlinewidth": 0,
              "ticks": ""
             }
            },
            "type": "scatterpolargl"
           }
          ],
          "scatterternary": [
           {
            "marker": {
             "colorbar": {
              "outlinewidth": 0,
              "ticks": ""
             }
            },
            "type": "scatterternary"
           }
          ],
          "surface": [
           {
            "colorbar": {
             "outlinewidth": 0,
             "ticks": ""
            },
            "colorscale": [
             [
              0,
              "#0d0887"
             ],
             [
              0.1111111111111111,
              "#46039f"
             ],
             [
              0.2222222222222222,
              "#7201a8"
             ],
             [
              0.3333333333333333,
              "#9c179e"
             ],
             [
              0.4444444444444444,
              "#bd3786"
             ],
             [
              0.5555555555555556,
              "#d8576b"
             ],
             [
              0.6666666666666666,
              "#ed7953"
             ],
             [
              0.7777777777777778,
              "#fb9f3a"
             ],
             [
              0.8888888888888888,
              "#fdca26"
             ],
             [
              1,
              "#f0f921"
             ]
            ],
            "type": "surface"
           }
          ],
          "table": [
           {
            "cells": {
             "fill": {
              "color": "#EBF0F8"
             },
             "line": {
              "color": "white"
             }
            },
            "header": {
             "fill": {
              "color": "#C8D4E3"
             },
             "line": {
              "color": "white"
             }
            },
            "type": "table"
           }
          ]
         },
         "layout": {
          "annotationdefaults": {
           "arrowcolor": "#2a3f5f",
           "arrowhead": 0,
           "arrowwidth": 1
          },
          "autotypenumbers": "strict",
          "coloraxis": {
           "colorbar": {
            "outlinewidth": 0,
            "ticks": ""
           }
          },
          "colorscale": {
           "diverging": [
            [
             0,
             "#8e0152"
            ],
            [
             0.1,
             "#c51b7d"
            ],
            [
             0.2,
             "#de77ae"
            ],
            [
             0.3,
             "#f1b6da"
            ],
            [
             0.4,
             "#fde0ef"
            ],
            [
             0.5,
             "#f7f7f7"
            ],
            [
             0.6,
             "#e6f5d0"
            ],
            [
             0.7,
             "#b8e186"
            ],
            [
             0.8,
             "#7fbc41"
            ],
            [
             0.9,
             "#4d9221"
            ],
            [
             1,
             "#276419"
            ]
           ],
           "sequential": [
            [
             0,
             "#0d0887"
            ],
            [
             0.1111111111111111,
             "#46039f"
            ],
            [
             0.2222222222222222,
             "#7201a8"
            ],
            [
             0.3333333333333333,
             "#9c179e"
            ],
            [
             0.4444444444444444,
             "#bd3786"
            ],
            [
             0.5555555555555556,
             "#d8576b"
            ],
            [
             0.6666666666666666,
             "#ed7953"
            ],
            [
             0.7777777777777778,
             "#fb9f3a"
            ],
            [
             0.8888888888888888,
             "#fdca26"
            ],
            [
             1,
             "#f0f921"
            ]
           ],
           "sequentialminus": [
            [
             0,
             "#0d0887"
            ],
            [
             0.1111111111111111,
             "#46039f"
            ],
            [
             0.2222222222222222,
             "#7201a8"
            ],
            [
             0.3333333333333333,
             "#9c179e"
            ],
            [
             0.4444444444444444,
             "#bd3786"
            ],
            [
             0.5555555555555556,
             "#d8576b"
            ],
            [
             0.6666666666666666,
             "#ed7953"
            ],
            [
             0.7777777777777778,
             "#fb9f3a"
            ],
            [
             0.8888888888888888,
             "#fdca26"
            ],
            [
             1,
             "#f0f921"
            ]
           ]
          },
          "colorway": [
           "#636efa",
           "#EF553B",
           "#00cc96",
           "#ab63fa",
           "#FFA15A",
           "#19d3f3",
           "#FF6692",
           "#B6E880",
           "#FF97FF",
           "#FECB52"
          ],
          "font": {
           "color": "#2a3f5f"
          },
          "geo": {
           "bgcolor": "white",
           "lakecolor": "white",
           "landcolor": "white",
           "showlakes": true,
           "showland": true,
           "subunitcolor": "#C8D4E3"
          },
          "hoverlabel": {
           "align": "left"
          },
          "hovermode": "closest",
          "mapbox": {
           "style": "light"
          },
          "paper_bgcolor": "white",
          "plot_bgcolor": "white",
          "polar": {
           "angularaxis": {
            "gridcolor": "#EBF0F8",
            "linecolor": "#EBF0F8",
            "ticks": ""
           },
           "bgcolor": "white",
           "radialaxis": {
            "gridcolor": "#EBF0F8",
            "linecolor": "#EBF0F8",
            "ticks": ""
           }
          },
          "scene": {
           "xaxis": {
            "backgroundcolor": "white",
            "gridcolor": "#DFE8F3",
            "gridwidth": 2,
            "linecolor": "#EBF0F8",
            "showbackground": true,
            "ticks": "",
            "zerolinecolor": "#EBF0F8"
           },
           "yaxis": {
            "backgroundcolor": "white",
            "gridcolor": "#DFE8F3",
            "gridwidth": 2,
            "linecolor": "#EBF0F8",
            "showbackground": true,
            "ticks": "",
            "zerolinecolor": "#EBF0F8"
           },
           "zaxis": {
            "backgroundcolor": "white",
            "gridcolor": "#DFE8F3",
            "gridwidth": 2,
            "linecolor": "#EBF0F8",
            "showbackground": true,
            "ticks": "",
            "zerolinecolor": "#EBF0F8"
           }
          },
          "shapedefaults": {
           "line": {
            "color": "#2a3f5f"
           }
          },
          "ternary": {
           "aaxis": {
            "gridcolor": "#DFE8F3",
            "linecolor": "#A2B1C6",
            "ticks": ""
           },
           "baxis": {
            "gridcolor": "#DFE8F3",
            "linecolor": "#A2B1C6",
            "ticks": ""
           },
           "bgcolor": "white",
           "caxis": {
            "gridcolor": "#DFE8F3",
            "linecolor": "#A2B1C6",
            "ticks": ""
           }
          },
          "title": {
           "x": 0.05
          },
          "xaxis": {
           "automargin": true,
           "gridcolor": "#EBF0F8",
           "linecolor": "#EBF0F8",
           "ticks": "",
           "title": {
            "standoff": 15
           },
           "zerolinecolor": "#EBF0F8",
           "zerolinewidth": 2
          },
          "yaxis": {
           "automargin": true,
           "gridcolor": "#EBF0F8",
           "linecolor": "#EBF0F8",
           "ticks": "",
           "title": {
            "standoff": 15
           },
           "zerolinecolor": "#EBF0F8",
           "zerolinewidth": 2
          }
         }
        },
        "title": {
         "text": "Feature Importances (XGBoost)"
        },
        "width": 800,
        "xaxis": {
         "anchor": "y",
         "domain": [
          0,
          1
         ],
         "title": {
          "text": "Importance Score"
         }
        },
        "yaxis": {
         "anchor": "x",
         "categoryorder": "total ascending",
         "domain": [
          0,
          1
         ],
         "title": {
          "text": "Feature"
         }
        }
       }
      }
     },
     "metadata": {},
     "output_type": "display_data"
    }
   ],
   "source": [
    "fig = px.bar(\n",
    "    importance_df,\n",
    "    x='Importance',\n",
    "    y='Feature',\n",
    "    orientation='h',\n",
    "    title='Feature Importances (XGBoost)',\n",
    "    labels={'Importance': 'Importance Score', 'Feature': 'Feature'},\n",
    "    template='plotly_white'\n",
    ")\n",
    "\n",
    "fig.update_layout(\n",
    "    height=600,\n",
    "    width=800,\n",
    "    yaxis=dict(categoryorder='total ascending')\n",
    ")\n",
    "\n",
    "fig.show()"
   ]
  },
  {
   "cell_type": "code",
   "execution_count": 865,
   "metadata": {},
   "outputs": [
    {
     "data": {
      "application/vnd.plotly.v1+json": {
       "config": {
        "plotlyServerURL": "https://plot.ly"
       },
       "data": [
        {
         "line": {
          "color": "blue"
         },
         "marker": {
          "symbol": "circle"
         },
         "mode": "lines+markers",
         "name": "Actual Sales",
         "type": "scatter",
         "x": [
          1,
          2,
          3,
          4,
          5,
          6,
          7,
          8,
          9,
          10,
          11,
          12,
          13,
          14,
          15,
          16,
          17,
          18,
          19,
          20
         ],
         "y": {
          "bdata": "aiQAAHUTAADsEwAAv4wAACsTAQDyAwoA3fMDAGokAAB5OQAAgRgAALsRAACFOgAABsoEABrlAAB1EwAAVaEJAN4fAgDLHwAAzRAAAPVHAAA=",
          "dtype": "i4"
         }
        },
        {
         "line": {
          "color": "red"
         },
         "marker": {
          "symbol": "x"
         },
         "mode": "lines+markers",
         "name": "Predicted Sales",
         "type": "scatter",
         "x": [
          1,
          2,
          3,
          4,
          5,
          6,
          7,
          8,
          9,
          10,
          11,
          12,
          13,
          14,
          15,
          16,
          17,
          18,
          19,
          20
         ],
         "y": {
          "bdata": "H9AnRq8JHEarQ75FAzAUR49SxkeSnCNJFpygSCvROkYlRaFGUtznRZDMAUanu65GpS3CSLCVZkdmFhhGAdMYSZe4PkgfJ2xG0cvgRXqBzUY=",
          "dtype": "f4"
         }
        }
       ],
       "layout": {
        "height": 600,
        "legend": {
         "title": {
          "text": "Legend"
         }
        },
        "template": {
         "data": {
          "bar": [
           {
            "error_x": {
             "color": "#2a3f5f"
            },
            "error_y": {
             "color": "#2a3f5f"
            },
            "marker": {
             "line": {
              "color": "white",
              "width": 0.5
             },
             "pattern": {
              "fillmode": "overlay",
              "size": 10,
              "solidity": 0.2
             }
            },
            "type": "bar"
           }
          ],
          "barpolar": [
           {
            "marker": {
             "line": {
              "color": "white",
              "width": 0.5
             },
             "pattern": {
              "fillmode": "overlay",
              "size": 10,
              "solidity": 0.2
             }
            },
            "type": "barpolar"
           }
          ],
          "carpet": [
           {
            "aaxis": {
             "endlinecolor": "#2a3f5f",
             "gridcolor": "#C8D4E3",
             "linecolor": "#C8D4E3",
             "minorgridcolor": "#C8D4E3",
             "startlinecolor": "#2a3f5f"
            },
            "baxis": {
             "endlinecolor": "#2a3f5f",
             "gridcolor": "#C8D4E3",
             "linecolor": "#C8D4E3",
             "minorgridcolor": "#C8D4E3",
             "startlinecolor": "#2a3f5f"
            },
            "type": "carpet"
           }
          ],
          "choropleth": [
           {
            "colorbar": {
             "outlinewidth": 0,
             "ticks": ""
            },
            "type": "choropleth"
           }
          ],
          "contour": [
           {
            "colorbar": {
             "outlinewidth": 0,
             "ticks": ""
            },
            "colorscale": [
             [
              0,
              "#0d0887"
             ],
             [
              0.1111111111111111,
              "#46039f"
             ],
             [
              0.2222222222222222,
              "#7201a8"
             ],
             [
              0.3333333333333333,
              "#9c179e"
             ],
             [
              0.4444444444444444,
              "#bd3786"
             ],
             [
              0.5555555555555556,
              "#d8576b"
             ],
             [
              0.6666666666666666,
              "#ed7953"
             ],
             [
              0.7777777777777778,
              "#fb9f3a"
             ],
             [
              0.8888888888888888,
              "#fdca26"
             ],
             [
              1,
              "#f0f921"
             ]
            ],
            "type": "contour"
           }
          ],
          "contourcarpet": [
           {
            "colorbar": {
             "outlinewidth": 0,
             "ticks": ""
            },
            "type": "contourcarpet"
           }
          ],
          "heatmap": [
           {
            "colorbar": {
             "outlinewidth": 0,
             "ticks": ""
            },
            "colorscale": [
             [
              0,
              "#0d0887"
             ],
             [
              0.1111111111111111,
              "#46039f"
             ],
             [
              0.2222222222222222,
              "#7201a8"
             ],
             [
              0.3333333333333333,
              "#9c179e"
             ],
             [
              0.4444444444444444,
              "#bd3786"
             ],
             [
              0.5555555555555556,
              "#d8576b"
             ],
             [
              0.6666666666666666,
              "#ed7953"
             ],
             [
              0.7777777777777778,
              "#fb9f3a"
             ],
             [
              0.8888888888888888,
              "#fdca26"
             ],
             [
              1,
              "#f0f921"
             ]
            ],
            "type": "heatmap"
           }
          ],
          "histogram": [
           {
            "marker": {
             "pattern": {
              "fillmode": "overlay",
              "size": 10,
              "solidity": 0.2
             }
            },
            "type": "histogram"
           }
          ],
          "histogram2d": [
           {
            "colorbar": {
             "outlinewidth": 0,
             "ticks": ""
            },
            "colorscale": [
             [
              0,
              "#0d0887"
             ],
             [
              0.1111111111111111,
              "#46039f"
             ],
             [
              0.2222222222222222,
              "#7201a8"
             ],
             [
              0.3333333333333333,
              "#9c179e"
             ],
             [
              0.4444444444444444,
              "#bd3786"
             ],
             [
              0.5555555555555556,
              "#d8576b"
             ],
             [
              0.6666666666666666,
              "#ed7953"
             ],
             [
              0.7777777777777778,
              "#fb9f3a"
             ],
             [
              0.8888888888888888,
              "#fdca26"
             ],
             [
              1,
              "#f0f921"
             ]
            ],
            "type": "histogram2d"
           }
          ],
          "histogram2dcontour": [
           {
            "colorbar": {
             "outlinewidth": 0,
             "ticks": ""
            },
            "colorscale": [
             [
              0,
              "#0d0887"
             ],
             [
              0.1111111111111111,
              "#46039f"
             ],
             [
              0.2222222222222222,
              "#7201a8"
             ],
             [
              0.3333333333333333,
              "#9c179e"
             ],
             [
              0.4444444444444444,
              "#bd3786"
             ],
             [
              0.5555555555555556,
              "#d8576b"
             ],
             [
              0.6666666666666666,
              "#ed7953"
             ],
             [
              0.7777777777777778,
              "#fb9f3a"
             ],
             [
              0.8888888888888888,
              "#fdca26"
             ],
             [
              1,
              "#f0f921"
             ]
            ],
            "type": "histogram2dcontour"
           }
          ],
          "mesh3d": [
           {
            "colorbar": {
             "outlinewidth": 0,
             "ticks": ""
            },
            "type": "mesh3d"
           }
          ],
          "parcoords": [
           {
            "line": {
             "colorbar": {
              "outlinewidth": 0,
              "ticks": ""
             }
            },
            "type": "parcoords"
           }
          ],
          "pie": [
           {
            "automargin": true,
            "type": "pie"
           }
          ],
          "scatter": [
           {
            "fillpattern": {
             "fillmode": "overlay",
             "size": 10,
             "solidity": 0.2
            },
            "type": "scatter"
           }
          ],
          "scatter3d": [
           {
            "line": {
             "colorbar": {
              "outlinewidth": 0,
              "ticks": ""
             }
            },
            "marker": {
             "colorbar": {
              "outlinewidth": 0,
              "ticks": ""
             }
            },
            "type": "scatter3d"
           }
          ],
          "scattercarpet": [
           {
            "marker": {
             "colorbar": {
              "outlinewidth": 0,
              "ticks": ""
             }
            },
            "type": "scattercarpet"
           }
          ],
          "scattergeo": [
           {
            "marker": {
             "colorbar": {
              "outlinewidth": 0,
              "ticks": ""
             }
            },
            "type": "scattergeo"
           }
          ],
          "scattergl": [
           {
            "marker": {
             "colorbar": {
              "outlinewidth": 0,
              "ticks": ""
             }
            },
            "type": "scattergl"
           }
          ],
          "scattermap": [
           {
            "marker": {
             "colorbar": {
              "outlinewidth": 0,
              "ticks": ""
             }
            },
            "type": "scattermap"
           }
          ],
          "scattermapbox": [
           {
            "marker": {
             "colorbar": {
              "outlinewidth": 0,
              "ticks": ""
             }
            },
            "type": "scattermapbox"
           }
          ],
          "scatterpolar": [
           {
            "marker": {
             "colorbar": {
              "outlinewidth": 0,
              "ticks": ""
             }
            },
            "type": "scatterpolar"
           }
          ],
          "scatterpolargl": [
           {
            "marker": {
             "colorbar": {
              "outlinewidth": 0,
              "ticks": ""
             }
            },
            "type": "scatterpolargl"
           }
          ],
          "scatterternary": [
           {
            "marker": {
             "colorbar": {
              "outlinewidth": 0,
              "ticks": ""
             }
            },
            "type": "scatterternary"
           }
          ],
          "surface": [
           {
            "colorbar": {
             "outlinewidth": 0,
             "ticks": ""
            },
            "colorscale": [
             [
              0,
              "#0d0887"
             ],
             [
              0.1111111111111111,
              "#46039f"
             ],
             [
              0.2222222222222222,
              "#7201a8"
             ],
             [
              0.3333333333333333,
              "#9c179e"
             ],
             [
              0.4444444444444444,
              "#bd3786"
             ],
             [
              0.5555555555555556,
              "#d8576b"
             ],
             [
              0.6666666666666666,
              "#ed7953"
             ],
             [
              0.7777777777777778,
              "#fb9f3a"
             ],
             [
              0.8888888888888888,
              "#fdca26"
             ],
             [
              1,
              "#f0f921"
             ]
            ],
            "type": "surface"
           }
          ],
          "table": [
           {
            "cells": {
             "fill": {
              "color": "#EBF0F8"
             },
             "line": {
              "color": "white"
             }
            },
            "header": {
             "fill": {
              "color": "#C8D4E3"
             },
             "line": {
              "color": "white"
             }
            },
            "type": "table"
           }
          ]
         },
         "layout": {
          "annotationdefaults": {
           "arrowcolor": "#2a3f5f",
           "arrowhead": 0,
           "arrowwidth": 1
          },
          "autotypenumbers": "strict",
          "coloraxis": {
           "colorbar": {
            "outlinewidth": 0,
            "ticks": ""
           }
          },
          "colorscale": {
           "diverging": [
            [
             0,
             "#8e0152"
            ],
            [
             0.1,
             "#c51b7d"
            ],
            [
             0.2,
             "#de77ae"
            ],
            [
             0.3,
             "#f1b6da"
            ],
            [
             0.4,
             "#fde0ef"
            ],
            [
             0.5,
             "#f7f7f7"
            ],
            [
             0.6,
             "#e6f5d0"
            ],
            [
             0.7,
             "#b8e186"
            ],
            [
             0.8,
             "#7fbc41"
            ],
            [
             0.9,
             "#4d9221"
            ],
            [
             1,
             "#276419"
            ]
           ],
           "sequential": [
            [
             0,
             "#0d0887"
            ],
            [
             0.1111111111111111,
             "#46039f"
            ],
            [
             0.2222222222222222,
             "#7201a8"
            ],
            [
             0.3333333333333333,
             "#9c179e"
            ],
            [
             0.4444444444444444,
             "#bd3786"
            ],
            [
             0.5555555555555556,
             "#d8576b"
            ],
            [
             0.6666666666666666,
             "#ed7953"
            ],
            [
             0.7777777777777778,
             "#fb9f3a"
            ],
            [
             0.8888888888888888,
             "#fdca26"
            ],
            [
             1,
             "#f0f921"
            ]
           ],
           "sequentialminus": [
            [
             0,
             "#0d0887"
            ],
            [
             0.1111111111111111,
             "#46039f"
            ],
            [
             0.2222222222222222,
             "#7201a8"
            ],
            [
             0.3333333333333333,
             "#9c179e"
            ],
            [
             0.4444444444444444,
             "#bd3786"
            ],
            [
             0.5555555555555556,
             "#d8576b"
            ],
            [
             0.6666666666666666,
             "#ed7953"
            ],
            [
             0.7777777777777778,
             "#fb9f3a"
            ],
            [
             0.8888888888888888,
             "#fdca26"
            ],
            [
             1,
             "#f0f921"
            ]
           ]
          },
          "colorway": [
           "#636efa",
           "#EF553B",
           "#00cc96",
           "#ab63fa",
           "#FFA15A",
           "#19d3f3",
           "#FF6692",
           "#B6E880",
           "#FF97FF",
           "#FECB52"
          ],
          "font": {
           "color": "#2a3f5f"
          },
          "geo": {
           "bgcolor": "white",
           "lakecolor": "white",
           "landcolor": "white",
           "showlakes": true,
           "showland": true,
           "subunitcolor": "#C8D4E3"
          },
          "hoverlabel": {
           "align": "left"
          },
          "hovermode": "closest",
          "mapbox": {
           "style": "light"
          },
          "paper_bgcolor": "white",
          "plot_bgcolor": "white",
          "polar": {
           "angularaxis": {
            "gridcolor": "#EBF0F8",
            "linecolor": "#EBF0F8",
            "ticks": ""
           },
           "bgcolor": "white",
           "radialaxis": {
            "gridcolor": "#EBF0F8",
            "linecolor": "#EBF0F8",
            "ticks": ""
           }
          },
          "scene": {
           "xaxis": {
            "backgroundcolor": "white",
            "gridcolor": "#DFE8F3",
            "gridwidth": 2,
            "linecolor": "#EBF0F8",
            "showbackground": true,
            "ticks": "",
            "zerolinecolor": "#EBF0F8"
           },
           "yaxis": {
            "backgroundcolor": "white",
            "gridcolor": "#DFE8F3",
            "gridwidth": 2,
            "linecolor": "#EBF0F8",
            "showbackground": true,
            "ticks": "",
            "zerolinecolor": "#EBF0F8"
           },
           "zaxis": {
            "backgroundcolor": "white",
            "gridcolor": "#DFE8F3",
            "gridwidth": 2,
            "linecolor": "#EBF0F8",
            "showbackground": true,
            "ticks": "",
            "zerolinecolor": "#EBF0F8"
           }
          },
          "shapedefaults": {
           "line": {
            "color": "#2a3f5f"
           }
          },
          "ternary": {
           "aaxis": {
            "gridcolor": "#DFE8F3",
            "linecolor": "#A2B1C6",
            "ticks": ""
           },
           "baxis": {
            "gridcolor": "#DFE8F3",
            "linecolor": "#A2B1C6",
            "ticks": ""
           },
           "bgcolor": "white",
           "caxis": {
            "gridcolor": "#DFE8F3",
            "linecolor": "#A2B1C6",
            "ticks": ""
           }
          },
          "title": {
           "x": 0.05
          },
          "xaxis": {
           "automargin": true,
           "gridcolor": "#EBF0F8",
           "linecolor": "#EBF0F8",
           "ticks": "",
           "title": {
            "standoff": 15
           },
           "zerolinecolor": "#EBF0F8",
           "zerolinewidth": 2
          },
          "yaxis": {
           "automargin": true,
           "gridcolor": "#EBF0F8",
           "linecolor": "#EBF0F8",
           "ticks": "",
           "title": {
            "standoff": 15
           },
           "zerolinecolor": "#EBF0F8",
           "zerolinewidth": 2
          }
         }
        },
        "title": {
         "text": "Predicted vs. Actual Sales"
        },
        "width": 800,
        "xaxis": {
         "title": {
          "text": "Row Index (Last 20 Rows)"
         }
        },
        "yaxis": {
         "title": {
          "text": "Sales"
         }
        }
       }
      }
     },
     "metadata": {},
     "output_type": "display_data"
    }
   ],
   "source": [
    "fig = go.Figure()\n",
    "\n",
    "fig.add_trace(go.Scatter(\n",
    "    x=list(range(1, len(y_validation) + 1)),\n",
    "    y=y_validation,\n",
    "    mode='lines+markers',\n",
    "    name='Actual Sales',\n",
    "    line=dict(color='blue'),\n",
    "    marker=dict(symbol='circle')\n",
    "))\n",
    "\n",
    "fig.add_trace(go.Scatter(\n",
    "    x=list(range(1, len(y_pred) + 1)),\n",
    "    y=y_pred,\n",
    "    mode='lines+markers',\n",
    "    name='Predicted Sales',\n",
    "    line=dict(color='red'),\n",
    "    marker=dict(symbol='x')\n",
    "))\n",
    "\n",
    "fig.update_layout(\n",
    "    title='Predicted vs. Actual Sales',\n",
    "    xaxis_title='Row Index (Last 20 Rows)',\n",
    "    yaxis_title='Sales',\n",
    "    legend_title='Legend',\n",
    "    template='plotly_white',\n",
    "    width=800,\n",
    "    height=600\n",
    ")\n",
    "\n",
    "fig.show()"
   ]
  },
  {
   "cell_type": "markdown",
   "metadata": {},
   "source": [
    "# 6. Conclusion"
   ]
  },
  {
   "cell_type": "markdown",
   "metadata": {},
   "source": [
    "From the analyses performed in the previous sections, it can be noticed that ...."
   ]
  }
 ],
 "metadata": {
  "kernelspec": {
   "display_name": "venv",
   "language": "python",
   "name": "python3"
  },
  "language_info": {
   "codemirror_mode": {
    "name": "ipython",
    "version": 3
   },
   "file_extension": ".py",
   "mimetype": "text/x-python",
   "name": "python",
   "nbconvert_exporter": "python",
   "pygments_lexer": "ipython3",
   "version": "3.12.7"
  }
 },
 "nbformat": 4,
 "nbformat_minor": 2
}
