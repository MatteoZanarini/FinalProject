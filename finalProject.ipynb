{
 "cells": [
  {
   "cell_type": "markdown",
   "metadata": {},
   "source": [
    "# BUSINESS ANALYTICS OF A BIBYCLES COMPANY"
   ]
  },
  {
   "cell_type": "markdown",
   "metadata": {},
   "source": [
    "# 1. Introduction\n",
    "\n",
    "## Report goal\n",
    "There is a small fictional cycling company that sells bicycles in different countries around the world. They would like to increase their revenue and improve their business. To do this, they provided a dataset with all their transactions in the years 2013-2014. This dataset includes product-level information about sales, profits, market segments, and geographic distribution.\n",
    "\n",
    "The main idea is to use these details to gain new insights to create or improve the marketing and sales strategy.\n",
    "\n",
    "Specifically, it will be analyze:\n",
    "- the sales trends over time using a line chart to highlight seasonality or trends;\n",
    "- the sales difference across regions using a heat map or bar chart;\n",
    "- the top-selling products using visualization charts (pie chart or bar chart);\n",
    "- the relationship between discounts and sales or profits using a scatter plot or by creating a linear model regression.\n",
    "\n",
    "## Database description\n",
    "The database is composed by 700 rows and 16 columns:\n",
    "- segment:\n",
    "- country:\n",
    "- product:\n",
    "- discount band:\n",
    "- unit sold:\n",
    "- manufactoring price:\n",
    "- sale price:\n",
    "- gross sales:\n",
    "- discount:\n",
    "- sales:\n",
    "- COGS:\n",
    "- profit:\n",
    "- date: \n",
    "- month number\n",
    "- month name\n",
    "- year\n"
   ]
  },
  {
   "cell_type": "markdown",
   "metadata": {},
   "source": [
    "#### Packages"
   ]
  },
  {
   "cell_type": "code",
   "execution_count": 85,
   "metadata": {},
   "outputs": [],
   "source": [
    "import plotly.express as px\n",
    "import numpy as np\n"
   ]
  },
  {
   "cell_type": "markdown",
   "metadata": {},
   "source": [
    "# 2. Loading and inspection of the dataset"
   ]
  },
  {
   "cell_type": "markdown",
   "metadata": {},
   "source": [
    "Data import with API"
   ]
  },
  {
   "cell_type": "code",
   "execution_count": 4,
   "metadata": {},
   "outputs": [
    {
     "name": "stderr",
     "output_type": "stream",
     "text": [
      "c:\\Users\\pzele\\OneDrive\\Počítač\\IES\\Data procesing in Python\\FinalProject\\FinalProject\\venv\\Lib\\site-packages\\tqdm\\auto.py:21: TqdmWarning: IProgress not found. Please update jupyter and ipywidgets. See https://ipywidgets.readthedocs.io/en/stable/user_install.html\n",
      "  from .autonotebook import tqdm as notebook_tqdm\n"
     ]
    },
    {
     "name": "stdout",
     "output_type": "stream",
     "text": [
      "Path to dataset files: C:\\Users\\pzele\\.cache\\kagglehub\\datasets\\atharvaarya25\\financials\\versions\\1\n"
     ]
    }
   ],
   "source": [
    "import kagglehub\n",
    "\n",
    "# Download latest version\n",
    "path = kagglehub.dataset_download(\"atharvaarya25/financials\")\n",
    "\n",
    "print(\"Path to dataset files:\", path)"
   ]
  },
  {
   "cell_type": "code",
   "execution_count": 5,
   "metadata": {},
   "outputs": [
    {
     "data": {
      "text/html": [
       "<div>\n",
       "<style scoped>\n",
       "    .dataframe tbody tr th:only-of-type {\n",
       "        vertical-align: middle;\n",
       "    }\n",
       "\n",
       "    .dataframe tbody tr th {\n",
       "        vertical-align: top;\n",
       "    }\n",
       "\n",
       "    .dataframe thead th {\n",
       "        text-align: right;\n",
       "    }\n",
       "</style>\n",
       "<table border=\"1\" class=\"dataframe\">\n",
       "  <thead>\n",
       "    <tr style=\"text-align: right;\">\n",
       "      <th></th>\n",
       "      <th>Segment</th>\n",
       "      <th>Country</th>\n",
       "      <th>Product</th>\n",
       "      <th>Discount Band</th>\n",
       "      <th>Units Sold</th>\n",
       "      <th>Manufacturing Price</th>\n",
       "      <th>Sale Price</th>\n",
       "      <th>Gross Sales</th>\n",
       "      <th>Discounts</th>\n",
       "      <th>Sales</th>\n",
       "      <th>COGS</th>\n",
       "      <th>Profit</th>\n",
       "      <th>Date</th>\n",
       "      <th>Month Number</th>\n",
       "      <th>Month Name</th>\n",
       "      <th>Year</th>\n",
       "    </tr>\n",
       "  </thead>\n",
       "  <tbody>\n",
       "    <tr>\n",
       "      <th>0</th>\n",
       "      <td>Government</td>\n",
       "      <td>Canada</td>\n",
       "      <td>Carretera</td>\n",
       "      <td>None</td>\n",
       "      <td>$1,618.50</td>\n",
       "      <td>$3.00</td>\n",
       "      <td>$20.00</td>\n",
       "      <td>$32,370.00</td>\n",
       "      <td>$-</td>\n",
       "      <td>$32,370.00</td>\n",
       "      <td>$16,185.00</td>\n",
       "      <td>$16,185.00</td>\n",
       "      <td>01/01/2014</td>\n",
       "      <td>1</td>\n",
       "      <td>January</td>\n",
       "      <td>2014</td>\n",
       "    </tr>\n",
       "    <tr>\n",
       "      <th>1</th>\n",
       "      <td>Government</td>\n",
       "      <td>Germany</td>\n",
       "      <td>Carretera</td>\n",
       "      <td>None</td>\n",
       "      <td>$1,321.00</td>\n",
       "      <td>$3.00</td>\n",
       "      <td>$20.00</td>\n",
       "      <td>$26,420.00</td>\n",
       "      <td>$-</td>\n",
       "      <td>$26,420.00</td>\n",
       "      <td>$13,210.00</td>\n",
       "      <td>$13,210.00</td>\n",
       "      <td>01/01/2014</td>\n",
       "      <td>1</td>\n",
       "      <td>January</td>\n",
       "      <td>2014</td>\n",
       "    </tr>\n",
       "    <tr>\n",
       "      <th>2</th>\n",
       "      <td>Midmarket</td>\n",
       "      <td>France</td>\n",
       "      <td>Carretera</td>\n",
       "      <td>None</td>\n",
       "      <td>$2,178.00</td>\n",
       "      <td>$3.00</td>\n",
       "      <td>$15.00</td>\n",
       "      <td>$32,670.00</td>\n",
       "      <td>$-</td>\n",
       "      <td>$32,670.00</td>\n",
       "      <td>$21,780.00</td>\n",
       "      <td>$10,890.00</td>\n",
       "      <td>01/06/2014</td>\n",
       "      <td>6</td>\n",
       "      <td>June</td>\n",
       "      <td>2014</td>\n",
       "    </tr>\n",
       "    <tr>\n",
       "      <th>3</th>\n",
       "      <td>Midmarket</td>\n",
       "      <td>Germany</td>\n",
       "      <td>Carretera</td>\n",
       "      <td>None</td>\n",
       "      <td>$888.00</td>\n",
       "      <td>$3.00</td>\n",
       "      <td>$15.00</td>\n",
       "      <td>$13,320.00</td>\n",
       "      <td>$-</td>\n",
       "      <td>$13,320.00</td>\n",
       "      <td>$8,880.00</td>\n",
       "      <td>$4,440.00</td>\n",
       "      <td>01/06/2014</td>\n",
       "      <td>6</td>\n",
       "      <td>June</td>\n",
       "      <td>2014</td>\n",
       "    </tr>\n",
       "    <tr>\n",
       "      <th>4</th>\n",
       "      <td>Midmarket</td>\n",
       "      <td>Mexico</td>\n",
       "      <td>Carretera</td>\n",
       "      <td>None</td>\n",
       "      <td>$2,470.00</td>\n",
       "      <td>$3.00</td>\n",
       "      <td>$15.00</td>\n",
       "      <td>$37,050.00</td>\n",
       "      <td>$-</td>\n",
       "      <td>$37,050.00</td>\n",
       "      <td>$24,700.00</td>\n",
       "      <td>$12,350.00</td>\n",
       "      <td>01/06/2014</td>\n",
       "      <td>6</td>\n",
       "      <td>June</td>\n",
       "      <td>2014</td>\n",
       "    </tr>\n",
       "  </tbody>\n",
       "</table>\n",
       "</div>"
      ],
      "text/plain": [
       "      Segment  Country     Product   Discount Band   Units Sold   \\\n",
       "0  Government   Canada   Carretera            None    $1,618.50    \n",
       "1  Government  Germany   Carretera            None    $1,321.00    \n",
       "2   Midmarket   France   Carretera            None    $2,178.00    \n",
       "3   Midmarket  Germany   Carretera            None      $888.00    \n",
       "4   Midmarket   Mexico   Carretera            None    $2,470.00    \n",
       "\n",
       "   Manufacturing Price   Sale Price   Gross Sales   Discounts         Sales   \\\n",
       "0                $3.00       $20.00    $32,370.00        $-      $32,370.00    \n",
       "1                $3.00       $20.00    $26,420.00        $-      $26,420.00    \n",
       "2                $3.00       $15.00    $32,670.00        $-      $32,670.00    \n",
       "3                $3.00       $15.00    $13,320.00        $-      $13,320.00    \n",
       "4                $3.00       $15.00    $37,050.00        $-      $37,050.00    \n",
       "\n",
       "          COGS        Profit         Date  Month Number  Month Name   Year  \n",
       "0   $16,185.00    $16,185.00   01/01/2014             1     January   2014  \n",
       "1   $13,210.00    $13,210.00   01/01/2014             1     January   2014  \n",
       "2   $21,780.00    $10,890.00   01/06/2014             6        June   2014  \n",
       "3    $8,880.00     $4,440.00   01/06/2014             6        June   2014  \n",
       "4   $24,700.00    $12,350.00   01/06/2014             6        June   2014  "
      ]
     },
     "execution_count": 5,
     "metadata": {},
     "output_type": "execute_result"
    }
   ],
   "source": [
    "import pandas as pd\n",
    "\n",
    "df = pd.read_csv(f\"{path}/Financials.csv\")\n",
    "df.head()"
   ]
  },
  {
   "cell_type": "markdown",
   "metadata": {},
   "source": [
    "Dataset overview"
   ]
  },
  {
   "cell_type": "code",
   "execution_count": 6,
   "metadata": {},
   "outputs": [],
   "source": [
    "# copy of the dataset\n",
    "df_copy = df.copy(deep=True)"
   ]
  },
  {
   "cell_type": "code",
   "execution_count": 7,
   "metadata": {},
   "outputs": [
    {
     "data": {
      "text/plain": [
       "(700, 16)"
      ]
     },
     "execution_count": 7,
     "metadata": {},
     "output_type": "execute_result"
    }
   ],
   "source": [
    "# number or rows and columns\n",
    "df.shape"
   ]
  },
  {
   "cell_type": "code",
   "execution_count": 8,
   "metadata": {},
   "outputs": [
    {
     "name": "stdout",
     "output_type": "stream",
     "text": [
      "<class 'pandas.core.frame.DataFrame'>\n",
      "RangeIndex: 700 entries, 0 to 699\n",
      "Data columns (total 16 columns):\n",
      " #   Column                 Non-Null Count  Dtype \n",
      "---  ------                 --------------  ----- \n",
      " 0   Segment                700 non-null    object\n",
      " 1   Country                700 non-null    object\n",
      " 2    Product               700 non-null    object\n",
      " 3    Discount Band         700 non-null    object\n",
      " 4    Units Sold            700 non-null    object\n",
      " 5    Manufacturing Price   700 non-null    object\n",
      " 6    Sale Price            700 non-null    object\n",
      " 7    Gross Sales           700 non-null    object\n",
      " 8    Discounts             700 non-null    object\n",
      " 9     Sales                700 non-null    object\n",
      " 10   COGS                  700 non-null    object\n",
      " 11   Profit                700 non-null    object\n",
      " 12  Date                   700 non-null    object\n",
      " 13  Month Number           700 non-null    int64 \n",
      " 14   Month Name            700 non-null    object\n",
      " 15  Year                   700 non-null    int64 \n",
      "dtypes: int64(2), object(14)\n",
      "memory usage: 87.6+ KB\n"
     ]
    }
   ],
   "source": [
    "df.info()"
   ]
  },
  {
   "cell_type": "markdown",
   "metadata": {},
   "source": [
    "# 3. Cleaning of the dataset"
   ]
  },
  {
   "cell_type": "markdown",
   "metadata": {},
   "source": [
    "Cleaning the column names"
   ]
  },
  {
   "cell_type": "code",
   "execution_count": 9,
   "metadata": {},
   "outputs": [
    {
     "data": {
      "text/plain": [
       "Index(['Segment', 'Country', ' Product ', ' Discount Band ', ' Units Sold ',\n",
       "       ' Manufacturing Price ', ' Sale Price ', ' Gross Sales ', ' Discounts ',\n",
       "       '  Sales ', ' COGS ', ' Profit ', 'Date', 'Month Number',\n",
       "       ' Month Name ', 'Year'],\n",
       "      dtype='object')"
      ]
     },
     "execution_count": 9,
     "metadata": {},
     "output_type": "execute_result"
    }
   ],
   "source": [
    "# check the column names\n",
    "df.columns"
   ]
  },
  {
   "cell_type": "code",
   "execution_count": 10,
   "metadata": {},
   "outputs": [
    {
     "data": {
      "text/plain": [
       "Index([' Product ', ' Discount Band ', ' Units Sold ', ' Manufacturing Price ',\n",
       "       ' Sale Price ', ' Gross Sales ', ' Discounts ', '  Sales ', ' COGS ',\n",
       "       ' Profit ', ' Month Name '],\n",
       "      dtype='object')"
      ]
     },
     "execution_count": 10,
     "metadata": {},
     "output_type": "execute_result"
    }
   ],
   "source": [
    "# column names with anomalous spaces\n",
    "columns_whiteSpaceName = df.columns[df.columns.str.startswith(\" \") | df.columns.str.endswith(\" \")]\n",
    "columns_whiteSpaceName"
   ]
  },
  {
   "cell_type": "code",
   "execution_count": 11,
   "metadata": {},
   "outputs": [],
   "source": [
    "# remove white spaces\n",
    "df.columns = df.columns.str.strip()"
   ]
  },
  {
   "cell_type": "markdown",
   "metadata": {},
   "source": [
    "Cleaning the column values"
   ]
  },
  {
   "cell_type": "code",
   "execution_count": 12,
   "metadata": {},
   "outputs": [
    {
     "data": {
      "text/plain": [
       "Segment                object\n",
       "Country                object\n",
       "Product                object\n",
       "Discount Band          object\n",
       "Units Sold             object\n",
       "Manufacturing Price    object\n",
       "Sale Price             object\n",
       "Gross Sales            object\n",
       "Discounts              object\n",
       "Sales                  object\n",
       "COGS                   object\n",
       "Profit                 object\n",
       "Date                   object\n",
       "Month Number            int64\n",
       "Month Name             object\n",
       "Year                    int64\n",
       "dtype: object"
      ]
     },
     "execution_count": 12,
     "metadata": {},
     "output_type": "execute_result"
    }
   ],
   "source": [
    "# columns type\n",
    "df.dtypes"
   ]
  },
  {
   "cell_type": "code",
   "execution_count": 13,
   "metadata": {},
   "outputs": [
    {
     "data": {
      "text/html": [
       "<div>\n",
       "<style scoped>\n",
       "    .dataframe tbody tr th:only-of-type {\n",
       "        vertical-align: middle;\n",
       "    }\n",
       "\n",
       "    .dataframe tbody tr th {\n",
       "        vertical-align: top;\n",
       "    }\n",
       "\n",
       "    .dataframe thead th {\n",
       "        text-align: right;\n",
       "    }\n",
       "</style>\n",
       "<table border=\"1\" class=\"dataframe\">\n",
       "  <thead>\n",
       "    <tr style=\"text-align: right;\">\n",
       "      <th></th>\n",
       "      <th>Segment</th>\n",
       "      <th>Country</th>\n",
       "      <th>Product</th>\n",
       "      <th>Discount Band</th>\n",
       "      <th>Units Sold</th>\n",
       "      <th>Manufacturing Price</th>\n",
       "      <th>Sale Price</th>\n",
       "      <th>Gross Sales</th>\n",
       "      <th>Discounts</th>\n",
       "      <th>Sales</th>\n",
       "      <th>COGS</th>\n",
       "      <th>Profit</th>\n",
       "      <th>Date</th>\n",
       "      <th>Month Number</th>\n",
       "      <th>Month Name</th>\n",
       "      <th>Year</th>\n",
       "    </tr>\n",
       "  </thead>\n",
       "  <tbody>\n",
       "    <tr>\n",
       "      <th>0</th>\n",
       "      <td>Government</td>\n",
       "      <td>Canada</td>\n",
       "      <td>Carretera</td>\n",
       "      <td>None</td>\n",
       "      <td>$1,618.50</td>\n",
       "      <td>$3.00</td>\n",
       "      <td>$20.00</td>\n",
       "      <td>$32,370.00</td>\n",
       "      <td>$-</td>\n",
       "      <td>$32,370.00</td>\n",
       "      <td>$16,185.00</td>\n",
       "      <td>$16,185.00</td>\n",
       "      <td>01/01/2014</td>\n",
       "      <td>1</td>\n",
       "      <td>January</td>\n",
       "      <td>2014</td>\n",
       "    </tr>\n",
       "    <tr>\n",
       "      <th>1</th>\n",
       "      <td>Government</td>\n",
       "      <td>Germany</td>\n",
       "      <td>Carretera</td>\n",
       "      <td>None</td>\n",
       "      <td>$1,321.00</td>\n",
       "      <td>$3.00</td>\n",
       "      <td>$20.00</td>\n",
       "      <td>$26,420.00</td>\n",
       "      <td>$-</td>\n",
       "      <td>$26,420.00</td>\n",
       "      <td>$13,210.00</td>\n",
       "      <td>$13,210.00</td>\n",
       "      <td>01/01/2014</td>\n",
       "      <td>1</td>\n",
       "      <td>January</td>\n",
       "      <td>2014</td>\n",
       "    </tr>\n",
       "    <tr>\n",
       "      <th>2</th>\n",
       "      <td>Midmarket</td>\n",
       "      <td>France</td>\n",
       "      <td>Carretera</td>\n",
       "      <td>None</td>\n",
       "      <td>$2,178.00</td>\n",
       "      <td>$3.00</td>\n",
       "      <td>$15.00</td>\n",
       "      <td>$32,670.00</td>\n",
       "      <td>$-</td>\n",
       "      <td>$32,670.00</td>\n",
       "      <td>$21,780.00</td>\n",
       "      <td>$10,890.00</td>\n",
       "      <td>01/06/2014</td>\n",
       "      <td>6</td>\n",
       "      <td>June</td>\n",
       "      <td>2014</td>\n",
       "    </tr>\n",
       "  </tbody>\n",
       "</table>\n",
       "</div>"
      ],
      "text/plain": [
       "      Segment  Country      Product Discount Band   Units Sold  \\\n",
       "0  Government   Canada   Carretera          None    $1,618.50    \n",
       "1  Government  Germany   Carretera          None    $1,321.00    \n",
       "2   Midmarket   France   Carretera          None    $2,178.00    \n",
       "\n",
       "  Manufacturing Price Sale Price   Gross Sales Discounts         Sales  \\\n",
       "0              $3.00     $20.00    $32,370.00      $-      $32,370.00    \n",
       "1              $3.00     $20.00    $26,420.00      $-      $26,420.00    \n",
       "2              $3.00     $15.00    $32,670.00      $-      $32,670.00    \n",
       "\n",
       "           COGS        Profit        Date  Month Number Month Name  Year  \n",
       "0   $16,185.00    $16,185.00   01/01/2014             1   January   2014  \n",
       "1   $13,210.00    $13,210.00   01/01/2014             1   January   2014  \n",
       "2   $21,780.00    $10,890.00   01/06/2014             6      June   2014  "
      ]
     },
     "execution_count": 13,
     "metadata": {},
     "output_type": "execute_result"
    }
   ],
   "source": [
    "df.head(3)"
   ]
  },
  {
   "cell_type": "code",
   "execution_count": 14,
   "metadata": {},
   "outputs": [
    {
     "data": {
      "text/html": [
       "<div>\n",
       "<style scoped>\n",
       "    .dataframe tbody tr th:only-of-type {\n",
       "        vertical-align: middle;\n",
       "    }\n",
       "\n",
       "    .dataframe tbody tr th {\n",
       "        vertical-align: top;\n",
       "    }\n",
       "\n",
       "    .dataframe thead th {\n",
       "        text-align: right;\n",
       "    }\n",
       "</style>\n",
       "<table border=\"1\" class=\"dataframe\">\n",
       "  <thead>\n",
       "    <tr style=\"text-align: right;\">\n",
       "      <th></th>\n",
       "      <th>Segment</th>\n",
       "      <th>Country</th>\n",
       "      <th>Product</th>\n",
       "      <th>Discount Band</th>\n",
       "      <th>Units Sold</th>\n",
       "      <th>Manufacturing Price</th>\n",
       "      <th>Sale Price</th>\n",
       "      <th>Gross Sales</th>\n",
       "      <th>Discounts</th>\n",
       "      <th>Sales</th>\n",
       "      <th>COGS</th>\n",
       "      <th>Profit</th>\n",
       "      <th>Date</th>\n",
       "      <th>Month Number</th>\n",
       "      <th>Month Name</th>\n",
       "      <th>Year</th>\n",
       "    </tr>\n",
       "  </thead>\n",
       "  <tbody>\n",
       "    <tr>\n",
       "      <th>0</th>\n",
       "      <td>Government</td>\n",
       "      <td>Canada</td>\n",
       "      <td>Carretera</td>\n",
       "      <td>None</td>\n",
       "      <td>1618.50</td>\n",
       "      <td>3.00</td>\n",
       "      <td>20.00</td>\n",
       "      <td>32370.00</td>\n",
       "      <td>-</td>\n",
       "      <td>32370.00</td>\n",
       "      <td>16185.00</td>\n",
       "      <td>16185.00</td>\n",
       "      <td>01/01/2014</td>\n",
       "      <td>1</td>\n",
       "      <td>January</td>\n",
       "      <td>2014</td>\n",
       "    </tr>\n",
       "    <tr>\n",
       "      <th>1</th>\n",
       "      <td>Government</td>\n",
       "      <td>Germany</td>\n",
       "      <td>Carretera</td>\n",
       "      <td>None</td>\n",
       "      <td>1321.00</td>\n",
       "      <td>3.00</td>\n",
       "      <td>20.00</td>\n",
       "      <td>26420.00</td>\n",
       "      <td>-</td>\n",
       "      <td>26420.00</td>\n",
       "      <td>13210.00</td>\n",
       "      <td>13210.00</td>\n",
       "      <td>01/01/2014</td>\n",
       "      <td>1</td>\n",
       "      <td>January</td>\n",
       "      <td>2014</td>\n",
       "    </tr>\n",
       "    <tr>\n",
       "      <th>2</th>\n",
       "      <td>Midmarket</td>\n",
       "      <td>France</td>\n",
       "      <td>Carretera</td>\n",
       "      <td>None</td>\n",
       "      <td>2178.00</td>\n",
       "      <td>3.00</td>\n",
       "      <td>15.00</td>\n",
       "      <td>32670.00</td>\n",
       "      <td>-</td>\n",
       "      <td>32670.00</td>\n",
       "      <td>21780.00</td>\n",
       "      <td>10890.00</td>\n",
       "      <td>01/06/2014</td>\n",
       "      <td>6</td>\n",
       "      <td>June</td>\n",
       "      <td>2014</td>\n",
       "    </tr>\n",
       "  </tbody>\n",
       "</table>\n",
       "</div>"
      ],
      "text/plain": [
       "      Segment  Country      Product Discount Band Units Sold  \\\n",
       "0  Government   Canada   Carretera          None     1618.50   \n",
       "1  Government  Germany   Carretera          None     1321.00   \n",
       "2   Midmarket   France   Carretera          None     2178.00   \n",
       "\n",
       "  Manufacturing Price Sale Price Gross Sales Discounts     Sales      COGS  \\\n",
       "0                3.00      20.00    32370.00         -  32370.00  16185.00   \n",
       "1                3.00      20.00    26420.00         -  26420.00  13210.00   \n",
       "2                3.00      15.00    32670.00         -  32670.00  21780.00   \n",
       "\n",
       "     Profit        Date  Month Number Month Name  Year  \n",
       "0  16185.00  01/01/2014             1   January   2014  \n",
       "1  13210.00  01/01/2014             1   January   2014  \n",
       "2  10890.00  01/06/2014             6      June   2014  "
      ]
     },
     "execution_count": 14,
     "metadata": {},
     "output_type": "execute_result"
    }
   ],
   "source": [
    "# remove $ and space\n",
    "columns_withDollar = ['Units Sold', 'Manufacturing Price', 'Sale Price', 'Gross Sales', 'Discounts', 'Sales', 'COGS', 'Profit']\n",
    "\n",
    "for col in columns_withDollar:\n",
    "    if df[col].dtype == 'object':\n",
    "        df[col] = df[col].str.replace('$', '')\n",
    "        df[col] = df[col].str.replace(',', '')\n",
    "        df[col] = df[col].apply(lambda x: x.strip())\n",
    "\n",
    "df.head(3)"
   ]
  },
  {
   "cell_type": "code",
   "execution_count": 15,
   "metadata": {},
   "outputs": [],
   "source": [
    "# changing Discount column\n",
    "df['Discounts'] = df['Discounts'].replace('-', 0)"
   ]
  },
  {
   "cell_type": "code",
   "execution_count": 16,
   "metadata": {},
   "outputs": [
    {
     "name": "stdout",
     "output_type": "stream",
     "text": [
      "Check column: Units Sold\n",
      "[]\n",
      "Check column: Manufacturing Price\n",
      "[]\n",
      "Check column: Sale Price\n",
      "[]\n",
      "Check column: Gross Sales\n",
      "[]\n",
      "Check column: Discounts\n",
      "[]\n",
      "Check column: Sales\n",
      "[]\n",
      "Check column: COGS\n",
      "[]\n",
      "Check column: Profit\n",
      "['-' '(4533.75)' '(3740.00)' '(2981.25)' '(1076.25)' '(880.00)'\n",
      " '(1008.75)' '(2217.50)' '(2380.00)' '(6887.50)' '(4968.75)' '(9375.00)'\n",
      " '(13173.75)' '(7826.25)' '(6168.75)' '(3727.50)' '(7700.00)' '(5570.00)'\n",
      " '(11606.25)' '(17481.25)' '(3543.75)' '(13187.50)' '(5481.25)'\n",
      " '(25841.25)' '(11115.00)' '(13530.00)' '(11970.00)' '(14370.00)'\n",
      " '(2557.50)' '(18967.50)' '(4342.50)' '(21358.75)' '(4847.50)'\n",
      " '(27693.75)' '(12538.75)' '(8286.25)' '(24160.00)' '(21560.00)'\n",
      " '(23870.00)' '(17808.75)' '(18663.75)' '(12787.50)' '(35262.50)'\n",
      " '(19687.50)' '(35550.00)' '(16142.50)' '(38046.25)' '(14918.75)'\n",
      " '(9116.25)' '(33522.50)' '(40617.50)' '(7590.00)']\n"
     ]
    }
   ],
   "source": [
    "# check again for unusual symbols\n",
    "for col in columns_withDollar:\n",
    "    print(f\"Check column: {col}\")\n",
    "    print(df[col][df[col].str.contains(r'^\\s*$|^-|^\\$|\\(|\\)', na=False)].unique())"
   ]
  },
  {
   "cell_type": "code",
   "execution_count": 17,
   "metadata": {},
   "outputs": [
    {
     "data": {
      "text/plain": [
       "np.int64(5)"
      ]
     },
     "execution_count": 17,
     "metadata": {},
     "output_type": "execute_result"
    }
   ],
   "source": [
    "(df['Profit']=='-').sum()\n",
    "# there are only 5 values in Profit column with \"-\", they will be considered as NaN values"
   ]
  },
  {
   "cell_type": "code",
   "execution_count": 18,
   "metadata": {},
   "outputs": [],
   "source": [
    "# change Profit column\n",
    "df['Profit'] = df['Profit'].str.strip('()')\n",
    "df['Profit'] = df['Profit'].replace('-', None)\n"
   ]
  },
  {
   "cell_type": "code",
   "execution_count": 19,
   "metadata": {},
   "outputs": [],
   "source": [
    "# change column types\n",
    "for col in columns_withDollar:\n",
    "    if df[col].dtype == 'object':\n",
    "        df[col] = df[col].astype(float)"
   ]
  },
  {
   "cell_type": "code",
   "execution_count": 20,
   "metadata": {},
   "outputs": [],
   "source": [
    "# Date column in date type\n",
    "df['Date'] = pd.to_datetime(df['Date'], format='%d/%m/%Y')"
   ]
  },
  {
   "cell_type": "code",
   "execution_count": 21,
   "metadata": {},
   "outputs": [
    {
     "name": "stdout",
     "output_type": "stream",
     "text": [
      "<class 'pandas.core.frame.DataFrame'>\n",
      "RangeIndex: 700 entries, 0 to 699\n",
      "Data columns (total 16 columns):\n",
      " #   Column               Non-Null Count  Dtype         \n",
      "---  ------               --------------  -----         \n",
      " 0   Segment              700 non-null    object        \n",
      " 1   Country              700 non-null    object        \n",
      " 2   Product              700 non-null    object        \n",
      " 3   Discount Band        700 non-null    object        \n",
      " 4   Units Sold           700 non-null    float64       \n",
      " 5   Manufacturing Price  700 non-null    float64       \n",
      " 6   Sale Price           700 non-null    float64       \n",
      " 7   Gross Sales          700 non-null    float64       \n",
      " 8   Discounts            700 non-null    float64       \n",
      " 9   Sales                700 non-null    float64       \n",
      " 10  COGS                 700 non-null    float64       \n",
      " 11  Profit               695 non-null    float64       \n",
      " 12  Date                 700 non-null    datetime64[ns]\n",
      " 13  Month Number         700 non-null    int64         \n",
      " 14  Month Name           700 non-null    object        \n",
      " 15  Year                 700 non-null    int64         \n",
      "dtypes: datetime64[ns](1), float64(8), int64(2), object(5)\n",
      "memory usage: 87.6+ KB\n"
     ]
    }
   ],
   "source": [
    "df.info()"
   ]
  },
  {
   "cell_type": "code",
   "execution_count": 22,
   "metadata": {},
   "outputs": [],
   "source": [
    "df = df.dropna()\n",
    "\n",
    "# change column types\n",
    "for col in columns_withDollar:\n",
    "    if df[col].dtype == 'float':\n",
    "        df[col] = df[col].astype(int)"
   ]
  },
  {
   "cell_type": "code",
   "execution_count": 23,
   "metadata": {},
   "outputs": [
    {
     "data": {
      "text/html": [
       "<div>\n",
       "<style scoped>\n",
       "    .dataframe tbody tr th:only-of-type {\n",
       "        vertical-align: middle;\n",
       "    }\n",
       "\n",
       "    .dataframe tbody tr th {\n",
       "        vertical-align: top;\n",
       "    }\n",
       "\n",
       "    .dataframe thead th {\n",
       "        text-align: right;\n",
       "    }\n",
       "</style>\n",
       "<table border=\"1\" class=\"dataframe\">\n",
       "  <thead>\n",
       "    <tr style=\"text-align: right;\">\n",
       "      <th></th>\n",
       "      <th>Units Sold</th>\n",
       "      <th>Manufacturing Price</th>\n",
       "      <th>Sale Price</th>\n",
       "      <th>Gross Sales</th>\n",
       "      <th>Discounts</th>\n",
       "      <th>Sales</th>\n",
       "      <th>COGS</th>\n",
       "      <th>Profit</th>\n",
       "    </tr>\n",
       "  </thead>\n",
       "  <tbody>\n",
       "    <tr>\n",
       "      <th>count</th>\n",
       "      <td>695.00</td>\n",
       "      <td>695.00</td>\n",
       "      <td>695.00</td>\n",
       "      <td>695.00</td>\n",
       "      <td>695.00</td>\n",
       "      <td>695.00</td>\n",
       "      <td>695.00</td>\n",
       "      <td>695.00</td>\n",
       "    </tr>\n",
       "    <tr>\n",
       "      <th>mean</th>\n",
       "      <td>1609.58</td>\n",
       "      <td>96.75</td>\n",
       "      <td>118.38</td>\n",
       "      <td>182791.32</td>\n",
       "      <td>13193.37</td>\n",
       "      <td>169597.38</td>\n",
       "      <td>145290.19</td>\n",
       "      <td>26544.08</td>\n",
       "    </tr>\n",
       "    <tr>\n",
       "      <th>std</th>\n",
       "      <td>867.79</td>\n",
       "      <td>108.61</td>\n",
       "      <td>137.27</td>\n",
       "      <td>255038.27</td>\n",
       "      <td>23037.42</td>\n",
       "      <td>237441.03</td>\n",
       "      <td>204428.18</td>\n",
       "      <td>41515.20</td>\n",
       "    </tr>\n",
       "    <tr>\n",
       "      <th>min</th>\n",
       "      <td>200.00</td>\n",
       "      <td>3.00</td>\n",
       "      <td>7.00</td>\n",
       "      <td>1799.00</td>\n",
       "      <td>0.00</td>\n",
       "      <td>1655.00</td>\n",
       "      <td>918.00</td>\n",
       "      <td>285.00</td>\n",
       "    </tr>\n",
       "    <tr>\n",
       "      <th>25%</th>\n",
       "      <td>905.00</td>\n",
       "      <td>5.00</td>\n",
       "      <td>12.00</td>\n",
       "      <td>17325.00</td>\n",
       "      <td>798.00</td>\n",
       "      <td>15851.00</td>\n",
       "      <td>7480.00</td>\n",
       "      <td>4013.00</td>\n",
       "    </tr>\n",
       "    <tr>\n",
       "      <th>50%</th>\n",
       "      <td>1545.00</td>\n",
       "      <td>10.00</td>\n",
       "      <td>20.00</td>\n",
       "      <td>37080.00</td>\n",
       "      <td>2559.00</td>\n",
       "      <td>34736.00</td>\n",
       "      <td>21980.00</td>\n",
       "      <td>11135.00</td>\n",
       "    </tr>\n",
       "    <tr>\n",
       "      <th>75%</th>\n",
       "      <td>2230.50</td>\n",
       "      <td>250.00</td>\n",
       "      <td>300.00</td>\n",
       "      <td>280850.00</td>\n",
       "      <td>16164.50</td>\n",
       "      <td>261575.00</td>\n",
       "      <td>245905.00</td>\n",
       "      <td>23918.50</td>\n",
       "    </tr>\n",
       "    <tr>\n",
       "      <th>max</th>\n",
       "      <td>4492.00</td>\n",
       "      <td>260.00</td>\n",
       "      <td>350.00</td>\n",
       "      <td>1207500.00</td>\n",
       "      <td>149677.00</td>\n",
       "      <td>1159200.00</td>\n",
       "      <td>950625.00</td>\n",
       "      <td>262200.00</td>\n",
       "    </tr>\n",
       "  </tbody>\n",
       "</table>\n",
       "</div>"
      ],
      "text/plain": [
       "       Units Sold  Manufacturing Price  Sale Price  Gross Sales  Discounts  \\\n",
       "count      695.00               695.00      695.00       695.00     695.00   \n",
       "mean      1609.58                96.75      118.38    182791.32   13193.37   \n",
       "std        867.79               108.61      137.27    255038.27   23037.42   \n",
       "min        200.00                 3.00        7.00      1799.00       0.00   \n",
       "25%        905.00                 5.00       12.00     17325.00     798.00   \n",
       "50%       1545.00                10.00       20.00     37080.00    2559.00   \n",
       "75%       2230.50               250.00      300.00    280850.00   16164.50   \n",
       "max       4492.00               260.00      350.00   1207500.00  149677.00   \n",
       "\n",
       "            Sales       COGS     Profit  \n",
       "count      695.00     695.00     695.00  \n",
       "mean    169597.38  145290.19   26544.08  \n",
       "std     237441.03  204428.18   41515.20  \n",
       "min       1655.00     918.00     285.00  \n",
       "25%      15851.00    7480.00    4013.00  \n",
       "50%      34736.00   21980.00   11135.00  \n",
       "75%     261575.00  245905.00   23918.50  \n",
       "max    1159200.00  950625.00  262200.00  "
      ]
     },
     "execution_count": 23,
     "metadata": {},
     "output_type": "execute_result"
    }
   ],
   "source": [
    "# controll of the values\n",
    "round(df[columns_withDollar].describe(), 2)\n",
    "\n",
    "# It seems not to be strange values, cleaning data completed"
   ]
  },
  {
   "cell_type": "markdown",
   "metadata": {},
   "source": [
    "# 4. Exploratory Data Analysis"
   ]
  },
  {
   "cell_type": "code",
   "execution_count": 24,
   "metadata": {},
   "outputs": [],
   "source": [
    "df_copy2 = df.copy(deep=True)"
   ]
  },
  {
   "cell_type": "code",
   "execution_count": 25,
   "metadata": {},
   "outputs": [],
   "source": [
    "# set Date column as index\n",
    "df = df.set_index(\"Date\")"
   ]
  },
  {
   "cell_type": "code",
   "execution_count": 26,
   "metadata": {},
   "outputs": [],
   "source": [
    "df = df.drop([\"Month Number\", \"Month Name\", \"Year\"], axis=1)"
   ]
  },
  {
   "cell_type": "markdown",
   "metadata": {},
   "source": [
    "Descriptive statistics"
   ]
  },
  {
   "cell_type": "code",
   "execution_count": 27,
   "metadata": {},
   "outputs": [],
   "source": [
    "import matplotlib.pyplot as plt\n",
    "import seaborn as sns"
   ]
  },
  {
   "cell_type": "markdown",
   "metadata": {},
   "source": [
    "- categorical variables"
   ]
  },
  {
   "cell_type": "code",
   "execution_count": 28,
   "metadata": {},
   "outputs": [
    {
     "data": {
      "image/png": "[encoded data removed]",
      "text/plain": [
       "<Figure size 1800x1200 with 4 Axes>"
      ]
     },
     "metadata": {},
     "output_type": "display_data"
    }
   ],
   "source": [
    "# selection of the categorical variables\n",
    "categorical_columns = df.select_dtypes(include='object').columns\n",
    "\n",
    "fig, axes = plt.subplots(2, 2, figsize=(18, 12))\n",
    "axes = axes.ravel()\n",
    "\n",
    "# barplot for the categorical vars\n",
    "for i, col in enumerate(categorical_columns):\n",
    "    sns.countplot(x=col, data=df, ax=axes[i])\n",
    "    axes[i].set_title(f'Distribution of {col}')\n",
    "    axes[i].set_xlabel(col)\n",
    "    axes[i].set_ylabel('Frequency')\n",
    "    axes[i].grid(axis='y')"
   ]
  },
  {
   "cell_type": "code",
   "execution_count": 29,
   "metadata": {},
   "outputs": [],
   "source": [
    "# percentage table\n",
    "def percentageTable(col): \n",
    "    percentage = round(df[col].value_counts(normalize=True)*100, 2)\n",
    "    \n",
    "    table = pd.DataFrame({\n",
    "        'Category': percentage.index,\n",
    "        'Percentage (%)': percentage.values\n",
    "        })\n",
    "    print(f\"Variable {col}\")\n",
    "    print(table.to_string(index=False))\n",
    "    print(\"\\n\")"
   ]
  },
  {
   "cell_type": "code",
   "execution_count": 30,
   "metadata": {},
   "outputs": [
    {
     "name": "stdout",
     "output_type": "stream",
     "text": [
      "Variable Segment\n",
      "        Category  Percentage (%)\n",
      "      Government           43.17\n",
      "       Midmarket           14.39\n",
      "Channel Partners           14.39\n",
      "  Small Business           14.39\n",
      "      Enterprise           13.67\n",
      "\n",
      "\n"
     ]
    }
   ],
   "source": [
    "# Segment\n",
    "percentageTable('Segment')"
   ]
  },
  {
   "cell_type": "code",
   "execution_count": 31,
   "metadata": {},
   "outputs": [
    {
     "name": "stdout",
     "output_type": "stream",
     "text": [
      "Variable Country\n",
      "                Category  Percentage (%)\n",
      "                  Canada           20.14\n",
      "United States of America           20.14\n",
      "                 Germany           20.00\n",
      "                  France           20.00\n",
      "                  Mexico           19.71\n",
      "\n",
      "\n"
     ]
    }
   ],
   "source": [
    "# Country\n",
    "percentageTable('Country')"
   ]
  },
  {
   "cell_type": "code",
   "execution_count": 32,
   "metadata": {},
   "outputs": [
    {
     "name": "stdout",
     "output_type": "stream",
     "text": [
      "Variable Product\n",
      "   Category  Percentage (%)\n",
      "     Paseo            28.63\n",
      "      Velo            15.68\n",
      "       VTT            15.68\n",
      " Carretera            13.38\n",
      "  Amarilla            13.38\n",
      "   Montana            13.24\n",
      "\n",
      "\n"
     ]
    }
   ],
   "source": [
    "# Product\n",
    "percentageTable('Product')"
   ]
  },
  {
   "cell_type": "code",
   "execution_count": 33,
   "metadata": {},
   "outputs": [
    {
     "name": "stdout",
     "output_type": "stream",
     "text": [
      "Variable Discount Band\n",
      "Category  Percentage (%)\n",
      "   High            35.25\n",
      " Medium            34.82\n",
      "    Low            22.30\n",
      "   None             7.63\n",
      "\n",
      "\n"
     ]
    }
   ],
   "source": [
    "# Discount Band\n",
    "percentageTable('Discount Band')"
   ]
  },
  {
   "cell_type": "markdown",
   "metadata": {},
   "source": [
    "- quantitative variables"
   ]
  },
  {
   "cell_type": "code",
   "execution_count": 34,
   "metadata": {},
   "outputs": [],
   "source": [
    "# selection of the quantitative variables\n",
    "numerical_columns = df.select_dtypes(include='number').columns"
   ]
  },
  {
   "cell_type": "code",
   "execution_count": 35,
   "metadata": {},
   "outputs": [
    {
     "data": {
      "image/png": "[encoded data removed]",
      "text/plain": [
       "<Figure size 1200x1200 with 8 Axes>"
      ]
     },
     "metadata": {},
     "output_type": "display_data"
    }
   ],
   "source": [
    "fig, axes = plt.subplots(2, 4, figsize=(12, 12))\n",
    "axes = axes.ravel()\n",
    "\n",
    "#  boxlot of the quantitativa vars\n",
    "for i, col in enumerate(numerical_columns):\n",
    "    sns.boxplot(y=df[col], ax=axes[i])  # Boxplot per la variabile corrente\n",
    "    axes[i].set_title(f'{col}')\n",
    "    axes[i].set_ylabel(col)\n",
    "    axes[i].grid(axis='y')"
   ]
  },
  {
   "cell_type": "code",
   "execution_count": 36,
   "metadata": {},
   "outputs": [
    {
     "data": {
      "image/png": "[encoded data removed]",
      "text/plain": [
       "<Figure size 1800x1500 with 8 Axes>"
      ]
     },
     "metadata": {},
     "output_type": "display_data"
    }
   ],
   "source": [
    "fig, axes = plt.subplots(2, 4, figsize=(18, 15))\n",
    "axes = axes.ravel()\n",
    "\n",
    "# histogram and distribution of the quantitativa vars\n",
    "for i, col in enumerate(numerical_columns):\n",
    "    sns.histplot(df[col], kde=True, bins=15, ax=axes[i])  # Specifica l'asse\n",
    "    axes[i].set_title(f'Distribution of {col}')\n",
    "    axes[i].set_xlabel(col)\n",
    "    axes[i].set_ylabel('Frequency')\n",
    "    axes[i].grid(axis='y')"
   ]
  },
  {
   "cell_type": "markdown",
   "metadata": {},
   "source": [
    "# 5. Statistical analysis"
   ]
  },
  {
   "cell_type": "markdown",
   "metadata": {},
   "source": [
    "sales trends over time using a line chart to highlight seasonality or trends"
   ]
  },
  {
   "cell_type": "code",
   "execution_count": 37,
   "metadata": {},
   "outputs": [],
   "source": [
    "df.index = pd.to_datetime(df.index)"
   ]
  },
  {
   "cell_type": "code",
   "execution_count": 58,
   "metadata": {},
   "outputs": [
    {
     "name": "stdout",
     "output_type": "stream",
     "text": [
      "               Segment  Country      Product Discount Band  Units Sold  \\\n",
      "Date                                                                     \n",
      "2014-01-01  Government   Canada   Carretera          None         1618   \n",
      "2014-01-01  Government  Germany   Carretera          None         1321   \n",
      "2014-06-01   Midmarket   France   Carretera          None         2178   \n",
      "2014-06-01   Midmarket  Germany   Carretera          None          888   \n",
      "2014-06-01   Midmarket   Mexico   Carretera          None         2470   \n",
      "\n",
      "            Manufacturing Price  Sale Price  Gross Sales  Discounts  Sales  \\\n",
      "Date                                                                         \n",
      "2014-01-01                    3          20        32370          0  32370   \n",
      "2014-01-01                    3          20        26420          0  26420   \n",
      "2014-06-01                    3          15        32670          0  32670   \n",
      "2014-06-01                    3          15        13320          0  13320   \n",
      "2014-06-01                    3          15        37050          0  37050   \n",
      "\n",
      "             COGS  Profit  Sales_Predicted  \n",
      "Date                                        \n",
      "2014-01-01  16185   16185     68474.126031  \n",
      "2014-01-01  13210   13210     68474.126031  \n",
      "2014-06-01  21780   10890     68474.126031  \n",
      "2014-06-01   8880    4440     68474.126031  \n",
      "2014-06-01  24700   12350     68474.126031  \n"
     ]
    }
   ],
   "source": [
    "print(df.head())"
   ]
  },
  {
   "cell_type": "code",
   "execution_count": 38,
   "metadata": {},
   "outputs": [],
   "source": [
    "monthly_sales = df.groupby(df.index.to_period('M'))['Sales'].sum()"
   ]
  },
  {
   "cell_type": "code",
   "execution_count": 39,
   "metadata": {},
   "outputs": [
    {
     "data": {
      "image/png": "[encoded data removed]",
      "text/plain": [
       "<Figure size 1200x600 with 1 Axes>"
      ]
     },
     "metadata": {},
     "output_type": "display_data"
    }
   ],
   "source": [
    "plt.figure(figsize=(12, 6))\n",
    "monthly_sales.plot(kind='line', marker='o')\n",
    "plt.title(\"Sales Trends Over Time\", fontsize=16)\n",
    "plt.xlabel(\"Month\", fontsize=12)\n",
    "plt.ylabel(\"Total Sales\", fontsize=12)\n",
    "plt.grid(axis='y')\n",
    "plt.show()"
   ]
  },
  {
   "cell_type": "markdown",
   "metadata": {},
   "source": [
    "sales difference across regions using a heat map or bar chart"
   ]
  },
  {
   "cell_type": "code",
   "execution_count": 40,
   "metadata": {},
   "outputs": [],
   "source": [
    "country_sales = df.groupby('Country')['Sales'].sum().sort_values()"
   ]
  },
  {
   "cell_type": "code",
   "execution_count": 41,
   "metadata": {},
   "outputs": [
    {
     "name": "stderr",
     "output_type": "stream",
     "text": [
      "C:\\Users\\pzele\\AppData\\Local\\Temp\\ipykernel_25996\\82983858.py:2: FutureWarning: \n",
      "\n",
      "Passing `palette` without assigning `hue` is deprecated and will be removed in v0.14.0. Assign the `x` variable to `hue` and set `legend=False` for the same effect.\n",
      "\n",
      "  sns.barplot(x=country_sales.index, y=country_sales.values, palette='viridis')\n"
     ]
    },
    {
     "data": {
      "image/png": "[encoded data removed]",
      "text/plain": [
       "<Figure size 1200x600 with 1 Axes>"
      ]
     },
     "metadata": {},
     "output_type": "display_data"
    }
   ],
   "source": [
    "plt.figure(figsize=(12, 6))\n",
    "sns.barplot(x=country_sales.index, y=country_sales.values, palette='viridis')\n",
    "plt.title(\"Sales Difference Across Countries\", fontsize=16)\n",
    "plt.xlabel(\"Country\", fontsize=12)\n",
    "plt.ylabel(\"Total Sales\", fontsize=12)\n",
    "plt.xticks(rotation=45)\n",
    "plt.grid(axis='y')\n",
    "plt.show()"
   ]
  },
  {
   "cell_type": "code",
   "execution_count": 42,
   "metadata": {},
   "outputs": [],
   "source": [
    "regional_sales = df.groupby(['Country', 'Segment'])['Sales'].sum().unstack()"
   ]
  },
  {
   "cell_type": "code",
   "execution_count": 43,
   "metadata": {},
   "outputs": [
    {
     "data": {
      "image/png": "[encoded data removed]",
      "text/plain": [
       "<Figure size 1200x800 with 2 Axes>"
      ]
     },
     "metadata": {},
     "output_type": "display_data"
    }
   ],
   "source": [
    "plt.figure(figsize=(12, 8))\n",
    "sns.heatmap(regional_sales, annot=True, fmt='.0f', cmap='coolwarm', cbar_kws={'label': 'Total Sales'})\n",
    "plt.title(\"Heatmap of Sales Difference Across Regions\", fontsize=16)\n",
    "plt.xlabel(\"Segment\", fontsize=12)\n",
    "plt.ylabel(\"Country\", fontsize=12)\n",
    "plt.xticks(rotation=45)\n",
    "plt.show()"
   ]
  },
  {
   "cell_type": "markdown",
   "metadata": {},
   "source": [
    "top-selling products using visualization charts (pie chart or bar chart)"
   ]
  },
  {
   "cell_type": "code",
   "execution_count": 44,
   "metadata": {},
   "outputs": [],
   "source": [
    "product_sales = df.groupby('Product')['Sales'].sum().sort_values(ascending=False)"
   ]
  },
  {
   "cell_type": "code",
   "execution_count": 45,
   "metadata": {},
   "outputs": [
    {
     "data": {
      "image/png": "[encoded data removed]",
      "text/plain": [
       "<Figure size 800x800 with 1 Axes>"
      ]
     },
     "metadata": {},
     "output_type": "display_data"
    }
   ],
   "source": [
    "plt.figure(figsize=(8, 8))\n",
    "product_sales.plot(kind='pie', autopct='%1.1f%%', startangle=140, cmap='Set3')\n",
    "plt.title(\"Top-Selling Products\", fontsize=16)\n",
    "plt.ylabel(\"\")\n",
    "plt.show()"
   ]
  },
  {
   "cell_type": "markdown",
   "metadata": {},
   "source": [
    "relationship between discounts and sales or profits using a scatter plot or by creating a linear model regression"
   ]
  },
  {
   "cell_type": "code",
   "execution_count": 46,
   "metadata": {},
   "outputs": [
    {
     "data": {
      "image/png": "[encoded data removed]",
      "text/plain": [
       "<Figure size 800x600 with 1 Axes>"
      ]
     },
     "metadata": {},
     "output_type": "display_data"
    }
   ],
   "source": [
    "plt.figure(figsize=(8, 6))\n",
    "sns.scatterplot(x='Discounts', y='Sales', data=df, hue='Country', palette='tab10')\n",
    "plt.title(\"Relationship Between Discounts and Sales\", fontsize=16)\n",
    "plt.xlabel(\"Discounts\", fontsize=12)\n",
    "plt.ylabel(\"Sales\", fontsize=12)\n",
    "plt.grid(axis='y')\n",
    "plt.show()"
   ]
  },
  {
   "cell_type": "code",
   "execution_count": 47,
   "metadata": {},
   "outputs": [],
   "source": [
    "from sklearn.linear_model import LinearRegression"
   ]
  },
  {
   "cell_type": "code",
   "execution_count": 48,
   "metadata": {},
   "outputs": [],
   "source": [
    "X = df[['Discounts']]\n",
    "y = df['Sales']"
   ]
  },
  {
   "cell_type": "code",
   "execution_count": 49,
   "metadata": {},
   "outputs": [
    {
     "data": {
      "text/html": [
       "<style>#sk-container-id-1 {\n",
       "  /* Definition of color scheme common for light and dark mode */\n",
       "  --sklearn-color-text: #000;\n",
       "  --sklearn-color-text-muted: #666;\n",
       "  --sklearn-color-line: gray;\n",
       "  /* Definition of color scheme for unfitted estimators */\n",
       "  --sklearn-color-unfitted-level-0: #fff5e6;\n",
       "  --sklearn-color-unfitted-level-1: #f6e4d2;\n",
       "  --sklearn-color-unfitted-level-2: #ffe0b3;\n",
       "  --sklearn-color-unfitted-level-3: chocolate;\n",
       "  /* Definition of color scheme for fitted estimators */\n",
       "  --sklearn-color-fitted-level-0: #f0f8ff;\n",
       "  --sklearn-color-fitted-level-1: #d4ebff;\n",
       "  --sklearn-color-fitted-level-2: #b3dbfd;\n",
       "  --sklearn-color-fitted-level-3: cornflowerblue;\n",
       "\n",
       "  /* Specific color for light theme */\n",
       "  --sklearn-color-text-on-default-background: var(--sg-text-color, var(--theme-code-foreground, var(--jp-content-font-color1, black)));\n",
       "  --sklearn-color-background: var(--sg-background-color, var(--theme-background, var(--jp-layout-color0, white)));\n",
       "  --sklearn-color-border-box: var(--sg-text-color, var(--theme-code-foreground, var(--jp-content-font-color1, black)));\n",
       "  --sklearn-color-icon: #696969;\n",
       "\n",
       "  @media (prefers-color-scheme: dark) {\n",
       "    /* Redefinition of color scheme for dark theme */\n",
       "    --sklearn-color-text-on-default-background: var(--sg-text-color, var(--theme-code-foreground, var(--jp-content-font-color1, white)));\n",
       "    --sklearn-color-background: var(--sg-background-color, var(--theme-background, var(--jp-layout-color0, #111)));\n",
       "    --sklearn-color-border-box: var(--sg-text-color, var(--theme-code-foreground, var(--jp-content-font-color1, white)));\n",
       "    --sklearn-color-icon: #878787;\n",
       "  }\n",
       "}\n",
       "\n",
       "#sk-container-id-1 {\n",
       "  color: var(--sklearn-color-text);\n",
       "}\n",
       "\n",
       "#sk-container-id-1 pre {\n",
       "  padding: 0;\n",
       "}\n",
       "\n",
       "#sk-container-id-1 input.sk-hidden--visually {\n",
       "  border: 0;\n",
       "  clip: rect(1px 1px 1px 1px);\n",
       "  clip: rect(1px, 1px, 1px, 1px);\n",
       "  height: 1px;\n",
       "  margin: -1px;\n",
       "  overflow: hidden;\n",
       "  padding: 0;\n",
       "  position: absolute;\n",
       "  width: 1px;\n",
       "}\n",
       "\n",
       "#sk-container-id-1 div.sk-dashed-wrapped {\n",
       "  border: 1px dashed var(--sklearn-color-line);\n",
       "  margin: 0 0.4em 0.5em 0.4em;\n",
       "  box-sizing: border-box;\n",
       "  padding-bottom: 0.4em;\n",
       "  background-color: var(--sklearn-color-background);\n",
       "}\n",
       "\n",
       "#sk-container-id-1 div.sk-container {\n",
       "  /* jupyter's `normalize.less` sets `[hidden] { display: none; }`\n",
       "     but bootstrap.min.css set `[hidden] { display: none !important; }`\n",
       "     so we also need the `!important` here to be able to override the\n",
       "     default hidden behavior on the sphinx rendered scikit-learn.org.\n",
       "     See: https://github.com/scikit-learn/scikit-learn/issues/21755 */\n",
       "  display: inline-block !important;\n",
       "  position: relative;\n",
       "}\n",
       "\n",
       "#sk-container-id-1 div.sk-text-repr-fallback {\n",
       "  display: none;\n",
       "}\n",
       "\n",
       "div.sk-parallel-item,\n",
       "div.sk-serial,\n",
       "div.sk-item {\n",
       "  /* draw centered vertical line to link estimators */\n",
       "  background-image: linear-gradient(var(--sklearn-color-text-on-default-background), var(--sklearn-color-text-on-default-background));\n",
       "  background-size: 2px 100%;\n",
       "  background-repeat: no-repeat;\n",
       "  background-position: center center;\n",
       "}\n",
       "\n",
       "/* Parallel-specific style estimator block */\n",
       "\n",
       "#sk-container-id-1 div.sk-parallel-item::after {\n",
       "  content: \"\";\n",
       "  width: 100%;\n",
       "  border-bottom: 2px solid var(--sklearn-color-text-on-default-background);\n",
       "  flex-grow: 1;\n",
       "}\n",
       "\n",
       "#sk-container-id-1 div.sk-parallel {\n",
       "  display: flex;\n",
       "  align-items: stretch;\n",
       "  justify-content: center;\n",
       "  background-color: var(--sklearn-color-background);\n",
       "  position: relative;\n",
       "}\n",
       "\n",
       "#sk-container-id-1 div.sk-parallel-item {\n",
       "  display: flex;\n",
       "  flex-direction: column;\n",
       "}\n",
       "\n",
       "#sk-container-id-1 div.sk-parallel-item:first-child::after {\n",
       "  align-self: flex-end;\n",
       "  width: 50%;\n",
       "}\n",
       "\n",
       "#sk-container-id-1 div.sk-parallel-item:last-child::after {\n",
       "  align-self: flex-start;\n",
       "  width: 50%;\n",
       "}\n",
       "\n",
       "#sk-container-id-1 div.sk-parallel-item:only-child::after {\n",
       "  width: 0;\n",
       "}\n",
       "\n",
       "/* Serial-specific style estimator block */\n",
       "\n",
       "#sk-container-id-1 div.sk-serial {\n",
       "  display: flex;\n",
       "  flex-direction: column;\n",
       "  align-items: center;\n",
       "  background-color: var(--sklearn-color-background);\n",
       "  padding-right: 1em;\n",
       "  padding-left: 1em;\n",
       "}\n",
       "\n",
       "\n",
       "/* Toggleable style: style used for estimator/Pipeline/ColumnTransformer box that is\n",
       "clickable and can be expanded/collapsed.\n",
       "- Pipeline and ColumnTransformer use this feature and define the default style\n",
       "- Estimators will overwrite some part of the style using the `sk-estimator` class\n",
       "*/\n",
       "\n",
       "/* Pipeline and ColumnTransformer style (default) */\n",
       "\n",
       "#sk-container-id-1 div.sk-toggleable {\n",
       "  /* Default theme specific background. It is overwritten whether we have a\n",
       "  specific estimator or a Pipeline/ColumnTransformer */\n",
       "  background-color: var(--sklearn-color-background);\n",
       "}\n",
       "\n",
       "/* Toggleable label */\n",
       "#sk-container-id-1 label.sk-toggleable__label {\n",
       "  cursor: pointer;\n",
       "  display: flex;\n",
       "  width: 100%;\n",
       "  margin-bottom: 0;\n",
       "  padding: 0.5em;\n",
       "  box-sizing: border-box;\n",
       "  text-align: center;\n",
       "  align-items: start;\n",
       "  justify-content: space-between;\n",
       "  gap: 0.5em;\n",
       "}\n",
       "\n",
       "#sk-container-id-1 label.sk-toggleable__label .caption {\n",
       "  font-size: 0.6rem;\n",
       "  font-weight: lighter;\n",
       "  color: var(--sklearn-color-text-muted);\n",
       "}\n",
       "\n",
       "#sk-container-id-1 label.sk-toggleable__label-arrow:before {\n",
       "  /* Arrow on the left of the label */\n",
       "  content: \"▸\";\n",
       "  float: left;\n",
       "  margin-right: 0.25em;\n",
       "  color: var(--sklearn-color-icon);\n",
       "}\n",
       "\n",
       "#sk-container-id-1 label.sk-toggleable__label-arrow:hover:before {\n",
       "  color: var(--sklearn-color-text);\n",
       "}\n",
       "\n",
       "/* Toggleable content - dropdown */\n",
       "\n",
       "#sk-container-id-1 div.sk-toggleable__content {\n",
       "  max-height: 0;\n",
       "  max-width: 0;\n",
       "  overflow: hidden;\n",
       "  text-align: left;\n",
       "  /* unfitted */\n",
       "  background-color: var(--sklearn-color-unfitted-level-0);\n",
       "}\n",
       "\n",
       "#sk-container-id-1 div.sk-toggleable__content.fitted {\n",
       "  /* fitted */\n",
       "  background-color: var(--sklearn-color-fitted-level-0);\n",
       "}\n",
       "\n",
       "#sk-container-id-1 div.sk-toggleable__content pre {\n",
       "  margin: 0.2em;\n",
       "  border-radius: 0.25em;\n",
       "  color: var(--sklearn-color-text);\n",
       "  /* unfitted */\n",
       "  background-color: var(--sklearn-color-unfitted-level-0);\n",
       "}\n",
       "\n",
       "#sk-container-id-1 div.sk-toggleable__content.fitted pre {\n",
       "  /* unfitted */\n",
       "  background-color: var(--sklearn-color-fitted-level-0);\n",
       "}\n",
       "\n",
       "#sk-container-id-1 input.sk-toggleable__control:checked~div.sk-toggleable__content {\n",
       "  /* Expand drop-down */\n",
       "  max-height: 200px;\n",
       "  max-width: 100%;\n",
       "  overflow: auto;\n",
       "}\n",
       "\n",
       "#sk-container-id-1 input.sk-toggleable__control:checked~label.sk-toggleable__label-arrow:before {\n",
       "  content: \"▾\";\n",
       "}\n",
       "\n",
       "/* Pipeline/ColumnTransformer-specific style */\n",
       "\n",
       "#sk-container-id-1 div.sk-label input.sk-toggleable__control:checked~label.sk-toggleable__label {\n",
       "  color: var(--sklearn-color-text);\n",
       "  background-color: var(--sklearn-color-unfitted-level-2);\n",
       "}\n",
       "\n",
       "#sk-container-id-1 div.sk-label.fitted input.sk-toggleable__control:checked~label.sk-toggleable__label {\n",
       "  background-color: var(--sklearn-color-fitted-level-2);\n",
       "}\n",
       "\n",
       "/* Estimator-specific style */\n",
       "\n",
       "/* Colorize estimator box */\n",
       "#sk-container-id-1 div.sk-estimator input.sk-toggleable__control:checked~label.sk-toggleable__label {\n",
       "  /* unfitted */\n",
       "  background-color: var(--sklearn-color-unfitted-level-2);\n",
       "}\n",
       "\n",
       "#sk-container-id-1 div.sk-estimator.fitted input.sk-toggleable__control:checked~label.sk-toggleable__label {\n",
       "  /* fitted */\n",
       "  background-color: var(--sklearn-color-fitted-level-2);\n",
       "}\n",
       "\n",
       "#sk-container-id-1 div.sk-label label.sk-toggleable__label,\n",
       "#sk-container-id-1 div.sk-label label {\n",
       "  /* The background is the default theme color */\n",
       "  color: var(--sklearn-color-text-on-default-background);\n",
       "}\n",
       "\n",
       "/* On hover, darken the color of the background */\n",
       "#sk-container-id-1 div.sk-label:hover label.sk-toggleable__label {\n",
       "  color: var(--sklearn-color-text);\n",
       "  background-color: var(--sklearn-color-unfitted-level-2);\n",
       "}\n",
       "\n",
       "/* Label box, darken color on hover, fitted */\n",
       "#sk-container-id-1 div.sk-label.fitted:hover label.sk-toggleable__label.fitted {\n",
       "  color: var(--sklearn-color-text);\n",
       "  background-color: var(--sklearn-color-fitted-level-2);\n",
       "}\n",
       "\n",
       "/* Estimator label */\n",
       "\n",
       "#sk-container-id-1 div.sk-label label {\n",
       "  font-family: monospace;\n",
       "  font-weight: bold;\n",
       "  display: inline-block;\n",
       "  line-height: 1.2em;\n",
       "}\n",
       "\n",
       "#sk-container-id-1 div.sk-label-container {\n",
       "  text-align: center;\n",
       "}\n",
       "\n",
       "/* Estimator-specific */\n",
       "#sk-container-id-1 div.sk-estimator {\n",
       "  font-family: monospace;\n",
       "  border: 1px dotted var(--sklearn-color-border-box);\n",
       "  border-radius: 0.25em;\n",
       "  box-sizing: border-box;\n",
       "  margin-bottom: 0.5em;\n",
       "  /* unfitted */\n",
       "  background-color: var(--sklearn-color-unfitted-level-0);\n",
       "}\n",
       "\n",
       "#sk-container-id-1 div.sk-estimator.fitted {\n",
       "  /* fitted */\n",
       "  background-color: var(--sklearn-color-fitted-level-0);\n",
       "}\n",
       "\n",
       "/* on hover */\n",
       "#sk-container-id-1 div.sk-estimator:hover {\n",
       "  /* unfitted */\n",
       "  background-color: var(--sklearn-color-unfitted-level-2);\n",
       "}\n",
       "\n",
       "#sk-container-id-1 div.sk-estimator.fitted:hover {\n",
       "  /* fitted */\n",
       "  background-color: var(--sklearn-color-fitted-level-2);\n",
       "}\n",
       "\n",
       "/* Specification for estimator info (e.g. \"i\" and \"?\") */\n",
       "\n",
       "/* Common style for \"i\" and \"?\" */\n",
       "\n",
       ".sk-estimator-doc-link,\n",
       "a:link.sk-estimator-doc-link,\n",
       "a:visited.sk-estimator-doc-link {\n",
       "  float: right;\n",
       "  font-size: smaller;\n",
       "  line-height: 1em;\n",
       "  font-family: monospace;\n",
       "  background-color: var(--sklearn-color-background);\n",
       "  border-radius: 1em;\n",
       "  height: 1em;\n",
       "  width: 1em;\n",
       "  text-decoration: none !important;\n",
       "  margin-left: 0.5em;\n",
       "  text-align: center;\n",
       "  /* unfitted */\n",
       "  border: var(--sklearn-color-unfitted-level-1) 1pt solid;\n",
       "  color: var(--sklearn-color-unfitted-level-1);\n",
       "}\n",
       "\n",
       ".sk-estimator-doc-link.fitted,\n",
       "a:link.sk-estimator-doc-link.fitted,\n",
       "a:visited.sk-estimator-doc-link.fitted {\n",
       "  /* fitted */\n",
       "  border: var(--sklearn-color-fitted-level-1) 1pt solid;\n",
       "  color: var(--sklearn-color-fitted-level-1);\n",
       "}\n",
       "\n",
       "/* On hover */\n",
       "div.sk-estimator:hover .sk-estimator-doc-link:hover,\n",
       ".sk-estimator-doc-link:hover,\n",
       "div.sk-label-container:hover .sk-estimator-doc-link:hover,\n",
       ".sk-estimator-doc-link:hover {\n",
       "  /* unfitted */\n",
       "  background-color: var(--sklearn-color-unfitted-level-3);\n",
       "  color: var(--sklearn-color-background);\n",
       "  text-decoration: none;\n",
       "}\n",
       "\n",
       "div.sk-estimator.fitted:hover .sk-estimator-doc-link.fitted:hover,\n",
       ".sk-estimator-doc-link.fitted:hover,\n",
       "div.sk-label-container:hover .sk-estimator-doc-link.fitted:hover,\n",
       ".sk-estimator-doc-link.fitted:hover {\n",
       "  /* fitted */\n",
       "  background-color: var(--sklearn-color-fitted-level-3);\n",
       "  color: var(--sklearn-color-background);\n",
       "  text-decoration: none;\n",
       "}\n",
       "\n",
       "/* Span, style for the box shown on hovering the info icon */\n",
       ".sk-estimator-doc-link span {\n",
       "  display: none;\n",
       "  z-index: 9999;\n",
       "  position: relative;\n",
       "  font-weight: normal;\n",
       "  right: .2ex;\n",
       "  padding: .5ex;\n",
       "  margin: .5ex;\n",
       "  width: min-content;\n",
       "  min-width: 20ex;\n",
       "  max-width: 50ex;\n",
       "  color: var(--sklearn-color-text);\n",
       "  box-shadow: 2pt 2pt 4pt #999;\n",
       "  /* unfitted */\n",
       "  background: var(--sklearn-color-unfitted-level-0);\n",
       "  border: .5pt solid var(--sklearn-color-unfitted-level-3);\n",
       "}\n",
       "\n",
       ".sk-estimator-doc-link.fitted span {\n",
       "  /* fitted */\n",
       "  background: var(--sklearn-color-fitted-level-0);\n",
       "  border: var(--sklearn-color-fitted-level-3);\n",
       "}\n",
       "\n",
       ".sk-estimator-doc-link:hover span {\n",
       "  display: block;\n",
       "}\n",
       "\n",
       "/* \"?\"-specific style due to the `<a>` HTML tag */\n",
       "\n",
       "#sk-container-id-1 a.estimator_doc_link {\n",
       "  float: right;\n",
       "  font-size: 1rem;\n",
       "  line-height: 1em;\n",
       "  font-family: monospace;\n",
       "  background-color: var(--sklearn-color-background);\n",
       "  border-radius: 1rem;\n",
       "  height: 1rem;\n",
       "  width: 1rem;\n",
       "  text-decoration: none;\n",
       "  /* unfitted */\n",
       "  color: var(--sklearn-color-unfitted-level-1);\n",
       "  border: var(--sklearn-color-unfitted-level-1) 1pt solid;\n",
       "}\n",
       "\n",
       "#sk-container-id-1 a.estimator_doc_link.fitted {\n",
       "  /* fitted */\n",
       "  border: var(--sklearn-color-fitted-level-1) 1pt solid;\n",
       "  color: var(--sklearn-color-fitted-level-1);\n",
       "}\n",
       "\n",
       "/* On hover */\n",
       "#sk-container-id-1 a.estimator_doc_link:hover {\n",
       "  /* unfitted */\n",
       "  background-color: var(--sklearn-color-unfitted-level-3);\n",
       "  color: var(--sklearn-color-background);\n",
       "  text-decoration: none;\n",
       "}\n",
       "\n",
       "#sk-container-id-1 a.estimator_doc_link.fitted:hover {\n",
       "  /* fitted */\n",
       "  background-color: var(--sklearn-color-fitted-level-3);\n",
       "}\n",
       "</style><div id=\"sk-container-id-1\" class=\"sk-top-container\"><div class=\"sk-text-repr-fallback\"><pre>LinearRegression()</pre><b>In a Jupyter environment, please rerun this cell to show the HTML representation or trust the notebook. <br />On GitHub, the HTML representation is unable to render, please try loading this page with nbviewer.org.</b></div><div class=\"sk-container\" hidden><div class=\"sk-item\"><div class=\"sk-estimator fitted sk-toggleable\"><input class=\"sk-toggleable__control sk-hidden--visually\" id=\"sk-estimator-id-1\" type=\"checkbox\" checked><label for=\"sk-estimator-id-1\" class=\"sk-toggleable__label fitted sk-toggleable__label-arrow\"><div><div>LinearRegression</div></div><div><a class=\"sk-estimator-doc-link fitted\" rel=\"noreferrer\" target=\"_blank\" href=\"https://scikit-learn.org/1.6/modules/generated/sklearn.linear_model.LinearRegression.html\">?<span>Documentation for LinearRegression</span></a><span class=\"sk-estimator-doc-link fitted\">i<span>Fitted</span></span></div></label><div class=\"sk-toggleable__content fitted\"><pre>LinearRegression()</pre></div> </div></div></div></div>"
      ],
      "text/plain": [
       "LinearRegression()"
      ]
     },
     "execution_count": 49,
     "metadata": {},
     "output_type": "execute_result"
    }
   ],
   "source": [
    "model = LinearRegression()\n",
    "model.fit(X, y)"
   ]
  },
  {
   "cell_type": "code",
   "execution_count": 50,
   "metadata": {},
   "outputs": [],
   "source": [
    "df['Sales_Predicted'] = model.predict(X)"
   ]
  },
  {
   "cell_type": "code",
   "execution_count": 51,
   "metadata": {},
   "outputs": [
    {
     "data": {
      "image/png": "[encoded data removed]",
      "text/plain": [
       "<Figure size 800x600 with 1 Axes>"
      ]
     },
     "metadata": {},
     "output_type": "display_data"
    }
   ],
   "source": [
    "plt.figure(figsize=(8, 6))\n",
    "sns.scatterplot(x='Discounts', y='Sales', data=df, label='Actual', color='blue')\n",
    "plt.plot(df['Discounts'], df['Sales_Predicted'], color='red', label='Predicted')\n",
    "plt.title(\"Linear Regression: Discounts vs Sales\", fontsize=16)\n",
    "plt.xlabel(\"Discounts\", fontsize=12)\n",
    "plt.ylabel(\"Sales\", fontsize=12)\n",
    "plt.legend()\n",
    "plt.grid(axis='y')\n",
    "plt.show()"
   ]
  },
  {
   "cell_type": "code",
   "execution_count": 52,
   "metadata": {},
   "outputs": [],
   "source": [
    "import statsmodels.api as sm"
   ]
  },
  {
   "cell_type": "code",
   "execution_count": 53,
   "metadata": {},
   "outputs": [],
   "source": [
    "X = sm.add_constant(X)"
   ]
  },
  {
   "cell_type": "code",
   "execution_count": 54,
   "metadata": {},
   "outputs": [],
   "source": [
    "model = sm.OLS(y, X).fit()"
   ]
  },
  {
   "cell_type": "code",
   "execution_count": 55,
   "metadata": {},
   "outputs": [
    {
     "name": "stdout",
     "output_type": "stream",
     "text": [
      "                            OLS Regression Results                            \n",
      "==============================================================================\n",
      "Dep. Variable:                  Sales   R-squared:                       0.553\n",
      "Model:                            OLS   Adj. R-squared:                  0.552\n",
      "Method:                 Least Squares   F-statistic:                     857.4\n",
      "Date:                Mon, 03 Feb 2025   Prob (F-statistic):          2.70e-123\n",
      "Time:                        18:43:22   Log-Likelihood:                -9308.3\n",
      "No. Observations:                 695   AIC:                         1.862e+04\n",
      "Df Residuals:                     693   BIC:                         1.863e+04\n",
      "Df Model:                           1                                         \n",
      "Covariance Type:            nonrobust                                         \n",
      "==============================================================================\n",
      "                 coef    std err          t      P>|t|      [0.025      0.975]\n",
      "------------------------------------------------------------------------------\n",
      "const       6.847e+04   6945.279      9.859      0.000    5.48e+04    8.21e+04\n",
      "Discounts      7.6647      0.262     29.282      0.000       7.151       8.179\n",
      "==============================================================================\n",
      "Omnibus:                      413.825   Durbin-Watson:                   1.485\n",
      "Prob(Omnibus):                  0.000   Jarque-Bera (JB):             2969.830\n",
      "Skew:                           2.694   Prob(JB):                         0.00\n",
      "Kurtosis:                      11.575   Cond. No.                     3.06e+04\n",
      "==============================================================================\n",
      "\n",
      "Notes:\n",
      "[1] Standard Errors assume that the covariance matrix of the errors is correctly specified.\n",
      "[2] The condition number is large, 3.06e+04. This might indicate that there are\n",
      "strong multicollinearity or other numerical problems.\n"
     ]
    }
   ],
   "source": [
    "print(model.summary())"
   ]
  },
  {
   "cell_type": "markdown",
   "metadata": {},
   "source": [
    "### Correlation "
   ]
  },
  {
   "cell_type": "code",
   "execution_count": 65,
   "metadata": {},
   "outputs": [
    {
     "name": "stdout",
     "output_type": "stream",
     "text": [
      "           Discount Band  Units Sold  Manufacturing Price  Sale Price  \\\n",
      "Date                                                                    \n",
      "2014-01-01         None         1618                    3          20   \n",
      "2014-01-01         None         1321                    3          20   \n",
      "2014-06-01         None         2178                    3          15   \n",
      "2014-06-01         None          888                    3          15   \n",
      "2014-06-01         None         2470                    3          15   \n",
      "\n",
      "            Gross Sales  Discounts  Sales   COGS  Profit  Sales_Predicted  \\\n",
      "Date                                                                        \n",
      "2014-01-01        32370          0  32370  16185   16185     68474.126031   \n",
      "2014-01-01        26420          0  26420  13210   13210     68474.126031   \n",
      "2014-06-01        32670          0  32670  21780   10890     68474.126031   \n",
      "2014-06-01        13320          0  13320   8880    4440     68474.126031   \n",
      "2014-06-01        37050          0  37050  24700   12350     68474.126031   \n",
      "\n",
      "            ...  Segment_Small Business  Country_France  Country_Germany  \\\n",
      "Date        ...                                                            \n",
      "2014-01-01  ...                   False           False            False   \n",
      "2014-01-01  ...                   False           False             True   \n",
      "2014-06-01  ...                   False            True            False   \n",
      "2014-06-01  ...                   False           False             True   \n",
      "2014-06-01  ...                   False           False            False   \n",
      "\n",
      "            Country_Mexico  Country_United States of America  \\\n",
      "Date                                                           \n",
      "2014-01-01           False                             False   \n",
      "2014-01-01           False                             False   \n",
      "2014-06-01           False                             False   \n",
      "2014-06-01           False                             False   \n",
      "2014-06-01            True                             False   \n",
      "\n",
      "            Product_ Carretera   Product_ Montana   Product_ Paseo   \\\n",
      "Date                                                                  \n",
      "2014-01-01                 True              False            False   \n",
      "2014-01-01                 True              False            False   \n",
      "2014-06-01                 True              False            False   \n",
      "2014-06-01                 True              False            False   \n",
      "2014-06-01                 True              False            False   \n",
      "\n",
      "            Product_ VTT   Product_ Velo   \n",
      "Date                                       \n",
      "2014-01-01          False           False  \n",
      "2014-01-01          False           False  \n",
      "2014-06-01          False           False  \n",
      "2014-06-01          False           False  \n",
      "2014-06-01          False           False  \n",
      "\n",
      "[5 rows x 23 columns]\n"
     ]
    }
   ],
   "source": [
    "# Apply pd.get_dummies to create dummies for categorical columns\n",
    "df_model = pd.get_dummies(df, columns=['Segment', 'Country', 'Product'], drop_first=True)\n",
    "\n",
    "# Verify the new DataFrame with dummies\n",
    "print(df_model.head())\n",
    "\n"
   ]
  },
  {
   "cell_type": "code",
   "execution_count": 74,
   "metadata": {},
   "outputs": [
    {
     "name": "stdout",
     "output_type": "stream",
     "text": [
      "           Discount Band  Units Sold  Manufacturing Price  Sale Price  \\\n",
      "Date                                                                    \n",
      "2014-01-01          None        1618                    3          20   \n",
      "2014-01-01          None        1321                    3          20   \n",
      "2014-06-01          None        2178                    3          15   \n",
      "2014-06-01          None         888                    3          15   \n",
      "2014-06-01          None        2470                    3          15   \n",
      "\n",
      "            Gross Sales  Discounts  Sales   COGS  Profit  Sales_Predicted  \\\n",
      "Date                                                                        \n",
      "2014-01-01        32370          0  32370  16185   16185     68474.126031   \n",
      "2014-01-01        26420          0  26420  13210   13210     68474.126031   \n",
      "2014-06-01        32670          0  32670  21780   10890     68474.126031   \n",
      "2014-06-01        13320          0  13320   8880    4440     68474.126031   \n",
      "2014-06-01        37050          0  37050  24700   12350     68474.126031   \n",
      "\n",
      "            ...  Segment_Small Business  Country_France  Country_Germany  \\\n",
      "Date        ...                                                            \n",
      "2014-01-01  ...                   False           False            False   \n",
      "2014-01-01  ...                   False           False             True   \n",
      "2014-06-01  ...                   False            True            False   \n",
      "2014-06-01  ...                   False           False             True   \n",
      "2014-06-01  ...                   False           False            False   \n",
      "\n",
      "            Country_Mexico  Country_United States of America  \\\n",
      "Date                                                           \n",
      "2014-01-01           False                             False   \n",
      "2014-01-01           False                             False   \n",
      "2014-06-01           False                             False   \n",
      "2014-06-01           False                             False   \n",
      "2014-06-01            True                             False   \n",
      "\n",
      "            Product_ Carretera   Product_ Montana   Product_ Paseo   \\\n",
      "Date                                                                  \n",
      "2014-01-01                 True              False            False   \n",
      "2014-01-01                 True              False            False   \n",
      "2014-06-01                 True              False            False   \n",
      "2014-06-01                 True              False            False   \n",
      "2014-06-01                 True              False            False   \n",
      "\n",
      "            Product_ VTT   Product_ Velo   \n",
      "Date                                       \n",
      "2014-01-01          False           False  \n",
      "2014-01-01          False           False  \n",
      "2014-06-01          False           False  \n",
      "2014-06-01          False           False  \n",
      "2014-06-01          False           False  \n",
      "\n",
      "[5 rows x 23 columns]\n"
     ]
    }
   ],
   "source": [
    "df_model = df_model.replace({' None ': None}, regex=True)\n",
    "\n",
    "print(df_model.head())"
   ]
  },
  {
   "cell_type": "code",
   "execution_count": 76,
   "metadata": {},
   "outputs": [
    {
     "name": "stdout",
     "output_type": "stream",
     "text": [
      "           Discount Band\n",
      "Date                    \n",
      "2014-01-01          None\n",
      "2014-01-01          None\n",
      "2014-06-01          None\n",
      "2014-06-01          None\n",
      "2014-06-01          None\n"
     ]
    }
   ],
   "source": [
    "print(df_model.select_dtypes(include=['object']).head())\n"
   ]
  },
  {
   "cell_type": "code",
   "execution_count": 77,
   "metadata": {},
   "outputs": [
    {
     "name": "stdout",
     "output_type": "stream",
     "text": [
      "[None ' Low ' ' Medium ' ' High ']\n"
     ]
    }
   ],
   "source": [
    "print(df_model['Discount Band'].unique())\n"
   ]
  },
  {
   "cell_type": "code",
   "execution_count": 78,
   "metadata": {},
   "outputs": [],
   "source": [
    "df_model['Discount Band'] = df_model['Discount Band'].str.strip()\n"
   ]
  },
  {
   "cell_type": "code",
   "execution_count": 79,
   "metadata": {},
   "outputs": [
    {
     "name": "stdout",
     "output_type": "stream",
     "text": [
      "            Units Sold  Manufacturing Price  Sale Price  Gross Sales  \\\n",
      "Date                                                                   \n",
      "2014-01-01        1618                    3          20        32370   \n",
      "2014-01-01        1321                    3          20        26420   \n",
      "2014-06-01        2178                    3          15        32670   \n",
      "2014-06-01         888                    3          15        13320   \n",
      "2014-06-01        2470                    3          15        37050   \n",
      "\n",
      "            Discounts  Sales   COGS  Profit  Sales_Predicted  \\\n",
      "Date                                                           \n",
      "2014-01-01          0  32370  16185   16185     68474.126031   \n",
      "2014-01-01          0  26420  13210   13210     68474.126031   \n",
      "2014-06-01          0  32670  21780   10890     68474.126031   \n",
      "2014-06-01          0  13320   8880    4440     68474.126031   \n",
      "2014-06-01          0  37050  24700   12350     68474.126031   \n",
      "\n",
      "            Segment_Enterprise  ...  Country_Germany  Country_Mexico  \\\n",
      "Date                            ...                                    \n",
      "2014-01-01               False  ...            False           False   \n",
      "2014-01-01               False  ...             True           False   \n",
      "2014-06-01               False  ...            False           False   \n",
      "2014-06-01               False  ...             True           False   \n",
      "2014-06-01               False  ...            False            True   \n",
      "\n",
      "            Country_United States of America  Product_ Carretera   \\\n",
      "Date                                                                \n",
      "2014-01-01                             False                 True   \n",
      "2014-01-01                             False                 True   \n",
      "2014-06-01                             False                 True   \n",
      "2014-06-01                             False                 True   \n",
      "2014-06-01                             False                 True   \n",
      "\n",
      "            Product_ Montana   Product_ Paseo   Product_ VTT   Product_ Velo   \\\n",
      "Date                                                                            \n",
      "2014-01-01              False            False          False           False   \n",
      "2014-01-01              False            False          False           False   \n",
      "2014-06-01              False            False          False           False   \n",
      "2014-06-01              False            False          False           False   \n",
      "2014-06-01              False            False          False           False   \n",
      "\n",
      "            Discount Band_Low  Discount Band_Medium  \n",
      "Date                                                 \n",
      "2014-01-01              False                 False  \n",
      "2014-01-01              False                 False  \n",
      "2014-06-01              False                 False  \n",
      "2014-06-01              False                 False  \n",
      "2014-06-01              False                 False  \n",
      "\n",
      "[5 rows x 24 columns]\n"
     ]
    }
   ],
   "source": [
    "df_model = pd.get_dummies(df_model, columns=['Discount Band'], drop_first=True)\n",
    "print(df_model.head())"
   ]
  },
  {
   "cell_type": "code",
   "execution_count": 80,
   "metadata": {},
   "outputs": [],
   "source": [
    "correlation_matrix = df_model.corr()"
   ]
  },
  {
   "cell_type": "code",
   "execution_count": 81,
   "metadata": {},
   "outputs": [
    {
     "name": "stdout",
     "output_type": "stream",
     "text": [
      "                                  Units Sold  Manufacturing Price  Sale Price  \\\n",
      "Units Sold                              1.00                -0.03       -0.07   \n",
      "Manufacturing Price                    -0.03                 1.00        0.07   \n",
      "Sale Price                             -0.07                 0.07        1.00   \n",
      "Gross Sales                             0.33                 0.05        0.81   \n",
      "Discounts                               0.25                 0.02        0.64   \n",
      "Sales                                   0.33                 0.05        0.81   \n",
      "COGS                                    0.33                 0.05        0.80   \n",
      "Profit                                  0.27                 0.07        0.68   \n",
      "Sales_Predicted                         0.25                 0.02        0.64   \n",
      "Segment_Enterprise                      0.04                 0.00        0.02   \n",
      "Segment_Government                     -0.04                 0.00        0.05   \n",
      "Segment_Midmarket                       0.05                -0.03       -0.31   \n",
      "Segment_Small Business                 -0.04                 0.03        0.54   \n",
      "Country_France                          0.06                -0.00        0.00   \n",
      "Country_Germany                        -0.10                -0.00        0.00   \n",
      "Country_Mexico                         -0.09                -0.00       -0.00   \n",
      "Country_United States of America        0.03                 0.02        0.00   \n",
      "Product_ Carretera                     -0.01                -0.34       -0.02   \n",
      "Product_ Montana                        0.02                -0.33       -0.00   \n",
      "Product_ Paseo                          0.05                -0.51       -0.05   \n",
      "Product_ VTT                           -0.03                 0.61        0.06   \n",
      "Product_ Velo                          -0.06                 0.09       -0.01   \n",
      "Discount Band_Low                       0.02                -0.06        0.06   \n",
      "Discount Band_Medium                   -0.03                 0.02       -0.01   \n",
      "\n",
      "                                  Gross Sales  Discounts  Sales  COGS  Profit  \\\n",
      "Units Sold                               0.33       0.25   0.33  0.33    0.27   \n",
      "Manufacturing Price                      0.05       0.02   0.05  0.05    0.07   \n",
      "Sale Price                               0.81       0.64   0.81  0.80    0.68   \n",
      "Gross Sales                              1.00       0.78   1.00  0.99    0.83   \n",
      "Discounts                                0.78       1.00   0.74  0.78    0.44   \n",
      "Sales                                    1.00       0.74   1.00  0.99    0.85   \n",
      "COGS                                     0.99       0.78   0.99  1.00    0.78   \n",
      "Profit                                   0.83       0.44   0.85  0.78    1.00   \n",
      "Sales_Predicted                          0.78       1.00   0.74  0.78    0.44   \n",
      "Segment_Enterprise                       0.05       0.03   0.05  0.11   -0.16   \n",
      "Segment_Government                       0.02      -0.01   0.02 -0.04    0.24   \n",
      "Segment_Midmarket                       -0.25      -0.20  -0.25 -0.26   -0.20   \n",
      "Segment_Small Business                   0.44       0.39   0.44  0.48    0.15   \n",
      "Country_France                           0.00      -0.02   0.01  0.00    0.03   \n",
      "Country_Germany                         -0.01      -0.07  -0.00 -0.01    0.02   \n",
      "Country_Mexico                          -0.04      -0.01  -0.04 -0.04   -0.04   \n",
      "Country_United States of America         0.02       0.06   0.02  0.03   -0.03   \n",
      "Product_ Carretera                      -0.03      -0.02  -0.03 -0.03   -0.02   \n",
      "Product_ Montana                        -0.01      -0.01  -0.01 -0.00   -0.02   \n",
      "Product_ Paseo                          -0.02      -0.01  -0.02 -0.02   -0.02   \n",
      "Product_ VTT                             0.03       0.00   0.03  0.03    0.04   \n",
      "Product_ Velo                           -0.00       0.02  -0.00  0.00   -0.03   \n",
      "Discount Band_Low                        0.09      -0.18   0.11  0.09    0.17   \n",
      "Discount Band_Medium                    -0.03      -0.02  -0.03 -0.03   -0.04   \n",
      "\n",
      "                                  Sales_Predicted  Segment_Enterprise  ...  \\\n",
      "Units Sold                                   0.25                0.04  ...   \n",
      "Manufacturing Price                          0.02                0.00  ...   \n",
      "Sale Price                                   0.64                0.02  ...   \n",
      "Gross Sales                                  0.78                0.05  ...   \n",
      "Discounts                                    1.00                0.03  ...   \n",
      "Sales                                        0.74                0.05  ...   \n",
      "COGS                                         0.78                0.11  ...   \n",
      "Profit                                       0.44               -0.16  ...   \n",
      "Sales_Predicted                              1.00                0.03  ...   \n",
      "Segment_Enterprise                           0.03                1.00  ...   \n",
      "Segment_Government                          -0.01               -0.35  ...   \n",
      "Segment_Midmarket                           -0.20               -0.16  ...   \n",
      "Segment_Small Business                       0.39               -0.16  ...   \n",
      "Country_France                              -0.02               -0.00  ...   \n",
      "Country_Germany                             -0.07               -0.00  ...   \n",
      "Country_Mexico                              -0.01               -0.02  ...   \n",
      "Country_United States of America             0.06                0.01  ...   \n",
      "Product_ Carretera                          -0.02                0.03  ...   \n",
      "Product_ Montana                            -0.01               -0.02  ...   \n",
      "Product_ Paseo                              -0.01               -0.04  ...   \n",
      "Product_ VTT                                 0.00               -0.01  ...   \n",
      "Product_ Velo                                0.02                0.07  ...   \n",
      "Discount Band_Low                           -0.18                0.10  ...   \n",
      "Discount Band_Medium                        -0.02               -0.07  ...   \n",
      "\n",
      "                                  Country_Germany  Country_Mexico  \\\n",
      "Units Sold                                  -0.10           -0.09   \n",
      "Manufacturing Price                         -0.00           -0.00   \n",
      "Sale Price                                   0.00           -0.00   \n",
      "Gross Sales                                 -0.01           -0.04   \n",
      "Discounts                                   -0.07           -0.01   \n",
      "Sales                                       -0.00           -0.04   \n",
      "COGS                                        -0.01           -0.04   \n",
      "Profit                                       0.02           -0.04   \n",
      "Sales_Predicted                             -0.07           -0.01   \n",
      "Segment_Enterprise                          -0.00           -0.02   \n",
      "Segment_Government                           0.00            0.01   \n",
      "Segment_Midmarket                            0.00            0.00   \n",
      "Segment_Small Business                      -0.00            0.00   \n",
      "Country_France                              -0.25           -0.25   \n",
      "Country_Germany                              1.00           -0.25   \n",
      "Country_Mexico                              -0.25            1.00   \n",
      "Country_United States of America            -0.25           -0.25   \n",
      "Product_ Carretera                           0.01           -0.00   \n",
      "Product_ Montana                            -0.00            0.01   \n",
      "Product_ Paseo                              -0.01           -0.00   \n",
      "Product_ VTT                                 0.00           -0.01   \n",
      "Product_ Velo                                0.00            0.01   \n",
      "Discount Band_Low                            0.02           -0.03   \n",
      "Discount Band_Medium                         0.01           -0.01   \n",
      "\n",
      "                                  Country_United States of America  \\\n",
      "Units Sold                                                    0.03   \n",
      "Manufacturing Price                                           0.02   \n",
      "Sale Price                                                    0.00   \n",
      "Gross Sales                                                   0.02   \n",
      "Discounts                                                     0.06   \n",
      "Sales                                                         0.02   \n",
      "COGS                                                          0.03   \n",
      "Profit                                                       -0.03   \n",
      "Sales_Predicted                                               0.06   \n",
      "Segment_Enterprise                                            0.01   \n",
      "Segment_Government                                           -0.00   \n",
      "Segment_Midmarket                                            -0.00   \n",
      "Segment_Small Business                                       -0.00   \n",
      "Country_France                                               -0.25   \n",
      "Country_Germany                                              -0.25   \n",
      "Country_Mexico                                               -0.25   \n",
      "Country_United States of America                              1.00   \n",
      "Product_ Carretera                                           -0.02   \n",
      "Product_ Montana                                             -0.02   \n",
      "Product_ Paseo                                               -0.00   \n",
      "Product_ VTT                                                  0.01   \n",
      "Product_ Velo                                                 0.01   \n",
      "Discount Band_Low                                             0.02   \n",
      "Discount Band_Medium                                         -0.01   \n",
      "\n",
      "                                  Product_ Carretera   Product_ Montana   \\\n",
      "Units Sold                                      -0.01               0.02   \n",
      "Manufacturing Price                             -0.34              -0.33   \n",
      "Sale Price                                      -0.02              -0.00   \n",
      "Gross Sales                                     -0.03              -0.01   \n",
      "Discounts                                       -0.02              -0.01   \n",
      "Sales                                           -0.03              -0.01   \n",
      "COGS                                            -0.03              -0.00   \n",
      "Profit                                          -0.02              -0.02   \n",
      "Sales_Predicted                                 -0.02              -0.01   \n",
      "Segment_Enterprise                               0.03              -0.02   \n",
      "Segment_Government                              -0.04               0.02   \n",
      "Segment_Midmarket                               -0.02              -0.01   \n",
      "Segment_Small Business                          -0.02               0.02   \n",
      "Country_France                                  -0.01               0.02   \n",
      "Country_Germany                                  0.01              -0.00   \n",
      "Country_Mexico                                  -0.00               0.01   \n",
      "Country_United States of America                -0.02              -0.02   \n",
      "Product_ Carretera                               1.00              -0.15   \n",
      "Product_ Montana                                -0.15               1.00   \n",
      "Product_ Paseo                                  -0.25              -0.25   \n",
      "Product_ VTT                                    -0.17              -0.17   \n",
      "Product_ Velo                                   -0.17              -0.17   \n",
      "Discount Band_Low                                0.03               0.00   \n",
      "Discount Band_Medium                            -0.02              -0.00   \n",
      "\n",
      "                                  Product_ Paseo   Product_ VTT   \\\n",
      "Units Sold                                   0.05          -0.03   \n",
      "Manufacturing Price                         -0.51           0.61   \n",
      "Sale Price                                  -0.05           0.06   \n",
      "Gross Sales                                 -0.02           0.03   \n",
      "Discounts                                   -0.01           0.00   \n",
      "Sales                                       -0.02           0.03   \n",
      "COGS                                        -0.02           0.03   \n",
      "Profit                                      -0.02           0.04   \n",
      "Sales_Predicted                             -0.01           0.00   \n",
      "Segment_Enterprise                          -0.04          -0.01   \n",
      "Segment_Government                           0.01          -0.01   \n",
      "Segment_Midmarket                            0.07          -0.02   \n",
      "Segment_Small Business                      -0.02           0.06   \n",
      "Country_France                              -0.01           0.00   \n",
      "Country_Germany                             -0.01           0.00   \n",
      "Country_Mexico                              -0.00          -0.01   \n",
      "Country_United States of America            -0.00           0.01   \n",
      "Product_ Carretera                          -0.25          -0.17   \n",
      "Product_ Montana                            -0.25          -0.17   \n",
      "Product_ Paseo                               1.00          -0.27   \n",
      "Product_ VTT                                -0.27           1.00   \n",
      "Product_ Velo                               -0.27          -0.19   \n",
      "Discount Band_Low                            0.05           0.02   \n",
      "Discount Band_Medium                        -0.03          -0.01   \n",
      "\n",
      "                                  Product_ Velo   Discount Band_Low  \\\n",
      "Units Sold                                 -0.06               0.02   \n",
      "Manufacturing Price                         0.09              -0.06   \n",
      "Sale Price                                 -0.01               0.06   \n",
      "Gross Sales                                -0.00               0.09   \n",
      "Discounts                                   0.02              -0.18   \n",
      "Sales                                      -0.00               0.11   \n",
      "COGS                                        0.00               0.09   \n",
      "Profit                                     -0.03               0.17   \n",
      "Sales_Predicted                             0.02              -0.18   \n",
      "Segment_Enterprise                          0.07               0.10   \n",
      "Segment_Government                         -0.01              -0.07   \n",
      "Segment_Midmarket                          -0.02              -0.04   \n",
      "Segment_Small Business                     -0.02               0.02   \n",
      "Country_France                              0.00              -0.01   \n",
      "Country_Germany                             0.00               0.02   \n",
      "Country_Mexico                              0.01              -0.03   \n",
      "Country_United States of America            0.01               0.02   \n",
      "Product_ Carretera                         -0.17               0.03   \n",
      "Product_ Montana                           -0.17               0.00   \n",
      "Product_ Paseo                             -0.27               0.05   \n",
      "Product_ VTT                               -0.19               0.02   \n",
      "Product_ Velo                               1.00              -0.04   \n",
      "Discount Band_Low                          -0.04               1.00   \n",
      "Discount Band_Medium                        0.05              -0.39   \n",
      "\n",
      "                                  Discount Band_Medium  \n",
      "Units Sold                                       -0.03  \n",
      "Manufacturing Price                               0.02  \n",
      "Sale Price                                       -0.01  \n",
      "Gross Sales                                      -0.03  \n",
      "Discounts                                        -0.02  \n",
      "Sales                                            -0.03  \n",
      "COGS                                             -0.03  \n",
      "Profit                                           -0.04  \n",
      "Sales_Predicted                                  -0.02  \n",
      "Segment_Enterprise                               -0.07  \n",
      "Segment_Government                                0.09  \n",
      "Segment_Midmarket                                -0.06  \n",
      "Segment_Small Business                            0.04  \n",
      "Country_France                                    0.05  \n",
      "Country_Germany                                   0.01  \n",
      "Country_Mexico                                   -0.01  \n",
      "Country_United States of America                 -0.01  \n",
      "Product_ Carretera                               -0.02  \n",
      "Product_ Montana                                 -0.00  \n",
      "Product_ Paseo                                   -0.03  \n",
      "Product_ VTT                                     -0.01  \n",
      "Product_ Velo                                     0.05  \n",
      "Discount Band_Low                                -0.39  \n",
      "Discount Band_Medium                              1.00  \n",
      "\n",
      "[24 rows x 24 columns]\n"
     ]
    }
   ],
   "source": [
    "print(correlation_matrix.round(2))"
   ]
  },
  {
   "cell_type": "code",
   "execution_count": 89,
   "metadata": {},
   "outputs": [
    {
     "data": {
      "application/vnd.plotly.v1+json": {
       "config": {
        "plotlyServerURL": "https://plot.ly"
       },
       "data": [
        {
         "coloraxis": "coloraxis",
         "hovertemplate": "x: %{x}<br>y: %{y}<br>color: %{z}<extra></extra>",
         "name": "0",
         "texttemplate": "%{z:.2f}",
         "type": "heatmap",
         "x": [
          "Units Sold",
          "Manufacturing Price",
          "Sale Price",
          "Gross Sales",
          "Discounts",
          "Sales",
          "COGS",
          "Profit",
          "Sales_Predicted",
          "Segment_Enterprise",
          "Segment_Government",
          "Segment_Midmarket",
          "Segment_Small Business",
          "Country_France",
          "Country_Germany",
          "Country_Mexico",
          "Country_United States of America",
          "Product_ Carretera ",
          "Product_ Montana ",
          "Product_ Paseo ",
          "Product_ VTT ",
          "Product_ Velo ",
          "Discount Band_Low",
          "Discount Band_Medium"
         ],
         "xaxis": "x",
         "y": [
          "Units Sold",
          "Manufacturing Price",
          "Sale Price",
          "Gross Sales",
          "Discounts",
          "Sales",
          "COGS",
          "Profit",
          "Sales_Predicted",
          "Segment_Enterprise",
          "Segment_Government",
          "Segment_Midmarket",
          "Segment_Small Business",
          "Country_France",
          "Country_Germany",
          "Country_Mexico",
          "Country_United States of America",
          "Product_ Carretera ",
          "Product_ Montana ",
          "Product_ Paseo ",
          "Product_ VTT ",
          "Product_ Velo ",
          "Discount Band_Low",
          "Discount Band_Medium"
         ],
         "yaxis": "y",
         "z": {
          "bdata": "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",
          "dtype": "f8",
          "shape": "24, 24"
         }
        }
       ],
       "layout": {
        "coloraxis": {
         "colorscale": [
          [
           0,
           "rgb(5,48,97)"
          ],
          [
           0.1,
           "rgb(33,102,172)"
          ],
          [
           0.2,
           "rgb(67,147,195)"
          ],
          [
           0.3,
           "rgb(146,197,222)"
          ],
          [
           0.4,
           "rgb(209,229,240)"
          ],
          [
           0.5,
           "rgb(247,247,247)"
          ],
          [
           0.6,
           "rgb(253,219,199)"
          ],
          [
           0.7,
           "rgb(244,165,130)"
          ],
          [
           0.8,
           "rgb(214,96,77)"
          ],
          [
           0.9,
           "rgb(178,24,43)"
          ],
          [
           1,
           "rgb(103,0,31)"
          ]
         ]
        },
        "height": 1000,
        "template": {
         "data": {
          "bar": [
           {
            "error_x": {
             "color": "#2a3f5f"
            },
            "error_y": {
             "color": "#2a3f5f"
            },
            "marker": {
             "line": {
              "color": "#E5ECF6",
              "width": 0.5
             },
             "pattern": {
              "fillmode": "overlay",
              "size": 10,
              "solidity": 0.2
             }
            },
            "type": "bar"
           }
          ],
          "barpolar": [
           {
            "marker": {
             "line": {
              "color": "#E5ECF6",
              "width": 0.5
             },
             "pattern": {
              "fillmode": "overlay",
              "size": 10,
              "solidity": 0.2
             }
            },
            "type": "barpolar"
           }
          ],
          "carpet": [
           {
            "aaxis": {
             "endlinecolor": "#2a3f5f",
             "gridcolor": "white",
             "linecolor": "white",
             "minorgridcolor": "white",
             "startlinecolor": "#2a3f5f"
            },
            "baxis": {
             "endlinecolor": "#2a3f5f",
             "gridcolor": "white",
             "linecolor": "white",
             "minorgridcolor": "white",
             "startlinecolor": "#2a3f5f"
            },
            "type": "carpet"
           }
          ],
          "choropleth": [
           {
            "colorbar": {
             "outlinewidth": 0,
             "ticks": ""
            },
            "type": "choropleth"
           }
          ],
          "contour": [
           {
            "colorbar": {
             "outlinewidth": 0,
             "ticks": ""
            },
            "colorscale": [
             [
              0,
              "#0d0887"
             ],
             [
              0.1111111111111111,
              "#46039f"
             ],
             [
              0.2222222222222222,
              "#7201a8"
             ],
             [
              0.3333333333333333,
              "#9c179e"
             ],
             [
              0.4444444444444444,
              "#bd3786"
             ],
             [
              0.5555555555555556,
              "#d8576b"
             ],
             [
              0.6666666666666666,
              "#ed7953"
             ],
             [
              0.7777777777777778,
              "#fb9f3a"
             ],
             [
              0.8888888888888888,
              "#fdca26"
             ],
             [
              1,
              "#f0f921"
             ]
            ],
            "type": "contour"
           }
          ],
          "contourcarpet": [
           {
            "colorbar": {
             "outlinewidth": 0,
             "ticks": ""
            },
            "type": "contourcarpet"
           }
          ],
          "heatmap": [
           {
            "colorbar": {
             "outlinewidth": 0,
             "ticks": ""
            },
            "colorscale": [
             [
              0,
              "#0d0887"
             ],
             [
              0.1111111111111111,
              "#46039f"
             ],
             [
              0.2222222222222222,
              "#7201a8"
             ],
             [
              0.3333333333333333,
              "#9c179e"
             ],
             [
              0.4444444444444444,
              "#bd3786"
             ],
             [
              0.5555555555555556,
              "#d8576b"
             ],
             [
              0.6666666666666666,
              "#ed7953"
             ],
             [
              0.7777777777777778,
              "#fb9f3a"
             ],
             [
              0.8888888888888888,
              "#fdca26"
             ],
             [
              1,
              "#f0f921"
             ]
            ],
            "type": "heatmap"
           }
          ],
          "histogram": [
           {
            "marker": {
             "pattern": {
              "fillmode": "overlay",
              "size": 10,
              "solidity": 0.2
             }
            },
            "type": "histogram"
           }
          ],
          "histogram2d": [
           {
            "colorbar": {
             "outlinewidth": 0,
             "ticks": ""
            },
            "colorscale": [
             [
              0,
              "#0d0887"
             ],
             [
              0.1111111111111111,
              "#46039f"
             ],
             [
              0.2222222222222222,
              "#7201a8"
             ],
             [
              0.3333333333333333,
              "#9c179e"
             ],
             [
              0.4444444444444444,
              "#bd3786"
             ],
             [
              0.5555555555555556,
              "#d8576b"
             ],
             [
              0.6666666666666666,
              "#ed7953"
             ],
             [
              0.7777777777777778,
              "#fb9f3a"
             ],
             [
              0.8888888888888888,
              "#fdca26"
             ],
             [
              1,
              "#f0f921"
             ]
            ],
            "type": "histogram2d"
           }
          ],
          "histogram2dcontour": [
           {
            "colorbar": {
             "outlinewidth": 0,
             "ticks": ""
            },
            "colorscale": [
             [
              0,
              "#0d0887"
             ],
             [
              0.1111111111111111,
              "#46039f"
             ],
             [
              0.2222222222222222,
              "#7201a8"
             ],
             [
              0.3333333333333333,
              "#9c179e"
             ],
             [
              0.4444444444444444,
              "#bd3786"
             ],
             [
              0.5555555555555556,
              "#d8576b"
             ],
             [
              0.6666666666666666,
              "#ed7953"
             ],
             [
              0.7777777777777778,
              "#fb9f3a"
             ],
             [
              0.8888888888888888,
              "#fdca26"
             ],
             [
              1,
              "#f0f921"
             ]
            ],
            "type": "histogram2dcontour"
           }
          ],
          "mesh3d": [
           {
            "colorbar": {
             "outlinewidth": 0,
             "ticks": ""
            },
            "type": "mesh3d"
           }
          ],
          "parcoords": [
           {
            "line": {
             "colorbar": {
              "outlinewidth": 0,
              "ticks": ""
             }
            },
            "type": "parcoords"
           }
          ],
          "pie": [
           {
            "automargin": true,
            "type": "pie"
           }
          ],
          "scatter": [
           {
            "fillpattern": {
             "fillmode": "overlay",
             "size": 10,
             "solidity": 0.2
            },
            "type": "scatter"
           }
          ],
          "scatter3d": [
           {
            "line": {
             "colorbar": {
              "outlinewidth": 0,
              "ticks": ""
             }
            },
            "marker": {
             "colorbar": {
              "outlinewidth": 0,
              "ticks": ""
             }
            },
            "type": "scatter3d"
           }
          ],
          "scattercarpet": [
           {
            "marker": {
             "colorbar": {
              "outlinewidth": 0,
              "ticks": ""
             }
            },
            "type": "scattercarpet"
           }
          ],
          "scattergeo": [
           {
            "marker": {
             "colorbar": {
              "outlinewidth": 0,
              "ticks": ""
             }
            },
            "type": "scattergeo"
           }
          ],
          "scattergl": [
           {
            "marker": {
             "colorbar": {
              "outlinewidth": 0,
              "ticks": ""
             }
            },
            "type": "scattergl"
           }
          ],
          "scattermap": [
           {
            "marker": {
             "colorbar": {
              "outlinewidth": 0,
              "ticks": ""
             }
            },
            "type": "scattermap"
           }
          ],
          "scattermapbox": [
           {
            "marker": {
             "colorbar": {
              "outlinewidth": 0,
              "ticks": ""
             }
            },
            "type": "scattermapbox"
           }
          ],
          "scatterpolar": [
           {
            "marker": {
             "colorbar": {
              "outlinewidth": 0,
              "ticks": ""
             }
            },
            "type": "scatterpolar"
           }
          ],
          "scatterpolargl": [
           {
            "marker": {
             "colorbar": {
              "outlinewidth": 0,
              "ticks": ""
             }
            },
            "type": "scatterpolargl"
           }
          ],
          "scatterternary": [
           {
            "marker": {
             "colorbar": {
              "outlinewidth": 0,
              "ticks": ""
             }
            },
            "type": "scatterternary"
           }
          ],
          "surface": [
           {
            "colorbar": {
             "outlinewidth": 0,
             "ticks": ""
            },
            "colorscale": [
             [
              0,
              "#0d0887"
             ],
             [
              0.1111111111111111,
              "#46039f"
             ],
             [
              0.2222222222222222,
              "#7201a8"
             ],
             [
              0.3333333333333333,
              "#9c179e"
             ],
             [
              0.4444444444444444,
              "#bd3786"
             ],
             [
              0.5555555555555556,
              "#d8576b"
             ],
             [
              0.6666666666666666,
              "#ed7953"
             ],
             [
              0.7777777777777778,
              "#fb9f3a"
             ],
             [
              0.8888888888888888,
              "#fdca26"
             ],
             [
              1,
              "#f0f921"
             ]
            ],
            "type": "surface"
           }
          ],
          "table": [
           {
            "cells": {
             "fill": {
              "color": "#EBF0F8"
             },
             "line": {
              "color": "white"
             }
            },
            "header": {
             "fill": {
              "color": "#C8D4E3"
             },
             "line": {
              "color": "white"
             }
            },
            "type": "table"
           }
          ]
         },
         "layout": {
          "annotationdefaults": {
           "arrowcolor": "#2a3f5f",
           "arrowhead": 0,
           "arrowwidth": 1
          },
          "autotypenumbers": "strict",
          "coloraxis": {
           "colorbar": {
            "outlinewidth": 0,
            "ticks": ""
           }
          },
          "colorscale": {
           "diverging": [
            [
             0,
             "#8e0152"
            ],
            [
             0.1,
             "#c51b7d"
            ],
            [
             0.2,
             "#de77ae"
            ],
            [
             0.3,
             "#f1b6da"
            ],
            [
             0.4,
             "#fde0ef"
            ],
            [
             0.5,
             "#f7f7f7"
            ],
            [
             0.6,
             "#e6f5d0"
            ],
            [
             0.7,
             "#b8e186"
            ],
            [
             0.8,
             "#7fbc41"
            ],
            [
             0.9,
             "#4d9221"
            ],
            [
             1,
             "#276419"
            ]
           ],
           "sequential": [
            [
             0,
             "#0d0887"
            ],
            [
             0.1111111111111111,
             "#46039f"
            ],
            [
             0.2222222222222222,
             "#7201a8"
            ],
            [
             0.3333333333333333,
             "#9c179e"
            ],
            [
             0.4444444444444444,
             "#bd3786"
            ],
            [
             0.5555555555555556,
             "#d8576b"
            ],
            [
             0.6666666666666666,
             "#ed7953"
            ],
            [
             0.7777777777777778,
             "#fb9f3a"
            ],
            [
             0.8888888888888888,
             "#fdca26"
            ],
            [
             1,
             "#f0f921"
            ]
           ],
           "sequentialminus": [
            [
             0,
             "#0d0887"
            ],
            [
             0.1111111111111111,
             "#46039f"
            ],
            [
             0.2222222222222222,
             "#7201a8"
            ],
            [
             0.3333333333333333,
             "#9c179e"
            ],
            [
             0.4444444444444444,
             "#bd3786"
            ],
            [
             0.5555555555555556,
             "#d8576b"
            ],
            [
             0.6666666666666666,
             "#ed7953"
            ],
            [
             0.7777777777777778,
             "#fb9f3a"
            ],
            [
             0.8888888888888888,
             "#fdca26"
            ],
            [
             1,
             "#f0f921"
            ]
           ]
          },
          "colorway": [
           "#636efa",
           "#EF553B",
           "#00cc96",
           "#ab63fa",
           "#FFA15A",
           "#19d3f3",
           "#FF6692",
           "#B6E880",
           "#FF97FF",
           "#FECB52"
          ],
          "font": {
           "color": "#2a3f5f"
          },
          "geo": {
           "bgcolor": "white",
           "lakecolor": "white",
           "landcolor": "#E5ECF6",
           "showlakes": true,
           "showland": true,
           "subunitcolor": "white"
          },
          "hoverlabel": {
           "align": "left"
          },
          "hovermode": "closest",
          "mapbox": {
           "style": "light"
          },
          "paper_bgcolor": "white",
          "plot_bgcolor": "#E5ECF6",
          "polar": {
           "angularaxis": {
            "gridcolor": "white",
            "linecolor": "white",
            "ticks": ""
           },
           "bgcolor": "#E5ECF6",
           "radialaxis": {
            "gridcolor": "white",
            "linecolor": "white",
            "ticks": ""
           }
          },
          "scene": {
           "xaxis": {
            "backgroundcolor": "#E5ECF6",
            "gridcolor": "white",
            "gridwidth": 2,
            "linecolor": "white",
            "showbackground": true,
            "ticks": "",
            "zerolinecolor": "white"
           },
           "yaxis": {
            "backgroundcolor": "#E5ECF6",
            "gridcolor": "white",
            "gridwidth": 2,
            "linecolor": "white",
            "showbackground": true,
            "ticks": "",
            "zerolinecolor": "white"
           },
           "zaxis": {
            "backgroundcolor": "#E5ECF6",
            "gridcolor": "white",
            "gridwidth": 2,
            "linecolor": "white",
            "showbackground": true,
            "ticks": "",
            "zerolinecolor": "white"
           }
          },
          "shapedefaults": {
           "line": {
            "color": "#2a3f5f"
           }
          },
          "ternary": {
           "aaxis": {
            "gridcolor": "white",
            "linecolor": "white",
            "ticks": ""
           },
           "baxis": {
            "gridcolor": "white",
            "linecolor": "white",
            "ticks": ""
           },
           "bgcolor": "#E5ECF6",
           "caxis": {
            "gridcolor": "white",
            "linecolor": "white",
            "ticks": ""
           }
          },
          "title": {
           "x": 0.05
          },
          "xaxis": {
           "automargin": true,
           "gridcolor": "white",
           "linecolor": "white",
           "ticks": "",
           "title": {
            "standoff": 15
           },
           "zerolinecolor": "white",
           "zerolinewidth": 2
          },
          "yaxis": {
           "automargin": true,
           "gridcolor": "white",
           "linecolor": "white",
           "ticks": "",
           "title": {
            "standoff": 15
           },
           "zerolinecolor": "white",
           "zerolinewidth": 2
          }
         }
        },
        "title": {
         "text": "Correlation Matrix Heatmap"
        },
        "width": 1000,
        "xaxis": {
         "anchor": "y",
         "domain": [
          0,
          1
         ],
         "title": {
          "text": "Features"
         }
        },
        "yaxis": {
         "anchor": "x",
         "autorange": "reversed",
         "domain": [
          0,
          1
         ],
         "title": {
          "text": "Features"
         }
        }
       }
      }
     },
     "metadata": {},
     "output_type": "display_data"
    }
   ],
   "source": [
    "# Visualize the correlation matrix\n",
    "fig = px.imshow(\n",
    "    correlation_matrix,\n",
    "    text_auto=\".2f\",  # Format text with two decimal places\n",
    "    color_continuous_scale=\"RdBu_r\",  # Use a valid Plotly colorscale\n",
    "    title=\"Correlation Matrix Heatmap\",\n",
    "    aspect=\"auto\"  # Ensures the heatmap scales proportionally\n",
    ")\n",
    "\n",
    "# Adjust layout for better visualization\n",
    "fig.update_layout(\n",
    "    xaxis_title=\"Features\",\n",
    "    yaxis_title=\"Features\",\n",
    "    width=1000,  # Adjust width\n",
    "    height=1000,  # Adjust height\n",
    ")\n",
    "\n",
    "# Show the heatmap\n",
    "fig.show()\n"
   ]
  },
  {
   "cell_type": "code",
   "execution_count": 86,
   "metadata": {},
   "outputs": [],
   "source": [
    "strong_correlation_matrix = correlation_matrix.where(abs(correlation_matrix) > 0.5, np.nan)"
   ]
  },
  {
   "cell_type": "code",
   "execution_count": 90,
   "metadata": {},
   "outputs": [
    {
     "name": "stdout",
     "output_type": "stream",
     "text": [
      "                                  Units Sold  Manufacturing Price  Sale Price  \\\n",
      "Units Sold                               1.0                  NaN         NaN   \n",
      "Manufacturing Price                      NaN             1.000000         NaN   \n",
      "Sale Price                               NaN                  NaN    1.000000   \n",
      "Gross Sales                              NaN                  NaN    0.808701   \n",
      "Discounts                                NaN                  NaN    0.642016   \n",
      "Sales                                    NaN                  NaN    0.806346   \n",
      "COGS                                     NaN                  NaN    0.799965   \n",
      "Profit                                   NaN                  NaN    0.675231   \n",
      "Sales_Predicted                          NaN                  NaN    0.642016   \n",
      "Segment_Enterprise                       NaN                  NaN         NaN   \n",
      "Segment_Government                       NaN                  NaN         NaN   \n",
      "Segment_Midmarket                        NaN                  NaN         NaN   \n",
      "Segment_Small Business                   NaN                  NaN    0.542814   \n",
      "Country_France                           NaN                  NaN         NaN   \n",
      "Country_Germany                          NaN                  NaN         NaN   \n",
      "Country_Mexico                           NaN                  NaN         NaN   \n",
      "Country_United States of America         NaN                  NaN         NaN   \n",
      "Product_ Carretera                       NaN                  NaN         NaN   \n",
      "Product_ Montana                         NaN                  NaN         NaN   \n",
      "Product_ Paseo                           NaN            -0.506261         NaN   \n",
      "Product_ VTT                             NaN             0.608990         NaN   \n",
      "Product_ Velo                            NaN                  NaN         NaN   \n",
      "Discount Band_Low                        NaN                  NaN         NaN   \n",
      "Discount Band_Medium                     NaN                  NaN         NaN   \n",
      "\n",
      "                                  Gross Sales  Discounts     Sales      COGS  \\\n",
      "Units Sold                                NaN        NaN       NaN       NaN   \n",
      "Manufacturing Price                       NaN        NaN       NaN       NaN   \n",
      "Sale Price                           0.808701   0.642016  0.806346  0.799965   \n",
      "Gross Sales                          1.000000   0.782675  0.998175  0.994607   \n",
      "Discounts                            0.782675   1.000000  0.743658  0.783526   \n",
      "Sales                                0.998175   0.743658  1.000000  0.992299   \n",
      "COGS                                 0.994607   0.783526  0.992299  1.000000   \n",
      "Profit                               0.830513        NaN  0.849458  0.782114   \n",
      "Sales_Predicted                      0.782675   1.000000  0.743658  0.783526   \n",
      "Segment_Enterprise                        NaN        NaN       NaN       NaN   \n",
      "Segment_Government                        NaN        NaN       NaN       NaN   \n",
      "Segment_Midmarket                         NaN        NaN       NaN       NaN   \n",
      "Segment_Small Business                    NaN        NaN       NaN       NaN   \n",
      "Country_France                            NaN        NaN       NaN       NaN   \n",
      "Country_Germany                           NaN        NaN       NaN       NaN   \n",
      "Country_Mexico                            NaN        NaN       NaN       NaN   \n",
      "Country_United States of America          NaN        NaN       NaN       NaN   \n",
      "Product_ Carretera                        NaN        NaN       NaN       NaN   \n",
      "Product_ Montana                          NaN        NaN       NaN       NaN   \n",
      "Product_ Paseo                            NaN        NaN       NaN       NaN   \n",
      "Product_ VTT                              NaN        NaN       NaN       NaN   \n",
      "Product_ Velo                             NaN        NaN       NaN       NaN   \n",
      "Discount Band_Low                         NaN        NaN       NaN       NaN   \n",
      "Discount Band_Medium                      NaN        NaN       NaN       NaN   \n",
      "\n",
      "                                    Profit  Sales_Predicted  \\\n",
      "Units Sold                             NaN              NaN   \n",
      "Manufacturing Price                    NaN              NaN   \n",
      "Sale Price                        0.675231         0.642016   \n",
      "Gross Sales                       0.830513         0.782675   \n",
      "Discounts                              NaN         1.000000   \n",
      "Sales                             0.849458         0.743658   \n",
      "COGS                              0.782114         0.783526   \n",
      "Profit                            1.000000              NaN   \n",
      "Sales_Predicted                        NaN         1.000000   \n",
      "Segment_Enterprise                     NaN              NaN   \n",
      "Segment_Government                     NaN              NaN   \n",
      "Segment_Midmarket                      NaN              NaN   \n",
      "Segment_Small Business                 NaN              NaN   \n",
      "Country_France                         NaN              NaN   \n",
      "Country_Germany                        NaN              NaN   \n",
      "Country_Mexico                         NaN              NaN   \n",
      "Country_United States of America       NaN              NaN   \n",
      "Product_ Carretera                     NaN              NaN   \n",
      "Product_ Montana                       NaN              NaN   \n",
      "Product_ Paseo                         NaN              NaN   \n",
      "Product_ VTT                           NaN              NaN   \n",
      "Product_ Velo                          NaN              NaN   \n",
      "Discount Band_Low                      NaN              NaN   \n",
      "Discount Band_Medium                   NaN              NaN   \n",
      "\n",
      "                                  Segment_Enterprise  ...  Country_Germany  \\\n",
      "Units Sold                                       NaN  ...              NaN   \n",
      "Manufacturing Price                              NaN  ...              NaN   \n",
      "Sale Price                                       NaN  ...              NaN   \n",
      "Gross Sales                                      NaN  ...              NaN   \n",
      "Discounts                                        NaN  ...              NaN   \n",
      "Sales                                            NaN  ...              NaN   \n",
      "COGS                                             NaN  ...              NaN   \n",
      "Profit                                           NaN  ...              NaN   \n",
      "Sales_Predicted                                  NaN  ...              NaN   \n",
      "Segment_Enterprise                               1.0  ...              NaN   \n",
      "Segment_Government                               NaN  ...              NaN   \n",
      "Segment_Midmarket                                NaN  ...              NaN   \n",
      "Segment_Small Business                           NaN  ...              NaN   \n",
      "Country_France                                   NaN  ...              NaN   \n",
      "Country_Germany                                  NaN  ...              1.0   \n",
      "Country_Mexico                                   NaN  ...              NaN   \n",
      "Country_United States of America                 NaN  ...              NaN   \n",
      "Product_ Carretera                               NaN  ...              NaN   \n",
      "Product_ Montana                                 NaN  ...              NaN   \n",
      "Product_ Paseo                                   NaN  ...              NaN   \n",
      "Product_ VTT                                     NaN  ...              NaN   \n",
      "Product_ Velo                                    NaN  ...              NaN   \n",
      "Discount Band_Low                                NaN  ...              NaN   \n",
      "Discount Band_Medium                             NaN  ...              NaN   \n",
      "\n",
      "                                  Country_Mexico  \\\n",
      "Units Sold                                   NaN   \n",
      "Manufacturing Price                          NaN   \n",
      "Sale Price                                   NaN   \n",
      "Gross Sales                                  NaN   \n",
      "Discounts                                    NaN   \n",
      "Sales                                        NaN   \n",
      "COGS                                         NaN   \n",
      "Profit                                       NaN   \n",
      "Sales_Predicted                              NaN   \n",
      "Segment_Enterprise                           NaN   \n",
      "Segment_Government                           NaN   \n",
      "Segment_Midmarket                            NaN   \n",
      "Segment_Small Business                       NaN   \n",
      "Country_France                               NaN   \n",
      "Country_Germany                              NaN   \n",
      "Country_Mexico                               1.0   \n",
      "Country_United States of America             NaN   \n",
      "Product_ Carretera                           NaN   \n",
      "Product_ Montana                             NaN   \n",
      "Product_ Paseo                               NaN   \n",
      "Product_ VTT                                 NaN   \n",
      "Product_ Velo                                NaN   \n",
      "Discount Band_Low                            NaN   \n",
      "Discount Band_Medium                         NaN   \n",
      "\n",
      "                                  Country_United States of America  \\\n",
      "Units Sold                                                     NaN   \n",
      "Manufacturing Price                                            NaN   \n",
      "Sale Price                                                     NaN   \n",
      "Gross Sales                                                    NaN   \n",
      "Discounts                                                      NaN   \n",
      "Sales                                                          NaN   \n",
      "COGS                                                           NaN   \n",
      "Profit                                                         NaN   \n",
      "Sales_Predicted                                                NaN   \n",
      "Segment_Enterprise                                             NaN   \n",
      "Segment_Government                                             NaN   \n",
      "Segment_Midmarket                                              NaN   \n",
      "Segment_Small Business                                         NaN   \n",
      "Country_France                                                 NaN   \n",
      "Country_Germany                                                NaN   \n",
      "Country_Mexico                                                 NaN   \n",
      "Country_United States of America                               1.0   \n",
      "Product_ Carretera                                             NaN   \n",
      "Product_ Montana                                               NaN   \n",
      "Product_ Paseo                                                 NaN   \n",
      "Product_ VTT                                                   NaN   \n",
      "Product_ Velo                                                  NaN   \n",
      "Discount Band_Low                                              NaN   \n",
      "Discount Band_Medium                                           NaN   \n",
      "\n",
      "                                  Product_ Carretera   Product_ Montana   \\\n",
      "Units Sold                                        NaN                NaN   \n",
      "Manufacturing Price                               NaN                NaN   \n",
      "Sale Price                                        NaN                NaN   \n",
      "Gross Sales                                       NaN                NaN   \n",
      "Discounts                                         NaN                NaN   \n",
      "Sales                                             NaN                NaN   \n",
      "COGS                                              NaN                NaN   \n",
      "Profit                                            NaN                NaN   \n",
      "Sales_Predicted                                   NaN                NaN   \n",
      "Segment_Enterprise                                NaN                NaN   \n",
      "Segment_Government                                NaN                NaN   \n",
      "Segment_Midmarket                                 NaN                NaN   \n",
      "Segment_Small Business                            NaN                NaN   \n",
      "Country_France                                    NaN                NaN   \n",
      "Country_Germany                                   NaN                NaN   \n",
      "Country_Mexico                                    NaN                NaN   \n",
      "Country_United States of America                  NaN                NaN   \n",
      "Product_ Carretera                                1.0                NaN   \n",
      "Product_ Montana                                  NaN                1.0   \n",
      "Product_ Paseo                                    NaN                NaN   \n",
      "Product_ VTT                                      NaN                NaN   \n",
      "Product_ Velo                                     NaN                NaN   \n",
      "Discount Band_Low                                 NaN                NaN   \n",
      "Discount Band_Medium                              NaN                NaN   \n",
      "\n",
      "                                  Product_ Paseo   Product_ VTT   \\\n",
      "Units Sold                                    NaN            NaN   \n",
      "Manufacturing Price                     -0.506261        0.60899   \n",
      "Sale Price                                    NaN            NaN   \n",
      "Gross Sales                                   NaN            NaN   \n",
      "Discounts                                     NaN            NaN   \n",
      "Sales                                         NaN            NaN   \n",
      "COGS                                          NaN            NaN   \n",
      "Profit                                        NaN            NaN   \n",
      "Sales_Predicted                               NaN            NaN   \n",
      "Segment_Enterprise                            NaN            NaN   \n",
      "Segment_Government                            NaN            NaN   \n",
      "Segment_Midmarket                             NaN            NaN   \n",
      "Segment_Small Business                        NaN            NaN   \n",
      "Country_France                                NaN            NaN   \n",
      "Country_Germany                               NaN            NaN   \n",
      "Country_Mexico                                NaN            NaN   \n",
      "Country_United States of America              NaN            NaN   \n",
      "Product_ Carretera                            NaN            NaN   \n",
      "Product_ Montana                              NaN            NaN   \n",
      "Product_ Paseo                           1.000000            NaN   \n",
      "Product_ VTT                                  NaN        1.00000   \n",
      "Product_ Velo                                 NaN            NaN   \n",
      "Discount Band_Low                             NaN            NaN   \n",
      "Discount Band_Medium                          NaN            NaN   \n",
      "\n",
      "                                  Product_ Velo   Discount Band_Low  \\\n",
      "Units Sold                                   NaN                NaN   \n",
      "Manufacturing Price                          NaN                NaN   \n",
      "Sale Price                                   NaN                NaN   \n",
      "Gross Sales                                  NaN                NaN   \n",
      "Discounts                                    NaN                NaN   \n",
      "Sales                                        NaN                NaN   \n",
      "COGS                                         NaN                NaN   \n",
      "Profit                                       NaN                NaN   \n",
      "Sales_Predicted                              NaN                NaN   \n",
      "Segment_Enterprise                           NaN                NaN   \n",
      "Segment_Government                           NaN                NaN   \n",
      "Segment_Midmarket                            NaN                NaN   \n",
      "Segment_Small Business                       NaN                NaN   \n",
      "Country_France                               NaN                NaN   \n",
      "Country_Germany                              NaN                NaN   \n",
      "Country_Mexico                               NaN                NaN   \n",
      "Country_United States of America             NaN                NaN   \n",
      "Product_ Carretera                           NaN                NaN   \n",
      "Product_ Montana                             NaN                NaN   \n",
      "Product_ Paseo                               NaN                NaN   \n",
      "Product_ VTT                                 NaN                NaN   \n",
      "Product_ Velo                                1.0                NaN   \n",
      "Discount Band_Low                            NaN                1.0   \n",
      "Discount Band_Medium                         NaN                NaN   \n",
      "\n",
      "                                  Discount Band_Medium  \n",
      "Units Sold                                         NaN  \n",
      "Manufacturing Price                                NaN  \n",
      "Sale Price                                         NaN  \n",
      "Gross Sales                                        NaN  \n",
      "Discounts                                          NaN  \n",
      "Sales                                              NaN  \n",
      "COGS                                               NaN  \n",
      "Profit                                             NaN  \n",
      "Sales_Predicted                                    NaN  \n",
      "Segment_Enterprise                                 NaN  \n",
      "Segment_Government                                 NaN  \n",
      "Segment_Midmarket                                  NaN  \n",
      "Segment_Small Business                             NaN  \n",
      "Country_France                                     NaN  \n",
      "Country_Germany                                    NaN  \n",
      "Country_Mexico                                     NaN  \n",
      "Country_United States of America                   NaN  \n",
      "Product_ Carretera                                 NaN  \n",
      "Product_ Montana                                   NaN  \n",
      "Product_ Paseo                                     NaN  \n",
      "Product_ VTT                                       NaN  \n",
      "Product_ Velo                                      NaN  \n",
      "Discount Band_Low                                  NaN  \n",
      "Discount Band_Medium                               1.0  \n",
      "\n",
      "[24 rows x 24 columns]\n"
     ]
    }
   ],
   "source": [
    "print(strong_correlation_matrix)"
   ]
  },
  {
   "cell_type": "code",
   "execution_count": 88,
   "metadata": {},
   "outputs": [
    {
     "data": {
      "application/vnd.plotly.v1+json": {
       "config": {
        "plotlyServerURL": "https://plot.ly"
       },
       "data": [
        {
         "coloraxis": "coloraxis",
         "hovertemplate": "x: %{x}<br>y: %{y}<br>color: %{z}<extra></extra>",
         "name": "0",
         "texttemplate": "%{z:.2f}",
         "type": "heatmap",
         "x": [
          "Units Sold",
          "Manufacturing Price",
          "Sale Price",
          "Gross Sales",
          "Discounts",
          "Sales",
          "COGS",
          "Profit",
          "Sales_Predicted",
          "Segment_Enterprise",
          "Segment_Government",
          "Segment_Midmarket",
          "Segment_Small Business",
          "Country_France",
          "Country_Germany",
          "Country_Mexico",
          "Country_United States of America",
          "Product_ Carretera ",
          "Product_ Montana ",
          "Product_ Paseo ",
          "Product_ VTT ",
          "Product_ Velo ",
          "Discount Band_Low",
          "Discount Band_Medium"
         ],
         "xaxis": "x",
         "y": [
          "Units Sold",
          "Manufacturing Price",
          "Sale Price",
          "Gross Sales",
          "Discounts",
          "Sales",
          "COGS",
          "Profit",
          "Sales_Predicted",
          "Segment_Enterprise",
          "Segment_Government",
          "Segment_Midmarket",
          "Segment_Small Business",
          "Country_France",
          "Country_Germany",
          "Country_Mexico",
          "Country_United States of America",
          "Product_ Carretera ",
          "Product_ Montana ",
          "Product_ Paseo ",
          "Product_ VTT ",
          "Product_ Velo ",
          "Discount Band_Low",
          "Discount Band_Medium"
         ],
         "yaxis": "y",
         "z": {
          "bdata": "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",
          "dtype": "f8",
          "shape": "24, 24"
         }
        }
       ],
       "layout": {
        "coloraxis": {
         "colorscale": [
          [
           0,
           "rgb(5,48,97)"
          ],
          [
           0.1,
           "rgb(33,102,172)"
          ],
          [
           0.2,
           "rgb(67,147,195)"
          ],
          [
           0.3,
           "rgb(146,197,222)"
          ],
          [
           0.4,
           "rgb(209,229,240)"
          ],
          [
           0.5,
           "rgb(247,247,247)"
          ],
          [
           0.6,
           "rgb(253,219,199)"
          ],
          [
           0.7,
           "rgb(244,165,130)"
          ],
          [
           0.8,
           "rgb(214,96,77)"
          ],
          [
           0.9,
           "rgb(178,24,43)"
          ],
          [
           1,
           "rgb(103,0,31)"
          ]
         ]
        },
        "height": 1000,
        "template": {
         "data": {
          "bar": [
           {
            "error_x": {
             "color": "#2a3f5f"
            },
            "error_y": {
             "color": "#2a3f5f"
            },
            "marker": {
             "line": {
              "color": "#E5ECF6",
              "width": 0.5
             },
             "pattern": {
              "fillmode": "overlay",
              "size": 10,
              "solidity": 0.2
             }
            },
            "type": "bar"
           }
          ],
          "barpolar": [
           {
            "marker": {
             "line": {
              "color": "#E5ECF6",
              "width": 0.5
             },
             "pattern": {
              "fillmode": "overlay",
              "size": 10,
              "solidity": 0.2
             }
            },
            "type": "barpolar"
           }
          ],
          "carpet": [
           {
            "aaxis": {
             "endlinecolor": "#2a3f5f",
             "gridcolor": "white",
             "linecolor": "white",
             "minorgridcolor": "white",
             "startlinecolor": "#2a3f5f"
            },
            "baxis": {
             "endlinecolor": "#2a3f5f",
             "gridcolor": "white",
             "linecolor": "white",
             "minorgridcolor": "white",
             "startlinecolor": "#2a3f5f"
            },
            "type": "carpet"
           }
          ],
          "choropleth": [
           {
            "colorbar": {
             "outlinewidth": 0,
             "ticks": ""
            },
            "type": "choropleth"
           }
          ],
          "contour": [
           {
            "colorbar": {
             "outlinewidth": 0,
             "ticks": ""
            },
            "colorscale": [
             [
              0,
              "#0d0887"
             ],
             [
              0.1111111111111111,
              "#46039f"
             ],
             [
              0.2222222222222222,
              "#7201a8"
             ],
             [
              0.3333333333333333,
              "#9c179e"
             ],
             [
              0.4444444444444444,
              "#bd3786"
             ],
             [
              0.5555555555555556,
              "#d8576b"
             ],
             [
              0.6666666666666666,
              "#ed7953"
             ],
             [
              0.7777777777777778,
              "#fb9f3a"
             ],
             [
              0.8888888888888888,
              "#fdca26"
             ],
             [
              1,
              "#f0f921"
             ]
            ],
            "type": "contour"
           }
          ],
          "contourcarpet": [
           {
            "colorbar": {
             "outlinewidth": 0,
             "ticks": ""
            },
            "type": "contourcarpet"
           }
          ],
          "heatmap": [
           {
            "colorbar": {
             "outlinewidth": 0,
             "ticks": ""
            },
            "colorscale": [
             [
              0,
              "#0d0887"
             ],
             [
              0.1111111111111111,
              "#46039f"
             ],
             [
              0.2222222222222222,
              "#7201a8"
             ],
             [
              0.3333333333333333,
              "#9c179e"
             ],
             [
              0.4444444444444444,
              "#bd3786"
             ],
             [
              0.5555555555555556,
              "#d8576b"
             ],
             [
              0.6666666666666666,
              "#ed7953"
             ],
             [
              0.7777777777777778,
              "#fb9f3a"
             ],
             [
              0.8888888888888888,
              "#fdca26"
             ],
             [
              1,
              "#f0f921"
             ]
            ],
            "type": "heatmap"
           }
          ],
          "histogram": [
           {
            "marker": {
             "pattern": {
              "fillmode": "overlay",
              "size": 10,
              "solidity": 0.2
             }
            },
            "type": "histogram"
           }
          ],
          "histogram2d": [
           {
            "colorbar": {
             "outlinewidth": 0,
             "ticks": ""
            },
            "colorscale": [
             [
              0,
              "#0d0887"
             ],
             [
              0.1111111111111111,
              "#46039f"
             ],
             [
              0.2222222222222222,
              "#7201a8"
             ],
             [
              0.3333333333333333,
              "#9c179e"
             ],
             [
              0.4444444444444444,
              "#bd3786"
             ],
             [
              0.5555555555555556,
              "#d8576b"
             ],
             [
              0.6666666666666666,
              "#ed7953"
             ],
             [
              0.7777777777777778,
              "#fb9f3a"
             ],
             [
              0.8888888888888888,
              "#fdca26"
             ],
             [
              1,
              "#f0f921"
             ]
            ],
            "type": "histogram2d"
           }
          ],
          "histogram2dcontour": [
           {
            "colorbar": {
             "outlinewidth": 0,
             "ticks": ""
            },
            "colorscale": [
             [
              0,
              "#0d0887"
             ],
             [
              0.1111111111111111,
              "#46039f"
             ],
             [
              0.2222222222222222,
              "#7201a8"
             ],
             [
              0.3333333333333333,
              "#9c179e"
             ],
             [
              0.4444444444444444,
              "#bd3786"
             ],
             [
              0.5555555555555556,
              "#d8576b"
             ],
             [
              0.6666666666666666,
              "#ed7953"
             ],
             [
              0.7777777777777778,
              "#fb9f3a"
             ],
             [
              0.8888888888888888,
              "#fdca26"
             ],
             [
              1,
              "#f0f921"
             ]
            ],
            "type": "histogram2dcontour"
           }
          ],
          "mesh3d": [
           {
            "colorbar": {
             "outlinewidth": 0,
             "ticks": ""
            },
            "type": "mesh3d"
           }
          ],
          "parcoords": [
           {
            "line": {
             "colorbar": {
              "outlinewidth": 0,
              "ticks": ""
             }
            },
            "type": "parcoords"
           }
          ],
          "pie": [
           {
            "automargin": true,
            "type": "pie"
           }
          ],
          "scatter": [
           {
            "fillpattern": {
             "fillmode": "overlay",
             "size": 10,
             "solidity": 0.2
            },
            "type": "scatter"
           }
          ],
          "scatter3d": [
           {
            "line": {
             "colorbar": {
              "outlinewidth": 0,
              "ticks": ""
             }
            },
            "marker": {
             "colorbar": {
              "outlinewidth": 0,
              "ticks": ""
             }
            },
            "type": "scatter3d"
           }
          ],
          "scattercarpet": [
           {
            "marker": {
             "colorbar": {
              "outlinewidth": 0,
              "ticks": ""
             }
            },
            "type": "scattercarpet"
           }
          ],
          "scattergeo": [
           {
            "marker": {
             "colorbar": {
              "outlinewidth": 0,
              "ticks": ""
             }
            },
            "type": "scattergeo"
           }
          ],
          "scattergl": [
           {
            "marker": {
             "colorbar": {
              "outlinewidth": 0,
              "ticks": ""
             }
            },
            "type": "scattergl"
           }
          ],
          "scattermap": [
           {
            "marker": {
             "colorbar": {
              "outlinewidth": 0,
              "ticks": ""
             }
            },
            "type": "scattermap"
           }
          ],
          "scattermapbox": [
           {
            "marker": {
             "colorbar": {
              "outlinewidth": 0,
              "ticks": ""
             }
            },
            "type": "scattermapbox"
           }
          ],
          "scatterpolar": [
           {
            "marker": {
             "colorbar": {
              "outlinewidth": 0,
              "ticks": ""
             }
            },
            "type": "scatterpolar"
           }
          ],
          "scatterpolargl": [
           {
            "marker": {
             "colorbar": {
              "outlinewidth": 0,
              "ticks": ""
             }
            },
            "type": "scatterpolargl"
           }
          ],
          "scatterternary": [
           {
            "marker": {
             "colorbar": {
              "outlinewidth": 0,
              "ticks": ""
             }
            },
            "type": "scatterternary"
           }
          ],
          "surface": [
           {
            "colorbar": {
             "outlinewidth": 0,
             "ticks": ""
            },
            "colorscale": [
             [
              0,
              "#0d0887"
             ],
             [
              0.1111111111111111,
              "#46039f"
             ],
             [
              0.2222222222222222,
              "#7201a8"
             ],
             [
              0.3333333333333333,
              "#9c179e"
             ],
             [
              0.4444444444444444,
              "#bd3786"
             ],
             [
              0.5555555555555556,
              "#d8576b"
             ],
             [
              0.6666666666666666,
              "#ed7953"
             ],
             [
              0.7777777777777778,
              "#fb9f3a"
             ],
             [
              0.8888888888888888,
              "#fdca26"
             ],
             [
              1,
              "#f0f921"
             ]
            ],
            "type": "surface"
           }
          ],
          "table": [
           {
            "cells": {
             "fill": {
              "color": "#EBF0F8"
             },
             "line": {
              "color": "white"
             }
            },
            "header": {
             "fill": {
              "color": "#C8D4E3"
             },
             "line": {
              "color": "white"
             }
            },
            "type": "table"
           }
          ]
         },
         "layout": {
          "annotationdefaults": {
           "arrowcolor": "#2a3f5f",
           "arrowhead": 0,
           "arrowwidth": 1
          },
          "autotypenumbers": "strict",
          "coloraxis": {
           "colorbar": {
            "outlinewidth": 0,
            "ticks": ""
           }
          },
          "colorscale": {
           "diverging": [
            [
             0,
             "#8e0152"
            ],
            [
             0.1,
             "#c51b7d"
            ],
            [
             0.2,
             "#de77ae"
            ],
            [
             0.3,
             "#f1b6da"
            ],
            [
             0.4,
             "#fde0ef"
            ],
            [
             0.5,
             "#f7f7f7"
            ],
            [
             0.6,
             "#e6f5d0"
            ],
            [
             0.7,
             "#b8e186"
            ],
            [
             0.8,
             "#7fbc41"
            ],
            [
             0.9,
             "#4d9221"
            ],
            [
             1,
             "#276419"
            ]
           ],
           "sequential": [
            [
             0,
             "#0d0887"
            ],
            [
             0.1111111111111111,
             "#46039f"
            ],
            [
             0.2222222222222222,
             "#7201a8"
            ],
            [
             0.3333333333333333,
             "#9c179e"
            ],
            [
             0.4444444444444444,
             "#bd3786"
            ],
            [
             0.5555555555555556,
             "#d8576b"
            ],
            [
             0.6666666666666666,
             "#ed7953"
            ],
            [
             0.7777777777777778,
             "#fb9f3a"
            ],
            [
             0.8888888888888888,
             "#fdca26"
            ],
            [
             1,
             "#f0f921"
            ]
           ],
           "sequentialminus": [
            [
             0,
             "#0d0887"
            ],
            [
             0.1111111111111111,
             "#46039f"
            ],
            [
             0.2222222222222222,
             "#7201a8"
            ],
            [
             0.3333333333333333,
             "#9c179e"
            ],
            [
             0.4444444444444444,
             "#bd3786"
            ],
            [
             0.5555555555555556,
             "#d8576b"
            ],
            [
             0.6666666666666666,
             "#ed7953"
            ],
            [
             0.7777777777777778,
             "#fb9f3a"
            ],
            [
             0.8888888888888888,
             "#fdca26"
            ],
            [
             1,
             "#f0f921"
            ]
           ]
          },
          "colorway": [
           "#636efa",
           "#EF553B",
           "#00cc96",
           "#ab63fa",
           "#FFA15A",
           "#19d3f3",
           "#FF6692",
           "#B6E880",
           "#FF97FF",
           "#FECB52"
          ],
          "font": {
           "color": "#2a3f5f"
          },
          "geo": {
           "bgcolor": "white",
           "lakecolor": "white",
           "landcolor": "#E5ECF6",
           "showlakes": true,
           "showland": true,
           "subunitcolor": "white"
          },
          "hoverlabel": {
           "align": "left"
          },
          "hovermode": "closest",
          "mapbox": {
           "style": "light"
          },
          "paper_bgcolor": "white",
          "plot_bgcolor": "#E5ECF6",
          "polar": {
           "angularaxis": {
            "gridcolor": "white",
            "linecolor": "white",
            "ticks": ""
           },
           "bgcolor": "#E5ECF6",
           "radialaxis": {
            "gridcolor": "white",
            "linecolor": "white",
            "ticks": ""
           }
          },
          "scene": {
           "xaxis": {
            "backgroundcolor": "#E5ECF6",
            "gridcolor": "white",
            "gridwidth": 2,
            "linecolor": "white",
            "showbackground": true,
            "ticks": "",
            "zerolinecolor": "white"
           },
           "yaxis": {
            "backgroundcolor": "#E5ECF6",
            "gridcolor": "white",
            "gridwidth": 2,
            "linecolor": "white",
            "showbackground": true,
            "ticks": "",
            "zerolinecolor": "white"
           },
           "zaxis": {
            "backgroundcolor": "#E5ECF6",
            "gridcolor": "white",
            "gridwidth": 2,
            "linecolor": "white",
            "showbackground": true,
            "ticks": "",
            "zerolinecolor": "white"
           }
          },
          "shapedefaults": {
           "line": {
            "color": "#2a3f5f"
           }
          },
          "ternary": {
           "aaxis": {
            "gridcolor": "white",
            "linecolor": "white",
            "ticks": ""
           },
           "baxis": {
            "gridcolor": "white",
            "linecolor": "white",
            "ticks": ""
           },
           "bgcolor": "#E5ECF6",
           "caxis": {
            "gridcolor": "white",
            "linecolor": "white",
            "ticks": ""
           }
          },
          "title": {
           "x": 0.05
          },
          "xaxis": {
           "automargin": true,
           "gridcolor": "white",
           "linecolor": "white",
           "ticks": "",
           "title": {
            "standoff": 15
           },
           "zerolinecolor": "white",
           "zerolinewidth": 2
          },
          "yaxis": {
           "automargin": true,
           "gridcolor": "white",
           "linecolor": "white",
           "ticks": "",
           "title": {
            "standoff": 15
           },
           "zerolinecolor": "white",
           "zerolinewidth": 2
          }
         }
        },
        "title": {
         "text": "Strong Correlations (>|0.5|)"
        },
        "width": 1000,
        "xaxis": {
         "anchor": "y",
         "domain": [
          0,
          1
         ],
         "title": {
          "text": "Features"
         }
        },
        "yaxis": {
         "anchor": "x",
         "autorange": "reversed",
         "domain": [
          0,
          1
         ],
         "title": {
          "text": "Features"
         }
        }
       }
      }
     },
     "metadata": {},
     "output_type": "display_data"
    }
   ],
   "source": [
    "# Visualize the filtered correlation matrix\n",
    "fig = px.imshow(\n",
    "    strong_correlation_matrix,\n",
    "    text_auto=\".2f\",  # Display values with 2 decimal places\n",
    "    color_continuous_scale=\"RdBu_r\",  # Diverging color scale\n",
    "    title=\"Strong Correlations (>|0.5|)\",\n",
    "    aspect=\"auto\"  # Scale to fit matrix\n",
    ")\n",
    "\n",
    "# Adjust layout for better visualization\n",
    "fig.update_layout(\n",
    "    xaxis_title=\"Features\",\n",
    "    yaxis_title=\"Features\",\n",
    "    width=1000,\n",
    "    height=1000,\n",
    ")\n",
    "\n",
    "# Show the heatmap\n",
    "fig.show()"
   ]
  },
  {
   "cell_type": "markdown",
   "metadata": {},
   "source": [
    "# 6. Conclusion"
   ]
  }
 ],
 "metadata": {
  "kernelspec": {
   "display_name": "venv",
   "language": "python",
   "name": "python3"
  },
  "language_info": {
   "codemirror_mode": {
    "name": "ipython",
    "version": 3
   },
   "file_extension": ".py",
   "mimetype": "text/x-python",
   "name": "python",
   "nbconvert_exporter": "python",
   "pygments_lexer": "ipython3",
   "version": "3.12.5"
  }
 },
 "nbformat": 4,
 "nbformat_minor": 2
}
