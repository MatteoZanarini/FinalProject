{
 "cells": [
  {
   "cell_type": "markdown",
   "metadata": {},
   "source": [
    "# BUSINESS ANALYTICS OF A BIBYCLES COMPANY"
   ]
  },
  {
   "cell_type": "markdown",
   "metadata": {},
   "source": [
    "# 1. Introduction\n",
    "\n",
    "## Report goal\n",
    "There is fictional cycling company that sells bicycles in different countries around the world. They would like to increase their revenue and improve their business. To do this, they provided a dataset with all their transactions in the years 2013-2014. This dataset includes product-level information about sales, profits, market segments, and geographic distribution.\n",
    "\n",
    "The main idea is to use these details to gain new insights to create or improve the marketing and sales strategy.\n",
    "\n",
    "Specifically, it will be analyze:\n",
    "- the sales trends over time using a line chart to highlight seasonality or trends;\n",
    "- the sales difference across regions using a heat map or bar chart;\n",
    "- the top-selling products using visualization charts (pie chart or bar chart);\n",
    "- the relationship between discounts and sales or profits using a scatter plot or by creating a linear model regression.\n",
    "\n",
    "## Database description\n",
    "The database is composed by 700 rows and 16 columns, each row is a sale made:\n",
    "| Name                | Type       | Description                                        |  Non-Null Count | \n",
    "|---------------------|------------|----------------------------------------------------|-----------------|\n",
    "| Segment             | object     | Market segment to which the sale belongs           | 700 non-null    |\n",
    "| Country             | object     | Country where the sale was made                    | 700 non-null    | \n",
    "| Product             | object     | Type of product sold in the sale                   | 700 non-null    | \n",
    "| Discount band       | object     | Discount band size applied in the sale             | 700 non-null    |\n",
    "| Unit sold           | int64      | Quantity of unit sold in the sale                  | 700 non-null    |\n",
    "| Manufactoring price | int64      | The production price per unit for the product sold | 700 non-null    |\n",
    "| Sale price          | int64      | The sale price per unit for the product sold       | 700 non-null    |\n",
    "| Gross sales         | int64      | Total amount of sales before any discounts         | 700 non-null    |\n",
    "| Discounts           | int64      | Amount of discount applied                         | 700 non-null    |\n",
    "| Sales               | int64      | The sale after the discount                        | 700 non-null    |\n",
    "| COGS                | object     | Cost of Goods Sold                                 | 700 non-null    |\n",
    "| Profit              | int64      | Profit made, the difference between sales and COGS | 700 non-null    |\n",
    "| Date                | datetime64 | The date the sale was made                         | 700 non-null    |\n",
    "| Month number        | int64      | The month name of the sale                         | 700 non-null    |\n",
    "| Month name          | object     | The month number of the sale                       | 700 non-null    |\n",
    "| Year                | int64      | The year of the sale                               | 700 non-null    |\n",
    "\n"
   ]
  },
  {
   "cell_type": "markdown",
   "metadata": {},
   "source": [
    "#### Packages"
   ]
  },
  {
   "cell_type": "code",
   "execution_count": 1,
   "metadata": {},
   "outputs": [
    {
     "name": "stderr",
     "output_type": "stream",
     "text": [
      "c:\\Users\\matza\\FinalProject\\venv\\Lib\\site-packages\\tqdm\\auto.py:21: TqdmWarning: IProgress not found. Please update jupyter and ipywidgets. See https://ipywidgets.readthedocs.io/en/stable/user_install.html\n",
      "  from .autonotebook import tqdm as notebook_tqdm\n"
     ]
    }
   ],
   "source": [
    "import plotly.express as px\n",
    "import plotly.graph_objects as go\n",
    "import plotly.figure_factory as ff\n",
    "import numpy as np\n",
    "from sklearn.ensemble import RandomForestRegressor\n",
    "from sklearn.metrics import mean_absolute_error, r2_score\n",
    "import statsmodels.api as sm\n",
    "from xgboost import XGBRegressor\n",
    "import os\n",
    "import kagglehub\n",
    "import pandas as pd\n",
    "import seaborn as sns\n",
    "from sklearn.linear_model import LinearRegression\n",
    "import geopandas as gpd\n",
    "import requests\n",
    "from io import BytesIO\n",
    "import matplotlib.pyplot as plt\n",
    "import certifi\n",
    "import matplotlib.colors as mcolors"
   ]
  },
  {
   "cell_type": "markdown",
   "metadata": {},
   "source": [
    "# 2. Loading of the dataset already cleaned"
   ]
  },
  {
   "cell_type": "code",
   "execution_count": 2,
   "metadata": {},
   "outputs": [],
   "source": [
    "df = pd.read_csv('datasetCleaned.csv')"
   ]
  },
  {
   "cell_type": "code",
   "execution_count": 3,
   "metadata": {},
   "outputs": [],
   "source": [
    "# copy of the dataset\n",
    "df_copy = df.copy(deep=True)"
   ]
  },
  {
   "cell_type": "code",
   "execution_count": 4,
   "metadata": {},
   "outputs": [
    {
     "data": {
      "text/plain": [
       "(700, 16)"
      ]
     },
     "execution_count": 4,
     "metadata": {},
     "output_type": "execute_result"
    }
   ],
   "source": [
    "# number or rows and columns\n",
    "df.shape"
   ]
  },
  {
   "cell_type": "code",
   "execution_count": 5,
   "metadata": {},
   "outputs": [
    {
     "name": "stdout",
     "output_type": "stream",
     "text": [
      "<class 'pandas.core.frame.DataFrame'>\n",
      "RangeIndex: 700 entries, 0 to 699\n",
      "Data columns (total 16 columns):\n",
      " #   Column               Non-Null Count  Dtype \n",
      "---  ------               --------------  ----- \n",
      " 0   Segment              700 non-null    object\n",
      " 1   Country              700 non-null    object\n",
      " 2   Product              700 non-null    object\n",
      " 3   Discount Band        700 non-null    object\n",
      " 4   Units Sold           700 non-null    int64 \n",
      " 5   Manufacturing Price  700 non-null    int64 \n",
      " 6   Sale Price           700 non-null    int64 \n",
      " 7   Gross Sales          700 non-null    int64 \n",
      " 8   Discounts            700 non-null    int64 \n",
      " 9   Sales                700 non-null    int64 \n",
      " 10  COGS                 700 non-null    int64 \n",
      " 11  Profit               700 non-null    int64 \n",
      " 12  Date                 700 non-null    object\n",
      " 13  Month Number         700 non-null    int64 \n",
      " 14  Month Name           700 non-null    object\n",
      " 15  Year                 700 non-null    int64 \n",
      "dtypes: int64(10), object(6)\n",
      "memory usage: 87.6+ KB\n"
     ]
    }
   ],
   "source": [
    "df.info()"
   ]
  },
  {
   "cell_type": "code",
   "execution_count": 6,
   "metadata": {},
   "outputs": [
    {
     "data": {
      "text/html": [
       "<div>\n",
       "<style scoped>\n",
       "    .dataframe tbody tr th:only-of-type {\n",
       "        vertical-align: middle;\n",
       "    }\n",
       "\n",
       "    .dataframe tbody tr th {\n",
       "        vertical-align: top;\n",
       "    }\n",
       "\n",
       "    .dataframe thead th {\n",
       "        text-align: right;\n",
       "    }\n",
       "</style>\n",
       "<table border=\"1\" class=\"dataframe\">\n",
       "  <thead>\n",
       "    <tr style=\"text-align: right;\">\n",
       "      <th></th>\n",
       "      <th>Segment</th>\n",
       "      <th>Country</th>\n",
       "      <th>Product</th>\n",
       "      <th>Discount Band</th>\n",
       "      <th>Units Sold</th>\n",
       "      <th>Manufacturing Price</th>\n",
       "      <th>Sale Price</th>\n",
       "      <th>Gross Sales</th>\n",
       "      <th>Discounts</th>\n",
       "      <th>Sales</th>\n",
       "      <th>COGS</th>\n",
       "      <th>Profit</th>\n",
       "      <th>Date</th>\n",
       "      <th>Month Number</th>\n",
       "      <th>Month Name</th>\n",
       "      <th>Year</th>\n",
       "    </tr>\n",
       "  </thead>\n",
       "  <tbody>\n",
       "    <tr>\n",
       "      <th>0</th>\n",
       "      <td>Government</td>\n",
       "      <td>Canada</td>\n",
       "      <td>Carretera</td>\n",
       "      <td>None</td>\n",
       "      <td>1618</td>\n",
       "      <td>3</td>\n",
       "      <td>20</td>\n",
       "      <td>32370</td>\n",
       "      <td>0</td>\n",
       "      <td>32370</td>\n",
       "      <td>16185</td>\n",
       "      <td>16185</td>\n",
       "      <td>2014-01-01</td>\n",
       "      <td>1</td>\n",
       "      <td>January</td>\n",
       "      <td>2014</td>\n",
       "    </tr>\n",
       "    <tr>\n",
       "      <th>1</th>\n",
       "      <td>Government</td>\n",
       "      <td>Germany</td>\n",
       "      <td>Carretera</td>\n",
       "      <td>None</td>\n",
       "      <td>1321</td>\n",
       "      <td>3</td>\n",
       "      <td>20</td>\n",
       "      <td>26420</td>\n",
       "      <td>0</td>\n",
       "      <td>26420</td>\n",
       "      <td>13210</td>\n",
       "      <td>13210</td>\n",
       "      <td>2014-01-01</td>\n",
       "      <td>1</td>\n",
       "      <td>January</td>\n",
       "      <td>2014</td>\n",
       "    </tr>\n",
       "    <tr>\n",
       "      <th>2</th>\n",
       "      <td>Midmarket</td>\n",
       "      <td>France</td>\n",
       "      <td>Carretera</td>\n",
       "      <td>None</td>\n",
       "      <td>2178</td>\n",
       "      <td>3</td>\n",
       "      <td>15</td>\n",
       "      <td>32670</td>\n",
       "      <td>0</td>\n",
       "      <td>32670</td>\n",
       "      <td>21780</td>\n",
       "      <td>10890</td>\n",
       "      <td>2014-06-01</td>\n",
       "      <td>6</td>\n",
       "      <td>June</td>\n",
       "      <td>2014</td>\n",
       "    </tr>\n",
       "  </tbody>\n",
       "</table>\n",
       "</div>"
      ],
      "text/plain": [
       "      Segment  Country      Product Discount Band  Units Sold  \\\n",
       "0  Government   Canada   Carretera          None         1618   \n",
       "1  Government  Germany   Carretera          None         1321   \n",
       "2   Midmarket   France   Carretera          None         2178   \n",
       "\n",
       "   Manufacturing Price  Sale Price  Gross Sales  Discounts  Sales   COGS  \\\n",
       "0                    3          20        32370          0  32370  16185   \n",
       "1                    3          20        26420          0  26420  13210   \n",
       "2                    3          15        32670          0  32670  21780   \n",
       "\n",
       "   Profit        Date  Month Number Month Name  Year  \n",
       "0   16185  2014-01-01             1   January   2014  \n",
       "1   13210  2014-01-01             1   January   2014  \n",
       "2   10890  2014-06-01             6      June   2014  "
      ]
     },
     "execution_count": 6,
     "metadata": {},
     "output_type": "execute_result"
    }
   ],
   "source": [
    "df.head(3)"
   ]
  },
  {
   "cell_type": "markdown",
   "metadata": {},
   "source": [
    "# 3. Exploratory Data Analysis"
   ]
  },
  {
   "cell_type": "code",
   "execution_count": 7,
   "metadata": {},
   "outputs": [],
   "source": [
    "# set Date column as index\n",
    "df = df.set_index(\"Date\")"
   ]
  },
  {
   "cell_type": "code",
   "execution_count": 8,
   "metadata": {},
   "outputs": [],
   "source": [
    "df = df.drop([\"Month Number\", \"Month Name\", \"Year\"], axis=1)"
   ]
  },
  {
   "cell_type": "markdown",
   "metadata": {},
   "source": [
    "Descriptive statistics"
   ]
  },
  {
   "cell_type": "markdown",
   "metadata": {},
   "source": [
    "- categorical variables"
   ]
  },
  {
   "cell_type": "code",
   "execution_count": 9,
   "metadata": {},
   "outputs": [
    {
     "data": {
      "image/png": "[encoded data removed]",
      "text/plain": [
       "<Figure size 1800x1200 with 4 Axes>"
      ]
     },
     "metadata": {},
     "output_type": "display_data"
    }
   ],
   "source": [
    "# selection of the categorical variables\n",
    "categorical_columns = df.select_dtypes(include='object').columns\n",
    "\n",
    "fig, axes = plt.subplots(2, 2, figsize=(18, 12))\n",
    "axes = axes.ravel()\n",
    "\n",
    "# barplot for the categorical vars\n",
    "for i, col in enumerate(categorical_columns):\n",
    "    sns.countplot(x=col, data=df, ax=axes[i])\n",
    "    axes[i].set_title(f'Distribution of {col}')\n",
    "    axes[i].set_xlabel(col)\n",
    "    axes[i].set_ylabel('Frequency')\n",
    "    axes[i].grid(axis='y')"
   ]
  },
  {
   "cell_type": "code",
   "execution_count": 10,
   "metadata": {},
   "outputs": [],
   "source": [
    "# percentage table\n",
    "def percentageTable(col): \n",
    "    percentage = round(df[col].value_counts(normalize=True)*100, 2)\n",
    "    \n",
    "    table = pd.DataFrame({\n",
    "        'Category': percentage.index,\n",
    "        'Percentage (%)': percentage.values\n",
    "        })\n",
    "    print(f\"Variable {col}\")\n",
    "    print(table.to_string(index=False))\n",
    "    print(\"\\n\")"
   ]
  },
  {
   "cell_type": "code",
   "execution_count": 11,
   "metadata": {},
   "outputs": [
    {
     "name": "stdout",
     "output_type": "stream",
     "text": [
      "Variable Segment\n",
      "        Category  Percentage (%)\n",
      "      Government           42.86\n",
      "       Midmarket           14.29\n",
      "Channel Partners           14.29\n",
      "      Enterprise           14.29\n",
      "  Small Business           14.29\n",
      "\n",
      "\n"
     ]
    }
   ],
   "source": [
    "# Segment\n",
    "percentageTable('Segment')"
   ]
  },
  {
   "cell_type": "code",
   "execution_count": 12,
   "metadata": {},
   "outputs": [
    {
     "name": "stdout",
     "output_type": "stream",
     "text": [
      "Variable Country\n",
      "                Category  Percentage (%)\n",
      "                  Canada            20.0\n",
      "                 Germany            20.0\n",
      "                  France            20.0\n",
      "                  Mexico            20.0\n",
      "United States of America            20.0\n",
      "\n",
      "\n"
     ]
    }
   ],
   "source": [
    "# Country\n",
    "percentageTable('Country')"
   ]
  },
  {
   "cell_type": "code",
   "execution_count": 13,
   "metadata": {},
   "outputs": [
    {
     "name": "stdout",
     "output_type": "stream",
     "text": [
      "Variable Product\n",
      "   Category  Percentage (%)\n",
      "     Paseo            28.86\n",
      "      Velo            15.57\n",
      "       VTT            15.57\n",
      "  Amarilla            13.43\n",
      "   Montana            13.29\n",
      " Carretera            13.29\n",
      "\n",
      "\n"
     ]
    }
   ],
   "source": [
    "# Product\n",
    "percentageTable('Product')"
   ]
  },
  {
   "cell_type": "code",
   "execution_count": 14,
   "metadata": {},
   "outputs": [
    {
     "name": "stdout",
     "output_type": "stream",
     "text": [
      "Variable Discount Band\n",
      "Category  Percentage (%)\n",
      "   High            35.00\n",
      " Medium            34.57\n",
      "    Low            22.86\n",
      "   None             7.57\n",
      "\n",
      "\n"
     ]
    }
   ],
   "source": [
    "# Discount Band\n",
    "percentageTable('Discount Band')"
   ]
  },
  {
   "cell_type": "markdown",
   "metadata": {},
   "source": [
    "- quantitative variables"
   ]
  },
  {
   "cell_type": "code",
   "execution_count": 15,
   "metadata": {},
   "outputs": [],
   "source": [
    "# selection of the quantitative variables\n",
    "numerical_columns = df.select_dtypes(include='number').columns"
   ]
  },
  {
   "cell_type": "code",
   "execution_count": 16,
   "metadata": {},
   "outputs": [
    {
     "data": {
      "image/png": "[encoded data removed]",
      "text/plain": [
       "<Figure size 1200x1200 with 8 Axes>"
      ]
     },
     "metadata": {},
     "output_type": "display_data"
    }
   ],
   "source": [
    "fig, axes = plt.subplots(2, 4, figsize=(12, 12))\n",
    "axes = axes.ravel()\n",
    "\n",
    "#  boxlot of the quantitativa vars\n",
    "for i, col in enumerate(numerical_columns):\n",
    "    sns.boxplot(y=df[col], ax=axes[i])  # Boxplot per la variabile corrente\n",
    "    axes[i].set_title(f'{col}')\n",
    "    axes[i].set_ylabel(col)\n",
    "    axes[i].grid(axis='y')"
   ]
  },
  {
   "cell_type": "code",
   "execution_count": 17,
   "metadata": {},
   "outputs": [
    {
     "data": {
      "image/png": "[encoded data removed]",
      "text/plain": [
       "<Figure size 1800x1500 with 8 Axes>"
      ]
     },
     "metadata": {},
     "output_type": "display_data"
    }
   ],
   "source": [
    "fig, axes = plt.subplots(2, 4, figsize=(18, 15))\n",
    "axes = axes.ravel()\n",
    "\n",
    "# histogram and distribution of the quantitativa vars\n",
    "for i, col in enumerate(numerical_columns):\n",
    "    sns.histplot(df[col], kde=True, bins=15, ax=axes[i])  # Specifica l'asse\n",
    "    axes[i].set_title(f'Distribution of {col}')\n",
    "    axes[i].set_xlabel(col)\n",
    "    axes[i].set_ylabel('Frequency')\n",
    "    axes[i].grid(axis='y')"
   ]
  },
  {
   "cell_type": "markdown",
   "metadata": {},
   "source": [
    "- geographical representation"
   ]
  },
  {
   "cell_type": "code",
   "execution_count": 18,
   "metadata": {},
   "outputs": [],
   "source": [
    "world = gpd.read_file(\"https://github.com/nvkelso/natural-earth-vector/raw/master/geojson/ne_110m_admin_0_countries.geojson\")"
   ]
  },
  {
   "cell_type": "code",
   "execution_count": 19,
   "metadata": {},
   "outputs": [],
   "source": [
    "df_country = df[[\"Country\", \"Profit\"]]\n",
    "df_map = df.groupby('Country', as_index=False)['Profit'].sum()"
   ]
  },
  {
   "cell_type": "code",
   "execution_count": 20,
   "metadata": {},
   "outputs": [],
   "source": [
    "world = world.merge(df_map, left_on=\"NAME\", right_on=\"Country\", how=\"left\")"
   ]
  },
  {
   "cell_type": "code",
   "execution_count": 21,
   "metadata": {},
   "outputs": [],
   "source": [
    "world['Profit'] = world['Profit'].fillna(0)"
   ]
  },
  {
   "cell_type": "code",
   "execution_count": 22,
   "metadata": {},
   "outputs": [
    {
     "data": {
      "image/png": "[encoded data removed]",
      "text/plain": [
       "<Figure size 1500x800 with 2 Axes>"
      ]
     },
     "metadata": {},
     "output_type": "display_data"
    }
   ],
   "source": [
    "fig, ax = plt.subplots(1, 1, figsize=(15, 8))\n",
    "\n",
    "boundaries = [0, 3e6, 3.5e6, 4e6, world[\"Profit\"].max()]\n",
    "norm = mcolors.BoundaryNorm(boundaries, ncolors=256, clip=True)\n",
    "\n",
    "plot = world.plot(column=\"Profit\", cmap=\"Reds\", linewidth=0.8, edgecolor=\"black\", \n",
    "                  legend=True, ax=ax, norm=norm)\n",
    "\n",
    "\n",
    "cbar = plot.get_figure().get_axes()[1]  \n",
    "cbar.set_title(\"Profit\", fontsize=12)\n",
    "cbar.set_yticks([3e6, 3.5e6, 4e6])  \n",
    "cbar.set_yticklabels([\"3M\", \"3.5M\", \"4M\"])\n",
    "\n",
    "ax.set_title(\"Profit per Country\", fontsize=15)\n",
    "\n",
    "plt.show()"
   ]
  },
  {
   "cell_type": "markdown",
   "metadata": {},
   "source": [
    "# 4. Statistical analysis"
   ]
  },
  {
   "cell_type": "markdown",
   "metadata": {},
   "source": [
    "- Sales trends over time using a line chart to highlight seasonality or trends"
   ]
  },
  {
   "cell_type": "code",
   "execution_count": 23,
   "metadata": {},
   "outputs": [],
   "source": [
    "df.index = pd.to_datetime(df.index)"
   ]
  },
  {
   "cell_type": "code",
   "execution_count": 24,
   "metadata": {},
   "outputs": [],
   "source": [
    "monthly_sales = df.groupby(df.index.to_period('M'))['Sales'].sum()"
   ]
  },
  {
   "cell_type": "code",
   "execution_count": 25,
   "metadata": {},
   "outputs": [
    {
     "data": {
      "application/vnd.plotly.v1+json": {
       "config": {
        "plotlyServerURL": "https://plot.ly"
       },
       "data": [
        {
         "line": {
          "color": "blue",
          "width": 2
         },
         "marker": {
          "color": "blue",
          "line": {
           "color": "black",
           "width": 1
          },
          "size": 8
         },
         "mode": "lines+markers",
         "name": "Total Sales",
         "type": "scatter",
         "x": [
          "2013-09",
          "2013-10",
          "2013-11",
          "2013-12",
          "2014-01",
          "2014-02",
          "2014-03",
          "2014-04",
          "2014-05",
          "2014-06",
          "2014-07",
          "2014-08",
          "2014-09",
          "2014-10",
          "2014-11",
          "2014-12"
         ],
         "y": {
          "bdata": "lmtEAOTWjQB7424AcepRAIbTZADzWW8AoT9VABxGagCawl4AHD+RAP2jewCmfFkA36JhAPbWvAAKKFIAKha3AA==",
          "dtype": "i4"
         }
        }
       ],
       "layout": {
        "height": 600,
        "template": {
         "data": {
          "bar": [
           {
            "error_x": {
             "color": "#2a3f5f"
            },
            "error_y": {
             "color": "#2a3f5f"
            },
            "marker": {
             "line": {
              "color": "white",
              "width": 0.5
             },
             "pattern": {
              "fillmode": "overlay",
              "size": 10,
              "solidity": 0.2
             }
            },
            "type": "bar"
           }
          ],
          "barpolar": [
           {
            "marker": {
             "line": {
              "color": "white",
              "width": 0.5
             },
             "pattern": {
              "fillmode": "overlay",
              "size": 10,
              "solidity": 0.2
             }
            },
            "type": "barpolar"
           }
          ],
          "carpet": [
           {
            "aaxis": {
             "endlinecolor": "#2a3f5f",
             "gridcolor": "#C8D4E3",
             "linecolor": "#C8D4E3",
             "minorgridcolor": "#C8D4E3",
             "startlinecolor": "#2a3f5f"
            },
            "baxis": {
             "endlinecolor": "#2a3f5f",
             "gridcolor": "#C8D4E3",
             "linecolor": "#C8D4E3",
             "minorgridcolor": "#C8D4E3",
             "startlinecolor": "#2a3f5f"
            },
            "type": "carpet"
           }
          ],
          "choropleth": [
           {
            "colorbar": {
             "outlinewidth": 0,
             "ticks": ""
            },
            "type": "choropleth"
           }
          ],
          "contour": [
           {
            "colorbar": {
             "outlinewidth": 0,
             "ticks": ""
            },
            "colorscale": [
             [
              0,
              "#0d0887"
             ],
             [
              0.1111111111111111,
              "#46039f"
             ],
             [
              0.2222222222222222,
              "#7201a8"
             ],
             [
              0.3333333333333333,
              "#9c179e"
             ],
             [
              0.4444444444444444,
              "#bd3786"
             ],
             [
              0.5555555555555556,
              "#d8576b"
             ],
             [
              0.6666666666666666,
              "#ed7953"
             ],
             [
              0.7777777777777778,
              "#fb9f3a"
             ],
             [
              0.8888888888888888,
              "#fdca26"
             ],
             [
              1,
              "#f0f921"
             ]
            ],
            "type": "contour"
           }
          ],
          "contourcarpet": [
           {
            "colorbar": {
             "outlinewidth": 0,
             "ticks": ""
            },
            "type": "contourcarpet"
           }
          ],
          "heatmap": [
           {
            "colorbar": {
             "outlinewidth": 0,
             "ticks": ""
            },
            "colorscale": [
             [
              0,
              "#0d0887"
             ],
             [
              0.1111111111111111,
              "#46039f"
             ],
             [
              0.2222222222222222,
              "#7201a8"
             ],
             [
              0.3333333333333333,
              "#9c179e"
             ],
             [
              0.4444444444444444,
              "#bd3786"
             ],
             [
              0.5555555555555556,
              "#d8576b"
             ],
             [
              0.6666666666666666,
              "#ed7953"
             ],
             [
              0.7777777777777778,
              "#fb9f3a"
             ],
             [
              0.8888888888888888,
              "#fdca26"
             ],
             [
              1,
              "#f0f921"
             ]
            ],
            "type": "heatmap"
           }
          ],
          "histogram": [
           {
            "marker": {
             "pattern": {
              "fillmode": "overlay",
              "size": 10,
              "solidity": 0.2
             }
            },
            "type": "histogram"
           }
          ],
          "histogram2d": [
           {
            "colorbar": {
             "outlinewidth": 0,
             "ticks": ""
            },
            "colorscale": [
             [
              0,
              "#0d0887"
             ],
             [
              0.1111111111111111,
              "#46039f"
             ],
             [
              0.2222222222222222,
              "#7201a8"
             ],
             [
              0.3333333333333333,
              "#9c179e"
             ],
             [
              0.4444444444444444,
              "#bd3786"
             ],
             [
              0.5555555555555556,
              "#d8576b"
             ],
             [
              0.6666666666666666,
              "#ed7953"
             ],
             [
              0.7777777777777778,
              "#fb9f3a"
             ],
             [
              0.8888888888888888,
              "#fdca26"
             ],
             [
              1,
              "#f0f921"
             ]
            ],
            "type": "histogram2d"
           }
          ],
          "histogram2dcontour": [
           {
            "colorbar": {
             "outlinewidth": 0,
             "ticks": ""
            },
            "colorscale": [
             [
              0,
              "#0d0887"
             ],
             [
              0.1111111111111111,
              "#46039f"
             ],
             [
              0.2222222222222222,
              "#7201a8"
             ],
             [
              0.3333333333333333,
              "#9c179e"
             ],
             [
              0.4444444444444444,
              "#bd3786"
             ],
             [
              0.5555555555555556,
              "#d8576b"
             ],
             [
              0.6666666666666666,
              "#ed7953"
             ],
             [
              0.7777777777777778,
              "#fb9f3a"
             ],
             [
              0.8888888888888888,
              "#fdca26"
             ],
             [
              1,
              "#f0f921"
             ]
            ],
            "type": "histogram2dcontour"
           }
          ],
          "mesh3d": [
           {
            "colorbar": {
             "outlinewidth": 0,
             "ticks": ""
            },
            "type": "mesh3d"
           }
          ],
          "parcoords": [
           {
            "line": {
             "colorbar": {
              "outlinewidth": 0,
              "ticks": ""
             }
            },
            "type": "parcoords"
           }
          ],
          "pie": [
           {
            "automargin": true,
            "type": "pie"
           }
          ],
          "scatter": [
           {
            "fillpattern": {
             "fillmode": "overlay",
             "size": 10,
             "solidity": 0.2
            },
            "type": "scatter"
           }
          ],
          "scatter3d": [
           {
            "line": {
             "colorbar": {
              "outlinewidth": 0,
              "ticks": ""
             }
            },
            "marker": {
             "colorbar": {
              "outlinewidth": 0,
              "ticks": ""
             }
            },
            "type": "scatter3d"
           }
          ],
          "scattercarpet": [
           {
            "marker": {
             "colorbar": {
              "outlinewidth": 0,
              "ticks": ""
             }
            },
            "type": "scattercarpet"
           }
          ],
          "scattergeo": [
           {
            "marker": {
             "colorbar": {
              "outlinewidth": 0,
              "ticks": ""
             }
            },
            "type": "scattergeo"
           }
          ],
          "scattergl": [
           {
            "marker": {
             "colorbar": {
              "outlinewidth": 0,
              "ticks": ""
             }
            },
            "type": "scattergl"
           }
          ],
          "scattermap": [
           {
            "marker": {
             "colorbar": {
              "outlinewidth": 0,
              "ticks": ""
             }
            },
            "type": "scattermap"
           }
          ],
          "scattermapbox": [
           {
            "marker": {
             "colorbar": {
              "outlinewidth": 0,
              "ticks": ""
             }
            },
            "type": "scattermapbox"
           }
          ],
          "scatterpolar": [
           {
            "marker": {
             "colorbar": {
              "outlinewidth": 0,
              "ticks": ""
             }
            },
            "type": "scatterpolar"
           }
          ],
          "scatterpolargl": [
           {
            "marker": {
             "colorbar": {
              "outlinewidth": 0,
              "ticks": ""
             }
            },
            "type": "scatterpolargl"
           }
          ],
          "scatterternary": [
           {
            "marker": {
             "colorbar": {
              "outlinewidth": 0,
              "ticks": ""
             }
            },
            "type": "scatterternary"
           }
          ],
          "surface": [
           {
            "colorbar": {
             "outlinewidth": 0,
             "ticks": ""
            },
            "colorscale": [
             [
              0,
              "#0d0887"
             ],
             [
              0.1111111111111111,
              "#46039f"
             ],
             [
              0.2222222222222222,
              "#7201a8"
             ],
             [
              0.3333333333333333,
              "#9c179e"
             ],
             [
              0.4444444444444444,
              "#bd3786"
             ],
             [
              0.5555555555555556,
              "#d8576b"
             ],
             [
              0.6666666666666666,
              "#ed7953"
             ],
             [
              0.7777777777777778,
              "#fb9f3a"
             ],
             [
              0.8888888888888888,
              "#fdca26"
             ],
             [
              1,
              "#f0f921"
             ]
            ],
            "type": "surface"
           }
          ],
          "table": [
           {
            "cells": {
             "fill": {
              "color": "#EBF0F8"
             },
             "line": {
              "color": "white"
             }
            },
            "header": {
             "fill": {
              "color": "#C8D4E3"
             },
             "line": {
              "color": "white"
             }
            },
            "type": "table"
           }
          ]
         },
         "layout": {
          "annotationdefaults": {
           "arrowcolor": "#2a3f5f",
           "arrowhead": 0,
           "arrowwidth": 1
          },
          "autotypenumbers": "strict",
          "coloraxis": {
           "colorbar": {
            "outlinewidth": 0,
            "ticks": ""
           }
          },
          "colorscale": {
           "diverging": [
            [
             0,
             "#8e0152"
            ],
            [
             0.1,
             "#c51b7d"
            ],
            [
             0.2,
             "#de77ae"
            ],
            [
             0.3,
             "#f1b6da"
            ],
            [
             0.4,
             "#fde0ef"
            ],
            [
             0.5,
             "#f7f7f7"
            ],
            [
             0.6,
             "#e6f5d0"
            ],
            [
             0.7,
             "#b8e186"
            ],
            [
             0.8,
             "#7fbc41"
            ],
            [
             0.9,
             "#4d9221"
            ],
            [
             1,
             "#276419"
            ]
           ],
           "sequential": [
            [
             0,
             "#0d0887"
            ],
            [
             0.1111111111111111,
             "#46039f"
            ],
            [
             0.2222222222222222,
             "#7201a8"
            ],
            [
             0.3333333333333333,
             "#9c179e"
            ],
            [
             0.4444444444444444,
             "#bd3786"
            ],
            [
             0.5555555555555556,
             "#d8576b"
            ],
            [
             0.6666666666666666,
             "#ed7953"
            ],
            [
             0.7777777777777778,
             "#fb9f3a"
            ],
            [
             0.8888888888888888,
             "#fdca26"
            ],
            [
             1,
             "#f0f921"
            ]
           ],
           "sequentialminus": [
            [
             0,
             "#0d0887"
            ],
            [
             0.1111111111111111,
             "#46039f"
            ],
            [
             0.2222222222222222,
             "#7201a8"
            ],
            [
             0.3333333333333333,
             "#9c179e"
            ],
            [
             0.4444444444444444,
             "#bd3786"
            ],
            [
             0.5555555555555556,
             "#d8576b"
            ],
            [
             0.6666666666666666,
             "#ed7953"
            ],
            [
             0.7777777777777778,
             "#fb9f3a"
            ],
            [
             0.8888888888888888,
             "#fdca26"
            ],
            [
             1,
             "#f0f921"
            ]
           ]
          },
          "colorway": [
           "#636efa",
           "#EF553B",
           "#00cc96",
           "#ab63fa",
           "#FFA15A",
           "#19d3f3",
           "#FF6692",
           "#B6E880",
           "#FF97FF",
           "#FECB52"
          ],
          "font": {
           "color": "#2a3f5f"
          },
          "geo": {
           "bgcolor": "white",
           "lakecolor": "white",
           "landcolor": "white",
           "showlakes": true,
           "showland": true,
           "subunitcolor": "#C8D4E3"
          },
          "hoverlabel": {
           "align": "left"
          },
          "hovermode": "closest",
          "mapbox": {
           "style": "light"
          },
          "paper_bgcolor": "white",
          "plot_bgcolor": "white",
          "polar": {
           "angularaxis": {
            "gridcolor": "#EBF0F8",
            "linecolor": "#EBF0F8",
            "ticks": ""
           },
           "bgcolor": "white",
           "radialaxis": {
            "gridcolor": "#EBF0F8",
            "linecolor": "#EBF0F8",
            "ticks": ""
           }
          },
          "scene": {
           "xaxis": {
            "backgroundcolor": "white",
            "gridcolor": "#DFE8F3",
            "gridwidth": 2,
            "linecolor": "#EBF0F8",
            "showbackground": true,
            "ticks": "",
            "zerolinecolor": "#EBF0F8"
           },
           "yaxis": {
            "backgroundcolor": "white",
            "gridcolor": "#DFE8F3",
            "gridwidth": 2,
            "linecolor": "#EBF0F8",
            "showbackground": true,
            "ticks": "",
            "zerolinecolor": "#EBF0F8"
           },
           "zaxis": {
            "backgroundcolor": "white",
            "gridcolor": "#DFE8F3",
            "gridwidth": 2,
            "linecolor": "#EBF0F8",
            "showbackground": true,
            "ticks": "",
            "zerolinecolor": "#EBF0F8"
           }
          },
          "shapedefaults": {
           "line": {
            "color": "#2a3f5f"
           }
          },
          "ternary": {
           "aaxis": {
            "gridcolor": "#DFE8F3",
            "linecolor": "#A2B1C6",
            "ticks": ""
           },
           "baxis": {
            "gridcolor": "#DFE8F3",
            "linecolor": "#A2B1C6",
            "ticks": ""
           },
           "bgcolor": "white",
           "caxis": {
            "gridcolor": "#DFE8F3",
            "linecolor": "#A2B1C6",
            "ticks": ""
           }
          },
          "title": {
           "x": 0.05
          },
          "xaxis": {
           "automargin": true,
           "gridcolor": "#EBF0F8",
           "linecolor": "#EBF0F8",
           "ticks": "",
           "title": {
            "standoff": 15
           },
           "zerolinecolor": "#EBF0F8",
           "zerolinewidth": 2
          },
          "yaxis": {
           "automargin": true,
           "gridcolor": "#EBF0F8",
           "linecolor": "#EBF0F8",
           "ticks": "",
           "title": {
            "standoff": 15
           },
           "zerolinecolor": "#EBF0F8",
           "zerolinewidth": 2
          }
         }
        },
        "title": {
         "font": {
          "size": 20
         },
         "text": "Sales Trends Over Time",
         "x": 0.5,
         "xanchor": "center"
        },
        "width": 1000,
        "xaxis": {
         "showgrid": true,
         "tickangle": -45,
         "tickfont": {
          "size": 12
         },
         "title": {
          "font": {
           "size": 16
          },
          "text": "Month"
         }
        },
        "yaxis": {
         "showgrid": true,
         "tickfont": {
          "size": 12
         },
         "title": {
          "font": {
           "size": 16
          },
          "text": "Total Sales"
         }
        }
       }
      }
     },
     "metadata": {},
     "output_type": "display_data"
    }
   ],
   "source": [
    "fig = go.Figure()\n",
    "\n",
    "# Add the sales data as a line plot\n",
    "fig.add_trace(go.Scatter(\n",
    "    x=monthly_sales.index.astype(str),\n",
    "    y=monthly_sales.values,\n",
    "    mode='lines+markers',\n",
    "    name='Total Sales',\n",
    "    line=dict(color='blue', width=2),\n",
    "    marker=dict(size=8, color='blue', line=dict(width=1, color='black'))\n",
    "))\n",
    "\n",
    "fig.update_layout(\n",
    "    title=dict(\n",
    "        text=\"Sales Trends Over Time\",\n",
    "        font=dict(size=20),\n",
    "        x=0.5,  # Center the title\n",
    "        xanchor='center'\n",
    "    ),\n",
    "    xaxis=dict(\n",
    "        title=dict(\n",
    "            text=\"Month\",\n",
    "            font=dict(size=16)\n",
    "        ),\n",
    "        tickangle=-45,\n",
    "        showgrid=True,\n",
    "        tickfont=dict(size=12)\n",
    "    ),\n",
    "    yaxis=dict(\n",
    "        title=dict(\n",
    "            text=\"Total Sales\",\n",
    "            font=dict(size=16)\n",
    "        ),\n",
    "        showgrid=True,\n",
    "        tickfont=dict(size=12)\n",
    "    ),\n",
    "    template='plotly_white',\n",
    "    width=1000,\n",
    "    height=600\n",
    ")\n",
    "\n",
    "fig.show()"
   ]
  },
  {
   "cell_type": "markdown",
   "metadata": {},
   "source": [
    "Positive peaks can be seen in the months of October, both in 2013 and 2014. The highest sales were recorded in October 2014, also December 2014 has a high number of sales but slightly lower than October."
   ]
  },
  {
   "cell_type": "markdown",
   "metadata": {},
   "source": [
    "- Sales difference across regions using a heat map or bar chart"
   ]
  },
  {
   "cell_type": "code",
   "execution_count": 26,
   "metadata": {},
   "outputs": [],
   "source": [
    "country_sales = df.groupby('Country')['Sales'].sum().sort_values()"
   ]
  },
  {
   "cell_type": "code",
   "execution_count": 27,
   "metadata": {},
   "outputs": [
    {
     "data": {
      "application/vnd.plotly.v1+json": {
       "config": {
        "plotlyServerURL": "https://plot.ly"
       },
       "data": [
        {
         "marker": {
          "cmax": 25029787,
          "cmin": 20949312,
          "color": {
           "bdata": "QKk/AZSpZgFSnXMBPcF7AZvsfQE=",
           "dtype": "i4"
          },
          "colorscale": [
           [
            0,
            "rgb(165,0,38)"
           ],
           [
            0.1,
            "rgb(215,48,39)"
           ],
           [
            0.2,
            "rgb(244,109,67)"
           ],
           [
            0.3,
            "rgb(253,174,97)"
           ],
           [
            0.4,
            "rgb(254,224,139)"
           ],
           [
            0.5,
            "rgb(255,255,191)"
           ],
           [
            0.6,
            "rgb(217,239,139)"
           ],
           [
            0.7,
            "rgb(166,217,106)"
           ],
           [
            0.8,
            "rgb(102,189,99)"
           ],
           [
            0.9,
            "rgb(26,152,80)"
           ],
           [
            1,
            "rgb(0,104,55)"
           ]
          ],
          "showscale": true
         },
         "name": "Total Sales",
         "type": "bar",
         "x": [
          "Mexico",
          "Germany",
          "France",
          "Canada",
          "United States of America"
         ],
         "y": {
          "bdata": "QKk/AZSpZgFSnXMBPcF7AZvsfQE=",
          "dtype": "i4"
         }
        }
       ],
       "layout": {
        "height": 600,
        "template": {
         "data": {
          "bar": [
           {
            "error_x": {
             "color": "#2a3f5f"
            },
            "error_y": {
             "color": "#2a3f5f"
            },
            "marker": {
             "line": {
              "color": "white",
              "width": 0.5
             },
             "pattern": {
              "fillmode": "overlay",
              "size": 10,
              "solidity": 0.2
             }
            },
            "type": "bar"
           }
          ],
          "barpolar": [
           {
            "marker": {
             "line": {
              "color": "white",
              "width": 0.5
             },
             "pattern": {
              "fillmode": "overlay",
              "size": 10,
              "solidity": 0.2
             }
            },
            "type": "barpolar"
           }
          ],
          "carpet": [
           {
            "aaxis": {
             "endlinecolor": "#2a3f5f",
             "gridcolor": "#C8D4E3",
             "linecolor": "#C8D4E3",
             "minorgridcolor": "#C8D4E3",
             "startlinecolor": "#2a3f5f"
            },
            "baxis": {
             "endlinecolor": "#2a3f5f",
             "gridcolor": "#C8D4E3",
             "linecolor": "#C8D4E3",
             "minorgridcolor": "#C8D4E3",
             "startlinecolor": "#2a3f5f"
            },
            "type": "carpet"
           }
          ],
          "choropleth": [
           {
            "colorbar": {
             "outlinewidth": 0,
             "ticks": ""
            },
            "type": "choropleth"
           }
          ],
          "contour": [
           {
            "colorbar": {
             "outlinewidth": 0,
             "ticks": ""
            },
            "colorscale": [
             [
              0,
              "#0d0887"
             ],
             [
              0.1111111111111111,
              "#46039f"
             ],
             [
              0.2222222222222222,
              "#7201a8"
             ],
             [
              0.3333333333333333,
              "#9c179e"
             ],
             [
              0.4444444444444444,
              "#bd3786"
             ],
             [
              0.5555555555555556,
              "#d8576b"
             ],
             [
              0.6666666666666666,
              "#ed7953"
             ],
             [
              0.7777777777777778,
              "#fb9f3a"
             ],
             [
              0.8888888888888888,
              "#fdca26"
             ],
             [
              1,
              "#f0f921"
             ]
            ],
            "type": "contour"
           }
          ],
          "contourcarpet": [
           {
            "colorbar": {
             "outlinewidth": 0,
             "ticks": ""
            },
            "type": "contourcarpet"
           }
          ],
          "heatmap": [
           {
            "colorbar": {
             "outlinewidth": 0,
             "ticks": ""
            },
            "colorscale": [
             [
              0,
              "#0d0887"
             ],
             [
              0.1111111111111111,
              "#46039f"
             ],
             [
              0.2222222222222222,
              "#7201a8"
             ],
             [
              0.3333333333333333,
              "#9c179e"
             ],
             [
              0.4444444444444444,
              "#bd3786"
             ],
             [
              0.5555555555555556,
              "#d8576b"
             ],
             [
              0.6666666666666666,
              "#ed7953"
             ],
             [
              0.7777777777777778,
              "#fb9f3a"
             ],
             [
              0.8888888888888888,
              "#fdca26"
             ],
             [
              1,
              "#f0f921"
             ]
            ],
            "type": "heatmap"
           }
          ],
          "histogram": [
           {
            "marker": {
             "pattern": {
              "fillmode": "overlay",
              "size": 10,
              "solidity": 0.2
             }
            },
            "type": "histogram"
           }
          ],
          "histogram2d": [
           {
            "colorbar": {
             "outlinewidth": 0,
             "ticks": ""
            },
            "colorscale": [
             [
              0,
              "#0d0887"
             ],
             [
              0.1111111111111111,
              "#46039f"
             ],
             [
              0.2222222222222222,
              "#7201a8"
             ],
             [
              0.3333333333333333,
              "#9c179e"
             ],
             [
              0.4444444444444444,
              "#bd3786"
             ],
             [
              0.5555555555555556,
              "#d8576b"
             ],
             [
              0.6666666666666666,
              "#ed7953"
             ],
             [
              0.7777777777777778,
              "#fb9f3a"
             ],
             [
              0.8888888888888888,
              "#fdca26"
             ],
             [
              1,
              "#f0f921"
             ]
            ],
            "type": "histogram2d"
           }
          ],
          "histogram2dcontour": [
           {
            "colorbar": {
             "outlinewidth": 0,
             "ticks": ""
            },
            "colorscale": [
             [
              0,
              "#0d0887"
             ],
             [
              0.1111111111111111,
              "#46039f"
             ],
             [
              0.2222222222222222,
              "#7201a8"
             ],
             [
              0.3333333333333333,
              "#9c179e"
             ],
             [
              0.4444444444444444,
              "#bd3786"
             ],
             [
              0.5555555555555556,
              "#d8576b"
             ],
             [
              0.6666666666666666,
              "#ed7953"
             ],
             [
              0.7777777777777778,
              "#fb9f3a"
             ],
             [
              0.8888888888888888,
              "#fdca26"
             ],
             [
              1,
              "#f0f921"
             ]
            ],
            "type": "histogram2dcontour"
           }
          ],
          "mesh3d": [
           {
            "colorbar": {
             "outlinewidth": 0,
             "ticks": ""
            },
            "type": "mesh3d"
           }
          ],
          "parcoords": [
           {
            "line": {
             "colorbar": {
              "outlinewidth": 0,
              "ticks": ""
             }
            },
            "type": "parcoords"
           }
          ],
          "pie": [
           {
            "automargin": true,
            "type": "pie"
           }
          ],
          "scatter": [
           {
            "fillpattern": {
             "fillmode": "overlay",
             "size": 10,
             "solidity": 0.2
            },
            "type": "scatter"
           }
          ],
          "scatter3d": [
           {
            "line": {
             "colorbar": {
              "outlinewidth": 0,
              "ticks": ""
             }
            },
            "marker": {
             "colorbar": {
              "outlinewidth": 0,
              "ticks": ""
             }
            },
            "type": "scatter3d"
           }
          ],
          "scattercarpet": [
           {
            "marker": {
             "colorbar": {
              "outlinewidth": 0,
              "ticks": ""
             }
            },
            "type": "scattercarpet"
           }
          ],
          "scattergeo": [
           {
            "marker": {
             "colorbar": {
              "outlinewidth": 0,
              "ticks": ""
             }
            },
            "type": "scattergeo"
           }
          ],
          "scattergl": [
           {
            "marker": {
             "colorbar": {
              "outlinewidth": 0,
              "ticks": ""
             }
            },
            "type": "scattergl"
           }
          ],
          "scattermap": [
           {
            "marker": {
             "colorbar": {
              "outlinewidth": 0,
              "ticks": ""
             }
            },
            "type": "scattermap"
           }
          ],
          "scattermapbox": [
           {
            "marker": {
             "colorbar": {
              "outlinewidth": 0,
              "ticks": ""
             }
            },
            "type": "scattermapbox"
           }
          ],
          "scatterpolar": [
           {
            "marker": {
             "colorbar": {
              "outlinewidth": 0,
              "ticks": ""
             }
            },
            "type": "scatterpolar"
           }
          ],
          "scatterpolargl": [
           {
            "marker": {
             "colorbar": {
              "outlinewidth": 0,
              "ticks": ""
             }
            },
            "type": "scatterpolargl"
           }
          ],
          "scatterternary": [
           {
            "marker": {
             "colorbar": {
              "outlinewidth": 0,
              "ticks": ""
             }
            },
            "type": "scatterternary"
           }
          ],
          "surface": [
           {
            "colorbar": {
             "outlinewidth": 0,
             "ticks": ""
            },
            "colorscale": [
             [
              0,
              "#0d0887"
             ],
             [
              0.1111111111111111,
              "#46039f"
             ],
             [
              0.2222222222222222,
              "#7201a8"
             ],
             [
              0.3333333333333333,
              "#9c179e"
             ],
             [
              0.4444444444444444,
              "#bd3786"
             ],
             [
              0.5555555555555556,
              "#d8576b"
             ],
             [
              0.6666666666666666,
              "#ed7953"
             ],
             [
              0.7777777777777778,
              "#fb9f3a"
             ],
             [
              0.8888888888888888,
              "#fdca26"
             ],
             [
              1,
              "#f0f921"
             ]
            ],
            "type": "surface"
           }
          ],
          "table": [
           {
            "cells": {
             "fill": {
              "color": "#EBF0F8"
             },
             "line": {
              "color": "white"
             }
            },
            "header": {
             "fill": {
              "color": "#C8D4E3"
             },
             "line": {
              "color": "white"
             }
            },
            "type": "table"
           }
          ]
         },
         "layout": {
          "annotationdefaults": {
           "arrowcolor": "#2a3f5f",
           "arrowhead": 0,
           "arrowwidth": 1
          },
          "autotypenumbers": "strict",
          "coloraxis": {
           "colorbar": {
            "outlinewidth": 0,
            "ticks": ""
           }
          },
          "colorscale": {
           "diverging": [
            [
             0,
             "#8e0152"
            ],
            [
             0.1,
             "#c51b7d"
            ],
            [
             0.2,
             "#de77ae"
            ],
            [
             0.3,
             "#f1b6da"
            ],
            [
             0.4,
             "#fde0ef"
            ],
            [
             0.5,
             "#f7f7f7"
            ],
            [
             0.6,
             "#e6f5d0"
            ],
            [
             0.7,
             "#b8e186"
            ],
            [
             0.8,
             "#7fbc41"
            ],
            [
             0.9,
             "#4d9221"
            ],
            [
             1,
             "#276419"
            ]
           ],
           "sequential": [
            [
             0,
             "#0d0887"
            ],
            [
             0.1111111111111111,
             "#46039f"
            ],
            [
             0.2222222222222222,
             "#7201a8"
            ],
            [
             0.3333333333333333,
             "#9c179e"
            ],
            [
             0.4444444444444444,
             "#bd3786"
            ],
            [
             0.5555555555555556,
             "#d8576b"
            ],
            [
             0.6666666666666666,
             "#ed7953"
            ],
            [
             0.7777777777777778,
             "#fb9f3a"
            ],
            [
             0.8888888888888888,
             "#fdca26"
            ],
            [
             1,
             "#f0f921"
            ]
           ],
           "sequentialminus": [
            [
             0,
             "#0d0887"
            ],
            [
             0.1111111111111111,
             "#46039f"
            ],
            [
             0.2222222222222222,
             "#7201a8"
            ],
            [
             0.3333333333333333,
             "#9c179e"
            ],
            [
             0.4444444444444444,
             "#bd3786"
            ],
            [
             0.5555555555555556,
             "#d8576b"
            ],
            [
             0.6666666666666666,
             "#ed7953"
            ],
            [
             0.7777777777777778,
             "#fb9f3a"
            ],
            [
             0.8888888888888888,
             "#fdca26"
            ],
            [
             1,
             "#f0f921"
            ]
           ]
          },
          "colorway": [
           "#636efa",
           "#EF553B",
           "#00cc96",
           "#ab63fa",
           "#FFA15A",
           "#19d3f3",
           "#FF6692",
           "#B6E880",
           "#FF97FF",
           "#FECB52"
          ],
          "font": {
           "color": "#2a3f5f"
          },
          "geo": {
           "bgcolor": "white",
           "lakecolor": "white",
           "landcolor": "white",
           "showlakes": true,
           "showland": true,
           "subunitcolor": "#C8D4E3"
          },
          "hoverlabel": {
           "align": "left"
          },
          "hovermode": "closest",
          "mapbox": {
           "style": "light"
          },
          "paper_bgcolor": "white",
          "plot_bgcolor": "white",
          "polar": {
           "angularaxis": {
            "gridcolor": "#EBF0F8",
            "linecolor": "#EBF0F8",
            "ticks": ""
           },
           "bgcolor": "white",
           "radialaxis": {
            "gridcolor": "#EBF0F8",
            "linecolor": "#EBF0F8",
            "ticks": ""
           }
          },
          "scene": {
           "xaxis": {
            "backgroundcolor": "white",
            "gridcolor": "#DFE8F3",
            "gridwidth": 2,
            "linecolor": "#EBF0F8",
            "showbackground": true,
            "ticks": "",
            "zerolinecolor": "#EBF0F8"
           },
           "yaxis": {
            "backgroundcolor": "white",
            "gridcolor": "#DFE8F3",
            "gridwidth": 2,
            "linecolor": "#EBF0F8",
            "showbackground": true,
            "ticks": "",
            "zerolinecolor": "#EBF0F8"
           },
           "zaxis": {
            "backgroundcolor": "white",
            "gridcolor": "#DFE8F3",
            "gridwidth": 2,
            "linecolor": "#EBF0F8",
            "showbackground": true,
            "ticks": "",
            "zerolinecolor": "#EBF0F8"
           }
          },
          "shapedefaults": {
           "line": {
            "color": "#2a3f5f"
           }
          },
          "ternary": {
           "aaxis": {
            "gridcolor": "#DFE8F3",
            "linecolor": "#A2B1C6",
            "ticks": ""
           },
           "baxis": {
            "gridcolor": "#DFE8F3",
            "linecolor": "#A2B1C6",
            "ticks": ""
           },
           "bgcolor": "white",
           "caxis": {
            "gridcolor": "#DFE8F3",
            "linecolor": "#A2B1C6",
            "ticks": ""
           }
          },
          "title": {
           "x": 0.05
          },
          "xaxis": {
           "automargin": true,
           "gridcolor": "#EBF0F8",
           "linecolor": "#EBF0F8",
           "ticks": "",
           "title": {
            "standoff": 15
           },
           "zerolinecolor": "#EBF0F8",
           "zerolinewidth": 2
          },
          "yaxis": {
           "automargin": true,
           "gridcolor": "#EBF0F8",
           "linecolor": "#EBF0F8",
           "ticks": "",
           "title": {
            "standoff": 15
           },
           "zerolinecolor": "#EBF0F8",
           "zerolinewidth": 2
          }
         }
        },
        "title": {
         "font": {
          "size": 20
         },
         "text": "Sales Difference Across Countries",
         "x": 0.5,
         "xanchor": "center"
        },
        "width": 1000,
        "xaxis": {
         "tickangle": -45,
         "tickfont": {
          "size": 12
         },
         "title": {
          "font": {
           "size": 16
          },
          "text": "Country"
         }
        },
        "yaxis": {
         "tickfont": {
          "size": 12
         },
         "title": {
          "font": {
           "size": 16
          },
          "text": "Total Sales"
         }
        }
       }
      }
     },
     "metadata": {},
     "output_type": "display_data"
    }
   ],
   "source": [
    "fig = go.Figure()\n",
    "\n",
    "fig.add_trace(go.Bar(\n",
    "    x=country_sales.index,\n",
    "    y=country_sales.values,\n",
    "    marker=dict(\n",
    "        color=country_sales.values,\n",
    "        colorscale='RdYlGn',\n",
    "        cmin=country_sales.values.min(),\n",
    "        cmax=country_sales.values.max(),\n",
    "        showscale=True\n",
    "    ),\n",
    "    name='Total Sales'\n",
    "))\n",
    "\n",
    "fig.update_layout(\n",
    "    title=dict(\n",
    "        text=\"Sales Difference Across Countries\",\n",
    "        font=dict(size=20),\n",
    "        x=0.5,\n",
    "        xanchor='center'\n",
    "    ),\n",
    "    xaxis=dict(\n",
    "        title=dict(\n",
    "            text=\"Country\",\n",
    "            font=dict(size=16)\n",
    "        ),\n",
    "        tickangle=-45,\n",
    "        tickfont=dict(size=12)\n",
    "    ),\n",
    "    yaxis=dict(\n",
    "        title=dict(\n",
    "            text=\"Total Sales\",\n",
    "            font=dict(size=16)\n",
    "        ),\n",
    "        tickfont=dict(size=12)\n",
    "    ),\n",
    "    template='plotly_white',\n",
    "    width=1000,\n",
    "    height=600\n",
    ")\n",
    "\n",
    "# Show the chart\n",
    "fig.show()"
   ]
  },
  {
   "cell_type": "markdown",
   "metadata": {},
   "source": [
    "The USA and Canada are the most attractive countries for sales, followed by the European market (France and Germany). Messico is the country with the least sales."
   ]
  },
  {
   "cell_type": "code",
   "execution_count": 28,
   "metadata": {},
   "outputs": [],
   "source": [
    "regional_sales = df.groupby(['Country', 'Segment'])['Sales'].sum().unstack()"
   ]
  },
  {
   "cell_type": "code",
   "execution_count": 29,
   "metadata": {},
   "outputs": [
    {
     "data": {
      "application/vnd.plotly.v1+json": {
       "config": {
        "plotlyServerURL": "https://plot.ly"
       },
       "data": [
        {
         "colorbar": {
          "len": 0.5,
          "thickness": 20,
          "tickfont": {
           "color": "black",
           "size": 12
          },
          "title": {
           "font": {
            "color": "black",
            "size": 14
           },
           "text": "Total Sales"
          }
         },
         "colorscale": [
          [
           0,
           "red"
          ],
          [
           0.5,
           "white"
          ],
          [
           1,
           "green"
          ]
         ],
         "text": {
          "bdata": "lX4HAP6JPADf5aMA/8gHAMwJjABwrQUAxF47ABUOuQCDDwkAhnNwACIiBQAjXD4AzcGuABqZBABo0G8Ag5MDAKSYMgBcaJUAmcwHACRIbAC8lwUAhmJCAEgIgADiGQcAL9CuAA==",
          "dtype": "i4",
          "shape": "5, 5"
         },
         "textfont": {
          "color": "black",
          "size": 12
         },
         "texttemplate": "%{text:,}",
         "type": "heatmap",
         "x": [
          "Channel Partners",
          "Enterprise",
          "Government",
          "Midmarket",
          "Small Business"
         ],
         "y": [
          "Canada",
          "France",
          "Germany",
          "Mexico",
          "United States of America"
         ],
         "z": {
          "bdata": "lX4HAP6JPADf5aMA/8gHAMwJjABwrQUAxF47ABUOuQCDDwkAhnNwACIiBQAjXD4AzcGuABqZBABo0G8Ag5MDAKSYMgBcaJUAmcwHACRIbAC8lwUAhmJCAEgIgADiGQcAL9CuAA==",
          "dtype": "i4",
          "shape": "5, 5"
         },
         "zmid": 4749045.68
        }
       ],
       "layout": {
        "height": 700,
        "margin": {
         "b": 70,
         "l": 120,
         "r": 20,
         "t": 70
        },
        "template": {
         "data": {
          "bar": [
           {
            "error_x": {
             "color": "#2a3f5f"
            },
            "error_y": {
             "color": "#2a3f5f"
            },
            "marker": {
             "line": {
              "color": "white",
              "width": 0.5
             },
             "pattern": {
              "fillmode": "overlay",
              "size": 10,
              "solidity": 0.2
             }
            },
            "type": "bar"
           }
          ],
          "barpolar": [
           {
            "marker": {
             "line": {
              "color": "white",
              "width": 0.5
             },
             "pattern": {
              "fillmode": "overlay",
              "size": 10,
              "solidity": 0.2
             }
            },
            "type": "barpolar"
           }
          ],
          "carpet": [
           {
            "aaxis": {
             "endlinecolor": "#2a3f5f",
             "gridcolor": "#C8D4E3",
             "linecolor": "#C8D4E3",
             "minorgridcolor": "#C8D4E3",
             "startlinecolor": "#2a3f5f"
            },
            "baxis": {
             "endlinecolor": "#2a3f5f",
             "gridcolor": "#C8D4E3",
             "linecolor": "#C8D4E3",
             "minorgridcolor": "#C8D4E3",
             "startlinecolor": "#2a3f5f"
            },
            "type": "carpet"
           }
          ],
          "choropleth": [
           {
            "colorbar": {
             "outlinewidth": 0,
             "ticks": ""
            },
            "type": "choropleth"
           }
          ],
          "contour": [
           {
            "colorbar": {
             "outlinewidth": 0,
             "ticks": ""
            },
            "colorscale": [
             [
              0,
              "#0d0887"
             ],
             [
              0.1111111111111111,
              "#46039f"
             ],
             [
              0.2222222222222222,
              "#7201a8"
             ],
             [
              0.3333333333333333,
              "#9c179e"
             ],
             [
              0.4444444444444444,
              "#bd3786"
             ],
             [
              0.5555555555555556,
              "#d8576b"
             ],
             [
              0.6666666666666666,
              "#ed7953"
             ],
             [
              0.7777777777777778,
              "#fb9f3a"
             ],
             [
              0.8888888888888888,
              "#fdca26"
             ],
             [
              1,
              "#f0f921"
             ]
            ],
            "type": "contour"
           }
          ],
          "contourcarpet": [
           {
            "colorbar": {
             "outlinewidth": 0,
             "ticks": ""
            },
            "type": "contourcarpet"
           }
          ],
          "heatmap": [
           {
            "colorbar": {
             "outlinewidth": 0,
             "ticks": ""
            },
            "colorscale": [
             [
              0,
              "#0d0887"
             ],
             [
              0.1111111111111111,
              "#46039f"
             ],
             [
              0.2222222222222222,
              "#7201a8"
             ],
             [
              0.3333333333333333,
              "#9c179e"
             ],
             [
              0.4444444444444444,
              "#bd3786"
             ],
             [
              0.5555555555555556,
              "#d8576b"
             ],
             [
              0.6666666666666666,
              "#ed7953"
             ],
             [
              0.7777777777777778,
              "#fb9f3a"
             ],
             [
              0.8888888888888888,
              "#fdca26"
             ],
             [
              1,
              "#f0f921"
             ]
            ],
            "type": "heatmap"
           }
          ],
          "histogram": [
           {
            "marker": {
             "pattern": {
              "fillmode": "overlay",
              "size": 10,
              "solidity": 0.2
             }
            },
            "type": "histogram"
           }
          ],
          "histogram2d": [
           {
            "colorbar": {
             "outlinewidth": 0,
             "ticks": ""
            },
            "colorscale": [
             [
              0,
              "#0d0887"
             ],
             [
              0.1111111111111111,
              "#46039f"
             ],
             [
              0.2222222222222222,
              "#7201a8"
             ],
             [
              0.3333333333333333,
              "#9c179e"
             ],
             [
              0.4444444444444444,
              "#bd3786"
             ],
             [
              0.5555555555555556,
              "#d8576b"
             ],
             [
              0.6666666666666666,
              "#ed7953"
             ],
             [
              0.7777777777777778,
              "#fb9f3a"
             ],
             [
              0.8888888888888888,
              "#fdca26"
             ],
             [
              1,
              "#f0f921"
             ]
            ],
            "type": "histogram2d"
           }
          ],
          "histogram2dcontour": [
           {
            "colorbar": {
             "outlinewidth": 0,
             "ticks": ""
            },
            "colorscale": [
             [
              0,
              "#0d0887"
             ],
             [
              0.1111111111111111,
              "#46039f"
             ],
             [
              0.2222222222222222,
              "#7201a8"
             ],
             [
              0.3333333333333333,
              "#9c179e"
             ],
             [
              0.4444444444444444,
              "#bd3786"
             ],
             [
              0.5555555555555556,
              "#d8576b"
             ],
             [
              0.6666666666666666,
              "#ed7953"
             ],
             [
              0.7777777777777778,
              "#fb9f3a"
             ],
             [
              0.8888888888888888,
              "#fdca26"
             ],
             [
              1,
              "#f0f921"
             ]
            ],
            "type": "histogram2dcontour"
           }
          ],
          "mesh3d": [
           {
            "colorbar": {
             "outlinewidth": 0,
             "ticks": ""
            },
            "type": "mesh3d"
           }
          ],
          "parcoords": [
           {
            "line": {
             "colorbar": {
              "outlinewidth": 0,
              "ticks": ""
             }
            },
            "type": "parcoords"
           }
          ],
          "pie": [
           {
            "automargin": true,
            "type": "pie"
           }
          ],
          "scatter": [
           {
            "fillpattern": {
             "fillmode": "overlay",
             "size": 10,
             "solidity": 0.2
            },
            "type": "scatter"
           }
          ],
          "scatter3d": [
           {
            "line": {
             "colorbar": {
              "outlinewidth": 0,
              "ticks": ""
             }
            },
            "marker": {
             "colorbar": {
              "outlinewidth": 0,
              "ticks": ""
             }
            },
            "type": "scatter3d"
           }
          ],
          "scattercarpet": [
           {
            "marker": {
             "colorbar": {
              "outlinewidth": 0,
              "ticks": ""
             }
            },
            "type": "scattercarpet"
           }
          ],
          "scattergeo": [
           {
            "marker": {
             "colorbar": {
              "outlinewidth": 0,
              "ticks": ""
             }
            },
            "type": "scattergeo"
           }
          ],
          "scattergl": [
           {
            "marker": {
             "colorbar": {
              "outlinewidth": 0,
              "ticks": ""
             }
            },
            "type": "scattergl"
           }
          ],
          "scattermap": [
           {
            "marker": {
             "colorbar": {
              "outlinewidth": 0,
              "ticks": ""
             }
            },
            "type": "scattermap"
           }
          ],
          "scattermapbox": [
           {
            "marker": {
             "colorbar": {
              "outlinewidth": 0,
              "ticks": ""
             }
            },
            "type": "scattermapbox"
           }
          ],
          "scatterpolar": [
           {
            "marker": {
             "colorbar": {
              "outlinewidth": 0,
              "ticks": ""
             }
            },
            "type": "scatterpolar"
           }
          ],
          "scatterpolargl": [
           {
            "marker": {
             "colorbar": {
              "outlinewidth": 0,
              "ticks": ""
             }
            },
            "type": "scatterpolargl"
           }
          ],
          "scatterternary": [
           {
            "marker": {
             "colorbar": {
              "outlinewidth": 0,
              "ticks": ""
             }
            },
            "type": "scatterternary"
           }
          ],
          "surface": [
           {
            "colorbar": {
             "outlinewidth": 0,
             "ticks": ""
            },
            "colorscale": [
             [
              0,
              "#0d0887"
             ],
             [
              0.1111111111111111,
              "#46039f"
             ],
             [
              0.2222222222222222,
              "#7201a8"
             ],
             [
              0.3333333333333333,
              "#9c179e"
             ],
             [
              0.4444444444444444,
              "#bd3786"
             ],
             [
              0.5555555555555556,
              "#d8576b"
             ],
             [
              0.6666666666666666,
              "#ed7953"
             ],
             [
              0.7777777777777778,
              "#fb9f3a"
             ],
             [
              0.8888888888888888,
              "#fdca26"
             ],
             [
              1,
              "#f0f921"
             ]
            ],
            "type": "surface"
           }
          ],
          "table": [
           {
            "cells": {
             "fill": {
              "color": "#EBF0F8"
             },
             "line": {
              "color": "white"
             }
            },
            "header": {
             "fill": {
              "color": "#C8D4E3"
             },
             "line": {
              "color": "white"
             }
            },
            "type": "table"
           }
          ]
         },
         "layout": {
          "annotationdefaults": {
           "arrowcolor": "#2a3f5f",
           "arrowhead": 0,
           "arrowwidth": 1
          },
          "autotypenumbers": "strict",
          "coloraxis": {
           "colorbar": {
            "outlinewidth": 0,
            "ticks": ""
           }
          },
          "colorscale": {
           "diverging": [
            [
             0,
             "#8e0152"
            ],
            [
             0.1,
             "#c51b7d"
            ],
            [
             0.2,
             "#de77ae"
            ],
            [
             0.3,
             "#f1b6da"
            ],
            [
             0.4,
             "#fde0ef"
            ],
            [
             0.5,
             "#f7f7f7"
            ],
            [
             0.6,
             "#e6f5d0"
            ],
            [
             0.7,
             "#b8e186"
            ],
            [
             0.8,
             "#7fbc41"
            ],
            [
             0.9,
             "#4d9221"
            ],
            [
             1,
             "#276419"
            ]
           ],
           "sequential": [
            [
             0,
             "#0d0887"
            ],
            [
             0.1111111111111111,
             "#46039f"
            ],
            [
             0.2222222222222222,
             "#7201a8"
            ],
            [
             0.3333333333333333,
             "#9c179e"
            ],
            [
             0.4444444444444444,
             "#bd3786"
            ],
            [
             0.5555555555555556,
             "#d8576b"
            ],
            [
             0.6666666666666666,
             "#ed7953"
            ],
            [
             0.7777777777777778,
             "#fb9f3a"
            ],
            [
             0.8888888888888888,
             "#fdca26"
            ],
            [
             1,
             "#f0f921"
            ]
           ],
           "sequentialminus": [
            [
             0,
             "#0d0887"
            ],
            [
             0.1111111111111111,
             "#46039f"
            ],
            [
             0.2222222222222222,
             "#7201a8"
            ],
            [
             0.3333333333333333,
             "#9c179e"
            ],
            [
             0.4444444444444444,
             "#bd3786"
            ],
            [
             0.5555555555555556,
             "#d8576b"
            ],
            [
             0.6666666666666666,
             "#ed7953"
            ],
            [
             0.7777777777777778,
             "#fb9f3a"
            ],
            [
             0.8888888888888888,
             "#fdca26"
            ],
            [
             1,
             "#f0f921"
            ]
           ]
          },
          "colorway": [
           "#636efa",
           "#EF553B",
           "#00cc96",
           "#ab63fa",
           "#FFA15A",
           "#19d3f3",
           "#FF6692",
           "#B6E880",
           "#FF97FF",
           "#FECB52"
          ],
          "font": {
           "color": "#2a3f5f"
          },
          "geo": {
           "bgcolor": "white",
           "lakecolor": "white",
           "landcolor": "white",
           "showlakes": true,
           "showland": true,
           "subunitcolor": "#C8D4E3"
          },
          "hoverlabel": {
           "align": "left"
          },
          "hovermode": "closest",
          "mapbox": {
           "style": "light"
          },
          "paper_bgcolor": "white",
          "plot_bgcolor": "white",
          "polar": {
           "angularaxis": {
            "gridcolor": "#EBF0F8",
            "linecolor": "#EBF0F8",
            "ticks": ""
           },
           "bgcolor": "white",
           "radialaxis": {
            "gridcolor": "#EBF0F8",
            "linecolor": "#EBF0F8",
            "ticks": ""
           }
          },
          "scene": {
           "xaxis": {
            "backgroundcolor": "white",
            "gridcolor": "#DFE8F3",
            "gridwidth": 2,
            "linecolor": "#EBF0F8",
            "showbackground": true,
            "ticks": "",
            "zerolinecolor": "#EBF0F8"
           },
           "yaxis": {
            "backgroundcolor": "white",
            "gridcolor": "#DFE8F3",
            "gridwidth": 2,
            "linecolor": "#EBF0F8",
            "showbackground": true,
            "ticks": "",
            "zerolinecolor": "#EBF0F8"
           },
           "zaxis": {
            "backgroundcolor": "white",
            "gridcolor": "#DFE8F3",
            "gridwidth": 2,
            "linecolor": "#EBF0F8",
            "showbackground": true,
            "ticks": "",
            "zerolinecolor": "#EBF0F8"
           }
          },
          "shapedefaults": {
           "line": {
            "color": "#2a3f5f"
           }
          },
          "ternary": {
           "aaxis": {
            "gridcolor": "#DFE8F3",
            "linecolor": "#A2B1C6",
            "ticks": ""
           },
           "baxis": {
            "gridcolor": "#DFE8F3",
            "linecolor": "#A2B1C6",
            "ticks": ""
           },
           "bgcolor": "white",
           "caxis": {
            "gridcolor": "#DFE8F3",
            "linecolor": "#A2B1C6",
            "ticks": ""
           }
          },
          "title": {
           "x": 0.05
          },
          "xaxis": {
           "automargin": true,
           "gridcolor": "#EBF0F8",
           "linecolor": "#EBF0F8",
           "ticks": "",
           "title": {
            "standoff": 15
           },
           "zerolinecolor": "#EBF0F8",
           "zerolinewidth": 2
          },
          "yaxis": {
           "automargin": true,
           "gridcolor": "#EBF0F8",
           "linecolor": "#EBF0F8",
           "ticks": "",
           "title": {
            "standoff": 15
           },
           "zerolinecolor": "#EBF0F8",
           "zerolinewidth": 2
          }
         }
        },
        "title": {
         "font": {
          "color": "black",
          "size": 20
         },
         "text": "Heatmap of Sales Difference Across Regions",
         "x": 0.5
        },
        "width": 1000,
        "xaxis": {
         "side": "bottom",
         "tickangle": 45,
         "tickfont": {
          "color": "black",
          "size": 12
         },
         "title": {
          "font": {
           "color": "black",
           "size": 16
          },
          "text": "Segment"
         }
        },
        "yaxis": {
         "tickfont": {
          "color": "black",
          "size": 12
         },
         "title": {
          "font": {
           "color": "black",
           "size": 16
          },
          "text": "Country"
         }
        }
       }
      }
     },
     "metadata": {},
     "output_type": "display_data"
    }
   ],
   "source": [
    "fig = go.Figure(data=go.Heatmap(\n",
    "    z=regional_sales.values,\n",
    "    x=regional_sales.columns,\n",
    "    y=regional_sales.index,\n",
    "    colorscale=[[0, 'red'], [0.5, 'white'], [1, 'green']],\n",
    "    text=regional_sales.values,\n",
    "    texttemplate=\"%{text:,}\",\n",
    "    textfont=dict(size=12, color=\"black\"),\n",
    "    colorbar=dict(\n",
    "        title=dict(\n",
    "            text=\"Total Sales\",\n",
    "            font=dict(size=14, color=\"black\")\n",
    "        ),\n",
    "        tickfont=dict(size=12, color=\"black\"),\n",
    "        thickness=20,\n",
    "        len=0.5\n",
    "    ),\n",
    "    zmid=regional_sales.values.mean()\n",
    "))\n",
    "\n",
    "fig.update_layout(\n",
    "    title=dict(\n",
    "        text=\"Heatmap of Sales Difference Across Regions\",\n",
    "        font=dict(size=20, color=\"black\"),\n",
    "        x=0.5\n",
    "    ),\n",
    "    xaxis=dict(\n",
    "        title=dict(\n",
    "            text=\"Segment\",\n",
    "            font=dict(size=16, color=\"black\")\n",
    "        ),\n",
    "        tickangle=45,\n",
    "        tickfont=dict(size=12, color=\"black\"),\n",
    "        side=\"bottom\"\n",
    "    ),\n",
    "    yaxis=dict(\n",
    "        title=dict(\n",
    "            text=\"Country\",\n",
    "            font=dict(size=16, color=\"black\")\n",
    "        ),\n",
    "        tickfont=dict(size=12, color=\"black\")\n",
    "    ),\n",
    "    template=\"plotly_white\",\n",
    "    width=1000,\n",
    "    height=700,\n",
    "    margin=dict(l=120, r=20, t=70, b=70)\n",
    ")\n",
    "\n",
    "fig.show()"
   ]
  },
  {
   "cell_type": "markdown",
   "metadata": {},
   "source": [
    "Government and Small Business are the market segments that generate the most sales, regardless of the country. On the contrary, Channel Partners and Midmarket are the ones with the least sales."
   ]
  },
  {
   "cell_type": "markdown",
   "metadata": {},
   "source": [
    "- Top-selling products using visualization charts (pie chart or bar chart)"
   ]
  },
  {
   "cell_type": "code",
   "execution_count": 30,
   "metadata": {},
   "outputs": [],
   "source": [
    "product_sales = df.groupby('Product')['Sales'].sum().sort_values(ascending=False)"
   ]
  },
  {
   "cell_type": "code",
   "execution_count": 31,
   "metadata": {},
   "outputs": [
    {
     "data": {
      "application/vnd.plotly.v1+json": {
       "config": {
        "plotlyServerURL": "https://plot.ly"
       },
       "data": [
        {
         "hoverinfo": "label+percent",
         "labels": [
          " Carretera ",
          " Carretera ",
          " Carretera ",
          " Carretera ",
          " Carretera ",
          " Carretera ",
          " Montana ",
          " Montana ",
          " Montana ",
          " Montana ",
          " Montana ",
          " Montana ",
          " Montana ",
          " Montana ",
          " Montana ",
          " Montana ",
          " Paseo ",
          " Paseo ",
          " Paseo ",
          " Paseo ",
          " Paseo ",
          " Paseo ",
          " Paseo ",
          " Paseo ",
          " Paseo ",
          " Paseo ",
          " Paseo ",
          " Paseo ",
          " Paseo ",
          " Paseo ",
          " Paseo ",
          " Velo ",
          " Velo ",
          " Velo ",
          " Velo ",
          " Velo ",
          " Velo ",
          " Velo ",
          " VTT ",
          " VTT ",
          " VTT ",
          " VTT ",
          " VTT ",
          " VTT ",
          " VTT ",
          " Amarilla ",
          " Amarilla ",
          " Amarilla ",
          " Amarilla ",
          " Amarilla ",
          " Amarilla ",
          " Amarilla ",
          " Amarilla ",
          " Paseo ",
          " Paseo ",
          " Paseo ",
          " Velo ",
          " VTT ",
          " Carretera ",
          " Carretera ",
          " Carretera ",
          " Carretera ",
          " Carretera ",
          " Carretera ",
          " Carretera ",
          " Carretera ",
          " Carretera ",
          " Carretera ",
          " Montana ",
          " Montana ",
          " Montana ",
          " Montana ",
          " Montana ",
          " Montana ",
          " Paseo ",
          " Paseo ",
          " Paseo ",
          " Paseo ",
          " Paseo ",
          " Paseo ",
          " Paseo ",
          " Paseo ",
          " Paseo ",
          " Velo ",
          " Velo ",
          " Velo ",
          " Velo ",
          " Velo ",
          " VTT ",
          " VTT ",
          " VTT ",
          " VTT ",
          " VTT ",
          " VTT ",
          " VTT ",
          " VTT ",
          " Amarilla ",
          " Amarilla ",
          " Carretera ",
          " Carretera ",
          " Carretera ",
          " Carretera ",
          " Carretera ",
          " Montana ",
          " Montana ",
          " Montana ",
          " Montana ",
          " Paseo ",
          " Paseo ",
          " Paseo ",
          " Paseo ",
          " Paseo ",
          " Paseo ",
          " Paseo ",
          " Paseo ",
          " Paseo ",
          " Paseo ",
          " Paseo ",
          " Paseo ",
          " Paseo ",
          " Paseo ",
          " Paseo ",
          " Paseo ",
          " Velo ",
          " Velo ",
          " Velo ",
          " Velo ",
          " Velo ",
          " Velo ",
          " Velo ",
          " Velo ",
          " VTT ",
          " VTT ",
          " VTT ",
          " VTT ",
          " VTT ",
          " VTT ",
          " Amarilla ",
          " Amarilla ",
          " Amarilla ",
          " Amarilla ",
          " Amarilla ",
          " Amarilla ",
          " Amarilla ",
          " Carretera ",
          " Carretera ",
          " Carretera ",
          " Carretera ",
          " Carretera ",
          " Montana ",
          " Montana ",
          " Montana ",
          " Montana ",
          " Montana ",
          " Montana ",
          " Paseo ",
          " Paseo ",
          " Paseo ",
          " Paseo ",
          " Paseo ",
          " Paseo ",
          " Paseo ",
          " Paseo ",
          " Paseo ",
          " Paseo ",
          " Velo ",
          " VTT ",
          " VTT ",
          " VTT ",
          " VTT ",
          " VTT ",
          " VTT ",
          " Carretera ",
          " Paseo ",
          " Velo ",
          " VTT ",
          " Montana ",
          " Paseo ",
          " Paseo ",
          " Velo ",
          " Carretera ",
          " Carretera ",
          " Carretera ",
          " Montana ",
          " Montana ",
          " Montana ",
          " Montana ",
          " Montana ",
          " Paseo ",
          " Paseo ",
          " Paseo ",
          " Paseo ",
          " Paseo ",
          " Paseo ",
          " Paseo ",
          " Paseo ",
          " Paseo ",
          " Paseo ",
          " Paseo ",
          " Paseo ",
          " Paseo ",
          " Velo ",
          " Velo ",
          " Velo ",
          " VTT ",
          " VTT ",
          " VTT ",
          " VTT ",
          " Amarilla ",
          " Amarilla ",
          " Amarilla ",
          " Amarilla ",
          " Amarilla ",
          " Montana ",
          " Paseo ",
          " Paseo ",
          " Paseo ",
          " Paseo ",
          " Velo ",
          " VTT ",
          " Amarilla ",
          " Amarilla ",
          " Amarilla ",
          " Carretera ",
          " Carretera ",
          " Carretera ",
          " Carretera ",
          " Carretera ",
          " Carretera ",
          " Carretera ",
          " Carretera ",
          " Montana ",
          " Montana ",
          " Montana ",
          " Montana ",
          " Montana ",
          " Paseo ",
          " Paseo ",
          " Paseo ",
          " Paseo ",
          " Paseo ",
          " Paseo ",
          " Paseo ",
          " Paseo ",
          " Paseo ",
          " Paseo ",
          " Paseo ",
          " Paseo ",
          " Paseo ",
          " Paseo ",
          " Paseo ",
          " Paseo ",
          " Velo ",
          " Velo ",
          " Velo ",
          " Velo ",
          " Velo ",
          " Velo ",
          " Velo ",
          " Velo ",
          " Velo ",
          " Velo ",
          " VTT ",
          " VTT ",
          " VTT ",
          " VTT ",
          " VTT ",
          " VTT ",
          " Amarilla ",
          " Amarilla ",
          " Amarilla ",
          " Amarilla ",
          " Paseo ",
          " Carretera ",
          " Carretera ",
          " Carretera ",
          " Carretera ",
          " Carretera ",
          " Carretera ",
          " Carretera ",
          " Montana ",
          " Montana ",
          " Montana ",
          " Montana ",
          " Paseo ",
          " Paseo ",
          " Paseo ",
          " Velo ",
          " Velo ",
          " Velo ",
          " Velo ",
          " Velo ",
          " Velo ",
          " Velo ",
          " VTT ",
          " VTT ",
          " VTT ",
          " VTT ",
          " VTT ",
          " Amarilla ",
          " Amarilla ",
          " Amarilla ",
          " Amarilla ",
          " Amarilla ",
          " Montana ",
          " Paseo ",
          " Paseo ",
          " Paseo ",
          " Paseo ",
          " Velo ",
          " Velo ",
          " VTT ",
          " Carretera ",
          " Carretera ",
          " Carretera ",
          " Montana ",
          " Montana ",
          " Paseo ",
          " Velo ",
          " Velo ",
          " Velo ",
          " Velo ",
          " VTT ",
          " VTT ",
          " VTT ",
          " Amarilla ",
          " Carretera ",
          " Carretera ",
          " Carretera ",
          " Montana ",
          " Montana ",
          " Montana ",
          " Paseo ",
          " Paseo ",
          " Paseo ",
          " Paseo ",
          " Paseo ",
          " Paseo ",
          " Paseo ",
          " Paseo ",
          " Paseo ",
          " Paseo ",
          " Velo ",
          " Velo ",
          " Velo ",
          " Velo ",
          " Velo ",
          " Velo ",
          " Velo ",
          " VTT ",
          " VTT ",
          " VTT ",
          " Amarilla ",
          " Amarilla ",
          " Amarilla ",
          " Amarilla ",
          " Amarilla ",
          " Montana ",
          " Montana ",
          " Paseo ",
          " Amarilla ",
          " Carretera ",
          " Carretera ",
          " Carretera ",
          " Montana ",
          " Montana ",
          " Montana ",
          " Montana ",
          " Montana ",
          " Montana ",
          " Paseo ",
          " Paseo ",
          " Paseo ",
          " Paseo ",
          " Paseo ",
          " Paseo ",
          " Paseo ",
          " Paseo ",
          " Paseo ",
          " Paseo ",
          " Paseo ",
          " Paseo ",
          " Paseo ",
          " Velo ",
          " Velo ",
          " Velo ",
          " Velo ",
          " Velo ",
          " VTT ",
          " VTT ",
          " VTT ",
          " VTT ",
          " VTT ",
          " VTT ",
          " Amarilla ",
          " Amarilla ",
          " Amarilla ",
          " Amarilla ",
          " Amarilla ",
          " Amarilla ",
          " Amarilla ",
          " Amarilla ",
          " VTT ",
          " Carretera ",
          " Carretera ",
          " Montana ",
          " Montana ",
          " Montana ",
          " Montana ",
          " Montana ",
          " Montana ",
          " Montana ",
          " Montana ",
          " Paseo ",
          " Paseo ",
          " Paseo ",
          " Paseo ",
          " Paseo ",
          " Paseo ",
          " Paseo ",
          " Paseo ",
          " Paseo ",
          " Velo ",
          " Velo ",
          " Velo ",
          " Velo ",
          " Velo ",
          " Velo ",
          " VTT ",
          " VTT ",
          " VTT ",
          " VTT ",
          " VTT ",
          " VTT ",
          " VTT ",
          " VTT ",
          " Amarilla ",
          " Amarilla ",
          " Amarilla ",
          " Amarilla ",
          " Carretera ",
          " Carretera ",
          " Carretera ",
          " Carretera ",
          " Paseo ",
          " Paseo ",
          " Paseo ",
          " Velo ",
          " Velo ",
          " VTT ",
          " VTT ",
          " VTT ",
          " Amarilla ",
          " Amarilla ",
          " Amarilla ",
          " Carretera ",
          " Montana ",
          " Paseo ",
          " Carretera ",
          " Carretera ",
          " Montana ",
          " Montana ",
          " Montana ",
          " Paseo ",
          " Paseo ",
          " Paseo ",
          " Paseo ",
          " Velo ",
          " Velo ",
          " Velo ",
          " Velo ",
          " Velo ",
          " Velo ",
          " Velo ",
          " Velo ",
          " Velo ",
          " Velo ",
          " VTT ",
          " VTT ",
          " VTT ",
          " VTT ",
          " VTT ",
          " VTT ",
          " VTT ",
          " VTT ",
          " Amarilla ",
          " Amarilla ",
          " Amarilla ",
          " Amarilla ",
          " Amarilla ",
          " Amarilla ",
          " Amarilla ",
          " Amarilla ",
          " Amarilla ",
          " Carretera ",
          " Paseo ",
          " Paseo ",
          " Velo ",
          " Velo ",
          " VTT ",
          " VTT ",
          " Amarilla ",
          " Amarilla ",
          " Carretera ",
          " Carretera ",
          " Carretera ",
          " Carretera ",
          " Carretera ",
          " Carretera ",
          " Montana ",
          " Montana ",
          " Montana ",
          " Paseo ",
          " Paseo ",
          " Paseo ",
          " Paseo ",
          " Paseo ",
          " Paseo ",
          " Paseo ",
          " Paseo ",
          " Paseo ",
          " Paseo ",
          " Velo ",
          " Velo ",
          " Velo ",
          " Velo ",
          " VTT ",
          " VTT ",
          " VTT ",
          " Amarilla ",
          " Amarilla ",
          " Amarilla ",
          " Amarilla ",
          " Amarilla ",
          " Amarilla ",
          " Paseo ",
          " Carretera ",
          " Carretera ",
          " Carretera ",
          " Carretera ",
          " Montana ",
          " Montana ",
          " Montana ",
          " Montana ",
          " Montana ",
          " Montana ",
          " Paseo ",
          " Paseo ",
          " Paseo ",
          " Paseo ",
          " Paseo ",
          " Paseo ",
          " Paseo ",
          " Paseo ",
          " Paseo ",
          " Paseo ",
          " Paseo ",
          " Velo ",
          " Velo ",
          " Velo ",
          " VTT ",
          " VTT ",
          " VTT ",
          " VTT ",
          " VTT ",
          " VTT ",
          " Amarilla ",
          " Amarilla ",
          " Amarilla ",
          " Amarilla ",
          " Carretera ",
          " Montana ",
          " Paseo ",
          " VTT ",
          " VTT ",
          " Amarilla ",
          " Carretera ",
          " VTT ",
          " Carretera ",
          " Carretera ",
          " Carretera ",
          " Montana ",
          " Montana ",
          " Montana ",
          " Montana ",
          " Montana ",
          " Paseo ",
          " Paseo ",
          " Paseo ",
          " Paseo ",
          " Paseo ",
          " Paseo ",
          " Paseo ",
          " Paseo ",
          " Paseo ",
          " Paseo ",
          " Paseo ",
          " Paseo ",
          " Velo ",
          " Velo ",
          " Velo ",
          " Velo ",
          " Velo ",
          " Velo ",
          " Velo ",
          " Velo ",
          " VTT ",
          " VTT ",
          " Amarilla ",
          " Amarilla ",
          " Amarilla ",
          " Amarilla ",
          " Carretera ",
          " Carretera ",
          " Carretera ",
          " Carretera ",
          " Montana ",
          " Montana ",
          " Paseo ",
          " Paseo ",
          " Paseo ",
          " Paseo ",
          " VTT ",
          " Amarilla ",
          " Amarilla ",
          " Carretera ",
          " Carretera ",
          " Carretera ",
          " Carretera ",
          " Carretera ",
          " Carretera ",
          " Carretera ",
          " Montana ",
          " Montana ",
          " Montana ",
          " Montana ",
          " Montana ",
          " Montana ",
          " Paseo ",
          " Paseo ",
          " Paseo ",
          " Paseo ",
          " Paseo ",
          " Paseo ",
          " Paseo ",
          " Paseo ",
          " Paseo ",
          " Velo ",
          " Velo ",
          " Velo ",
          " Velo ",
          " Velo ",
          " VTT ",
          " VTT ",
          " VTT ",
          " VTT ",
          " VTT ",
          " VTT ",
          " Amarilla ",
          " Amarilla ",
          " Amarilla ",
          " Amarilla ",
          " Amarilla ",
          " Amarilla ",
          " Amarilla ",
          " Amarilla ",
          " Carretera ",
          " Carretera ",
          " Carretera ",
          " Montana ",
          " Paseo ",
          " Paseo ",
          " Paseo ",
          " Paseo ",
          " Paseo ",
          " Paseo ",
          " Paseo ",
          " Paseo ",
          " Paseo ",
          " Paseo ",
          " Paseo ",
          " Paseo ",
          " Velo ",
          " Velo ",
          " Velo ",
          " Velo ",
          " Velo ",
          " Velo ",
          " VTT ",
          " VTT ",
          " VTT ",
          " VTT ",
          " VTT ",
          " VTT ",
          " VTT ",
          " Amarilla ",
          " Amarilla ",
          " Montana ",
          " Paseo ",
          " VTT "
         ],
         "marker": {
          "colors": [
           "rgb(102, 197, 204)",
           "rgb(246, 207, 113)",
           "rgb(248, 156, 116)",
           "rgb(220, 176, 242)",
           "rgb(135, 197, 95)",
           "rgb(158, 185, 243)",
           "rgb(254, 136, 177)",
           "rgb(201, 219, 116)",
           "rgb(139, 224, 164)",
           "rgb(180, 151, 231)",
           "rgb(179, 179, 179)"
          ],
          "line": {
           "color": "white",
           "width": 2
          }
         },
         "textfont": {
          "size": 16
         },
         "textinfo": "percent+label",
         "type": "pie",
         "values": {
          "bdata": "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",
          "dtype": "i4"
         }
        }
       ],
       "layout": {
        "height": 800,
        "showlegend": true,
        "template": {
         "data": {
          "bar": [
           {
            "error_x": {
             "color": "#2a3f5f"
            },
            "error_y": {
             "color": "#2a3f5f"
            },
            "marker": {
             "line": {
              "color": "white",
              "width": 0.5
             },
             "pattern": {
              "fillmode": "overlay",
              "size": 10,
              "solidity": 0.2
             }
            },
            "type": "bar"
           }
          ],
          "barpolar": [
           {
            "marker": {
             "line": {
              "color": "white",
              "width": 0.5
             },
             "pattern": {
              "fillmode": "overlay",
              "size": 10,
              "solidity": 0.2
             }
            },
            "type": "barpolar"
           }
          ],
          "carpet": [
           {
            "aaxis": {
             "endlinecolor": "#2a3f5f",
             "gridcolor": "#C8D4E3",
             "linecolor": "#C8D4E3",
             "minorgridcolor": "#C8D4E3",
             "startlinecolor": "#2a3f5f"
            },
            "baxis": {
             "endlinecolor": "#2a3f5f",
             "gridcolor": "#C8D4E3",
             "linecolor": "#C8D4E3",
             "minorgridcolor": "#C8D4E3",
             "startlinecolor": "#2a3f5f"
            },
            "type": "carpet"
           }
          ],
          "choropleth": [
           {
            "colorbar": {
             "outlinewidth": 0,
             "ticks": ""
            },
            "type": "choropleth"
           }
          ],
          "contour": [
           {
            "colorbar": {
             "outlinewidth": 0,
             "ticks": ""
            },
            "colorscale": [
             [
              0,
              "#0d0887"
             ],
             [
              0.1111111111111111,
              "#46039f"
             ],
             [
              0.2222222222222222,
              "#7201a8"
             ],
             [
              0.3333333333333333,
              "#9c179e"
             ],
             [
              0.4444444444444444,
              "#bd3786"
             ],
             [
              0.5555555555555556,
              "#d8576b"
             ],
             [
              0.6666666666666666,
              "#ed7953"
             ],
             [
              0.7777777777777778,
              "#fb9f3a"
             ],
             [
              0.8888888888888888,
              "#fdca26"
             ],
             [
              1,
              "#f0f921"
             ]
            ],
            "type": "contour"
           }
          ],
          "contourcarpet": [
           {
            "colorbar": {
             "outlinewidth": 0,
             "ticks": ""
            },
            "type": "contourcarpet"
           }
          ],
          "heatmap": [
           {
            "colorbar": {
             "outlinewidth": 0,
             "ticks": ""
            },
            "colorscale": [
             [
              0,
              "#0d0887"
             ],
             [
              0.1111111111111111,
              "#46039f"
             ],
             [
              0.2222222222222222,
              "#7201a8"
             ],
             [
              0.3333333333333333,
              "#9c179e"
             ],
             [
              0.4444444444444444,
              "#bd3786"
             ],
             [
              0.5555555555555556,
              "#d8576b"
             ],
             [
              0.6666666666666666,
              "#ed7953"
             ],
             [
              0.7777777777777778,
              "#fb9f3a"
             ],
             [
              0.8888888888888888,
              "#fdca26"
             ],
             [
              1,
              "#f0f921"
             ]
            ],
            "type": "heatmap"
           }
          ],
          "histogram": [
           {
            "marker": {
             "pattern": {
              "fillmode": "overlay",
              "size": 10,
              "solidity": 0.2
             }
            },
            "type": "histogram"
           }
          ],
          "histogram2d": [
           {
            "colorbar": {
             "outlinewidth": 0,
             "ticks": ""
            },
            "colorscale": [
             [
              0,
              "#0d0887"
             ],
             [
              0.1111111111111111,
              "#46039f"
             ],
             [
              0.2222222222222222,
              "#7201a8"
             ],
             [
              0.3333333333333333,
              "#9c179e"
             ],
             [
              0.4444444444444444,
              "#bd3786"
             ],
             [
              0.5555555555555556,
              "#d8576b"
             ],
             [
              0.6666666666666666,
              "#ed7953"
             ],
             [
              0.7777777777777778,
              "#fb9f3a"
             ],
             [
              0.8888888888888888,
              "#fdca26"
             ],
             [
              1,
              "#f0f921"
             ]
            ],
            "type": "histogram2d"
           }
          ],
          "histogram2dcontour": [
           {
            "colorbar": {
             "outlinewidth": 0,
             "ticks": ""
            },
            "colorscale": [
             [
              0,
              "#0d0887"
             ],
             [
              0.1111111111111111,
              "#46039f"
             ],
             [
              0.2222222222222222,
              "#7201a8"
             ],
             [
              0.3333333333333333,
              "#9c179e"
             ],
             [
              0.4444444444444444,
              "#bd3786"
             ],
             [
              0.5555555555555556,
              "#d8576b"
             ],
             [
              0.6666666666666666,
              "#ed7953"
             ],
             [
              0.7777777777777778,
              "#fb9f3a"
             ],
             [
              0.8888888888888888,
              "#fdca26"
             ],
             [
              1,
              "#f0f921"
             ]
            ],
            "type": "histogram2dcontour"
           }
          ],
          "mesh3d": [
           {
            "colorbar": {
             "outlinewidth": 0,
             "ticks": ""
            },
            "type": "mesh3d"
           }
          ],
          "parcoords": [
           {
            "line": {
             "colorbar": {
              "outlinewidth": 0,
              "ticks": ""
             }
            },
            "type": "parcoords"
           }
          ],
          "pie": [
           {
            "automargin": true,
            "type": "pie"
           }
          ],
          "scatter": [
           {
            "fillpattern": {
             "fillmode": "overlay",
             "size": 10,
             "solidity": 0.2
            },
            "type": "scatter"
           }
          ],
          "scatter3d": [
           {
            "line": {
             "colorbar": {
              "outlinewidth": 0,
              "ticks": ""
             }
            },
            "marker": {
             "colorbar": {
              "outlinewidth": 0,
              "ticks": ""
             }
            },
            "type": "scatter3d"
           }
          ],
          "scattercarpet": [
           {
            "marker": {
             "colorbar": {
              "outlinewidth": 0,
              "ticks": ""
             }
            },
            "type": "scattercarpet"
           }
          ],
          "scattergeo": [
           {
            "marker": {
             "colorbar": {
              "outlinewidth": 0,
              "ticks": ""
             }
            },
            "type": "scattergeo"
           }
          ],
          "scattergl": [
           {
            "marker": {
             "colorbar": {
              "outlinewidth": 0,
              "ticks": ""
             }
            },
            "type": "scattergl"
           }
          ],
          "scattermap": [
           {
            "marker": {
             "colorbar": {
              "outlinewidth": 0,
              "ticks": ""
             }
            },
            "type": "scattermap"
           }
          ],
          "scattermapbox": [
           {
            "marker": {
             "colorbar": {
              "outlinewidth": 0,
              "ticks": ""
             }
            },
            "type": "scattermapbox"
           }
          ],
          "scatterpolar": [
           {
            "marker": {
             "colorbar": {
              "outlinewidth": 0,
              "ticks": ""
             }
            },
            "type": "scatterpolar"
           }
          ],
          "scatterpolargl": [
           {
            "marker": {
             "colorbar": {
              "outlinewidth": 0,
              "ticks": ""
             }
            },
            "type": "scatterpolargl"
           }
          ],
          "scatterternary": [
           {
            "marker": {
             "colorbar": {
              "outlinewidth": 0,
              "ticks": ""
             }
            },
            "type": "scatterternary"
           }
          ],
          "surface": [
           {
            "colorbar": {
             "outlinewidth": 0,
             "ticks": ""
            },
            "colorscale": [
             [
              0,
              "#0d0887"
             ],
             [
              0.1111111111111111,
              "#46039f"
             ],
             [
              0.2222222222222222,
              "#7201a8"
             ],
             [
              0.3333333333333333,
              "#9c179e"
             ],
             [
              0.4444444444444444,
              "#bd3786"
             ],
             [
              0.5555555555555556,
              "#d8576b"
             ],
             [
              0.6666666666666666,
              "#ed7953"
             ],
             [
              0.7777777777777778,
              "#fb9f3a"
             ],
             [
              0.8888888888888888,
              "#fdca26"
             ],
             [
              1,
              "#f0f921"
             ]
            ],
            "type": "surface"
           }
          ],
          "table": [
           {
            "cells": {
             "fill": {
              "color": "#EBF0F8"
             },
             "line": {
              "color": "white"
             }
            },
            "header": {
             "fill": {
              "color": "#C8D4E3"
             },
             "line": {
              "color": "white"
             }
            },
            "type": "table"
           }
          ]
         },
         "layout": {
          "annotationdefaults": {
           "arrowcolor": "#2a3f5f",
           "arrowhead": 0,
           "arrowwidth": 1
          },
          "autotypenumbers": "strict",
          "coloraxis": {
           "colorbar": {
            "outlinewidth": 0,
            "ticks": ""
           }
          },
          "colorscale": {
           "diverging": [
            [
             0,
             "#8e0152"
            ],
            [
             0.1,
             "#c51b7d"
            ],
            [
             0.2,
             "#de77ae"
            ],
            [
             0.3,
             "#f1b6da"
            ],
            [
             0.4,
             "#fde0ef"
            ],
            [
             0.5,
             "#f7f7f7"
            ],
            [
             0.6,
             "#e6f5d0"
            ],
            [
             0.7,
             "#b8e186"
            ],
            [
             0.8,
             "#7fbc41"
            ],
            [
             0.9,
             "#4d9221"
            ],
            [
             1,
             "#276419"
            ]
           ],
           "sequential": [
            [
             0,
             "#0d0887"
            ],
            [
             0.1111111111111111,
             "#46039f"
            ],
            [
             0.2222222222222222,
             "#7201a8"
            ],
            [
             0.3333333333333333,
             "#9c179e"
            ],
            [
             0.4444444444444444,
             "#bd3786"
            ],
            [
             0.5555555555555556,
             "#d8576b"
            ],
            [
             0.6666666666666666,
             "#ed7953"
            ],
            [
             0.7777777777777778,
             "#fb9f3a"
            ],
            [
             0.8888888888888888,
             "#fdca26"
            ],
            [
             1,
             "#f0f921"
            ]
           ],
           "sequentialminus": [
            [
             0,
             "#0d0887"
            ],
            [
             0.1111111111111111,
             "#46039f"
            ],
            [
             0.2222222222222222,
             "#7201a8"
            ],
            [
             0.3333333333333333,
             "#9c179e"
            ],
            [
             0.4444444444444444,
             "#bd3786"
            ],
            [
             0.5555555555555556,
             "#d8576b"
            ],
            [
             0.6666666666666666,
             "#ed7953"
            ],
            [
             0.7777777777777778,
             "#fb9f3a"
            ],
            [
             0.8888888888888888,
             "#fdca26"
            ],
            [
             1,
             "#f0f921"
            ]
           ]
          },
          "colorway": [
           "#636efa",
           "#EF553B",
           "#00cc96",
           "#ab63fa",
           "#FFA15A",
           "#19d3f3",
           "#FF6692",
           "#B6E880",
           "#FF97FF",
           "#FECB52"
          ],
          "font": {
           "color": "#2a3f5f"
          },
          "geo": {
           "bgcolor": "white",
           "lakecolor": "white",
           "landcolor": "white",
           "showlakes": true,
           "showland": true,
           "subunitcolor": "#C8D4E3"
          },
          "hoverlabel": {
           "align": "left"
          },
          "hovermode": "closest",
          "mapbox": {
           "style": "light"
          },
          "paper_bgcolor": "white",
          "plot_bgcolor": "white",
          "polar": {
           "angularaxis": {
            "gridcolor": "#EBF0F8",
            "linecolor": "#EBF0F8",
            "ticks": ""
           },
           "bgcolor": "white",
           "radialaxis": {
            "gridcolor": "#EBF0F8",
            "linecolor": "#EBF0F8",
            "ticks": ""
           }
          },
          "scene": {
           "xaxis": {
            "backgroundcolor": "white",
            "gridcolor": "#DFE8F3",
            "gridwidth": 2,
            "linecolor": "#EBF0F8",
            "showbackground": true,
            "ticks": "",
            "zerolinecolor": "#EBF0F8"
           },
           "yaxis": {
            "backgroundcolor": "white",
            "gridcolor": "#DFE8F3",
            "gridwidth": 2,
            "linecolor": "#EBF0F8",
            "showbackground": true,
            "ticks": "",
            "zerolinecolor": "#EBF0F8"
           },
           "zaxis": {
            "backgroundcolor": "white",
            "gridcolor": "#DFE8F3",
            "gridwidth": 2,
            "linecolor": "#EBF0F8",
            "showbackground": true,
            "ticks": "",
            "zerolinecolor": "#EBF0F8"
           }
          },
          "shapedefaults": {
           "line": {
            "color": "#2a3f5f"
           }
          },
          "ternary": {
           "aaxis": {
            "gridcolor": "#DFE8F3",
            "linecolor": "#A2B1C6",
            "ticks": ""
           },
           "baxis": {
            "gridcolor": "#DFE8F3",
            "linecolor": "#A2B1C6",
            "ticks": ""
           },
           "bgcolor": "white",
           "caxis": {
            "gridcolor": "#DFE8F3",
            "linecolor": "#A2B1C6",
            "ticks": ""
           }
          },
          "title": {
           "x": 0.05
          },
          "xaxis": {
           "automargin": true,
           "gridcolor": "#EBF0F8",
           "linecolor": "#EBF0F8",
           "ticks": "",
           "title": {
            "standoff": 15
           },
           "zerolinecolor": "#EBF0F8",
           "zerolinewidth": 2
          },
          "yaxis": {
           "automargin": true,
           "gridcolor": "#EBF0F8",
           "linecolor": "#EBF0F8",
           "ticks": "",
           "title": {
            "standoff": 15
           },
           "zerolinecolor": "#EBF0F8",
           "zerolinewidth": 2
          }
         }
        },
        "title": {
         "font": {
          "size": 20
         },
         "text": "Top-Selling Products",
         "x": 0.5
        },
        "width": 1000
       }
      }
     },
     "metadata": {},
     "output_type": "display_data"
    }
   ],
   "source": [
    "fig = go.Figure(data=[go.Pie(\n",
    "    labels=df['Product'],\n",
    "    values=df['Sales'],\n",
    "    hoverinfo='label+percent',\n",
    "    textinfo='percent+label',\n",
    "    textfont_size=16,\n",
    "    marker=dict(colors=px.colors.qualitative.Pastel, line=dict(color='white', width=2))\n",
    ")])\n",
    "\n",
    "fig.update_layout(\n",
    "    title=dict(\n",
    "        text=\"Top-Selling Products\",\n",
    "        font=dict(size=20),\n",
    "        x=0.5\n",
    "    ),\n",
    "    template='plotly_white',\n",
    "    showlegend=True,\n",
    "    width=1000,\n",
    "    height=800\n",
    ")\n",
    "\n",
    "fig.show()"
   ]
  },
  {
   "cell_type": "markdown",
   "metadata": {},
   "source": [
    "The everyday bike, the Paseo, is the best-selling product. The other types of bicycles have a very similar market share, although the VTT (all-terrain bicycle) is slightly more sold than the others."
   ]
  },
  {
   "cell_type": "markdown",
   "metadata": {},
   "source": [
    "- Relationship between discounts and sales or profits using a scatter plot or by creating a linear model regression"
   ]
  },
  {
   "cell_type": "code",
   "execution_count": 32,
   "metadata": {},
   "outputs": [
    {
     "data": {
      "application/vnd.plotly.v1+json": {
       "config": {
        "plotlyServerURL": "https://plot.ly"
       },
       "data": [
        {
         "hovertemplate": "Country=Canada<br>Discounts=%{x}<br>Sales=%{y}<extra></extra>",
         "legendgroup": "Canada",
         "marker": {
          "color": "#636efa",
          "symbol": "circle"
         },
         "mode": "markers",
         "name": "Canada",
         "orientation": "v",
         "showlegend": true,
         "type": "scatter",
         "x": {
          "bdata": "AAAAAAAAAAAAAAAAAAAAAAAAAAAAAAAAAAAAAAAAAAAAAAAAAAAAAAAAAAAAAAAAXAAAAK0AAACAAAAAgQQAAJIAAADmDAAAQAcAADYBAAD8TQAAxAIAADYBAADoLAAA/E0AAKYaAACmGgAA6CwAAEYBAAD8GQAAbR0AAG0dAADiQQAA8gEAAAYJAAAeAwAAnAQAAB4DAACmBAAAggAAAHsGAABECAAAPGEAADYDAACyBQAAsgUAAPJTAABtBQAACgcAAG0FAAC8JQAA8lMAAP8JAAB3BgAAdwYAAOQbAAD/CQAASKsAAC4GAAAtBQAALAIAAAcDAAAHAwAALAIAAJ6LAAAscwAApQoAADk4AAAdBgAAEQEAAI8AAABsBAAASHgAAD4CAAAQyAAAbAQAAGJzAAALkQEAygkAAPYDAABicwAAGJABAOoYAAAlnAAAJZwAAAMCAACZCAAAjl0AAHx7AABAMgEAgBAAAKlgAAB5AgAA/AkAAA4KAACJcAAAfzwBAMIUAACSFAAAFrAAAHAFAAA5GQAAkI0AAOgSAAD4CAAA3AsAADZmAAD4CAAAhw8AAAykAACvDAAAzNMBAHtkAADrCwAArwwAAMzTAQB7ZAAA6wsAAE5pAACOGgAAcPUAAN4SAABbqgEASCYAAHwBAADeEgAAQxQAAEwOAAD8hQAAlA4AACIsAAAiLAAAcPUAALCRAABMDgAALw4AAH0WAAAkCgAAW9gAAPcCAAA=",
          "dtype": "i4"
         },
         "xaxis": "x",
         "y": {
          "bdata": "cn4AAAh2AACDFQUAdagAANAWAAAIdgAAZjYJABh+AAD0jQAAdagAAOwoCQD0jQAA5SMAAA5DAACJMQAALb4BAKE4AAAK/QQATGMBAH07AAA87Q4AsIcAAH07AABomAgAPO0OAN4ZBQDeGQUAaJgIAEkpAAA5SAMAh7cDAIe3AwA2UggA+T4AAMsjAQDWSgAApG4AANZKAACWbwAAQwwAAIybAABzxgAAoB0JAAQ9AABBbAAAQWwAAPY6BgAXZwAAvoUAABdnAAD0zAIA9joGAKScAABMZQAATGUAAPS0AQCknAAAaHsKACFSAADERAAA3BwAADooAAA6KAAA3BwAAOo+BwAk+gUAcI0AAP/qAgA6UQAARgwAAHcGAADjMgAAPGcFAMkZAAC4/AgA4zIAAKaOBAAC1w8AAWMAABYoAACmjgQAac0PAPD7AADQKgYA0CoGAGEUAADwVgAA/kkDAGBXBABAxAoAhZQAAPFlAwAGFAAAz1AAAFpRAACDjgMAvwAKAPWnAAB1pgAAspAFAP8rAAATzAAAIA4EAKaKAADJQQAA/1YAAIztAgDJQQAA5HEAAN1JBADkVAAApDoMAHegAgDHTwAA5FQAAKQ6DAB3oAIAx08AAMDAAgAhowAAsOMFAOZzAAANOwoAKOsAAB8JAADmcwAAd3wAANRXAAAMNwMAk1kAABoPAQAaDwEAsOMFAPB+AwDUVwAAYlAAAHN/AAB5OQAABsoEAM0QAAA=",
          "dtype": "i4"
         },
         "yaxis": "y"
        },
        {
         "hovertemplate": "Country=Germany<br>Discounts=%{x}<br>Sales=%{y}<extra></extra>",
         "legendgroup": "Germany",
         "marker": {
          "color": "#EF553B",
          "symbol": "circle"
         },
         "mode": "markers",
         "name": "Germany",
         "orientation": "v",
         "showlegend": true,
         "type": "scatter",
         "x": {
          "bdata": "AAAAAAAAAAAAAAAAAAAAAAAAAAAAAAAAAAAAAAAAAAAAAAAAAAAAAAAAAAAAAAAAAAAAAAAAAAAAAAAAAAAAAFsAAABwAAAAWwAAABIAAACOCwAABAUAAIAoAADmBwAAGlEAAKtOAADmBwAABAUAAKtOAAASBgAAOhYAABpRAAAMBgAAORgAAJsBAAC0SQAA/RgAADkYAAD/FgAAawMAAP0YAAD/FgAAawMAAHwDAAC8XgAAJFcAALxeAACHDwAATkIAAEpoAACVAQAA4AEAAJUBAACdAgAAYwEAAH0FAAAzBgAAsxMAAD5JAAD5CAAASVwAAD5JAAD8GQAAxHcAAGEFAAAgBgAAsQQAAEQHAABzVQAAEngAAB9cAAARBAAAVUcAADcDAAD5IQAACAQAAFUDAADBAgAAZQIAAIkIAAB+AwAARQUAABYMAAC46gAAHQUAAB0FAAAoLgAAiQgAAIAJAABVAwAAOiMAAH0HAADSoAAAcRgBALYDAAAdBQAAqQQAAKoGAADiAAAA4gAAAOIBAAD9AwAA/QIAAOIBAABJBwAAqv8AABAMAABvAgAAbwIAABx3AABbagEAM3MAALYZAAC2GQAA/qkAABy/AABaDgAAWg4AAH0EAADxegAAgBsAAHM/AAAsBgAABwUAACwGAADJCgAAEgEAAEcCAAASAQAAaQwAAH/lAAAQoAEAqcoAAHdPAACSDQAAd08AAFMKAABTBAAAUwoAAG4oAAA=",
          "dtype": "i4"
         },
         "xaxis": "x",
         "y": {
          "bdata": "NGcAAAg0AACOFAgA9zUAAGxIAACuOgAAZF8FADQRAACOFAgATGUAAGRfBQBsSAAACIUAAAg0AABNDAgAGi4AAIwjAABUKwAAjCMAAB4HAADqdwQAxPUAAIDABwAegwEA+oUPALsODwAegwEAxPUAALsODwByKQEAGkEEAPqFDwCEwwAAMw8DAO4zAAAhTwkABCgDADMPAwCa5wIAi24AAAQoAwCa5wIAi24AALdwAACg4QgAYCsIAKDhCACodAEAUDcGAPDGCQAbHgAAoyMAABseAACyMQAAZBoAAEpoAADJdQAAV3YBAJpvBQB7qgAAa9kGAJpvBQAelwEAVFQHAEVUAAAAYAAAgkkAAI9gAABBbwQAQjsGAOXHBAAJNgAAtbMDALgqAABgwwEAXC4AAFMmAACrHwAAixsAAC5iAAAzKAAAmTwAAAGLAABEiwoA0DoAANA6AADMEgIALmIAAEBtAABTJgAALmQBALdLAAAXWgYAkxMLAIklAAC4MwAAIi8AAGVDAAD1CAAA9QgAAPIQAADpIwAA5RoAAPIQAACVQQAA+vwIAJdsAACwEwAAsBMAALTDAwDJcwsAEaQDAAnQAAAJ0AAAal8FAHh5BQBBaQAAQWkAAAoeAADDNgMAD7gAAKKoAQBPKQAApSEAAE8pAAAuSAAAlQYAAAIOAACVBgAAPUwAAMOBBQDQ+wkAaXwEAFHCAQDmTAAAUcIBAIU6AACBGAAAhToAABrlAAA=",
          "dtype": "i4"
         },
         "yaxis": "y"
        },
        {
         "hovertemplate": "Country=France<br>Discounts=%{x}<br>Sales=%{y}<extra></extra>",
         "legendgroup": "France",
         "marker": {
          "color": "#00cc96",
          "symbol": "circle"
         },
         "mode": "markers",
         "name": "France",
         "orientation": "v",
         "showlegend": true,
         "type": "scatter",
         "x": {
          "bdata": "AAAAAAAAAAAAAAAAAAAAAAAAAAAAAAAAAAAAAAAAAAAAAAAAFAEAAFgBAABIAAAALAAAAEABAAB2HQAAEwEAANcDAAB2HQAABAMAANcDAACECAAAMAAAACwBAACEFQAArAEAAP0AAAD9AAAAeAEAACk+AACsAgAAcgAAANoSAACWVQAArAIAANoSAABMBQAAXDoAAA53AACfAQAADncAAF8EAAAbBgAAZgMAAKReAAAXBQAAOjoAAK0HAAAwEQAA6wIAACsGAAAwEQAACQQAAGYDAABcDQAATQIAALh6AAC4egAA2lUAAEyqAADaVQAAOjoAAE0CAABMqgAAPAgAADwIAACvBwAA+QEAALQFAADAJAAA6bIAAM4KAADpsgAAwCQAAJ4IAABlCAAAF4gAAM4KAACrTgAAPhMBAEwCAAC5CwAAcJIAADAkAADWPgAArCkAAP/MAAD2IQAAm1EAAHgGAACkiwAAbAkAAHgGAABMCAAA2xIAAEoBAABdSAAAJAwAAEQPAACyDAAAXVcAAPZjAACyDAAAJAwAAPZjAAAtBgAAnQcAAC0GAAAbgwAAgQwAABuDAAAbGAAA8AgAAPdMAABU+QAAyKYAAIQFAQA+GwAAOgsAAKMXAADkBAAAJT4BAJUJAABzHgAAOgQAADoEAAAfAQAAJAkAACQJAADuRQAAoAYAAOJvAQAx9QAAPhAAAKAGAAD8VQAAbwMAANYYAACPMAAAbwMAAA+zAQA=",
          "dtype": "i4"
         },
         "xaxis": "x",
         "y": {
          "bdata": "nn8AAFyUAAArIAAA3HADAJ5/AACyJwgAtNgJAMSvDgBclAAAymoAAC+FAADhGwAATBEAAPN7AADTZAsAYmoAAG98AQDTZAsA2yoBAG98AQAMSwMAnhIAAHo5AABEHgQA/1EAAHYwAAB2MAAAC0gAANzZBwBvVgAAbQ4AAJBhAgBXzwoAb1YAAJBhAgAufwAAoHgFAFApCwD4JgAAUCkLAA1TAAABdAAAmkAAADoGBwC1YAAAUlIEANeRAACQRgEAfDcAADF1AACQRgEAq0wAAJpAAABa0QAADyQAAJiCBwCYggcAAkEFAPxrCgACQQUAO5ADAA8kAAD8awoAB4EAAAeBAAAYZgAANxoAAMlLAABA6AEA80gJAJGPAADzSAkAQOgBAHxyAACHbwAADRAHAJGPAAApFQQAykgOAGoaAADRhgAACJQGACigAQCd0gIAOt8BAL0YCABiVwEAITkDAGxBAADsgwUAS18AAGxBAADnUwAArL4AAA0NAABFiwIARG0AAGSJAABGcgAARRIDAKaDAwBGcgAARG0AAKaDAwD6MQAAnj0AAPoxAADJJAQAMGUAAMkkBAAJwwAAV0gAAL1uAgBoJAcAEMcEAMh9BwDHxwAAVFIAAFqtAADgIwAAH1EIACJAAADHywAATxwAAE8cAADjBgAAJzgAACc4AACUrQEAtCgAANrTCAAt4gUAxmMAALQoAABB5wEAdRMAAL+MAAArEwEAdRMAAFWhCQA=",
          "dtype": "i4"
         },
         "yaxis": "y"
        },
        {
         "hovertemplate": "Country=Mexico<br>Discounts=%{x}<br>Sales=%{y}<extra></extra>",
         "legendgroup": "Mexico",
         "marker": {
          "color": "#ab63fa",
          "symbol": "circle"
         },
         "mode": "markers",
         "name": "Mexico",
         "orientation": "v",
         "showlegend": true,
         "type": "scatter",
         "x": {
          "bdata": "AAAAAAAAAAAAAAAAAAAAAAAAAAAAAAAAAAAAAAAAAACLEAAAygUAABkTAABMAQAA5ggAABkAAADKBQAAGRMAAKUAAAA2EAAAdwYAAPIUAAAEAQAA8hQAANkAAAAEAQAAdwYAAAw1AADOGQAAsQIAAFlDAABxAQAAwgQAAMIEAAA6FgAAjAMAADoWAACMAwAA/mUAAPoUAACtAwAArQMAAE0CAAChAgAALQgAADgxAAB0QAAAKV4AAGEIAACUAQAAZFAAAHUCAAB1AgAAQwUAALuJAAAvAgAAYgIAAAcKAACtBwAAEAkAAFQDAABX4QAAKDwAAPiUAACEKwAAoOYAALQSAABBBAAA+JQAAIg7AACg5gAAKAUAAIg7AACMAQAAhw4BAGcpAQCMAQAASgEAALlcAACKJgAA6QsAAEgBAABMBwAA2w0AAEgBAABMBwAAQkUAAKYQAADBAwAAoDIAAO4PAAAuBQAAIwgAAOcNAACkCQAAyQwAADgEAAC8MwAAwR0AAJcWAADdMgAAvDMAAOcNAABckQAAVH4AAPAHAAAUEAAAXJEAAFR+AAB8CAAAFBAAAFguAQBixAAArAIAAI8LAADe5AAAfAgAAI8LAAD3DgAArgMAAOcWAAB6AwAArgMAAH8CAADbjAEAfwIAADUcAABqgwAA18AAAJwGAADYAgAAqmsAABwLAACcBgAAVw8AAPpfAABlCgAArUgCAB+5AQCEAwAA+l8AAJwFAAA=",
          "dtype": "i4"
         },
         "xaxis": "x",
         "y": {
          "bdata": "upAAALqQAACoYgQAEjkAACUYAABwmwMA2JAAANMoAADBZQYAHj0CANxiBwBtgAAAPHEDAMwJAAAePQIA3GIHALIfAABWGgMAxzwBAGoCBADLMQAAagIEAKYpAADLMQAAxzwBAEwnCgBu8AQAHlcAAJOBCACuLgAAPnIAAD5yAABwFQIAKVUAAHAVAgApVQAA0I8JAHD3AQDZRQAA2UUAALcrAAACMgAAW5sAACinAwCcyAQAC/0GAEGfAADDGAAAdOsEAIAmAACAJgAAeFIAAMdtCABDIgAAsR8AAECFAAACZgAAc3gAAD8sAADNsQsAzLMCACSxBgBu9AEAMFwKAB/XAAD0MAAAJLEGAJysAgAwXAoATDsAAJysAgCnDwAAVa8KABa/CwCnDwAAEA0AAIypAwCuhQEAbngAAPYMAADLSQAAIIwAAPYMAADLSQAAUm8CANqVAADNIQAAoMcBAF6PAADtKQAA2kEAAHtwAAADTgAAdmcAACgiAACUogEAwPAAAMy2AACJmwEAlKIBAHtwAAD4KQQAaJ4DADs6AADodQAA+CkEAGieAwA4PgAA6HUAADCpCAAkoAUAmBMAAMRUAABcjgYAOD4AAMRUAADEbQAAoRgAAEWZAABJFwAAoRgAALgQAADhXwoAuBAAAEatAABCJwMAmaAEAJwoAAB4EQAAYJUCAEREAACcKAAAO14AAN4fAgDrOgAALPEMALLDCQDsEwAA3h8CAMsfAAA=",
          "dtype": "i4"
         },
         "yaxis": "y"
        },
        {
         "hovertemplate": "Country=United States of America<br>Discounts=%{x}<br>Sales=%{y}<extra></extra>",
         "legendgroup": "United States of America",
         "marker": {
          "color": "#FFA15A",
          "symbol": "circle"
         },
         "mode": "markers",
         "name": "United States of America",
         "orientation": "v",
         "showlegend": true,
         "type": "scatter",
         "x": {
          "bdata": "AAAAAAAAAAAAAAAAAAAAAAAAAAAAAAAAAAAAAAAAAADeAAAAsQAAAJwBAAD3GgAARh0AADwDAADjAAAAOgEAAIwDAAALIgAAPAMAAIwDAADuAAAAEgEAAHICAAASAQAAQQIAABkBAAByAgAARgcAAO4BAAC8AgAA7QEAAPxjAABMAgAA/A4AAMiIAACsvAAATAMAAJIBAAD8DgAAvwIAABYTAACSAQAAEToAAMcAAACMWAAADEkAAC4DAAAROgAAJykAAAUVAABnCgAAoAEAACcpAAAQCwAABRUAAPEEAABnCgAAxwAAAD0FAAAjBwAAbgAAAKgHAACjOwAAtlAAAKM7AAC6BwAADQQAAA0EAAAMAQAAiKgAAAUMAADFBwAAjHAAAIxwAAADCAAAAwgAAHsBAABbBgAAwEsAAFsGAAC6AgAA6noAAGETAADqegAAQAgAAEymAADpxAAA1P4AANcGAADPAQAAXQYAAM8BAAA8qAAAOzwBABZYAAChBAAA7k0AANQMAQDFfwEA1AwBAEUcAAC+XgEAvwQAAJ8UAAAkAQAAwgQAAHzrAQDEoQAAxKEAAN2LAABMLAAA6hEAAI0TAACNEwAAn64AAJ0EAAAdBQAA0hoAABATAAB4CwAAeAsAAH4OAAA5DQAAtKUAAB8TAABJ4QAAoAYAAJiTAQDioAEAtKUAAGrCAAAfEwAAIQMAAJebAQBtBgAAdsQBAJCyAABtBgAAIQMAALIMAAA=",
          "dtype": "i4"
         },
         "xaxis": "x",
         "y": {
          "bdata": "CSQAAEEfAADAKgAAcWEFAIxbAABcZAAAQR8AAAkkAAA5VgAAdUQAAIWfAACFbQoAElILAH5AAQDSVwAAnXkAAG5fAQBBKg0AfkABAG5fAQBNXAAAdTQAAOV3AAB1NAAAiW4AAPE1AADldwAAZmQBAKFeAACHWAAARD4AANSgDAAzNwAAoGcBAMDSDAAgsBEAM08AAL4lAACgZwEA7EEAABDKAQC+JQAAQ08EAM4OAABykgYA5GsFAHI8AABDTwQA5Q0DAGOPAQClxQAA5B4AAOUNAwAw0gAAY48BAONdAAClxQAAzg4AABFSAADPbwAAwgYAAPt3AABPpgMAgPAEAE+mAwAPeQAAgT8AAIE/AADoDQAAFb8IALefAAA+ZwAARNcFAETXBQAkXAAAJFwAAA4RAAAhSQAAIGcDACFJAABfHwAAztoEAPPDAADO2gQAb1MAAHSRBgD7xgcAnRAKACxFAABIEAAASjkAAEgQAAAi6gUAEx4LAMYYAwCpKQAAXr0CAHRzCQDtfQ0AdHMJAHH+AACuVAwAbSYAANmmAAA/CQAA6CIAADgUDgBIogQASKIEAKoBBADYRAEAYYMAANuCAADbggAAo5AEAOAeAAA4IgAAgbMAABt1AABzRgAAc0YAAApZAAA6UQAA5PkDAHh1AADlZwUAtygAADivCQDaAAoA5PkDAEKqBAB4dQAAuxEAAFocCQBqJAAA8gMKAN3zAwBqJAAAuxEAAPVHAAA=",
          "dtype": "i4"
         },
         "yaxis": "y"
        }
       ],
       "layout": {
        "height": 600,
        "legend": {
         "font": {
          "size": 12
         },
         "title": {
          "font": {
           "size": 14
          },
          "text": "Country"
         },
         "tracegroupgap": 0
        },
        "template": {
         "data": {
          "bar": [
           {
            "error_x": {
             "color": "#2a3f5f"
            },
            "error_y": {
             "color": "#2a3f5f"
            },
            "marker": {
             "line": {
              "color": "white",
              "width": 0.5
             },
             "pattern": {
              "fillmode": "overlay",
              "size": 10,
              "solidity": 0.2
             }
            },
            "type": "bar"
           }
          ],
          "barpolar": [
           {
            "marker": {
             "line": {
              "color": "white",
              "width": 0.5
             },
             "pattern": {
              "fillmode": "overlay",
              "size": 10,
              "solidity": 0.2
             }
            },
            "type": "barpolar"
           }
          ],
          "carpet": [
           {
            "aaxis": {
             "endlinecolor": "#2a3f5f",
             "gridcolor": "#C8D4E3",
             "linecolor": "#C8D4E3",
             "minorgridcolor": "#C8D4E3",
             "startlinecolor": "#2a3f5f"
            },
            "baxis": {
             "endlinecolor": "#2a3f5f",
             "gridcolor": "#C8D4E3",
             "linecolor": "#C8D4E3",
             "minorgridcolor": "#C8D4E3",
             "startlinecolor": "#2a3f5f"
            },
            "type": "carpet"
           }
          ],
          "choropleth": [
           {
            "colorbar": {
             "outlinewidth": 0,
             "ticks": ""
            },
            "type": "choropleth"
           }
          ],
          "contour": [
           {
            "colorbar": {
             "outlinewidth": 0,
             "ticks": ""
            },
            "colorscale": [
             [
              0,
              "#0d0887"
             ],
             [
              0.1111111111111111,
              "#46039f"
             ],
             [
              0.2222222222222222,
              "#7201a8"
             ],
             [
              0.3333333333333333,
              "#9c179e"
             ],
             [
              0.4444444444444444,
              "#bd3786"
             ],
             [
              0.5555555555555556,
              "#d8576b"
             ],
             [
              0.6666666666666666,
              "#ed7953"
             ],
             [
              0.7777777777777778,
              "#fb9f3a"
             ],
             [
              0.8888888888888888,
              "#fdca26"
             ],
             [
              1,
              "#f0f921"
             ]
            ],
            "type": "contour"
           }
          ],
          "contourcarpet": [
           {
            "colorbar": {
             "outlinewidth": 0,
             "ticks": ""
            },
            "type": "contourcarpet"
           }
          ],
          "heatmap": [
           {
            "colorbar": {
             "outlinewidth": 0,
             "ticks": ""
            },
            "colorscale": [
             [
              0,
              "#0d0887"
             ],
             [
              0.1111111111111111,
              "#46039f"
             ],
             [
              0.2222222222222222,
              "#7201a8"
             ],
             [
              0.3333333333333333,
              "#9c179e"
             ],
             [
              0.4444444444444444,
              "#bd3786"
             ],
             [
              0.5555555555555556,
              "#d8576b"
             ],
             [
              0.6666666666666666,
              "#ed7953"
             ],
             [
              0.7777777777777778,
              "#fb9f3a"
             ],
             [
              0.8888888888888888,
              "#fdca26"
             ],
             [
              1,
              "#f0f921"
             ]
            ],
            "type": "heatmap"
           }
          ],
          "histogram": [
           {
            "marker": {
             "pattern": {
              "fillmode": "overlay",
              "size": 10,
              "solidity": 0.2
             }
            },
            "type": "histogram"
           }
          ],
          "histogram2d": [
           {
            "colorbar": {
             "outlinewidth": 0,
             "ticks": ""
            },
            "colorscale": [
             [
              0,
              "#0d0887"
             ],
             [
              0.1111111111111111,
              "#46039f"
             ],
             [
              0.2222222222222222,
              "#7201a8"
             ],
             [
              0.3333333333333333,
              "#9c179e"
             ],
             [
              0.4444444444444444,
              "#bd3786"
             ],
             [
              0.5555555555555556,
              "#d8576b"
             ],
             [
              0.6666666666666666,
              "#ed7953"
             ],
             [
              0.7777777777777778,
              "#fb9f3a"
             ],
             [
              0.8888888888888888,
              "#fdca26"
             ],
             [
              1,
              "#f0f921"
             ]
            ],
            "type": "histogram2d"
           }
          ],
          "histogram2dcontour": [
           {
            "colorbar": {
             "outlinewidth": 0,
             "ticks": ""
            },
            "colorscale": [
             [
              0,
              "#0d0887"
             ],
             [
              0.1111111111111111,
              "#46039f"
             ],
             [
              0.2222222222222222,
              "#7201a8"
             ],
             [
              0.3333333333333333,
              "#9c179e"
             ],
             [
              0.4444444444444444,
              "#bd3786"
             ],
             [
              0.5555555555555556,
              "#d8576b"
             ],
             [
              0.6666666666666666,
              "#ed7953"
             ],
             [
              0.7777777777777778,
              "#fb9f3a"
             ],
             [
              0.8888888888888888,
              "#fdca26"
             ],
             [
              1,
              "#f0f921"
             ]
            ],
            "type": "histogram2dcontour"
           }
          ],
          "mesh3d": [
           {
            "colorbar": {
             "outlinewidth": 0,
             "ticks": ""
            },
            "type": "mesh3d"
           }
          ],
          "parcoords": [
           {
            "line": {
             "colorbar": {
              "outlinewidth": 0,
              "ticks": ""
             }
            },
            "type": "parcoords"
           }
          ],
          "pie": [
           {
            "automargin": true,
            "type": "pie"
           }
          ],
          "scatter": [
           {
            "fillpattern": {
             "fillmode": "overlay",
             "size": 10,
             "solidity": 0.2
            },
            "type": "scatter"
           }
          ],
          "scatter3d": [
           {
            "line": {
             "colorbar": {
              "outlinewidth": 0,
              "ticks": ""
             }
            },
            "marker": {
             "colorbar": {
              "outlinewidth": 0,
              "ticks": ""
             }
            },
            "type": "scatter3d"
           }
          ],
          "scattercarpet": [
           {
            "marker": {
             "colorbar": {
              "outlinewidth": 0,
              "ticks": ""
             }
            },
            "type": "scattercarpet"
           }
          ],
          "scattergeo": [
           {
            "marker": {
             "colorbar": {
              "outlinewidth": 0,
              "ticks": ""
             }
            },
            "type": "scattergeo"
           }
          ],
          "scattergl": [
           {
            "marker": {
             "colorbar": {
              "outlinewidth": 0,
              "ticks": ""
             }
            },
            "type": "scattergl"
           }
          ],
          "scattermap": [
           {
            "marker": {
             "colorbar": {
              "outlinewidth": 0,
              "ticks": ""
             }
            },
            "type": "scattermap"
           }
          ],
          "scattermapbox": [
           {
            "marker": {
             "colorbar": {
              "outlinewidth": 0,
              "ticks": ""
             }
            },
            "type": "scattermapbox"
           }
          ],
          "scatterpolar": [
           {
            "marker": {
             "colorbar": {
              "outlinewidth": 0,
              "ticks": ""
             }
            },
            "type": "scatterpolar"
           }
          ],
          "scatterpolargl": [
           {
            "marker": {
             "colorbar": {
              "outlinewidth": 0,
              "ticks": ""
             }
            },
            "type": "scatterpolargl"
           }
          ],
          "scatterternary": [
           {
            "marker": {
             "colorbar": {
              "outlinewidth": 0,
              "ticks": ""
             }
            },
            "type": "scatterternary"
           }
          ],
          "surface": [
           {
            "colorbar": {
             "outlinewidth": 0,
             "ticks": ""
            },
            "colorscale": [
             [
              0,
              "#0d0887"
             ],
             [
              0.1111111111111111,
              "#46039f"
             ],
             [
              0.2222222222222222,
              "#7201a8"
             ],
             [
              0.3333333333333333,
              "#9c179e"
             ],
             [
              0.4444444444444444,
              "#bd3786"
             ],
             [
              0.5555555555555556,
              "#d8576b"
             ],
             [
              0.6666666666666666,
              "#ed7953"
             ],
             [
              0.7777777777777778,
              "#fb9f3a"
             ],
             [
              0.8888888888888888,
              "#fdca26"
             ],
             [
              1,
              "#f0f921"
             ]
            ],
            "type": "surface"
           }
          ],
          "table": [
           {
            "cells": {
             "fill": {
              "color": "#EBF0F8"
             },
             "line": {
              "color": "white"
             }
            },
            "header": {
             "fill": {
              "color": "#C8D4E3"
             },
             "line": {
              "color": "white"
             }
            },
            "type": "table"
           }
          ]
         },
         "layout": {
          "annotationdefaults": {
           "arrowcolor": "#2a3f5f",
           "arrowhead": 0,
           "arrowwidth": 1
          },
          "autotypenumbers": "strict",
          "coloraxis": {
           "colorbar": {
            "outlinewidth": 0,
            "ticks": ""
           }
          },
          "colorscale": {
           "diverging": [
            [
             0,
             "#8e0152"
            ],
            [
             0.1,
             "#c51b7d"
            ],
            [
             0.2,
             "#de77ae"
            ],
            [
             0.3,
             "#f1b6da"
            ],
            [
             0.4,
             "#fde0ef"
            ],
            [
             0.5,
             "#f7f7f7"
            ],
            [
             0.6,
             "#e6f5d0"
            ],
            [
             0.7,
             "#b8e186"
            ],
            [
             0.8,
             "#7fbc41"
            ],
            [
             0.9,
             "#4d9221"
            ],
            [
             1,
             "#276419"
            ]
           ],
           "sequential": [
            [
             0,
             "#0d0887"
            ],
            [
             0.1111111111111111,
             "#46039f"
            ],
            [
             0.2222222222222222,
             "#7201a8"
            ],
            [
             0.3333333333333333,
             "#9c179e"
            ],
            [
             0.4444444444444444,
             "#bd3786"
            ],
            [
             0.5555555555555556,
             "#d8576b"
            ],
            [
             0.6666666666666666,
             "#ed7953"
            ],
            [
             0.7777777777777778,
             "#fb9f3a"
            ],
            [
             0.8888888888888888,
             "#fdca26"
            ],
            [
             1,
             "#f0f921"
            ]
           ],
           "sequentialminus": [
            [
             0,
             "#0d0887"
            ],
            [
             0.1111111111111111,
             "#46039f"
            ],
            [
             0.2222222222222222,
             "#7201a8"
            ],
            [
             0.3333333333333333,
             "#9c179e"
            ],
            [
             0.4444444444444444,
             "#bd3786"
            ],
            [
             0.5555555555555556,
             "#d8576b"
            ],
            [
             0.6666666666666666,
             "#ed7953"
            ],
            [
             0.7777777777777778,
             "#fb9f3a"
            ],
            [
             0.8888888888888888,
             "#fdca26"
            ],
            [
             1,
             "#f0f921"
            ]
           ]
          },
          "colorway": [
           "#636efa",
           "#EF553B",
           "#00cc96",
           "#ab63fa",
           "#FFA15A",
           "#19d3f3",
           "#FF6692",
           "#B6E880",
           "#FF97FF",
           "#FECB52"
          ],
          "font": {
           "color": "#2a3f5f"
          },
          "geo": {
           "bgcolor": "white",
           "lakecolor": "white",
           "landcolor": "white",
           "showlakes": true,
           "showland": true,
           "subunitcolor": "#C8D4E3"
          },
          "hoverlabel": {
           "align": "left"
          },
          "hovermode": "closest",
          "mapbox": {
           "style": "light"
          },
          "paper_bgcolor": "white",
          "plot_bgcolor": "white",
          "polar": {
           "angularaxis": {
            "gridcolor": "#EBF0F8",
            "linecolor": "#EBF0F8",
            "ticks": ""
           },
           "bgcolor": "white",
           "radialaxis": {
            "gridcolor": "#EBF0F8",
            "linecolor": "#EBF0F8",
            "ticks": ""
           }
          },
          "scene": {
           "xaxis": {
            "backgroundcolor": "white",
            "gridcolor": "#DFE8F3",
            "gridwidth": 2,
            "linecolor": "#EBF0F8",
            "showbackground": true,
            "ticks": "",
            "zerolinecolor": "#EBF0F8"
           },
           "yaxis": {
            "backgroundcolor": "white",
            "gridcolor": "#DFE8F3",
            "gridwidth": 2,
            "linecolor": "#EBF0F8",
            "showbackground": true,
            "ticks": "",
            "zerolinecolor": "#EBF0F8"
           },
           "zaxis": {
            "backgroundcolor": "white",
            "gridcolor": "#DFE8F3",
            "gridwidth": 2,
            "linecolor": "#EBF0F8",
            "showbackground": true,
            "ticks": "",
            "zerolinecolor": "#EBF0F8"
           }
          },
          "shapedefaults": {
           "line": {
            "color": "#2a3f5f"
           }
          },
          "ternary": {
           "aaxis": {
            "gridcolor": "#DFE8F3",
            "linecolor": "#A2B1C6",
            "ticks": ""
           },
           "baxis": {
            "gridcolor": "#DFE8F3",
            "linecolor": "#A2B1C6",
            "ticks": ""
           },
           "bgcolor": "white",
           "caxis": {
            "gridcolor": "#DFE8F3",
            "linecolor": "#A2B1C6",
            "ticks": ""
           }
          },
          "title": {
           "x": 0.05
          },
          "xaxis": {
           "automargin": true,
           "gridcolor": "#EBF0F8",
           "linecolor": "#EBF0F8",
           "ticks": "",
           "title": {
            "standoff": 15
           },
           "zerolinecolor": "#EBF0F8",
           "zerolinewidth": 2
          },
          "yaxis": {
           "automargin": true,
           "gridcolor": "#EBF0F8",
           "linecolor": "#EBF0F8",
           "ticks": "",
           "title": {
            "standoff": 15
           },
           "zerolinecolor": "#EBF0F8",
           "zerolinewidth": 2
          }
         }
        },
        "title": {
         "font": {
          "size": 20
         },
         "text": "Relationship Between Discounts and Sales",
         "x": 0.5,
         "xanchor": "center"
        },
        "width": 800,
        "xaxis": {
         "anchor": "y",
         "domain": [
          0,
          1
         ],
         "tickfont": {
          "size": 12
         },
         "title": {
          "font": {
           "size": 16
          },
          "text": "Discounts"
         }
        },
        "yaxis": {
         "anchor": "x",
         "domain": [
          0,
          1
         ],
         "tickfont": {
          "size": 12
         },
         "title": {
          "font": {
           "size": 16
          },
          "text": "Sales"
         }
        }
       }
      }
     },
     "metadata": {},
     "output_type": "display_data"
    }
   ],
   "source": [
    "fig = px.scatter(\n",
    "    df, \n",
    "    x='Discounts', \n",
    "    y='Sales', \n",
    "    color='Country', \n",
    "    title=\"Relationship Between Discounts and Sales\",\n",
    "    labels={\"Discounts\": \"Discounts\", \"Sales\": \"Sales\"},\n",
    "    template=\"plotly_white\"\n",
    ")\n",
    "\n",
    "fig.update_layout(\n",
    "    title=dict(\n",
    "        text=\"Relationship Between Discounts and Sales\",\n",
    "        font=dict(size=20),\n",
    "        x=0.5,\n",
    "        xanchor='center'\n",
    "    ),\n",
    "    xaxis=dict(\n",
    "        title=dict(text=\"Discounts\", font=dict(size=16)),\n",
    "        tickfont=dict(size=12)\n",
    "    ),\n",
    "    yaxis=dict(\n",
    "        title=dict(text=\"Sales\", font=dict(size=16)),\n",
    "        tickfont=dict(size=12)\n",
    "    ),\n",
    "    legend=dict(\n",
    "        title=dict(text=\"Country\", font=dict(size=14)),\n",
    "        font=dict(size=12)\n",
    "    ),\n",
    "    width=800,\n",
    "    height=600\n",
    ")\n",
    "\n",
    "fig.show()"
   ]
  },
  {
   "cell_type": "markdown",
   "metadata": {},
   "source": [
    "It seems to be an increasing and linear relationship between Discounts and Sales across all different geographic markets."
   ]
  },
  {
   "cell_type": "code",
   "execution_count": 33,
   "metadata": {},
   "outputs": [],
   "source": [
    "X = df[['Discounts']]\n",
    "y = df['Sales']"
   ]
  },
  {
   "cell_type": "code",
   "execution_count": 34,
   "metadata": {},
   "outputs": [
    {
     "data": {
      "text/html": [
       "<style>#sk-container-id-1 {\n",
       "  /* Definition of color scheme common for light and dark mode */\n",
       "  --sklearn-color-text: #000;\n",
       "  --sklearn-color-text-muted: #666;\n",
       "  --sklearn-color-line: gray;\n",
       "  /* Definition of color scheme for unfitted estimators */\n",
       "  --sklearn-color-unfitted-level-0: #fff5e6;\n",
       "  --sklearn-color-unfitted-level-1: #f6e4d2;\n",
       "  --sklearn-color-unfitted-level-2: #ffe0b3;\n",
       "  --sklearn-color-unfitted-level-3: chocolate;\n",
       "  /* Definition of color scheme for fitted estimators */\n",
       "  --sklearn-color-fitted-level-0: #f0f8ff;\n",
       "  --sklearn-color-fitted-level-1: #d4ebff;\n",
       "  --sklearn-color-fitted-level-2: #b3dbfd;\n",
       "  --sklearn-color-fitted-level-3: cornflowerblue;\n",
       "\n",
       "  /* Specific color for light theme */\n",
       "  --sklearn-color-text-on-default-background: var(--sg-text-color, var(--theme-code-foreground, var(--jp-content-font-color1, black)));\n",
       "  --sklearn-color-background: var(--sg-background-color, var(--theme-background, var(--jp-layout-color0, white)));\n",
       "  --sklearn-color-border-box: var(--sg-text-color, var(--theme-code-foreground, var(--jp-content-font-color1, black)));\n",
       "  --sklearn-color-icon: #696969;\n",
       "\n",
       "  @media (prefers-color-scheme: dark) {\n",
       "    /* Redefinition of color scheme for dark theme */\n",
       "    --sklearn-color-text-on-default-background: var(--sg-text-color, var(--theme-code-foreground, var(--jp-content-font-color1, white)));\n",
       "    --sklearn-color-background: var(--sg-background-color, var(--theme-background, var(--jp-layout-color0, #111)));\n",
       "    --sklearn-color-border-box: var(--sg-text-color, var(--theme-code-foreground, var(--jp-content-font-color1, white)));\n",
       "    --sklearn-color-icon: #878787;\n",
       "  }\n",
       "}\n",
       "\n",
       "#sk-container-id-1 {\n",
       "  color: var(--sklearn-color-text);\n",
       "}\n",
       "\n",
       "#sk-container-id-1 pre {\n",
       "  padding: 0;\n",
       "}\n",
       "\n",
       "#sk-container-id-1 input.sk-hidden--visually {\n",
       "  border: 0;\n",
       "  clip: rect(1px 1px 1px 1px);\n",
       "  clip: rect(1px, 1px, 1px, 1px);\n",
       "  height: 1px;\n",
       "  margin: -1px;\n",
       "  overflow: hidden;\n",
       "  padding: 0;\n",
       "  position: absolute;\n",
       "  width: 1px;\n",
       "}\n",
       "\n",
       "#sk-container-id-1 div.sk-dashed-wrapped {\n",
       "  border: 1px dashed var(--sklearn-color-line);\n",
       "  margin: 0 0.4em 0.5em 0.4em;\n",
       "  box-sizing: border-box;\n",
       "  padding-bottom: 0.4em;\n",
       "  background-color: var(--sklearn-color-background);\n",
       "}\n",
       "\n",
       "#sk-container-id-1 div.sk-container {\n",
       "  /* jupyter's `normalize.less` sets `[hidden] { display: none; }`\n",
       "     but bootstrap.min.css set `[hidden] { display: none !important; }`\n",
       "     so we also need the `!important` here to be able to override the\n",
       "     default hidden behavior on the sphinx rendered scikit-learn.org.\n",
       "     See: https://github.com/scikit-learn/scikit-learn/issues/21755 */\n",
       "  display: inline-block !important;\n",
       "  position: relative;\n",
       "}\n",
       "\n",
       "#sk-container-id-1 div.sk-text-repr-fallback {\n",
       "  display: none;\n",
       "}\n",
       "\n",
       "div.sk-parallel-item,\n",
       "div.sk-serial,\n",
       "div.sk-item {\n",
       "  /* draw centered vertical line to link estimators */\n",
       "  background-image: linear-gradient(var(--sklearn-color-text-on-default-background), var(--sklearn-color-text-on-default-background));\n",
       "  background-size: 2px 100%;\n",
       "  background-repeat: no-repeat;\n",
       "  background-position: center center;\n",
       "}\n",
       "\n",
       "/* Parallel-specific style estimator block */\n",
       "\n",
       "#sk-container-id-1 div.sk-parallel-item::after {\n",
       "  content: \"\";\n",
       "  width: 100%;\n",
       "  border-bottom: 2px solid var(--sklearn-color-text-on-default-background);\n",
       "  flex-grow: 1;\n",
       "}\n",
       "\n",
       "#sk-container-id-1 div.sk-parallel {\n",
       "  display: flex;\n",
       "  align-items: stretch;\n",
       "  justify-content: center;\n",
       "  background-color: var(--sklearn-color-background);\n",
       "  position: relative;\n",
       "}\n",
       "\n",
       "#sk-container-id-1 div.sk-parallel-item {\n",
       "  display: flex;\n",
       "  flex-direction: column;\n",
       "}\n",
       "\n",
       "#sk-container-id-1 div.sk-parallel-item:first-child::after {\n",
       "  align-self: flex-end;\n",
       "  width: 50%;\n",
       "}\n",
       "\n",
       "#sk-container-id-1 div.sk-parallel-item:last-child::after {\n",
       "  align-self: flex-start;\n",
       "  width: 50%;\n",
       "}\n",
       "\n",
       "#sk-container-id-1 div.sk-parallel-item:only-child::after {\n",
       "  width: 0;\n",
       "}\n",
       "\n",
       "/* Serial-specific style estimator block */\n",
       "\n",
       "#sk-container-id-1 div.sk-serial {\n",
       "  display: flex;\n",
       "  flex-direction: column;\n",
       "  align-items: center;\n",
       "  background-color: var(--sklearn-color-background);\n",
       "  padding-right: 1em;\n",
       "  padding-left: 1em;\n",
       "}\n",
       "\n",
       "\n",
       "/* Toggleable style: style used for estimator/Pipeline/ColumnTransformer box that is\n",
       "clickable and can be expanded/collapsed.\n",
       "- Pipeline and ColumnTransformer use this feature and define the default style\n",
       "- Estimators will overwrite some part of the style using the `sk-estimator` class\n",
       "*/\n",
       "\n",
       "/* Pipeline and ColumnTransformer style (default) */\n",
       "\n",
       "#sk-container-id-1 div.sk-toggleable {\n",
       "  /* Default theme specific background. It is overwritten whether we have a\n",
       "  specific estimator or a Pipeline/ColumnTransformer */\n",
       "  background-color: var(--sklearn-color-background);\n",
       "}\n",
       "\n",
       "/* Toggleable label */\n",
       "#sk-container-id-1 label.sk-toggleable__label {\n",
       "  cursor: pointer;\n",
       "  display: flex;\n",
       "  width: 100%;\n",
       "  margin-bottom: 0;\n",
       "  padding: 0.5em;\n",
       "  box-sizing: border-box;\n",
       "  text-align: center;\n",
       "  align-items: start;\n",
       "  justify-content: space-between;\n",
       "  gap: 0.5em;\n",
       "}\n",
       "\n",
       "#sk-container-id-1 label.sk-toggleable__label .caption {\n",
       "  font-size: 0.6rem;\n",
       "  font-weight: lighter;\n",
       "  color: var(--sklearn-color-text-muted);\n",
       "}\n",
       "\n",
       "#sk-container-id-1 label.sk-toggleable__label-arrow:before {\n",
       "  /* Arrow on the left of the label */\n",
       "  content: \"▸\";\n",
       "  float: left;\n",
       "  margin-right: 0.25em;\n",
       "  color: var(--sklearn-color-icon);\n",
       "}\n",
       "\n",
       "#sk-container-id-1 label.sk-toggleable__label-arrow:hover:before {\n",
       "  color: var(--sklearn-color-text);\n",
       "}\n",
       "\n",
       "/* Toggleable content - dropdown */\n",
       "\n",
       "#sk-container-id-1 div.sk-toggleable__content {\n",
       "  max-height: 0;\n",
       "  max-width: 0;\n",
       "  overflow: hidden;\n",
       "  text-align: left;\n",
       "  /* unfitted */\n",
       "  background-color: var(--sklearn-color-unfitted-level-0);\n",
       "}\n",
       "\n",
       "#sk-container-id-1 div.sk-toggleable__content.fitted {\n",
       "  /* fitted */\n",
       "  background-color: var(--sklearn-color-fitted-level-0);\n",
       "}\n",
       "\n",
       "#sk-container-id-1 div.sk-toggleable__content pre {\n",
       "  margin: 0.2em;\n",
       "  border-radius: 0.25em;\n",
       "  color: var(--sklearn-color-text);\n",
       "  /* unfitted */\n",
       "  background-color: var(--sklearn-color-unfitted-level-0);\n",
       "}\n",
       "\n",
       "#sk-container-id-1 div.sk-toggleable__content.fitted pre {\n",
       "  /* unfitted */\n",
       "  background-color: var(--sklearn-color-fitted-level-0);\n",
       "}\n",
       "\n",
       "#sk-container-id-1 input.sk-toggleable__control:checked~div.sk-toggleable__content {\n",
       "  /* Expand drop-down */\n",
       "  max-height: 200px;\n",
       "  max-width: 100%;\n",
       "  overflow: auto;\n",
       "}\n",
       "\n",
       "#sk-container-id-1 input.sk-toggleable__control:checked~label.sk-toggleable__label-arrow:before {\n",
       "  content: \"▾\";\n",
       "}\n",
       "\n",
       "/* Pipeline/ColumnTransformer-specific style */\n",
       "\n",
       "#sk-container-id-1 div.sk-label input.sk-toggleable__control:checked~label.sk-toggleable__label {\n",
       "  color: var(--sklearn-color-text);\n",
       "  background-color: var(--sklearn-color-unfitted-level-2);\n",
       "}\n",
       "\n",
       "#sk-container-id-1 div.sk-label.fitted input.sk-toggleable__control:checked~label.sk-toggleable__label {\n",
       "  background-color: var(--sklearn-color-fitted-level-2);\n",
       "}\n",
       "\n",
       "/* Estimator-specific style */\n",
       "\n",
       "/* Colorize estimator box */\n",
       "#sk-container-id-1 div.sk-estimator input.sk-toggleable__control:checked~label.sk-toggleable__label {\n",
       "  /* unfitted */\n",
       "  background-color: var(--sklearn-color-unfitted-level-2);\n",
       "}\n",
       "\n",
       "#sk-container-id-1 div.sk-estimator.fitted input.sk-toggleable__control:checked~label.sk-toggleable__label {\n",
       "  /* fitted */\n",
       "  background-color: var(--sklearn-color-fitted-level-2);\n",
       "}\n",
       "\n",
       "#sk-container-id-1 div.sk-label label.sk-toggleable__label,\n",
       "#sk-container-id-1 div.sk-label label {\n",
       "  /* The background is the default theme color */\n",
       "  color: var(--sklearn-color-text-on-default-background);\n",
       "}\n",
       "\n",
       "/* On hover, darken the color of the background */\n",
       "#sk-container-id-1 div.sk-label:hover label.sk-toggleable__label {\n",
       "  color: var(--sklearn-color-text);\n",
       "  background-color: var(--sklearn-color-unfitted-level-2);\n",
       "}\n",
       "\n",
       "/* Label box, darken color on hover, fitted */\n",
       "#sk-container-id-1 div.sk-label.fitted:hover label.sk-toggleable__label.fitted {\n",
       "  color: var(--sklearn-color-text);\n",
       "  background-color: var(--sklearn-color-fitted-level-2);\n",
       "}\n",
       "\n",
       "/* Estimator label */\n",
       "\n",
       "#sk-container-id-1 div.sk-label label {\n",
       "  font-family: monospace;\n",
       "  font-weight: bold;\n",
       "  display: inline-block;\n",
       "  line-height: 1.2em;\n",
       "}\n",
       "\n",
       "#sk-container-id-1 div.sk-label-container {\n",
       "  text-align: center;\n",
       "}\n",
       "\n",
       "/* Estimator-specific */\n",
       "#sk-container-id-1 div.sk-estimator {\n",
       "  font-family: monospace;\n",
       "  border: 1px dotted var(--sklearn-color-border-box);\n",
       "  border-radius: 0.25em;\n",
       "  box-sizing: border-box;\n",
       "  margin-bottom: 0.5em;\n",
       "  /* unfitted */\n",
       "  background-color: var(--sklearn-color-unfitted-level-0);\n",
       "}\n",
       "\n",
       "#sk-container-id-1 div.sk-estimator.fitted {\n",
       "  /* fitted */\n",
       "  background-color: var(--sklearn-color-fitted-level-0);\n",
       "}\n",
       "\n",
       "/* on hover */\n",
       "#sk-container-id-1 div.sk-estimator:hover {\n",
       "  /* unfitted */\n",
       "  background-color: var(--sklearn-color-unfitted-level-2);\n",
       "}\n",
       "\n",
       "#sk-container-id-1 div.sk-estimator.fitted:hover {\n",
       "  /* fitted */\n",
       "  background-color: var(--sklearn-color-fitted-level-2);\n",
       "}\n",
       "\n",
       "/* Specification for estimator info (e.g. \"i\" and \"?\") */\n",
       "\n",
       "/* Common style for \"i\" and \"?\" */\n",
       "\n",
       ".sk-estimator-doc-link,\n",
       "a:link.sk-estimator-doc-link,\n",
       "a:visited.sk-estimator-doc-link {\n",
       "  float: right;\n",
       "  font-size: smaller;\n",
       "  line-height: 1em;\n",
       "  font-family: monospace;\n",
       "  background-color: var(--sklearn-color-background);\n",
       "  border-radius: 1em;\n",
       "  height: 1em;\n",
       "  width: 1em;\n",
       "  text-decoration: none !important;\n",
       "  margin-left: 0.5em;\n",
       "  text-align: center;\n",
       "  /* unfitted */\n",
       "  border: var(--sklearn-color-unfitted-level-1) 1pt solid;\n",
       "  color: var(--sklearn-color-unfitted-level-1);\n",
       "}\n",
       "\n",
       ".sk-estimator-doc-link.fitted,\n",
       "a:link.sk-estimator-doc-link.fitted,\n",
       "a:visited.sk-estimator-doc-link.fitted {\n",
       "  /* fitted */\n",
       "  border: var(--sklearn-color-fitted-level-1) 1pt solid;\n",
       "  color: var(--sklearn-color-fitted-level-1);\n",
       "}\n",
       "\n",
       "/* On hover */\n",
       "div.sk-estimator:hover .sk-estimator-doc-link:hover,\n",
       ".sk-estimator-doc-link:hover,\n",
       "div.sk-label-container:hover .sk-estimator-doc-link:hover,\n",
       ".sk-estimator-doc-link:hover {\n",
       "  /* unfitted */\n",
       "  background-color: var(--sklearn-color-unfitted-level-3);\n",
       "  color: var(--sklearn-color-background);\n",
       "  text-decoration: none;\n",
       "}\n",
       "\n",
       "div.sk-estimator.fitted:hover .sk-estimator-doc-link.fitted:hover,\n",
       ".sk-estimator-doc-link.fitted:hover,\n",
       "div.sk-label-container:hover .sk-estimator-doc-link.fitted:hover,\n",
       ".sk-estimator-doc-link.fitted:hover {\n",
       "  /* fitted */\n",
       "  background-color: var(--sklearn-color-fitted-level-3);\n",
       "  color: var(--sklearn-color-background);\n",
       "  text-decoration: none;\n",
       "}\n",
       "\n",
       "/* Span, style for the box shown on hovering the info icon */\n",
       ".sk-estimator-doc-link span {\n",
       "  display: none;\n",
       "  z-index: 9999;\n",
       "  position: relative;\n",
       "  font-weight: normal;\n",
       "  right: .2ex;\n",
       "  padding: .5ex;\n",
       "  margin: .5ex;\n",
       "  width: min-content;\n",
       "  min-width: 20ex;\n",
       "  max-width: 50ex;\n",
       "  color: var(--sklearn-color-text);\n",
       "  box-shadow: 2pt 2pt 4pt #999;\n",
       "  /* unfitted */\n",
       "  background: var(--sklearn-color-unfitted-level-0);\n",
       "  border: .5pt solid var(--sklearn-color-unfitted-level-3);\n",
       "}\n",
       "\n",
       ".sk-estimator-doc-link.fitted span {\n",
       "  /* fitted */\n",
       "  background: var(--sklearn-color-fitted-level-0);\n",
       "  border: var(--sklearn-color-fitted-level-3);\n",
       "}\n",
       "\n",
       ".sk-estimator-doc-link:hover span {\n",
       "  display: block;\n",
       "}\n",
       "\n",
       "/* \"?\"-specific style due to the `<a>` HTML tag */\n",
       "\n",
       "#sk-container-id-1 a.estimator_doc_link {\n",
       "  float: right;\n",
       "  font-size: 1rem;\n",
       "  line-height: 1em;\n",
       "  font-family: monospace;\n",
       "  background-color: var(--sklearn-color-background);\n",
       "  border-radius: 1rem;\n",
       "  height: 1rem;\n",
       "  width: 1rem;\n",
       "  text-decoration: none;\n",
       "  /* unfitted */\n",
       "  color: var(--sklearn-color-unfitted-level-1);\n",
       "  border: var(--sklearn-color-unfitted-level-1) 1pt solid;\n",
       "}\n",
       "\n",
       "#sk-container-id-1 a.estimator_doc_link.fitted {\n",
       "  /* fitted */\n",
       "  border: var(--sklearn-color-fitted-level-1) 1pt solid;\n",
       "  color: var(--sklearn-color-fitted-level-1);\n",
       "}\n",
       "\n",
       "/* On hover */\n",
       "#sk-container-id-1 a.estimator_doc_link:hover {\n",
       "  /* unfitted */\n",
       "  background-color: var(--sklearn-color-unfitted-level-3);\n",
       "  color: var(--sklearn-color-background);\n",
       "  text-decoration: none;\n",
       "}\n",
       "\n",
       "#sk-container-id-1 a.estimator_doc_link.fitted:hover {\n",
       "  /* fitted */\n",
       "  background-color: var(--sklearn-color-fitted-level-3);\n",
       "}\n",
       "</style><div id=\"sk-container-id-1\" class=\"sk-top-container\"><div class=\"sk-text-repr-fallback\"><pre>LinearRegression()</pre><b>In a Jupyter environment, please rerun this cell to show the HTML representation or trust the notebook. <br />On GitHub, the HTML representation is unable to render, please try loading this page with nbviewer.org.</b></div><div class=\"sk-container\" hidden><div class=\"sk-item\"><div class=\"sk-estimator fitted sk-toggleable\"><input class=\"sk-toggleable__control sk-hidden--visually\" id=\"sk-estimator-id-1\" type=\"checkbox\" checked><label for=\"sk-estimator-id-1\" class=\"sk-toggleable__label fitted sk-toggleable__label-arrow\"><div><div>LinearRegression</div></div><div><a class=\"sk-estimator-doc-link fitted\" rel=\"noreferrer\" target=\"_blank\" href=\"https://scikit-learn.org/1.6/modules/generated/sklearn.linear_model.LinearRegression.html\">?<span>Documentation for LinearRegression</span></a><span class=\"sk-estimator-doc-link fitted\">i<span>Fitted</span></span></div></label><div class=\"sk-toggleable__content fitted\"><pre>LinearRegression()</pre></div> </div></div></div></div>"
      ],
      "text/plain": [
       "LinearRegression()"
      ]
     },
     "execution_count": 34,
     "metadata": {},
     "output_type": "execute_result"
    }
   ],
   "source": [
    "model = LinearRegression()\n",
    "model.fit(X, y)"
   ]
  },
  {
   "cell_type": "code",
   "execution_count": 35,
   "metadata": {},
   "outputs": [],
   "source": [
    "df['Sales_Predicted'] = model.predict(X)"
   ]
  },
  {
   "cell_type": "code",
   "execution_count": 36,
   "metadata": {},
   "outputs": [
    {
     "data": {
      "application/vnd.plotly.v1+json": {
       "config": {
        "plotlyServerURL": "https://plot.ly"
       },
       "data": [
        {
         "hovertemplate": "Discounts: %{x}<br>Sales: %{y}<extra></extra>",
         "marker": {
          "color": "blue",
          "size": 6
         },
         "mode": "markers",
         "name": "Actual",
         "type": "scatter",
         "x": {
          "bdata": "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",
          "dtype": "i4"
         },
         "y": {
          "bdata": "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",
          "dtype": "i4"
         }
        },
        {
         "hovertemplate": "Discounts: %{x}<br>Predicted Sales: %{y}<extra></extra>",
         "line": {
          "color": "red",
          "width": 2
         },
         "mode": "lines",
         "name": "Predicted",
         "type": "scatter",
         "x": {
          "bdata": "AAAAAAAAAAAAAAAAAAAAAAAAAAAAAAAAAAAAAAAAAAAAAAAAAAAAAAAAAAAAAAAAAAAAAAAAAAAAAAAAAAAAAAAAAAAAAAAAAAAAAAAAAAAAAAAAAAAAAAAAAAAAAAAAAAAAAAAAAAAAAAAAAAAAAAAAAAAAAAAAAAAAAAAAAAAAAAAAAAAAAAAAAAAAAAAAAAAAAAAAAAAAAAAAAAAAAAAAAAAAAAAAAAAAAAAAAAAAAAAAAAAAAAAAAAAAAAAAAAAAAAAAAAAAAAAAAAAAAAAAAAAUAQAAWAEAAEgAAAAsAAAAXAAAAN4AAACLEAAAsQAAAK0AAACcAQAAQAEAAFsAAADKBQAAGRMAAHYdAABMAQAA9xoAABMBAACAAAAARh0AADwDAADjAAAAOgEAAIwDAADXAwAA5ggAAHAAAABbAAAACyIAAHYdAAAEAwAAGQAAAIEEAAA8AwAAkgAAABIAAADmDAAAjAMAANcDAACOCwAAygUAABkTAACECAAA7gAAADAAAABABwAANgEAAAQFAAAsAQAA/E0AABIBAAByAgAApQAAADYQAADEAgAAhBUAAIAoAAASAQAAdwYAADYBAADmBwAA8hQAAKwBAADoLAAA/E0AAKYaAABBAgAAGQEAAP0AAAAEAQAAcgIAABpRAACrTgAA5gcAAPIUAAD9AAAA2QAAAAQBAAB3BgAABAUAAKtOAACmGgAARgcAAAw1AAASBgAAzhkAADoWAAAaUQAA7gEAAHgBAADoLAAAKT4AAAwGAAA5GAAAvAIAAEYBAACbAQAArAIAAHIAAAC0SQAA2hIAAP0YAACWVQAA/BkAAKwCAAA5GAAA/xYAAO0BAABtHQAAawMAANoSAAD9GAAAbR0AAPxjAACxAgAA/xYAAOJBAABZQwAAawMAAPIBAABxAQAABgkAAHwDAADCBAAAwgQAAEwFAABMAgAAHgMAALxeAAD8DgAAnAQAACRXAAAeAwAAvF4AADoWAACmBAAAhw8AAE5CAADIiAAArLwAAFw6AACCAAAAewYAAEwDAACSAQAAjAMAAPwOAAA6FgAAvwIAAEQIAAAOdwAAnwEAABYTAAAOdwAAjAMAAP5lAAD6FAAASmgAAJIBAAA8YQAAlQEAAOABAAA2AwAArQMAALIFAACyBQAArQMAAE0CAAChAgAAlQEAAF8EAACdAgAAGwYAABE6AABjAQAALQgAAMcAAABmAwAApF4AAIxYAAA4MQAAfQUAAHRAAAAXBQAADEkAADo6AAApXgAALgMAABE6AAAnKQAArQcAAPJTAABtBQAABRUAADARAAAKBwAAZwoAAOsCAAAzBgAAoAEAAGEIAACzEwAAJykAABALAAArBgAABRUAADARAAAJBAAAPkkAAG0FAADxBAAA+QgAAGcKAADHAAAAZgMAAElcAAC8JQAA8lMAAD5JAABcDQAAPQUAAP8JAACUAQAAdwYAACMHAABuAAAA/BkAAGRQAADEdwAATQIAAKgHAAC4egAAdwYAAKM7AADkGwAAtlAAAGEFAAC4egAAdQIAANpVAABMqgAA/wkAAHUCAADaVQAAQwUAAEirAAA6OgAAu4kAAKM7AABNAgAATKoAADwIAAC6BwAAIAYAAA0EAAA8CAAAsQQAAC8CAAANBAAAYgIAAC4GAAAHCgAArQcAAK8HAAD5AQAALQUAACwCAAAMAQAABwMAALQFAABEBwAABwMAACwCAACIqAAAwCQAAOmyAADOCgAA6bIAAHNVAACeiwAAwCQAABJ4AACeCAAABQwAAGUIAAAfXAAALHMAABAJAAARBAAAF4gAAFQDAABVRwAAzgoAAMUHAACMcAAANwMAAKUKAACrTgAAV+EAADk4AAA+EwEA+SEAAB0GAACMcAAAEQEAAAMIAACPAAAAAwgAACg8AABMAgAA+JQAALkLAABsBAAACAQAAHCSAABIeAAAVQMAAIQrAADBAgAAZQIAAIkIAACg5gAAewEAAH4DAABFBQAAFgwAALQSAAC46gAAQQQAAPiUAAA+AgAAWwYAAB0FAAAwJAAAiDsAANY+AAAdBQAArCkAACguAAAQyAAAwEsAAGwEAABbBgAAiQgAAKDmAACACQAAVQMAACgFAACIOwAAugIAAGJzAACMAQAAC5EBAP/MAAD2IQAAygkAAJtRAAD2AwAA6noAADojAACHDgEAZykBAGETAABicwAAeAYAAIwBAACkiwAAfQcAAOp6AABKAQAAGJABANKgAADqGAAAuVwAACWcAABACAAAcRgBAEymAAC2AwAA6cQAAGwJAAB4BgAAiiYAANT+AAAlnAAAHQUAAOkLAACpBAAAAwIAAKoGAABIAQAA1wYAAEwHAADiAAAATAgAANsNAADiAAAA2xIAAEgBAABMBwAAmQgAAEoBAADPAQAAXQYAAM8BAAA8qAAAXUgAADs8AQAWWAAAJAwAAEQPAABCRQAAsgwAAOIBAAD9AwAA/QIAAKEEAABdVwAA7k0AANQMAQDiAQAASQcAAI5dAAD2YwAAphAAAMEDAADFfwEAoDIAANQMAQCyDAAAfHsAAKr/AABFHAAAQDIBAL5eAQCAEAAA7g8AABAMAACpYAAAJAwAAPZjAAAtBgAAnQcAAC0GAAB5AgAAbwIAAL8EAAAuBQAAnxQAAG8CAAD8CQAAHHcAAFtqAQAbgwAADgoAACMIAAAzcwAAthkAAOcNAACJcAAApAkAAH88AQDCFAAAgQwAAJIUAADJDAAAG4MAALYZAAAWsAAAGxgAADgEAAC8MwAAcAUAAPAIAADBHQAAORkAAP6pAACXFgAA90wAAN0yAAC8MwAA5w0AACQBAABckQAAkI0AAFR+AADoEgAAwgQAAFT5AADwBwAA+AgAABQQAADIpgAAfOsBAFyRAABUfgAAfAgAABQQAACEBQEAHL8AAFguAQBixAAArAIAAI8LAADe5AAAxKEAAHwIAADcCwAAPhsAADZmAADEoQAA3YsAAI8LAABMLAAAOgsAAPgIAADqEQAAoxcAAPcOAABaDgAA5AQAAFoOAACHDwAAjRMAAI0TAAAMpAAAJT4BAH0EAACfrgAAnQQAAK4DAADnFgAArwwAAB0FAADxegAA0hoAAIAbAADM0wEAe2QAAHoDAACVCQAA6wsAAK8MAABzPwAALAYAAHMeAADM0wEAOgQAAK4DAAAHBQAAfwIAANuMAQAsBgAAe2QAAOsLAABOaQAAOgQAAH8CAADJCgAANRwAABATAAB4CwAAEgEAAB8BAAB4CwAARwIAAI4aAAB+DgAAJAkAABIBAAAkCQAAOQ0AAGqDAADuRQAAcPUAALSlAABpDAAA3hIAANfAAABbqgEAf+UAAEgmAAB8AQAAnAYAAN4SAADYAgAAQxQAAEwOAAAfEwAAoAYAAPyFAACUDgAASeEAAOJvAQCqawAAoAYAAJiTAQAiLAAAEKABABwLAADioAEAIiwAAHD1AAC0pQAAMfUAALCRAABqwgAAPhAAAEwOAAAfEwAAoAYAAJwGAABXDwAA/FUAAKnKAAB3TwAA+l8AAJINAAAvDgAAZQoAAK1IAgB9FgAAIQMAAHdPAABTCgAAl5sBAB+5AQBtBgAAbwMAAIQDAADWGAAAjzAAAHbEAQCQsgAAbQYAACQKAABTBAAAIQMAAFMKAABb2AAAbigAAG8DAAAPswEA+l8AAJwFAAD3AgAAsgwAAA==",
          "dtype": "i4"
         },
         "y": {
          "bdata": "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",
          "dtype": "f8"
         }
        }
       ],
       "layout": {
        "height": 600,
        "template": {
         "data": {
          "bar": [
           {
            "error_x": {
             "color": "#2a3f5f"
            },
            "error_y": {
             "color": "#2a3f5f"
            },
            "marker": {
             "line": {
              "color": "white",
              "width": 0.5
             },
             "pattern": {
              "fillmode": "overlay",
              "size": 10,
              "solidity": 0.2
             }
            },
            "type": "bar"
           }
          ],
          "barpolar": [
           {
            "marker": {
             "line": {
              "color": "white",
              "width": 0.5
             },
             "pattern": {
              "fillmode": "overlay",
              "size": 10,
              "solidity": 0.2
             }
            },
            "type": "barpolar"
           }
          ],
          "carpet": [
           {
            "aaxis": {
             "endlinecolor": "#2a3f5f",
             "gridcolor": "#C8D4E3",
             "linecolor": "#C8D4E3",
             "minorgridcolor": "#C8D4E3",
             "startlinecolor": "#2a3f5f"
            },
            "baxis": {
             "endlinecolor": "#2a3f5f",
             "gridcolor": "#C8D4E3",
             "linecolor": "#C8D4E3",
             "minorgridcolor": "#C8D4E3",
             "startlinecolor": "#2a3f5f"
            },
            "type": "carpet"
           }
          ],
          "choropleth": [
           {
            "colorbar": {
             "outlinewidth": 0,
             "ticks": ""
            },
            "type": "choropleth"
           }
          ],
          "contour": [
           {
            "colorbar": {
             "outlinewidth": 0,
             "ticks": ""
            },
            "colorscale": [
             [
              0,
              "#0d0887"
             ],
             [
              0.1111111111111111,
              "#46039f"
             ],
             [
              0.2222222222222222,
              "#7201a8"
             ],
             [
              0.3333333333333333,
              "#9c179e"
             ],
             [
              0.4444444444444444,
              "#bd3786"
             ],
             [
              0.5555555555555556,
              "#d8576b"
             ],
             [
              0.6666666666666666,
              "#ed7953"
             ],
             [
              0.7777777777777778,
              "#fb9f3a"
             ],
             [
              0.8888888888888888,
              "#fdca26"
             ],
             [
              1,
              "#f0f921"
             ]
            ],
            "type": "contour"
           }
          ],
          "contourcarpet": [
           {
            "colorbar": {
             "outlinewidth": 0,
             "ticks": ""
            },
            "type": "contourcarpet"
           }
          ],
          "heatmap": [
           {
            "colorbar": {
             "outlinewidth": 0,
             "ticks": ""
            },
            "colorscale": [
             [
              0,
              "#0d0887"
             ],
             [
              0.1111111111111111,
              "#46039f"
             ],
             [
              0.2222222222222222,
              "#7201a8"
             ],
             [
              0.3333333333333333,
              "#9c179e"
             ],
             [
              0.4444444444444444,
              "#bd3786"
             ],
             [
              0.5555555555555556,
              "#d8576b"
             ],
             [
              0.6666666666666666,
              "#ed7953"
             ],
             [
              0.7777777777777778,
              "#fb9f3a"
             ],
             [
              0.8888888888888888,
              "#fdca26"
             ],
             [
              1,
              "#f0f921"
             ]
            ],
            "type": "heatmap"
           }
          ],
          "histogram": [
           {
            "marker": {
             "pattern": {
              "fillmode": "overlay",
              "size": 10,
              "solidity": 0.2
             }
            },
            "type": "histogram"
           }
          ],
          "histogram2d": [
           {
            "colorbar": {
             "outlinewidth": 0,
             "ticks": ""
            },
            "colorscale": [
             [
              0,
              "#0d0887"
             ],
             [
              0.1111111111111111,
              "#46039f"
             ],
             [
              0.2222222222222222,
              "#7201a8"
             ],
             [
              0.3333333333333333,
              "#9c179e"
             ],
             [
              0.4444444444444444,
              "#bd3786"
             ],
             [
              0.5555555555555556,
              "#d8576b"
             ],
             [
              0.6666666666666666,
              "#ed7953"
             ],
             [
              0.7777777777777778,
              "#fb9f3a"
             ],
             [
              0.8888888888888888,
              "#fdca26"
             ],
             [
              1,
              "#f0f921"
             ]
            ],
            "type": "histogram2d"
           }
          ],
          "histogram2dcontour": [
           {
            "colorbar": {
             "outlinewidth": 0,
             "ticks": ""
            },
            "colorscale": [
             [
              0,
              "#0d0887"
             ],
             [
              0.1111111111111111,
              "#46039f"
             ],
             [
              0.2222222222222222,
              "#7201a8"
             ],
             [
              0.3333333333333333,
              "#9c179e"
             ],
             [
              0.4444444444444444,
              "#bd3786"
             ],
             [
              0.5555555555555556,
              "#d8576b"
             ],
             [
              0.6666666666666666,
              "#ed7953"
             ],
             [
              0.7777777777777778,
              "#fb9f3a"
             ],
             [
              0.8888888888888888,
              "#fdca26"
             ],
             [
              1,
              "#f0f921"
             ]
            ],
            "type": "histogram2dcontour"
           }
          ],
          "mesh3d": [
           {
            "colorbar": {
             "outlinewidth": 0,
             "ticks": ""
            },
            "type": "mesh3d"
           }
          ],
          "parcoords": [
           {
            "line": {
             "colorbar": {
              "outlinewidth": 0,
              "ticks": ""
             }
            },
            "type": "parcoords"
           }
          ],
          "pie": [
           {
            "automargin": true,
            "type": "pie"
           }
          ],
          "scatter": [
           {
            "fillpattern": {
             "fillmode": "overlay",
             "size": 10,
             "solidity": 0.2
            },
            "type": "scatter"
           }
          ],
          "scatter3d": [
           {
            "line": {
             "colorbar": {
              "outlinewidth": 0,
              "ticks": ""
             }
            },
            "marker": {
             "colorbar": {
              "outlinewidth": 0,
              "ticks": ""
             }
            },
            "type": "scatter3d"
           }
          ],
          "scattercarpet": [
           {
            "marker": {
             "colorbar": {
              "outlinewidth": 0,
              "ticks": ""
             }
            },
            "type": "scattercarpet"
           }
          ],
          "scattergeo": [
           {
            "marker": {
             "colorbar": {
              "outlinewidth": 0,
              "ticks": ""
             }
            },
            "type": "scattergeo"
           }
          ],
          "scattergl": [
           {
            "marker": {
             "colorbar": {
              "outlinewidth": 0,
              "ticks": ""
             }
            },
            "type": "scattergl"
           }
          ],
          "scattermap": [
           {
            "marker": {
             "colorbar": {
              "outlinewidth": 0,
              "ticks": ""
             }
            },
            "type": "scattermap"
           }
          ],
          "scattermapbox": [
           {
            "marker": {
             "colorbar": {
              "outlinewidth": 0,
              "ticks": ""
             }
            },
            "type": "scattermapbox"
           }
          ],
          "scatterpolar": [
           {
            "marker": {
             "colorbar": {
              "outlinewidth": 0,
              "ticks": ""
             }
            },
            "type": "scatterpolar"
           }
          ],
          "scatterpolargl": [
           {
            "marker": {
             "colorbar": {
              "outlinewidth": 0,
              "ticks": ""
             }
            },
            "type": "scatterpolargl"
           }
          ],
          "scatterternary": [
           {
            "marker": {
             "colorbar": {
              "outlinewidth": 0,
              "ticks": ""
             }
            },
            "type": "scatterternary"
           }
          ],
          "surface": [
           {
            "colorbar": {
             "outlinewidth": 0,
             "ticks": ""
            },
            "colorscale": [
             [
              0,
              "#0d0887"
             ],
             [
              0.1111111111111111,
              "#46039f"
             ],
             [
              0.2222222222222222,
              "#7201a8"
             ],
             [
              0.3333333333333333,
              "#9c179e"
             ],
             [
              0.4444444444444444,
              "#bd3786"
             ],
             [
              0.5555555555555556,
              "#d8576b"
             ],
             [
              0.6666666666666666,
              "#ed7953"
             ],
             [
              0.7777777777777778,
              "#fb9f3a"
             ],
             [
              0.8888888888888888,
              "#fdca26"
             ],
             [
              1,
              "#f0f921"
             ]
            ],
            "type": "surface"
           }
          ],
          "table": [
           {
            "cells": {
             "fill": {
              "color": "#EBF0F8"
             },
             "line": {
              "color": "white"
             }
            },
            "header": {
             "fill": {
              "color": "#C8D4E3"
             },
             "line": {
              "color": "white"
             }
            },
            "type": "table"
           }
          ]
         },
         "layout": {
          "annotationdefaults": {
           "arrowcolor": "#2a3f5f",
           "arrowhead": 0,
           "arrowwidth": 1
          },
          "autotypenumbers": "strict",
          "coloraxis": {
           "colorbar": {
            "outlinewidth": 0,
            "ticks": ""
           }
          },
          "colorscale": {
           "diverging": [
            [
             0,
             "#8e0152"
            ],
            [
             0.1,
             "#c51b7d"
            ],
            [
             0.2,
             "#de77ae"
            ],
            [
             0.3,
             "#f1b6da"
            ],
            [
             0.4,
             "#fde0ef"
            ],
            [
             0.5,
             "#f7f7f7"
            ],
            [
             0.6,
             "#e6f5d0"
            ],
            [
             0.7,
             "#b8e186"
            ],
            [
             0.8,
             "#7fbc41"
            ],
            [
             0.9,
             "#4d9221"
            ],
            [
             1,
             "#276419"
            ]
           ],
           "sequential": [
            [
             0,
             "#0d0887"
            ],
            [
             0.1111111111111111,
             "#46039f"
            ],
            [
             0.2222222222222222,
             "#7201a8"
            ],
            [
             0.3333333333333333,
             "#9c179e"
            ],
            [
             0.4444444444444444,
             "#bd3786"
            ],
            [
             0.5555555555555556,
             "#d8576b"
            ],
            [
             0.6666666666666666,
             "#ed7953"
            ],
            [
             0.7777777777777778,
             "#fb9f3a"
            ],
            [
             0.8888888888888888,
             "#fdca26"
            ],
            [
             1,
             "#f0f921"
            ]
           ],
           "sequentialminus": [
            [
             0,
             "#0d0887"
            ],
            [
             0.1111111111111111,
             "#46039f"
            ],
            [
             0.2222222222222222,
             "#7201a8"
            ],
            [
             0.3333333333333333,
             "#9c179e"
            ],
            [
             0.4444444444444444,
             "#bd3786"
            ],
            [
             0.5555555555555556,
             "#d8576b"
            ],
            [
             0.6666666666666666,
             "#ed7953"
            ],
            [
             0.7777777777777778,
             "#fb9f3a"
            ],
            [
             0.8888888888888888,
             "#fdca26"
            ],
            [
             1,
             "#f0f921"
            ]
           ]
          },
          "colorway": [
           "#636efa",
           "#EF553B",
           "#00cc96",
           "#ab63fa",
           "#FFA15A",
           "#19d3f3",
           "#FF6692",
           "#B6E880",
           "#FF97FF",
           "#FECB52"
          ],
          "font": {
           "color": "#2a3f5f"
          },
          "geo": {
           "bgcolor": "white",
           "lakecolor": "white",
           "landcolor": "white",
           "showlakes": true,
           "showland": true,
           "subunitcolor": "#C8D4E3"
          },
          "hoverlabel": {
           "align": "left"
          },
          "hovermode": "closest",
          "mapbox": {
           "style": "light"
          },
          "paper_bgcolor": "white",
          "plot_bgcolor": "white",
          "polar": {
           "angularaxis": {
            "gridcolor": "#EBF0F8",
            "linecolor": "#EBF0F8",
            "ticks": ""
           },
           "bgcolor": "white",
           "radialaxis": {
            "gridcolor": "#EBF0F8",
            "linecolor": "#EBF0F8",
            "ticks": ""
           }
          },
          "scene": {
           "xaxis": {
            "backgroundcolor": "white",
            "gridcolor": "#DFE8F3",
            "gridwidth": 2,
            "linecolor": "#EBF0F8",
            "showbackground": true,
            "ticks": "",
            "zerolinecolor": "#EBF0F8"
           },
           "yaxis": {
            "backgroundcolor": "white",
            "gridcolor": "#DFE8F3",
            "gridwidth": 2,
            "linecolor": "#EBF0F8",
            "showbackground": true,
            "ticks": "",
            "zerolinecolor": "#EBF0F8"
           },
           "zaxis": {
            "backgroundcolor": "white",
            "gridcolor": "#DFE8F3",
            "gridwidth": 2,
            "linecolor": "#EBF0F8",
            "showbackground": true,
            "ticks": "",
            "zerolinecolor": "#EBF0F8"
           }
          },
          "shapedefaults": {
           "line": {
            "color": "#2a3f5f"
           }
          },
          "ternary": {
           "aaxis": {
            "gridcolor": "#DFE8F3",
            "linecolor": "#A2B1C6",
            "ticks": ""
           },
           "baxis": {
            "gridcolor": "#DFE8F3",
            "linecolor": "#A2B1C6",
            "ticks": ""
           },
           "bgcolor": "white",
           "caxis": {
            "gridcolor": "#DFE8F3",
            "linecolor": "#A2B1C6",
            "ticks": ""
           }
          },
          "title": {
           "x": 0.05
          },
          "xaxis": {
           "automargin": true,
           "gridcolor": "#EBF0F8",
           "linecolor": "#EBF0F8",
           "ticks": "",
           "title": {
            "standoff": 15
           },
           "zerolinecolor": "#EBF0F8",
           "zerolinewidth": 2
          },
          "yaxis": {
           "automargin": true,
           "gridcolor": "#EBF0F8",
           "linecolor": "#EBF0F8",
           "ticks": "",
           "title": {
            "standoff": 15
           },
           "zerolinecolor": "#EBF0F8",
           "zerolinewidth": 2
          }
         }
        },
        "title": {
         "font": {
          "size": 20
         },
         "text": "Linear Regression: Discounts vs Sales",
         "x": 0.5,
         "xanchor": "center"
        },
        "width": 1000,
        "xaxis": {
         "showgrid": true,
         "tickangle": -45,
         "tickfont": {
          "size": 12
         },
         "title": {
          "font": {
           "size": 16
          },
          "text": "Discounts"
         }
        },
        "yaxis": {
         "showgrid": true,
         "tickfont": {
          "size": 12
         },
         "title": {
          "font": {
           "size": 16
          },
          "text": "Sales"
         }
        }
       }
      }
     },
     "metadata": {},
     "output_type": "display_data"
    }
   ],
   "source": [
    "fig = go.Figure()\n",
    "\n",
    "fig.add_trace(go.Scatter(\n",
    "    x=df['Discounts'], \n",
    "    y=df['Sales'], \n",
    "    mode='markers', \n",
    "    name='Actual', \n",
    "    marker=dict(color='blue', size=6),\n",
    "    hovertemplate=\"Discounts: %{x}<br>Sales: %{y}<extra></extra>\"\n",
    "))\n",
    "\n",
    "fig.add_trace(go.Scatter(\n",
    "    x=df['Discounts'], \n",
    "    y=df['Sales_Predicted'], \n",
    "    mode='lines', \n",
    "    name='Predicted', \n",
    "    line=dict(color='red', width=2),\n",
    "    hovertemplate=\"Discounts: %{x}<br>Predicted Sales: %{y}<extra></extra>\"\n",
    "))\n",
    "\n",
    "fig.update_layout(\n",
    "    title=dict(\n",
    "        text=\"Linear Regression: Discounts vs Sales\",\n",
    "        font=dict(size=20),\n",
    "        x=0.5,\n",
    "        xanchor='center'\n",
    "    ),\n",
    "    xaxis=dict(\n",
    "        title=dict(text=\"Discounts\", font=dict(size=16)),\n",
    "        tickangle=-45,\n",
    "        showgrid=True,\n",
    "        tickfont=dict(size=12)\n",
    "    ),\n",
    "    yaxis=dict(\n",
    "        title=dict(text=\"Sales\", font=dict(size=16)),\n",
    "        showgrid=True,\n",
    "        tickfont=dict(size=12)\n",
    "    ),\n",
    "    template='plotly_white',\n",
    "    width=1000,\n",
    "    height=600\n",
    ")\n",
    "\n",
    "fig.show()"
   ]
  },
  {
   "cell_type": "code",
   "execution_count": 37,
   "metadata": {},
   "outputs": [],
   "source": [
    "X = sm.add_constant(X)\n",
    "model = sm.OLS(y, X).fit()"
   ]
  },
  {
   "cell_type": "code",
   "execution_count": 39,
   "metadata": {},
   "outputs": [
    {
     "name": "stdout",
     "output_type": "stream",
     "text": [
      "                            OLS Regression Results                            \n",
      "==============================================================================\n",
      "Dep. Variable:                  Sales   R-squared:                       0.553\n",
      "Model:                            OLS   Adj. R-squared:                  0.552\n",
      "Method:                 Least Squares   F-statistic:                     862.5\n",
      "Date:                Wed, 05 Feb 2025   Prob (F-statistic):          4.59e-124\n",
      "Time:                        17:25:56   Log-Likelihood:                -9373.4\n",
      "No. Observations:                 700   AIC:                         1.875e+04\n",
      "Df Residuals:                     698   BIC:                         1.876e+04\n",
      "Df Model:                           1                                         \n",
      "Covariance Type:            nonrobust                                         \n",
      "==============================================================================\n",
      "                 coef    std err          t      P>|t|      [0.025      0.975]\n",
      "------------------------------------------------------------------------------\n",
      "const       6.882e+04   6901.873      9.972      0.000    5.53e+04    8.24e+04\n",
      "Discounts      7.6642      0.261     29.369      0.000       7.152       8.177\n",
      "==============================================================================\n",
      "Omnibus:                      416.558   Durbin-Watson:                   1.477\n",
      "Prob(Omnibus):                  0.000   Jarque-Bera (JB):             2999.316\n",
      "Skew:                           2.691   Prob(JB):                         0.00\n",
      "Kurtosis:                      11.594   Cond. No.                     3.05e+04\n",
      "==============================================================================\n",
      "\n",
      "Notes:\n",
      "[1] Standard Errors assume that the covariance matrix of the errors is correctly specified.\n",
      "[2] The condition number is large, 3.05e+04. This might indicate that there are\n",
      "strong multicollinearity or other numerical problems.\n"
     ]
    }
   ],
   "source": [
    "print(model.summary())"
   ]
  },
  {
   "cell_type": "markdown",
   "metadata": {},
   "source": [
    "From the OLS regression it's confirmed a positive relation between Discount and Sales: with a unit increase in Discount, Sales on average increase by 7.67."
   ]
  },
  {
   "cell_type": "markdown",
   "metadata": {},
   "source": [
    "## 5. Correlation "
   ]
  },
  {
   "cell_type": "code",
   "execution_count": 40,
   "metadata": {},
   "outputs": [],
   "source": [
    "df_model = pd.get_dummies(df, columns=['Segment', 'Country', 'Product'], drop_first=True)"
   ]
  },
  {
   "cell_type": "code",
   "execution_count": 41,
   "metadata": {},
   "outputs": [],
   "source": [
    "df_model = df_model.replace({' None ': None}, regex=True)\n",
    "df_model['Discount Band'] = df_model['Discount Band'].str.strip()\n",
    "df_model = pd.get_dummies(df_model, columns=['Discount Band'], drop_first=True)"
   ]
  },
  {
   "cell_type": "code",
   "execution_count": 42,
   "metadata": {},
   "outputs": [],
   "source": [
    "correlation_matrix = df_model.corr()"
   ]
  },
  {
   "cell_type": "code",
   "execution_count": 44,
   "metadata": {},
   "outputs": [
    {
     "data": {
      "application/vnd.plotly.v1+json": {
       "config": {
        "plotlyServerURL": "https://plot.ly"
       },
       "data": [
        {
         "coloraxis": "coloraxis",
         "hovertemplate": "x: %{x}<br>y: %{y}<br>color: %{z}<extra></extra>",
         "name": "0",
         "texttemplate": "%{z:.2f}",
         "type": "heatmap",
         "x": [
          "Units Sold",
          "Manufacturing Price",
          "Sale Price",
          "Gross Sales",
          "Discounts",
          "Sales",
          "COGS",
          "Profit",
          "Sales_Predicted",
          "Segment_Enterprise",
          "Segment_Government",
          "Segment_Midmarket",
          "Segment_Small Business",
          "Country_France",
          "Country_Germany",
          "Country_Mexico",
          "Country_United States of America",
          "Product_ Carretera ",
          "Product_ Montana ",
          "Product_ Paseo ",
          "Product_ VTT ",
          "Product_ Velo ",
          "Discount Band_Low",
          "Discount Band_Medium"
         ],
         "xaxis": "x",
         "y": [
          "Units Sold",
          "Manufacturing Price",
          "Sale Price",
          "Gross Sales",
          "Discounts",
          "Sales",
          "COGS",
          "Profit",
          "Sales_Predicted",
          "Segment_Enterprise",
          "Segment_Government",
          "Segment_Midmarket",
          "Segment_Small Business",
          "Country_France",
          "Country_Germany",
          "Country_Mexico",
          "Country_United States of America",
          "Product_ Carretera ",
          "Product_ Montana ",
          "Product_ Paseo ",
          "Product_ VTT ",
          "Product_ Velo ",
          "Discount Band_Low",
          "Discount Band_Medium"
         ],
         "yaxis": "y",
         "z": {
          "bdata": "AAAAAAAA8D8UYAxgT1yev776Vv9sqLC/Cum5cCjx1D8P+L0v4jHQP+E0aIgh7NQ/Evd2WnM61T/yuVqKOWPRPwv4vS/iMdA/3XdYLCqfoj9xmNhjxSWkv7iLkAM/Xqs/7u1iyzuLor9t426JpqGwP5khQwYf9ri/z91duW0Ht78YnjIyfX+fP8ujpRXCG4u/Dqt5bG8Alz8skXxYXuSoPxeqUXvFW56/ZesYFrX4rb/dc1rv8zWSP3ZSlGqi3qC/FGAMYE9cnr8AAAAAAADwP6vJqzEOH7I/cz/wSTuGqT8T776UhxKVP9fre0ykZKo/z8Zge5v9pz8btJvXtxexPxLvvpSHEpU/TbqTsmX9db/+nHHu8zp1P8fAsOO7LKG/PQh4gZvJnT8AVAmmlOZxv3Qs1TWccHK/uy4crt1obr9WV2Pz9uiYP9NRKyXck9W/rcI+cqwd1b926PH2Zz3gvxLA9QrUcOM/wo0WSWvUtz+ClXHwDXOxv+cKCmN2JZo/vvpW/2yosL+ryasxDh+yPwAAAAAAAPA/Od5/jC/d6T8UBULpvojkP/r6PIvAyek/0k/j7CeU6T/EdP8ik5HlPxUFQum+iOQ/pPb0sXsZlD9SfYSRR3unPyT4UOWWxdO/i4MXgN9a4T/pq0UWz2KHvBdlrm59QVw8EwqTVyLpYLz2Br/t7h9hPGOQ+eOzg5O/YWBw46g+b78xR/t8inSov7jel5EVN7A/rZOS5S2HhL/2y/BNspKvP7JoaBeM/YG/Cum5cCjx1D9zP/BJO4apPznef4wv3ek/AAAAAAAA8D9TNJheIQrpP+dzYBoL8e8/7J139hjT7z/L5viCnIbqP1U0mF4hCuk/6SHA/Dv6pj+4hUBIo1OSP99I895LI9C/9bJExBVz3D9kSzllDoV8P8mrRx+mI4O/OWYdwxWUpL+9Wto6mzmYP9X8FNnCdqG/Hwtr5qRQfr9DQEp+hJeQv0LvXdASQqA/JmVvs1LiV78FhEmjcYG1PxN+fmKOmJ2/D/i9L+Ix0D8T776UhxKVPxQFQum+iOQ/UzSYXiEK6T8AAAAAAADwPxaJrv1Uyuc/quoHx8YN6T/5c9SBlCHcPwQAAAAAAPA/BwDfjeLqmT8dGG5IUtt3v+kymQnqX8m/DoXdrzwJ2T8wADrulxiSv1OORNo17rC/YrRfbfM6hL+0N+vW/8CvP9JUY7xn7ZK/6ZTmQXIFiL8L88UVsm9/v1ynFF0+VXA/pYU6I/MymT9GLHa1Kx/Hv7ZKDqE7G5i/4TRoiCHs1D/X63tMpGSqP/r6PIvAyek/53NgGgvx7z8Wia79VMrnPwAAAAAAAPA/pBxfAnbA7z9G42QXWyDrPxaJrv1Uyuc/JYrtiyZspz9ppi17REOUP3ceYH5FGtC/+8ya0uQg3D+8WQuputOCP5kmqjqQrG2/Tl7Gobucpb8QKsy47duTP/7feqzv1qG/dBWDu4bme79rwgD+BA+Rv62dgjiyQ6E/TzM7S9wwcL8bLJMwmZW7P9YaqIA3c52/Evd2WnM61T/PxmB7m/2nP9JP4+wnlOk/7J139hjT7z+q6gfHxg3pP6QcXwJ2wO8/AAAAAAAA8D9O8qbAqvPoP63qB8fGDek/1PGzqPshvT+UsD03d1Siv2tnjlkUc9C/g/yA8KZx3j9srAyBf6xtP13Q9jrQcYO/lA2U8sXdpL+RAQ1Vd/CdPxIDAasdTKC/bd43eBRsdb/Zu0L3F5SSv2x5JersC6A/mcTOBCynWz9DCt9MoRS2P+jcgrQdQp6/8rlaijlj0T8btJvXtxexP8R0/yKTkeU/y+b4gpyG6j/5c9SBlCHcP0bjZBdbIOs/TvKmwKrz6D8AAAAAAADwPwJ01IGUIdw/9CSvQ5xmxb9BHxkfyBPPP7gBDMVq78i/LIAi3SwIwz8PymqjEkmeP9rYDgT2AJg/hK5R1D6tpb8GqZaHFdOZvz5BSuTU3JC/BAPSsYA8l7+06/IKxzyWv6jnbrCNwaM/i0VCdTDGnr/YF4HFpL7EP1fXiM8xJaK/C/i9L+Ix0D8S776UhxKVPxUFQum+iOQ/VTSYXiEK6T8EAAAAAADwPxaJrv1Uyuc/reoHx8YN6T8CdNSBlCHcPwAAAAAAAPA/DgDfjeLqmT8oGG5IUtt3v/MymQnqX8m/HIXdrzwJ2T8mADrulxiSv0yORNo17rC/c7RfbfM6hL+1N+vW/8CvP8tUY7xn7ZK/6ZTmQXIFiL8Z88UVsm9/v16nFF0+VXA/pYU6I/MymT9DLHa1Kx/Hv6hKDqE7G5i/3XdYLCqfoj9NupOyZf11v6T29LF7GZQ/6SHA/Dv6pj8HAN+N4uqZPyWK7YsmbKc/1PGzqPshvT/0JK9DnGbFvw4A343i6pk/AAAAAAAA8D/LO39mnqDWv1NVVVVVVcW/TlVVVVVVxb88ynMunb1cPMnWsmEOs2q8bOLNE1jNfbwlUtU0HkpCvCOzGq8sHZU/lAyoBsOrj7+IazjPclyav3uQ0Z80HpK/qrNSK3JLrz+vBVuwBVvAPwqUAcBqCLW/cZjYY8UlpL/+nHHu8zp1P1J9hJFHe6c/uIVASKNTkj8dGG5IUtt3v2mmLXtEQ5Q/lLA9N3dUor9BHxkfyBPPPygYbkhS23e/yzt/Zp6g1r8AAAAAAADwP8g7f2aeoNa/0zt/Zp6g1r8892fhWZh4vEIrGq3WQ4Q8h+d7sLgsXDytI3UpaWh/PELh6j7Ky6C/ok9aYoupkj87QWmp36OCP7jxCFkaS3e/sfEIWRpLd79dTz9cW120v11HDz1owLc/uIuQAz9eqz/HwLDjuyyhvyT4UOWWxdO/30jz3ksj0L/pMpkJ6l/Jv3ceYH5FGtC/a2eOWRRz0L+4AQzFau/Iv/MymQnqX8m/U1VVVVVVxb/IO39mnqDWvwAAAAAAAPA/XFVVVVVVxb8w8Dzz/eb0O+440Ti1One8vYEoya8giTw4XdiQTdJIPKoMqAbDq4+/rQyoBsOrj78wQ4PBx3mwP4OQ0Z80HpK/e5DRnzQekr/kgi3Ygi2ov3lckx6H4ay/7u1iyzuLor89CHiBm8mdP4uDF4DfWuE/9bJExBVz3D8Ohd2vPAnZP/vMmtLkINw/g/yA8KZx3j8sgCLdLAjDPxyF3a88Cdk/TlVVVVVVxb/TO39mnqDWv1xVVVVVVcW/AAAAAAAA8D9A10QioiB4PIGbgdDvL5E8uL/F3UQ1g7x7OD94Ic1pvK4MqAbDq4+/FrMarywdlT+CazjPclyav6azUityS68/f5DRnzQekr+LbMEWbMGGPxTSK2ey26c/beNuiaahsD8AVAmmlOZxv+mrRRbPYoe8ZEs5ZQ6FfD8wADrulxiSv7xZC6m604I/bKwMgX+sbT8PymqjEkmePyYAOu6XGJK/PMpzLp29XDw892fhWZh4vDDwPPP95vQ7QNdEIqIgeDwAAAAAAADwP////////8+/9v//////z78BAAAAAADQv2xIzLX123m/Ov8YVEkrjj8w5wAlGtRpv3TsWOBbI2A/cexY4FsjYD+vcl31KGuBv6inoXUcYKk/mSFDBh/2uL90LNU1nHByvxdlrm59QVw8yatHH6Yjg79TjkTaNe6wv5kmqjqQrG2/XdD2OtBxg7/a2A4E9gCYP0yORNo17rC/ydayYQ6zarxCKxqt1kOEPO440Ti1One8gZuB0O8vkTz////////PvwAAAAAAAPA/+f//////z78BAAAAAADQvy//GFRJK44/ikjMtfXbeb8M5wAlGtRpv6/sWOBbI2A/eOxY4FsjYD+ccl31KGuRP889jWJCm4g/z91duW0Ht7+7Lhyu3WhuvxMKk1ci6WC8OWYdwxWUpL9itF9t8zqEv05exqG7nKW/lA2U8sXdpL+ErlHUPq2lv3O0X23zOoS/bOLNE1jNfbyH53uwuCxcPL2BKMmvIIk8uL/F3UQ1g7z2///////Pv/n//////8+/AAAAAAAA8D/+///////Pv3NIzLX123m/Df8YVEkrjj8Y5wAlGtRpvwoKZFzHJ5K/jOxY4FsjYD/scl31KGuRv0Xu6clxdJK/GJ4yMn1/nz9WV2Pz9uiYP/YGv+3uH2E8vVraOps5mD+0N+vW/8CvPxAqzLjt25M/kQENVXfwnT8GqZaHFdOZv7U369b/wK8/JVLVNB5KQrytI3UpaWh/PDhd2JBN0kg8ezg/eCHNabwBAAAAAADQvwEAAAAAANC//v//////z78AAAAAAADwPwDbMnlOPZG/+NoyeU49kb9k5wAlGtRpv8BihdAJNYg/u2KF0Ak1iD/Lcl31KGuRPxiWOxbah4W/y6OlFcIbi7/TUSsl3JPVv2OQ+eOzg5O/1fwU2cJ2ob/SVGO8Z+2Sv/7feqzv1qG/EgMBqx1MoL8+QUrk1NyQv8tUY7xn7ZK/I7MarywdlT9C4eo+ysugv6oMqAbDq4+/rgyoBsOrj79sSMy19dt5vy//GFRJK44/c0jMtfXbeb8A2zJ5Tj2RvwAAAAAAAPA/JHukxnecw7/LV1jny+jPv4h7s4JJhMW/iXuzgkmExb8jRM4+5iacP89EBS8Df5O/Dqt5bG8Alz+twj5yrB3Vv2FgcOOoPm+/Hwtr5qRQfr/plOZBcgWIv3QVg7uG5nu/bd43eBRsdb8EA9KxgDyXv+mU5kFyBYi/lAyoBsOrj7+iT1pii6mSP60MqAbDq4+/FrMarywdlT86/xhUSSuOP4pIzLX123m/Df8YVEkrjj/42jJ5Tj2RvyR7pMZ3nMO/AAAAAAAA8D/UV1jny+jPv4V7s4JJhMW/hXuzgkmExb9AyrRueX9+Py0Itkqw9FW/LJF8WF7kqD926PH2Zz3gvzFH+3yKdKi/Q0BKfoSXkL8L88UVsm9/v2vCAP4ED5G/2btC9xeUkr+06/IKxzyWvxnzxRWyb3+/iGs4z3Jcmr87QWmp36OCPzBDg8HHebA/gms4z3Jcmr8w5wAlGtRpvwznACUa1Gm/GOcAJRrUab9k5wAlGtRpv8tXWOfL6M+/1FdY58voz78AAAAAAADwP6+oF2dDgdG/sqgXZ0OB0b+venGKehiuP0pGeBSVaKC/F6pRe8Vbnr8SwPUK1HDjP7jel5EVN7A/Qu9d0BJCoD9cpxRdPlVwP62dgjiyQ6E/bHkl6uwLoD+o526wjcGjP16nFF0+VXA/e5DRnzQekr+48QhZGkt3v4OQ0Z80HpK/prNSK3JLrz907FjgWyNgP6/sWOBbI2A/CgpkXMcnkr/AYoXQCTWIP4h7s4JJhMW/hXuzgkmExb+vqBdnQ4HRvwAAAAAAAPA/iXQdhIGbx7/Nd4zH9tyEP2ulh3e3K3e/ZesYFrX4rb/CjRZJa9S3P62TkuUth4S/JmVvs1LiV7+lhToj8zKZP08zO0vcMHC/mcTOBCynWz+LRUJ1MMaev6WFOiPzMpk/qrNSK3JLrz+x8QhZGkt3v3uQ0Z80HpK/f5DRnzQekr9x7FjgWyNgP3jsWOBbI2A/jOxY4FsjYD+7YoXQCTWIP4l7s4JJhMW/hXuzgkmExb+yqBdnQ4HRv4l0HYSBm8e/AAAAAAAA8D8uX0fvuJunv4ZVT69Sy6o/3XNa7/M1kj+ClXHwDXOxv/bL8E2ykq8/BYRJo3GBtT9GLHa1Kx/HvxsskzCZlbs/QwrfTKEUtj/YF4HFpL7EP0MsdrUrH8e/rwVbsAVbwD9dTz9cW120v+SCLdiCLai/i2zBFmzBhj+vcl31KGuBv5xyXfUoa5E/7HJd9Shrkb/Lcl31KGuRPyNEzj7mJpw/QMq0bnl/fj+venGKehiuP813jMf23IQ/Ll9H77ibp78AAAAAAADwPw4Fqhy7Utm/dlKUaqLeoL/nCgpjdiWaP7JoaBeM/YG/E35+Yo6Ynb+2Sg6hOxuYv9YaqIA3c52/6NyCtB1Cnr9X14jPMSWiv6hKDqE7G5i/CpQBwGoItb9dRw89aMC3P3lckx6H4ay/FNIrZ7Lbpz+op6F1HGCpP889jWJCm4g/Re7pyXF0kr8YljsW2oeFv89EBS8Df5O/LQi2SrD0Vb9KRngUlWigv2ulh3e3K3e/hlVPr1LLqj8OBaocu1LZvwAAAAAAAPA/",
          "dtype": "f8",
          "shape": "24, 24"
         }
        }
       ],
       "layout": {
        "coloraxis": {
         "colorscale": [
          [
           0,
           "rgb(5,48,97)"
          ],
          [
           0.1,
           "rgb(33,102,172)"
          ],
          [
           0.2,
           "rgb(67,147,195)"
          ],
          [
           0.3,
           "rgb(146,197,222)"
          ],
          [
           0.4,
           "rgb(209,229,240)"
          ],
          [
           0.5,
           "rgb(247,247,247)"
          ],
          [
           0.6,
           "rgb(253,219,199)"
          ],
          [
           0.7,
           "rgb(244,165,130)"
          ],
          [
           0.8,
           "rgb(214,96,77)"
          ],
          [
           0.9,
           "rgb(178,24,43)"
          ],
          [
           1,
           "rgb(103,0,31)"
          ]
         ]
        },
        "height": 1000,
        "template": {
         "data": {
          "bar": [
           {
            "error_x": {
             "color": "#2a3f5f"
            },
            "error_y": {
             "color": "#2a3f5f"
            },
            "marker": {
             "line": {
              "color": "#E5ECF6",
              "width": 0.5
             },
             "pattern": {
              "fillmode": "overlay",
              "size": 10,
              "solidity": 0.2
             }
            },
            "type": "bar"
           }
          ],
          "barpolar": [
           {
            "marker": {
             "line": {
              "color": "#E5ECF6",
              "width": 0.5
             },
             "pattern": {
              "fillmode": "overlay",
              "size": 10,
              "solidity": 0.2
             }
            },
            "type": "barpolar"
           }
          ],
          "carpet": [
           {
            "aaxis": {
             "endlinecolor": "#2a3f5f",
             "gridcolor": "white",
             "linecolor": "white",
             "minorgridcolor": "white",
             "startlinecolor": "#2a3f5f"
            },
            "baxis": {
             "endlinecolor": "#2a3f5f",
             "gridcolor": "white",
             "linecolor": "white",
             "minorgridcolor": "white",
             "startlinecolor": "#2a3f5f"
            },
            "type": "carpet"
           }
          ],
          "choropleth": [
           {
            "colorbar": {
             "outlinewidth": 0,
             "ticks": ""
            },
            "type": "choropleth"
           }
          ],
          "contour": [
           {
            "colorbar": {
             "outlinewidth": 0,
             "ticks": ""
            },
            "colorscale": [
             [
              0,
              "#0d0887"
             ],
             [
              0.1111111111111111,
              "#46039f"
             ],
             [
              0.2222222222222222,
              "#7201a8"
             ],
             [
              0.3333333333333333,
              "#9c179e"
             ],
             [
              0.4444444444444444,
              "#bd3786"
             ],
             [
              0.5555555555555556,
              "#d8576b"
             ],
             [
              0.6666666666666666,
              "#ed7953"
             ],
             [
              0.7777777777777778,
              "#fb9f3a"
             ],
             [
              0.8888888888888888,
              "#fdca26"
             ],
             [
              1,
              "#f0f921"
             ]
            ],
            "type": "contour"
           }
          ],
          "contourcarpet": [
           {
            "colorbar": {
             "outlinewidth": 0,
             "ticks": ""
            },
            "type": "contourcarpet"
           }
          ],
          "heatmap": [
           {
            "colorbar": {
             "outlinewidth": 0,
             "ticks": ""
            },
            "colorscale": [
             [
              0,
              "#0d0887"
             ],
             [
              0.1111111111111111,
              "#46039f"
             ],
             [
              0.2222222222222222,
              "#7201a8"
             ],
             [
              0.3333333333333333,
              "#9c179e"
             ],
             [
              0.4444444444444444,
              "#bd3786"
             ],
             [
              0.5555555555555556,
              "#d8576b"
             ],
             [
              0.6666666666666666,
              "#ed7953"
             ],
             [
              0.7777777777777778,
              "#fb9f3a"
             ],
             [
              0.8888888888888888,
              "#fdca26"
             ],
             [
              1,
              "#f0f921"
             ]
            ],
            "type": "heatmap"
           }
          ],
          "histogram": [
           {
            "marker": {
             "pattern": {
              "fillmode": "overlay",
              "size": 10,
              "solidity": 0.2
             }
            },
            "type": "histogram"
           }
          ],
          "histogram2d": [
           {
            "colorbar": {
             "outlinewidth": 0,
             "ticks": ""
            },
            "colorscale": [
             [
              0,
              "#0d0887"
             ],
             [
              0.1111111111111111,
              "#46039f"
             ],
             [
              0.2222222222222222,
              "#7201a8"
             ],
             [
              0.3333333333333333,
              "#9c179e"
             ],
             [
              0.4444444444444444,
              "#bd3786"
             ],
             [
              0.5555555555555556,
              "#d8576b"
             ],
             [
              0.6666666666666666,
              "#ed7953"
             ],
             [
              0.7777777777777778,
              "#fb9f3a"
             ],
             [
              0.8888888888888888,
              "#fdca26"
             ],
             [
              1,
              "#f0f921"
             ]
            ],
            "type": "histogram2d"
           }
          ],
          "histogram2dcontour": [
           {
            "colorbar": {
             "outlinewidth": 0,
             "ticks": ""
            },
            "colorscale": [
             [
              0,
              "#0d0887"
             ],
             [
              0.1111111111111111,
              "#46039f"
             ],
             [
              0.2222222222222222,
              "#7201a8"
             ],
             [
              0.3333333333333333,
              "#9c179e"
             ],
             [
              0.4444444444444444,
              "#bd3786"
             ],
             [
              0.5555555555555556,
              "#d8576b"
             ],
             [
              0.6666666666666666,
              "#ed7953"
             ],
             [
              0.7777777777777778,
              "#fb9f3a"
             ],
             [
              0.8888888888888888,
              "#fdca26"
             ],
             [
              1,
              "#f0f921"
             ]
            ],
            "type": "histogram2dcontour"
           }
          ],
          "mesh3d": [
           {
            "colorbar": {
             "outlinewidth": 0,
             "ticks": ""
            },
            "type": "mesh3d"
           }
          ],
          "parcoords": [
           {
            "line": {
             "colorbar": {
              "outlinewidth": 0,
              "ticks": ""
             }
            },
            "type": "parcoords"
           }
          ],
          "pie": [
           {
            "automargin": true,
            "type": "pie"
           }
          ],
          "scatter": [
           {
            "fillpattern": {
             "fillmode": "overlay",
             "size": 10,
             "solidity": 0.2
            },
            "type": "scatter"
           }
          ],
          "scatter3d": [
           {
            "line": {
             "colorbar": {
              "outlinewidth": 0,
              "ticks": ""
             }
            },
            "marker": {
             "colorbar": {
              "outlinewidth": 0,
              "ticks": ""
             }
            },
            "type": "scatter3d"
           }
          ],
          "scattercarpet": [
           {
            "marker": {
             "colorbar": {
              "outlinewidth": 0,
              "ticks": ""
             }
            },
            "type": "scattercarpet"
           }
          ],
          "scattergeo": [
           {
            "marker": {
             "colorbar": {
              "outlinewidth": 0,
              "ticks": ""
             }
            },
            "type": "scattergeo"
           }
          ],
          "scattergl": [
           {
            "marker": {
             "colorbar": {
              "outlinewidth": 0,
              "ticks": ""
             }
            },
            "type": "scattergl"
           }
          ],
          "scattermap": [
           {
            "marker": {
             "colorbar": {
              "outlinewidth": 0,
              "ticks": ""
             }
            },
            "type": "scattermap"
           }
          ],
          "scattermapbox": [
           {
            "marker": {
             "colorbar": {
              "outlinewidth": 0,
              "ticks": ""
             }
            },
            "type": "scattermapbox"
           }
          ],
          "scatterpolar": [
           {
            "marker": {
             "colorbar": {
              "outlinewidth": 0,
              "ticks": ""
             }
            },
            "type": "scatterpolar"
           }
          ],
          "scatterpolargl": [
           {
            "marker": {
             "colorbar": {
              "outlinewidth": 0,
              "ticks": ""
             }
            },
            "type": "scatterpolargl"
           }
          ],
          "scatterternary": [
           {
            "marker": {
             "colorbar": {
              "outlinewidth": 0,
              "ticks": ""
             }
            },
            "type": "scatterternary"
           }
          ],
          "surface": [
           {
            "colorbar": {
             "outlinewidth": 0,
             "ticks": ""
            },
            "colorscale": [
             [
              0,
              "#0d0887"
             ],
             [
              0.1111111111111111,
              "#46039f"
             ],
             [
              0.2222222222222222,
              "#7201a8"
             ],
             [
              0.3333333333333333,
              "#9c179e"
             ],
             [
              0.4444444444444444,
              "#bd3786"
             ],
             [
              0.5555555555555556,
              "#d8576b"
             ],
             [
              0.6666666666666666,
              "#ed7953"
             ],
             [
              0.7777777777777778,
              "#fb9f3a"
             ],
             [
              0.8888888888888888,
              "#fdca26"
             ],
             [
              1,
              "#f0f921"
             ]
            ],
            "type": "surface"
           }
          ],
          "table": [
           {
            "cells": {
             "fill": {
              "color": "#EBF0F8"
             },
             "line": {
              "color": "white"
             }
            },
            "header": {
             "fill": {
              "color": "#C8D4E3"
             },
             "line": {
              "color": "white"
             }
            },
            "type": "table"
           }
          ]
         },
         "layout": {
          "annotationdefaults": {
           "arrowcolor": "#2a3f5f",
           "arrowhead": 0,
           "arrowwidth": 1
          },
          "autotypenumbers": "strict",
          "coloraxis": {
           "colorbar": {
            "outlinewidth": 0,
            "ticks": ""
           }
          },
          "colorscale": {
           "diverging": [
            [
             0,
             "#8e0152"
            ],
            [
             0.1,
             "#c51b7d"
            ],
            [
             0.2,
             "#de77ae"
            ],
            [
             0.3,
             "#f1b6da"
            ],
            [
             0.4,
             "#fde0ef"
            ],
            [
             0.5,
             "#f7f7f7"
            ],
            [
             0.6,
             "#e6f5d0"
            ],
            [
             0.7,
             "#b8e186"
            ],
            [
             0.8,
             "#7fbc41"
            ],
            [
             0.9,
             "#4d9221"
            ],
            [
             1,
             "#276419"
            ]
           ],
           "sequential": [
            [
             0,
             "#0d0887"
            ],
            [
             0.1111111111111111,
             "#46039f"
            ],
            [
             0.2222222222222222,
             "#7201a8"
            ],
            [
             0.3333333333333333,
             "#9c179e"
            ],
            [
             0.4444444444444444,
             "#bd3786"
            ],
            [
             0.5555555555555556,
             "#d8576b"
            ],
            [
             0.6666666666666666,
             "#ed7953"
            ],
            [
             0.7777777777777778,
             "#fb9f3a"
            ],
            [
             0.8888888888888888,
             "#fdca26"
            ],
            [
             1,
             "#f0f921"
            ]
           ],
           "sequentialminus": [
            [
             0,
             "#0d0887"
            ],
            [
             0.1111111111111111,
             "#46039f"
            ],
            [
             0.2222222222222222,
             "#7201a8"
            ],
            [
             0.3333333333333333,
             "#9c179e"
            ],
            [
             0.4444444444444444,
             "#bd3786"
            ],
            [
             0.5555555555555556,
             "#d8576b"
            ],
            [
             0.6666666666666666,
             "#ed7953"
            ],
            [
             0.7777777777777778,
             "#fb9f3a"
            ],
            [
             0.8888888888888888,
             "#fdca26"
            ],
            [
             1,
             "#f0f921"
            ]
           ]
          },
          "colorway": [
           "#636efa",
           "#EF553B",
           "#00cc96",
           "#ab63fa",
           "#FFA15A",
           "#19d3f3",
           "#FF6692",
           "#B6E880",
           "#FF97FF",
           "#FECB52"
          ],
          "font": {
           "color": "#2a3f5f"
          },
          "geo": {
           "bgcolor": "white",
           "lakecolor": "white",
           "landcolor": "#E5ECF6",
           "showlakes": true,
           "showland": true,
           "subunitcolor": "white"
          },
          "hoverlabel": {
           "align": "left"
          },
          "hovermode": "closest",
          "mapbox": {
           "style": "light"
          },
          "paper_bgcolor": "white",
          "plot_bgcolor": "#E5ECF6",
          "polar": {
           "angularaxis": {
            "gridcolor": "white",
            "linecolor": "white",
            "ticks": ""
           },
           "bgcolor": "#E5ECF6",
           "radialaxis": {
            "gridcolor": "white",
            "linecolor": "white",
            "ticks": ""
           }
          },
          "scene": {
           "xaxis": {
            "backgroundcolor": "#E5ECF6",
            "gridcolor": "white",
            "gridwidth": 2,
            "linecolor": "white",
            "showbackground": true,
            "ticks": "",
            "zerolinecolor": "white"
           },
           "yaxis": {
            "backgroundcolor": "#E5ECF6",
            "gridcolor": "white",
            "gridwidth": 2,
            "linecolor": "white",
            "showbackground": true,
            "ticks": "",
            "zerolinecolor": "white"
           },
           "zaxis": {
            "backgroundcolor": "#E5ECF6",
            "gridcolor": "white",
            "gridwidth": 2,
            "linecolor": "white",
            "showbackground": true,
            "ticks": "",
            "zerolinecolor": "white"
           }
          },
          "shapedefaults": {
           "line": {
            "color": "#2a3f5f"
           }
          },
          "ternary": {
           "aaxis": {
            "gridcolor": "white",
            "linecolor": "white",
            "ticks": ""
           },
           "baxis": {
            "gridcolor": "white",
            "linecolor": "white",
            "ticks": ""
           },
           "bgcolor": "#E5ECF6",
           "caxis": {
            "gridcolor": "white",
            "linecolor": "white",
            "ticks": ""
           }
          },
          "title": {
           "x": 0.05
          },
          "xaxis": {
           "automargin": true,
           "gridcolor": "white",
           "linecolor": "white",
           "ticks": "",
           "title": {
            "standoff": 15
           },
           "zerolinecolor": "white",
           "zerolinewidth": 2
          },
          "yaxis": {
           "automargin": true,
           "gridcolor": "white",
           "linecolor": "white",
           "ticks": "",
           "title": {
            "standoff": 15
           },
           "zerolinecolor": "white",
           "zerolinewidth": 2
          }
         }
        },
        "title": {
         "text": "Correlation Matrix Heatmap"
        },
        "width": 1000,
        "xaxis": {
         "anchor": "y",
         "domain": [
          0,
          1
         ],
         "title": {
          "text": "Features"
         }
        },
        "yaxis": {
         "anchor": "x",
         "autorange": "reversed",
         "domain": [
          0,
          1
         ],
         "title": {
          "text": "Features"
         }
        }
       }
      }
     },
     "metadata": {},
     "output_type": "display_data"
    }
   ],
   "source": [
    "fig = px.imshow(\n",
    "    correlation_matrix,\n",
    "    text_auto=\".2f\",\n",
    "    color_continuous_scale=\"RdBu_r\",\n",
    "    title=\"Correlation Matrix Heatmap\",\n",
    "    aspect=\"auto\"\n",
    ")\n",
    "\n",
    "fig.update_layout(\n",
    "    xaxis_title=\"Features\",\n",
    "    yaxis_title=\"Features\",\n",
    "    width=1000,\n",
    "    height=1000,\n",
    ")\n",
    "\n",
    "fig.show()\n"
   ]
  },
  {
   "cell_type": "markdown",
   "metadata": {},
   "source": [
    "It seems to be a very high correlation between Sales, Profit, COGS, Gorss Sales and Sale Price; it makes sense, because they are all metrics directly linked to a company's financial performance. \n",
    "\n",
    "Important to note, as mentioned before Discount and Sales present a high correlation.\n",
    "\n",
    "For all the other variables, it seems not to be high correlation and so multicollinearity problem."
   ]
  },
  {
   "cell_type": "markdown",
   "metadata": {},
   "source": [
    "## 6. Predicitive model"
   ]
  },
  {
   "cell_type": "markdown",
   "metadata": {},
   "source": [
    "#### Linear Regression"
   ]
  },
  {
   "cell_type": "code",
   "execution_count": 45,
   "metadata": {},
   "outputs": [],
   "source": [
    "X = df_model.drop(columns=['Sales', 'Sales_Predicted', 'Gross Sales', 'COGS', 'Profit', 'Sale Price', 'Units Sold'])\n",
    "\n",
    "y = df_model['Sales']\n",
    "\n",
    "X_validation = X.iloc[-20:]\n",
    "y_validation = y.iloc[-20:]\n",
    "\n",
    "X_train = X.iloc[:-20]\n",
    "y_train = y.iloc[:-20]"
   ]
  },
  {
   "cell_type": "code",
   "execution_count": 46,
   "metadata": {},
   "outputs": [
    {
     "data": {
      "text/html": [
       "<style>#sk-container-id-2 {\n",
       "  /* Definition of color scheme common for light and dark mode */\n",
       "  --sklearn-color-text: #000;\n",
       "  --sklearn-color-text-muted: #666;\n",
       "  --sklearn-color-line: gray;\n",
       "  /* Definition of color scheme for unfitted estimators */\n",
       "  --sklearn-color-unfitted-level-0: #fff5e6;\n",
       "  --sklearn-color-unfitted-level-1: #f6e4d2;\n",
       "  --sklearn-color-unfitted-level-2: #ffe0b3;\n",
       "  --sklearn-color-unfitted-level-3: chocolate;\n",
       "  /* Definition of color scheme for fitted estimators */\n",
       "  --sklearn-color-fitted-level-0: #f0f8ff;\n",
       "  --sklearn-color-fitted-level-1: #d4ebff;\n",
       "  --sklearn-color-fitted-level-2: #b3dbfd;\n",
       "  --sklearn-color-fitted-level-3: cornflowerblue;\n",
       "\n",
       "  /* Specific color for light theme */\n",
       "  --sklearn-color-text-on-default-background: var(--sg-text-color, var(--theme-code-foreground, var(--jp-content-font-color1, black)));\n",
       "  --sklearn-color-background: var(--sg-background-color, var(--theme-background, var(--jp-layout-color0, white)));\n",
       "  --sklearn-color-border-box: var(--sg-text-color, var(--theme-code-foreground, var(--jp-content-font-color1, black)));\n",
       "  --sklearn-color-icon: #696969;\n",
       "\n",
       "  @media (prefers-color-scheme: dark) {\n",
       "    /* Redefinition of color scheme for dark theme */\n",
       "    --sklearn-color-text-on-default-background: var(--sg-text-color, var(--theme-code-foreground, var(--jp-content-font-color1, white)));\n",
       "    --sklearn-color-background: var(--sg-background-color, var(--theme-background, var(--jp-layout-color0, #111)));\n",
       "    --sklearn-color-border-box: var(--sg-text-color, var(--theme-code-foreground, var(--jp-content-font-color1, white)));\n",
       "    --sklearn-color-icon: #878787;\n",
       "  }\n",
       "}\n",
       "\n",
       "#sk-container-id-2 {\n",
       "  color: var(--sklearn-color-text);\n",
       "}\n",
       "\n",
       "#sk-container-id-2 pre {\n",
       "  padding: 0;\n",
       "}\n",
       "\n",
       "#sk-container-id-2 input.sk-hidden--visually {\n",
       "  border: 0;\n",
       "  clip: rect(1px 1px 1px 1px);\n",
       "  clip: rect(1px, 1px, 1px, 1px);\n",
       "  height: 1px;\n",
       "  margin: -1px;\n",
       "  overflow: hidden;\n",
       "  padding: 0;\n",
       "  position: absolute;\n",
       "  width: 1px;\n",
       "}\n",
       "\n",
       "#sk-container-id-2 div.sk-dashed-wrapped {\n",
       "  border: 1px dashed var(--sklearn-color-line);\n",
       "  margin: 0 0.4em 0.5em 0.4em;\n",
       "  box-sizing: border-box;\n",
       "  padding-bottom: 0.4em;\n",
       "  background-color: var(--sklearn-color-background);\n",
       "}\n",
       "\n",
       "#sk-container-id-2 div.sk-container {\n",
       "  /* jupyter's `normalize.less` sets `[hidden] { display: none; }`\n",
       "     but bootstrap.min.css set `[hidden] { display: none !important; }`\n",
       "     so we also need the `!important` here to be able to override the\n",
       "     default hidden behavior on the sphinx rendered scikit-learn.org.\n",
       "     See: https://github.com/scikit-learn/scikit-learn/issues/21755 */\n",
       "  display: inline-block !important;\n",
       "  position: relative;\n",
       "}\n",
       "\n",
       "#sk-container-id-2 div.sk-text-repr-fallback {\n",
       "  display: none;\n",
       "}\n",
       "\n",
       "div.sk-parallel-item,\n",
       "div.sk-serial,\n",
       "div.sk-item {\n",
       "  /* draw centered vertical line to link estimators */\n",
       "  background-image: linear-gradient(var(--sklearn-color-text-on-default-background), var(--sklearn-color-text-on-default-background));\n",
       "  background-size: 2px 100%;\n",
       "  background-repeat: no-repeat;\n",
       "  background-position: center center;\n",
       "}\n",
       "\n",
       "/* Parallel-specific style estimator block */\n",
       "\n",
       "#sk-container-id-2 div.sk-parallel-item::after {\n",
       "  content: \"\";\n",
       "  width: 100%;\n",
       "  border-bottom: 2px solid var(--sklearn-color-text-on-default-background);\n",
       "  flex-grow: 1;\n",
       "}\n",
       "\n",
       "#sk-container-id-2 div.sk-parallel {\n",
       "  display: flex;\n",
       "  align-items: stretch;\n",
       "  justify-content: center;\n",
       "  background-color: var(--sklearn-color-background);\n",
       "  position: relative;\n",
       "}\n",
       "\n",
       "#sk-container-id-2 div.sk-parallel-item {\n",
       "  display: flex;\n",
       "  flex-direction: column;\n",
       "}\n",
       "\n",
       "#sk-container-id-2 div.sk-parallel-item:first-child::after {\n",
       "  align-self: flex-end;\n",
       "  width: 50%;\n",
       "}\n",
       "\n",
       "#sk-container-id-2 div.sk-parallel-item:last-child::after {\n",
       "  align-self: flex-start;\n",
       "  width: 50%;\n",
       "}\n",
       "\n",
       "#sk-container-id-2 div.sk-parallel-item:only-child::after {\n",
       "  width: 0;\n",
       "}\n",
       "\n",
       "/* Serial-specific style estimator block */\n",
       "\n",
       "#sk-container-id-2 div.sk-serial {\n",
       "  display: flex;\n",
       "  flex-direction: column;\n",
       "  align-items: center;\n",
       "  background-color: var(--sklearn-color-background);\n",
       "  padding-right: 1em;\n",
       "  padding-left: 1em;\n",
       "}\n",
       "\n",
       "\n",
       "/* Toggleable style: style used for estimator/Pipeline/ColumnTransformer box that is\n",
       "clickable and can be expanded/collapsed.\n",
       "- Pipeline and ColumnTransformer use this feature and define the default style\n",
       "- Estimators will overwrite some part of the style using the `sk-estimator` class\n",
       "*/\n",
       "\n",
       "/* Pipeline and ColumnTransformer style (default) */\n",
       "\n",
       "#sk-container-id-2 div.sk-toggleable {\n",
       "  /* Default theme specific background. It is overwritten whether we have a\n",
       "  specific estimator or a Pipeline/ColumnTransformer */\n",
       "  background-color: var(--sklearn-color-background);\n",
       "}\n",
       "\n",
       "/* Toggleable label */\n",
       "#sk-container-id-2 label.sk-toggleable__label {\n",
       "  cursor: pointer;\n",
       "  display: flex;\n",
       "  width: 100%;\n",
       "  margin-bottom: 0;\n",
       "  padding: 0.5em;\n",
       "  box-sizing: border-box;\n",
       "  text-align: center;\n",
       "  align-items: start;\n",
       "  justify-content: space-between;\n",
       "  gap: 0.5em;\n",
       "}\n",
       "\n",
       "#sk-container-id-2 label.sk-toggleable__label .caption {\n",
       "  font-size: 0.6rem;\n",
       "  font-weight: lighter;\n",
       "  color: var(--sklearn-color-text-muted);\n",
       "}\n",
       "\n",
       "#sk-container-id-2 label.sk-toggleable__label-arrow:before {\n",
       "  /* Arrow on the left of the label */\n",
       "  content: \"▸\";\n",
       "  float: left;\n",
       "  margin-right: 0.25em;\n",
       "  color: var(--sklearn-color-icon);\n",
       "}\n",
       "\n",
       "#sk-container-id-2 label.sk-toggleable__label-arrow:hover:before {\n",
       "  color: var(--sklearn-color-text);\n",
       "}\n",
       "\n",
       "/* Toggleable content - dropdown */\n",
       "\n",
       "#sk-container-id-2 div.sk-toggleable__content {\n",
       "  max-height: 0;\n",
       "  max-width: 0;\n",
       "  overflow: hidden;\n",
       "  text-align: left;\n",
       "  /* unfitted */\n",
       "  background-color: var(--sklearn-color-unfitted-level-0);\n",
       "}\n",
       "\n",
       "#sk-container-id-2 div.sk-toggleable__content.fitted {\n",
       "  /* fitted */\n",
       "  background-color: var(--sklearn-color-fitted-level-0);\n",
       "}\n",
       "\n",
       "#sk-container-id-2 div.sk-toggleable__content pre {\n",
       "  margin: 0.2em;\n",
       "  border-radius: 0.25em;\n",
       "  color: var(--sklearn-color-text);\n",
       "  /* unfitted */\n",
       "  background-color: var(--sklearn-color-unfitted-level-0);\n",
       "}\n",
       "\n",
       "#sk-container-id-2 div.sk-toggleable__content.fitted pre {\n",
       "  /* unfitted */\n",
       "  background-color: var(--sklearn-color-fitted-level-0);\n",
       "}\n",
       "\n",
       "#sk-container-id-2 input.sk-toggleable__control:checked~div.sk-toggleable__content {\n",
       "  /* Expand drop-down */\n",
       "  max-height: 200px;\n",
       "  max-width: 100%;\n",
       "  overflow: auto;\n",
       "}\n",
       "\n",
       "#sk-container-id-2 input.sk-toggleable__control:checked~label.sk-toggleable__label-arrow:before {\n",
       "  content: \"▾\";\n",
       "}\n",
       "\n",
       "/* Pipeline/ColumnTransformer-specific style */\n",
       "\n",
       "#sk-container-id-2 div.sk-label input.sk-toggleable__control:checked~label.sk-toggleable__label {\n",
       "  color: var(--sklearn-color-text);\n",
       "  background-color: var(--sklearn-color-unfitted-level-2);\n",
       "}\n",
       "\n",
       "#sk-container-id-2 div.sk-label.fitted input.sk-toggleable__control:checked~label.sk-toggleable__label {\n",
       "  background-color: var(--sklearn-color-fitted-level-2);\n",
       "}\n",
       "\n",
       "/* Estimator-specific style */\n",
       "\n",
       "/* Colorize estimator box */\n",
       "#sk-container-id-2 div.sk-estimator input.sk-toggleable__control:checked~label.sk-toggleable__label {\n",
       "  /* unfitted */\n",
       "  background-color: var(--sklearn-color-unfitted-level-2);\n",
       "}\n",
       "\n",
       "#sk-container-id-2 div.sk-estimator.fitted input.sk-toggleable__control:checked~label.sk-toggleable__label {\n",
       "  /* fitted */\n",
       "  background-color: var(--sklearn-color-fitted-level-2);\n",
       "}\n",
       "\n",
       "#sk-container-id-2 div.sk-label label.sk-toggleable__label,\n",
       "#sk-container-id-2 div.sk-label label {\n",
       "  /* The background is the default theme color */\n",
       "  color: var(--sklearn-color-text-on-default-background);\n",
       "}\n",
       "\n",
       "/* On hover, darken the color of the background */\n",
       "#sk-container-id-2 div.sk-label:hover label.sk-toggleable__label {\n",
       "  color: var(--sklearn-color-text);\n",
       "  background-color: var(--sklearn-color-unfitted-level-2);\n",
       "}\n",
       "\n",
       "/* Label box, darken color on hover, fitted */\n",
       "#sk-container-id-2 div.sk-label.fitted:hover label.sk-toggleable__label.fitted {\n",
       "  color: var(--sklearn-color-text);\n",
       "  background-color: var(--sklearn-color-fitted-level-2);\n",
       "}\n",
       "\n",
       "/* Estimator label */\n",
       "\n",
       "#sk-container-id-2 div.sk-label label {\n",
       "  font-family: monospace;\n",
       "  font-weight: bold;\n",
       "  display: inline-block;\n",
       "  line-height: 1.2em;\n",
       "}\n",
       "\n",
       "#sk-container-id-2 div.sk-label-container {\n",
       "  text-align: center;\n",
       "}\n",
       "\n",
       "/* Estimator-specific */\n",
       "#sk-container-id-2 div.sk-estimator {\n",
       "  font-family: monospace;\n",
       "  border: 1px dotted var(--sklearn-color-border-box);\n",
       "  border-radius: 0.25em;\n",
       "  box-sizing: border-box;\n",
       "  margin-bottom: 0.5em;\n",
       "  /* unfitted */\n",
       "  background-color: var(--sklearn-color-unfitted-level-0);\n",
       "}\n",
       "\n",
       "#sk-container-id-2 div.sk-estimator.fitted {\n",
       "  /* fitted */\n",
       "  background-color: var(--sklearn-color-fitted-level-0);\n",
       "}\n",
       "\n",
       "/* on hover */\n",
       "#sk-container-id-2 div.sk-estimator:hover {\n",
       "  /* unfitted */\n",
       "  background-color: var(--sklearn-color-unfitted-level-2);\n",
       "}\n",
       "\n",
       "#sk-container-id-2 div.sk-estimator.fitted:hover {\n",
       "  /* fitted */\n",
       "  background-color: var(--sklearn-color-fitted-level-2);\n",
       "}\n",
       "\n",
       "/* Specification for estimator info (e.g. \"i\" and \"?\") */\n",
       "\n",
       "/* Common style for \"i\" and \"?\" */\n",
       "\n",
       ".sk-estimator-doc-link,\n",
       "a:link.sk-estimator-doc-link,\n",
       "a:visited.sk-estimator-doc-link {\n",
       "  float: right;\n",
       "  font-size: smaller;\n",
       "  line-height: 1em;\n",
       "  font-family: monospace;\n",
       "  background-color: var(--sklearn-color-background);\n",
       "  border-radius: 1em;\n",
       "  height: 1em;\n",
       "  width: 1em;\n",
       "  text-decoration: none !important;\n",
       "  margin-left: 0.5em;\n",
       "  text-align: center;\n",
       "  /* unfitted */\n",
       "  border: var(--sklearn-color-unfitted-level-1) 1pt solid;\n",
       "  color: var(--sklearn-color-unfitted-level-1);\n",
       "}\n",
       "\n",
       ".sk-estimator-doc-link.fitted,\n",
       "a:link.sk-estimator-doc-link.fitted,\n",
       "a:visited.sk-estimator-doc-link.fitted {\n",
       "  /* fitted */\n",
       "  border: var(--sklearn-color-fitted-level-1) 1pt solid;\n",
       "  color: var(--sklearn-color-fitted-level-1);\n",
       "}\n",
       "\n",
       "/* On hover */\n",
       "div.sk-estimator:hover .sk-estimator-doc-link:hover,\n",
       ".sk-estimator-doc-link:hover,\n",
       "div.sk-label-container:hover .sk-estimator-doc-link:hover,\n",
       ".sk-estimator-doc-link:hover {\n",
       "  /* unfitted */\n",
       "  background-color: var(--sklearn-color-unfitted-level-3);\n",
       "  color: var(--sklearn-color-background);\n",
       "  text-decoration: none;\n",
       "}\n",
       "\n",
       "div.sk-estimator.fitted:hover .sk-estimator-doc-link.fitted:hover,\n",
       ".sk-estimator-doc-link.fitted:hover,\n",
       "div.sk-label-container:hover .sk-estimator-doc-link.fitted:hover,\n",
       ".sk-estimator-doc-link.fitted:hover {\n",
       "  /* fitted */\n",
       "  background-color: var(--sklearn-color-fitted-level-3);\n",
       "  color: var(--sklearn-color-background);\n",
       "  text-decoration: none;\n",
       "}\n",
       "\n",
       "/* Span, style for the box shown on hovering the info icon */\n",
       ".sk-estimator-doc-link span {\n",
       "  display: none;\n",
       "  z-index: 9999;\n",
       "  position: relative;\n",
       "  font-weight: normal;\n",
       "  right: .2ex;\n",
       "  padding: .5ex;\n",
       "  margin: .5ex;\n",
       "  width: min-content;\n",
       "  min-width: 20ex;\n",
       "  max-width: 50ex;\n",
       "  color: var(--sklearn-color-text);\n",
       "  box-shadow: 2pt 2pt 4pt #999;\n",
       "  /* unfitted */\n",
       "  background: var(--sklearn-color-unfitted-level-0);\n",
       "  border: .5pt solid var(--sklearn-color-unfitted-level-3);\n",
       "}\n",
       "\n",
       ".sk-estimator-doc-link.fitted span {\n",
       "  /* fitted */\n",
       "  background: var(--sklearn-color-fitted-level-0);\n",
       "  border: var(--sklearn-color-fitted-level-3);\n",
       "}\n",
       "\n",
       ".sk-estimator-doc-link:hover span {\n",
       "  display: block;\n",
       "}\n",
       "\n",
       "/* \"?\"-specific style due to the `<a>` HTML tag */\n",
       "\n",
       "#sk-container-id-2 a.estimator_doc_link {\n",
       "  float: right;\n",
       "  font-size: 1rem;\n",
       "  line-height: 1em;\n",
       "  font-family: monospace;\n",
       "  background-color: var(--sklearn-color-background);\n",
       "  border-radius: 1rem;\n",
       "  height: 1rem;\n",
       "  width: 1rem;\n",
       "  text-decoration: none;\n",
       "  /* unfitted */\n",
       "  color: var(--sklearn-color-unfitted-level-1);\n",
       "  border: var(--sklearn-color-unfitted-level-1) 1pt solid;\n",
       "}\n",
       "\n",
       "#sk-container-id-2 a.estimator_doc_link.fitted {\n",
       "  /* fitted */\n",
       "  border: var(--sklearn-color-fitted-level-1) 1pt solid;\n",
       "  color: var(--sklearn-color-fitted-level-1);\n",
       "}\n",
       "\n",
       "/* On hover */\n",
       "#sk-container-id-2 a.estimator_doc_link:hover {\n",
       "  /* unfitted */\n",
       "  background-color: var(--sklearn-color-unfitted-level-3);\n",
       "  color: var(--sklearn-color-background);\n",
       "  text-decoration: none;\n",
       "}\n",
       "\n",
       "#sk-container-id-2 a.estimator_doc_link.fitted:hover {\n",
       "  /* fitted */\n",
       "  background-color: var(--sklearn-color-fitted-level-3);\n",
       "}\n",
       "</style><div id=\"sk-container-id-2\" class=\"sk-top-container\"><div class=\"sk-text-repr-fallback\"><pre>LinearRegression()</pre><b>In a Jupyter environment, please rerun this cell to show the HTML representation or trust the notebook. <br />On GitHub, the HTML representation is unable to render, please try loading this page with nbviewer.org.</b></div><div class=\"sk-container\" hidden><div class=\"sk-item\"><div class=\"sk-estimator fitted sk-toggleable\"><input class=\"sk-toggleable__control sk-hidden--visually\" id=\"sk-estimator-id-2\" type=\"checkbox\" checked><label for=\"sk-estimator-id-2\" class=\"sk-toggleable__label fitted sk-toggleable__label-arrow\"><div><div>LinearRegression</div></div><div><a class=\"sk-estimator-doc-link fitted\" rel=\"noreferrer\" target=\"_blank\" href=\"https://scikit-learn.org/1.6/modules/generated/sklearn.linear_model.LinearRegression.html\">?<span>Documentation for LinearRegression</span></a><span class=\"sk-estimator-doc-link fitted\">i<span>Fitted</span></span></div></label><div class=\"sk-toggleable__content fitted\"><pre>LinearRegression()</pre></div> </div></div></div></div>"
      ],
      "text/plain": [
       "LinearRegression()"
      ]
     },
     "execution_count": 46,
     "metadata": {},
     "output_type": "execute_result"
    }
   ],
   "source": [
    "lr_model = LinearRegression()\n",
    "\n",
    "lr_model.fit(X_train, y_train)"
   ]
  },
  {
   "cell_type": "code",
   "execution_count": 47,
   "metadata": {},
   "outputs": [],
   "source": [
    "y_pred = lr_model.predict(X_validation)\n",
    "X_train = pd.get_dummies(X_train, drop_first=True)\n",
    "X_train = np.nan_to_num(X_train, nan=0.0, posinf=0.0, neginf=0.0)\n",
    "y_train = np.nan_to_num(y_train, nan=0.0, posinf=0.0, neginf=0.0)\n",
    "X_train = np.nan_to_num(X_train.astype(float), nan=0.0, posinf=0.0, neginf=0.0)\n",
    "y_train = np.nan_to_num(y_train.astype(float), nan=0.0, posinf=0.0, neginf=0.0)\n",
    "X_train[np.isinf(X_train)] = 0\n",
    "y_train[np.isinf(y_train)] = 0\n",
    "X_train_with_const = sm.add_constant(X_train)\n",
    "X_train_with_const = np.array(X_train_with_const, dtype=float)\n",
    "y_train = np.array(y_train, dtype=float)"
   ]
  },
  {
   "cell_type": "code",
   "execution_count": 48,
   "metadata": {},
   "outputs": [],
   "source": [
    "ols_model = sm.OLS(y_train, X_train_with_const).fit()"
   ]
  },
  {
   "cell_type": "code",
   "execution_count": 49,
   "metadata": {},
   "outputs": [],
   "source": [
    "feature_names = df_model.drop(columns=['Sales', 'Sales_Predicted', 'Gross Sales', 'COGS', 'Profit', 'Sale Price', 'Units Sold']).columns.tolist()"
   ]
  },
  {
   "cell_type": "code",
   "execution_count": 53,
   "metadata": {},
   "outputs": [],
   "source": [
    "X_train = pd.DataFrame(X_train, columns=feature_names)\n",
    "\n",
    "X_train_with_const = sm.add_constant(X_train)\n",
    "X_train_with_const = pd.DataFrame(X_train_with_const, columns=[\"const\"] + X_train.columns.tolist())\n",
    "\n",
    "features = X_train_with_const.columns.tolist()\n",
    "\n",
    "feature_mapping = {f\"x{i}\": feature for i, feature in enumerate(features[1:], start=1)}\n",
    "feature_mapping[\"const\"] = \"const\"\n",
    "\n",
    "mapping_df = pd.DataFrame(list(feature_mapping.items()), columns=[\"Variable\", \"Feature\"])"
   ]
  },
  {
   "cell_type": "code",
   "execution_count": 55,
   "metadata": {},
   "outputs": [
    {
     "name": "stdout",
     "output_type": "stream",
     "text": [
      "   Variable                           Feature\n",
      "0        x1               Manufacturing Price\n",
      "1        x2                         Discounts\n",
      "2        x3                Segment_Enterprise\n",
      "3        x4                Segment_Government\n",
      "4        x5                 Segment_Midmarket\n",
      "5        x6            Segment_Small Business\n",
      "6        x7                    Country_France\n",
      "7        x8                   Country_Germany\n",
      "8        x9                    Country_Mexico\n",
      "9       x10  Country_United States of America\n",
      "10      x11               Product_ Carretera \n",
      "11      x12                 Product_ Montana \n",
      "12      x13                   Product_ Paseo \n",
      "13      x14                     Product_ VTT \n",
      "14      x15                    Product_ Velo \n",
      "15      x16                 Discount Band_Low\n",
      "16      x17              Discount Band_Medium\n",
      "17    const                             const\n"
     ]
    }
   ],
   "source": [
    "print(mapping_df)"
   ]
  },
  {
   "cell_type": "code",
   "execution_count": 52,
   "metadata": {},
   "outputs": [
    {
     "name": "stdout",
     "output_type": "stream",
     "text": [
      "                            OLS Regression Results                            \n",
      "==============================================================================\n",
      "Dep. Variable:                      y   R-squared:                       0.662\n",
      "Model:                            OLS   Adj. R-squared:                  0.653\n",
      "Method:                 Least Squares   F-statistic:                     81.01\n",
      "Date:                Wed, 05 Feb 2025   Prob (F-statistic):          5.49e-144\n",
      "Time:                        17:35:41   Log-Likelihood:                -9013.3\n",
      "No. Observations:                 680   AIC:                         1.806e+04\n",
      "Df Residuals:                     663   BIC:                         1.814e+04\n",
      "Df Model:                          16                                         \n",
      "Covariance Type:            nonrobust                                         \n",
      "==============================================================================\n",
      "                 coef    std err          t      P>|t|      [0.025      0.975]\n",
      "------------------------------------------------------------------------------\n",
      "const      -4.239e+04    1.5e+04     -2.832      0.005   -7.18e+04    -1.3e+04\n",
      "x1           128.0634     66.464      1.927      0.054      -2.442     258.569\n",
      "x2             7.4695      0.277     26.968      0.000       6.926       8.013\n",
      "x3           7.19e+04   2.06e+04      3.484      0.001    3.14e+04    1.12e+05\n",
      "x4          7.879e+04   1.68e+04      4.680      0.000    4.57e+04    1.12e+05\n",
      "x5          1.548e+04   2.02e+04      0.764      0.445   -2.43e+04    5.52e+04\n",
      "x6          1.627e+05   2.22e+04      7.328      0.000    1.19e+05    2.06e+05\n",
      "x7          1.243e+04    1.7e+04      0.730      0.465    -2.1e+04    4.58e+04\n",
      "x8          1.805e+04    1.7e+04      1.064      0.288   -1.52e+04    5.13e+04\n",
      "x9         -1.436e+04   1.69e+04     -0.849      0.396   -4.76e+04    1.88e+04\n",
      "x10        -1.379e+04    1.7e+04     -0.810      0.418   -4.72e+04    1.96e+04\n",
      "x11        -1.478e+04   1.25e+04     -1.179      0.239   -3.94e+04    9841.980\n",
      "x12        -5958.6399   1.29e+04     -0.463      0.644   -3.12e+04    1.93e+04\n",
      "x13        -9801.5104   1.03e+04     -0.956      0.339   -2.99e+04    1.03e+04\n",
      "x14        -2.142e+04   1.98e+04     -1.079      0.281   -6.04e+04    1.76e+04\n",
      "x15         -2.17e+04   1.48e+04     -1.463      0.144   -5.08e+04    7415.267\n",
      "x16         1.484e+05   1.46e+04     10.165      0.000     1.2e+05    1.77e+05\n",
      "x17         3.359e+04   1.26e+04      2.668      0.008    8873.406    5.83e+04\n",
      "==============================================================================\n",
      "Omnibus:                      363.192   Durbin-Watson:                   1.729\n",
      "Prob(Omnibus):                  0.000   Jarque-Bera (JB):             2548.813\n",
      "Skew:                           2.336   Prob(JB):                         0.00\n",
      "Kurtosis:                      11.254   Cond. No.                     1.51e+20\n",
      "==============================================================================\n",
      "\n",
      "Notes:\n",
      "[1] Standard Errors assume that the covariance matrix of the errors is correctly specified.\n",
      "[2] The smallest eigenvalue is  2e-29. This might indicate that there are\n",
      "strong multicollinearity problems or that the design matrix is singular.\n"
     ]
    }
   ],
   "source": [
    "print(ols_model.summary())"
   ]
  },
  {
   "cell_type": "markdown",
   "metadata": {},
   "source": [
    "From the OLS summary, it can be noticed that the variables that most modify the average value of Sales are the Segment market, the Discount Band and the value of the Discount. While Country and Product are not relevant."
   ]
  },
  {
   "cell_type": "code",
   "execution_count": 56,
   "metadata": {},
   "outputs": [
    {
     "data": {
      "application/vnd.plotly.v1+json": {
       "config": {
        "plotlyServerURL": "https://plot.ly"
       },
       "data": [
        {
         "line": {
          "color": "blue"
         },
         "marker": {
          "color": "blue",
          "size": 8
         },
         "mode": "lines+markers",
         "name": "Actual Sales",
         "type": "scatter",
         "x": [
          1,
          2,
          3,
          4,
          5,
          6,
          7,
          8,
          9,
          10,
          11,
          12,
          13,
          14,
          15,
          16,
          17,
          18,
          19,
          20
         ],
         "y": {
          "bdata": "aiQAAHUTAADsEwAAv4wAACsTAQDyAwoA3fMDAGokAAB5OQAAgRgAALsRAACFOgAABsoEABrlAAB1EwAAVaEJAN4fAgDLHwAAzRAAAPVHAAA=",
          "dtype": "i4"
         }
        },
        {
         "line": {
          "color": "red"
         },
         "marker": {
          "color": "red",
          "size": 8
         },
         "mode": "lines+markers",
         "name": "Predicted Sales",
         "type": "scatter",
         "x": [
          1,
          2,
          3,
          4,
          5,
          6,
          7,
          8,
          9,
          10,
          11,
          12,
          13,
          14,
          15,
          16,
          17,
          18,
          19,
          20
         ],
         "y": {
          "bdata": "mQmcnyqX6cDYVBJeJuTmQHea93e7hOvAaC8/XKoN2kBulcH05lz/QBfGse/xdS1BmiEedM9pFUHmMObtmIXowGo0I2cONvBA0EdEsvqLw0B+NiZaVyTjQAAVzEhC+tRA1pkeIgmzG0EwS6Yib4kAQaiTyZsrHfBA0VSmf2V0LkFSSfRDLbMTQWiMIEihz9pAxGHKu79i4EDSWsiD1czUwA==",
          "dtype": "f8"
         }
        }
       ],
       "layout": {
        "height": 600,
        "legend": {
         "title": {
          "text": "Legend"
         }
        },
        "template": {
         "data": {
          "bar": [
           {
            "error_x": {
             "color": "#2a3f5f"
            },
            "error_y": {
             "color": "#2a3f5f"
            },
            "marker": {
             "line": {
              "color": "white",
              "width": 0.5
             },
             "pattern": {
              "fillmode": "overlay",
              "size": 10,
              "solidity": 0.2
             }
            },
            "type": "bar"
           }
          ],
          "barpolar": [
           {
            "marker": {
             "line": {
              "color": "white",
              "width": 0.5
             },
             "pattern": {
              "fillmode": "overlay",
              "size": 10,
              "solidity": 0.2
             }
            },
            "type": "barpolar"
           }
          ],
          "carpet": [
           {
            "aaxis": {
             "endlinecolor": "#2a3f5f",
             "gridcolor": "#C8D4E3",
             "linecolor": "#C8D4E3",
             "minorgridcolor": "#C8D4E3",
             "startlinecolor": "#2a3f5f"
            },
            "baxis": {
             "endlinecolor": "#2a3f5f",
             "gridcolor": "#C8D4E3",
             "linecolor": "#C8D4E3",
             "minorgridcolor": "#C8D4E3",
             "startlinecolor": "#2a3f5f"
            },
            "type": "carpet"
           }
          ],
          "choropleth": [
           {
            "colorbar": {
             "outlinewidth": 0,
             "ticks": ""
            },
            "type": "choropleth"
           }
          ],
          "contour": [
           {
            "colorbar": {
             "outlinewidth": 0,
             "ticks": ""
            },
            "colorscale": [
             [
              0,
              "#0d0887"
             ],
             [
              0.1111111111111111,
              "#46039f"
             ],
             [
              0.2222222222222222,
              "#7201a8"
             ],
             [
              0.3333333333333333,
              "#9c179e"
             ],
             [
              0.4444444444444444,
              "#bd3786"
             ],
             [
              0.5555555555555556,
              "#d8576b"
             ],
             [
              0.6666666666666666,
              "#ed7953"
             ],
             [
              0.7777777777777778,
              "#fb9f3a"
             ],
             [
              0.8888888888888888,
              "#fdca26"
             ],
             [
              1,
              "#f0f921"
             ]
            ],
            "type": "contour"
           }
          ],
          "contourcarpet": [
           {
            "colorbar": {
             "outlinewidth": 0,
             "ticks": ""
            },
            "type": "contourcarpet"
           }
          ],
          "heatmap": [
           {
            "colorbar": {
             "outlinewidth": 0,
             "ticks": ""
            },
            "colorscale": [
             [
              0,
              "#0d0887"
             ],
             [
              0.1111111111111111,
              "#46039f"
             ],
             [
              0.2222222222222222,
              "#7201a8"
             ],
             [
              0.3333333333333333,
              "#9c179e"
             ],
             [
              0.4444444444444444,
              "#bd3786"
             ],
             [
              0.5555555555555556,
              "#d8576b"
             ],
             [
              0.6666666666666666,
              "#ed7953"
             ],
             [
              0.7777777777777778,
              "#fb9f3a"
             ],
             [
              0.8888888888888888,
              "#fdca26"
             ],
             [
              1,
              "#f0f921"
             ]
            ],
            "type": "heatmap"
           }
          ],
          "histogram": [
           {
            "marker": {
             "pattern": {
              "fillmode": "overlay",
              "size": 10,
              "solidity": 0.2
             }
            },
            "type": "histogram"
           }
          ],
          "histogram2d": [
           {
            "colorbar": {
             "outlinewidth": 0,
             "ticks": ""
            },
            "colorscale": [
             [
              0,
              "#0d0887"
             ],
             [
              0.1111111111111111,
              "#46039f"
             ],
             [
              0.2222222222222222,
              "#7201a8"
             ],
             [
              0.3333333333333333,
              "#9c179e"
             ],
             [
              0.4444444444444444,
              "#bd3786"
             ],
             [
              0.5555555555555556,
              "#d8576b"
             ],
             [
              0.6666666666666666,
              "#ed7953"
             ],
             [
              0.7777777777777778,
              "#fb9f3a"
             ],
             [
              0.8888888888888888,
              "#fdca26"
             ],
             [
              1,
              "#f0f921"
             ]
            ],
            "type": "histogram2d"
           }
          ],
          "histogram2dcontour": [
           {
            "colorbar": {
             "outlinewidth": 0,
             "ticks": ""
            },
            "colorscale": [
             [
              0,
              "#0d0887"
             ],
             [
              0.1111111111111111,
              "#46039f"
             ],
             [
              0.2222222222222222,
              "#7201a8"
             ],
             [
              0.3333333333333333,
              "#9c179e"
             ],
             [
              0.4444444444444444,
              "#bd3786"
             ],
             [
              0.5555555555555556,
              "#d8576b"
             ],
             [
              0.6666666666666666,
              "#ed7953"
             ],
             [
              0.7777777777777778,
              "#fb9f3a"
             ],
             [
              0.8888888888888888,
              "#fdca26"
             ],
             [
              1,
              "#f0f921"
             ]
            ],
            "type": "histogram2dcontour"
           }
          ],
          "mesh3d": [
           {
            "colorbar": {
             "outlinewidth": 0,
             "ticks": ""
            },
            "type": "mesh3d"
           }
          ],
          "parcoords": [
           {
            "line": {
             "colorbar": {
              "outlinewidth": 0,
              "ticks": ""
             }
            },
            "type": "parcoords"
           }
          ],
          "pie": [
           {
            "automargin": true,
            "type": "pie"
           }
          ],
          "scatter": [
           {
            "fillpattern": {
             "fillmode": "overlay",
             "size": 10,
             "solidity": 0.2
            },
            "type": "scatter"
           }
          ],
          "scatter3d": [
           {
            "line": {
             "colorbar": {
              "outlinewidth": 0,
              "ticks": ""
             }
            },
            "marker": {
             "colorbar": {
              "outlinewidth": 0,
              "ticks": ""
             }
            },
            "type": "scatter3d"
           }
          ],
          "scattercarpet": [
           {
            "marker": {
             "colorbar": {
              "outlinewidth": 0,
              "ticks": ""
             }
            },
            "type": "scattercarpet"
           }
          ],
          "scattergeo": [
           {
            "marker": {
             "colorbar": {
              "outlinewidth": 0,
              "ticks": ""
             }
            },
            "type": "scattergeo"
           }
          ],
          "scattergl": [
           {
            "marker": {
             "colorbar": {
              "outlinewidth": 0,
              "ticks": ""
             }
            },
            "type": "scattergl"
           }
          ],
          "scattermap": [
           {
            "marker": {
             "colorbar": {
              "outlinewidth": 0,
              "ticks": ""
             }
            },
            "type": "scattermap"
           }
          ],
          "scattermapbox": [
           {
            "marker": {
             "colorbar": {
              "outlinewidth": 0,
              "ticks": ""
             }
            },
            "type": "scattermapbox"
           }
          ],
          "scatterpolar": [
           {
            "marker": {
             "colorbar": {
              "outlinewidth": 0,
              "ticks": ""
             }
            },
            "type": "scatterpolar"
           }
          ],
          "scatterpolargl": [
           {
            "marker": {
             "colorbar": {
              "outlinewidth": 0,
              "ticks": ""
             }
            },
            "type": "scatterpolargl"
           }
          ],
          "scatterternary": [
           {
            "marker": {
             "colorbar": {
              "outlinewidth": 0,
              "ticks": ""
             }
            },
            "type": "scatterternary"
           }
          ],
          "surface": [
           {
            "colorbar": {
             "outlinewidth": 0,
             "ticks": ""
            },
            "colorscale": [
             [
              0,
              "#0d0887"
             ],
             [
              0.1111111111111111,
              "#46039f"
             ],
             [
              0.2222222222222222,
              "#7201a8"
             ],
             [
              0.3333333333333333,
              "#9c179e"
             ],
             [
              0.4444444444444444,
              "#bd3786"
             ],
             [
              0.5555555555555556,
              "#d8576b"
             ],
             [
              0.6666666666666666,
              "#ed7953"
             ],
             [
              0.7777777777777778,
              "#fb9f3a"
             ],
             [
              0.8888888888888888,
              "#fdca26"
             ],
             [
              1,
              "#f0f921"
             ]
            ],
            "type": "surface"
           }
          ],
          "table": [
           {
            "cells": {
             "fill": {
              "color": "#EBF0F8"
             },
             "line": {
              "color": "white"
             }
            },
            "header": {
             "fill": {
              "color": "#C8D4E3"
             },
             "line": {
              "color": "white"
             }
            },
            "type": "table"
           }
          ]
         },
         "layout": {
          "annotationdefaults": {
           "arrowcolor": "#2a3f5f",
           "arrowhead": 0,
           "arrowwidth": 1
          },
          "autotypenumbers": "strict",
          "coloraxis": {
           "colorbar": {
            "outlinewidth": 0,
            "ticks": ""
           }
          },
          "colorscale": {
           "diverging": [
            [
             0,
             "#8e0152"
            ],
            [
             0.1,
             "#c51b7d"
            ],
            [
             0.2,
             "#de77ae"
            ],
            [
             0.3,
             "#f1b6da"
            ],
            [
             0.4,
             "#fde0ef"
            ],
            [
             0.5,
             "#f7f7f7"
            ],
            [
             0.6,
             "#e6f5d0"
            ],
            [
             0.7,
             "#b8e186"
            ],
            [
             0.8,
             "#7fbc41"
            ],
            [
             0.9,
             "#4d9221"
            ],
            [
             1,
             "#276419"
            ]
           ],
           "sequential": [
            [
             0,
             "#0d0887"
            ],
            [
             0.1111111111111111,
             "#46039f"
            ],
            [
             0.2222222222222222,
             "#7201a8"
            ],
            [
             0.3333333333333333,
             "#9c179e"
            ],
            [
             0.4444444444444444,
             "#bd3786"
            ],
            [
             0.5555555555555556,
             "#d8576b"
            ],
            [
             0.6666666666666666,
             "#ed7953"
            ],
            [
             0.7777777777777778,
             "#fb9f3a"
            ],
            [
             0.8888888888888888,
             "#fdca26"
            ],
            [
             1,
             "#f0f921"
            ]
           ],
           "sequentialminus": [
            [
             0,
             "#0d0887"
            ],
            [
             0.1111111111111111,
             "#46039f"
            ],
            [
             0.2222222222222222,
             "#7201a8"
            ],
            [
             0.3333333333333333,
             "#9c179e"
            ],
            [
             0.4444444444444444,
             "#bd3786"
            ],
            [
             0.5555555555555556,
             "#d8576b"
            ],
            [
             0.6666666666666666,
             "#ed7953"
            ],
            [
             0.7777777777777778,
             "#fb9f3a"
            ],
            [
             0.8888888888888888,
             "#fdca26"
            ],
            [
             1,
             "#f0f921"
            ]
           ]
          },
          "colorway": [
           "#636efa",
           "#EF553B",
           "#00cc96",
           "#ab63fa",
           "#FFA15A",
           "#19d3f3",
           "#FF6692",
           "#B6E880",
           "#FF97FF",
           "#FECB52"
          ],
          "font": {
           "color": "#2a3f5f"
          },
          "geo": {
           "bgcolor": "white",
           "lakecolor": "white",
           "landcolor": "white",
           "showlakes": true,
           "showland": true,
           "subunitcolor": "#C8D4E3"
          },
          "hoverlabel": {
           "align": "left"
          },
          "hovermode": "closest",
          "mapbox": {
           "style": "light"
          },
          "paper_bgcolor": "white",
          "plot_bgcolor": "white",
          "polar": {
           "angularaxis": {
            "gridcolor": "#EBF0F8",
            "linecolor": "#EBF0F8",
            "ticks": ""
           },
           "bgcolor": "white",
           "radialaxis": {
            "gridcolor": "#EBF0F8",
            "linecolor": "#EBF0F8",
            "ticks": ""
           }
          },
          "scene": {
           "xaxis": {
            "backgroundcolor": "white",
            "gridcolor": "#DFE8F3",
            "gridwidth": 2,
            "linecolor": "#EBF0F8",
            "showbackground": true,
            "ticks": "",
            "zerolinecolor": "#EBF0F8"
           },
           "yaxis": {
            "backgroundcolor": "white",
            "gridcolor": "#DFE8F3",
            "gridwidth": 2,
            "linecolor": "#EBF0F8",
            "showbackground": true,
            "ticks": "",
            "zerolinecolor": "#EBF0F8"
           },
           "zaxis": {
            "backgroundcolor": "white",
            "gridcolor": "#DFE8F3",
            "gridwidth": 2,
            "linecolor": "#EBF0F8",
            "showbackground": true,
            "ticks": "",
            "zerolinecolor": "#EBF0F8"
           }
          },
          "shapedefaults": {
           "line": {
            "color": "#2a3f5f"
           }
          },
          "ternary": {
           "aaxis": {
            "gridcolor": "#DFE8F3",
            "linecolor": "#A2B1C6",
            "ticks": ""
           },
           "baxis": {
            "gridcolor": "#DFE8F3",
            "linecolor": "#A2B1C6",
            "ticks": ""
           },
           "bgcolor": "white",
           "caxis": {
            "gridcolor": "#DFE8F3",
            "linecolor": "#A2B1C6",
            "ticks": ""
           }
          },
          "title": {
           "x": 0.05
          },
          "xaxis": {
           "automargin": true,
           "gridcolor": "#EBF0F8",
           "linecolor": "#EBF0F8",
           "ticks": "",
           "title": {
            "standoff": 15
           },
           "zerolinecolor": "#EBF0F8",
           "zerolinewidth": 2
          },
          "yaxis": {
           "automargin": true,
           "gridcolor": "#EBF0F8",
           "linecolor": "#EBF0F8",
           "ticks": "",
           "title": {
            "standoff": 15
           },
           "zerolinecolor": "#EBF0F8",
           "zerolinewidth": 2
          }
         }
        },
        "title": {
         "text": "Linear Regression: Predicted vs Actual Sales"
        },
        "width": 800,
        "xaxis": {
         "range": [
          0,
          21
         ],
         "tickvals": [
          0,
          5,
          10,
          15,
          20
         ],
         "title": {
          "text": "Row Index (Last 20 Rows)"
         }
        },
        "yaxis": {
         "rangemode": "tozero",
         "title": {
          "text": "Sales"
         }
        }
       }
      }
     },
     "metadata": {},
     "output_type": "display_data"
    }
   ],
   "source": [
    "fig = go.Figure()\n",
    "\n",
    "fig.add_trace(go.Scatter(\n",
    "    x=list(range(1, 21)), \n",
    "    y=y_validation.values, \n",
    "    mode='lines+markers', \n",
    "    name='Actual Sales',\n",
    "    line=dict(color='blue'),\n",
    "    marker=dict(color='blue', size=8)\n",
    "))\n",
    "\n",
    "fig.add_trace(go.Scatter(\n",
    "    x=list(range(1, 21)), \n",
    "    y=y_pred, \n",
    "    mode='lines+markers', \n",
    "    name='Predicted Sales',\n",
    "    line=dict(color='red'),\n",
    "    marker=dict(color='red', size=8)\n",
    "))\n",
    "\n",
    "fig.update_layout(\n",
    "    title=\"Linear Regression: Predicted vs Actual Sales\",\n",
    "    xaxis_title=\"Row Index (Last 20 Rows)\",\n",
    "    yaxis_title=\"Sales\",\n",
    "    legend_title=\"Legend\",\n",
    "    template=\"plotly_white\",\n",
    "    width=800,\n",
    "    height=600,\n",
    "    xaxis=dict(\n",
    "        tickvals=[0, 5, 10, 15, 20],\n",
    "        range=[0, 21]\n",
    "    ),\n",
    "    yaxis=dict(\n",
    "        rangemode=\"tozero\"\n",
    "    )\n",
    ")\n",
    "\n",
    "fig.show()"
   ]
  },
  {
   "cell_type": "markdown",
   "metadata": {},
   "source": [
    "#### Random Forest Regressor"
   ]
  },
  {
   "cell_type": "code",
   "execution_count": 57,
   "metadata": {},
   "outputs": [
    {
     "name": "stdout",
     "output_type": "stream",
     "text": [
      "Mean Absolute Error (MAE): 17754.516999999993\n",
      "R-squared (R2): 0.9787302562089569\n"
     ]
    }
   ],
   "source": [
    "rf_model = RandomForestRegressor(random_state=42)\n",
    "\n",
    "rf_model.fit(X_train, y_train)\n",
    "\n",
    "y_pred = rf_model.predict(X_validation)\n",
    "\n",
    "mae = mean_absolute_error(y_validation, y_pred)\n",
    "r2 = r2_score(y_validation, y_pred)\n",
    "\n",
    "print(f\"Mean Absolute Error (MAE): {mae}\")\n",
    "print(f\"R-squared (R2): {r2}\")"
   ]
  },
  {
   "cell_type": "code",
   "execution_count": 58,
   "metadata": {},
   "outputs": [
    {
     "name": "stdout",
     "output_type": "stream",
     "text": [
      "                             Feature  Importance\n",
      "1                          Discounts    0.743534\n",
      "15                 Discount Band_Low    0.110595\n",
      "16              Discount Band_Medium    0.025881\n",
      "5             Segment_Small Business    0.020502\n",
      "2                 Segment_Enterprise    0.020217\n",
      "0                Manufacturing Price    0.015874\n",
      "3                 Segment_Government    0.013818\n",
      "9   Country_United States of America    0.012240\n",
      "6                     Country_France    0.012198\n",
      "7                    Country_Germany    0.005610\n",
      "8                     Country_Mexico    0.004696\n",
      "12                   Product_ Paseo     0.003798\n",
      "13                     Product_ VTT     0.003192\n",
      "11                 Product_ Montana     0.002658\n",
      "14                    Product_ Velo     0.002127\n",
      "4                  Segment_Midmarket    0.001615\n",
      "10               Product_ Carretera     0.001444\n"
     ]
    }
   ],
   "source": [
    "feature_importances = rf_model.feature_importances_\n",
    "feature_names = X_train.columns\n",
    "\n",
    "importance_df = pd.DataFrame({\n",
    "    'Feature': feature_names,\n",
    "    'Importance': feature_importances\n",
    "}).sort_values(by='Importance', ascending=False)\n",
    "\n",
    "print(importance_df)"
   ]
  },
  {
   "cell_type": "code",
   "execution_count": 859,
   "metadata": {},
   "outputs": [
    {
     "data": {
      "application/vnd.plotly.v1+json": {
       "config": {
        "plotlyServerURL": "https://plot.ly"
       },
       "data": [
        {
         "hovertemplate": "Importance Score=%{x}<br>Features=%{y}<extra></extra>",
         "legendgroup": "",
         "marker": {
          "color": "#636efa",
          "pattern": {
           "shape": ""
          }
         },
         "name": "",
         "orientation": "h",
         "showlegend": false,
         "textposition": "auto",
         "type": "bar",
         "x": {
          "bdata": "o8aH7X7c5z/czQw5Aoi8P591D7G3iZk/EtsTc+gglz/4mWUTzHOTP3sFdqW6TpA/Vx/lUZkdij/cYtxGsI+HP9YQtg0C24Y/crYQcC9/dT9vASXO579xP5d4JLW2Om0/o9xi8SKQaz/kP4xAQXBqP++6QyyV6mY/puEgLnIDWD8aSu1bnKFQPw==",
          "dtype": "f8"
         },
         "xaxis": "x",
         "y": [
          "Discounts",
          "Discount Band_Low",
          "Discount Band_Medium",
          "Segment_Small Business",
          "Segment_Enterprise",
          "Manufacturing Price",
          "Country_France",
          "Segment_Government",
          "Country_United States of America",
          "Country_Germany",
          "Country_Mexico",
          "Product_ Paseo ",
          "Product_ VTT ",
          "Product_ Montana ",
          "Product_ Velo ",
          "Segment_Midmarket",
          "Product_ Carretera "
         ],
         "yaxis": "y"
        }
       ],
       "layout": {
        "barmode": "relative",
        "height": 600,
        "legend": {
         "tracegroupgap": 0
        },
        "template": {
         "data": {
          "bar": [
           {
            "error_x": {
             "color": "#2a3f5f"
            },
            "error_y": {
             "color": "#2a3f5f"
            },
            "marker": {
             "line": {
              "color": "white",
              "width": 0.5
             },
             "pattern": {
              "fillmode": "overlay",
              "size": 10,
              "solidity": 0.2
             }
            },
            "type": "bar"
           }
          ],
          "barpolar": [
           {
            "marker": {
             "line": {
              "color": "white",
              "width": 0.5
             },
             "pattern": {
              "fillmode": "overlay",
              "size": 10,
              "solidity": 0.2
             }
            },
            "type": "barpolar"
           }
          ],
          "carpet": [
           {
            "aaxis": {
             "endlinecolor": "#2a3f5f",
             "gridcolor": "#C8D4E3",
             "linecolor": "#C8D4E3",
             "minorgridcolor": "#C8D4E3",
             "startlinecolor": "#2a3f5f"
            },
            "baxis": {
             "endlinecolor": "#2a3f5f",
             "gridcolor": "#C8D4E3",
             "linecolor": "#C8D4E3",
             "minorgridcolor": "#C8D4E3",
             "startlinecolor": "#2a3f5f"
            },
            "type": "carpet"
           }
          ],
          "choropleth": [
           {
            "colorbar": {
             "outlinewidth": 0,
             "ticks": ""
            },
            "type": "choropleth"
           }
          ],
          "contour": [
           {
            "colorbar": {
             "outlinewidth": 0,
             "ticks": ""
            },
            "colorscale": [
             [
              0,
              "#0d0887"
             ],
             [
              0.1111111111111111,
              "#46039f"
             ],
             [
              0.2222222222222222,
              "#7201a8"
             ],
             [
              0.3333333333333333,
              "#9c179e"
             ],
             [
              0.4444444444444444,
              "#bd3786"
             ],
             [
              0.5555555555555556,
              "#d8576b"
             ],
             [
              0.6666666666666666,
              "#ed7953"
             ],
             [
              0.7777777777777778,
              "#fb9f3a"
             ],
             [
              0.8888888888888888,
              "#fdca26"
             ],
             [
              1,
              "#f0f921"
             ]
            ],
            "type": "contour"
           }
          ],
          "contourcarpet": [
           {
            "colorbar": {
             "outlinewidth": 0,
             "ticks": ""
            },
            "type": "contourcarpet"
           }
          ],
          "heatmap": [
           {
            "colorbar": {
             "outlinewidth": 0,
             "ticks": ""
            },
            "colorscale": [
             [
              0,
              "#0d0887"
             ],
             [
              0.1111111111111111,
              "#46039f"
             ],
             [
              0.2222222222222222,
              "#7201a8"
             ],
             [
              0.3333333333333333,
              "#9c179e"
             ],
             [
              0.4444444444444444,
              "#bd3786"
             ],
             [
              0.5555555555555556,
              "#d8576b"
             ],
             [
              0.6666666666666666,
              "#ed7953"
             ],
             [
              0.7777777777777778,
              "#fb9f3a"
             ],
             [
              0.8888888888888888,
              "#fdca26"
             ],
             [
              1,
              "#f0f921"
             ]
            ],
            "type": "heatmap"
           }
          ],
          "histogram": [
           {
            "marker": {
             "pattern": {
              "fillmode": "overlay",
              "size": 10,
              "solidity": 0.2
             }
            },
            "type": "histogram"
           }
          ],
          "histogram2d": [
           {
            "colorbar": {
             "outlinewidth": 0,
             "ticks": ""
            },
            "colorscale": [
             [
              0,
              "#0d0887"
             ],
             [
              0.1111111111111111,
              "#46039f"
             ],
             [
              0.2222222222222222,
              "#7201a8"
             ],
             [
              0.3333333333333333,
              "#9c179e"
             ],
             [
              0.4444444444444444,
              "#bd3786"
             ],
             [
              0.5555555555555556,
              "#d8576b"
             ],
             [
              0.6666666666666666,
              "#ed7953"
             ],
             [
              0.7777777777777778,
              "#fb9f3a"
             ],
             [
              0.8888888888888888,
              "#fdca26"
             ],
             [
              1,
              "#f0f921"
             ]
            ],
            "type": "histogram2d"
           }
          ],
          "histogram2dcontour": [
           {
            "colorbar": {
             "outlinewidth": 0,
             "ticks": ""
            },
            "colorscale": [
             [
              0,
              "#0d0887"
             ],
             [
              0.1111111111111111,
              "#46039f"
             ],
             [
              0.2222222222222222,
              "#7201a8"
             ],
             [
              0.3333333333333333,
              "#9c179e"
             ],
             [
              0.4444444444444444,
              "#bd3786"
             ],
             [
              0.5555555555555556,
              "#d8576b"
             ],
             [
              0.6666666666666666,
              "#ed7953"
             ],
             [
              0.7777777777777778,
              "#fb9f3a"
             ],
             [
              0.8888888888888888,
              "#fdca26"
             ],
             [
              1,
              "#f0f921"
             ]
            ],
            "type": "histogram2dcontour"
           }
          ],
          "mesh3d": [
           {
            "colorbar": {
             "outlinewidth": 0,
             "ticks": ""
            },
            "type": "mesh3d"
           }
          ],
          "parcoords": [
           {
            "line": {
             "colorbar": {
              "outlinewidth": 0,
              "ticks": ""
             }
            },
            "type": "parcoords"
           }
          ],
          "pie": [
           {
            "automargin": true,
            "type": "pie"
           }
          ],
          "scatter": [
           {
            "fillpattern": {
             "fillmode": "overlay",
             "size": 10,
             "solidity": 0.2
            },
            "type": "scatter"
           }
          ],
          "scatter3d": [
           {
            "line": {
             "colorbar": {
              "outlinewidth": 0,
              "ticks": ""
             }
            },
            "marker": {
             "colorbar": {
              "outlinewidth": 0,
              "ticks": ""
             }
            },
            "type": "scatter3d"
           }
          ],
          "scattercarpet": [
           {
            "marker": {
             "colorbar": {
              "outlinewidth": 0,
              "ticks": ""
             }
            },
            "type": "scattercarpet"
           }
          ],
          "scattergeo": [
           {
            "marker": {
             "colorbar": {
              "outlinewidth": 0,
              "ticks": ""
             }
            },
            "type": "scattergeo"
           }
          ],
          "scattergl": [
           {
            "marker": {
             "colorbar": {
              "outlinewidth": 0,
              "ticks": ""
             }
            },
            "type": "scattergl"
           }
          ],
          "scattermap": [
           {
            "marker": {
             "colorbar": {
              "outlinewidth": 0,
              "ticks": ""
             }
            },
            "type": "scattermap"
           }
          ],
          "scattermapbox": [
           {
            "marker": {
             "colorbar": {
              "outlinewidth": 0,
              "ticks": ""
             }
            },
            "type": "scattermapbox"
           }
          ],
          "scatterpolar": [
           {
            "marker": {
             "colorbar": {
              "outlinewidth": 0,
              "ticks": ""
             }
            },
            "type": "scatterpolar"
           }
          ],
          "scatterpolargl": [
           {
            "marker": {
             "colorbar": {
              "outlinewidth": 0,
              "ticks": ""
             }
            },
            "type": "scatterpolargl"
           }
          ],
          "scatterternary": [
           {
            "marker": {
             "colorbar": {
              "outlinewidth": 0,
              "ticks": ""
             }
            },
            "type": "scatterternary"
           }
          ],
          "surface": [
           {
            "colorbar": {
             "outlinewidth": 0,
             "ticks": ""
            },
            "colorscale": [
             [
              0,
              "#0d0887"
             ],
             [
              0.1111111111111111,
              "#46039f"
             ],
             [
              0.2222222222222222,
              "#7201a8"
             ],
             [
              0.3333333333333333,
              "#9c179e"
             ],
             [
              0.4444444444444444,
              "#bd3786"
             ],
             [
              0.5555555555555556,
              "#d8576b"
             ],
             [
              0.6666666666666666,
              "#ed7953"
             ],
             [
              0.7777777777777778,
              "#fb9f3a"
             ],
             [
              0.8888888888888888,
              "#fdca26"
             ],
             [
              1,
              "#f0f921"
             ]
            ],
            "type": "surface"
           }
          ],
          "table": [
           {
            "cells": {
             "fill": {
              "color": "#EBF0F8"
             },
             "line": {
              "color": "white"
             }
            },
            "header": {
             "fill": {
              "color": "#C8D4E3"
             },
             "line": {
              "color": "white"
             }
            },
            "type": "table"
           }
          ]
         },
         "layout": {
          "annotationdefaults": {
           "arrowcolor": "#2a3f5f",
           "arrowhead": 0,
           "arrowwidth": 1
          },
          "autotypenumbers": "strict",
          "coloraxis": {
           "colorbar": {
            "outlinewidth": 0,
            "ticks": ""
           }
          },
          "colorscale": {
           "diverging": [
            [
             0,
             "#8e0152"
            ],
            [
             0.1,
             "#c51b7d"
            ],
            [
             0.2,
             "#de77ae"
            ],
            [
             0.3,
             "#f1b6da"
            ],
            [
             0.4,
             "#fde0ef"
            ],
            [
             0.5,
             "#f7f7f7"
            ],
            [
             0.6,
             "#e6f5d0"
            ],
            [
             0.7,
             "#b8e186"
            ],
            [
             0.8,
             "#7fbc41"
            ],
            [
             0.9,
             "#4d9221"
            ],
            [
             1,
             "#276419"
            ]
           ],
           "sequential": [
            [
             0,
             "#0d0887"
            ],
            [
             0.1111111111111111,
             "#46039f"
            ],
            [
             0.2222222222222222,
             "#7201a8"
            ],
            [
             0.3333333333333333,
             "#9c179e"
            ],
            [
             0.4444444444444444,
             "#bd3786"
            ],
            [
             0.5555555555555556,
             "#d8576b"
            ],
            [
             0.6666666666666666,
             "#ed7953"
            ],
            [
             0.7777777777777778,
             "#fb9f3a"
            ],
            [
             0.8888888888888888,
             "#fdca26"
            ],
            [
             1,
             "#f0f921"
            ]
           ],
           "sequentialminus": [
            [
             0,
             "#0d0887"
            ],
            [
             0.1111111111111111,
             "#46039f"
            ],
            [
             0.2222222222222222,
             "#7201a8"
            ],
            [
             0.3333333333333333,
             "#9c179e"
            ],
            [
             0.4444444444444444,
             "#bd3786"
            ],
            [
             0.5555555555555556,
             "#d8576b"
            ],
            [
             0.6666666666666666,
             "#ed7953"
            ],
            [
             0.7777777777777778,
             "#fb9f3a"
            ],
            [
             0.8888888888888888,
             "#fdca26"
            ],
            [
             1,
             "#f0f921"
            ]
           ]
          },
          "colorway": [
           "#636efa",
           "#EF553B",
           "#00cc96",
           "#ab63fa",
           "#FFA15A",
           "#19d3f3",
           "#FF6692",
           "#B6E880",
           "#FF97FF",
           "#FECB52"
          ],
          "font": {
           "color": "#2a3f5f"
          },
          "geo": {
           "bgcolor": "white",
           "lakecolor": "white",
           "landcolor": "white",
           "showlakes": true,
           "showland": true,
           "subunitcolor": "#C8D4E3"
          },
          "hoverlabel": {
           "align": "left"
          },
          "hovermode": "closest",
          "mapbox": {
           "style": "light"
          },
          "paper_bgcolor": "white",
          "plot_bgcolor": "white",
          "polar": {
           "angularaxis": {
            "gridcolor": "#EBF0F8",
            "linecolor": "#EBF0F8",
            "ticks": ""
           },
           "bgcolor": "white",
           "radialaxis": {
            "gridcolor": "#EBF0F8",
            "linecolor": "#EBF0F8",
            "ticks": ""
           }
          },
          "scene": {
           "xaxis": {
            "backgroundcolor": "white",
            "gridcolor": "#DFE8F3",
            "gridwidth": 2,
            "linecolor": "#EBF0F8",
            "showbackground": true,
            "ticks": "",
            "zerolinecolor": "#EBF0F8"
           },
           "yaxis": {
            "backgroundcolor": "white",
            "gridcolor": "#DFE8F3",
            "gridwidth": 2,
            "linecolor": "#EBF0F8",
            "showbackground": true,
            "ticks": "",
            "zerolinecolor": "#EBF0F8"
           },
           "zaxis": {
            "backgroundcolor": "white",
            "gridcolor": "#DFE8F3",
            "gridwidth": 2,
            "linecolor": "#EBF0F8",
            "showbackground": true,
            "ticks": "",
            "zerolinecolor": "#EBF0F8"
           }
          },
          "shapedefaults": {
           "line": {
            "color": "#2a3f5f"
           }
          },
          "ternary": {
           "aaxis": {
            "gridcolor": "#DFE8F3",
            "linecolor": "#A2B1C6",
            "ticks": ""
           },
           "baxis": {
            "gridcolor": "#DFE8F3",
            "linecolor": "#A2B1C6",
            "ticks": ""
           },
           "bgcolor": "white",
           "caxis": {
            "gridcolor": "#DFE8F3",
            "linecolor": "#A2B1C6",
            "ticks": ""
           }
          },
          "title": {
           "x": 0.05
          },
          "xaxis": {
           "automargin": true,
           "gridcolor": "#EBF0F8",
           "linecolor": "#EBF0F8",
           "ticks": "",
           "title": {
            "standoff": 15
           },
           "zerolinecolor": "#EBF0F8",
           "zerolinewidth": 2
          },
          "yaxis": {
           "automargin": true,
           "gridcolor": "#EBF0F8",
           "linecolor": "#EBF0F8",
           "ticks": "",
           "title": {
            "standoff": 15
           },
           "zerolinecolor": "#EBF0F8",
           "zerolinewidth": 2
          }
         }
        },
        "title": {
         "text": "Feature Importances (XGBoost)"
        },
        "width": 800,
        "xaxis": {
         "anchor": "y",
         "domain": [
          0,
          1
         ],
         "title": {
          "text": "Importance Score"
         }
        },
        "yaxis": {
         "anchor": "x",
         "categoryorder": "total ascending",
         "domain": [
          0,
          1
         ],
         "title": {
          "text": "Features"
         }
        }
       }
      }
     },
     "metadata": {},
     "output_type": "display_data"
    }
   ],
   "source": [
    "fig = px.bar(\n",
    "    importance_df,\n",
    "    x='Importance',\n",
    "    y='Feature',\n",
    "    orientation='h',\n",
    "    title='Feature Importances (XGBoost)',\n",
    "    labels={'Importance': 'Importance Score', 'Feature': 'Features'},\n",
    "    template='plotly_white'\n",
    ")\n",
    "\n",
    "fig.update_layout(\n",
    "    height=600,\n",
    "    width=800,\n",
    "    yaxis=dict(categoryorder='total ascending')\n",
    ")\n",
    "\n",
    "fig.show()"
   ]
  },
  {
   "cell_type": "markdown",
   "metadata": {},
   "source": [
    "Again, it can be noticed how the presence of the Discount and the Segment of the market are the most important factor for Sales."
   ]
  },
  {
   "cell_type": "code",
   "execution_count": 59,
   "metadata": {},
   "outputs": [
    {
     "data": {
      "application/vnd.plotly.v1+json": {
       "config": {
        "plotlyServerURL": "https://plot.ly"
       },
       "data": [
        {
         "marker": {
          "size": 8,
          "symbol": "circle"
         },
         "mode": "lines+markers",
         "name": "Actual Sales",
         "type": "scatter",
         "x": [
          1,
          2,
          3,
          4,
          5,
          6,
          7,
          8,
          9,
          10,
          11,
          12,
          13,
          14,
          15,
          16,
          17,
          18,
          19,
          20
         ],
         "y": {
          "bdata": "aiQAAHUTAADsEwAAv4wAACsTAQDyAwoA3fMDAGokAAB5OQAAgRgAALsRAACFOgAABsoEABrlAAB1EwAAVaEJAN4fAgDLHwAAzRAAAPVHAAA=",
          "dtype": "i4"
         }
        },
        {
         "marker": {
          "size": 8,
          "symbol": "x"
         },
         "mode": "lines+markers",
         "name": "Predicted Sales",
         "type": "scatter",
         "x": [
          1,
          2,
          3,
          4,
          5,
          6,
          7,
          8,
          9,
          10,
          11,
          12,
          13,
          14,
          15,
          16,
          17,
          18,
          19,
          20
         ],
         "y": {
          "bdata": "hetRuD6/x0AfhetReD64QClcj8I1erhA9ihcj0qk50CkcD0Kv8P6QHsUrkfqTyVBUrgehfilFEGuR+F6lNnGQNejcD0qP9JAZmZmZobTwEBSuB6Fqwi1QM3MzMxcWNFAZmZmZoXfFEG4HoXruQ3zQPYoXI+CeblAFK5HYVzrJEF7FK5HReUGQc3MzMysxcdAH4XrUbh9tEDD9Shcz8vZQA==",
          "dtype": "f8"
         }
        }
       ],
       "layout": {
        "height": 600,
        "legend": {
         "title": {
          "text": "Legend"
         }
        },
        "template": {
         "data": {
          "bar": [
           {
            "error_x": {
             "color": "#2a3f5f"
            },
            "error_y": {
             "color": "#2a3f5f"
            },
            "marker": {
             "line": {
              "color": "white",
              "width": 0.5
             },
             "pattern": {
              "fillmode": "overlay",
              "size": 10,
              "solidity": 0.2
             }
            },
            "type": "bar"
           }
          ],
          "barpolar": [
           {
            "marker": {
             "line": {
              "color": "white",
              "width": 0.5
             },
             "pattern": {
              "fillmode": "overlay",
              "size": 10,
              "solidity": 0.2
             }
            },
            "type": "barpolar"
           }
          ],
          "carpet": [
           {
            "aaxis": {
             "endlinecolor": "#2a3f5f",
             "gridcolor": "#C8D4E3",
             "linecolor": "#C8D4E3",
             "minorgridcolor": "#C8D4E3",
             "startlinecolor": "#2a3f5f"
            },
            "baxis": {
             "endlinecolor": "#2a3f5f",
             "gridcolor": "#C8D4E3",
             "linecolor": "#C8D4E3",
             "minorgridcolor": "#C8D4E3",
             "startlinecolor": "#2a3f5f"
            },
            "type": "carpet"
           }
          ],
          "choropleth": [
           {
            "colorbar": {
             "outlinewidth": 0,
             "ticks": ""
            },
            "type": "choropleth"
           }
          ],
          "contour": [
           {
            "colorbar": {
             "outlinewidth": 0,
             "ticks": ""
            },
            "colorscale": [
             [
              0,
              "#0d0887"
             ],
             [
              0.1111111111111111,
              "#46039f"
             ],
             [
              0.2222222222222222,
              "#7201a8"
             ],
             [
              0.3333333333333333,
              "#9c179e"
             ],
             [
              0.4444444444444444,
              "#bd3786"
             ],
             [
              0.5555555555555556,
              "#d8576b"
             ],
             [
              0.6666666666666666,
              "#ed7953"
             ],
             [
              0.7777777777777778,
              "#fb9f3a"
             ],
             [
              0.8888888888888888,
              "#fdca26"
             ],
             [
              1,
              "#f0f921"
             ]
            ],
            "type": "contour"
           }
          ],
          "contourcarpet": [
           {
            "colorbar": {
             "outlinewidth": 0,
             "ticks": ""
            },
            "type": "contourcarpet"
           }
          ],
          "heatmap": [
           {
            "colorbar": {
             "outlinewidth": 0,
             "ticks": ""
            },
            "colorscale": [
             [
              0,
              "#0d0887"
             ],
             [
              0.1111111111111111,
              "#46039f"
             ],
             [
              0.2222222222222222,
              "#7201a8"
             ],
             [
              0.3333333333333333,
              "#9c179e"
             ],
             [
              0.4444444444444444,
              "#bd3786"
             ],
             [
              0.5555555555555556,
              "#d8576b"
             ],
             [
              0.6666666666666666,
              "#ed7953"
             ],
             [
              0.7777777777777778,
              "#fb9f3a"
             ],
             [
              0.8888888888888888,
              "#fdca26"
             ],
             [
              1,
              "#f0f921"
             ]
            ],
            "type": "heatmap"
           }
          ],
          "histogram": [
           {
            "marker": {
             "pattern": {
              "fillmode": "overlay",
              "size": 10,
              "solidity": 0.2
             }
            },
            "type": "histogram"
           }
          ],
          "histogram2d": [
           {
            "colorbar": {
             "outlinewidth": 0,
             "ticks": ""
            },
            "colorscale": [
             [
              0,
              "#0d0887"
             ],
             [
              0.1111111111111111,
              "#46039f"
             ],
             [
              0.2222222222222222,
              "#7201a8"
             ],
             [
              0.3333333333333333,
              "#9c179e"
             ],
             [
              0.4444444444444444,
              "#bd3786"
             ],
             [
              0.5555555555555556,
              "#d8576b"
             ],
             [
              0.6666666666666666,
              "#ed7953"
             ],
             [
              0.7777777777777778,
              "#fb9f3a"
             ],
             [
              0.8888888888888888,
              "#fdca26"
             ],
             [
              1,
              "#f0f921"
             ]
            ],
            "type": "histogram2d"
           }
          ],
          "histogram2dcontour": [
           {
            "colorbar": {
             "outlinewidth": 0,
             "ticks": ""
            },
            "colorscale": [
             [
              0,
              "#0d0887"
             ],
             [
              0.1111111111111111,
              "#46039f"
             ],
             [
              0.2222222222222222,
              "#7201a8"
             ],
             [
              0.3333333333333333,
              "#9c179e"
             ],
             [
              0.4444444444444444,
              "#bd3786"
             ],
             [
              0.5555555555555556,
              "#d8576b"
             ],
             [
              0.6666666666666666,
              "#ed7953"
             ],
             [
              0.7777777777777778,
              "#fb9f3a"
             ],
             [
              0.8888888888888888,
              "#fdca26"
             ],
             [
              1,
              "#f0f921"
             ]
            ],
            "type": "histogram2dcontour"
           }
          ],
          "mesh3d": [
           {
            "colorbar": {
             "outlinewidth": 0,
             "ticks": ""
            },
            "type": "mesh3d"
           }
          ],
          "parcoords": [
           {
            "line": {
             "colorbar": {
              "outlinewidth": 0,
              "ticks": ""
             }
            },
            "type": "parcoords"
           }
          ],
          "pie": [
           {
            "automargin": true,
            "type": "pie"
           }
          ],
          "scatter": [
           {
            "fillpattern": {
             "fillmode": "overlay",
             "size": 10,
             "solidity": 0.2
            },
            "type": "scatter"
           }
          ],
          "scatter3d": [
           {
            "line": {
             "colorbar": {
              "outlinewidth": 0,
              "ticks": ""
             }
            },
            "marker": {
             "colorbar": {
              "outlinewidth": 0,
              "ticks": ""
             }
            },
            "type": "scatter3d"
           }
          ],
          "scattercarpet": [
           {
            "marker": {
             "colorbar": {
              "outlinewidth": 0,
              "ticks": ""
             }
            },
            "type": "scattercarpet"
           }
          ],
          "scattergeo": [
           {
            "marker": {
             "colorbar": {
              "outlinewidth": 0,
              "ticks": ""
             }
            },
            "type": "scattergeo"
           }
          ],
          "scattergl": [
           {
            "marker": {
             "colorbar": {
              "outlinewidth": 0,
              "ticks": ""
             }
            },
            "type": "scattergl"
           }
          ],
          "scattermap": [
           {
            "marker": {
             "colorbar": {
              "outlinewidth": 0,
              "ticks": ""
             }
            },
            "type": "scattermap"
           }
          ],
          "scattermapbox": [
           {
            "marker": {
             "colorbar": {
              "outlinewidth": 0,
              "ticks": ""
             }
            },
            "type": "scattermapbox"
           }
          ],
          "scatterpolar": [
           {
            "marker": {
             "colorbar": {
              "outlinewidth": 0,
              "ticks": ""
             }
            },
            "type": "scatterpolar"
           }
          ],
          "scatterpolargl": [
           {
            "marker": {
             "colorbar": {
              "outlinewidth": 0,
              "ticks": ""
             }
            },
            "type": "scatterpolargl"
           }
          ],
          "scatterternary": [
           {
            "marker": {
             "colorbar": {
              "outlinewidth": 0,
              "ticks": ""
             }
            },
            "type": "scatterternary"
           }
          ],
          "surface": [
           {
            "colorbar": {
             "outlinewidth": 0,
             "ticks": ""
            },
            "colorscale": [
             [
              0,
              "#0d0887"
             ],
             [
              0.1111111111111111,
              "#46039f"
             ],
             [
              0.2222222222222222,
              "#7201a8"
             ],
             [
              0.3333333333333333,
              "#9c179e"
             ],
             [
              0.4444444444444444,
              "#bd3786"
             ],
             [
              0.5555555555555556,
              "#d8576b"
             ],
             [
              0.6666666666666666,
              "#ed7953"
             ],
             [
              0.7777777777777778,
              "#fb9f3a"
             ],
             [
              0.8888888888888888,
              "#fdca26"
             ],
             [
              1,
              "#f0f921"
             ]
            ],
            "type": "surface"
           }
          ],
          "table": [
           {
            "cells": {
             "fill": {
              "color": "#EBF0F8"
             },
             "line": {
              "color": "white"
             }
            },
            "header": {
             "fill": {
              "color": "#C8D4E3"
             },
             "line": {
              "color": "white"
             }
            },
            "type": "table"
           }
          ]
         },
         "layout": {
          "annotationdefaults": {
           "arrowcolor": "#2a3f5f",
           "arrowhead": 0,
           "arrowwidth": 1
          },
          "autotypenumbers": "strict",
          "coloraxis": {
           "colorbar": {
            "outlinewidth": 0,
            "ticks": ""
           }
          },
          "colorscale": {
           "diverging": [
            [
             0,
             "#8e0152"
            ],
            [
             0.1,
             "#c51b7d"
            ],
            [
             0.2,
             "#de77ae"
            ],
            [
             0.3,
             "#f1b6da"
            ],
            [
             0.4,
             "#fde0ef"
            ],
            [
             0.5,
             "#f7f7f7"
            ],
            [
             0.6,
             "#e6f5d0"
            ],
            [
             0.7,
             "#b8e186"
            ],
            [
             0.8,
             "#7fbc41"
            ],
            [
             0.9,
             "#4d9221"
            ],
            [
             1,
             "#276419"
            ]
           ],
           "sequential": [
            [
             0,
             "#0d0887"
            ],
            [
             0.1111111111111111,
             "#46039f"
            ],
            [
             0.2222222222222222,
             "#7201a8"
            ],
            [
             0.3333333333333333,
             "#9c179e"
            ],
            [
             0.4444444444444444,
             "#bd3786"
            ],
            [
             0.5555555555555556,
             "#d8576b"
            ],
            [
             0.6666666666666666,
             "#ed7953"
            ],
            [
             0.7777777777777778,
             "#fb9f3a"
            ],
            [
             0.8888888888888888,
             "#fdca26"
            ],
            [
             1,
             "#f0f921"
            ]
           ],
           "sequentialminus": [
            [
             0,
             "#0d0887"
            ],
            [
             0.1111111111111111,
             "#46039f"
            ],
            [
             0.2222222222222222,
             "#7201a8"
            ],
            [
             0.3333333333333333,
             "#9c179e"
            ],
            [
             0.4444444444444444,
             "#bd3786"
            ],
            [
             0.5555555555555556,
             "#d8576b"
            ],
            [
             0.6666666666666666,
             "#ed7953"
            ],
            [
             0.7777777777777778,
             "#fb9f3a"
            ],
            [
             0.8888888888888888,
             "#fdca26"
            ],
            [
             1,
             "#f0f921"
            ]
           ]
          },
          "colorway": [
           "#636efa",
           "#EF553B",
           "#00cc96",
           "#ab63fa",
           "#FFA15A",
           "#19d3f3",
           "#FF6692",
           "#B6E880",
           "#FF97FF",
           "#FECB52"
          ],
          "font": {
           "color": "#2a3f5f"
          },
          "geo": {
           "bgcolor": "white",
           "lakecolor": "white",
           "landcolor": "white",
           "showlakes": true,
           "showland": true,
           "subunitcolor": "#C8D4E3"
          },
          "hoverlabel": {
           "align": "left"
          },
          "hovermode": "closest",
          "mapbox": {
           "style": "light"
          },
          "paper_bgcolor": "white",
          "plot_bgcolor": "white",
          "polar": {
           "angularaxis": {
            "gridcolor": "#EBF0F8",
            "linecolor": "#EBF0F8",
            "ticks": ""
           },
           "bgcolor": "white",
           "radialaxis": {
            "gridcolor": "#EBF0F8",
            "linecolor": "#EBF0F8",
            "ticks": ""
           }
          },
          "scene": {
           "xaxis": {
            "backgroundcolor": "white",
            "gridcolor": "#DFE8F3",
            "gridwidth": 2,
            "linecolor": "#EBF0F8",
            "showbackground": true,
            "ticks": "",
            "zerolinecolor": "#EBF0F8"
           },
           "yaxis": {
            "backgroundcolor": "white",
            "gridcolor": "#DFE8F3",
            "gridwidth": 2,
            "linecolor": "#EBF0F8",
            "showbackground": true,
            "ticks": "",
            "zerolinecolor": "#EBF0F8"
           },
           "zaxis": {
            "backgroundcolor": "white",
            "gridcolor": "#DFE8F3",
            "gridwidth": 2,
            "linecolor": "#EBF0F8",
            "showbackground": true,
            "ticks": "",
            "zerolinecolor": "#EBF0F8"
           }
          },
          "shapedefaults": {
           "line": {
            "color": "#2a3f5f"
           }
          },
          "ternary": {
           "aaxis": {
            "gridcolor": "#DFE8F3",
            "linecolor": "#A2B1C6",
            "ticks": ""
           },
           "baxis": {
            "gridcolor": "#DFE8F3",
            "linecolor": "#A2B1C6",
            "ticks": ""
           },
           "bgcolor": "white",
           "caxis": {
            "gridcolor": "#DFE8F3",
            "linecolor": "#A2B1C6",
            "ticks": ""
           }
          },
          "title": {
           "x": 0.05
          },
          "xaxis": {
           "automargin": true,
           "gridcolor": "#EBF0F8",
           "linecolor": "#EBF0F8",
           "ticks": "",
           "title": {
            "standoff": 15
           },
           "zerolinecolor": "#EBF0F8",
           "zerolinewidth": 2
          },
          "yaxis": {
           "automargin": true,
           "gridcolor": "#EBF0F8",
           "linecolor": "#EBF0F8",
           "ticks": "",
           "title": {
            "standoff": 15
           },
           "zerolinecolor": "#EBF0F8",
           "zerolinewidth": 2
          }
         }
        },
        "title": {
         "text": "Random Forest Regressor: Predicted vs. Actual Sales"
        },
        "width": 800,
        "xaxis": {
         "title": {
          "text": "Row Index (Last 20 Rows)"
         }
        },
        "yaxis": {
         "title": {
          "text": "Sales"
         }
        }
       }
      }
     },
     "metadata": {},
     "output_type": "display_data"
    }
   ],
   "source": [
    "fig = go.Figure()\n",
    "\n",
    "fig.add_trace(go.Scatter(\n",
    "    x=list(range(1, 21)),\n",
    "    y=y_validation.values,\n",
    "    mode='lines+markers',\n",
    "    name='Actual Sales',\n",
    "    marker=dict(symbol='circle', size=8)\n",
    "))\n",
    "\n",
    "fig.add_trace(go.Scatter(\n",
    "    x=list(range(1, 21)),\n",
    "    y=y_pred,\n",
    "    mode='lines+markers',\n",
    "    name='Predicted Sales',\n",
    "    marker=dict(symbol='x', size=8)\n",
    "))\n",
    "\n",
    "fig.update_layout(\n",
    "    title=\"Random Forest Regressor: Predicted vs. Actual Sales\",\n",
    "    xaxis_title=\"Row Index (Last 20 Rows)\",\n",
    "    yaxis_title=\"Sales\",\n",
    "    legend_title=\"Legend\",\n",
    "    template=\"plotly_white\",\n",
    "    width=800,\n",
    "    height=600\n",
    ")\n",
    "\n",
    "fig.show()"
   ]
  },
  {
   "cell_type": "markdown",
   "metadata": {},
   "source": [
    "The Random Forest Regression generates a better training prediction of the Sales, rather than the OLS method."
   ]
  },
  {
   "cell_type": "markdown",
   "metadata": {},
   "source": [
    "#### Gradient Boosting Model"
   ]
  },
  {
   "cell_type": "code",
   "execution_count": 60,
   "metadata": {},
   "outputs": [],
   "source": [
    "model = XGBRegressor()\n",
    "model.fit(X_train, y_train)\n",
    "y_pred = model.predict(X_validation)"
   ]
  },
  {
   "cell_type": "code",
   "execution_count": 61,
   "metadata": {},
   "outputs": [
    {
     "name": "stdout",
     "output_type": "stream",
     "text": [
      "Mean Absolute Error (MAE): 12935.8798828125\n",
      "R-squared (R2): 0.989905595779419\n"
     ]
    }
   ],
   "source": [
    "mae = mean_absolute_error(y_validation, y_pred)\n",
    "r2 = r2_score(y_validation, y_pred)\n",
    "\n",
    "print(f\"Mean Absolute Error (MAE): {mae}\")\n",
    "print(f\"R-squared (R2): {r2}\")"
   ]
  },
  {
   "cell_type": "markdown",
   "metadata": {},
   "source": [
    "R2 is larger and MAE lower than the Random Forest values, it means that the Gradient Boosting model perfroms better on the trainig dataset"
   ]
  },
  {
   "cell_type": "code",
   "execution_count": 62,
   "metadata": {},
   "outputs": [
    {
     "name": "stdout",
     "output_type": "stream",
     "text": [
      "\n",
      "Feature Importances:\n",
      "                             Feature  Importance\n",
      "15                 Discount Band_Low    0.363701\n",
      "1                          Discounts    0.161720\n",
      "5             Segment_Small Business    0.148718\n",
      "2                 Segment_Enterprise    0.139717\n",
      "16              Discount Band_Medium    0.072517\n",
      "9   Country_United States of America    0.022919\n",
      "3                 Segment_Government    0.019535\n",
      "6                     Country_France    0.014537\n",
      "7                    Country_Germany    0.012077\n",
      "8                     Country_Mexico    0.010756\n",
      "4                  Segment_Midmarket    0.008776\n",
      "0                Manufacturing Price    0.007111\n",
      "11                 Product_ Montana     0.006895\n",
      "12                   Product_ Paseo     0.005620\n",
      "14                    Product_ Velo     0.003149\n",
      "13                     Product_ VTT     0.002253\n",
      "10               Product_ Carretera     0.000000\n"
     ]
    }
   ],
   "source": [
    "if not isinstance(X_train, pd.DataFrame):\n",
    "    X_train = pd.DataFrame(X_train, columns=feature_names)\n",
    "\n",
    "feature_importances = model.feature_importances_\n",
    "\n",
    "importance_df = pd.DataFrame({\n",
    "    'Feature': X_train.columns,\n",
    "    'Importance': feature_importances\n",
    "}).sort_values(by='Importance', ascending=False)\n",
    "\n",
    "print(\"\\nFeature Importances:\")\n",
    "print(importance_df)"
   ]
  },
  {
   "cell_type": "code",
   "execution_count": 63,
   "metadata": {},
   "outputs": [
    {
     "data": {
      "application/vnd.plotly.v1+json": {
       "config": {
        "plotlyServerURL": "https://plot.ly"
       },
       "data": [
        {
         "hovertemplate": "Importance Score=%{x}<br>Feature=%{y}<extra></extra>",
         "legendgroup": "",
         "marker": {
          "color": "#636efa",
          "pattern": {
           "shape": ""
          }
         },
         "name": "",
         "orientation": "h",
         "showlegend": false,
         "textposition": "auto",
         "type": "bar",
         "x": {
          "bdata": "DDe6Pg2aJT6RSRg+6REPPtCDlD2yv7s8CQegPBAsbjzI3UU8LjswPInHDzwyB+k7IuzhO3AkuDtpWU47w6sTOwAAAAA=",
          "dtype": "f4"
         },
         "xaxis": "x",
         "y": [
          "Discount Band_Low",
          "Discounts",
          "Segment_Small Business",
          "Segment_Enterprise",
          "Discount Band_Medium",
          "Country_United States of America",
          "Segment_Government",
          "Country_France",
          "Country_Germany",
          "Country_Mexico",
          "Segment_Midmarket",
          "Manufacturing Price",
          "Product_ Montana ",
          "Product_ Paseo ",
          "Product_ Velo ",
          "Product_ VTT ",
          "Product_ Carretera "
         ],
         "yaxis": "y"
        }
       ],
       "layout": {
        "barmode": "relative",
        "height": 600,
        "legend": {
         "tracegroupgap": 0
        },
        "template": {
         "data": {
          "bar": [
           {
            "error_x": {
             "color": "#2a3f5f"
            },
            "error_y": {
             "color": "#2a3f5f"
            },
            "marker": {
             "line": {
              "color": "white",
              "width": 0.5
             },
             "pattern": {
              "fillmode": "overlay",
              "size": 10,
              "solidity": 0.2
             }
            },
            "type": "bar"
           }
          ],
          "barpolar": [
           {
            "marker": {
             "line": {
              "color": "white",
              "width": 0.5
             },
             "pattern": {
              "fillmode": "overlay",
              "size": 10,
              "solidity": 0.2
             }
            },
            "type": "barpolar"
           }
          ],
          "carpet": [
           {
            "aaxis": {
             "endlinecolor": "#2a3f5f",
             "gridcolor": "#C8D4E3",
             "linecolor": "#C8D4E3",
             "minorgridcolor": "#C8D4E3",
             "startlinecolor": "#2a3f5f"
            },
            "baxis": {
             "endlinecolor": "#2a3f5f",
             "gridcolor": "#C8D4E3",
             "linecolor": "#C8D4E3",
             "minorgridcolor": "#C8D4E3",
             "startlinecolor": "#2a3f5f"
            },
            "type": "carpet"
           }
          ],
          "choropleth": [
           {
            "colorbar": {
             "outlinewidth": 0,
             "ticks": ""
            },
            "type": "choropleth"
           }
          ],
          "contour": [
           {
            "colorbar": {
             "outlinewidth": 0,
             "ticks": ""
            },
            "colorscale": [
             [
              0,
              "#0d0887"
             ],
             [
              0.1111111111111111,
              "#46039f"
             ],
             [
              0.2222222222222222,
              "#7201a8"
             ],
             [
              0.3333333333333333,
              "#9c179e"
             ],
             [
              0.4444444444444444,
              "#bd3786"
             ],
             [
              0.5555555555555556,
              "#d8576b"
             ],
             [
              0.6666666666666666,
              "#ed7953"
             ],
             [
              0.7777777777777778,
              "#fb9f3a"
             ],
             [
              0.8888888888888888,
              "#fdca26"
             ],
             [
              1,
              "#f0f921"
             ]
            ],
            "type": "contour"
           }
          ],
          "contourcarpet": [
           {
            "colorbar": {
             "outlinewidth": 0,
             "ticks": ""
            },
            "type": "contourcarpet"
           }
          ],
          "heatmap": [
           {
            "colorbar": {
             "outlinewidth": 0,
             "ticks": ""
            },
            "colorscale": [
             [
              0,
              "#0d0887"
             ],
             [
              0.1111111111111111,
              "#46039f"
             ],
             [
              0.2222222222222222,
              "#7201a8"
             ],
             [
              0.3333333333333333,
              "#9c179e"
             ],
             [
              0.4444444444444444,
              "#bd3786"
             ],
             [
              0.5555555555555556,
              "#d8576b"
             ],
             [
              0.6666666666666666,
              "#ed7953"
             ],
             [
              0.7777777777777778,
              "#fb9f3a"
             ],
             [
              0.8888888888888888,
              "#fdca26"
             ],
             [
              1,
              "#f0f921"
             ]
            ],
            "type": "heatmap"
           }
          ],
          "histogram": [
           {
            "marker": {
             "pattern": {
              "fillmode": "overlay",
              "size": 10,
              "solidity": 0.2
             }
            },
            "type": "histogram"
           }
          ],
          "histogram2d": [
           {
            "colorbar": {
             "outlinewidth": 0,
             "ticks": ""
            },
            "colorscale": [
             [
              0,
              "#0d0887"
             ],
             [
              0.1111111111111111,
              "#46039f"
             ],
             [
              0.2222222222222222,
              "#7201a8"
             ],
             [
              0.3333333333333333,
              "#9c179e"
             ],
             [
              0.4444444444444444,
              "#bd3786"
             ],
             [
              0.5555555555555556,
              "#d8576b"
             ],
             [
              0.6666666666666666,
              "#ed7953"
             ],
             [
              0.7777777777777778,
              "#fb9f3a"
             ],
             [
              0.8888888888888888,
              "#fdca26"
             ],
             [
              1,
              "#f0f921"
             ]
            ],
            "type": "histogram2d"
           }
          ],
          "histogram2dcontour": [
           {
            "colorbar": {
             "outlinewidth": 0,
             "ticks": ""
            },
            "colorscale": [
             [
              0,
              "#0d0887"
             ],
             [
              0.1111111111111111,
              "#46039f"
             ],
             [
              0.2222222222222222,
              "#7201a8"
             ],
             [
              0.3333333333333333,
              "#9c179e"
             ],
             [
              0.4444444444444444,
              "#bd3786"
             ],
             [
              0.5555555555555556,
              "#d8576b"
             ],
             [
              0.6666666666666666,
              "#ed7953"
             ],
             [
              0.7777777777777778,
              "#fb9f3a"
             ],
             [
              0.8888888888888888,
              "#fdca26"
             ],
             [
              1,
              "#f0f921"
             ]
            ],
            "type": "histogram2dcontour"
           }
          ],
          "mesh3d": [
           {
            "colorbar": {
             "outlinewidth": 0,
             "ticks": ""
            },
            "type": "mesh3d"
           }
          ],
          "parcoords": [
           {
            "line": {
             "colorbar": {
              "outlinewidth": 0,
              "ticks": ""
             }
            },
            "type": "parcoords"
           }
          ],
          "pie": [
           {
            "automargin": true,
            "type": "pie"
           }
          ],
          "scatter": [
           {
            "fillpattern": {
             "fillmode": "overlay",
             "size": 10,
             "solidity": 0.2
            },
            "type": "scatter"
           }
          ],
          "scatter3d": [
           {
            "line": {
             "colorbar": {
              "outlinewidth": 0,
              "ticks": ""
             }
            },
            "marker": {
             "colorbar": {
              "outlinewidth": 0,
              "ticks": ""
             }
            },
            "type": "scatter3d"
           }
          ],
          "scattercarpet": [
           {
            "marker": {
             "colorbar": {
              "outlinewidth": 0,
              "ticks": ""
             }
            },
            "type": "scattercarpet"
           }
          ],
          "scattergeo": [
           {
            "marker": {
             "colorbar": {
              "outlinewidth": 0,
              "ticks": ""
             }
            },
            "type": "scattergeo"
           }
          ],
          "scattergl": [
           {
            "marker": {
             "colorbar": {
              "outlinewidth": 0,
              "ticks": ""
             }
            },
            "type": "scattergl"
           }
          ],
          "scattermap": [
           {
            "marker": {
             "colorbar": {
              "outlinewidth": 0,
              "ticks": ""
             }
            },
            "type": "scattermap"
           }
          ],
          "scattermapbox": [
           {
            "marker": {
             "colorbar": {
              "outlinewidth": 0,
              "ticks": ""
             }
            },
            "type": "scattermapbox"
           }
          ],
          "scatterpolar": [
           {
            "marker": {
             "colorbar": {
              "outlinewidth": 0,
              "ticks": ""
             }
            },
            "type": "scatterpolar"
           }
          ],
          "scatterpolargl": [
           {
            "marker": {
             "colorbar": {
              "outlinewidth": 0,
              "ticks": ""
             }
            },
            "type": "scatterpolargl"
           }
          ],
          "scatterternary": [
           {
            "marker": {
             "colorbar": {
              "outlinewidth": 0,
              "ticks": ""
             }
            },
            "type": "scatterternary"
           }
          ],
          "surface": [
           {
            "colorbar": {
             "outlinewidth": 0,
             "ticks": ""
            },
            "colorscale": [
             [
              0,
              "#0d0887"
             ],
             [
              0.1111111111111111,
              "#46039f"
             ],
             [
              0.2222222222222222,
              "#7201a8"
             ],
             [
              0.3333333333333333,
              "#9c179e"
             ],
             [
              0.4444444444444444,
              "#bd3786"
             ],
             [
              0.5555555555555556,
              "#d8576b"
             ],
             [
              0.6666666666666666,
              "#ed7953"
             ],
             [
              0.7777777777777778,
              "#fb9f3a"
             ],
             [
              0.8888888888888888,
              "#fdca26"
             ],
             [
              1,
              "#f0f921"
             ]
            ],
            "type": "surface"
           }
          ],
          "table": [
           {
            "cells": {
             "fill": {
              "color": "#EBF0F8"
             },
             "line": {
              "color": "white"
             }
            },
            "header": {
             "fill": {
              "color": "#C8D4E3"
             },
             "line": {
              "color": "white"
             }
            },
            "type": "table"
           }
          ]
         },
         "layout": {
          "annotationdefaults": {
           "arrowcolor": "#2a3f5f",
           "arrowhead": 0,
           "arrowwidth": 1
          },
          "autotypenumbers": "strict",
          "coloraxis": {
           "colorbar": {
            "outlinewidth": 0,
            "ticks": ""
           }
          },
          "colorscale": {
           "diverging": [
            [
             0,
             "#8e0152"
            ],
            [
             0.1,
             "#c51b7d"
            ],
            [
             0.2,
             "#de77ae"
            ],
            [
             0.3,
             "#f1b6da"
            ],
            [
             0.4,
             "#fde0ef"
            ],
            [
             0.5,
             "#f7f7f7"
            ],
            [
             0.6,
             "#e6f5d0"
            ],
            [
             0.7,
             "#b8e186"
            ],
            [
             0.8,
             "#7fbc41"
            ],
            [
             0.9,
             "#4d9221"
            ],
            [
             1,
             "#276419"
            ]
           ],
           "sequential": [
            [
             0,
             "#0d0887"
            ],
            [
             0.1111111111111111,
             "#46039f"
            ],
            [
             0.2222222222222222,
             "#7201a8"
            ],
            [
             0.3333333333333333,
             "#9c179e"
            ],
            [
             0.4444444444444444,
             "#bd3786"
            ],
            [
             0.5555555555555556,
             "#d8576b"
            ],
            [
             0.6666666666666666,
             "#ed7953"
            ],
            [
             0.7777777777777778,
             "#fb9f3a"
            ],
            [
             0.8888888888888888,
             "#fdca26"
            ],
            [
             1,
             "#f0f921"
            ]
           ],
           "sequentialminus": [
            [
             0,
             "#0d0887"
            ],
            [
             0.1111111111111111,
             "#46039f"
            ],
            [
             0.2222222222222222,
             "#7201a8"
            ],
            [
             0.3333333333333333,
             "#9c179e"
            ],
            [
             0.4444444444444444,
             "#bd3786"
            ],
            [
             0.5555555555555556,
             "#d8576b"
            ],
            [
             0.6666666666666666,
             "#ed7953"
            ],
            [
             0.7777777777777778,
             "#fb9f3a"
            ],
            [
             0.8888888888888888,
             "#fdca26"
            ],
            [
             1,
             "#f0f921"
            ]
           ]
          },
          "colorway": [
           "#636efa",
           "#EF553B",
           "#00cc96",
           "#ab63fa",
           "#FFA15A",
           "#19d3f3",
           "#FF6692",
           "#B6E880",
           "#FF97FF",
           "#FECB52"
          ],
          "font": {
           "color": "#2a3f5f"
          },
          "geo": {
           "bgcolor": "white",
           "lakecolor": "white",
           "landcolor": "white",
           "showlakes": true,
           "showland": true,
           "subunitcolor": "#C8D4E3"
          },
          "hoverlabel": {
           "align": "left"
          },
          "hovermode": "closest",
          "mapbox": {
           "style": "light"
          },
          "paper_bgcolor": "white",
          "plot_bgcolor": "white",
          "polar": {
           "angularaxis": {
            "gridcolor": "#EBF0F8",
            "linecolor": "#EBF0F8",
            "ticks": ""
           },
           "bgcolor": "white",
           "radialaxis": {
            "gridcolor": "#EBF0F8",
            "linecolor": "#EBF0F8",
            "ticks": ""
           }
          },
          "scene": {
           "xaxis": {
            "backgroundcolor": "white",
            "gridcolor": "#DFE8F3",
            "gridwidth": 2,
            "linecolor": "#EBF0F8",
            "showbackground": true,
            "ticks": "",
            "zerolinecolor": "#EBF0F8"
           },
           "yaxis": {
            "backgroundcolor": "white",
            "gridcolor": "#DFE8F3",
            "gridwidth": 2,
            "linecolor": "#EBF0F8",
            "showbackground": true,
            "ticks": "",
            "zerolinecolor": "#EBF0F8"
           },
           "zaxis": {
            "backgroundcolor": "white",
            "gridcolor": "#DFE8F3",
            "gridwidth": 2,
            "linecolor": "#EBF0F8",
            "showbackground": true,
            "ticks": "",
            "zerolinecolor": "#EBF0F8"
           }
          },
          "shapedefaults": {
           "line": {
            "color": "#2a3f5f"
           }
          },
          "ternary": {
           "aaxis": {
            "gridcolor": "#DFE8F3",
            "linecolor": "#A2B1C6",
            "ticks": ""
           },
           "baxis": {
            "gridcolor": "#DFE8F3",
            "linecolor": "#A2B1C6",
            "ticks": ""
           },
           "bgcolor": "white",
           "caxis": {
            "gridcolor": "#DFE8F3",
            "linecolor": "#A2B1C6",
            "ticks": ""
           }
          },
          "title": {
           "x": 0.05
          },
          "xaxis": {
           "automargin": true,
           "gridcolor": "#EBF0F8",
           "linecolor": "#EBF0F8",
           "ticks": "",
           "title": {
            "standoff": 15
           },
           "zerolinecolor": "#EBF0F8",
           "zerolinewidth": 2
          },
          "yaxis": {
           "automargin": true,
           "gridcolor": "#EBF0F8",
           "linecolor": "#EBF0F8",
           "ticks": "",
           "title": {
            "standoff": 15
           },
           "zerolinecolor": "#EBF0F8",
           "zerolinewidth": 2
          }
         }
        },
        "title": {
         "text": "Feature Importances (XGBoost)"
        },
        "width": 800,
        "xaxis": {
         "anchor": "y",
         "domain": [
          0,
          1
         ],
         "title": {
          "text": "Importance Score"
         }
        },
        "yaxis": {
         "anchor": "x",
         "categoryorder": "total ascending",
         "domain": [
          0,
          1
         ],
         "title": {
          "text": "Feature"
         }
        }
       }
      }
     },
     "metadata": {},
     "output_type": "display_data"
    }
   ],
   "source": [
    "fig = px.bar(\n",
    "    importance_df,\n",
    "    x='Importance',\n",
    "    y='Feature',\n",
    "    orientation='h',\n",
    "    title='Feature Importances (XGBoost)',\n",
    "    labels={'Importance': 'Importance Score', 'Feature': 'Feature'},\n",
    "    template='plotly_white'\n",
    ")\n",
    "\n",
    "fig.update_layout(\n",
    "    height=600,\n",
    "    width=800,\n",
    "    yaxis=dict(categoryorder='total ascending')\n",
    ")\n",
    "\n",
    "fig.show()"
   ]
  },
  {
   "cell_type": "code",
   "execution_count": 64,
   "metadata": {},
   "outputs": [
    {
     "data": {
      "application/vnd.plotly.v1+json": {
       "config": {
        "plotlyServerURL": "https://plot.ly"
       },
       "data": [
        {
         "line": {
          "color": "blue"
         },
         "marker": {
          "symbol": "circle"
         },
         "mode": "lines+markers",
         "name": "Actual Sales",
         "type": "scatter",
         "x": [
          1,
          2,
          3,
          4,
          5,
          6,
          7,
          8,
          9,
          10,
          11,
          12,
          13,
          14,
          15,
          16,
          17,
          18,
          19,
          20
         ],
         "y": {
          "bdata": "aiQAAHUTAADsEwAAv4wAACsTAQDyAwoA3fMDAGokAAB5OQAAgRgAALsRAACFOgAABsoEABrlAAB1EwAAVaEJAN4fAgDLHwAAzRAAAPVHAAA=",
          "dtype": "i4"
         }
        },
        {
         "line": {
          "color": "red"
         },
         "marker": {
          "symbol": "x"
         },
         "mode": "lines+markers",
         "name": "Predicted Sales",
         "type": "scatter",
         "x": [
          1,
          2,
          3,
          4,
          5,
          6,
          7,
          8,
          9,
          10,
          11,
          12,
          13,
          14,
          15,
          16,
          17,
          18,
          19,
          20
         ],
         "y": {
          "bdata": "kwJ1RvtvHkbs7KlFvbzBRsBC1kejYRpJi0uZSNMiQ0a+3LdG+In6RVsbL0aOyZdGWVmbSNgzbEcJXDhG7JEUSY/ALUhGc0lGWsidRT6Q9EY=",
          "dtype": "f4"
         }
        }
       ],
       "layout": {
        "height": 600,
        "legend": {
         "title": {
          "text": "Legend"
         }
        },
        "template": {
         "data": {
          "bar": [
           {
            "error_x": {
             "color": "#2a3f5f"
            },
            "error_y": {
             "color": "#2a3f5f"
            },
            "marker": {
             "line": {
              "color": "white",
              "width": 0.5
             },
             "pattern": {
              "fillmode": "overlay",
              "size": 10,
              "solidity": 0.2
             }
            },
            "type": "bar"
           }
          ],
          "barpolar": [
           {
            "marker": {
             "line": {
              "color": "white",
              "width": 0.5
             },
             "pattern": {
              "fillmode": "overlay",
              "size": 10,
              "solidity": 0.2
             }
            },
            "type": "barpolar"
           }
          ],
          "carpet": [
           {
            "aaxis": {
             "endlinecolor": "#2a3f5f",
             "gridcolor": "#C8D4E3",
             "linecolor": "#C8D4E3",
             "minorgridcolor": "#C8D4E3",
             "startlinecolor": "#2a3f5f"
            },
            "baxis": {
             "endlinecolor": "#2a3f5f",
             "gridcolor": "#C8D4E3",
             "linecolor": "#C8D4E3",
             "minorgridcolor": "#C8D4E3",
             "startlinecolor": "#2a3f5f"
            },
            "type": "carpet"
           }
          ],
          "choropleth": [
           {
            "colorbar": {
             "outlinewidth": 0,
             "ticks": ""
            },
            "type": "choropleth"
           }
          ],
          "contour": [
           {
            "colorbar": {
             "outlinewidth": 0,
             "ticks": ""
            },
            "colorscale": [
             [
              0,
              "#0d0887"
             ],
             [
              0.1111111111111111,
              "#46039f"
             ],
             [
              0.2222222222222222,
              "#7201a8"
             ],
             [
              0.3333333333333333,
              "#9c179e"
             ],
             [
              0.4444444444444444,
              "#bd3786"
             ],
             [
              0.5555555555555556,
              "#d8576b"
             ],
             [
              0.6666666666666666,
              "#ed7953"
             ],
             [
              0.7777777777777778,
              "#fb9f3a"
             ],
             [
              0.8888888888888888,
              "#fdca26"
             ],
             [
              1,
              "#f0f921"
             ]
            ],
            "type": "contour"
           }
          ],
          "contourcarpet": [
           {
            "colorbar": {
             "outlinewidth": 0,
             "ticks": ""
            },
            "type": "contourcarpet"
           }
          ],
          "heatmap": [
           {
            "colorbar": {
             "outlinewidth": 0,
             "ticks": ""
            },
            "colorscale": [
             [
              0,
              "#0d0887"
             ],
             [
              0.1111111111111111,
              "#46039f"
             ],
             [
              0.2222222222222222,
              "#7201a8"
             ],
             [
              0.3333333333333333,
              "#9c179e"
             ],
             [
              0.4444444444444444,
              "#bd3786"
             ],
             [
              0.5555555555555556,
              "#d8576b"
             ],
             [
              0.6666666666666666,
              "#ed7953"
             ],
             [
              0.7777777777777778,
              "#fb9f3a"
             ],
             [
              0.8888888888888888,
              "#fdca26"
             ],
             [
              1,
              "#f0f921"
             ]
            ],
            "type": "heatmap"
           }
          ],
          "histogram": [
           {
            "marker": {
             "pattern": {
              "fillmode": "overlay",
              "size": 10,
              "solidity": 0.2
             }
            },
            "type": "histogram"
           }
          ],
          "histogram2d": [
           {
            "colorbar": {
             "outlinewidth": 0,
             "ticks": ""
            },
            "colorscale": [
             [
              0,
              "#0d0887"
             ],
             [
              0.1111111111111111,
              "#46039f"
             ],
             [
              0.2222222222222222,
              "#7201a8"
             ],
             [
              0.3333333333333333,
              "#9c179e"
             ],
             [
              0.4444444444444444,
              "#bd3786"
             ],
             [
              0.5555555555555556,
              "#d8576b"
             ],
             [
              0.6666666666666666,
              "#ed7953"
             ],
             [
              0.7777777777777778,
              "#fb9f3a"
             ],
             [
              0.8888888888888888,
              "#fdca26"
             ],
             [
              1,
              "#f0f921"
             ]
            ],
            "type": "histogram2d"
           }
          ],
          "histogram2dcontour": [
           {
            "colorbar": {
             "outlinewidth": 0,
             "ticks": ""
            },
            "colorscale": [
             [
              0,
              "#0d0887"
             ],
             [
              0.1111111111111111,
              "#46039f"
             ],
             [
              0.2222222222222222,
              "#7201a8"
             ],
             [
              0.3333333333333333,
              "#9c179e"
             ],
             [
              0.4444444444444444,
              "#bd3786"
             ],
             [
              0.5555555555555556,
              "#d8576b"
             ],
             [
              0.6666666666666666,
              "#ed7953"
             ],
             [
              0.7777777777777778,
              "#fb9f3a"
             ],
             [
              0.8888888888888888,
              "#fdca26"
             ],
             [
              1,
              "#f0f921"
             ]
            ],
            "type": "histogram2dcontour"
           }
          ],
          "mesh3d": [
           {
            "colorbar": {
             "outlinewidth": 0,
             "ticks": ""
            },
            "type": "mesh3d"
           }
          ],
          "parcoords": [
           {
            "line": {
             "colorbar": {
              "outlinewidth": 0,
              "ticks": ""
             }
            },
            "type": "parcoords"
           }
          ],
          "pie": [
           {
            "automargin": true,
            "type": "pie"
           }
          ],
          "scatter": [
           {
            "fillpattern": {
             "fillmode": "overlay",
             "size": 10,
             "solidity": 0.2
            },
            "type": "scatter"
           }
          ],
          "scatter3d": [
           {
            "line": {
             "colorbar": {
              "outlinewidth": 0,
              "ticks": ""
             }
            },
            "marker": {
             "colorbar": {
              "outlinewidth": 0,
              "ticks": ""
             }
            },
            "type": "scatter3d"
           }
          ],
          "scattercarpet": [
           {
            "marker": {
             "colorbar": {
              "outlinewidth": 0,
              "ticks": ""
             }
            },
            "type": "scattercarpet"
           }
          ],
          "scattergeo": [
           {
            "marker": {
             "colorbar": {
              "outlinewidth": 0,
              "ticks": ""
             }
            },
            "type": "scattergeo"
           }
          ],
          "scattergl": [
           {
            "marker": {
             "colorbar": {
              "outlinewidth": 0,
              "ticks": ""
             }
            },
            "type": "scattergl"
           }
          ],
          "scattermap": [
           {
            "marker": {
             "colorbar": {
              "outlinewidth": 0,
              "ticks": ""
             }
            },
            "type": "scattermap"
           }
          ],
          "scattermapbox": [
           {
            "marker": {
             "colorbar": {
              "outlinewidth": 0,
              "ticks": ""
             }
            },
            "type": "scattermapbox"
           }
          ],
          "scatterpolar": [
           {
            "marker": {
             "colorbar": {
              "outlinewidth": 0,
              "ticks": ""
             }
            },
            "type": "scatterpolar"
           }
          ],
          "scatterpolargl": [
           {
            "marker": {
             "colorbar": {
              "outlinewidth": 0,
              "ticks": ""
             }
            },
            "type": "scatterpolargl"
           }
          ],
          "scatterternary": [
           {
            "marker": {
             "colorbar": {
              "outlinewidth": 0,
              "ticks": ""
             }
            },
            "type": "scatterternary"
           }
          ],
          "surface": [
           {
            "colorbar": {
             "outlinewidth": 0,
             "ticks": ""
            },
            "colorscale": [
             [
              0,
              "#0d0887"
             ],
             [
              0.1111111111111111,
              "#46039f"
             ],
             [
              0.2222222222222222,
              "#7201a8"
             ],
             [
              0.3333333333333333,
              "#9c179e"
             ],
             [
              0.4444444444444444,
              "#bd3786"
             ],
             [
              0.5555555555555556,
              "#d8576b"
             ],
             [
              0.6666666666666666,
              "#ed7953"
             ],
             [
              0.7777777777777778,
              "#fb9f3a"
             ],
             [
              0.8888888888888888,
              "#fdca26"
             ],
             [
              1,
              "#f0f921"
             ]
            ],
            "type": "surface"
           }
          ],
          "table": [
           {
            "cells": {
             "fill": {
              "color": "#EBF0F8"
             },
             "line": {
              "color": "white"
             }
            },
            "header": {
             "fill": {
              "color": "#C8D4E3"
             },
             "line": {
              "color": "white"
             }
            },
            "type": "table"
           }
          ]
         },
         "layout": {
          "annotationdefaults": {
           "arrowcolor": "#2a3f5f",
           "arrowhead": 0,
           "arrowwidth": 1
          },
          "autotypenumbers": "strict",
          "coloraxis": {
           "colorbar": {
            "outlinewidth": 0,
            "ticks": ""
           }
          },
          "colorscale": {
           "diverging": [
            [
             0,
             "#8e0152"
            ],
            [
             0.1,
             "#c51b7d"
            ],
            [
             0.2,
             "#de77ae"
            ],
            [
             0.3,
             "#f1b6da"
            ],
            [
             0.4,
             "#fde0ef"
            ],
            [
             0.5,
             "#f7f7f7"
            ],
            [
             0.6,
             "#e6f5d0"
            ],
            [
             0.7,
             "#b8e186"
            ],
            [
             0.8,
             "#7fbc41"
            ],
            [
             0.9,
             "#4d9221"
            ],
            [
             1,
             "#276419"
            ]
           ],
           "sequential": [
            [
             0,
             "#0d0887"
            ],
            [
             0.1111111111111111,
             "#46039f"
            ],
            [
             0.2222222222222222,
             "#7201a8"
            ],
            [
             0.3333333333333333,
             "#9c179e"
            ],
            [
             0.4444444444444444,
             "#bd3786"
            ],
            [
             0.5555555555555556,
             "#d8576b"
            ],
            [
             0.6666666666666666,
             "#ed7953"
            ],
            [
             0.7777777777777778,
             "#fb9f3a"
            ],
            [
             0.8888888888888888,
             "#fdca26"
            ],
            [
             1,
             "#f0f921"
            ]
           ],
           "sequentialminus": [
            [
             0,
             "#0d0887"
            ],
            [
             0.1111111111111111,
             "#46039f"
            ],
            [
             0.2222222222222222,
             "#7201a8"
            ],
            [
             0.3333333333333333,
             "#9c179e"
            ],
            [
             0.4444444444444444,
             "#bd3786"
            ],
            [
             0.5555555555555556,
             "#d8576b"
            ],
            [
             0.6666666666666666,
             "#ed7953"
            ],
            [
             0.7777777777777778,
             "#fb9f3a"
            ],
            [
             0.8888888888888888,
             "#fdca26"
            ],
            [
             1,
             "#f0f921"
            ]
           ]
          },
          "colorway": [
           "#636efa",
           "#EF553B",
           "#00cc96",
           "#ab63fa",
           "#FFA15A",
           "#19d3f3",
           "#FF6692",
           "#B6E880",
           "#FF97FF",
           "#FECB52"
          ],
          "font": {
           "color": "#2a3f5f"
          },
          "geo": {
           "bgcolor": "white",
           "lakecolor": "white",
           "landcolor": "white",
           "showlakes": true,
           "showland": true,
           "subunitcolor": "#C8D4E3"
          },
          "hoverlabel": {
           "align": "left"
          },
          "hovermode": "closest",
          "mapbox": {
           "style": "light"
          },
          "paper_bgcolor": "white",
          "plot_bgcolor": "white",
          "polar": {
           "angularaxis": {
            "gridcolor": "#EBF0F8",
            "linecolor": "#EBF0F8",
            "ticks": ""
           },
           "bgcolor": "white",
           "radialaxis": {
            "gridcolor": "#EBF0F8",
            "linecolor": "#EBF0F8",
            "ticks": ""
           }
          },
          "scene": {
           "xaxis": {
            "backgroundcolor": "white",
            "gridcolor": "#DFE8F3",
            "gridwidth": 2,
            "linecolor": "#EBF0F8",
            "showbackground": true,
            "ticks": "",
            "zerolinecolor": "#EBF0F8"
           },
           "yaxis": {
            "backgroundcolor": "white",
            "gridcolor": "#DFE8F3",
            "gridwidth": 2,
            "linecolor": "#EBF0F8",
            "showbackground": true,
            "ticks": "",
            "zerolinecolor": "#EBF0F8"
           },
           "zaxis": {
            "backgroundcolor": "white",
            "gridcolor": "#DFE8F3",
            "gridwidth": 2,
            "linecolor": "#EBF0F8",
            "showbackground": true,
            "ticks": "",
            "zerolinecolor": "#EBF0F8"
           }
          },
          "shapedefaults": {
           "line": {
            "color": "#2a3f5f"
           }
          },
          "ternary": {
           "aaxis": {
            "gridcolor": "#DFE8F3",
            "linecolor": "#A2B1C6",
            "ticks": ""
           },
           "baxis": {
            "gridcolor": "#DFE8F3",
            "linecolor": "#A2B1C6",
            "ticks": ""
           },
           "bgcolor": "white",
           "caxis": {
            "gridcolor": "#DFE8F3",
            "linecolor": "#A2B1C6",
            "ticks": ""
           }
          },
          "title": {
           "x": 0.05
          },
          "xaxis": {
           "automargin": true,
           "gridcolor": "#EBF0F8",
           "linecolor": "#EBF0F8",
           "ticks": "",
           "title": {
            "standoff": 15
           },
           "zerolinecolor": "#EBF0F8",
           "zerolinewidth": 2
          },
          "yaxis": {
           "automargin": true,
           "gridcolor": "#EBF0F8",
           "linecolor": "#EBF0F8",
           "ticks": "",
           "title": {
            "standoff": 15
           },
           "zerolinecolor": "#EBF0F8",
           "zerolinewidth": 2
          }
         }
        },
        "title": {
         "text": "Predicted vs. Actual Sales"
        },
        "width": 800,
        "xaxis": {
         "title": {
          "text": "Row Index (Last 20 Rows)"
         }
        },
        "yaxis": {
         "title": {
          "text": "Sales"
         }
        }
       }
      }
     },
     "metadata": {},
     "output_type": "display_data"
    }
   ],
   "source": [
    "fig = go.Figure()\n",
    "\n",
    "fig.add_trace(go.Scatter(\n",
    "    x=list(range(1, len(y_validation) + 1)),\n",
    "    y=y_validation,\n",
    "    mode='lines+markers',\n",
    "    name='Actual Sales',\n",
    "    line=dict(color='blue'),\n",
    "    marker=dict(symbol='circle')\n",
    "))\n",
    "\n",
    "fig.add_trace(go.Scatter(\n",
    "    x=list(range(1, len(y_pred) + 1)),\n",
    "    y=y_pred,\n",
    "    mode='lines+markers',\n",
    "    name='Predicted Sales',\n",
    "    line=dict(color='red'),\n",
    "    marker=dict(symbol='x')\n",
    "))\n",
    "\n",
    "fig.update_layout(\n",
    "    title='Predicted vs. Actual Sales',\n",
    "    xaxis_title='Row Index (Last 20 Rows)',\n",
    "    yaxis_title='Sales',\n",
    "    legend_title='Legend',\n",
    "    template='plotly_white',\n",
    "    width=800,\n",
    "    height=600\n",
    ")\n",
    "\n",
    "fig.show()"
   ]
  },
  {
   "cell_type": "markdown",
   "metadata": {},
   "source": [
    "It can be easily noticed that the Gradient Boosting model performs a highly better training prediction of the Sales."
   ]
  },
  {
   "cell_type": "markdown",
   "metadata": {},
   "source": [
    "# 6. Conclusion"
   ]
  },
  {
   "cell_type": "markdown",
   "metadata": {},
   "source": [
    "From the analyses performed in the previous sections, it can be noticed that sales showed significant fluctuations over time with the peak period coinciding with October, indicating the possibility of using seasonally based marketing campaigns and inventory optimization.\n",
    "\n",
    "Certain market segments consistently outperformed others in terms of sales volume and profitability, highlighting the importance of segment-specific strategies, rather than geographical strategies.\n",
    "\n",
    "It is noted that a group of products (Paseo and VTT) constitutes a huge fraction of revenue, meaning concentrating on them could improve profitability.\n",
    "Further statistical analyses indicated a relationship between discount rates and sales volumes. However, excessive discounting negatively impacted overall profitability, emphasizing the need for a balanced pricing strategy.\n",
    "\n",
    "Recommendations:\n",
    "- Specific campaigns should be designed for high sales periods to maximize revenue.\n",
    "- Increase production and promotion of top-selling bicycles (Paseo) and increase the selling in the two most important segments (Small Business and Government) to drive sustained growth.\n",
    "- Implementing a discount strategy increases sales, but it is important to have a balance to avoid revenue dilution.\n",
    "Therefore, through these insights the firm may reshape its business model to improve sales efficiency, and achieve sustained revenue growth in the competitive cycling market.\n"
   ]
  }
 ],
 "metadata": {
  "kernelspec": {
   "display_name": "venv",
   "language": "python",
   "name": "python3"
  },
  "language_info": {
   "codemirror_mode": {
    "name": "ipython",
    "version": 3
   },
   "file_extension": ".py",
   "mimetype": "text/x-python",
   "name": "python",
   "nbconvert_exporter": "python",
   "pygments_lexer": "ipython3",
   "version": "3.12.7"
  }
 },
 "nbformat": 4,
 "nbformat_minor": 2
}
